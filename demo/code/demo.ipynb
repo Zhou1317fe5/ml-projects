{
 "cells": [
  {
   "cell_type": "markdown",
   "metadata": {},
   "source": [
    "1. 数据读取和预处理，得到 Dataset 和 DataLoader\n",
    "2. 构建 Model、Optimizer\n",
    "3. 使用随机梯度下降迭代优化模型参数\n",
    "4. 设置 Metric，对模型进行评测"
   ]
  }
 ],
 "metadata": {
  "kernelspec": {
   "display_name": "mlenv",
   "language": "python",
   "name": "mlenv"
  },
  "language_info": {
   "codemirror_mode": {
    "name": "ipython",
    "version": 3
   },
   "file_extension": ".py",
   "mimetype": "text/x-python",
   "name": "python",
   "nbconvert_exporter": "python",
   "pygments_lexer": "ipython3",
   "version": "3.7.6"
  }
 },
 "nbformat": 4,
 "nbformat_minor": 4
}
