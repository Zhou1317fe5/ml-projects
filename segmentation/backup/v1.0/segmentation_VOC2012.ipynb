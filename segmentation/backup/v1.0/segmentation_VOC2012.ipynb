{
 "cells": [
  {
   "cell_type": "code",
   "execution_count": 1,
   "id": "bcc28cd5",
   "metadata": {
    "execution": {
     "iopub.execute_input": "2025-07-21T11:28:51.204191Z",
     "iopub.status.busy": "2025-07-21T11:28:51.203983Z",
     "iopub.status.idle": "2025-07-21T11:29:00.035798Z",
     "shell.execute_reply": "2025-07-21T11:29:00.034980Z"
    },
    "id": "dHiO4cGZxCTu",
    "papermill": {
     "duration": 8.837159,
     "end_time": "2025-07-21T11:29:00.037286",
     "exception": false,
     "start_time": "2025-07-21T11:28:51.200127",
     "status": "completed"
    },
    "tags": []
   },
   "outputs": [],
   "source": [
    "import torch\n",
    "import torchvision\n",
    "import torchvision.transforms as transforms\n",
    "import os\n",
    "from PIL import Image\n",
    "import numpy as np\n",
    "import torch\n",
    "from torch.utils.data import Dataset\n",
    "from torchvision import transforms as T\n",
    "from torch.utils.data import Dataset, DataLoader\n",
    "from tqdm import tqdm\n",
    "device = torch.device(\"cuda\" if torch.cuda.is_available() else \"cpu\")"
   ]
  },
  {
   "cell_type": "code",
   "execution_count": 2,
   "id": "cf926bbc",
   "metadata": {
    "execution": {
     "iopub.execute_input": "2025-07-21T11:29:00.044102Z",
     "iopub.status.busy": "2025-07-21T11:29:00.043437Z",
     "iopub.status.idle": "2025-07-21T11:29:00.046955Z",
     "shell.execute_reply": "2025-07-21T11:29:00.046422Z"
    },
    "papermill": {
     "duration": 0.007699,
     "end_time": "2025-07-21T11:29:00.048034",
     "exception": false,
     "start_time": "2025-07-21T11:29:00.040335",
     "status": "completed"
    },
    "tags": []
   },
   "outputs": [],
   "source": [
    "VOC_ROOT = '/kaggle/input/pascal-voc-2012/VOC2012'  # PASCAL VOC数据集的根目录"
   ]
  },
  {
   "cell_type": "code",
   "execution_count": 3,
   "id": "ea4bd2b1",
   "metadata": {
    "execution": {
     "iopub.execute_input": "2025-07-21T11:29:00.053565Z",
     "iopub.status.busy": "2025-07-21T11:29:00.053369Z",
     "iopub.status.idle": "2025-07-21T11:29:00.059230Z",
     "shell.execute_reply": "2025-07-21T11:29:00.058753Z"
    },
    "papermill": {
     "duration": 0.009704,
     "end_time": "2025-07-21T11:29:00.060169",
     "exception": false,
     "start_time": "2025-07-21T11:29:00.050465",
     "status": "completed"
    },
    "tags": []
   },
   "outputs": [],
   "source": [
    "class PascalVOCDataset(Dataset):\n",
    "    def __init__(self, root, image_set='train', transform=None, target_transform=None):\n",
    "        self.root = root\n",
    "        self.image_set = image_set\n",
    "        self.transform = transform\n",
    "        self.target_transform = target_transform\n",
    "        \n",
    "        # 读取图像ID列表\n",
    "        image_set_file = os.path.join(self.root, 'ImageSets/Segmentation', f'{self.image_set}.txt')\n",
    "        with open(image_set_file, 'r') as f:\n",
    "            self.images = [line.strip() for line in f.readlines()] # 将文件中的每一行都读出来，去掉换行符，然后存入一个 Python 列表中。如['2007_000032', '2007_000039', '2007_000063', '2007_000121', ...]\n",
    "    \n",
    "    def __len__(self):\n",
    "        return len(self.images)\n",
    "    \n",
    "    def __getitem__(self, idx):\n",
    "        # 获取图像和掩码路径\n",
    "        image_id = self.images[idx]\n",
    "        image_path = os.path.join(self.root, 'JPEGImages', f'{image_id}.jpg')\n",
    "        mask_path = os.path.join(self.root, 'SegmentationClass', f'{image_id}.png')\n",
    "        \n",
    "        # 读取图像和掩码\n",
    "        image = Image.open(image_path).convert('RGB')\n",
    "        mask = Image.open(mask_path)\n",
    "        \n",
    "        # 应用变换\n",
    "        if self.transform:\n",
    "            image = self.transform(image)\n",
    "        if self.target_transform:\n",
    "            mask = self.target_transform(mask)\n",
    "        \n",
    "        # PASCAL VOC的掩码是调色板模式，不是RGB值，而是一个二维数组，需要转换为NumPy数组来获取类别索引\n",
    "        mask = np.array(mask, dtype=np.int64)\n",
    "\n",
    "        # 直接将NumPy数组转换为PyTorch张量\n",
    "        mask = torch.from_numpy(mask)\n",
    "        return image, mask"
   ]
  },
  {
   "cell_type": "markdown",
   "id": "fcc6b9c8",
   "metadata": {
    "papermill": {
     "duration": 0.002204,
     "end_time": "2025-07-21T11:29:00.064806",
     "exception": false,
     "start_time": "2025-07-21T11:29:00.062602",
     "status": "completed"
    },
    "tags": []
   },
   "source": [
    "`mask = np.array(mask, dtype=np.int64)`\n",
    "- 作用：PASCAL VOC的分割掩码（SegmentationClass里的.png文件）是一种特殊的“调色板模式”（Palette mode, 'P' mode）图像。你用肉眼看它是有各种颜色的，但它实际存储的不是RGB值，而是一个二维数组，数组里每个位置的值是该像素颜色在“调色板”中的索引。\n",
    "- PASCAL VOC非常巧妙地将类别ID设置为了这个索引。所以，类别为0（背景）的像素，其索引值就是0；类别为1（飞机）的像素，其索引值就是1；...；而物体边界的特殊颜色，其索引值被设定为255。\n",
    "- np.array(mask) 这行代码就是将这个PIL图像直接转换成一个包含这些索引值的NumPy二维数组。我们得到的 mask 就直接是一个 [H, W] 的矩阵，里面的值是 0, 1, 2, ..., 20 和 255。"
   ]
  },
  {
   "cell_type": "markdown",
   "id": "5ec13d2c",
   "metadata": {
    "papermill": {
     "duration": 0.002132,
     "end_time": "2025-07-21T11:29:00.069249",
     "exception": false,
     "start_time": "2025-07-21T11:29:00.067117",
     "status": "completed"
    },
    "tags": []
   },
   "source": [
    "\n",
    "\n",
    "问题一：既然是全卷积网络，为什么还要 `Resize`？\n",
    "\n",
    "1. **批处理 (Batching) 的需要**\n",
    "这是最主要、最根本的原因。为了高效利用GPU进行并行计算，我们不会一张一张地训练图像，而是将多张图像组成一个**批次 (batch)** 一起送入网络。\n",
    "\n",
    "*   一个批次的数据在PyTorch中是一个单一的Tensor，例如 `(batch_size, channels, height, width)`，即 `(8, 3, 256, 256)`。\n",
    "*   **一个Tensor中的所有元素必须具有相同的维度。** 你不能把一张 `256x256` 的图像和一张 `512x300` 的图像堆叠（stack）成一个批次。\n",
    "*   因此，为了能将多张原始尺寸各不相同的图像打包成一个batch，我们必须在数据预处理阶段将它们`Resize`成一个统一的尺寸。\n",
    "\n",
    "2. **内存管理与可预测性**\n",
    "GPU的显存是有限的。\n",
    "*   如果输入图像尺寸不固定，那么网络中间层产生的特征图尺寸也会变化，导致每一批次占用的显存大小也随之波动。\n",
    "*   一张非常大的输入图像可能会直接导致显存溢出（Out of Memory, OOM），使训练崩溃。\n",
    "*   通过`Resize`到一个固定的、中等大小的尺寸（如 `256x256` 或 `512x512`），我们可以精确地计算出模型需要的显存，并选择一个不会导致OOM的最大的`batch_size`，从而稳定、高效地进行训练。\n",
    "\n",
    "3. **训练效率与稳定性**\n",
    "*   处理大尺寸图像会消耗更多的计算资源，减慢训练速度。\n",
    "*   将所有图像统一到一个中等尺寸，可以平衡细节保留和训练效率。对于PASCAL VOC这类数据集，`256x256`或`512x512`已经足够保留大部分物体的关键特征。\n",
    "\n",
    "4. **转置卷积参数的固定**\n",
    "我们之前在设计`FCN_AlexNet`时，上采样层`nn.ConvTranspose2d`的参数（`kernel_size`, `stride`, `padding`）是**为了将一个特定尺寸的特征图恢复到另一个特定尺寸而精心计算的**。\n",
    "\n",
    "```python\n",
    "# 对于 256x256 输入，下采样8倍后是 32x32\n",
    "# kernel_size=16, stride=8, padding=4 可以将 32x32 恢复到 256x256\n",
    "self.upsampler = nn.ConvTranspose2d(..., kernel_size=16, stride=8, padding=4)\n",
    "```\n",
    "如果输入尺寸变化，比如变成`257x257`，下采样8倍后会变成`32x32`（整数除法），但上采样恢复后尺寸可能就不再是`257x257`了，会导致输出和标签掩码尺寸不匹配。虽然FCN原文中提到了用裁剪（cropping）来解决这个问题，但这会增加实现的复杂性。在训练阶段固定输入尺寸，可以大大简化上采样模块的设计。\n",
    "\n",
    "**总结**：`Resize`主要是为了**满足批处理的要求**，并带来**稳定的内存占用**和**高效的训练速度**。虽然牺牲了FCN处理任意尺寸输入的灵活性，但在训练阶段，这些工程上的好处远大于其带来的限制。在**推理（inference）阶段**，你完全可以加载训练好的模型，输入一张任意尺寸的图片进行分割。\n",
    "\n",
    "---\n",
    "\n",
    "问题二：`interpolation=transforms.InterpolationMode.NEAREST` 的作用是什么？\n",
    "\n",
    "这个参数指定了在调整图像尺寸时使用的**插值算法**。插值算法决定了当一个像素点被映射到新尺寸图像的非整数坐标时，如何计算它的新像素值。\n",
    "\n",
    "让我们用一个简单的例子来说明：\n",
    "\n",
    "假设我们要把一个 `2x2` 的图像放大到 `4x4`。\n",
    "\n",
    "**原始图像 (掩码)**\n",
    "```\n",
    "[[1, 2],\n",
    " [3, 4]]\n",
    "```\n",
    "这里的 `1, 2, 3, 4` 代表不同的物体类别（比如1=天空, 2=建筑, 3=道路, 4=汽车）。\n",
    "\n",
    "1. **默认插值：双线性插值 (Bilinear Interpolation)**\n",
    "这是`transforms.Resize`对普通RGB图像的默认方法。它会考虑周围4个像素点的值，并根据距离进行加权平均。\n",
    "\n",
    "*   在新图像的某个位置，它可能会计算出 `(1+2)/2 = 1.5` 这样的值。\n",
    "*   对于RGB图像，`1.5` 是一个有效的颜色值，它会让颜色过渡更平滑，看起来更自然。\n",
    "*   但对于我们的**分割掩码**，`1.5` 是一个**灾难**！它既不是类别1（天空），也不是类别2（建筑），而是一个**不存在的、无意义的类别**。这会彻底搞乱我们的标签。\n",
    "\n",
    "2. **最近邻插值 (Nearest Neighbor Interpolation)**\n",
    "这就是 `interpolation=NEAREST` 的作用。它非常简单直接：**新位置的像素值，直接等于它在原始图像中最近的那个像素点的值。**\n",
    "\n",
    "*   它不会创造任何新的值。输出图像中的所有像素值，都必然是原始图像中已经存在的值。\n",
    "*   对于我们的掩码，这意味着放大后的掩码中，像素值只可能是 `1, 2, 3, 4` 中的一个。它完美地保留了类别的离散型和完整性。\n",
    "\n"
   ]
  },
  {
   "cell_type": "code",
   "execution_count": 4,
   "id": "df5d1436",
   "metadata": {
    "execution": {
     "iopub.execute_input": "2025-07-21T11:29:00.074582Z",
     "iopub.status.busy": "2025-07-21T11:29:00.074393Z",
     "iopub.status.idle": "2025-07-21T11:29:00.118623Z",
     "shell.execute_reply": "2025-07-21T11:29:00.118109Z"
    },
    "papermill": {
     "duration": 0.048212,
     "end_time": "2025-07-21T11:29:00.119742",
     "exception": false,
     "start_time": "2025-07-21T11:29:00.071530",
     "status": "completed"
    },
    "tags": []
   },
   "outputs": [],
   "source": [
    "IMAGE_SIZE= (256, 256)\n",
    "BATCH_SIZE = 64\n",
    "# 对图像的变换\n",
    "image_transform = transforms.Compose([\n",
    "    transforms.Resize(IMAGE_SIZE),\n",
    "    transforms.ToTensor(),\n",
    "    transforms.Normalize(mean=[0.485, 0.456, 0.406], std=[0.229, 0.224, 0.225])\n",
    "])\n",
    "# 对掩码的变换\n",
    "# 注意：对掩码只能进行尺寸变换，不能进行归一化等操作\n",
    "# interpolation=NEAREST 保证缩放后不会产生新的类别值\n",
    "mask_transform = transforms.Compose([\n",
    "    transforms.Resize(IMAGE_SIZE, interpolation=transforms.InterpolationMode.NEAREST)\n",
    "])\n",
    "\n",
    "# 准备数据集和数据加载器\n",
    "train_dataset = PascalVOCDataset(root=VOC_ROOT, image_set='train', transform=image_transform, target_transform=mask_transform)\n",
    "val_dataset = PascalVOCDataset(root=VOC_ROOT, image_set='val', transform=image_transform, target_transform=mask_transform)\n",
    "train_loader = DataLoader(train_dataset, batch_size=BATCH_SIZE, shuffle=True, num_workers=0)\n",
    "val_loader = DataLoader(val_dataset, batch_size=BATCH_SIZE, shuffle=False, num_workers=0)\n"
   ]
  },
  {
   "cell_type": "code",
   "execution_count": null,
   "id": "4c4dbc48",
   "metadata": {
    "papermill": {
     "duration": 0.002215,
     "end_time": "2025-07-21T11:29:00.124328",
     "exception": false,
     "start_time": "2025-07-21T11:29:00.122113",
     "status": "completed"
    },
    "tags": []
   },
   "outputs": [],
   "source": []
  },
  {
   "cell_type": "code",
   "execution_count": 5,
   "id": "7a4dcc75",
   "metadata": {
    "execution": {
     "iopub.execute_input": "2025-07-21T11:29:00.129993Z",
     "iopub.status.busy": "2025-07-21T11:29:00.129801Z",
     "iopub.status.idle": "2025-07-21T11:29:00.417836Z",
     "shell.execute_reply": "2025-07-21T11:29:00.417190Z"
    },
    "id": "1BFB88X9xCT-",
    "papermill": {
     "duration": 0.292586,
     "end_time": "2025-07-21T11:29:00.419256",
     "exception": false,
     "start_time": "2025-07-21T11:29:00.126670",
     "status": "completed"
    },
    "tags": []
   },
   "outputs": [],
   "source": [
    "# 构建网络模型\n",
    "import torch.nn as nn\n",
    "import torch.nn.functional as F\n",
    "\n",
    "\n",
    "class FCN(nn.Module):\n",
    "    def __init__(self, num_classes=21):\n",
    "        super().__init__()\n",
    "        \n",
    "        # 256 -> 128 -> 64 -> 32 -> 16 -> 8\n",
    "        \n",
    "        # Block 1: 256 -> 128\n",
    "        self.conv_block1 = nn.Sequential(\n",
    "            nn.Conv2d(3, 64, kernel_size=3, padding=1),\n",
    "            nn.ReLU(inplace=True),\n",
    "            nn.Conv2d(64, 64, kernel_size=3, padding=1),\n",
    "            nn.ReLU(inplace=True),\n",
    "            nn.MaxPool2d(kernel_size=2, stride=2)\n",
    "        )\n",
    "        \n",
    "        # Block 2: 128 -> 64\n",
    "        self.conv_block2 = nn.Sequential(\n",
    "            nn.Conv2d(64, 128, kernel_size=3, padding=1),\n",
    "            nn.ReLU(inplace=True),\n",
    "            nn.Conv2d(128, 128, kernel_size=3, padding=1),\n",
    "            nn.ReLU(inplace=True),\n",
    "            nn.MaxPool2d(kernel_size=2, stride=2)\n",
    "        )\n",
    "        \n",
    "        # Block 3: 64 -> 32\n",
    "        self.conv_block3 = nn.Sequential(\n",
    "            nn.Conv2d(128, 256, kernel_size=3, padding=1),\n",
    "            nn.ReLU(inplace=True),\n",
    "            nn.Conv2d(256, 256, kernel_size=3, padding=1),\n",
    "            nn.ReLU(inplace=True),\n",
    "            nn.MaxPool2d(kernel_size=2, stride=2)\n",
    "        )\n",
    "        \n",
    "        # Block 4: 32 -> 16\n",
    "        self.conv_block4 = nn.Sequential(\n",
    "            nn.Conv2d(256, 512, kernel_size=3, padding=1),\n",
    "            nn.ReLU(inplace=True),\n",
    "            nn.Conv2d(512, 512, kernel_size=3, padding=1),\n",
    "            nn.ReLU(inplace=True),\n",
    "            nn.MaxPool2d(kernel_size=2, stride=2)\n",
    "        )\n",
    "        \n",
    "        # Block 5: 16 -> 8\n",
    "        self.conv_block5 = nn.Sequential(\n",
    "            nn.Conv2d(512, 512, kernel_size=3, padding=1),\n",
    "            nn.ReLU(inplace=True),\n",
    "            nn.Conv2d(512, 512, kernel_size=3, padding=1),\n",
    "            nn.ReLU(inplace=True),\n",
    "            nn.MaxPool2d(kernel_size=2, stride=2)\n",
    "        )\n",
    "        \n",
    "        # ==================== 分类器 (1x1 Conv) ====================\n",
    "        self.classifier = nn.Conv2d(512, num_classes, kernel_size=1)\n",
    "        \n",
    "        # ==================== 上采样路径 ====================\n",
    "        # 我们需要从 8x8 恢复到 256x256，需要上采样 32 倍\n",
    "        self.upsample = nn.ConvTranspose2d(num_classes, num_classes, kernel_size=64, stride=32, padding=16) # (kernel_size - stride) / 2\n",
    "    def forward(self, x):\n",
    "        # 记录原始尺寸，以防万一\n",
    "        input_size = x.shape[-2:]\n",
    "        \n",
    "        x = self.conv_block1(x)\n",
    "        x = self.conv_block2(x)\n",
    "        x = self.conv_block3(x)\n",
    "        x = self.conv_block4(x)\n",
    "        x = self.conv_block5(x)\n",
    "        \n",
    "        x = self.classifier(x)\n",
    "        \n",
    "        x = self.upsample(x)\n",
    "        \n",
    "        # 如果因为计算精度导致尺寸差一点点，可以用插值来修正\n",
    "        x = F.interpolate(x, size=input_size, mode='bilinear', align_corners=False)\n",
    "        \n",
    "        return x\n",
    "\n",
    "\n",
    "\n",
    "\n",
    "net = FCN(num_classes=21)\n",
    "net = net.to(device)"
   ]
  },
  {
   "cell_type": "code",
   "execution_count": 6,
   "id": "2f92c9a6",
   "metadata": {
    "execution": {
     "iopub.execute_input": "2025-07-21T11:29:00.426054Z",
     "iopub.status.busy": "2025-07-21T11:29:00.425800Z",
     "iopub.status.idle": "2025-07-21T11:29:00.432792Z",
     "shell.execute_reply": "2025-07-21T11:29:00.431836Z"
    },
    "id": "1bicoqSIxCT-",
    "papermill": {
     "duration": 0.01186,
     "end_time": "2025-07-21T11:29:00.434024",
     "exception": false,
     "start_time": "2025-07-21T11:29:00.422164",
     "status": "completed"
    },
    "tags": []
   },
   "outputs": [
    {
     "name": "stderr",
     "output_type": "stream",
     "text": [
      "/usr/local/lib/python3.11/dist-packages/torch/optim/lr_scheduler.py:62: UserWarning: The verbose parameter is deprecated. Please use get_last_lr() to access the learning rate.\n",
      "  warnings.warn(\n"
     ]
    }
   ],
   "source": [
    "import torch.optim as optim\n",
    "# 损失函数\n",
    "loss_function = nn.CrossEntropyLoss(ignore_index=255)  # PASCAL VOC中255是边界或忽略区域，使用 ignore_index=255 来忽略PASCAL VOC中的边界像素，边界像素(255)在计算损失时会被忽略\n",
    "# 优化器\n",
    "optimizer = optim.Adam(net.parameters(), lr=0.001)\n",
    "# 学习率调度器\n",
    "scheduler = torch.optim.lr_scheduler.ReduceLROnPlateau(\n",
    "    optimizer, \n",
    "    mode='min',      # 监控的指标越小越好 (我们的目标是降低loss)\n",
    "    factor=0.2,      # 当指标不再改善时，学习率乘以这个因子 (lr = lr * 0.2)\n",
    "    patience=5,      # 容忍指标连续5个epoch不改善，才降低学习率\n",
    "    verbose=True,    # 当学习率更新时，在控制台打印一条消息\n",
    "    min_lr=1e-6      # 学习率的下限，防止降得太低\n",
    ")"
   ]
  },
  {
   "cell_type": "code",
   "execution_count": 7,
   "id": "8970e5ec",
   "metadata": {
    "execution": {
     "iopub.execute_input": "2025-07-21T11:29:00.440717Z",
     "iopub.status.busy": "2025-07-21T11:29:00.440477Z",
     "iopub.status.idle": "2025-07-21T16:40:31.786344Z",
     "shell.execute_reply": "2025-07-21T16:40:31.785601Z"
    },
    "id": "TPQDHvb1xCT_",
    "papermill": {
     "duration": 18693.109103,
     "end_time": "2025-07-21T16:40:33.545946",
     "exception": false,
     "start_time": "2025-07-21T11:29:00.436843",
     "status": "completed"
    },
    "tags": []
   },
   "outputs": [
    {
     "name": "stderr",
     "output_type": "stream",
     "text": [
      "2025-07-21 11:29:02.482211: E external/local_xla/xla/stream_executor/cuda/cuda_fft.cc:477] Unable to register cuFFT factory: Attempting to register factory for plugin cuFFT when one has already been registered\n",
      "WARNING: All log messages before absl::InitializeLog() is called are written to STDERR\n",
      "E0000 00:00:1753097342.673937      19 cuda_dnn.cc:8310] Unable to register cuDNN factory: Attempting to register factory for plugin cuDNN when one has already been registered\n",
      "E0000 00:00:1753097342.729851      19 cuda_blas.cc:1418] Unable to register cuBLAS factory: Attempting to register factory for plugin cuBLAS when one has already been registered\n"
     ]
    },
    {
     "name": "stdout",
     "output_type": "stream",
     "text": [
      "Starting Training...\n",
      "--- Epoch 1/500 ---\n"
     ]
    },
    {
     "name": "stderr",
     "output_type": "stream",
     "text": [
      "Training: 100%|\u001b[32m██████████\u001b[0m| 23/23 [00:50<00:00,  2.21s/it, loss=1.6973]\n",
      "Validation: 100%|\u001b[31m██████████\u001b[0m| 23/23 [00:40<00:00,  1.75s/it, loss=1.6080]\n"
     ]
    },
    {
     "name": "stdout",
     "output_type": "stream",
     "text": [
      "\n",
      "Epoch 1 Summary:\n",
      "  Train Loss: 2.4954, Train Pixel Accuracy: 55.47%\n",
      "  Validation Loss: 1.6013, Validation Pixel Accuracy: 73.29%\n",
      "  Current learning rate: 0.001000\n",
      "  ---> New best model saved to /kaggle/working/fcn_voc_best.pth (Validation Loss: 1.6013)\n",
      "------------------------------\n",
      "--- Epoch 2/500 ---\n"
     ]
    },
    {
     "name": "stderr",
     "output_type": "stream",
     "text": [
      "Training: 100%|\u001b[32m██████████\u001b[0m| 23/23 [00:23<00:00,  1.03s/it, loss=1.2908]\n",
      "Validation: 100%|\u001b[31m██████████\u001b[0m| 23/23 [00:15<00:00,  1.46it/s, loss=1.3778]\n"
     ]
    },
    {
     "name": "stdout",
     "output_type": "stream",
     "text": [
      "\n",
      "Epoch 2 Summary:\n",
      "  Train Loss: 1.4624, Train Pixel Accuracy: 73.45%\n",
      "  Validation Loss: 1.3450, Validation Pixel Accuracy: 73.29%\n",
      "  Current learning rate: 0.001000\n",
      "  ---> New best model saved to /kaggle/working/fcn_voc_best.pth (Validation Loss: 1.3450)\n",
      "------------------------------\n",
      "--- Epoch 3/500 ---\n"
     ]
    },
    {
     "name": "stderr",
     "output_type": "stream",
     "text": [
      "Training: 100%|\u001b[32m██████████\u001b[0m| 23/23 [00:22<00:00,  1.02it/s, loss=1.4125]\n",
      "Validation: 100%|\u001b[31m██████████\u001b[0m| 23/23 [00:14<00:00,  1.56it/s, loss=1.3424]\n"
     ]
    },
    {
     "name": "stdout",
     "output_type": "stream",
     "text": [
      "\n",
      "Epoch 3 Summary:\n",
      "  Train Loss: 1.3275, Train Pixel Accuracy: 73.45%\n",
      "  Validation Loss: 1.3037, Validation Pixel Accuracy: 73.29%\n",
      "  Current learning rate: 0.001000\n",
      "  ---> New best model saved to /kaggle/working/fcn_voc_best.pth (Validation Loss: 1.3037)\n",
      "------------------------------\n",
      "--- Epoch 4/500 ---\n"
     ]
    },
    {
     "name": "stderr",
     "output_type": "stream",
     "text": [
      "Training: 100%|\u001b[32m██████████\u001b[0m| 23/23 [00:23<00:00,  1.00s/it, loss=1.0612]\n",
      "Validation: 100%|\u001b[31m██████████\u001b[0m| 23/23 [00:14<00:00,  1.55it/s, loss=1.3172]\n"
     ]
    },
    {
     "name": "stdout",
     "output_type": "stream",
     "text": [
      "\n",
      "Epoch 4 Summary:\n",
      "  Train Loss: 1.2841, Train Pixel Accuracy: 73.45%\n",
      "  Validation Loss: 1.2869, Validation Pixel Accuracy: 73.29%\n",
      "  Current learning rate: 0.001000\n",
      "  ---> New best model saved to /kaggle/working/fcn_voc_best.pth (Validation Loss: 1.2869)\n",
      "------------------------------\n",
      "--- Epoch 5/500 ---\n"
     ]
    },
    {
     "name": "stderr",
     "output_type": "stream",
     "text": [
      "Training: 100%|\u001b[32m██████████\u001b[0m| 23/23 [00:22<00:00,  1.02it/s, loss=1.3184]\n",
      "Validation: 100%|\u001b[31m██████████\u001b[0m| 23/23 [00:15<00:00,  1.52it/s, loss=1.3211]\n"
     ]
    },
    {
     "name": "stdout",
     "output_type": "stream",
     "text": [
      "\n",
      "Epoch 5 Summary:\n",
      "  Train Loss: 1.2839, Train Pixel Accuracy: 73.45%\n",
      "  Validation Loss: 1.2768, Validation Pixel Accuracy: 73.29%\n",
      "  Current learning rate: 0.001000\n",
      "  ---> New best model saved to /kaggle/working/fcn_voc_best.pth (Validation Loss: 1.2768)\n",
      "------------------------------\n",
      "--- Epoch 6/500 ---\n"
     ]
    },
    {
     "name": "stderr",
     "output_type": "stream",
     "text": [
      "Training: 100%|\u001b[32m██████████\u001b[0m| 23/23 [00:22<00:00,  1.03it/s, loss=1.1482]\n",
      "Validation: 100%|\u001b[31m██████████\u001b[0m| 23/23 [00:14<00:00,  1.57it/s, loss=1.2807]\n"
     ]
    },
    {
     "name": "stdout",
     "output_type": "stream",
     "text": [
      "\n",
      "Epoch 6 Summary:\n",
      "  Train Loss: 1.2566, Train Pixel Accuracy: 73.45%\n",
      "  Validation Loss: 1.2474, Validation Pixel Accuracy: 73.29%\n",
      "  Current learning rate: 0.001000\n",
      "  ---> New best model saved to /kaggle/working/fcn_voc_best.pth (Validation Loss: 1.2474)\n",
      "------------------------------\n",
      "--- Epoch 7/500 ---\n"
     ]
    },
    {
     "name": "stderr",
     "output_type": "stream",
     "text": [
      "Training: 100%|\u001b[32m██████████\u001b[0m| 23/23 [00:22<00:00,  1.03it/s, loss=1.1860]\n",
      "Validation: 100%|\u001b[31m██████████\u001b[0m| 23/23 [00:14<00:00,  1.63it/s, loss=1.2772]\n"
     ]
    },
    {
     "name": "stdout",
     "output_type": "stream",
     "text": [
      "\n",
      "Epoch 7 Summary:\n",
      "  Train Loss: 1.2509, Train Pixel Accuracy: 73.45%\n",
      "  Validation Loss: 1.2333, Validation Pixel Accuracy: 73.29%\n",
      "  Current learning rate: 0.001000\n",
      "  ---> New best model saved to /kaggle/working/fcn_voc_best.pth (Validation Loss: 1.2333)\n",
      "------------------------------\n",
      "--- Epoch 8/500 ---\n"
     ]
    },
    {
     "name": "stderr",
     "output_type": "stream",
     "text": [
      "Training: 100%|\u001b[32m██████████\u001b[0m| 23/23 [00:22<00:00,  1.02it/s, loss=1.2211]\n",
      "Validation: 100%|\u001b[31m██████████\u001b[0m| 23/23 [00:14<00:00,  1.60it/s, loss=1.2818]\n"
     ]
    },
    {
     "name": "stdout",
     "output_type": "stream",
     "text": [
      "\n",
      "Epoch 8 Summary:\n",
      "  Train Loss: 1.2450, Train Pixel Accuracy: 73.45%\n",
      "  Validation Loss: 1.2328, Validation Pixel Accuracy: 73.29%\n",
      "  Current learning rate: 0.001000\n",
      "  ---> New best model saved to /kaggle/working/fcn_voc_best.pth (Validation Loss: 1.2328)\n",
      "------------------------------\n",
      "--- Epoch 9/500 ---\n"
     ]
    },
    {
     "name": "stderr",
     "output_type": "stream",
     "text": [
      "Training: 100%|\u001b[32m██████████\u001b[0m| 23/23 [00:22<00:00,  1.02it/s, loss=1.2087]\n",
      "Validation: 100%|\u001b[31m██████████\u001b[0m| 23/23 [00:14<00:00,  1.59it/s, loss=1.2776]\n"
     ]
    },
    {
     "name": "stdout",
     "output_type": "stream",
     "text": [
      "\n",
      "Epoch 9 Summary:\n",
      "  Train Loss: 1.2411, Train Pixel Accuracy: 73.45%\n",
      "  Validation Loss: 1.2264, Validation Pixel Accuracy: 73.29%\n",
      "  Current learning rate: 0.001000\n",
      "  ---> New best model saved to /kaggle/working/fcn_voc_best.pth (Validation Loss: 1.2264)\n",
      "------------------------------\n",
      "--- Epoch 10/500 ---\n"
     ]
    },
    {
     "name": "stderr",
     "output_type": "stream",
     "text": [
      "Training: 100%|\u001b[32m██████████\u001b[0m| 23/23 [00:22<00:00,  1.01it/s, loss=1.2644]\n",
      "Validation: 100%|\u001b[31m██████████\u001b[0m| 23/23 [00:14<00:00,  1.58it/s, loss=1.2680]\n"
     ]
    },
    {
     "name": "stdout",
     "output_type": "stream",
     "text": [
      "\n",
      "Epoch 10 Summary:\n",
      "  Train Loss: 1.2220, Train Pixel Accuracy: 73.45%\n",
      "  Validation Loss: 1.2219, Validation Pixel Accuracy: 73.29%\n",
      "  Current learning rate: 0.001000\n",
      "  ---> New best model saved to /kaggle/working/fcn_voc_best.pth (Validation Loss: 1.2219)\n",
      "------------------------------\n",
      "--- Epoch 11/500 ---\n"
     ]
    },
    {
     "name": "stderr",
     "output_type": "stream",
     "text": [
      "Training: 100%|\u001b[32m██████████\u001b[0m| 23/23 [00:22<00:00,  1.02it/s, loss=1.2799]\n",
      "Validation: 100%|\u001b[31m██████████\u001b[0m| 23/23 [00:14<00:00,  1.59it/s, loss=1.2532]\n"
     ]
    },
    {
     "name": "stdout",
     "output_type": "stream",
     "text": [
      "\n",
      "Epoch 11 Summary:\n",
      "  Train Loss: 1.2190, Train Pixel Accuracy: 73.45%\n",
      "  Validation Loss: 1.2204, Validation Pixel Accuracy: 73.29%\n",
      "  Current learning rate: 0.001000\n",
      "  ---> New best model saved to /kaggle/working/fcn_voc_best.pth (Validation Loss: 1.2204)\n",
      "------------------------------\n",
      "--- Epoch 12/500 ---\n"
     ]
    },
    {
     "name": "stderr",
     "output_type": "stream",
     "text": [
      "Training: 100%|\u001b[32m██████████\u001b[0m| 23/23 [00:22<00:00,  1.03it/s, loss=1.1603]\n",
      "Validation: 100%|\u001b[31m██████████\u001b[0m| 23/23 [00:14<00:00,  1.56it/s, loss=1.2637]\n"
     ]
    },
    {
     "name": "stdout",
     "output_type": "stream",
     "text": [
      "\n",
      "Epoch 12 Summary:\n",
      "  Train Loss: 1.2035, Train Pixel Accuracy: 73.45%\n",
      "  Validation Loss: 1.2039, Validation Pixel Accuracy: 73.29%\n",
      "  Current learning rate: 0.001000\n",
      "  ---> New best model saved to /kaggle/working/fcn_voc_best.pth (Validation Loss: 1.2039)\n",
      "------------------------------\n",
      "--- Epoch 13/500 ---\n"
     ]
    },
    {
     "name": "stderr",
     "output_type": "stream",
     "text": [
      "Training: 100%|\u001b[32m██████████\u001b[0m| 23/23 [00:22<00:00,  1.03it/s, loss=1.2800]\n",
      "Validation: 100%|\u001b[31m██████████\u001b[0m| 23/23 [00:14<00:00,  1.59it/s, loss=1.2335]\n"
     ]
    },
    {
     "name": "stdout",
     "output_type": "stream",
     "text": [
      "\n",
      "Epoch 13 Summary:\n",
      "  Train Loss: 1.1897, Train Pixel Accuracy: 73.45%\n",
      "  Validation Loss: 1.2146, Validation Pixel Accuracy: 73.29%\n",
      "  Current learning rate: 0.001000\n",
      "------------------------------\n",
      "--- Epoch 14/500 ---\n"
     ]
    },
    {
     "name": "stderr",
     "output_type": "stream",
     "text": [
      "Training: 100%|\u001b[32m██████████\u001b[0m| 23/23 [00:23<00:00,  1.02s/it, loss=1.3232]\n",
      "Validation: 100%|\u001b[31m██████████\u001b[0m| 23/23 [00:14<00:00,  1.57it/s, loss=1.2367]\n"
     ]
    },
    {
     "name": "stdout",
     "output_type": "stream",
     "text": [
      "\n",
      "Epoch 14 Summary:\n",
      "  Train Loss: 1.1792, Train Pixel Accuracy: 73.44%\n",
      "  Validation Loss: 1.1946, Validation Pixel Accuracy: 72.80%\n",
      "  Current learning rate: 0.001000\n",
      "  ---> New best model saved to /kaggle/working/fcn_voc_best.pth (Validation Loss: 1.1946)\n",
      "------------------------------\n",
      "--- Epoch 15/500 ---\n"
     ]
    },
    {
     "name": "stderr",
     "output_type": "stream",
     "text": [
      "Training: 100%|\u001b[32m██████████\u001b[0m| 23/23 [00:23<00:00,  1.00s/it, loss=0.9996]\n",
      "Validation: 100%|\u001b[31m██████████\u001b[0m| 23/23 [00:14<00:00,  1.55it/s, loss=1.2580]\n"
     ]
    },
    {
     "name": "stdout",
     "output_type": "stream",
     "text": [
      "\n",
      "Epoch 15 Summary:\n",
      "  Train Loss: 1.1844, Train Pixel Accuracy: 73.48%\n",
      "  Validation Loss: 1.2077, Validation Pixel Accuracy: 73.29%\n",
      "  Current learning rate: 0.001000\n",
      "------------------------------\n",
      "--- Epoch 16/500 ---\n"
     ]
    },
    {
     "name": "stderr",
     "output_type": "stream",
     "text": [
      "Training: 100%|\u001b[32m██████████\u001b[0m| 23/23 [00:22<00:00,  1.02it/s, loss=1.3561]\n",
      "Validation: 100%|\u001b[31m██████████\u001b[0m| 23/23 [00:14<00:00,  1.60it/s, loss=1.3036]\n"
     ]
    },
    {
     "name": "stdout",
     "output_type": "stream",
     "text": [
      "\n",
      "Epoch 16 Summary:\n",
      "  Train Loss: 1.1719, Train Pixel Accuracy: 73.40%\n",
      "  Validation Loss: 1.2397, Validation Pixel Accuracy: 73.19%\n",
      "  Current learning rate: 0.001000\n",
      "------------------------------\n",
      "--- Epoch 17/500 ---\n"
     ]
    },
    {
     "name": "stderr",
     "output_type": "stream",
     "text": [
      "Training: 100%|\u001b[32m██████████\u001b[0m| 23/23 [00:22<00:00,  1.02it/s, loss=1.0795]\n",
      "Validation: 100%|\u001b[31m██████████\u001b[0m| 23/23 [00:14<00:00,  1.57it/s, loss=1.2236]\n"
     ]
    },
    {
     "name": "stdout",
     "output_type": "stream",
     "text": [
      "\n",
      "Epoch 17 Summary:\n",
      "  Train Loss: 1.1586, Train Pixel Accuracy: 73.48%\n",
      "  Validation Loss: 1.1630, Validation Pixel Accuracy: 73.21%\n",
      "  Current learning rate: 0.001000\n",
      "  ---> New best model saved to /kaggle/working/fcn_voc_best.pth (Validation Loss: 1.1630)\n",
      "------------------------------\n",
      "--- Epoch 18/500 ---\n"
     ]
    },
    {
     "name": "stderr",
     "output_type": "stream",
     "text": [
      "Training: 100%|\u001b[32m██████████\u001b[0m| 23/23 [00:22<00:00,  1.01it/s, loss=1.1242]\n",
      "Validation: 100%|\u001b[31m██████████\u001b[0m| 23/23 [00:14<00:00,  1.56it/s, loss=1.2430]\n"
     ]
    },
    {
     "name": "stdout",
     "output_type": "stream",
     "text": [
      "\n",
      "Epoch 18 Summary:\n",
      "  Train Loss: 1.1541, Train Pixel Accuracy: 73.60%\n",
      "  Validation Loss: 1.2089, Validation Pixel Accuracy: 73.29%\n",
      "  Current learning rate: 0.001000\n",
      "------------------------------\n",
      "--- Epoch 19/500 ---\n"
     ]
    },
    {
     "name": "stderr",
     "output_type": "stream",
     "text": [
      "Training: 100%|\u001b[32m██████████\u001b[0m| 23/23 [00:23<00:00,  1.00s/it, loss=1.1164]\n",
      "Validation: 100%|\u001b[31m██████████\u001b[0m| 23/23 [00:14<00:00,  1.56it/s, loss=1.1652]\n"
     ]
    },
    {
     "name": "stdout",
     "output_type": "stream",
     "text": [
      "\n",
      "Epoch 19 Summary:\n",
      "  Train Loss: 1.1493, Train Pixel Accuracy: 73.52%\n",
      "  Validation Loss: 1.1495, Validation Pixel Accuracy: 73.35%\n",
      "  Current learning rate: 0.001000\n",
      "  ---> New best model saved to /kaggle/working/fcn_voc_best.pth (Validation Loss: 1.1495)\n",
      "------------------------------\n",
      "--- Epoch 20/500 ---\n"
     ]
    },
    {
     "name": "stderr",
     "output_type": "stream",
     "text": [
      "Training: 100%|\u001b[32m██████████\u001b[0m| 23/23 [00:22<00:00,  1.02it/s, loss=1.2032]\n",
      "Validation: 100%|\u001b[31m██████████\u001b[0m| 23/23 [00:14<00:00,  1.60it/s, loss=1.1885]\n"
     ]
    },
    {
     "name": "stdout",
     "output_type": "stream",
     "text": [
      "\n",
      "Epoch 20 Summary:\n",
      "  Train Loss: 1.1289, Train Pixel Accuracy: 73.48%\n",
      "  Validation Loss: 1.1299, Validation Pixel Accuracy: 73.43%\n",
      "  Current learning rate: 0.001000\n",
      "  ---> New best model saved to /kaggle/working/fcn_voc_best.pth (Validation Loss: 1.1299)\n",
      "------------------------------\n",
      "--- Epoch 21/500 ---\n"
     ]
    },
    {
     "name": "stderr",
     "output_type": "stream",
     "text": [
      "Training: 100%|\u001b[32m██████████\u001b[0m| 23/23 [00:22<00:00,  1.02it/s, loss=1.1301]\n",
      "Validation: 100%|\u001b[31m██████████\u001b[0m| 23/23 [00:14<00:00,  1.59it/s, loss=1.1725]\n"
     ]
    },
    {
     "name": "stdout",
     "output_type": "stream",
     "text": [
      "\n",
      "Epoch 21 Summary:\n",
      "  Train Loss: 1.1199, Train Pixel Accuracy: 73.52%\n",
      "  Validation Loss: 1.1542, Validation Pixel Accuracy: 73.32%\n",
      "  Current learning rate: 0.001000\n",
      "------------------------------\n",
      "--- Epoch 22/500 ---\n"
     ]
    },
    {
     "name": "stderr",
     "output_type": "stream",
     "text": [
      "Training: 100%|\u001b[32m██████████\u001b[0m| 23/23 [00:22<00:00,  1.04it/s, loss=1.2902]\n",
      "Validation: 100%|\u001b[31m██████████\u001b[0m| 23/23 [00:14<00:00,  1.59it/s, loss=1.1483]\n"
     ]
    },
    {
     "name": "stdout",
     "output_type": "stream",
     "text": [
      "\n",
      "Epoch 22 Summary:\n",
      "  Train Loss: 1.1246, Train Pixel Accuracy: 73.52%\n",
      "  Validation Loss: 1.1191, Validation Pixel Accuracy: 73.34%\n",
      "  Current learning rate: 0.001000\n",
      "  ---> New best model saved to /kaggle/working/fcn_voc_best.pth (Validation Loss: 1.1191)\n",
      "------------------------------\n",
      "--- Epoch 23/500 ---\n"
     ]
    },
    {
     "name": "stderr",
     "output_type": "stream",
     "text": [
      "Training: 100%|\u001b[32m██████████\u001b[0m| 23/23 [00:22<00:00,  1.03it/s, loss=1.1080]\n",
      "Validation: 100%|\u001b[31m██████████\u001b[0m| 23/23 [00:14<00:00,  1.56it/s, loss=1.1093]\n"
     ]
    },
    {
     "name": "stdout",
     "output_type": "stream",
     "text": [
      "\n",
      "Epoch 23 Summary:\n",
      "  Train Loss: 1.1084, Train Pixel Accuracy: 73.36%\n",
      "  Validation Loss: 1.0993, Validation Pixel Accuracy: 73.44%\n",
      "  Current learning rate: 0.001000\n",
      "  ---> New best model saved to /kaggle/working/fcn_voc_best.pth (Validation Loss: 1.0993)\n",
      "------------------------------\n",
      "--- Epoch 24/500 ---\n"
     ]
    },
    {
     "name": "stderr",
     "output_type": "stream",
     "text": [
      "Training: 100%|\u001b[32m██████████\u001b[0m| 23/23 [00:22<00:00,  1.01it/s, loss=0.9990]\n",
      "Validation: 100%|\u001b[31m██████████\u001b[0m| 23/23 [00:14<00:00,  1.59it/s, loss=1.1651]\n"
     ]
    },
    {
     "name": "stdout",
     "output_type": "stream",
     "text": [
      "\n",
      "Epoch 24 Summary:\n",
      "  Train Loss: 1.0765, Train Pixel Accuracy: 73.57%\n",
      "  Validation Loss: 1.1041, Validation Pixel Accuracy: 73.25%\n",
      "  Current learning rate: 0.001000\n",
      "------------------------------\n",
      "--- Epoch 25/500 ---\n"
     ]
    },
    {
     "name": "stderr",
     "output_type": "stream",
     "text": [
      "Training: 100%|\u001b[32m██████████\u001b[0m| 23/23 [00:22<00:00,  1.03it/s, loss=0.9616]\n",
      "Validation: 100%|\u001b[31m██████████\u001b[0m| 23/23 [00:14<00:00,  1.59it/s, loss=1.1889]\n"
     ]
    },
    {
     "name": "stdout",
     "output_type": "stream",
     "text": [
      "\n",
      "Epoch 25 Summary:\n",
      "  Train Loss: 1.0743, Train Pixel Accuracy: 73.69%\n",
      "  Validation Loss: 1.1448, Validation Pixel Accuracy: 72.76%\n",
      "  Current learning rate: 0.001000\n",
      "------------------------------\n",
      "--- Epoch 26/500 ---\n"
     ]
    },
    {
     "name": "stderr",
     "output_type": "stream",
     "text": [
      "Training: 100%|\u001b[32m██████████\u001b[0m| 23/23 [00:22<00:00,  1.04it/s, loss=0.9878]\n",
      "Validation: 100%|\u001b[31m██████████\u001b[0m| 23/23 [00:14<00:00,  1.61it/s, loss=1.0974]\n"
     ]
    },
    {
     "name": "stdout",
     "output_type": "stream",
     "text": [
      "\n",
      "Epoch 26 Summary:\n",
      "  Train Loss: 1.0661, Train Pixel Accuracy: 73.69%\n",
      "  Validation Loss: 1.0935, Validation Pixel Accuracy: 73.03%\n",
      "  Current learning rate: 0.001000\n",
      "  ---> New best model saved to /kaggle/working/fcn_voc_best.pth (Validation Loss: 1.0935)\n",
      "------------------------------\n",
      "--- Epoch 27/500 ---\n"
     ]
    },
    {
     "name": "stderr",
     "output_type": "stream",
     "text": [
      "Training: 100%|\u001b[32m██████████\u001b[0m| 23/23 [00:22<00:00,  1.02it/s, loss=1.0649]\n",
      "Validation: 100%|\u001b[31m██████████\u001b[0m| 23/23 [00:14<00:00,  1.56it/s, loss=1.0495]\n"
     ]
    },
    {
     "name": "stdout",
     "output_type": "stream",
     "text": [
      "\n",
      "Epoch 27 Summary:\n",
      "  Train Loss: 1.0462, Train Pixel Accuracy: 73.75%\n",
      "  Validation Loss: 1.0641, Validation Pixel Accuracy: 73.33%\n",
      "  Current learning rate: 0.001000\n",
      "  ---> New best model saved to /kaggle/working/fcn_voc_best.pth (Validation Loss: 1.0641)\n",
      "------------------------------\n",
      "--- Epoch 28/500 ---\n"
     ]
    },
    {
     "name": "stderr",
     "output_type": "stream",
     "text": [
      "Training: 100%|\u001b[32m██████████\u001b[0m| 23/23 [00:22<00:00,  1.02it/s, loss=0.9386]\n",
      "Validation: 100%|\u001b[31m██████████\u001b[0m| 23/23 [00:14<00:00,  1.56it/s, loss=1.0710]\n"
     ]
    },
    {
     "name": "stdout",
     "output_type": "stream",
     "text": [
      "\n",
      "Epoch 28 Summary:\n",
      "  Train Loss: 1.0322, Train Pixel Accuracy: 73.85%\n",
      "  Validation Loss: 1.0738, Validation Pixel Accuracy: 72.96%\n",
      "  Current learning rate: 0.001000\n",
      "------------------------------\n",
      "--- Epoch 29/500 ---\n"
     ]
    },
    {
     "name": "stderr",
     "output_type": "stream",
     "text": [
      "Training: 100%|\u001b[32m██████████\u001b[0m| 23/23 [00:22<00:00,  1.02it/s, loss=1.0513]\n",
      "Validation: 100%|\u001b[31m██████████\u001b[0m| 23/23 [00:14<00:00,  1.59it/s, loss=1.0909]\n"
     ]
    },
    {
     "name": "stdout",
     "output_type": "stream",
     "text": [
      "\n",
      "Epoch 29 Summary:\n",
      "  Train Loss: 1.0255, Train Pixel Accuracy: 73.90%\n",
      "  Validation Loss: 1.0976, Validation Pixel Accuracy: 72.97%\n",
      "  Current learning rate: 0.001000\n",
      "------------------------------\n",
      "--- Epoch 30/500 ---\n"
     ]
    },
    {
     "name": "stderr",
     "output_type": "stream",
     "text": [
      "Training: 100%|\u001b[32m██████████\u001b[0m| 23/23 [00:23<00:00,  1.00s/it, loss=0.9147]\n",
      "Validation: 100%|\u001b[31m██████████\u001b[0m| 23/23 [00:14<00:00,  1.59it/s, loss=1.0349]\n"
     ]
    },
    {
     "name": "stdout",
     "output_type": "stream",
     "text": [
      "\n",
      "Epoch 30 Summary:\n",
      "  Train Loss: 1.0064, Train Pixel Accuracy: 74.05%\n",
      "  Validation Loss: 1.0370, Validation Pixel Accuracy: 73.74%\n",
      "  Current learning rate: 0.001000\n",
      "  ---> New best model saved to /kaggle/working/fcn_voc_best.pth (Validation Loss: 1.0370)\n",
      "------------------------------\n",
      "--- Epoch 31/500 ---\n"
     ]
    },
    {
     "name": "stderr",
     "output_type": "stream",
     "text": [
      "Training: 100%|\u001b[32m██████████\u001b[0m| 23/23 [00:22<00:00,  1.01it/s, loss=1.2504]\n",
      "Validation: 100%|\u001b[31m██████████\u001b[0m| 23/23 [00:14<00:00,  1.58it/s, loss=1.0316]\n"
     ]
    },
    {
     "name": "stdout",
     "output_type": "stream",
     "text": [
      "\n",
      "Epoch 31 Summary:\n",
      "  Train Loss: 1.0135, Train Pixel Accuracy: 74.22%\n",
      "  Validation Loss: 1.0373, Validation Pixel Accuracy: 73.41%\n",
      "  Current learning rate: 0.001000\n",
      "------------------------------\n",
      "--- Epoch 32/500 ---\n"
     ]
    },
    {
     "name": "stderr",
     "output_type": "stream",
     "text": [
      "Training: 100%|\u001b[32m██████████\u001b[0m| 23/23 [00:23<00:00,  1.00s/it, loss=0.9064]\n",
      "Validation: 100%|\u001b[31m██████████\u001b[0m| 23/23 [00:14<00:00,  1.56it/s, loss=1.0341]\n"
     ]
    },
    {
     "name": "stdout",
     "output_type": "stream",
     "text": [
      "\n",
      "Epoch 32 Summary:\n",
      "  Train Loss: 1.0075, Train Pixel Accuracy: 74.31%\n",
      "  Validation Loss: 1.0266, Validation Pixel Accuracy: 73.45%\n",
      "  Current learning rate: 0.001000\n",
      "  ---> New best model saved to /kaggle/working/fcn_voc_best.pth (Validation Loss: 1.0266)\n",
      "------------------------------\n",
      "--- Epoch 33/500 ---\n"
     ]
    },
    {
     "name": "stderr",
     "output_type": "stream",
     "text": [
      "Training: 100%|\u001b[32m██████████\u001b[0m| 23/23 [00:22<00:00,  1.00it/s, loss=1.1003]\n",
      "Validation: 100%|\u001b[31m██████████\u001b[0m| 23/23 [00:15<00:00,  1.46it/s, loss=1.0266]\n"
     ]
    },
    {
     "name": "stdout",
     "output_type": "stream",
     "text": [
      "\n",
      "Epoch 33 Summary:\n",
      "  Train Loss: 0.9839, Train Pixel Accuracy: 74.41%\n",
      "  Validation Loss: 1.0634, Validation Pixel Accuracy: 72.60%\n",
      "  Current learning rate: 0.001000\n",
      "------------------------------\n",
      "--- Epoch 34/500 ---\n"
     ]
    },
    {
     "name": "stderr",
     "output_type": "stream",
     "text": [
      "Training: 100%|\u001b[32m██████████\u001b[0m| 23/23 [00:23<00:00,  1.01s/it, loss=0.9502]\n",
      "Validation: 100%|\u001b[31m██████████\u001b[0m| 23/23 [00:15<00:00,  1.51it/s, loss=1.0124]\n"
     ]
    },
    {
     "name": "stdout",
     "output_type": "stream",
     "text": [
      "\n",
      "Epoch 34 Summary:\n",
      "  Train Loss: 0.9801, Train Pixel Accuracy: 74.49%\n",
      "  Validation Loss: 1.0390, Validation Pixel Accuracy: 73.50%\n",
      "  Current learning rate: 0.001000\n",
      "------------------------------\n",
      "--- Epoch 35/500 ---\n"
     ]
    },
    {
     "name": "stderr",
     "output_type": "stream",
     "text": [
      "Training: 100%|\u001b[32m██████████\u001b[0m| 23/23 [00:22<00:00,  1.00it/s, loss=0.8934]\n",
      "Validation: 100%|\u001b[31m██████████\u001b[0m| 23/23 [00:14<00:00,  1.56it/s, loss=1.0027]\n"
     ]
    },
    {
     "name": "stdout",
     "output_type": "stream",
     "text": [
      "\n",
      "Epoch 35 Summary:\n",
      "  Train Loss: 0.9704, Train Pixel Accuracy: 74.72%\n",
      "  Validation Loss: 1.0312, Validation Pixel Accuracy: 73.60%\n",
      "  Current learning rate: 0.001000\n",
      "------------------------------\n",
      "--- Epoch 36/500 ---\n"
     ]
    },
    {
     "name": "stderr",
     "output_type": "stream",
     "text": [
      "Training: 100%|\u001b[32m██████████\u001b[0m| 23/23 [00:22<00:00,  1.01it/s, loss=0.9609]\n",
      "Validation: 100%|\u001b[31m██████████\u001b[0m| 23/23 [00:14<00:00,  1.57it/s, loss=0.9793]\n"
     ]
    },
    {
     "name": "stdout",
     "output_type": "stream",
     "text": [
      "\n",
      "Epoch 36 Summary:\n",
      "  Train Loss: 0.9577, Train Pixel Accuracy: 74.87%\n",
      "  Validation Loss: 1.0033, Validation Pixel Accuracy: 73.66%\n",
      "  Current learning rate: 0.001000\n",
      "  ---> New best model saved to /kaggle/working/fcn_voc_best.pth (Validation Loss: 1.0033)\n",
      "------------------------------\n",
      "--- Epoch 37/500 ---\n"
     ]
    },
    {
     "name": "stderr",
     "output_type": "stream",
     "text": [
      "Training: 100%|\u001b[32m██████████\u001b[0m| 23/23 [00:22<00:00,  1.03it/s, loss=0.9179]\n",
      "Validation: 100%|\u001b[31m██████████\u001b[0m| 23/23 [00:14<00:00,  1.60it/s, loss=0.9913]\n"
     ]
    },
    {
     "name": "stdout",
     "output_type": "stream",
     "text": [
      "\n",
      "Epoch 37 Summary:\n",
      "  Train Loss: 0.9570, Train Pixel Accuracy: 74.98%\n",
      "  Validation Loss: 1.0126, Validation Pixel Accuracy: 73.69%\n",
      "  Current learning rate: 0.001000\n",
      "------------------------------\n",
      "--- Epoch 38/500 ---\n"
     ]
    },
    {
     "name": "stderr",
     "output_type": "stream",
     "text": [
      "Training: 100%|\u001b[32m██████████\u001b[0m| 23/23 [00:22<00:00,  1.02it/s, loss=1.0436]\n",
      "Validation: 100%|\u001b[31m██████████\u001b[0m| 23/23 [00:14<00:00,  1.56it/s, loss=1.0130]\n"
     ]
    },
    {
     "name": "stdout",
     "output_type": "stream",
     "text": [
      "\n",
      "Epoch 38 Summary:\n",
      "  Train Loss: 0.9387, Train Pixel Accuracy: 75.16%\n",
      "  Validation Loss: 1.0354, Validation Pixel Accuracy: 73.98%\n",
      "  Current learning rate: 0.001000\n",
      "------------------------------\n",
      "--- Epoch 39/500 ---\n"
     ]
    },
    {
     "name": "stderr",
     "output_type": "stream",
     "text": [
      "Training: 100%|\u001b[32m██████████\u001b[0m| 23/23 [00:22<00:00,  1.03it/s, loss=0.9003]\n",
      "Validation: 100%|\u001b[31m██████████\u001b[0m| 23/23 [00:14<00:00,  1.56it/s, loss=0.9798]\n"
     ]
    },
    {
     "name": "stdout",
     "output_type": "stream",
     "text": [
      "\n",
      "Epoch 39 Summary:\n",
      "  Train Loss: 0.9384, Train Pixel Accuracy: 75.09%\n",
      "  Validation Loss: 1.0146, Validation Pixel Accuracy: 73.51%\n",
      "  Current learning rate: 0.001000\n",
      "------------------------------\n",
      "--- Epoch 40/500 ---\n"
     ]
    },
    {
     "name": "stderr",
     "output_type": "stream",
     "text": [
      "Training: 100%|\u001b[32m██████████\u001b[0m| 23/23 [00:22<00:00,  1.01it/s, loss=0.8717]\n",
      "Validation: 100%|\u001b[31m██████████\u001b[0m| 23/23 [00:14<00:00,  1.57it/s, loss=0.9899]\n"
     ]
    },
    {
     "name": "stdout",
     "output_type": "stream",
     "text": [
      "\n",
      "Epoch 40 Summary:\n",
      "  Train Loss: 0.9228, Train Pixel Accuracy: 75.61%\n",
      "  Validation Loss: 1.0461, Validation Pixel Accuracy: 74.16%\n",
      "  Current learning rate: 0.001000\n",
      "------------------------------\n",
      "--- Epoch 41/500 ---\n"
     ]
    },
    {
     "name": "stderr",
     "output_type": "stream",
     "text": [
      "Training: 100%|\u001b[32m██████████\u001b[0m| 23/23 [00:22<00:00,  1.01it/s, loss=0.9947]\n",
      "Validation: 100%|\u001b[31m██████████\u001b[0m| 23/23 [00:14<00:00,  1.56it/s, loss=0.9807]\n"
     ]
    },
    {
     "name": "stdout",
     "output_type": "stream",
     "text": [
      "\n",
      "Epoch 41 Summary:\n",
      "  Train Loss: 0.8912, Train Pixel Accuracy: 76.23%\n",
      "  Validation Loss: 1.0052, Validation Pixel Accuracy: 73.97%\n",
      "  Current learning rate: 0.001000\n",
      "------------------------------\n",
      "--- Epoch 42/500 ---\n"
     ]
    },
    {
     "name": "stderr",
     "output_type": "stream",
     "text": [
      "Training: 100%|\u001b[32m██████████\u001b[0m| 23/23 [00:22<00:00,  1.02it/s, loss=0.7779]\n",
      "Validation: 100%|\u001b[31m██████████\u001b[0m| 23/23 [00:14<00:00,  1.55it/s, loss=0.9562]\n"
     ]
    },
    {
     "name": "stdout",
     "output_type": "stream",
     "text": [
      "\n",
      "Epoch 42 Summary:\n",
      "  Train Loss: 0.8684, Train Pixel Accuracy: 76.37%\n",
      "  Validation Loss: 0.9954, Validation Pixel Accuracy: 73.68%\n",
      "  Current learning rate: 0.001000\n",
      "  ---> New best model saved to /kaggle/working/fcn_voc_best.pth (Validation Loss: 0.9954)\n",
      "------------------------------\n",
      "--- Epoch 43/500 ---\n"
     ]
    },
    {
     "name": "stderr",
     "output_type": "stream",
     "text": [
      "Training: 100%|\u001b[32m██████████\u001b[0m| 23/23 [00:22<00:00,  1.00it/s, loss=0.8776]\n",
      "Validation: 100%|\u001b[31m██████████\u001b[0m| 23/23 [00:14<00:00,  1.57it/s, loss=0.9584]\n"
     ]
    },
    {
     "name": "stdout",
     "output_type": "stream",
     "text": [
      "\n",
      "Epoch 43 Summary:\n",
      "  Train Loss: 0.8568, Train Pixel Accuracy: 76.61%\n",
      "  Validation Loss: 0.9972, Validation Pixel Accuracy: 74.44%\n",
      "  Current learning rate: 0.001000\n",
      "------------------------------\n",
      "--- Epoch 44/500 ---\n"
     ]
    },
    {
     "name": "stderr",
     "output_type": "stream",
     "text": [
      "Training: 100%|\u001b[32m██████████\u001b[0m| 23/23 [00:22<00:00,  1.02it/s, loss=0.8882]\n",
      "Validation: 100%|\u001b[31m██████████\u001b[0m| 23/23 [00:14<00:00,  1.58it/s, loss=0.9801]\n"
     ]
    },
    {
     "name": "stdout",
     "output_type": "stream",
     "text": [
      "\n",
      "Epoch 44 Summary:\n",
      "  Train Loss: 0.8213, Train Pixel Accuracy: 77.41%\n",
      "  Validation Loss: 1.0125, Validation Pixel Accuracy: 73.41%\n",
      "  Current learning rate: 0.001000\n",
      "------------------------------\n",
      "--- Epoch 45/500 ---\n"
     ]
    },
    {
     "name": "stderr",
     "output_type": "stream",
     "text": [
      "Training: 100%|\u001b[32m██████████\u001b[0m| 23/23 [00:22<00:00,  1.01it/s, loss=0.8026]\n",
      "Validation: 100%|\u001b[31m██████████\u001b[0m| 23/23 [00:14<00:00,  1.58it/s, loss=1.1398]\n"
     ]
    },
    {
     "name": "stdout",
     "output_type": "stream",
     "text": [
      "\n",
      "Epoch 45 Summary:\n",
      "  Train Loss: 0.8390, Train Pixel Accuracy: 76.96%\n",
      "  Validation Loss: 1.1113, Validation Pixel Accuracy: 73.41%\n",
      "  Current learning rate: 0.001000\n",
      "------------------------------\n",
      "--- Epoch 46/500 ---\n"
     ]
    },
    {
     "name": "stderr",
     "output_type": "stream",
     "text": [
      "Training: 100%|\u001b[32m██████████\u001b[0m| 23/23 [00:22<00:00,  1.01it/s, loss=0.8755]\n",
      "Validation: 100%|\u001b[31m██████████\u001b[0m| 23/23 [00:14<00:00,  1.59it/s, loss=1.0331]\n"
     ]
    },
    {
     "name": "stdout",
     "output_type": "stream",
     "text": [
      "\n",
      "Epoch 46 Summary:\n",
      "  Train Loss: 0.8532, Train Pixel Accuracy: 76.73%\n",
      "  Validation Loss: 1.0404, Validation Pixel Accuracy: 72.73%\n",
      "  Current learning rate: 0.001000\n",
      "------------------------------\n",
      "--- Epoch 47/500 ---\n"
     ]
    },
    {
     "name": "stderr",
     "output_type": "stream",
     "text": [
      "Training: 100%|\u001b[32m██████████\u001b[0m| 23/23 [00:22<00:00,  1.02it/s, loss=0.6680]\n",
      "Validation: 100%|\u001b[31m██████████\u001b[0m| 23/23 [00:14<00:00,  1.55it/s, loss=1.0020]\n"
     ]
    },
    {
     "name": "stdout",
     "output_type": "stream",
     "text": [
      "\n",
      "Epoch 47 Summary:\n",
      "  Train Loss: 0.8040, Train Pixel Accuracy: 77.55%\n",
      "  Validation Loss: 0.9941, Validation Pixel Accuracy: 74.45%\n",
      "  Current learning rate: 0.001000\n",
      "  ---> New best model saved to /kaggle/working/fcn_voc_best.pth (Validation Loss: 0.9941)\n",
      "------------------------------\n",
      "--- Epoch 48/500 ---\n"
     ]
    },
    {
     "name": "stderr",
     "output_type": "stream",
     "text": [
      "Training: 100%|\u001b[32m██████████\u001b[0m| 23/23 [00:22<00:00,  1.01it/s, loss=0.8641]\n",
      "Validation: 100%|\u001b[31m██████████\u001b[0m| 23/23 [00:14<00:00,  1.61it/s, loss=1.0006]\n"
     ]
    },
    {
     "name": "stdout",
     "output_type": "stream",
     "text": [
      "\n",
      "Epoch 48 Summary:\n",
      "  Train Loss: 0.7753, Train Pixel Accuracy: 78.23%\n",
      "  Validation Loss: 1.0366, Validation Pixel Accuracy: 74.07%\n",
      "  Current learning rate: 0.001000\n",
      "------------------------------\n",
      "--- Epoch 49/500 ---\n"
     ]
    },
    {
     "name": "stderr",
     "output_type": "stream",
     "text": [
      "Training: 100%|\u001b[32m██████████\u001b[0m| 23/23 [00:22<00:00,  1.02it/s, loss=0.7393]\n",
      "Validation: 100%|\u001b[31m██████████\u001b[0m| 23/23 [00:14<00:00,  1.56it/s, loss=1.0547]\n"
     ]
    },
    {
     "name": "stdout",
     "output_type": "stream",
     "text": [
      "\n",
      "Epoch 49 Summary:\n",
      "  Train Loss: 0.7518, Train Pixel Accuracy: 78.50%\n",
      "  Validation Loss: 1.0202, Validation Pixel Accuracy: 74.76%\n",
      "  Current learning rate: 0.001000\n",
      "------------------------------\n",
      "--- Epoch 50/500 ---\n"
     ]
    },
    {
     "name": "stderr",
     "output_type": "stream",
     "text": [
      "Training: 100%|\u001b[32m██████████\u001b[0m| 23/23 [00:22<00:00,  1.03it/s, loss=0.6370]\n",
      "Validation: 100%|\u001b[31m██████████\u001b[0m| 23/23 [00:14<00:00,  1.55it/s, loss=1.0054]\n"
     ]
    },
    {
     "name": "stdout",
     "output_type": "stream",
     "text": [
      "\n",
      "Epoch 50 Summary:\n",
      "  Train Loss: 0.7129, Train Pixel Accuracy: 79.41%\n",
      "  Validation Loss: 1.0119, Validation Pixel Accuracy: 75.03%\n",
      "  Current learning rate: 0.001000\n",
      "------------------------------\n",
      "--- Epoch 51/500 ---\n"
     ]
    },
    {
     "name": "stderr",
     "output_type": "stream",
     "text": [
      "Training: 100%|\u001b[32m██████████\u001b[0m| 23/23 [00:22<00:00,  1.04it/s, loss=0.7794]\n",
      "Validation: 100%|\u001b[31m██████████\u001b[0m| 23/23 [00:14<00:00,  1.60it/s, loss=1.0397]\n"
     ]
    },
    {
     "name": "stdout",
     "output_type": "stream",
     "text": [
      "\n",
      "Epoch 51 Summary:\n",
      "  Train Loss: 0.6961, Train Pixel Accuracy: 79.65%\n",
      "  Validation Loss: 1.0407, Validation Pixel Accuracy: 75.00%\n",
      "  Current learning rate: 0.001000\n",
      "------------------------------\n",
      "--- Epoch 52/500 ---\n"
     ]
    },
    {
     "name": "stderr",
     "output_type": "stream",
     "text": [
      "Training: 100%|\u001b[32m██████████\u001b[0m| 23/23 [00:22<00:00,  1.02it/s, loss=0.8555]\n",
      "Validation: 100%|\u001b[31m██████████\u001b[0m| 23/23 [00:14<00:00,  1.62it/s, loss=1.0004]\n"
     ]
    },
    {
     "name": "stdout",
     "output_type": "stream",
     "text": [
      "\n",
      "Epoch 52 Summary:\n",
      "  Train Loss: 0.6880, Train Pixel Accuracy: 79.85%\n",
      "  Validation Loss: 1.0469, Validation Pixel Accuracy: 74.35%\n",
      "  Current learning rate: 0.001000\n",
      "------------------------------\n",
      "--- Epoch 53/500 ---\n"
     ]
    },
    {
     "name": "stderr",
     "output_type": "stream",
     "text": [
      "Training: 100%|\u001b[32m██████████\u001b[0m| 23/23 [00:22<00:00,  1.01it/s, loss=0.6979]\n",
      "Validation: 100%|\u001b[31m██████████\u001b[0m| 23/23 [00:14<00:00,  1.60it/s, loss=1.1504]\n"
     ]
    },
    {
     "name": "stdout",
     "output_type": "stream",
     "text": [
      "\n",
      "Epoch 53 Summary:\n",
      "  Train Loss: 0.6662, Train Pixel Accuracy: 80.33%\n",
      "  Validation Loss: 1.1802, Validation Pixel Accuracy: 73.88%\n",
      "  Current learning rate: 0.000200\n",
      "------------------------------\n",
      "--- Epoch 54/500 ---\n"
     ]
    },
    {
     "name": "stderr",
     "output_type": "stream",
     "text": [
      "Training: 100%|\u001b[32m██████████\u001b[0m| 23/23 [00:22<00:00,  1.01it/s, loss=0.6482]\n",
      "Validation: 100%|\u001b[31m██████████\u001b[0m| 23/23 [00:15<00:00,  1.51it/s, loss=1.0004]\n"
     ]
    },
    {
     "name": "stdout",
     "output_type": "stream",
     "text": [
      "\n",
      "Epoch 54 Summary:\n",
      "  Train Loss: 0.6100, Train Pixel Accuracy: 81.65%\n",
      "  Validation Loss: 1.0140, Validation Pixel Accuracy: 74.44%\n",
      "  Current learning rate: 0.000200\n",
      "------------------------------\n",
      "--- Epoch 55/500 ---\n"
     ]
    },
    {
     "name": "stderr",
     "output_type": "stream",
     "text": [
      "Training: 100%|\u001b[32m██████████\u001b[0m| 23/23 [00:22<00:00,  1.01it/s, loss=0.6675]\n",
      "Validation: 100%|\u001b[31m██████████\u001b[0m| 23/23 [00:15<00:00,  1.53it/s, loss=1.0527]\n"
     ]
    },
    {
     "name": "stdout",
     "output_type": "stream",
     "text": [
      "\n",
      "Epoch 55 Summary:\n",
      "  Train Loss: 0.5472, Train Pixel Accuracy: 83.29%\n",
      "  Validation Loss: 1.0630, Validation Pixel Accuracy: 74.55%\n",
      "  Current learning rate: 0.000200\n",
      "------------------------------\n",
      "--- Epoch 56/500 ---\n"
     ]
    },
    {
     "name": "stderr",
     "output_type": "stream",
     "text": [
      "Training: 100%|\u001b[32m██████████\u001b[0m| 23/23 [00:23<00:00,  1.00s/it, loss=0.5256]\n",
      "Validation: 100%|\u001b[31m██████████\u001b[0m| 23/23 [00:14<00:00,  1.56it/s, loss=1.1027]\n"
     ]
    },
    {
     "name": "stdout",
     "output_type": "stream",
     "text": [
      "\n",
      "Epoch 56 Summary:\n",
      "  Train Loss: 0.5212, Train Pixel Accuracy: 83.92%\n",
      "  Validation Loss: 1.1171, Validation Pixel Accuracy: 74.81%\n",
      "  Current learning rate: 0.000200\n",
      "------------------------------\n",
      "--- Epoch 57/500 ---\n"
     ]
    },
    {
     "name": "stderr",
     "output_type": "stream",
     "text": [
      "Training: 100%|\u001b[32m██████████\u001b[0m| 23/23 [00:23<00:00,  1.01s/it, loss=0.5101]\n",
      "Validation: 100%|\u001b[31m██████████\u001b[0m| 23/23 [00:14<00:00,  1.59it/s, loss=1.0967]\n"
     ]
    },
    {
     "name": "stdout",
     "output_type": "stream",
     "text": [
      "\n",
      "Epoch 57 Summary:\n",
      "  Train Loss: 0.5002, Train Pixel Accuracy: 84.45%\n",
      "  Validation Loss: 1.1189, Validation Pixel Accuracy: 73.98%\n",
      "  Current learning rate: 0.000200\n",
      "------------------------------\n",
      "--- Epoch 58/500 ---\n"
     ]
    },
    {
     "name": "stderr",
     "output_type": "stream",
     "text": [
      "Training: 100%|\u001b[32m██████████\u001b[0m| 23/23 [00:22<00:00,  1.03it/s, loss=0.4936]\n",
      "Validation: 100%|\u001b[31m██████████\u001b[0m| 23/23 [00:14<00:00,  1.61it/s, loss=1.1199]\n"
     ]
    },
    {
     "name": "stdout",
     "output_type": "stream",
     "text": [
      "\n",
      "Epoch 58 Summary:\n",
      "  Train Loss: 0.4805, Train Pixel Accuracy: 85.03%\n",
      "  Validation Loss: 1.1641, Validation Pixel Accuracy: 74.10%\n",
      "  Current learning rate: 0.000200\n",
      "------------------------------\n",
      "--- Epoch 59/500 ---\n"
     ]
    },
    {
     "name": "stderr",
     "output_type": "stream",
     "text": [
      "Training: 100%|\u001b[32m██████████\u001b[0m| 23/23 [00:22<00:00,  1.01it/s, loss=0.5031]\n",
      "Validation: 100%|\u001b[31m██████████\u001b[0m| 23/23 [00:14<00:00,  1.57it/s, loss=1.1468]\n"
     ]
    },
    {
     "name": "stdout",
     "output_type": "stream",
     "text": [
      "\n",
      "Epoch 59 Summary:\n",
      "  Train Loss: 0.4669, Train Pixel Accuracy: 85.45%\n",
      "  Validation Loss: 1.1778, Validation Pixel Accuracy: 73.79%\n",
      "  Current learning rate: 0.000040\n",
      "------------------------------\n",
      "--- Epoch 60/500 ---\n"
     ]
    },
    {
     "name": "stderr",
     "output_type": "stream",
     "text": [
      "Training: 100%|\u001b[32m██████████\u001b[0m| 23/23 [00:22<00:00,  1.02it/s, loss=0.4832]\n",
      "Validation: 100%|\u001b[31m██████████\u001b[0m| 23/23 [00:14<00:00,  1.58it/s, loss=1.1445]\n"
     ]
    },
    {
     "name": "stdout",
     "output_type": "stream",
     "text": [
      "\n",
      "Epoch 60 Summary:\n",
      "  Train Loss: 0.4433, Train Pixel Accuracy: 86.17%\n",
      "  Validation Loss: 1.1902, Validation Pixel Accuracy: 74.21%\n",
      "  Current learning rate: 0.000040\n",
      "------------------------------\n",
      "--- Epoch 61/500 ---\n"
     ]
    },
    {
     "name": "stderr",
     "output_type": "stream",
     "text": [
      "Training: 100%|\u001b[32m██████████\u001b[0m| 23/23 [00:22<00:00,  1.02it/s, loss=0.4738]\n",
      "Validation: 100%|\u001b[31m██████████\u001b[0m| 23/23 [00:14<00:00,  1.59it/s, loss=1.1564]\n"
     ]
    },
    {
     "name": "stdout",
     "output_type": "stream",
     "text": [
      "\n",
      "Epoch 61 Summary:\n",
      "  Train Loss: 0.4345, Train Pixel Accuracy: 86.51%\n",
      "  Validation Loss: 1.2024, Validation Pixel Accuracy: 74.16%\n",
      "  Current learning rate: 0.000040\n",
      "------------------------------\n",
      "--- Epoch 62/500 ---\n"
     ]
    },
    {
     "name": "stderr",
     "output_type": "stream",
     "text": [
      "Training: 100%|\u001b[32m██████████\u001b[0m| 23/23 [00:22<00:00,  1.03it/s, loss=0.4695]\n",
      "Validation: 100%|\u001b[31m██████████\u001b[0m| 23/23 [00:14<00:00,  1.55it/s, loss=1.1638]\n"
     ]
    },
    {
     "name": "stdout",
     "output_type": "stream",
     "text": [
      "\n",
      "Epoch 62 Summary:\n",
      "  Train Loss: 0.4299, Train Pixel Accuracy: 86.63%\n",
      "  Validation Loss: 1.2101, Validation Pixel Accuracy: 73.92%\n",
      "  Current learning rate: 0.000040\n",
      "------------------------------\n",
      "--- Epoch 63/500 ---\n"
     ]
    },
    {
     "name": "stderr",
     "output_type": "stream",
     "text": [
      "Training: 100%|\u001b[32m██████████\u001b[0m| 23/23 [00:22<00:00,  1.02it/s, loss=0.3929]\n",
      "Validation: 100%|\u001b[31m██████████\u001b[0m| 23/23 [00:14<00:00,  1.59it/s, loss=1.1816]\n"
     ]
    },
    {
     "name": "stdout",
     "output_type": "stream",
     "text": [
      "\n",
      "Epoch 63 Summary:\n",
      "  Train Loss: 0.4261, Train Pixel Accuracy: 86.80%\n",
      "  Validation Loss: 1.2254, Validation Pixel Accuracy: 74.09%\n",
      "  Current learning rate: 0.000040\n",
      "------------------------------\n",
      "--- Epoch 64/500 ---\n"
     ]
    },
    {
     "name": "stderr",
     "output_type": "stream",
     "text": [
      "Training: 100%|\u001b[32m██████████\u001b[0m| 23/23 [00:22<00:00,  1.02it/s, loss=0.3707]\n",
      "Validation: 100%|\u001b[31m██████████\u001b[0m| 23/23 [00:14<00:00,  1.57it/s, loss=1.1776]\n"
     ]
    },
    {
     "name": "stdout",
     "output_type": "stream",
     "text": [
      "\n",
      "Epoch 64 Summary:\n",
      "  Train Loss: 0.4222, Train Pixel Accuracy: 86.89%\n",
      "  Validation Loss: 1.2276, Validation Pixel Accuracy: 73.91%\n",
      "  Current learning rate: 0.000040\n",
      "------------------------------\n",
      "--- Epoch 65/500 ---\n"
     ]
    },
    {
     "name": "stderr",
     "output_type": "stream",
     "text": [
      "Training: 100%|\u001b[32m██████████\u001b[0m| 23/23 [00:22<00:00,  1.03it/s, loss=0.3865]\n",
      "Validation: 100%|\u001b[31m██████████\u001b[0m| 23/23 [00:14<00:00,  1.61it/s, loss=1.1767]\n"
     ]
    },
    {
     "name": "stdout",
     "output_type": "stream",
     "text": [
      "\n",
      "Epoch 65 Summary:\n",
      "  Train Loss: 0.4190, Train Pixel Accuracy: 86.95%\n",
      "  Validation Loss: 1.2254, Validation Pixel Accuracy: 73.74%\n",
      "  Current learning rate: 0.000008\n",
      "------------------------------\n",
      "--- Epoch 66/500 ---\n"
     ]
    },
    {
     "name": "stderr",
     "output_type": "stream",
     "text": [
      "Training: 100%|\u001b[32m██████████\u001b[0m| 23/23 [00:22<00:00,  1.02it/s, loss=0.3669]\n",
      "Validation: 100%|\u001b[31m██████████\u001b[0m| 23/23 [00:14<00:00,  1.59it/s, loss=1.1880]\n"
     ]
    },
    {
     "name": "stdout",
     "output_type": "stream",
     "text": [
      "\n",
      "Epoch 66 Summary:\n",
      "  Train Loss: 0.4138, Train Pixel Accuracy: 87.21%\n",
      "  Validation Loss: 1.2420, Validation Pixel Accuracy: 74.00%\n",
      "  Current learning rate: 0.000008\n",
      "------------------------------\n",
      "--- Epoch 67/500 ---\n"
     ]
    },
    {
     "name": "stderr",
     "output_type": "stream",
     "text": [
      "Training: 100%|\u001b[32m██████████\u001b[0m| 23/23 [00:22<00:00,  1.04it/s, loss=0.3261]\n",
      "Validation: 100%|\u001b[31m██████████\u001b[0m| 23/23 [00:14<00:00,  1.59it/s, loss=1.1927]\n"
     ]
    },
    {
     "name": "stdout",
     "output_type": "stream",
     "text": [
      "\n",
      "Epoch 67 Summary:\n",
      "  Train Loss: 0.4123, Train Pixel Accuracy: 87.20%\n",
      "  Validation Loss: 1.2418, Validation Pixel Accuracy: 73.96%\n",
      "  Current learning rate: 0.000008\n",
      "------------------------------\n",
      "--- Epoch 68/500 ---\n"
     ]
    },
    {
     "name": "stderr",
     "output_type": "stream",
     "text": [
      "Training: 100%|\u001b[32m██████████\u001b[0m| 23/23 [00:22<00:00,  1.02it/s, loss=0.3720]\n",
      "Validation: 100%|\u001b[31m██████████\u001b[0m| 23/23 [00:14<00:00,  1.55it/s, loss=1.1913]\n"
     ]
    },
    {
     "name": "stdout",
     "output_type": "stream",
     "text": [
      "\n",
      "Epoch 68 Summary:\n",
      "  Train Loss: 0.4117, Train Pixel Accuracy: 87.21%\n",
      "  Validation Loss: 1.2447, Validation Pixel Accuracy: 73.99%\n",
      "  Current learning rate: 0.000008\n",
      "------------------------------\n",
      "--- Epoch 69/500 ---\n"
     ]
    },
    {
     "name": "stderr",
     "output_type": "stream",
     "text": [
      "Training: 100%|\u001b[32m██████████\u001b[0m| 23/23 [00:23<00:00,  1.00s/it, loss=0.3606]\n",
      "Validation: 100%|\u001b[31m██████████\u001b[0m| 23/23 [00:14<00:00,  1.58it/s, loss=1.1938]\n"
     ]
    },
    {
     "name": "stdout",
     "output_type": "stream",
     "text": [
      "\n",
      "Epoch 69 Summary:\n",
      "  Train Loss: 0.4111, Train Pixel Accuracy: 87.25%\n",
      "  Validation Loss: 1.2457, Validation Pixel Accuracy: 73.95%\n",
      "  Current learning rate: 0.000008\n",
      "------------------------------\n",
      "--- Epoch 70/500 ---\n"
     ]
    },
    {
     "name": "stderr",
     "output_type": "stream",
     "text": [
      "Training: 100%|\u001b[32m██████████\u001b[0m| 23/23 [00:22<00:00,  1.01it/s, loss=0.4753]\n",
      "Validation: 100%|\u001b[31m██████████\u001b[0m| 23/23 [00:14<00:00,  1.58it/s, loss=1.1958]\n"
     ]
    },
    {
     "name": "stdout",
     "output_type": "stream",
     "text": [
      "\n",
      "Epoch 70 Summary:\n",
      "  Train Loss: 0.4105, Train Pixel Accuracy: 87.27%\n",
      "  Validation Loss: 1.2500, Validation Pixel Accuracy: 73.93%\n",
      "  Current learning rate: 0.000008\n",
      "------------------------------\n",
      "--- Epoch 71/500 ---\n"
     ]
    },
    {
     "name": "stderr",
     "output_type": "stream",
     "text": [
      "Training: 100%|\u001b[32m██████████\u001b[0m| 23/23 [00:22<00:00,  1.01it/s, loss=0.5169]\n",
      "Validation: 100%|\u001b[31m██████████\u001b[0m| 23/23 [00:14<00:00,  1.56it/s, loss=1.1978]\n"
     ]
    },
    {
     "name": "stdout",
     "output_type": "stream",
     "text": [
      "\n",
      "Epoch 71 Summary:\n",
      "  Train Loss: 0.4102, Train Pixel Accuracy: 87.30%\n",
      "  Validation Loss: 1.2507, Validation Pixel Accuracy: 73.96%\n",
      "  Current learning rate: 0.000002\n",
      "------------------------------\n",
      "--- Epoch 72/500 ---\n"
     ]
    },
    {
     "name": "stderr",
     "output_type": "stream",
     "text": [
      "Training: 100%|\u001b[32m██████████\u001b[0m| 23/23 [00:22<00:00,  1.01it/s, loss=0.4446]\n",
      "Validation: 100%|\u001b[31m██████████\u001b[0m| 23/23 [00:14<00:00,  1.56it/s, loss=1.1980]\n"
     ]
    },
    {
     "name": "stdout",
     "output_type": "stream",
     "text": [
      "\n",
      "Epoch 72 Summary:\n",
      "  Train Loss: 0.4088, Train Pixel Accuracy: 87.32%\n",
      "  Validation Loss: 1.2506, Validation Pixel Accuracy: 73.95%\n",
      "  Current learning rate: 0.000002\n",
      "------------------------------\n",
      "--- Epoch 73/500 ---\n"
     ]
    },
    {
     "name": "stderr",
     "output_type": "stream",
     "text": [
      "Training: 100%|\u001b[32m██████████\u001b[0m| 23/23 [00:22<00:00,  1.02it/s, loss=0.4080]\n",
      "Validation: 100%|\u001b[31m██████████\u001b[0m| 23/23 [00:15<00:00,  1.53it/s, loss=1.1979]\n"
     ]
    },
    {
     "name": "stdout",
     "output_type": "stream",
     "text": [
      "\n",
      "Epoch 73 Summary:\n",
      "  Train Loss: 0.4084, Train Pixel Accuracy: 87.33%\n",
      "  Validation Loss: 1.2508, Validation Pixel Accuracy: 73.94%\n",
      "  Current learning rate: 0.000002\n",
      "------------------------------\n",
      "--- Epoch 74/500 ---\n"
     ]
    },
    {
     "name": "stderr",
     "output_type": "stream",
     "text": [
      "Training: 100%|\u001b[32m██████████\u001b[0m| 23/23 [00:22<00:00,  1.03it/s, loss=0.4897]\n",
      "Validation: 100%|\u001b[31m██████████\u001b[0m| 23/23 [00:14<00:00,  1.60it/s, loss=1.1977]\n"
     ]
    },
    {
     "name": "stdout",
     "output_type": "stream",
     "text": [
      "\n",
      "Epoch 74 Summary:\n",
      "  Train Loss: 0.4087, Train Pixel Accuracy: 87.34%\n",
      "  Validation Loss: 1.2517, Validation Pixel Accuracy: 73.94%\n",
      "  Current learning rate: 0.000002\n",
      "------------------------------\n",
      "--- Epoch 75/500 ---\n"
     ]
    },
    {
     "name": "stderr",
     "output_type": "stream",
     "text": [
      "Training: 100%|\u001b[32m██████████\u001b[0m| 23/23 [00:22<00:00,  1.01it/s, loss=0.4218]\n",
      "Validation: 100%|\u001b[31m██████████\u001b[0m| 23/23 [00:14<00:00,  1.58it/s, loss=1.1983]\n"
     ]
    },
    {
     "name": "stdout",
     "output_type": "stream",
     "text": [
      "\n",
      "Epoch 75 Summary:\n",
      "  Train Loss: 0.4082, Train Pixel Accuracy: 87.34%\n",
      "  Validation Loss: 1.2518, Validation Pixel Accuracy: 73.94%\n",
      "  Current learning rate: 0.000002\n",
      "------------------------------\n",
      "--- Epoch 76/500 ---\n"
     ]
    },
    {
     "name": "stderr",
     "output_type": "stream",
     "text": [
      "Training: 100%|\u001b[32m██████████\u001b[0m| 23/23 [00:22<00:00,  1.02it/s, loss=0.4065]\n",
      "Validation: 100%|\u001b[31m██████████\u001b[0m| 23/23 [00:14<00:00,  1.59it/s, loss=1.1989]\n"
     ]
    },
    {
     "name": "stdout",
     "output_type": "stream",
     "text": [
      "\n",
      "Epoch 76 Summary:\n",
      "  Train Loss: 0.4080, Train Pixel Accuracy: 87.35%\n",
      "  Validation Loss: 1.2526, Validation Pixel Accuracy: 73.94%\n",
      "  Current learning rate: 0.000002\n",
      "------------------------------\n",
      "--- Epoch 77/500 ---\n"
     ]
    },
    {
     "name": "stderr",
     "output_type": "stream",
     "text": [
      "Training: 100%|\u001b[32m██████████\u001b[0m| 23/23 [00:22<00:00,  1.00it/s, loss=0.5173]\n",
      "Validation: 100%|\u001b[31m██████████\u001b[0m| 23/23 [00:14<00:00,  1.60it/s, loss=1.1986]\n"
     ]
    },
    {
     "name": "stdout",
     "output_type": "stream",
     "text": [
      "\n",
      "Epoch 77 Summary:\n",
      "  Train Loss: 0.4084, Train Pixel Accuracy: 87.35%\n",
      "  Validation Loss: 1.2524, Validation Pixel Accuracy: 73.94%\n",
      "  Current learning rate: 0.000001\n",
      "------------------------------\n",
      "--- Epoch 78/500 ---\n"
     ]
    },
    {
     "name": "stderr",
     "output_type": "stream",
     "text": [
      "Training: 100%|\u001b[32m██████████\u001b[0m| 23/23 [00:22<00:00,  1.02it/s, loss=0.4046]\n",
      "Validation: 100%|\u001b[31m██████████\u001b[0m| 23/23 [00:14<00:00,  1.57it/s, loss=1.1988]\n"
     ]
    },
    {
     "name": "stdout",
     "output_type": "stream",
     "text": [
      "\n",
      "Epoch 78 Summary:\n",
      "  Train Loss: 0.4076, Train Pixel Accuracy: 87.36%\n",
      "  Validation Loss: 1.2524, Validation Pixel Accuracy: 73.94%\n",
      "  Current learning rate: 0.000001\n",
      "------------------------------\n",
      "--- Epoch 79/500 ---\n"
     ]
    },
    {
     "name": "stderr",
     "output_type": "stream",
     "text": [
      "Training: 100%|\u001b[32m██████████\u001b[0m| 23/23 [00:22<00:00,  1.02it/s, loss=0.4949]\n",
      "Validation: 100%|\u001b[31m██████████\u001b[0m| 23/23 [00:14<00:00,  1.57it/s, loss=1.1992]\n"
     ]
    },
    {
     "name": "stdout",
     "output_type": "stream",
     "text": [
      "\n",
      "Epoch 79 Summary:\n",
      "  Train Loss: 0.4079, Train Pixel Accuracy: 87.36%\n",
      "  Validation Loss: 1.2530, Validation Pixel Accuracy: 73.94%\n",
      "  Current learning rate: 0.000001\n",
      "------------------------------\n",
      "--- Epoch 80/500 ---\n"
     ]
    },
    {
     "name": "stderr",
     "output_type": "stream",
     "text": [
      "Training: 100%|\u001b[32m██████████\u001b[0m| 23/23 [00:22<00:00,  1.02it/s, loss=0.4248]\n",
      "Validation: 100%|\u001b[31m██████████\u001b[0m| 23/23 [00:14<00:00,  1.60it/s, loss=1.1996]\n"
     ]
    },
    {
     "name": "stdout",
     "output_type": "stream",
     "text": [
      "\n",
      "Epoch 80 Summary:\n",
      "  Train Loss: 0.4076, Train Pixel Accuracy: 87.36%\n",
      "  Validation Loss: 1.2534, Validation Pixel Accuracy: 73.94%\n",
      "  Current learning rate: 0.000001\n",
      "------------------------------\n",
      "--- Epoch 81/500 ---\n"
     ]
    },
    {
     "name": "stderr",
     "output_type": "stream",
     "text": [
      "Training: 100%|\u001b[32m██████████\u001b[0m| 23/23 [00:22<00:00,  1.02it/s, loss=0.4315]\n",
      "Validation: 100%|\u001b[31m██████████\u001b[0m| 23/23 [00:14<00:00,  1.61it/s, loss=1.1996]\n"
     ]
    },
    {
     "name": "stdout",
     "output_type": "stream",
     "text": [
      "\n",
      "Epoch 81 Summary:\n",
      "  Train Loss: 0.4075, Train Pixel Accuracy: 87.37%\n",
      "  Validation Loss: 1.2537, Validation Pixel Accuracy: 73.94%\n",
      "  Current learning rate: 0.000001\n",
      "------------------------------\n",
      "--- Epoch 82/500 ---\n"
     ]
    },
    {
     "name": "stderr",
     "output_type": "stream",
     "text": [
      "Training: 100%|\u001b[32m██████████\u001b[0m| 23/23 [00:22<00:00,  1.00it/s, loss=0.4439]\n",
      "Validation: 100%|\u001b[31m██████████\u001b[0m| 23/23 [00:14<00:00,  1.57it/s, loss=1.1995]\n"
     ]
    },
    {
     "name": "stdout",
     "output_type": "stream",
     "text": [
      "\n",
      "Epoch 82 Summary:\n",
      "  Train Loss: 0.4077, Train Pixel Accuracy: 87.37%\n",
      "  Validation Loss: 1.2534, Validation Pixel Accuracy: 73.93%\n",
      "  Current learning rate: 0.000001\n",
      "------------------------------\n",
      "--- Epoch 83/500 ---\n"
     ]
    },
    {
     "name": "stderr",
     "output_type": "stream",
     "text": [
      "Training: 100%|\u001b[32m██████████\u001b[0m| 23/23 [00:22<00:00,  1.02it/s, loss=0.4253]\n",
      "Validation: 100%|\u001b[31m██████████\u001b[0m| 23/23 [00:14<00:00,  1.57it/s, loss=1.1997]\n"
     ]
    },
    {
     "name": "stdout",
     "output_type": "stream",
     "text": [
      "\n",
      "Epoch 83 Summary:\n",
      "  Train Loss: 0.4071, Train Pixel Accuracy: 87.38%\n",
      "  Validation Loss: 1.2535, Validation Pixel Accuracy: 73.93%\n",
      "  Current learning rate: 0.000001\n",
      "------------------------------\n",
      "--- Epoch 84/500 ---\n"
     ]
    },
    {
     "name": "stderr",
     "output_type": "stream",
     "text": [
      "Training: 100%|\u001b[32m██████████\u001b[0m| 23/23 [00:22<00:00,  1.03it/s, loss=0.4213]\n",
      "Validation: 100%|\u001b[31m██████████\u001b[0m| 23/23 [00:14<00:00,  1.59it/s, loss=1.2000]\n"
     ]
    },
    {
     "name": "stdout",
     "output_type": "stream",
     "text": [
      "\n",
      "Epoch 84 Summary:\n",
      "  Train Loss: 0.4072, Train Pixel Accuracy: 87.38%\n",
      "  Validation Loss: 1.2541, Validation Pixel Accuracy: 73.93%\n",
      "  Current learning rate: 0.000001\n",
      "------------------------------\n",
      "--- Epoch 85/500 ---\n"
     ]
    },
    {
     "name": "stderr",
     "output_type": "stream",
     "text": [
      "Training: 100%|\u001b[32m██████████\u001b[0m| 23/23 [00:22<00:00,  1.02it/s, loss=0.3658]\n",
      "Validation: 100%|\u001b[31m██████████\u001b[0m| 23/23 [00:14<00:00,  1.55it/s, loss=1.2003]\n"
     ]
    },
    {
     "name": "stdout",
     "output_type": "stream",
     "text": [
      "\n",
      "Epoch 85 Summary:\n",
      "  Train Loss: 0.4067, Train Pixel Accuracy: 87.38%\n",
      "  Validation Loss: 1.2543, Validation Pixel Accuracy: 73.94%\n",
      "  Current learning rate: 0.000001\n",
      "------------------------------\n",
      "--- Epoch 86/500 ---\n"
     ]
    },
    {
     "name": "stderr",
     "output_type": "stream",
     "text": [
      "Training: 100%|\u001b[32m██████████\u001b[0m| 23/23 [00:22<00:00,  1.02it/s, loss=0.4188]\n",
      "Validation: 100%|\u001b[31m██████████\u001b[0m| 23/23 [00:14<00:00,  1.61it/s, loss=1.2007]\n"
     ]
    },
    {
     "name": "stdout",
     "output_type": "stream",
     "text": [
      "\n",
      "Epoch 86 Summary:\n",
      "  Train Loss: 0.4070, Train Pixel Accuracy: 87.38%\n",
      "  Validation Loss: 1.2549, Validation Pixel Accuracy: 73.94%\n",
      "  Current learning rate: 0.000001\n",
      "------------------------------\n",
      "--- Epoch 87/500 ---\n"
     ]
    },
    {
     "name": "stderr",
     "output_type": "stream",
     "text": [
      "Training: 100%|\u001b[32m██████████\u001b[0m| 23/23 [00:22<00:00,  1.02it/s, loss=0.3691]\n",
      "Validation: 100%|\u001b[31m██████████\u001b[0m| 23/23 [00:14<00:00,  1.62it/s, loss=1.2004]\n"
     ]
    },
    {
     "name": "stdout",
     "output_type": "stream",
     "text": [
      "\n",
      "Epoch 87 Summary:\n",
      "  Train Loss: 0.4067, Train Pixel Accuracy: 87.38%\n",
      "  Validation Loss: 1.2549, Validation Pixel Accuracy: 73.93%\n",
      "  Current learning rate: 0.000001\n",
      "------------------------------\n",
      "--- Epoch 88/500 ---\n"
     ]
    },
    {
     "name": "stderr",
     "output_type": "stream",
     "text": [
      "Training: 100%|\u001b[32m██████████\u001b[0m| 23/23 [00:22<00:00,  1.03it/s, loss=0.3693]\n",
      "Validation: 100%|\u001b[31m██████████\u001b[0m| 23/23 [00:14<00:00,  1.60it/s, loss=1.2008]\n"
     ]
    },
    {
     "name": "stdout",
     "output_type": "stream",
     "text": [
      "\n",
      "Epoch 88 Summary:\n",
      "  Train Loss: 0.4066, Train Pixel Accuracy: 87.39%\n",
      "  Validation Loss: 1.2551, Validation Pixel Accuracy: 73.93%\n",
      "  Current learning rate: 0.000001\n",
      "------------------------------\n",
      "--- Epoch 89/500 ---\n"
     ]
    },
    {
     "name": "stderr",
     "output_type": "stream",
     "text": [
      "Training: 100%|\u001b[32m██████████\u001b[0m| 23/23 [00:22<00:00,  1.03it/s, loss=0.3681]\n",
      "Validation: 100%|\u001b[31m██████████\u001b[0m| 23/23 [00:14<00:00,  1.61it/s, loss=1.2014]\n"
     ]
    },
    {
     "name": "stdout",
     "output_type": "stream",
     "text": [
      "\n",
      "Epoch 89 Summary:\n",
      "  Train Loss: 0.4064, Train Pixel Accuracy: 87.39%\n",
      "  Validation Loss: 1.2553, Validation Pixel Accuracy: 73.93%\n",
      "  Current learning rate: 0.000001\n",
      "------------------------------\n",
      "--- Epoch 90/500 ---\n"
     ]
    },
    {
     "name": "stderr",
     "output_type": "stream",
     "text": [
      "Training: 100%|\u001b[32m██████████\u001b[0m| 23/23 [00:22<00:00,  1.03it/s, loss=0.4449]\n",
      "Validation: 100%|\u001b[31m██████████\u001b[0m| 23/23 [00:14<00:00,  1.61it/s, loss=1.2011]\n"
     ]
    },
    {
     "name": "stdout",
     "output_type": "stream",
     "text": [
      "\n",
      "Epoch 90 Summary:\n",
      "  Train Loss: 0.4068, Train Pixel Accuracy: 87.40%\n",
      "  Validation Loss: 1.2554, Validation Pixel Accuracy: 73.93%\n",
      "  Current learning rate: 0.000001\n",
      "------------------------------\n",
      "--- Epoch 91/500 ---\n"
     ]
    },
    {
     "name": "stderr",
     "output_type": "stream",
     "text": [
      "Training: 100%|\u001b[32m██████████\u001b[0m| 23/23 [00:22<00:00,  1.04it/s, loss=0.3625]\n",
      "Validation: 100%|\u001b[31m██████████\u001b[0m| 23/23 [00:14<00:00,  1.58it/s, loss=1.2014]\n"
     ]
    },
    {
     "name": "stdout",
     "output_type": "stream",
     "text": [
      "\n",
      "Epoch 91 Summary:\n",
      "  Train Loss: 0.4062, Train Pixel Accuracy: 87.40%\n",
      "  Validation Loss: 1.2557, Validation Pixel Accuracy: 73.93%\n",
      "  Current learning rate: 0.000001\n",
      "------------------------------\n",
      "--- Epoch 92/500 ---\n"
     ]
    },
    {
     "name": "stderr",
     "output_type": "stream",
     "text": [
      "Training: 100%|\u001b[32m██████████\u001b[0m| 23/23 [00:23<00:00,  1.00s/it, loss=0.3210]\n",
      "Validation: 100%|\u001b[31m██████████\u001b[0m| 23/23 [00:14<00:00,  1.59it/s, loss=1.2017]\n"
     ]
    },
    {
     "name": "stdout",
     "output_type": "stream",
     "text": [
      "\n",
      "Epoch 92 Summary:\n",
      "  Train Loss: 0.4059, Train Pixel Accuracy: 87.40%\n",
      "  Validation Loss: 1.2556, Validation Pixel Accuracy: 73.93%\n",
      "  Current learning rate: 0.000001\n",
      "------------------------------\n",
      "--- Epoch 93/500 ---\n"
     ]
    },
    {
     "name": "stderr",
     "output_type": "stream",
     "text": [
      "Training: 100%|\u001b[32m██████████\u001b[0m| 23/23 [00:22<00:00,  1.03it/s, loss=0.3998]\n",
      "Validation: 100%|\u001b[31m██████████\u001b[0m| 23/23 [00:14<00:00,  1.62it/s, loss=1.2017]\n"
     ]
    },
    {
     "name": "stdout",
     "output_type": "stream",
     "text": [
      "\n",
      "Epoch 93 Summary:\n",
      "  Train Loss: 0.4063, Train Pixel Accuracy: 87.40%\n",
      "  Validation Loss: 1.2561, Validation Pixel Accuracy: 73.92%\n",
      "  Current learning rate: 0.000001\n",
      "------------------------------\n",
      "--- Epoch 94/500 ---\n"
     ]
    },
    {
     "name": "stderr",
     "output_type": "stream",
     "text": [
      "Training: 100%|\u001b[32m██████████\u001b[0m| 23/23 [00:22<00:00,  1.02it/s, loss=0.5046]\n",
      "Validation: 100%|\u001b[31m██████████\u001b[0m| 23/23 [00:14<00:00,  1.60it/s, loss=1.2023]\n"
     ]
    },
    {
     "name": "stdout",
     "output_type": "stream",
     "text": [
      "\n",
      "Epoch 94 Summary:\n",
      "  Train Loss: 0.4069, Train Pixel Accuracy: 87.40%\n",
      "  Validation Loss: 1.2569, Validation Pixel Accuracy: 73.93%\n",
      "  Current learning rate: 0.000001\n",
      "------------------------------\n",
      "--- Epoch 95/500 ---\n"
     ]
    },
    {
     "name": "stderr",
     "output_type": "stream",
     "text": [
      "Training: 100%|\u001b[32m██████████\u001b[0m| 23/23 [00:22<00:00,  1.00it/s, loss=0.3811]\n",
      "Validation: 100%|\u001b[31m██████████\u001b[0m| 23/23 [00:14<00:00,  1.59it/s, loss=1.2023]\n"
     ]
    },
    {
     "name": "stdout",
     "output_type": "stream",
     "text": [
      "\n",
      "Epoch 95 Summary:\n",
      "  Train Loss: 0.4060, Train Pixel Accuracy: 87.41%\n",
      "  Validation Loss: 1.2568, Validation Pixel Accuracy: 73.92%\n",
      "  Current learning rate: 0.000001\n",
      "------------------------------\n",
      "--- Epoch 96/500 ---\n"
     ]
    },
    {
     "name": "stderr",
     "output_type": "stream",
     "text": [
      "Training: 100%|\u001b[32m██████████\u001b[0m| 23/23 [00:22<00:00,  1.02it/s, loss=0.4530]\n",
      "Validation: 100%|\u001b[31m██████████\u001b[0m| 23/23 [00:14<00:00,  1.55it/s, loss=1.2023]\n"
     ]
    },
    {
     "name": "stdout",
     "output_type": "stream",
     "text": [
      "\n",
      "Epoch 96 Summary:\n",
      "  Train Loss: 0.4064, Train Pixel Accuracy: 87.41%\n",
      "  Validation Loss: 1.2568, Validation Pixel Accuracy: 73.92%\n",
      "  Current learning rate: 0.000001\n",
      "------------------------------\n",
      "--- Epoch 97/500 ---\n"
     ]
    },
    {
     "name": "stderr",
     "output_type": "stream",
     "text": [
      "Training: 100%|\u001b[32m██████████\u001b[0m| 23/23 [00:22<00:00,  1.02it/s, loss=0.3796]\n",
      "Validation: 100%|\u001b[31m██████████\u001b[0m| 23/23 [00:14<00:00,  1.55it/s, loss=1.2026]\n"
     ]
    },
    {
     "name": "stdout",
     "output_type": "stream",
     "text": [
      "\n",
      "Epoch 97 Summary:\n",
      "  Train Loss: 0.4057, Train Pixel Accuracy: 87.42%\n",
      "  Validation Loss: 1.2570, Validation Pixel Accuracy: 73.92%\n",
      "  Current learning rate: 0.000001\n",
      "------------------------------\n",
      "--- Epoch 98/500 ---\n"
     ]
    },
    {
     "name": "stderr",
     "output_type": "stream",
     "text": [
      "Training: 100%|\u001b[32m██████████\u001b[0m| 23/23 [00:22<00:00,  1.03it/s, loss=0.4020]\n",
      "Validation: 100%|\u001b[31m██████████\u001b[0m| 23/23 [00:14<00:00,  1.61it/s, loss=1.2032]\n"
     ]
    },
    {
     "name": "stdout",
     "output_type": "stream",
     "text": [
      "\n",
      "Epoch 98 Summary:\n",
      "  Train Loss: 0.4059, Train Pixel Accuracy: 87.42%\n",
      "  Validation Loss: 1.2575, Validation Pixel Accuracy: 73.93%\n",
      "  Current learning rate: 0.000001\n",
      "------------------------------\n",
      "--- Epoch 99/500 ---\n"
     ]
    },
    {
     "name": "stderr",
     "output_type": "stream",
     "text": [
      "Training: 100%|\u001b[32m██████████\u001b[0m| 23/23 [00:22<00:00,  1.02it/s, loss=0.4556]\n",
      "Validation: 100%|\u001b[31m██████████\u001b[0m| 23/23 [00:14<00:00,  1.58it/s, loss=1.2031]\n"
     ]
    },
    {
     "name": "stdout",
     "output_type": "stream",
     "text": [
      "\n",
      "Epoch 99 Summary:\n",
      "  Train Loss: 0.4060, Train Pixel Accuracy: 87.42%\n",
      "  Validation Loss: 1.2577, Validation Pixel Accuracy: 73.92%\n",
      "  Current learning rate: 0.000001\n",
      "------------------------------\n",
      "--- Epoch 100/500 ---\n"
     ]
    },
    {
     "name": "stderr",
     "output_type": "stream",
     "text": [
      "Training: 100%|\u001b[32m██████████\u001b[0m| 23/23 [00:22<00:00,  1.01it/s, loss=0.4100]\n",
      "Validation: 100%|\u001b[31m██████████\u001b[0m| 23/23 [00:14<00:00,  1.57it/s, loss=1.2036]\n"
     ]
    },
    {
     "name": "stdout",
     "output_type": "stream",
     "text": [
      "\n",
      "Epoch 100 Summary:\n",
      "  Train Loss: 0.4057, Train Pixel Accuracy: 87.42%\n",
      "  Validation Loss: 1.2578, Validation Pixel Accuracy: 73.92%\n",
      "  Current learning rate: 0.000001\n",
      "------------------------------\n",
      "--- Epoch 101/500 ---\n"
     ]
    },
    {
     "name": "stderr",
     "output_type": "stream",
     "text": [
      "Training: 100%|\u001b[32m██████████\u001b[0m| 23/23 [00:22<00:00,  1.01it/s, loss=0.3805]\n",
      "Validation: 100%|\u001b[31m██████████\u001b[0m| 23/23 [00:14<00:00,  1.57it/s, loss=1.2034]\n"
     ]
    },
    {
     "name": "stdout",
     "output_type": "stream",
     "text": [
      "\n",
      "Epoch 101 Summary:\n",
      "  Train Loss: 0.4053, Train Pixel Accuracy: 87.43%\n",
      "  Validation Loss: 1.2582, Validation Pixel Accuracy: 73.92%\n",
      "  Current learning rate: 0.000001\n",
      "------------------------------\n",
      "--- Epoch 102/500 ---\n"
     ]
    },
    {
     "name": "stderr",
     "output_type": "stream",
     "text": [
      "Training: 100%|\u001b[32m██████████\u001b[0m| 23/23 [00:22<00:00,  1.02it/s, loss=0.3459]\n",
      "Validation: 100%|\u001b[31m██████████\u001b[0m| 23/23 [00:14<00:00,  1.55it/s, loss=1.2035]\n"
     ]
    },
    {
     "name": "stdout",
     "output_type": "stream",
     "text": [
      "\n",
      "Epoch 102 Summary:\n",
      "  Train Loss: 0.4052, Train Pixel Accuracy: 87.43%\n",
      "  Validation Loss: 1.2584, Validation Pixel Accuracy: 73.92%\n",
      "  Current learning rate: 0.000001\n",
      "------------------------------\n",
      "--- Epoch 103/500 ---\n"
     ]
    },
    {
     "name": "stderr",
     "output_type": "stream",
     "text": [
      "Training: 100%|\u001b[32m██████████\u001b[0m| 23/23 [00:22<00:00,  1.00it/s, loss=0.3343]\n",
      "Validation: 100%|\u001b[31m██████████\u001b[0m| 23/23 [00:14<00:00,  1.58it/s, loss=1.2040]\n"
     ]
    },
    {
     "name": "stdout",
     "output_type": "stream",
     "text": [
      "\n",
      "Epoch 103 Summary:\n",
      "  Train Loss: 0.4050, Train Pixel Accuracy: 87.43%\n",
      "  Validation Loss: 1.2589, Validation Pixel Accuracy: 73.92%\n",
      "  Current learning rate: 0.000001\n",
      "------------------------------\n",
      "--- Epoch 104/500 ---\n"
     ]
    },
    {
     "name": "stderr",
     "output_type": "stream",
     "text": [
      "Training: 100%|\u001b[32m██████████\u001b[0m| 23/23 [00:22<00:00,  1.03it/s, loss=0.3774]\n",
      "Validation: 100%|\u001b[31m██████████\u001b[0m| 23/23 [00:14<00:00,  1.60it/s, loss=1.2044]\n"
     ]
    },
    {
     "name": "stdout",
     "output_type": "stream",
     "text": [
      "\n",
      "Epoch 104 Summary:\n",
      "  Train Loss: 0.4052, Train Pixel Accuracy: 87.43%\n",
      "  Validation Loss: 1.2592, Validation Pixel Accuracy: 73.92%\n",
      "  Current learning rate: 0.000001\n",
      "------------------------------\n",
      "--- Epoch 105/500 ---\n"
     ]
    },
    {
     "name": "stderr",
     "output_type": "stream",
     "text": [
      "Training: 100%|\u001b[32m██████████\u001b[0m| 23/23 [00:22<00:00,  1.02it/s, loss=0.4732]\n",
      "Validation: 100%|\u001b[31m██████████\u001b[0m| 23/23 [00:14<00:00,  1.58it/s, loss=1.2044]\n"
     ]
    },
    {
     "name": "stdout",
     "output_type": "stream",
     "text": [
      "\n",
      "Epoch 105 Summary:\n",
      "  Train Loss: 0.4055, Train Pixel Accuracy: 87.44%\n",
      "  Validation Loss: 1.2592, Validation Pixel Accuracy: 73.92%\n",
      "  Current learning rate: 0.000001\n",
      "------------------------------\n",
      "--- Epoch 106/500 ---\n"
     ]
    },
    {
     "name": "stderr",
     "output_type": "stream",
     "text": [
      "Training: 100%|\u001b[32m██████████\u001b[0m| 23/23 [00:22<00:00,  1.00it/s, loss=0.3409]\n",
      "Validation: 100%|\u001b[31m██████████\u001b[0m| 23/23 [00:14<00:00,  1.55it/s, loss=1.2043]\n"
     ]
    },
    {
     "name": "stdout",
     "output_type": "stream",
     "text": [
      "\n",
      "Epoch 106 Summary:\n",
      "  Train Loss: 0.4048, Train Pixel Accuracy: 87.44%\n",
      "  Validation Loss: 1.2595, Validation Pixel Accuracy: 73.91%\n",
      "  Current learning rate: 0.000001\n",
      "------------------------------\n",
      "--- Epoch 107/500 ---\n"
     ]
    },
    {
     "name": "stderr",
     "output_type": "stream",
     "text": [
      "Training: 100%|\u001b[32m██████████\u001b[0m| 23/23 [00:22<00:00,  1.02it/s, loss=0.4889]\n",
      "Validation: 100%|\u001b[31m██████████\u001b[0m| 23/23 [00:14<00:00,  1.57it/s, loss=1.2051]\n"
     ]
    },
    {
     "name": "stdout",
     "output_type": "stream",
     "text": [
      "\n",
      "Epoch 107 Summary:\n",
      "  Train Loss: 0.4055, Train Pixel Accuracy: 87.44%\n",
      "  Validation Loss: 1.2596, Validation Pixel Accuracy: 73.92%\n",
      "  Current learning rate: 0.000001\n",
      "------------------------------\n",
      "--- Epoch 108/500 ---\n"
     ]
    },
    {
     "name": "stderr",
     "output_type": "stream",
     "text": [
      "Training: 100%|\u001b[32m██████████\u001b[0m| 23/23 [00:22<00:00,  1.03it/s, loss=0.4507]\n",
      "Validation: 100%|\u001b[31m██████████\u001b[0m| 23/23 [00:14<00:00,  1.55it/s, loss=1.2051]\n"
     ]
    },
    {
     "name": "stdout",
     "output_type": "stream",
     "text": [
      "\n",
      "Epoch 108 Summary:\n",
      "  Train Loss: 0.4051, Train Pixel Accuracy: 87.45%\n",
      "  Validation Loss: 1.2599, Validation Pixel Accuracy: 73.91%\n",
      "  Current learning rate: 0.000001\n",
      "------------------------------\n",
      "--- Epoch 109/500 ---\n"
     ]
    },
    {
     "name": "stderr",
     "output_type": "stream",
     "text": [
      "Training: 100%|\u001b[32m██████████\u001b[0m| 23/23 [00:22<00:00,  1.02it/s, loss=0.4921]\n",
      "Validation: 100%|\u001b[31m██████████\u001b[0m| 23/23 [00:14<00:00,  1.54it/s, loss=1.2050]\n"
     ]
    },
    {
     "name": "stdout",
     "output_type": "stream",
     "text": [
      "\n",
      "Epoch 109 Summary:\n",
      "  Train Loss: 0.4053, Train Pixel Accuracy: 87.45%\n",
      "  Validation Loss: 1.2602, Validation Pixel Accuracy: 73.92%\n",
      "  Current learning rate: 0.000001\n",
      "------------------------------\n",
      "--- Epoch 110/500 ---\n"
     ]
    },
    {
     "name": "stderr",
     "output_type": "stream",
     "text": [
      "Training: 100%|\u001b[32m██████████\u001b[0m| 23/23 [00:22<00:00,  1.01it/s, loss=0.3404]\n",
      "Validation: 100%|\u001b[31m██████████\u001b[0m| 23/23 [00:14<00:00,  1.59it/s, loss=1.2047]\n"
     ]
    },
    {
     "name": "stdout",
     "output_type": "stream",
     "text": [
      "\n",
      "Epoch 110 Summary:\n",
      "  Train Loss: 0.4043, Train Pixel Accuracy: 87.45%\n",
      "  Validation Loss: 1.2599, Validation Pixel Accuracy: 73.90%\n",
      "  Current learning rate: 0.000001\n",
      "------------------------------\n",
      "--- Epoch 111/500 ---\n"
     ]
    },
    {
     "name": "stderr",
     "output_type": "stream",
     "text": [
      "Training: 100%|\u001b[32m██████████\u001b[0m| 23/23 [00:22<00:00,  1.01it/s, loss=0.4548]\n",
      "Validation: 100%|\u001b[31m██████████\u001b[0m| 23/23 [00:14<00:00,  1.60it/s, loss=1.2053]\n"
     ]
    },
    {
     "name": "stdout",
     "output_type": "stream",
     "text": [
      "\n",
      "Epoch 111 Summary:\n",
      "  Train Loss: 0.4049, Train Pixel Accuracy: 87.45%\n",
      "  Validation Loss: 1.2606, Validation Pixel Accuracy: 73.91%\n",
      "  Current learning rate: 0.000001\n",
      "------------------------------\n",
      "--- Epoch 112/500 ---\n"
     ]
    },
    {
     "name": "stderr",
     "output_type": "stream",
     "text": [
      "Training: 100%|\u001b[32m██████████\u001b[0m| 23/23 [00:23<00:00,  1.01s/it, loss=0.3806]\n",
      "Validation: 100%|\u001b[31m██████████\u001b[0m| 23/23 [00:15<00:00,  1.51it/s, loss=1.2053]\n"
     ]
    },
    {
     "name": "stdout",
     "output_type": "stream",
     "text": [
      "\n",
      "Epoch 112 Summary:\n",
      "  Train Loss: 0.4044, Train Pixel Accuracy: 87.46%\n",
      "  Validation Loss: 1.2605, Validation Pixel Accuracy: 73.91%\n",
      "  Current learning rate: 0.000001\n",
      "------------------------------\n",
      "--- Epoch 113/500 ---\n"
     ]
    },
    {
     "name": "stderr",
     "output_type": "stream",
     "text": [
      "Training: 100%|\u001b[32m██████████\u001b[0m| 23/23 [00:23<00:00,  1.00s/it, loss=0.3663]\n",
      "Validation: 100%|\u001b[31m██████████\u001b[0m| 23/23 [00:15<00:00,  1.51it/s, loss=1.2058]\n"
     ]
    },
    {
     "name": "stdout",
     "output_type": "stream",
     "text": [
      "\n",
      "Epoch 113 Summary:\n",
      "  Train Loss: 0.4042, Train Pixel Accuracy: 87.46%\n",
      "  Validation Loss: 1.2610, Validation Pixel Accuracy: 73.91%\n",
      "  Current learning rate: 0.000001\n",
      "------------------------------\n",
      "--- Epoch 114/500 ---\n"
     ]
    },
    {
     "name": "stderr",
     "output_type": "stream",
     "text": [
      "Training: 100%|\u001b[32m██████████\u001b[0m| 23/23 [00:23<00:00,  1.02s/it, loss=0.4458]\n",
      "Validation: 100%|\u001b[31m██████████\u001b[0m| 23/23 [00:15<00:00,  1.48it/s, loss=1.2062]\n"
     ]
    },
    {
     "name": "stdout",
     "output_type": "stream",
     "text": [
      "\n",
      "Epoch 114 Summary:\n",
      "  Train Loss: 0.4046, Train Pixel Accuracy: 87.46%\n",
      "  Validation Loss: 1.2615, Validation Pixel Accuracy: 73.91%\n",
      "  Current learning rate: 0.000001\n",
      "------------------------------\n",
      "--- Epoch 115/500 ---\n"
     ]
    },
    {
     "name": "stderr",
     "output_type": "stream",
     "text": [
      "Training: 100%|\u001b[32m██████████\u001b[0m| 23/23 [00:23<00:00,  1.01s/it, loss=0.3566]\n",
      "Validation: 100%|\u001b[31m██████████\u001b[0m| 23/23 [00:15<00:00,  1.50it/s, loss=1.2062]\n"
     ]
    },
    {
     "name": "stdout",
     "output_type": "stream",
     "text": [
      "\n",
      "Epoch 115 Summary:\n",
      "  Train Loss: 0.4041, Train Pixel Accuracy: 87.46%\n",
      "  Validation Loss: 1.2614, Validation Pixel Accuracy: 73.90%\n",
      "  Current learning rate: 0.000001\n",
      "------------------------------\n",
      "--- Epoch 116/500 ---\n"
     ]
    },
    {
     "name": "stderr",
     "output_type": "stream",
     "text": [
      "Training: 100%|\u001b[32m██████████\u001b[0m| 23/23 [00:23<00:00,  1.02s/it, loss=0.4045]\n",
      "Validation: 100%|\u001b[31m██████████\u001b[0m| 23/23 [00:14<00:00,  1.57it/s, loss=1.2063]\n"
     ]
    },
    {
     "name": "stdout",
     "output_type": "stream",
     "text": [
      "\n",
      "Epoch 116 Summary:\n",
      "  Train Loss: 0.4042, Train Pixel Accuracy: 87.47%\n",
      "  Validation Loss: 1.2618, Validation Pixel Accuracy: 73.91%\n",
      "  Current learning rate: 0.000001\n",
      "------------------------------\n",
      "--- Epoch 117/500 ---\n"
     ]
    },
    {
     "name": "stderr",
     "output_type": "stream",
     "text": [
      "Training: 100%|\u001b[32m██████████\u001b[0m| 23/23 [00:22<00:00,  1.01it/s, loss=0.3605]\n",
      "Validation: 100%|\u001b[31m██████████\u001b[0m| 23/23 [00:14<00:00,  1.58it/s, loss=1.2065]\n"
     ]
    },
    {
     "name": "stdout",
     "output_type": "stream",
     "text": [
      "\n",
      "Epoch 117 Summary:\n",
      "  Train Loss: 0.4039, Train Pixel Accuracy: 87.47%\n",
      "  Validation Loss: 1.2619, Validation Pixel Accuracy: 73.91%\n",
      "  Current learning rate: 0.000001\n",
      "------------------------------\n",
      "--- Epoch 118/500 ---\n"
     ]
    },
    {
     "name": "stderr",
     "output_type": "stream",
     "text": [
      "Training: 100%|\u001b[32m██████████\u001b[0m| 23/23 [00:22<00:00,  1.01it/s, loss=0.4605]\n",
      "Validation: 100%|\u001b[31m██████████\u001b[0m| 23/23 [00:14<00:00,  1.55it/s, loss=1.2066]\n"
     ]
    },
    {
     "name": "stdout",
     "output_type": "stream",
     "text": [
      "\n",
      "Epoch 118 Summary:\n",
      "  Train Loss: 0.4044, Train Pixel Accuracy: 87.47%\n",
      "  Validation Loss: 1.2622, Validation Pixel Accuracy: 73.90%\n",
      "  Current learning rate: 0.000001\n",
      "------------------------------\n",
      "--- Epoch 119/500 ---\n"
     ]
    },
    {
     "name": "stderr",
     "output_type": "stream",
     "text": [
      "Training: 100%|\u001b[32m██████████\u001b[0m| 23/23 [00:23<00:00,  1.00s/it, loss=0.4555]\n",
      "Validation: 100%|\u001b[31m██████████\u001b[0m| 23/23 [00:14<00:00,  1.56it/s, loss=1.2069]\n"
     ]
    },
    {
     "name": "stdout",
     "output_type": "stream",
     "text": [
      "\n",
      "Epoch 119 Summary:\n",
      "  Train Loss: 0.4042, Train Pixel Accuracy: 87.48%\n",
      "  Validation Loss: 1.2624, Validation Pixel Accuracy: 73.90%\n",
      "  Current learning rate: 0.000001\n",
      "------------------------------\n",
      "--- Epoch 120/500 ---\n"
     ]
    },
    {
     "name": "stderr",
     "output_type": "stream",
     "text": [
      "Training: 100%|\u001b[32m██████████\u001b[0m| 23/23 [00:22<00:00,  1.00it/s, loss=0.3792]\n",
      "Validation: 100%|\u001b[31m██████████\u001b[0m| 23/23 [00:14<00:00,  1.57it/s, loss=1.2071]\n"
     ]
    },
    {
     "name": "stdout",
     "output_type": "stream",
     "text": [
      "\n",
      "Epoch 120 Summary:\n",
      "  Train Loss: 0.4037, Train Pixel Accuracy: 87.48%\n",
      "  Validation Loss: 1.2628, Validation Pixel Accuracy: 73.90%\n",
      "  Current learning rate: 0.000001\n",
      "------------------------------\n",
      "--- Epoch 121/500 ---\n"
     ]
    },
    {
     "name": "stderr",
     "output_type": "stream",
     "text": [
      "Training: 100%|\u001b[32m██████████\u001b[0m| 23/23 [00:22<00:00,  1.03it/s, loss=0.4439]\n",
      "Validation: 100%|\u001b[31m██████████\u001b[0m| 23/23 [00:13<00:00,  1.65it/s, loss=1.2075]\n"
     ]
    },
    {
     "name": "stdout",
     "output_type": "stream",
     "text": [
      "\n",
      "Epoch 121 Summary:\n",
      "  Train Loss: 0.4039, Train Pixel Accuracy: 87.48%\n",
      "  Validation Loss: 1.2629, Validation Pixel Accuracy: 73.90%\n",
      "  Current learning rate: 0.000001\n",
      "------------------------------\n",
      "--- Epoch 122/500 ---\n"
     ]
    },
    {
     "name": "stderr",
     "output_type": "stream",
     "text": [
      "Training: 100%|\u001b[32m██████████\u001b[0m| 23/23 [00:22<00:00,  1.04it/s, loss=0.3674]\n",
      "Validation: 100%|\u001b[31m██████████\u001b[0m| 23/23 [00:13<00:00,  1.65it/s, loss=1.2077]\n"
     ]
    },
    {
     "name": "stdout",
     "output_type": "stream",
     "text": [
      "\n",
      "Epoch 122 Summary:\n",
      "  Train Loss: 0.4033, Train Pixel Accuracy: 87.48%\n",
      "  Validation Loss: 1.2631, Validation Pixel Accuracy: 73.90%\n",
      "  Current learning rate: 0.000001\n",
      "------------------------------\n",
      "--- Epoch 123/500 ---\n"
     ]
    },
    {
     "name": "stderr",
     "output_type": "stream",
     "text": [
      "Training: 100%|\u001b[32m██████████\u001b[0m| 23/23 [00:22<00:00,  1.04it/s, loss=0.3877]\n",
      "Validation: 100%|\u001b[31m██████████\u001b[0m| 23/23 [00:14<00:00,  1.63it/s, loss=1.2079]\n"
     ]
    },
    {
     "name": "stdout",
     "output_type": "stream",
     "text": [
      "\n",
      "Epoch 123 Summary:\n",
      "  Train Loss: 0.4035, Train Pixel Accuracy: 87.49%\n",
      "  Validation Loss: 1.2635, Validation Pixel Accuracy: 73.90%\n",
      "  Current learning rate: 0.000001\n",
      "------------------------------\n",
      "--- Epoch 124/500 ---\n"
     ]
    },
    {
     "name": "stderr",
     "output_type": "stream",
     "text": [
      "Training: 100%|\u001b[32m██████████\u001b[0m| 23/23 [00:22<00:00,  1.02it/s, loss=0.4846]\n",
      "Validation: 100%|\u001b[31m██████████\u001b[0m| 23/23 [00:14<00:00,  1.62it/s, loss=1.2081]\n"
     ]
    },
    {
     "name": "stdout",
     "output_type": "stream",
     "text": [
      "\n",
      "Epoch 124 Summary:\n",
      "  Train Loss: 0.4039, Train Pixel Accuracy: 87.49%\n",
      "  Validation Loss: 1.2638, Validation Pixel Accuracy: 73.90%\n",
      "  Current learning rate: 0.000001\n",
      "------------------------------\n",
      "--- Epoch 125/500 ---\n"
     ]
    },
    {
     "name": "stderr",
     "output_type": "stream",
     "text": [
      "Training: 100%|\u001b[32m██████████\u001b[0m| 23/23 [00:22<00:00,  1.04it/s, loss=0.3063]\n",
      "Validation: 100%|\u001b[31m██████████\u001b[0m| 23/23 [00:14<00:00,  1.61it/s, loss=1.2080]\n"
     ]
    },
    {
     "name": "stdout",
     "output_type": "stream",
     "text": [
      "\n",
      "Epoch 125 Summary:\n",
      "  Train Loss: 0.4030, Train Pixel Accuracy: 87.49%\n",
      "  Validation Loss: 1.2638, Validation Pixel Accuracy: 73.90%\n",
      "  Current learning rate: 0.000001\n",
      "------------------------------\n",
      "--- Epoch 126/500 ---\n"
     ]
    },
    {
     "name": "stderr",
     "output_type": "stream",
     "text": [
      "Training: 100%|\u001b[32m██████████\u001b[0m| 23/23 [00:22<00:00,  1.04it/s, loss=0.4624]\n",
      "Validation: 100%|\u001b[31m██████████\u001b[0m| 23/23 [00:14<00:00,  1.58it/s, loss=1.2084]\n"
     ]
    },
    {
     "name": "stdout",
     "output_type": "stream",
     "text": [
      "\n",
      "Epoch 126 Summary:\n",
      "  Train Loss: 0.4036, Train Pixel Accuracy: 87.50%\n",
      "  Validation Loss: 1.2641, Validation Pixel Accuracy: 73.90%\n",
      "  Current learning rate: 0.000001\n",
      "------------------------------\n",
      "--- Epoch 127/500 ---\n"
     ]
    },
    {
     "name": "stderr",
     "output_type": "stream",
     "text": [
      "Training: 100%|\u001b[32m██████████\u001b[0m| 23/23 [00:22<00:00,  1.00it/s, loss=0.3811]\n",
      "Validation: 100%|\u001b[31m██████████\u001b[0m| 23/23 [00:14<00:00,  1.58it/s, loss=1.2087]\n"
     ]
    },
    {
     "name": "stdout",
     "output_type": "stream",
     "text": [
      "\n",
      "Epoch 127 Summary:\n",
      "  Train Loss: 0.4031, Train Pixel Accuracy: 87.50%\n",
      "  Validation Loss: 1.2644, Validation Pixel Accuracy: 73.90%\n",
      "  Current learning rate: 0.000001\n",
      "------------------------------\n",
      "--- Epoch 128/500 ---\n"
     ]
    },
    {
     "name": "stderr",
     "output_type": "stream",
     "text": [
      "Training: 100%|\u001b[32m██████████\u001b[0m| 23/23 [00:22<00:00,  1.02it/s, loss=0.4484]\n",
      "Validation: 100%|\u001b[31m██████████\u001b[0m| 23/23 [00:14<00:00,  1.58it/s, loss=1.2087]\n"
     ]
    },
    {
     "name": "stdout",
     "output_type": "stream",
     "text": [
      "\n",
      "Epoch 128 Summary:\n",
      "  Train Loss: 0.4033, Train Pixel Accuracy: 87.50%\n",
      "  Validation Loss: 1.2648, Validation Pixel Accuracy: 73.89%\n",
      "  Current learning rate: 0.000001\n",
      "------------------------------\n",
      "--- Epoch 129/500 ---\n"
     ]
    },
    {
     "name": "stderr",
     "output_type": "stream",
     "text": [
      "Training: 100%|\u001b[32m██████████\u001b[0m| 23/23 [00:22<00:00,  1.02it/s, loss=0.3848]\n",
      "Validation: 100%|\u001b[31m██████████\u001b[0m| 23/23 [00:14<00:00,  1.59it/s, loss=1.2092]\n"
     ]
    },
    {
     "name": "stdout",
     "output_type": "stream",
     "text": [
      "\n",
      "Epoch 129 Summary:\n",
      "  Train Loss: 0.4030, Train Pixel Accuracy: 87.51%\n",
      "  Validation Loss: 1.2648, Validation Pixel Accuracy: 73.89%\n",
      "  Current learning rate: 0.000001\n",
      "------------------------------\n",
      "--- Epoch 130/500 ---\n"
     ]
    },
    {
     "name": "stderr",
     "output_type": "stream",
     "text": [
      "Training: 100%|\u001b[32m██████████\u001b[0m| 23/23 [00:22<00:00,  1.01it/s, loss=0.3848]\n",
      "Validation: 100%|\u001b[31m██████████\u001b[0m| 23/23 [00:14<00:00,  1.58it/s, loss=1.2093]\n"
     ]
    },
    {
     "name": "stdout",
     "output_type": "stream",
     "text": [
      "\n",
      "Epoch 130 Summary:\n",
      "  Train Loss: 0.4028, Train Pixel Accuracy: 87.51%\n",
      "  Validation Loss: 1.2653, Validation Pixel Accuracy: 73.89%\n",
      "  Current learning rate: 0.000001\n",
      "------------------------------\n",
      "--- Epoch 131/500 ---\n"
     ]
    },
    {
     "name": "stderr",
     "output_type": "stream",
     "text": [
      "Training: 100%|\u001b[32m██████████\u001b[0m| 23/23 [00:22<00:00,  1.01it/s, loss=0.3990]\n",
      "Validation: 100%|\u001b[31m██████████\u001b[0m| 23/23 [00:14<00:00,  1.55it/s, loss=1.2095]\n"
     ]
    },
    {
     "name": "stdout",
     "output_type": "stream",
     "text": [
      "\n",
      "Epoch 131 Summary:\n",
      "  Train Loss: 0.4028, Train Pixel Accuracy: 87.51%\n",
      "  Validation Loss: 1.2655, Validation Pixel Accuracy: 73.89%\n",
      "  Current learning rate: 0.000001\n",
      "------------------------------\n",
      "--- Epoch 132/500 ---\n"
     ]
    },
    {
     "name": "stderr",
     "output_type": "stream",
     "text": [
      "Training: 100%|\u001b[32m██████████\u001b[0m| 23/23 [00:22<00:00,  1.00it/s, loss=0.3771]\n",
      "Validation: 100%|\u001b[31m██████████\u001b[0m| 23/23 [00:14<00:00,  1.62it/s, loss=1.2097]\n"
     ]
    },
    {
     "name": "stdout",
     "output_type": "stream",
     "text": [
      "\n",
      "Epoch 132 Summary:\n",
      "  Train Loss: 0.4026, Train Pixel Accuracy: 87.52%\n",
      "  Validation Loss: 1.2656, Validation Pixel Accuracy: 73.89%\n",
      "  Current learning rate: 0.000001\n",
      "------------------------------\n",
      "--- Epoch 133/500 ---\n"
     ]
    },
    {
     "name": "stderr",
     "output_type": "stream",
     "text": [
      "Training: 100%|\u001b[32m██████████\u001b[0m| 23/23 [00:22<00:00,  1.03it/s, loss=0.4104]\n",
      "Validation: 100%|\u001b[31m██████████\u001b[0m| 23/23 [00:14<00:00,  1.58it/s, loss=1.2100]\n"
     ]
    },
    {
     "name": "stdout",
     "output_type": "stream",
     "text": [
      "\n",
      "Epoch 133 Summary:\n",
      "  Train Loss: 0.4028, Train Pixel Accuracy: 87.52%\n",
      "  Validation Loss: 1.2660, Validation Pixel Accuracy: 73.89%\n",
      "  Current learning rate: 0.000001\n",
      "------------------------------\n",
      "--- Epoch 134/500 ---\n"
     ]
    },
    {
     "name": "stderr",
     "output_type": "stream",
     "text": [
      "Training: 100%|\u001b[32m██████████\u001b[0m| 23/23 [00:22<00:00,  1.03it/s, loss=0.4508]\n",
      "Validation: 100%|\u001b[31m██████████\u001b[0m| 23/23 [00:14<00:00,  1.60it/s, loss=1.2100]\n"
     ]
    },
    {
     "name": "stdout",
     "output_type": "stream",
     "text": [
      "\n",
      "Epoch 134 Summary:\n",
      "  Train Loss: 0.4029, Train Pixel Accuracy: 87.52%\n",
      "  Validation Loss: 1.2662, Validation Pixel Accuracy: 73.88%\n",
      "  Current learning rate: 0.000001\n",
      "------------------------------\n",
      "--- Epoch 135/500 ---\n"
     ]
    },
    {
     "name": "stderr",
     "output_type": "stream",
     "text": [
      "Training: 100%|\u001b[32m██████████\u001b[0m| 23/23 [00:22<00:00,  1.01it/s, loss=0.4290]\n",
      "Validation: 100%|\u001b[31m██████████\u001b[0m| 23/23 [00:14<00:00,  1.62it/s, loss=1.2101]\n"
     ]
    },
    {
     "name": "stdout",
     "output_type": "stream",
     "text": [
      "\n",
      "Epoch 135 Summary:\n",
      "  Train Loss: 0.4026, Train Pixel Accuracy: 87.53%\n",
      "  Validation Loss: 1.2664, Validation Pixel Accuracy: 73.89%\n",
      "  Current learning rate: 0.000001\n",
      "------------------------------\n",
      "--- Epoch 136/500 ---\n"
     ]
    },
    {
     "name": "stderr",
     "output_type": "stream",
     "text": [
      "Training: 100%|\u001b[32m██████████\u001b[0m| 23/23 [00:22<00:00,  1.02it/s, loss=0.3562]\n",
      "Validation: 100%|\u001b[31m██████████\u001b[0m| 23/23 [00:14<00:00,  1.57it/s, loss=1.2102]\n"
     ]
    },
    {
     "name": "stdout",
     "output_type": "stream",
     "text": [
      "\n",
      "Epoch 136 Summary:\n",
      "  Train Loss: 0.4021, Train Pixel Accuracy: 87.53%\n",
      "  Validation Loss: 1.2667, Validation Pixel Accuracy: 73.88%\n",
      "  Current learning rate: 0.000001\n",
      "------------------------------\n",
      "--- Epoch 137/500 ---\n"
     ]
    },
    {
     "name": "stderr",
     "output_type": "stream",
     "text": [
      "Training: 100%|\u001b[32m██████████\u001b[0m| 23/23 [00:22<00:00,  1.03it/s, loss=0.3381]\n",
      "Validation: 100%|\u001b[31m██████████\u001b[0m| 23/23 [00:14<00:00,  1.60it/s, loss=1.2109]\n"
     ]
    },
    {
     "name": "stdout",
     "output_type": "stream",
     "text": [
      "\n",
      "Epoch 137 Summary:\n",
      "  Train Loss: 0.4019, Train Pixel Accuracy: 87.53%\n",
      "  Validation Loss: 1.2667, Validation Pixel Accuracy: 73.89%\n",
      "  Current learning rate: 0.000001\n",
      "------------------------------\n",
      "--- Epoch 138/500 ---\n"
     ]
    },
    {
     "name": "stderr",
     "output_type": "stream",
     "text": [
      "Training: 100%|\u001b[32m██████████\u001b[0m| 23/23 [00:22<00:00,  1.03it/s, loss=0.4857]\n",
      "Validation: 100%|\u001b[31m██████████\u001b[0m| 23/23 [00:14<00:00,  1.62it/s, loss=1.2111]\n"
     ]
    },
    {
     "name": "stdout",
     "output_type": "stream",
     "text": [
      "\n",
      "Epoch 138 Summary:\n",
      "  Train Loss: 0.4028, Train Pixel Accuracy: 87.53%\n",
      "  Validation Loss: 1.2672, Validation Pixel Accuracy: 73.89%\n",
      "  Current learning rate: 0.000001\n",
      "------------------------------\n",
      "--- Epoch 139/500 ---\n"
     ]
    },
    {
     "name": "stderr",
     "output_type": "stream",
     "text": [
      "Training: 100%|\u001b[32m██████████\u001b[0m| 23/23 [00:22<00:00,  1.03it/s, loss=0.3676]\n",
      "Validation: 100%|\u001b[31m██████████\u001b[0m| 23/23 [00:14<00:00,  1.62it/s, loss=1.2110]\n"
     ]
    },
    {
     "name": "stdout",
     "output_type": "stream",
     "text": [
      "\n",
      "Epoch 139 Summary:\n",
      "  Train Loss: 0.4018, Train Pixel Accuracy: 87.54%\n",
      "  Validation Loss: 1.2674, Validation Pixel Accuracy: 73.88%\n",
      "  Current learning rate: 0.000001\n",
      "------------------------------\n",
      "--- Epoch 140/500 ---\n"
     ]
    },
    {
     "name": "stderr",
     "output_type": "stream",
     "text": [
      "Training: 100%|\u001b[32m██████████\u001b[0m| 23/23 [00:22<00:00,  1.02it/s, loss=0.3643]\n",
      "Validation: 100%|\u001b[31m██████████\u001b[0m| 23/23 [00:14<00:00,  1.61it/s, loss=1.2116]\n"
     ]
    },
    {
     "name": "stdout",
     "output_type": "stream",
     "text": [
      "\n",
      "Epoch 140 Summary:\n",
      "  Train Loss: 0.4017, Train Pixel Accuracy: 87.54%\n",
      "  Validation Loss: 1.2678, Validation Pixel Accuracy: 73.88%\n",
      "  Current learning rate: 0.000001\n",
      "------------------------------\n",
      "--- Epoch 141/500 ---\n"
     ]
    },
    {
     "name": "stderr",
     "output_type": "stream",
     "text": [
      "Training: 100%|\u001b[32m██████████\u001b[0m| 23/23 [00:22<00:00,  1.02it/s, loss=0.3801]\n",
      "Validation: 100%|\u001b[31m██████████\u001b[0m| 23/23 [00:14<00:00,  1.59it/s, loss=1.2115]\n"
     ]
    },
    {
     "name": "stdout",
     "output_type": "stream",
     "text": [
      "\n",
      "Epoch 141 Summary:\n",
      "  Train Loss: 0.4017, Train Pixel Accuracy: 87.54%\n",
      "  Validation Loss: 1.2678, Validation Pixel Accuracy: 73.88%\n",
      "  Current learning rate: 0.000001\n",
      "------------------------------\n",
      "--- Epoch 142/500 ---\n"
     ]
    },
    {
     "name": "stderr",
     "output_type": "stream",
     "text": [
      "Training: 100%|\u001b[32m██████████\u001b[0m| 23/23 [00:22<00:00,  1.01it/s, loss=0.3838]\n",
      "Validation: 100%|\u001b[31m██████████\u001b[0m| 23/23 [00:14<00:00,  1.55it/s, loss=1.2116]\n"
     ]
    },
    {
     "name": "stdout",
     "output_type": "stream",
     "text": [
      "\n",
      "Epoch 142 Summary:\n",
      "  Train Loss: 0.4016, Train Pixel Accuracy: 87.55%\n",
      "  Validation Loss: 1.2682, Validation Pixel Accuracy: 73.88%\n",
      "  Current learning rate: 0.000001\n",
      "------------------------------\n",
      "--- Epoch 143/500 ---\n"
     ]
    },
    {
     "name": "stderr",
     "output_type": "stream",
     "text": [
      "Training: 100%|\u001b[32m██████████\u001b[0m| 23/23 [00:22<00:00,  1.01it/s, loss=0.4320]\n",
      "Validation: 100%|\u001b[31m██████████\u001b[0m| 23/23 [00:15<00:00,  1.53it/s, loss=1.2120]\n"
     ]
    },
    {
     "name": "stdout",
     "output_type": "stream",
     "text": [
      "\n",
      "Epoch 143 Summary:\n",
      "  Train Loss: 0.4018, Train Pixel Accuracy: 87.55%\n",
      "  Validation Loss: 1.2685, Validation Pixel Accuracy: 73.88%\n",
      "  Current learning rate: 0.000001\n",
      "------------------------------\n",
      "--- Epoch 144/500 ---\n"
     ]
    },
    {
     "name": "stderr",
     "output_type": "stream",
     "text": [
      "Training: 100%|\u001b[32m██████████\u001b[0m| 23/23 [00:22<00:00,  1.02it/s, loss=0.3559]\n",
      "Validation: 100%|\u001b[31m██████████\u001b[0m| 23/23 [00:14<00:00,  1.56it/s, loss=1.2121]\n"
     ]
    },
    {
     "name": "stdout",
     "output_type": "stream",
     "text": [
      "\n",
      "Epoch 144 Summary:\n",
      "  Train Loss: 0.4013, Train Pixel Accuracy: 87.55%\n",
      "  Validation Loss: 1.2686, Validation Pixel Accuracy: 73.87%\n",
      "  Current learning rate: 0.000001\n",
      "------------------------------\n",
      "--- Epoch 145/500 ---\n"
     ]
    },
    {
     "name": "stderr",
     "output_type": "stream",
     "text": [
      "Training: 100%|\u001b[32m██████████\u001b[0m| 23/23 [00:22<00:00,  1.02it/s, loss=0.3968]\n",
      "Validation: 100%|\u001b[31m██████████\u001b[0m| 23/23 [00:14<00:00,  1.64it/s, loss=1.2122]\n"
     ]
    },
    {
     "name": "stdout",
     "output_type": "stream",
     "text": [
      "\n",
      "Epoch 145 Summary:\n",
      "  Train Loss: 0.4015, Train Pixel Accuracy: 87.55%\n",
      "  Validation Loss: 1.2688, Validation Pixel Accuracy: 73.87%\n",
      "  Current learning rate: 0.000001\n",
      "------------------------------\n",
      "--- Epoch 146/500 ---\n"
     ]
    },
    {
     "name": "stderr",
     "output_type": "stream",
     "text": [
      "Training: 100%|\u001b[32m██████████\u001b[0m| 23/23 [00:22<00:00,  1.02it/s, loss=0.3587]\n",
      "Validation: 100%|\u001b[31m██████████\u001b[0m| 23/23 [00:14<00:00,  1.62it/s, loss=1.2123]\n"
     ]
    },
    {
     "name": "stdout",
     "output_type": "stream",
     "text": [
      "\n",
      "Epoch 146 Summary:\n",
      "  Train Loss: 0.4013, Train Pixel Accuracy: 87.56%\n",
      "  Validation Loss: 1.2691, Validation Pixel Accuracy: 73.87%\n",
      "  Current learning rate: 0.000001\n",
      "------------------------------\n",
      "--- Epoch 147/500 ---\n"
     ]
    },
    {
     "name": "stderr",
     "output_type": "stream",
     "text": [
      "Training: 100%|\u001b[32m██████████\u001b[0m| 23/23 [00:22<00:00,  1.04it/s, loss=0.4658]\n",
      "Validation: 100%|\u001b[31m██████████\u001b[0m| 23/23 [00:14<00:00,  1.62it/s, loss=1.2134]\n"
     ]
    },
    {
     "name": "stdout",
     "output_type": "stream",
     "text": [
      "\n",
      "Epoch 147 Summary:\n",
      "  Train Loss: 0.4018, Train Pixel Accuracy: 87.56%\n",
      "  Validation Loss: 1.2696, Validation Pixel Accuracy: 73.89%\n",
      "  Current learning rate: 0.000001\n",
      "------------------------------\n",
      "--- Epoch 148/500 ---\n"
     ]
    },
    {
     "name": "stderr",
     "output_type": "stream",
     "text": [
      "Training: 100%|\u001b[32m██████████\u001b[0m| 23/23 [00:22<00:00,  1.02it/s, loss=0.3558]\n",
      "Validation: 100%|\u001b[31m██████████\u001b[0m| 23/23 [00:14<00:00,  1.61it/s, loss=1.2129]\n"
     ]
    },
    {
     "name": "stdout",
     "output_type": "stream",
     "text": [
      "\n",
      "Epoch 148 Summary:\n",
      "  Train Loss: 0.4010, Train Pixel Accuracy: 87.56%\n",
      "  Validation Loss: 1.2693, Validation Pixel Accuracy: 73.87%\n",
      "  Current learning rate: 0.000001\n",
      "------------------------------\n",
      "--- Epoch 149/500 ---\n"
     ]
    },
    {
     "name": "stderr",
     "output_type": "stream",
     "text": [
      "Training: 100%|\u001b[32m██████████\u001b[0m| 23/23 [00:22<00:00,  1.04it/s, loss=0.3939]\n",
      "Validation: 100%|\u001b[31m██████████\u001b[0m| 23/23 [00:14<00:00,  1.60it/s, loss=1.2132]\n"
     ]
    },
    {
     "name": "stdout",
     "output_type": "stream",
     "text": [
      "\n",
      "Epoch 149 Summary:\n",
      "  Train Loss: 0.4011, Train Pixel Accuracy: 87.57%\n",
      "  Validation Loss: 1.2699, Validation Pixel Accuracy: 73.88%\n",
      "  Current learning rate: 0.000001\n",
      "------------------------------\n",
      "--- Epoch 150/500 ---\n"
     ]
    },
    {
     "name": "stderr",
     "output_type": "stream",
     "text": [
      "Training: 100%|\u001b[32m██████████\u001b[0m| 23/23 [00:22<00:00,  1.04it/s, loss=0.4056]\n",
      "Validation: 100%|\u001b[31m██████████\u001b[0m| 23/23 [00:14<00:00,  1.61it/s, loss=1.2135]\n"
     ]
    },
    {
     "name": "stdout",
     "output_type": "stream",
     "text": [
      "\n",
      "Epoch 150 Summary:\n",
      "  Train Loss: 0.4011, Train Pixel Accuracy: 87.57%\n",
      "  Validation Loss: 1.2703, Validation Pixel Accuracy: 73.87%\n",
      "  Current learning rate: 0.000001\n",
      "------------------------------\n",
      "--- Epoch 151/500 ---\n"
     ]
    },
    {
     "name": "stderr",
     "output_type": "stream",
     "text": [
      "Training: 100%|\u001b[32m██████████\u001b[0m| 23/23 [00:22<00:00,  1.04it/s, loss=0.3939]\n",
      "Validation: 100%|\u001b[31m██████████\u001b[0m| 23/23 [00:14<00:00,  1.61it/s, loss=1.2135]\n"
     ]
    },
    {
     "name": "stdout",
     "output_type": "stream",
     "text": [
      "\n",
      "Epoch 151 Summary:\n",
      "  Train Loss: 0.4010, Train Pixel Accuracy: 87.57%\n",
      "  Validation Loss: 1.2705, Validation Pixel Accuracy: 73.87%\n",
      "  Current learning rate: 0.000001\n",
      "------------------------------\n",
      "--- Epoch 152/500 ---\n"
     ]
    },
    {
     "name": "stderr",
     "output_type": "stream",
     "text": [
      "Training: 100%|\u001b[32m██████████\u001b[0m| 23/23 [00:22<00:00,  1.03it/s, loss=0.4587]\n",
      "Validation: 100%|\u001b[31m██████████\u001b[0m| 23/23 [00:14<00:00,  1.61it/s, loss=1.2137]\n"
     ]
    },
    {
     "name": "stdout",
     "output_type": "stream",
     "text": [
      "\n",
      "Epoch 152 Summary:\n",
      "  Train Loss: 0.4011, Train Pixel Accuracy: 87.57%\n",
      "  Validation Loss: 1.2708, Validation Pixel Accuracy: 73.87%\n",
      "  Current learning rate: 0.000001\n",
      "------------------------------\n",
      "--- Epoch 153/500 ---\n"
     ]
    },
    {
     "name": "stderr",
     "output_type": "stream",
     "text": [
      "Training: 100%|\u001b[32m██████████\u001b[0m| 23/23 [00:22<00:00,  1.02it/s, loss=0.4547]\n",
      "Validation: 100%|\u001b[31m██████████\u001b[0m| 23/23 [00:14<00:00,  1.60it/s, loss=1.2138]\n"
     ]
    },
    {
     "name": "stdout",
     "output_type": "stream",
     "text": [
      "\n",
      "Epoch 153 Summary:\n",
      "  Train Loss: 0.4009, Train Pixel Accuracy: 87.58%\n",
      "  Validation Loss: 1.2706, Validation Pixel Accuracy: 73.86%\n",
      "  Current learning rate: 0.000001\n",
      "------------------------------\n",
      "--- Epoch 154/500 ---\n"
     ]
    },
    {
     "name": "stderr",
     "output_type": "stream",
     "text": [
      "Training: 100%|\u001b[32m██████████\u001b[0m| 23/23 [00:22<00:00,  1.02it/s, loss=0.4134]\n",
      "Validation: 100%|\u001b[31m██████████\u001b[0m| 23/23 [00:15<00:00,  1.52it/s, loss=1.2145]\n"
     ]
    },
    {
     "name": "stdout",
     "output_type": "stream",
     "text": [
      "\n",
      "Epoch 154 Summary:\n",
      "  Train Loss: 0.4009, Train Pixel Accuracy: 87.58%\n",
      "  Validation Loss: 1.2711, Validation Pixel Accuracy: 73.87%\n",
      "  Current learning rate: 0.000001\n",
      "------------------------------\n",
      "--- Epoch 155/500 ---\n"
     ]
    },
    {
     "name": "stderr",
     "output_type": "stream",
     "text": [
      "Training: 100%|\u001b[32m██████████\u001b[0m| 23/23 [00:22<00:00,  1.03it/s, loss=0.3815]\n",
      "Validation: 100%|\u001b[31m██████████\u001b[0m| 23/23 [00:14<00:00,  1.58it/s, loss=1.2145]\n"
     ]
    },
    {
     "name": "stdout",
     "output_type": "stream",
     "text": [
      "\n",
      "Epoch 155 Summary:\n",
      "  Train Loss: 0.4004, Train Pixel Accuracy: 87.58%\n",
      "  Validation Loss: 1.2715, Validation Pixel Accuracy: 73.86%\n",
      "  Current learning rate: 0.000001\n",
      "------------------------------\n",
      "--- Epoch 156/500 ---\n"
     ]
    },
    {
     "name": "stderr",
     "output_type": "stream",
     "text": [
      "Training: 100%|\u001b[32m██████████\u001b[0m| 23/23 [00:22<00:00,  1.02it/s, loss=0.3724]\n",
      "Validation: 100%|\u001b[31m██████████\u001b[0m| 23/23 [00:14<00:00,  1.57it/s, loss=1.2146]\n"
     ]
    },
    {
     "name": "stdout",
     "output_type": "stream",
     "text": [
      "\n",
      "Epoch 156 Summary:\n",
      "  Train Loss: 0.4003, Train Pixel Accuracy: 87.59%\n",
      "  Validation Loss: 1.2715, Validation Pixel Accuracy: 73.86%\n",
      "  Current learning rate: 0.000001\n",
      "------------------------------\n",
      "--- Epoch 157/500 ---\n"
     ]
    },
    {
     "name": "stderr",
     "output_type": "stream",
     "text": [
      "Training: 100%|\u001b[32m██████████\u001b[0m| 23/23 [00:22<00:00,  1.02it/s, loss=0.3913]\n",
      "Validation: 100%|\u001b[31m██████████\u001b[0m| 23/23 [00:14<00:00,  1.58it/s, loss=1.2150]\n"
     ]
    },
    {
     "name": "stdout",
     "output_type": "stream",
     "text": [
      "\n",
      "Epoch 157 Summary:\n",
      "  Train Loss: 0.4004, Train Pixel Accuracy: 87.59%\n",
      "  Validation Loss: 1.2721, Validation Pixel Accuracy: 73.86%\n",
      "  Current learning rate: 0.000001\n",
      "------------------------------\n",
      "--- Epoch 158/500 ---\n"
     ]
    },
    {
     "name": "stderr",
     "output_type": "stream",
     "text": [
      "Training: 100%|\u001b[32m██████████\u001b[0m| 23/23 [00:22<00:00,  1.01it/s, loss=0.3838]\n",
      "Validation: 100%|\u001b[31m██████████\u001b[0m| 23/23 [00:14<00:00,  1.59it/s, loss=1.2148]\n"
     ]
    },
    {
     "name": "stdout",
     "output_type": "stream",
     "text": [
      "\n",
      "Epoch 158 Summary:\n",
      "  Train Loss: 0.4001, Train Pixel Accuracy: 87.59%\n",
      "  Validation Loss: 1.2721, Validation Pixel Accuracy: 73.87%\n",
      "  Current learning rate: 0.000001\n",
      "------------------------------\n",
      "--- Epoch 159/500 ---\n"
     ]
    },
    {
     "name": "stderr",
     "output_type": "stream",
     "text": [
      "Training: 100%|\u001b[32m██████████\u001b[0m| 23/23 [00:22<00:00,  1.02it/s, loss=0.4162]\n",
      "Validation: 100%|\u001b[31m██████████\u001b[0m| 23/23 [00:14<00:00,  1.58it/s, loss=1.2155]\n"
     ]
    },
    {
     "name": "stdout",
     "output_type": "stream",
     "text": [
      "\n",
      "Epoch 159 Summary:\n",
      "  Train Loss: 0.4002, Train Pixel Accuracy: 87.60%\n",
      "  Validation Loss: 1.2727, Validation Pixel Accuracy: 73.86%\n",
      "  Current learning rate: 0.000001\n",
      "------------------------------\n",
      "--- Epoch 160/500 ---\n"
     ]
    },
    {
     "name": "stderr",
     "output_type": "stream",
     "text": [
      "Training: 100%|\u001b[32m██████████\u001b[0m| 23/23 [00:22<00:00,  1.03it/s, loss=0.3333]\n",
      "Validation: 100%|\u001b[31m██████████\u001b[0m| 23/23 [00:14<00:00,  1.57it/s, loss=1.2152]\n"
     ]
    },
    {
     "name": "stdout",
     "output_type": "stream",
     "text": [
      "\n",
      "Epoch 160 Summary:\n",
      "  Train Loss: 0.3997, Train Pixel Accuracy: 87.60%\n",
      "  Validation Loss: 1.2723, Validation Pixel Accuracy: 73.86%\n",
      "  Current learning rate: 0.000001\n",
      "------------------------------\n",
      "--- Epoch 161/500 ---\n"
     ]
    },
    {
     "name": "stderr",
     "output_type": "stream",
     "text": [
      "Training: 100%|\u001b[32m██████████\u001b[0m| 23/23 [00:22<00:00,  1.02it/s, loss=0.3718]\n",
      "Validation: 100%|\u001b[31m██████████\u001b[0m| 23/23 [00:14<00:00,  1.59it/s, loss=1.2158]\n"
     ]
    },
    {
     "name": "stdout",
     "output_type": "stream",
     "text": [
      "\n",
      "Epoch 161 Summary:\n",
      "  Train Loss: 0.3998, Train Pixel Accuracy: 87.60%\n",
      "  Validation Loss: 1.2731, Validation Pixel Accuracy: 73.86%\n",
      "  Current learning rate: 0.000001\n",
      "------------------------------\n",
      "--- Epoch 162/500 ---\n"
     ]
    },
    {
     "name": "stderr",
     "output_type": "stream",
     "text": [
      "Training: 100%|\u001b[32m██████████\u001b[0m| 23/23 [00:22<00:00,  1.04it/s, loss=0.4662]\n",
      "Validation: 100%|\u001b[31m██████████\u001b[0m| 23/23 [00:14<00:00,  1.59it/s, loss=1.2163]\n"
     ]
    },
    {
     "name": "stdout",
     "output_type": "stream",
     "text": [
      "\n",
      "Epoch 162 Summary:\n",
      "  Train Loss: 0.4002, Train Pixel Accuracy: 87.60%\n",
      "  Validation Loss: 1.2738, Validation Pixel Accuracy: 73.87%\n",
      "  Current learning rate: 0.000001\n",
      "------------------------------\n",
      "--- Epoch 163/500 ---\n"
     ]
    },
    {
     "name": "stderr",
     "output_type": "stream",
     "text": [
      "Training: 100%|\u001b[32m██████████\u001b[0m| 23/23 [00:22<00:00,  1.03it/s, loss=0.3947]\n",
      "Validation: 100%|\u001b[31m██████████\u001b[0m| 23/23 [00:14<00:00,  1.60it/s, loss=1.2160]\n"
     ]
    },
    {
     "name": "stdout",
     "output_type": "stream",
     "text": [
      "\n",
      "Epoch 163 Summary:\n",
      "  Train Loss: 0.3997, Train Pixel Accuracy: 87.61%\n",
      "  Validation Loss: 1.2736, Validation Pixel Accuracy: 73.86%\n",
      "  Current learning rate: 0.000001\n",
      "------------------------------\n",
      "--- Epoch 164/500 ---\n"
     ]
    },
    {
     "name": "stderr",
     "output_type": "stream",
     "text": [
      "Training: 100%|\u001b[32m██████████\u001b[0m| 23/23 [00:22<00:00,  1.02it/s, loss=0.3537]\n",
      "Validation: 100%|\u001b[31m██████████\u001b[0m| 23/23 [00:14<00:00,  1.57it/s, loss=1.2162]\n"
     ]
    },
    {
     "name": "stdout",
     "output_type": "stream",
     "text": [
      "\n",
      "Epoch 164 Summary:\n",
      "  Train Loss: 0.3994, Train Pixel Accuracy: 87.61%\n",
      "  Validation Loss: 1.2738, Validation Pixel Accuracy: 73.85%\n",
      "  Current learning rate: 0.000001\n",
      "------------------------------\n",
      "--- Epoch 165/500 ---\n"
     ]
    },
    {
     "name": "stderr",
     "output_type": "stream",
     "text": [
      "Training: 100%|\u001b[32m██████████\u001b[0m| 23/23 [00:22<00:00,  1.02it/s, loss=0.3619]\n",
      "Validation: 100%|\u001b[31m██████████\u001b[0m| 23/23 [00:14<00:00,  1.60it/s, loss=1.2163]\n"
     ]
    },
    {
     "name": "stdout",
     "output_type": "stream",
     "text": [
      "\n",
      "Epoch 165 Summary:\n",
      "  Train Loss: 0.3994, Train Pixel Accuracy: 87.62%\n",
      "  Validation Loss: 1.2739, Validation Pixel Accuracy: 73.86%\n",
      "  Current learning rate: 0.000001\n",
      "------------------------------\n",
      "--- Epoch 166/500 ---\n"
     ]
    },
    {
     "name": "stderr",
     "output_type": "stream",
     "text": [
      "Training: 100%|\u001b[32m██████████\u001b[0m| 23/23 [00:22<00:00,  1.01it/s, loss=0.4325]\n",
      "Validation: 100%|\u001b[31m██████████\u001b[0m| 23/23 [00:14<00:00,  1.59it/s, loss=1.2167]\n"
     ]
    },
    {
     "name": "stdout",
     "output_type": "stream",
     "text": [
      "\n",
      "Epoch 166 Summary:\n",
      "  Train Loss: 0.3995, Train Pixel Accuracy: 87.62%\n",
      "  Validation Loss: 1.2744, Validation Pixel Accuracy: 73.85%\n",
      "  Current learning rate: 0.000001\n",
      "------------------------------\n",
      "--- Epoch 167/500 ---\n"
     ]
    },
    {
     "name": "stderr",
     "output_type": "stream",
     "text": [
      "Training: 100%|\u001b[32m██████████\u001b[0m| 23/23 [00:22<00:00,  1.02it/s, loss=0.4057]\n",
      "Validation: 100%|\u001b[31m██████████\u001b[0m| 23/23 [00:14<00:00,  1.58it/s, loss=1.2169]\n"
     ]
    },
    {
     "name": "stdout",
     "output_type": "stream",
     "text": [
      "\n",
      "Epoch 167 Summary:\n",
      "  Train Loss: 0.3995, Train Pixel Accuracy: 87.62%\n",
      "  Validation Loss: 1.2743, Validation Pixel Accuracy: 73.85%\n",
      "  Current learning rate: 0.000001\n",
      "------------------------------\n",
      "--- Epoch 168/500 ---\n"
     ]
    },
    {
     "name": "stderr",
     "output_type": "stream",
     "text": [
      "Training: 100%|\u001b[32m██████████\u001b[0m| 23/23 [00:22<00:00,  1.03it/s, loss=0.4630]\n",
      "Validation: 100%|\u001b[31m██████████\u001b[0m| 23/23 [00:14<00:00,  1.60it/s, loss=1.2173]\n"
     ]
    },
    {
     "name": "stdout",
     "output_type": "stream",
     "text": [
      "\n",
      "Epoch 168 Summary:\n",
      "  Train Loss: 0.3997, Train Pixel Accuracy: 87.63%\n",
      "  Validation Loss: 1.2748, Validation Pixel Accuracy: 73.85%\n",
      "  Current learning rate: 0.000001\n",
      "------------------------------\n",
      "--- Epoch 169/500 ---\n"
     ]
    },
    {
     "name": "stderr",
     "output_type": "stream",
     "text": [
      "Training: 100%|\u001b[32m██████████\u001b[0m| 23/23 [00:23<00:00,  1.00s/it, loss=0.4031]\n",
      "Validation: 100%|\u001b[31m██████████\u001b[0m| 23/23 [00:14<00:00,  1.60it/s, loss=1.2176]\n"
     ]
    },
    {
     "name": "stdout",
     "output_type": "stream",
     "text": [
      "\n",
      "Epoch 169 Summary:\n",
      "  Train Loss: 0.3991, Train Pixel Accuracy: 87.63%\n",
      "  Validation Loss: 1.2751, Validation Pixel Accuracy: 73.85%\n",
      "  Current learning rate: 0.000001\n",
      "------------------------------\n",
      "--- Epoch 170/500 ---\n"
     ]
    },
    {
     "name": "stderr",
     "output_type": "stream",
     "text": [
      "Training: 100%|\u001b[32m██████████\u001b[0m| 23/23 [00:22<00:00,  1.02it/s, loss=0.4115]\n",
      "Validation: 100%|\u001b[31m██████████\u001b[0m| 23/23 [00:14<00:00,  1.59it/s, loss=1.2176]\n"
     ]
    },
    {
     "name": "stdout",
     "output_type": "stream",
     "text": [
      "\n",
      "Epoch 170 Summary:\n",
      "  Train Loss: 0.3991, Train Pixel Accuracy: 87.63%\n",
      "  Validation Loss: 1.2751, Validation Pixel Accuracy: 73.85%\n",
      "  Current learning rate: 0.000001\n",
      "------------------------------\n",
      "--- Epoch 171/500 ---\n"
     ]
    },
    {
     "name": "stderr",
     "output_type": "stream",
     "text": [
      "Training: 100%|\u001b[32m██████████\u001b[0m| 23/23 [00:22<00:00,  1.02it/s, loss=0.3711]\n",
      "Validation: 100%|\u001b[31m██████████\u001b[0m| 23/23 [00:14<00:00,  1.59it/s, loss=1.2177]\n"
     ]
    },
    {
     "name": "stdout",
     "output_type": "stream",
     "text": [
      "\n",
      "Epoch 171 Summary:\n",
      "  Train Loss: 0.3989, Train Pixel Accuracy: 87.64%\n",
      "  Validation Loss: 1.2756, Validation Pixel Accuracy: 73.85%\n",
      "  Current learning rate: 0.000001\n",
      "------------------------------\n",
      "--- Epoch 172/500 ---\n"
     ]
    },
    {
     "name": "stderr",
     "output_type": "stream",
     "text": [
      "Training: 100%|\u001b[32m██████████\u001b[0m| 23/23 [00:22<00:00,  1.02it/s, loss=0.4347]\n",
      "Validation: 100%|\u001b[31m██████████\u001b[0m| 23/23 [00:15<00:00,  1.49it/s, loss=1.2186]\n"
     ]
    },
    {
     "name": "stdout",
     "output_type": "stream",
     "text": [
      "\n",
      "Epoch 172 Summary:\n",
      "  Train Loss: 0.3991, Train Pixel Accuracy: 87.63%\n",
      "  Validation Loss: 1.2760, Validation Pixel Accuracy: 73.86%\n",
      "  Current learning rate: 0.000001\n",
      "------------------------------\n",
      "--- Epoch 173/500 ---\n"
     ]
    },
    {
     "name": "stderr",
     "output_type": "stream",
     "text": [
      "Training: 100%|\u001b[32m██████████\u001b[0m| 23/23 [00:22<00:00,  1.00it/s, loss=0.4439]\n",
      "Validation: 100%|\u001b[31m██████████\u001b[0m| 23/23 [00:15<00:00,  1.49it/s, loss=1.2183]\n"
     ]
    },
    {
     "name": "stdout",
     "output_type": "stream",
     "text": [
      "\n",
      "Epoch 173 Summary:\n",
      "  Train Loss: 0.3990, Train Pixel Accuracy: 87.64%\n",
      "  Validation Loss: 1.2765, Validation Pixel Accuracy: 73.84%\n",
      "  Current learning rate: 0.000001\n",
      "------------------------------\n",
      "--- Epoch 174/500 ---\n"
     ]
    },
    {
     "name": "stderr",
     "output_type": "stream",
     "text": [
      "Training: 100%|\u001b[32m██████████\u001b[0m| 23/23 [00:23<00:00,  1.00s/it, loss=0.4587]\n",
      "Validation: 100%|\u001b[31m██████████\u001b[0m| 23/23 [00:14<00:00,  1.59it/s, loss=1.2183]\n"
     ]
    },
    {
     "name": "stdout",
     "output_type": "stream",
     "text": [
      "\n",
      "Epoch 174 Summary:\n",
      "  Train Loss: 0.3990, Train Pixel Accuracy: 87.64%\n",
      "  Validation Loss: 1.2762, Validation Pixel Accuracy: 73.84%\n",
      "  Current learning rate: 0.000001\n",
      "------------------------------\n",
      "--- Epoch 175/500 ---\n"
     ]
    },
    {
     "name": "stderr",
     "output_type": "stream",
     "text": [
      "Training: 100%|\u001b[32m██████████\u001b[0m| 23/23 [00:22<00:00,  1.02it/s, loss=0.4851]\n",
      "Validation: 100%|\u001b[31m██████████\u001b[0m| 23/23 [00:14<00:00,  1.58it/s, loss=1.2188]\n"
     ]
    },
    {
     "name": "stdout",
     "output_type": "stream",
     "text": [
      "\n",
      "Epoch 175 Summary:\n",
      "  Train Loss: 0.3991, Train Pixel Accuracy: 87.65%\n",
      "  Validation Loss: 1.2766, Validation Pixel Accuracy: 73.85%\n",
      "  Current learning rate: 0.000001\n",
      "------------------------------\n",
      "--- Epoch 176/500 ---\n"
     ]
    },
    {
     "name": "stderr",
     "output_type": "stream",
     "text": [
      "Training: 100%|\u001b[32m██████████\u001b[0m| 23/23 [00:22<00:00,  1.01it/s, loss=0.3806]\n",
      "Validation: 100%|\u001b[31m██████████\u001b[0m| 23/23 [00:14<00:00,  1.58it/s, loss=1.2190]\n"
     ]
    },
    {
     "name": "stdout",
     "output_type": "stream",
     "text": [
      "\n",
      "Epoch 176 Summary:\n",
      "  Train Loss: 0.3984, Train Pixel Accuracy: 87.65%\n",
      "  Validation Loss: 1.2769, Validation Pixel Accuracy: 73.85%\n",
      "  Current learning rate: 0.000001\n",
      "------------------------------\n",
      "--- Epoch 177/500 ---\n"
     ]
    },
    {
     "name": "stderr",
     "output_type": "stream",
     "text": [
      "Training: 100%|\u001b[32m██████████\u001b[0m| 23/23 [00:22<00:00,  1.01it/s, loss=0.4964]\n",
      "Validation: 100%|\u001b[31m██████████\u001b[0m| 23/23 [00:14<00:00,  1.57it/s, loss=1.2188]\n"
     ]
    },
    {
     "name": "stdout",
     "output_type": "stream",
     "text": [
      "\n",
      "Epoch 177 Summary:\n",
      "  Train Loss: 0.3990, Train Pixel Accuracy: 87.65%\n",
      "  Validation Loss: 1.2773, Validation Pixel Accuracy: 73.84%\n",
      "  Current learning rate: 0.000001\n",
      "------------------------------\n",
      "--- Epoch 178/500 ---\n"
     ]
    },
    {
     "name": "stderr",
     "output_type": "stream",
     "text": [
      "Training: 100%|\u001b[32m██████████\u001b[0m| 23/23 [00:22<00:00,  1.01it/s, loss=0.3629]\n",
      "Validation: 100%|\u001b[31m██████████\u001b[0m| 23/23 [00:14<00:00,  1.54it/s, loss=1.2196]\n"
     ]
    },
    {
     "name": "stdout",
     "output_type": "stream",
     "text": [
      "\n",
      "Epoch 178 Summary:\n",
      "  Train Loss: 0.3981, Train Pixel Accuracy: 87.65%\n",
      "  Validation Loss: 1.2773, Validation Pixel Accuracy: 73.85%\n",
      "  Current learning rate: 0.000001\n",
      "------------------------------\n",
      "--- Epoch 179/500 ---\n"
     ]
    },
    {
     "name": "stderr",
     "output_type": "stream",
     "text": [
      "Training: 100%|\u001b[32m██████████\u001b[0m| 23/23 [00:22<00:00,  1.01it/s, loss=0.3859]\n",
      "Validation: 100%|\u001b[31m██████████\u001b[0m| 23/23 [00:14<00:00,  1.58it/s, loss=1.2194]\n"
     ]
    },
    {
     "name": "stdout",
     "output_type": "stream",
     "text": [
      "\n",
      "Epoch 179 Summary:\n",
      "  Train Loss: 0.3981, Train Pixel Accuracy: 87.66%\n",
      "  Validation Loss: 1.2778, Validation Pixel Accuracy: 73.84%\n",
      "  Current learning rate: 0.000001\n",
      "------------------------------\n",
      "--- Epoch 180/500 ---\n"
     ]
    },
    {
     "name": "stderr",
     "output_type": "stream",
     "text": [
      "Training: 100%|\u001b[32m██████████\u001b[0m| 23/23 [00:22<00:00,  1.00it/s, loss=0.4167]\n",
      "Validation: 100%|\u001b[31m██████████\u001b[0m| 23/23 [00:14<00:00,  1.54it/s, loss=1.2198]\n"
     ]
    },
    {
     "name": "stdout",
     "output_type": "stream",
     "text": [
      "\n",
      "Epoch 180 Summary:\n",
      "  Train Loss: 0.3981, Train Pixel Accuracy: 87.66%\n",
      "  Validation Loss: 1.2779, Validation Pixel Accuracy: 73.83%\n",
      "  Current learning rate: 0.000001\n",
      "------------------------------\n",
      "--- Epoch 181/500 ---\n"
     ]
    },
    {
     "name": "stderr",
     "output_type": "stream",
     "text": [
      "Training: 100%|\u001b[32m██████████\u001b[0m| 23/23 [00:22<00:00,  1.03it/s, loss=0.4407]\n",
      "Validation: 100%|\u001b[31m██████████\u001b[0m| 23/23 [00:14<00:00,  1.59it/s, loss=1.2200]\n"
     ]
    },
    {
     "name": "stdout",
     "output_type": "stream",
     "text": [
      "\n",
      "Epoch 181 Summary:\n",
      "  Train Loss: 0.3982, Train Pixel Accuracy: 87.66%\n",
      "  Validation Loss: 1.2782, Validation Pixel Accuracy: 73.84%\n",
      "  Current learning rate: 0.000001\n",
      "------------------------------\n",
      "--- Epoch 182/500 ---\n"
     ]
    },
    {
     "name": "stderr",
     "output_type": "stream",
     "text": [
      "Training: 100%|\u001b[32m██████████\u001b[0m| 23/23 [00:22<00:00,  1.01it/s, loss=0.3719]\n",
      "Validation: 100%|\u001b[31m██████████\u001b[0m| 23/23 [00:14<00:00,  1.59it/s, loss=1.2203]\n"
     ]
    },
    {
     "name": "stdout",
     "output_type": "stream",
     "text": [
      "\n",
      "Epoch 182 Summary:\n",
      "  Train Loss: 0.3979, Train Pixel Accuracy: 87.67%\n",
      "  Validation Loss: 1.2785, Validation Pixel Accuracy: 73.84%\n",
      "  Current learning rate: 0.000001\n",
      "------------------------------\n",
      "--- Epoch 183/500 ---\n"
     ]
    },
    {
     "name": "stderr",
     "output_type": "stream",
     "text": [
      "Training: 100%|\u001b[32m██████████\u001b[0m| 23/23 [00:22<00:00,  1.01it/s, loss=0.3308]\n",
      "Validation: 100%|\u001b[31m██████████\u001b[0m| 23/23 [00:14<00:00,  1.56it/s, loss=1.2201]\n"
     ]
    },
    {
     "name": "stdout",
     "output_type": "stream",
     "text": [
      "\n",
      "Epoch 183 Summary:\n",
      "  Train Loss: 0.3974, Train Pixel Accuracy: 87.67%\n",
      "  Validation Loss: 1.2786, Validation Pixel Accuracy: 73.83%\n",
      "  Current learning rate: 0.000001\n",
      "------------------------------\n",
      "--- Epoch 184/500 ---\n"
     ]
    },
    {
     "name": "stderr",
     "output_type": "stream",
     "text": [
      "Training: 100%|\u001b[32m██████████\u001b[0m| 23/23 [00:22<00:00,  1.01it/s, loss=0.4189]\n",
      "Validation: 100%|\u001b[31m██████████\u001b[0m| 23/23 [00:14<00:00,  1.57it/s, loss=1.2204]\n"
     ]
    },
    {
     "name": "stdout",
     "output_type": "stream",
     "text": [
      "\n",
      "Epoch 184 Summary:\n",
      "  Train Loss: 0.3978, Train Pixel Accuracy: 87.67%\n",
      "  Validation Loss: 1.2789, Validation Pixel Accuracy: 73.84%\n",
      "  Current learning rate: 0.000001\n",
      "------------------------------\n",
      "--- Epoch 185/500 ---\n"
     ]
    },
    {
     "name": "stderr",
     "output_type": "stream",
     "text": [
      "Training: 100%|\u001b[32m██████████\u001b[0m| 23/23 [00:22<00:00,  1.02it/s, loss=0.3635]\n",
      "Validation: 100%|\u001b[31m██████████\u001b[0m| 23/23 [00:14<00:00,  1.54it/s, loss=1.2216]\n"
     ]
    },
    {
     "name": "stdout",
     "output_type": "stream",
     "text": [
      "\n",
      "Epoch 185 Summary:\n",
      "  Train Loss: 0.3975, Train Pixel Accuracy: 87.68%\n",
      "  Validation Loss: 1.2796, Validation Pixel Accuracy: 73.84%\n",
      "  Current learning rate: 0.000001\n",
      "------------------------------\n",
      "--- Epoch 186/500 ---\n"
     ]
    },
    {
     "name": "stderr",
     "output_type": "stream",
     "text": [
      "Training: 100%|\u001b[32m██████████\u001b[0m| 23/23 [00:22<00:00,  1.00it/s, loss=0.3388]\n",
      "Validation: 100%|\u001b[31m██████████\u001b[0m| 23/23 [00:14<00:00,  1.58it/s, loss=1.2213]\n"
     ]
    },
    {
     "name": "stdout",
     "output_type": "stream",
     "text": [
      "\n",
      "Epoch 186 Summary:\n",
      "  Train Loss: 0.3973, Train Pixel Accuracy: 87.68%\n",
      "  Validation Loss: 1.2795, Validation Pixel Accuracy: 73.83%\n",
      "  Current learning rate: 0.000001\n",
      "------------------------------\n",
      "--- Epoch 187/500 ---\n"
     ]
    },
    {
     "name": "stderr",
     "output_type": "stream",
     "text": [
      "Training: 100%|\u001b[32m██████████\u001b[0m| 23/23 [00:22<00:00,  1.02it/s, loss=0.3760]\n",
      "Validation: 100%|\u001b[31m██████████\u001b[0m| 23/23 [00:14<00:00,  1.58it/s, loss=1.2213]\n"
     ]
    },
    {
     "name": "stdout",
     "output_type": "stream",
     "text": [
      "\n",
      "Epoch 187 Summary:\n",
      "  Train Loss: 0.3973, Train Pixel Accuracy: 87.68%\n",
      "  Validation Loss: 1.2799, Validation Pixel Accuracy: 73.83%\n",
      "  Current learning rate: 0.000001\n",
      "------------------------------\n",
      "--- Epoch 188/500 ---\n"
     ]
    },
    {
     "name": "stderr",
     "output_type": "stream",
     "text": [
      "Training: 100%|\u001b[32m██████████\u001b[0m| 23/23 [00:23<00:00,  1.00s/it, loss=0.3379]\n",
      "Validation: 100%|\u001b[31m██████████\u001b[0m| 23/23 [00:14<00:00,  1.60it/s, loss=1.2213]\n"
     ]
    },
    {
     "name": "stdout",
     "output_type": "stream",
     "text": [
      "\n",
      "Epoch 188 Summary:\n",
      "  Train Loss: 0.3971, Train Pixel Accuracy: 87.69%\n",
      "  Validation Loss: 1.2799, Validation Pixel Accuracy: 73.83%\n",
      "  Current learning rate: 0.000001\n",
      "------------------------------\n",
      "--- Epoch 189/500 ---\n"
     ]
    },
    {
     "name": "stderr",
     "output_type": "stream",
     "text": [
      "Training: 100%|\u001b[32m██████████\u001b[0m| 23/23 [00:22<00:00,  1.02it/s, loss=0.3319]\n",
      "Validation: 100%|\u001b[31m██████████\u001b[0m| 23/23 [00:14<00:00,  1.59it/s, loss=1.2220]\n"
     ]
    },
    {
     "name": "stdout",
     "output_type": "stream",
     "text": [
      "\n",
      "Epoch 189 Summary:\n",
      "  Train Loss: 0.3967, Train Pixel Accuracy: 87.69%\n",
      "  Validation Loss: 1.2804, Validation Pixel Accuracy: 73.84%\n",
      "  Current learning rate: 0.000001\n",
      "------------------------------\n",
      "--- Epoch 190/500 ---\n"
     ]
    },
    {
     "name": "stderr",
     "output_type": "stream",
     "text": [
      "Training: 100%|\u001b[32m██████████\u001b[0m| 23/23 [00:22<00:00,  1.02it/s, loss=0.3827]\n",
      "Validation: 100%|\u001b[31m██████████\u001b[0m| 23/23 [00:14<00:00,  1.58it/s, loss=1.2223]\n"
     ]
    },
    {
     "name": "stdout",
     "output_type": "stream",
     "text": [
      "\n",
      "Epoch 190 Summary:\n",
      "  Train Loss: 0.3971, Train Pixel Accuracy: 87.70%\n",
      "  Validation Loss: 1.2807, Validation Pixel Accuracy: 73.83%\n",
      "  Current learning rate: 0.000001\n",
      "------------------------------\n",
      "--- Epoch 191/500 ---\n"
     ]
    },
    {
     "name": "stderr",
     "output_type": "stream",
     "text": [
      "Training: 100%|\u001b[32m██████████\u001b[0m| 23/23 [00:22<00:00,  1.00it/s, loss=0.4068]\n",
      "Validation: 100%|\u001b[31m██████████\u001b[0m| 23/23 [00:14<00:00,  1.57it/s, loss=1.2222]\n"
     ]
    },
    {
     "name": "stdout",
     "output_type": "stream",
     "text": [
      "\n",
      "Epoch 191 Summary:\n",
      "  Train Loss: 0.3971, Train Pixel Accuracy: 87.70%\n",
      "  Validation Loss: 1.2804, Validation Pixel Accuracy: 73.83%\n",
      "  Current learning rate: 0.000001\n",
      "------------------------------\n",
      "--- Epoch 192/500 ---\n"
     ]
    },
    {
     "name": "stderr",
     "output_type": "stream",
     "text": [
      "Training: 100%|\u001b[32m██████████\u001b[0m| 23/23 [00:22<00:00,  1.02it/s, loss=0.3310]\n",
      "Validation: 100%|\u001b[31m██████████\u001b[0m| 23/23 [00:14<00:00,  1.57it/s, loss=1.2229]\n"
     ]
    },
    {
     "name": "stdout",
     "output_type": "stream",
     "text": [
      "\n",
      "Epoch 192 Summary:\n",
      "  Train Loss: 0.3966, Train Pixel Accuracy: 87.70%\n",
      "  Validation Loss: 1.2816, Validation Pixel Accuracy: 73.83%\n",
      "  Current learning rate: 0.000001\n",
      "------------------------------\n",
      "--- Epoch 193/500 ---\n"
     ]
    },
    {
     "name": "stderr",
     "output_type": "stream",
     "text": [
      "Training: 100%|\u001b[32m██████████\u001b[0m| 23/23 [00:23<00:00,  1.00s/it, loss=0.3964]\n",
      "Validation: 100%|\u001b[31m██████████\u001b[0m| 23/23 [00:14<00:00,  1.59it/s, loss=1.2229]\n"
     ]
    },
    {
     "name": "stdout",
     "output_type": "stream",
     "text": [
      "\n",
      "Epoch 193 Summary:\n",
      "  Train Loss: 0.3967, Train Pixel Accuracy: 87.70%\n",
      "  Validation Loss: 1.2813, Validation Pixel Accuracy: 73.83%\n",
      "  Current learning rate: 0.000001\n",
      "------------------------------\n",
      "--- Epoch 194/500 ---\n"
     ]
    },
    {
     "name": "stderr",
     "output_type": "stream",
     "text": [
      "Training: 100%|\u001b[32m██████████\u001b[0m| 23/23 [00:23<00:00,  1.03s/it, loss=0.4122]\n",
      "Validation: 100%|\u001b[31m██████████\u001b[0m| 23/23 [00:15<00:00,  1.45it/s, loss=1.2232]\n"
     ]
    },
    {
     "name": "stdout",
     "output_type": "stream",
     "text": [
      "\n",
      "Epoch 194 Summary:\n",
      "  Train Loss: 0.3969, Train Pixel Accuracy: 87.70%\n",
      "  Validation Loss: 1.2817, Validation Pixel Accuracy: 73.83%\n",
      "  Current learning rate: 0.000001\n",
      "------------------------------\n",
      "--- Epoch 195/500 ---\n"
     ]
    },
    {
     "name": "stderr",
     "output_type": "stream",
     "text": [
      "Training: 100%|\u001b[32m██████████\u001b[0m| 23/23 [00:22<00:00,  1.00it/s, loss=0.4345]\n",
      "Validation: 100%|\u001b[31m██████████\u001b[0m| 23/23 [00:14<00:00,  1.57it/s, loss=1.2226]\n"
     ]
    },
    {
     "name": "stdout",
     "output_type": "stream",
     "text": [
      "\n",
      "Epoch 195 Summary:\n",
      "  Train Loss: 0.3968, Train Pixel Accuracy: 87.71%\n",
      "  Validation Loss: 1.2818, Validation Pixel Accuracy: 73.82%\n",
      "  Current learning rate: 0.000001\n",
      "------------------------------\n",
      "--- Epoch 196/500 ---\n"
     ]
    },
    {
     "name": "stderr",
     "output_type": "stream",
     "text": [
      "Training: 100%|\u001b[32m██████████\u001b[0m| 23/23 [00:23<00:00,  1.02s/it, loss=0.4321]\n",
      "Validation: 100%|\u001b[31m██████████\u001b[0m| 23/23 [00:14<00:00,  1.59it/s, loss=1.2235]\n"
     ]
    },
    {
     "name": "stdout",
     "output_type": "stream",
     "text": [
      "\n",
      "Epoch 196 Summary:\n",
      "  Train Loss: 0.3966, Train Pixel Accuracy: 87.71%\n",
      "  Validation Loss: 1.2827, Validation Pixel Accuracy: 73.82%\n",
      "  Current learning rate: 0.000001\n",
      "------------------------------\n",
      "--- Epoch 197/500 ---\n"
     ]
    },
    {
     "name": "stderr",
     "output_type": "stream",
     "text": [
      "Training: 100%|\u001b[32m██████████\u001b[0m| 23/23 [00:22<00:00,  1.01it/s, loss=0.3502]\n",
      "Validation: 100%|\u001b[31m██████████\u001b[0m| 23/23 [00:14<00:00,  1.61it/s, loss=1.2236]\n"
     ]
    },
    {
     "name": "stdout",
     "output_type": "stream",
     "text": [
      "\n",
      "Epoch 197 Summary:\n",
      "  Train Loss: 0.3962, Train Pixel Accuracy: 87.71%\n",
      "  Validation Loss: 1.2824, Validation Pixel Accuracy: 73.82%\n",
      "  Current learning rate: 0.000001\n",
      "------------------------------\n",
      "--- Epoch 198/500 ---\n"
     ]
    },
    {
     "name": "stderr",
     "output_type": "stream",
     "text": [
      "Training: 100%|\u001b[32m██████████\u001b[0m| 23/23 [00:23<00:00,  1.02s/it, loss=0.4469]\n",
      "Validation: 100%|\u001b[31m██████████\u001b[0m| 23/23 [00:14<00:00,  1.58it/s, loss=1.2239]\n"
     ]
    },
    {
     "name": "stdout",
     "output_type": "stream",
     "text": [
      "\n",
      "Epoch 198 Summary:\n",
      "  Train Loss: 0.3966, Train Pixel Accuracy: 87.72%\n",
      "  Validation Loss: 1.2829, Validation Pixel Accuracy: 73.82%\n",
      "  Current learning rate: 0.000001\n",
      "------------------------------\n",
      "--- Epoch 199/500 ---\n"
     ]
    },
    {
     "name": "stderr",
     "output_type": "stream",
     "text": [
      "Training: 100%|\u001b[32m██████████\u001b[0m| 23/23 [00:22<00:00,  1.02it/s, loss=0.4457]\n",
      "Validation: 100%|\u001b[31m██████████\u001b[0m| 23/23 [00:14<00:00,  1.56it/s, loss=1.2242]\n"
     ]
    },
    {
     "name": "stdout",
     "output_type": "stream",
     "text": [
      "\n",
      "Epoch 199 Summary:\n",
      "  Train Loss: 0.3965, Train Pixel Accuracy: 87.72%\n",
      "  Validation Loss: 1.2828, Validation Pixel Accuracy: 73.82%\n",
      "  Current learning rate: 0.000001\n",
      "------------------------------\n",
      "--- Epoch 200/500 ---\n"
     ]
    },
    {
     "name": "stderr",
     "output_type": "stream",
     "text": [
      "Training: 100%|\u001b[32m██████████\u001b[0m| 23/23 [00:22<00:00,  1.02it/s, loss=0.3991]\n",
      "Validation: 100%|\u001b[31m██████████\u001b[0m| 23/23 [00:14<00:00,  1.58it/s, loss=1.2242]\n"
     ]
    },
    {
     "name": "stdout",
     "output_type": "stream",
     "text": [
      "\n",
      "Epoch 200 Summary:\n",
      "  Train Loss: 0.3962, Train Pixel Accuracy: 87.73%\n",
      "  Validation Loss: 1.2828, Validation Pixel Accuracy: 73.82%\n",
      "  Current learning rate: 0.000001\n",
      "------------------------------\n",
      "--- Epoch 201/500 ---\n"
     ]
    },
    {
     "name": "stderr",
     "output_type": "stream",
     "text": [
      "Training: 100%|\u001b[32m██████████\u001b[0m| 23/23 [00:22<00:00,  1.02it/s, loss=0.4075]\n",
      "Validation: 100%|\u001b[31m██████████\u001b[0m| 23/23 [00:14<00:00,  1.54it/s, loss=1.2240]\n"
     ]
    },
    {
     "name": "stdout",
     "output_type": "stream",
     "text": [
      "\n",
      "Epoch 201 Summary:\n",
      "  Train Loss: 0.3960, Train Pixel Accuracy: 87.73%\n",
      "  Validation Loss: 1.2832, Validation Pixel Accuracy: 73.81%\n",
      "  Current learning rate: 0.000001\n",
      "------------------------------\n",
      "--- Epoch 202/500 ---\n"
     ]
    },
    {
     "name": "stderr",
     "output_type": "stream",
     "text": [
      "Training: 100%|\u001b[32m██████████\u001b[0m| 23/23 [00:22<00:00,  1.01it/s, loss=0.3984]\n",
      "Validation: 100%|\u001b[31m██████████\u001b[0m| 23/23 [00:15<00:00,  1.52it/s, loss=1.2247]\n"
     ]
    },
    {
     "name": "stdout",
     "output_type": "stream",
     "text": [
      "\n",
      "Epoch 202 Summary:\n",
      "  Train Loss: 0.3961, Train Pixel Accuracy: 87.73%\n",
      "  Validation Loss: 1.2842, Validation Pixel Accuracy: 73.82%\n",
      "  Current learning rate: 0.000001\n",
      "------------------------------\n",
      "--- Epoch 203/500 ---\n"
     ]
    },
    {
     "name": "stderr",
     "output_type": "stream",
     "text": [
      "Training: 100%|\u001b[32m██████████\u001b[0m| 23/23 [00:22<00:00,  1.01it/s, loss=0.3362]\n",
      "Validation: 100%|\u001b[31m██████████\u001b[0m| 23/23 [00:14<00:00,  1.60it/s, loss=1.2249]\n"
     ]
    },
    {
     "name": "stdout",
     "output_type": "stream",
     "text": [
      "\n",
      "Epoch 203 Summary:\n",
      "  Train Loss: 0.3956, Train Pixel Accuracy: 87.73%\n",
      "  Validation Loss: 1.2838, Validation Pixel Accuracy: 73.82%\n",
      "  Current learning rate: 0.000001\n",
      "------------------------------\n",
      "--- Epoch 204/500 ---\n"
     ]
    },
    {
     "name": "stderr",
     "output_type": "stream",
     "text": [
      "Training: 100%|\u001b[32m██████████\u001b[0m| 23/23 [00:22<00:00,  1.02it/s, loss=0.3810]\n",
      "Validation: 100%|\u001b[31m██████████\u001b[0m| 23/23 [00:14<00:00,  1.60it/s, loss=1.2250]\n"
     ]
    },
    {
     "name": "stdout",
     "output_type": "stream",
     "text": [
      "\n",
      "Epoch 204 Summary:\n",
      "  Train Loss: 0.3958, Train Pixel Accuracy: 87.74%\n",
      "  Validation Loss: 1.2842, Validation Pixel Accuracy: 73.81%\n",
      "  Current learning rate: 0.000001\n",
      "------------------------------\n",
      "--- Epoch 205/500 ---\n"
     ]
    },
    {
     "name": "stderr",
     "output_type": "stream",
     "text": [
      "Training: 100%|\u001b[32m██████████\u001b[0m| 23/23 [00:22<00:00,  1.03it/s, loss=0.3399]\n",
      "Validation: 100%|\u001b[31m██████████\u001b[0m| 23/23 [00:14<00:00,  1.60it/s, loss=1.2253]\n"
     ]
    },
    {
     "name": "stdout",
     "output_type": "stream",
     "text": [
      "\n",
      "Epoch 205 Summary:\n",
      "  Train Loss: 0.3952, Train Pixel Accuracy: 87.74%\n",
      "  Validation Loss: 1.2847, Validation Pixel Accuracy: 73.82%\n",
      "  Current learning rate: 0.000001\n",
      "------------------------------\n",
      "--- Epoch 206/500 ---\n"
     ]
    },
    {
     "name": "stderr",
     "output_type": "stream",
     "text": [
      "Training: 100%|\u001b[32m██████████\u001b[0m| 23/23 [00:22<00:00,  1.02it/s, loss=0.3998]\n",
      "Validation: 100%|\u001b[31m██████████\u001b[0m| 23/23 [00:14<00:00,  1.57it/s, loss=1.2252]\n"
     ]
    },
    {
     "name": "stdout",
     "output_type": "stream",
     "text": [
      "\n",
      "Epoch 206 Summary:\n",
      "  Train Loss: 0.3956, Train Pixel Accuracy: 87.74%\n",
      "  Validation Loss: 1.2848, Validation Pixel Accuracy: 73.81%\n",
      "  Current learning rate: 0.000001\n",
      "------------------------------\n",
      "--- Epoch 207/500 ---\n"
     ]
    },
    {
     "name": "stderr",
     "output_type": "stream",
     "text": [
      "Training: 100%|\u001b[32m██████████\u001b[0m| 23/23 [00:22<00:00,  1.03it/s, loss=0.4129]\n",
      "Validation: 100%|\u001b[31m██████████\u001b[0m| 23/23 [00:14<00:00,  1.54it/s, loss=1.2259]\n"
     ]
    },
    {
     "name": "stdout",
     "output_type": "stream",
     "text": [
      "\n",
      "Epoch 207 Summary:\n",
      "  Train Loss: 0.3955, Train Pixel Accuracy: 87.75%\n",
      "  Validation Loss: 1.2851, Validation Pixel Accuracy: 73.82%\n",
      "  Current learning rate: 0.000001\n",
      "------------------------------\n",
      "--- Epoch 208/500 ---\n"
     ]
    },
    {
     "name": "stderr",
     "output_type": "stream",
     "text": [
      "Training: 100%|\u001b[32m██████████\u001b[0m| 23/23 [00:22<00:00,  1.02it/s, loss=0.4213]\n",
      "Validation: 100%|\u001b[31m██████████\u001b[0m| 23/23 [00:14<00:00,  1.60it/s, loss=1.2262]\n"
     ]
    },
    {
     "name": "stdout",
     "output_type": "stream",
     "text": [
      "\n",
      "Epoch 208 Summary:\n",
      "  Train Loss: 0.3955, Train Pixel Accuracy: 87.75%\n",
      "  Validation Loss: 1.2853, Validation Pixel Accuracy: 73.81%\n",
      "  Current learning rate: 0.000001\n",
      "------------------------------\n",
      "--- Epoch 209/500 ---\n"
     ]
    },
    {
     "name": "stderr",
     "output_type": "stream",
     "text": [
      "Training: 100%|\u001b[32m██████████\u001b[0m| 23/23 [00:22<00:00,  1.00it/s, loss=0.4967]\n",
      "Validation: 100%|\u001b[31m██████████\u001b[0m| 23/23 [00:14<00:00,  1.58it/s, loss=1.2263]\n"
     ]
    },
    {
     "name": "stdout",
     "output_type": "stream",
     "text": [
      "\n",
      "Epoch 209 Summary:\n",
      "  Train Loss: 0.3958, Train Pixel Accuracy: 87.75%\n",
      "  Validation Loss: 1.2852, Validation Pixel Accuracy: 73.81%\n",
      "  Current learning rate: 0.000001\n",
      "------------------------------\n",
      "--- Epoch 210/500 ---\n"
     ]
    },
    {
     "name": "stderr",
     "output_type": "stream",
     "text": [
      "Training: 100%|\u001b[32m██████████\u001b[0m| 23/23 [00:22<00:00,  1.02it/s, loss=0.4666]\n",
      "Validation: 100%|\u001b[31m██████████\u001b[0m| 23/23 [00:14<00:00,  1.57it/s, loss=1.2262]\n"
     ]
    },
    {
     "name": "stdout",
     "output_type": "stream",
     "text": [
      "\n",
      "Epoch 210 Summary:\n",
      "  Train Loss: 0.3955, Train Pixel Accuracy: 87.76%\n",
      "  Validation Loss: 1.2859, Validation Pixel Accuracy: 73.81%\n",
      "  Current learning rate: 0.000001\n",
      "------------------------------\n",
      "--- Epoch 211/500 ---\n"
     ]
    },
    {
     "name": "stderr",
     "output_type": "stream",
     "text": [
      "Training: 100%|\u001b[32m██████████\u001b[0m| 23/23 [00:22<00:00,  1.00it/s, loss=0.3705]\n",
      "Validation: 100%|\u001b[31m██████████\u001b[0m| 23/23 [00:14<00:00,  1.57it/s, loss=1.2263]\n"
     ]
    },
    {
     "name": "stdout",
     "output_type": "stream",
     "text": [
      "\n",
      "Epoch 211 Summary:\n",
      "  Train Loss: 0.3949, Train Pixel Accuracy: 87.76%\n",
      "  Validation Loss: 1.2860, Validation Pixel Accuracy: 73.81%\n",
      "  Current learning rate: 0.000001\n",
      "------------------------------\n",
      "--- Epoch 212/500 ---\n"
     ]
    },
    {
     "name": "stderr",
     "output_type": "stream",
     "text": [
      "Training: 100%|\u001b[32m██████████\u001b[0m| 23/23 [00:22<00:00,  1.03it/s, loss=0.4206]\n",
      "Validation: 100%|\u001b[31m██████████\u001b[0m| 23/23 [00:15<00:00,  1.53it/s, loss=1.2268]\n"
     ]
    },
    {
     "name": "stdout",
     "output_type": "stream",
     "text": [
      "\n",
      "Epoch 212 Summary:\n",
      "  Train Loss: 0.3952, Train Pixel Accuracy: 87.76%\n",
      "  Validation Loss: 1.2863, Validation Pixel Accuracy: 73.81%\n",
      "  Current learning rate: 0.000001\n",
      "------------------------------\n",
      "--- Epoch 213/500 ---\n"
     ]
    },
    {
     "name": "stderr",
     "output_type": "stream",
     "text": [
      "Training: 100%|\u001b[32m██████████\u001b[0m| 23/23 [00:22<00:00,  1.02it/s, loss=0.3878]\n",
      "Validation: 100%|\u001b[31m██████████\u001b[0m| 23/23 [00:14<00:00,  1.58it/s, loss=1.2270]\n"
     ]
    },
    {
     "name": "stdout",
     "output_type": "stream",
     "text": [
      "\n",
      "Epoch 213 Summary:\n",
      "  Train Loss: 0.3950, Train Pixel Accuracy: 87.76%\n",
      "  Validation Loss: 1.2868, Validation Pixel Accuracy: 73.81%\n",
      "  Current learning rate: 0.000001\n",
      "------------------------------\n",
      "--- Epoch 214/500 ---\n"
     ]
    },
    {
     "name": "stderr",
     "output_type": "stream",
     "text": [
      "Training: 100%|\u001b[32m██████████\u001b[0m| 23/23 [00:22<00:00,  1.02it/s, loss=0.4782]\n",
      "Validation: 100%|\u001b[31m██████████\u001b[0m| 23/23 [00:14<00:00,  1.61it/s, loss=1.2274]\n"
     ]
    },
    {
     "name": "stdout",
     "output_type": "stream",
     "text": [
      "\n",
      "Epoch 214 Summary:\n",
      "  Train Loss: 0.3952, Train Pixel Accuracy: 87.77%\n",
      "  Validation Loss: 1.2871, Validation Pixel Accuracy: 73.81%\n",
      "  Current learning rate: 0.000001\n",
      "------------------------------\n",
      "--- Epoch 215/500 ---\n"
     ]
    },
    {
     "name": "stderr",
     "output_type": "stream",
     "text": [
      "Training: 100%|\u001b[32m██████████\u001b[0m| 23/23 [00:22<00:00,  1.01it/s, loss=0.3640]\n",
      "Validation: 100%|\u001b[31m██████████\u001b[0m| 23/23 [00:14<00:00,  1.56it/s, loss=1.2272]\n"
     ]
    },
    {
     "name": "stdout",
     "output_type": "stream",
     "text": [
      "\n",
      "Epoch 215 Summary:\n",
      "  Train Loss: 0.3945, Train Pixel Accuracy: 87.77%\n",
      "  Validation Loss: 1.2870, Validation Pixel Accuracy: 73.80%\n",
      "  Current learning rate: 0.000001\n",
      "------------------------------\n",
      "--- Epoch 216/500 ---\n"
     ]
    },
    {
     "name": "stderr",
     "output_type": "stream",
     "text": [
      "Training: 100%|\u001b[32m██████████\u001b[0m| 23/23 [00:23<00:00,  1.01s/it, loss=0.3811]\n",
      "Validation: 100%|\u001b[31m██████████\u001b[0m| 23/23 [00:15<00:00,  1.53it/s, loss=1.2279]\n"
     ]
    },
    {
     "name": "stdout",
     "output_type": "stream",
     "text": [
      "\n",
      "Epoch 216 Summary:\n",
      "  Train Loss: 0.3945, Train Pixel Accuracy: 87.77%\n",
      "  Validation Loss: 1.2877, Validation Pixel Accuracy: 73.81%\n",
      "  Current learning rate: 0.000001\n",
      "------------------------------\n",
      "--- Epoch 217/500 ---\n"
     ]
    },
    {
     "name": "stderr",
     "output_type": "stream",
     "text": [
      "Training: 100%|\u001b[32m██████████\u001b[0m| 23/23 [00:22<00:00,  1.02it/s, loss=0.4060]\n",
      "Validation: 100%|\u001b[31m██████████\u001b[0m| 23/23 [00:14<00:00,  1.56it/s, loss=1.2279]\n"
     ]
    },
    {
     "name": "stdout",
     "output_type": "stream",
     "text": [
      "\n",
      "Epoch 217 Summary:\n",
      "  Train Loss: 0.3946, Train Pixel Accuracy: 87.78%\n",
      "  Validation Loss: 1.2880, Validation Pixel Accuracy: 73.80%\n",
      "  Current learning rate: 0.000001\n",
      "------------------------------\n",
      "--- Epoch 218/500 ---\n"
     ]
    },
    {
     "name": "stderr",
     "output_type": "stream",
     "text": [
      "Training: 100%|\u001b[32m██████████\u001b[0m| 23/23 [00:22<00:00,  1.04it/s, loss=0.4163]\n",
      "Validation: 100%|\u001b[31m██████████\u001b[0m| 23/23 [00:14<00:00,  1.56it/s, loss=1.2277]\n"
     ]
    },
    {
     "name": "stdout",
     "output_type": "stream",
     "text": [
      "\n",
      "Epoch 218 Summary:\n",
      "  Train Loss: 0.3945, Train Pixel Accuracy: 87.78%\n",
      "  Validation Loss: 1.2873, Validation Pixel Accuracy: 73.79%\n",
      "  Current learning rate: 0.000001\n",
      "------------------------------\n",
      "--- Epoch 219/500 ---\n"
     ]
    },
    {
     "name": "stderr",
     "output_type": "stream",
     "text": [
      "Training: 100%|\u001b[32m██████████\u001b[0m| 23/23 [00:22<00:00,  1.00it/s, loss=0.3635]\n",
      "Validation: 100%|\u001b[31m██████████\u001b[0m| 23/23 [00:14<00:00,  1.62it/s, loss=1.2283]\n"
     ]
    },
    {
     "name": "stdout",
     "output_type": "stream",
     "text": [
      "\n",
      "Epoch 219 Summary:\n",
      "  Train Loss: 0.3941, Train Pixel Accuracy: 87.78%\n",
      "  Validation Loss: 1.2886, Validation Pixel Accuracy: 73.80%\n",
      "  Current learning rate: 0.000001\n",
      "------------------------------\n",
      "--- Epoch 220/500 ---\n"
     ]
    },
    {
     "name": "stderr",
     "output_type": "stream",
     "text": [
      "Training: 100%|\u001b[32m██████████\u001b[0m| 23/23 [00:22<00:00,  1.02it/s, loss=0.3916]\n",
      "Validation: 100%|\u001b[31m██████████\u001b[0m| 23/23 [00:14<00:00,  1.58it/s, loss=1.2287]\n"
     ]
    },
    {
     "name": "stdout",
     "output_type": "stream",
     "text": [
      "\n",
      "Epoch 220 Summary:\n",
      "  Train Loss: 0.3941, Train Pixel Accuracy: 87.79%\n",
      "  Validation Loss: 1.2882, Validation Pixel Accuracy: 73.80%\n",
      "  Current learning rate: 0.000001\n",
      "------------------------------\n",
      "--- Epoch 221/500 ---\n"
     ]
    },
    {
     "name": "stderr",
     "output_type": "stream",
     "text": [
      "Training: 100%|\u001b[32m██████████\u001b[0m| 23/23 [00:22<00:00,  1.02it/s, loss=0.3927]\n",
      "Validation: 100%|\u001b[31m██████████\u001b[0m| 23/23 [00:14<00:00,  1.61it/s, loss=1.2289]\n"
     ]
    },
    {
     "name": "stdout",
     "output_type": "stream",
     "text": [
      "\n",
      "Epoch 221 Summary:\n",
      "  Train Loss: 0.3941, Train Pixel Accuracy: 87.79%\n",
      "  Validation Loss: 1.2891, Validation Pixel Accuracy: 73.80%\n",
      "  Current learning rate: 0.000001\n",
      "------------------------------\n",
      "--- Epoch 222/500 ---\n"
     ]
    },
    {
     "name": "stderr",
     "output_type": "stream",
     "text": [
      "Training: 100%|\u001b[32m██████████\u001b[0m| 23/23 [00:22<00:00,  1.01it/s, loss=0.3514]\n",
      "Validation: 100%|\u001b[31m██████████\u001b[0m| 23/23 [00:14<00:00,  1.59it/s, loss=1.2287]\n"
     ]
    },
    {
     "name": "stdout",
     "output_type": "stream",
     "text": [
      "\n",
      "Epoch 222 Summary:\n",
      "  Train Loss: 0.3937, Train Pixel Accuracy: 87.80%\n",
      "  Validation Loss: 1.2890, Validation Pixel Accuracy: 73.79%\n",
      "  Current learning rate: 0.000001\n",
      "------------------------------\n",
      "--- Epoch 223/500 ---\n"
     ]
    },
    {
     "name": "stderr",
     "output_type": "stream",
     "text": [
      "Training: 100%|\u001b[32m██████████\u001b[0m| 23/23 [00:22<00:00,  1.03it/s, loss=0.3622]\n",
      "Validation: 100%|\u001b[31m██████████\u001b[0m| 23/23 [00:14<00:00,  1.57it/s, loss=1.2291]\n"
     ]
    },
    {
     "name": "stdout",
     "output_type": "stream",
     "text": [
      "\n",
      "Epoch 223 Summary:\n",
      "  Train Loss: 0.3936, Train Pixel Accuracy: 87.80%\n",
      "  Validation Loss: 1.2892, Validation Pixel Accuracy: 73.80%\n",
      "  Current learning rate: 0.000001\n",
      "------------------------------\n",
      "--- Epoch 224/500 ---\n"
     ]
    },
    {
     "name": "stderr",
     "output_type": "stream",
     "text": [
      "Training: 100%|\u001b[32m██████████\u001b[0m| 23/23 [00:22<00:00,  1.02it/s, loss=0.3468]\n",
      "Validation: 100%|\u001b[31m██████████\u001b[0m| 23/23 [00:14<00:00,  1.54it/s, loss=1.2296]\n"
     ]
    },
    {
     "name": "stdout",
     "output_type": "stream",
     "text": [
      "\n",
      "Epoch 224 Summary:\n",
      "  Train Loss: 0.3936, Train Pixel Accuracy: 87.80%\n",
      "  Validation Loss: 1.2892, Validation Pixel Accuracy: 73.80%\n",
      "  Current learning rate: 0.000001\n",
      "------------------------------\n",
      "--- Epoch 225/500 ---\n"
     ]
    },
    {
     "name": "stderr",
     "output_type": "stream",
     "text": [
      "Training: 100%|\u001b[32m██████████\u001b[0m| 23/23 [00:22<00:00,  1.02it/s, loss=0.3872]\n",
      "Validation: 100%|\u001b[31m██████████\u001b[0m| 23/23 [00:14<00:00,  1.57it/s, loss=1.2295]\n"
     ]
    },
    {
     "name": "stdout",
     "output_type": "stream",
     "text": [
      "\n",
      "Epoch 225 Summary:\n",
      "  Train Loss: 0.3937, Train Pixel Accuracy: 87.80%\n",
      "  Validation Loss: 1.2897, Validation Pixel Accuracy: 73.79%\n",
      "  Current learning rate: 0.000001\n",
      "------------------------------\n",
      "--- Epoch 226/500 ---\n"
     ]
    },
    {
     "name": "stderr",
     "output_type": "stream",
     "text": [
      "Training: 100%|\u001b[32m██████████\u001b[0m| 23/23 [00:22<00:00,  1.02it/s, loss=0.3915]\n",
      "Validation: 100%|\u001b[31m██████████\u001b[0m| 23/23 [00:14<00:00,  1.59it/s, loss=1.2297]\n"
     ]
    },
    {
     "name": "stdout",
     "output_type": "stream",
     "text": [
      "\n",
      "Epoch 226 Summary:\n",
      "  Train Loss: 0.3934, Train Pixel Accuracy: 87.81%\n",
      "  Validation Loss: 1.2897, Validation Pixel Accuracy: 73.79%\n",
      "  Current learning rate: 0.000001\n",
      "------------------------------\n",
      "--- Epoch 227/500 ---\n"
     ]
    },
    {
     "name": "stderr",
     "output_type": "stream",
     "text": [
      "Training: 100%|\u001b[32m██████████\u001b[0m| 23/23 [00:22<00:00,  1.00it/s, loss=0.4024]\n",
      "Validation: 100%|\u001b[31m██████████\u001b[0m| 23/23 [00:14<00:00,  1.61it/s, loss=1.2303]\n"
     ]
    },
    {
     "name": "stdout",
     "output_type": "stream",
     "text": [
      "\n",
      "Epoch 227 Summary:\n",
      "  Train Loss: 0.3936, Train Pixel Accuracy: 87.81%\n",
      "  Validation Loss: 1.2908, Validation Pixel Accuracy: 73.79%\n",
      "  Current learning rate: 0.000001\n",
      "------------------------------\n",
      "--- Epoch 228/500 ---\n"
     ]
    },
    {
     "name": "stderr",
     "output_type": "stream",
     "text": [
      "Training: 100%|\u001b[32m██████████\u001b[0m| 23/23 [00:22<00:00,  1.01it/s, loss=0.3391]\n",
      "Validation: 100%|\u001b[31m██████████\u001b[0m| 23/23 [00:14<00:00,  1.54it/s, loss=1.2303]\n"
     ]
    },
    {
     "name": "stdout",
     "output_type": "stream",
     "text": [
      "\n",
      "Epoch 228 Summary:\n",
      "  Train Loss: 0.3931, Train Pixel Accuracy: 87.81%\n",
      "  Validation Loss: 1.2904, Validation Pixel Accuracy: 73.80%\n",
      "  Current learning rate: 0.000001\n",
      "------------------------------\n",
      "--- Epoch 229/500 ---\n"
     ]
    },
    {
     "name": "stderr",
     "output_type": "stream",
     "text": [
      "Training: 100%|\u001b[32m██████████\u001b[0m| 23/23 [00:22<00:00,  1.03it/s, loss=0.3754]\n",
      "Validation: 100%|\u001b[31m██████████\u001b[0m| 23/23 [00:14<00:00,  1.57it/s, loss=1.2305]\n"
     ]
    },
    {
     "name": "stdout",
     "output_type": "stream",
     "text": [
      "\n",
      "Epoch 229 Summary:\n",
      "  Train Loss: 0.3932, Train Pixel Accuracy: 87.82%\n",
      "  Validation Loss: 1.2910, Validation Pixel Accuracy: 73.79%\n",
      "  Current learning rate: 0.000001\n",
      "------------------------------\n",
      "--- Epoch 230/500 ---\n"
     ]
    },
    {
     "name": "stderr",
     "output_type": "stream",
     "text": [
      "Training: 100%|\u001b[32m██████████\u001b[0m| 23/23 [00:22<00:00,  1.02it/s, loss=0.3905]\n",
      "Validation: 100%|\u001b[31m██████████\u001b[0m| 23/23 [00:14<00:00,  1.57it/s, loss=1.2303]\n"
     ]
    },
    {
     "name": "stdout",
     "output_type": "stream",
     "text": [
      "\n",
      "Epoch 230 Summary:\n",
      "  Train Loss: 0.3931, Train Pixel Accuracy: 87.82%\n",
      "  Validation Loss: 1.2910, Validation Pixel Accuracy: 73.79%\n",
      "  Current learning rate: 0.000001\n",
      "------------------------------\n",
      "--- Epoch 231/500 ---\n"
     ]
    },
    {
     "name": "stderr",
     "output_type": "stream",
     "text": [
      "Training: 100%|\u001b[32m██████████\u001b[0m| 23/23 [00:22<00:00,  1.00it/s, loss=0.3710]\n",
      "Validation: 100%|\u001b[31m██████████\u001b[0m| 23/23 [00:14<00:00,  1.59it/s, loss=1.2313]\n"
     ]
    },
    {
     "name": "stdout",
     "output_type": "stream",
     "text": [
      "\n",
      "Epoch 231 Summary:\n",
      "  Train Loss: 0.3930, Train Pixel Accuracy: 87.82%\n",
      "  Validation Loss: 1.2914, Validation Pixel Accuracy: 73.79%\n",
      "  Current learning rate: 0.000001\n",
      "------------------------------\n",
      "--- Epoch 232/500 ---\n"
     ]
    },
    {
     "name": "stderr",
     "output_type": "stream",
     "text": [
      "Training: 100%|\u001b[32m██████████\u001b[0m| 23/23 [00:22<00:00,  1.01it/s, loss=0.3825]\n",
      "Validation: 100%|\u001b[31m██████████\u001b[0m| 23/23 [00:14<00:00,  1.62it/s, loss=1.2313]\n"
     ]
    },
    {
     "name": "stdout",
     "output_type": "stream",
     "text": [
      "\n",
      "Epoch 232 Summary:\n",
      "  Train Loss: 0.3928, Train Pixel Accuracy: 87.83%\n",
      "  Validation Loss: 1.2916, Validation Pixel Accuracy: 73.79%\n",
      "  Current learning rate: 0.000001\n",
      "------------------------------\n",
      "--- Epoch 233/500 ---\n"
     ]
    },
    {
     "name": "stderr",
     "output_type": "stream",
     "text": [
      "Training: 100%|\u001b[32m██████████\u001b[0m| 23/23 [00:22<00:00,  1.01it/s, loss=0.4010]\n",
      "Validation: 100%|\u001b[31m██████████\u001b[0m| 23/23 [00:14<00:00,  1.59it/s, loss=1.2312]\n"
     ]
    },
    {
     "name": "stdout",
     "output_type": "stream",
     "text": [
      "\n",
      "Epoch 233 Summary:\n",
      "  Train Loss: 0.3929, Train Pixel Accuracy: 87.83%\n",
      "  Validation Loss: 1.2918, Validation Pixel Accuracy: 73.79%\n",
      "  Current learning rate: 0.000001\n",
      "------------------------------\n",
      "--- Epoch 234/500 ---\n"
     ]
    },
    {
     "name": "stderr",
     "output_type": "stream",
     "text": [
      "Training: 100%|\u001b[32m██████████\u001b[0m| 23/23 [00:22<00:00,  1.02it/s, loss=0.3804]\n",
      "Validation: 100%|\u001b[31m██████████\u001b[0m| 23/23 [00:14<00:00,  1.56it/s, loss=1.2315]\n"
     ]
    },
    {
     "name": "stdout",
     "output_type": "stream",
     "text": [
      "\n",
      "Epoch 234 Summary:\n",
      "  Train Loss: 0.3927, Train Pixel Accuracy: 87.83%\n",
      "  Validation Loss: 1.2921, Validation Pixel Accuracy: 73.79%\n",
      "  Current learning rate: 0.000001\n",
      "------------------------------\n",
      "--- Epoch 235/500 ---\n"
     ]
    },
    {
     "name": "stderr",
     "output_type": "stream",
     "text": [
      "Training: 100%|\u001b[32m██████████\u001b[0m| 23/23 [00:22<00:00,  1.01it/s, loss=0.3849]\n",
      "Validation: 100%|\u001b[31m██████████\u001b[0m| 23/23 [00:14<00:00,  1.55it/s, loss=1.2320]\n"
     ]
    },
    {
     "name": "stdout",
     "output_type": "stream",
     "text": [
      "\n",
      "Epoch 235 Summary:\n",
      "  Train Loss: 0.3927, Train Pixel Accuracy: 87.83%\n",
      "  Validation Loss: 1.2927, Validation Pixel Accuracy: 73.79%\n",
      "  Current learning rate: 0.000001\n",
      "------------------------------\n",
      "--- Epoch 236/500 ---\n"
     ]
    },
    {
     "name": "stderr",
     "output_type": "stream",
     "text": [
      "Training: 100%|\u001b[32m██████████\u001b[0m| 23/23 [00:22<00:00,  1.01it/s, loss=0.3335]\n",
      "Validation: 100%|\u001b[31m██████████\u001b[0m| 23/23 [00:15<00:00,  1.52it/s, loss=1.2321]\n"
     ]
    },
    {
     "name": "stdout",
     "output_type": "stream",
     "text": [
      "\n",
      "Epoch 236 Summary:\n",
      "  Train Loss: 0.3922, Train Pixel Accuracy: 87.84%\n",
      "  Validation Loss: 1.2927, Validation Pixel Accuracy: 73.78%\n",
      "  Current learning rate: 0.000001\n",
      "------------------------------\n",
      "--- Epoch 237/500 ---\n"
     ]
    },
    {
     "name": "stderr",
     "output_type": "stream",
     "text": [
      "Training: 100%|\u001b[32m██████████\u001b[0m| 23/23 [00:23<00:00,  1.00s/it, loss=0.4225]\n",
      "Validation: 100%|\u001b[31m██████████\u001b[0m| 23/23 [00:14<00:00,  1.55it/s, loss=1.2323]\n"
     ]
    },
    {
     "name": "stdout",
     "output_type": "stream",
     "text": [
      "\n",
      "Epoch 237 Summary:\n",
      "  Train Loss: 0.3927, Train Pixel Accuracy: 87.84%\n",
      "  Validation Loss: 1.2926, Validation Pixel Accuracy: 73.78%\n",
      "  Current learning rate: 0.000001\n",
      "------------------------------\n",
      "--- Epoch 238/500 ---\n"
     ]
    },
    {
     "name": "stderr",
     "output_type": "stream",
     "text": [
      "Training: 100%|\u001b[32m██████████\u001b[0m| 23/23 [00:23<00:00,  1.01s/it, loss=0.4089]\n",
      "Validation: 100%|\u001b[31m██████████\u001b[0m| 23/23 [00:14<00:00,  1.58it/s, loss=1.2328]\n"
     ]
    },
    {
     "name": "stdout",
     "output_type": "stream",
     "text": [
      "\n",
      "Epoch 238 Summary:\n",
      "  Train Loss: 0.3925, Train Pixel Accuracy: 87.84%\n",
      "  Validation Loss: 1.2932, Validation Pixel Accuracy: 73.79%\n",
      "  Current learning rate: 0.000001\n",
      "------------------------------\n",
      "--- Epoch 239/500 ---\n"
     ]
    },
    {
     "name": "stderr",
     "output_type": "stream",
     "text": [
      "Training: 100%|\u001b[32m██████████\u001b[0m| 23/23 [00:22<00:00,  1.01it/s, loss=0.4618]\n",
      "Validation: 100%|\u001b[31m██████████\u001b[0m| 23/23 [00:15<00:00,  1.51it/s, loss=1.2320]\n"
     ]
    },
    {
     "name": "stdout",
     "output_type": "stream",
     "text": [
      "\n",
      "Epoch 239 Summary:\n",
      "  Train Loss: 0.3926, Train Pixel Accuracy: 87.85%\n",
      "  Validation Loss: 1.2931, Validation Pixel Accuracy: 73.77%\n",
      "  Current learning rate: 0.000001\n",
      "------------------------------\n",
      "--- Epoch 240/500 ---\n"
     ]
    },
    {
     "name": "stderr",
     "output_type": "stream",
     "text": [
      "Training: 100%|\u001b[32m██████████\u001b[0m| 23/23 [00:22<00:00,  1.02it/s, loss=0.3166]\n",
      "Validation: 100%|\u001b[31m██████████\u001b[0m| 23/23 [00:14<00:00,  1.57it/s, loss=1.2329]\n"
     ]
    },
    {
     "name": "stdout",
     "output_type": "stream",
     "text": [
      "\n",
      "Epoch 240 Summary:\n",
      "  Train Loss: 0.3918, Train Pixel Accuracy: 87.85%\n",
      "  Validation Loss: 1.2938, Validation Pixel Accuracy: 73.78%\n",
      "  Current learning rate: 0.000001\n",
      "------------------------------\n",
      "--- Epoch 241/500 ---\n"
     ]
    },
    {
     "name": "stderr",
     "output_type": "stream",
     "text": [
      "Training: 100%|\u001b[32m██████████\u001b[0m| 23/23 [00:22<00:00,  1.03it/s, loss=0.3962]\n",
      "Validation: 100%|\u001b[31m██████████\u001b[0m| 23/23 [00:14<00:00,  1.57it/s, loss=1.2329]\n"
     ]
    },
    {
     "name": "stdout",
     "output_type": "stream",
     "text": [
      "\n",
      "Epoch 241 Summary:\n",
      "  Train Loss: 0.3921, Train Pixel Accuracy: 87.85%\n",
      "  Validation Loss: 1.2940, Validation Pixel Accuracy: 73.78%\n",
      "  Current learning rate: 0.000001\n",
      "------------------------------\n",
      "--- Epoch 242/500 ---\n"
     ]
    },
    {
     "name": "stderr",
     "output_type": "stream",
     "text": [
      "Training: 100%|\u001b[32m██████████\u001b[0m| 23/23 [00:22<00:00,  1.03it/s, loss=0.4575]\n",
      "Validation: 100%|\u001b[31m██████████\u001b[0m| 23/23 [00:14<00:00,  1.64it/s, loss=1.2338]\n"
     ]
    },
    {
     "name": "stdout",
     "output_type": "stream",
     "text": [
      "\n",
      "Epoch 242 Summary:\n",
      "  Train Loss: 0.3923, Train Pixel Accuracy: 87.86%\n",
      "  Validation Loss: 1.2948, Validation Pixel Accuracy: 73.78%\n",
      "  Current learning rate: 0.000001\n",
      "------------------------------\n",
      "--- Epoch 243/500 ---\n"
     ]
    },
    {
     "name": "stderr",
     "output_type": "stream",
     "text": [
      "Training: 100%|\u001b[32m██████████\u001b[0m| 23/23 [00:22<00:00,  1.03it/s, loss=0.3666]\n",
      "Validation: 100%|\u001b[31m██████████\u001b[0m| 23/23 [00:14<00:00,  1.64it/s, loss=1.2334]\n"
     ]
    },
    {
     "name": "stdout",
     "output_type": "stream",
     "text": [
      "\n",
      "Epoch 243 Summary:\n",
      "  Train Loss: 0.3917, Train Pixel Accuracy: 87.86%\n",
      "  Validation Loss: 1.2944, Validation Pixel Accuracy: 73.78%\n",
      "  Current learning rate: 0.000001\n",
      "------------------------------\n",
      "--- Epoch 244/500 ---\n"
     ]
    },
    {
     "name": "stderr",
     "output_type": "stream",
     "text": [
      "Training: 100%|\u001b[32m██████████\u001b[0m| 23/23 [00:22<00:00,  1.03it/s, loss=0.3401]\n",
      "Validation: 100%|\u001b[31m██████████\u001b[0m| 23/23 [00:14<00:00,  1.62it/s, loss=1.2333]\n"
     ]
    },
    {
     "name": "stdout",
     "output_type": "stream",
     "text": [
      "\n",
      "Epoch 244 Summary:\n",
      "  Train Loss: 0.3916, Train Pixel Accuracy: 87.86%\n",
      "  Validation Loss: 1.2947, Validation Pixel Accuracy: 73.77%\n",
      "  Current learning rate: 0.000001\n",
      "------------------------------\n",
      "--- Epoch 245/500 ---\n"
     ]
    },
    {
     "name": "stderr",
     "output_type": "stream",
     "text": [
      "Training: 100%|\u001b[32m██████████\u001b[0m| 23/23 [00:22<00:00,  1.03it/s, loss=0.3882]\n",
      "Validation: 100%|\u001b[31m██████████\u001b[0m| 23/23 [00:13<00:00,  1.65it/s, loss=1.2337]\n"
     ]
    },
    {
     "name": "stdout",
     "output_type": "stream",
     "text": [
      "\n",
      "Epoch 245 Summary:\n",
      "  Train Loss: 0.3917, Train Pixel Accuracy: 87.87%\n",
      "  Validation Loss: 1.2949, Validation Pixel Accuracy: 73.77%\n",
      "  Current learning rate: 0.000001\n",
      "------------------------------\n",
      "--- Epoch 246/500 ---\n"
     ]
    },
    {
     "name": "stderr",
     "output_type": "stream",
     "text": [
      "Training: 100%|\u001b[32m██████████\u001b[0m| 23/23 [00:22<00:00,  1.02it/s, loss=0.3847]\n",
      "Validation: 100%|\u001b[31m██████████\u001b[0m| 23/23 [00:14<00:00,  1.55it/s, loss=1.2342]\n"
     ]
    },
    {
     "name": "stdout",
     "output_type": "stream",
     "text": [
      "\n",
      "Epoch 246 Summary:\n",
      "  Train Loss: 0.3916, Train Pixel Accuracy: 87.87%\n",
      "  Validation Loss: 1.2953, Validation Pixel Accuracy: 73.78%\n",
      "  Current learning rate: 0.000001\n",
      "------------------------------\n",
      "--- Epoch 247/500 ---\n"
     ]
    },
    {
     "name": "stderr",
     "output_type": "stream",
     "text": [
      "Training: 100%|\u001b[32m██████████\u001b[0m| 23/23 [00:22<00:00,  1.03it/s, loss=0.3739]\n",
      "Validation: 100%|\u001b[31m██████████\u001b[0m| 23/23 [00:14<00:00,  1.57it/s, loss=1.2345]\n"
     ]
    },
    {
     "name": "stdout",
     "output_type": "stream",
     "text": [
      "\n",
      "Epoch 247 Summary:\n",
      "  Train Loss: 0.3913, Train Pixel Accuracy: 87.87%\n",
      "  Validation Loss: 1.2957, Validation Pixel Accuracy: 73.78%\n",
      "  Current learning rate: 0.000001\n",
      "------------------------------\n",
      "--- Epoch 248/500 ---\n"
     ]
    },
    {
     "name": "stderr",
     "output_type": "stream",
     "text": [
      "Training: 100%|\u001b[32m██████████\u001b[0m| 23/23 [00:22<00:00,  1.01it/s, loss=0.4589]\n",
      "Validation: 100%|\u001b[31m██████████\u001b[0m| 23/23 [00:14<00:00,  1.59it/s, loss=1.2350]\n"
     ]
    },
    {
     "name": "stdout",
     "output_type": "stream",
     "text": [
      "\n",
      "Epoch 248 Summary:\n",
      "  Train Loss: 0.3917, Train Pixel Accuracy: 87.87%\n",
      "  Validation Loss: 1.2959, Validation Pixel Accuracy: 73.78%\n",
      "  Current learning rate: 0.000001\n",
      "------------------------------\n",
      "--- Epoch 249/500 ---\n"
     ]
    },
    {
     "name": "stderr",
     "output_type": "stream",
     "text": [
      "Training: 100%|\u001b[32m██████████\u001b[0m| 23/23 [00:22<00:00,  1.02it/s, loss=0.4505]\n",
      "Validation: 100%|\u001b[31m██████████\u001b[0m| 23/23 [00:14<00:00,  1.55it/s, loss=1.2349]\n"
     ]
    },
    {
     "name": "stdout",
     "output_type": "stream",
     "text": [
      "\n",
      "Epoch 249 Summary:\n",
      "  Train Loss: 0.3915, Train Pixel Accuracy: 87.88%\n",
      "  Validation Loss: 1.2962, Validation Pixel Accuracy: 73.77%\n",
      "  Current learning rate: 0.000001\n",
      "------------------------------\n",
      "--- Epoch 250/500 ---\n"
     ]
    },
    {
     "name": "stderr",
     "output_type": "stream",
     "text": [
      "Training: 100%|\u001b[32m██████████\u001b[0m| 23/23 [00:22<00:00,  1.01it/s, loss=0.4352]\n",
      "Validation: 100%|\u001b[31m██████████\u001b[0m| 23/23 [00:14<00:00,  1.58it/s, loss=1.2350]\n"
     ]
    },
    {
     "name": "stdout",
     "output_type": "stream",
     "text": [
      "\n",
      "Epoch 250 Summary:\n",
      "  Train Loss: 0.3915, Train Pixel Accuracy: 87.88%\n",
      "  Validation Loss: 1.2964, Validation Pixel Accuracy: 73.77%\n",
      "  Current learning rate: 0.000001\n",
      "------------------------------\n",
      "--- Epoch 251/500 ---\n"
     ]
    },
    {
     "name": "stderr",
     "output_type": "stream",
     "text": [
      "Training: 100%|\u001b[32m██████████\u001b[0m| 23/23 [00:23<00:00,  1.03s/it, loss=0.3213]\n",
      "Validation: 100%|\u001b[31m██████████\u001b[0m| 23/23 [00:14<00:00,  1.56it/s, loss=1.2347]\n"
     ]
    },
    {
     "name": "stdout",
     "output_type": "stream",
     "text": [
      "\n",
      "Epoch 251 Summary:\n",
      "  Train Loss: 0.3907, Train Pixel Accuracy: 87.89%\n",
      "  Validation Loss: 1.2964, Validation Pixel Accuracy: 73.76%\n",
      "  Current learning rate: 0.000001\n",
      "------------------------------\n",
      "--- Epoch 252/500 ---\n"
     ]
    },
    {
     "name": "stderr",
     "output_type": "stream",
     "text": [
      "Training: 100%|\u001b[32m██████████\u001b[0m| 23/23 [00:22<00:00,  1.02it/s, loss=0.3202]\n",
      "Validation: 100%|\u001b[31m██████████\u001b[0m| 23/23 [00:14<00:00,  1.55it/s, loss=1.2352]\n"
     ]
    },
    {
     "name": "stdout",
     "output_type": "stream",
     "text": [
      "\n",
      "Epoch 252 Summary:\n",
      "  Train Loss: 0.3906, Train Pixel Accuracy: 87.89%\n",
      "  Validation Loss: 1.2967, Validation Pixel Accuracy: 73.77%\n",
      "  Current learning rate: 0.000001\n",
      "------------------------------\n",
      "--- Epoch 253/500 ---\n"
     ]
    },
    {
     "name": "stderr",
     "output_type": "stream",
     "text": [
      "Training: 100%|\u001b[32m██████████\u001b[0m| 23/23 [00:22<00:00,  1.03it/s, loss=0.3343]\n",
      "Validation: 100%|\u001b[31m██████████\u001b[0m| 23/23 [00:14<00:00,  1.57it/s, loss=1.2355]\n"
     ]
    },
    {
     "name": "stdout",
     "output_type": "stream",
     "text": [
      "\n",
      "Epoch 253 Summary:\n",
      "  Train Loss: 0.3906, Train Pixel Accuracy: 87.89%\n",
      "  Validation Loss: 1.2974, Validation Pixel Accuracy: 73.77%\n",
      "  Current learning rate: 0.000001\n",
      "------------------------------\n",
      "--- Epoch 254/500 ---\n"
     ]
    },
    {
     "name": "stderr",
     "output_type": "stream",
     "text": [
      "Training: 100%|\u001b[32m██████████\u001b[0m| 23/23 [00:22<00:00,  1.02it/s, loss=0.3622]\n",
      "Validation: 100%|\u001b[31m██████████\u001b[0m| 23/23 [00:14<00:00,  1.59it/s, loss=1.2359]\n"
     ]
    },
    {
     "name": "stdout",
     "output_type": "stream",
     "text": [
      "\n",
      "Epoch 254 Summary:\n",
      "  Train Loss: 0.3906, Train Pixel Accuracy: 87.89%\n",
      "  Validation Loss: 1.2974, Validation Pixel Accuracy: 73.77%\n",
      "  Current learning rate: 0.000001\n",
      "------------------------------\n",
      "--- Epoch 255/500 ---\n"
     ]
    },
    {
     "name": "stderr",
     "output_type": "stream",
     "text": [
      "Training: 100%|\u001b[32m██████████\u001b[0m| 23/23 [00:22<00:00,  1.01it/s, loss=0.3715]\n",
      "Validation: 100%|\u001b[31m██████████\u001b[0m| 23/23 [00:14<00:00,  1.63it/s, loss=1.2354]\n"
     ]
    },
    {
     "name": "stdout",
     "output_type": "stream",
     "text": [
      "\n",
      "Epoch 255 Summary:\n",
      "  Train Loss: 0.3907, Train Pixel Accuracy: 87.90%\n",
      "  Validation Loss: 1.2973, Validation Pixel Accuracy: 73.76%\n",
      "  Current learning rate: 0.000001\n",
      "------------------------------\n",
      "--- Epoch 256/500 ---\n"
     ]
    },
    {
     "name": "stderr",
     "output_type": "stream",
     "text": [
      "Training: 100%|\u001b[32m██████████\u001b[0m| 23/23 [00:22<00:00,  1.01it/s, loss=0.2967]\n",
      "Validation: 100%|\u001b[31m██████████\u001b[0m| 23/23 [00:13<00:00,  1.65it/s, loss=1.2362]\n"
     ]
    },
    {
     "name": "stdout",
     "output_type": "stream",
     "text": [
      "\n",
      "Epoch 256 Summary:\n",
      "  Train Loss: 0.3901, Train Pixel Accuracy: 87.90%\n",
      "  Validation Loss: 1.2979, Validation Pixel Accuracy: 73.76%\n",
      "  Current learning rate: 0.000001\n",
      "------------------------------\n",
      "--- Epoch 257/500 ---\n"
     ]
    },
    {
     "name": "stderr",
     "output_type": "stream",
     "text": [
      "Training: 100%|\u001b[32m██████████\u001b[0m| 23/23 [00:22<00:00,  1.02it/s, loss=0.3750]\n",
      "Validation: 100%|\u001b[31m██████████\u001b[0m| 23/23 [00:14<00:00,  1.60it/s, loss=1.2364]\n"
     ]
    },
    {
     "name": "stdout",
     "output_type": "stream",
     "text": [
      "\n",
      "Epoch 257 Summary:\n",
      "  Train Loss: 0.3905, Train Pixel Accuracy: 87.90%\n",
      "  Validation Loss: 1.2979, Validation Pixel Accuracy: 73.76%\n",
      "  Current learning rate: 0.000001\n",
      "------------------------------\n",
      "--- Epoch 258/500 ---\n"
     ]
    },
    {
     "name": "stderr",
     "output_type": "stream",
     "text": [
      "Training: 100%|\u001b[32m██████████\u001b[0m| 23/23 [00:22<00:00,  1.04it/s, loss=0.4054]\n",
      "Validation: 100%|\u001b[31m██████████\u001b[0m| 23/23 [00:14<00:00,  1.59it/s, loss=1.2367]\n"
     ]
    },
    {
     "name": "stdout",
     "output_type": "stream",
     "text": [
      "\n",
      "Epoch 258 Summary:\n",
      "  Train Loss: 0.3905, Train Pixel Accuracy: 87.91%\n",
      "  Validation Loss: 1.2989, Validation Pixel Accuracy: 73.77%\n",
      "  Current learning rate: 0.000001\n",
      "------------------------------\n",
      "--- Epoch 259/500 ---\n"
     ]
    },
    {
     "name": "stderr",
     "output_type": "stream",
     "text": [
      "Training: 100%|\u001b[32m██████████\u001b[0m| 23/23 [00:22<00:00,  1.04it/s, loss=0.4048]\n",
      "Validation: 100%|\u001b[31m██████████\u001b[0m| 23/23 [00:14<00:00,  1.59it/s, loss=1.2372]\n"
     ]
    },
    {
     "name": "stdout",
     "output_type": "stream",
     "text": [
      "\n",
      "Epoch 259 Summary:\n",
      "  Train Loss: 0.3904, Train Pixel Accuracy: 87.91%\n",
      "  Validation Loss: 1.2986, Validation Pixel Accuracy: 73.75%\n",
      "  Current learning rate: 0.000001\n",
      "------------------------------\n",
      "--- Epoch 260/500 ---\n"
     ]
    },
    {
     "name": "stderr",
     "output_type": "stream",
     "text": [
      "Training: 100%|\u001b[32m██████████\u001b[0m| 23/23 [00:22<00:00,  1.03it/s, loss=0.4264]\n",
      "Validation: 100%|\u001b[31m██████████\u001b[0m| 23/23 [00:14<00:00,  1.60it/s, loss=1.2372]\n"
     ]
    },
    {
     "name": "stdout",
     "output_type": "stream",
     "text": [
      "\n",
      "Epoch 260 Summary:\n",
      "  Train Loss: 0.3904, Train Pixel Accuracy: 87.91%\n",
      "  Validation Loss: 1.2994, Validation Pixel Accuracy: 73.76%\n",
      "  Current learning rate: 0.000001\n",
      "------------------------------\n",
      "--- Epoch 261/500 ---\n"
     ]
    },
    {
     "name": "stderr",
     "output_type": "stream",
     "text": [
      "Training: 100%|\u001b[32m██████████\u001b[0m| 23/23 [00:22<00:00,  1.02it/s, loss=0.3763]\n",
      "Validation: 100%|\u001b[31m██████████\u001b[0m| 23/23 [00:14<00:00,  1.63it/s, loss=1.2368]\n"
     ]
    },
    {
     "name": "stdout",
     "output_type": "stream",
     "text": [
      "\n",
      "Epoch 261 Summary:\n",
      "  Train Loss: 0.3900, Train Pixel Accuracy: 87.92%\n",
      "  Validation Loss: 1.2991, Validation Pixel Accuracy: 73.76%\n",
      "  Current learning rate: 0.000001\n",
      "------------------------------\n",
      "--- Epoch 262/500 ---\n"
     ]
    },
    {
     "name": "stderr",
     "output_type": "stream",
     "text": [
      "Training: 100%|\u001b[32m██████████\u001b[0m| 23/23 [00:22<00:00,  1.02it/s, loss=0.3825]\n",
      "Validation: 100%|\u001b[31m██████████\u001b[0m| 23/23 [00:14<00:00,  1.60it/s, loss=1.2377]\n"
     ]
    },
    {
     "name": "stdout",
     "output_type": "stream",
     "text": [
      "\n",
      "Epoch 262 Summary:\n",
      "  Train Loss: 0.3901, Train Pixel Accuracy: 87.92%\n",
      "  Validation Loss: 1.2995, Validation Pixel Accuracy: 73.76%\n",
      "  Current learning rate: 0.000001\n",
      "------------------------------\n",
      "--- Epoch 263/500 ---\n"
     ]
    },
    {
     "name": "stderr",
     "output_type": "stream",
     "text": [
      "Training: 100%|\u001b[32m██████████\u001b[0m| 23/23 [00:22<00:00,  1.03it/s, loss=0.3568]\n",
      "Validation: 100%|\u001b[31m██████████\u001b[0m| 23/23 [00:14<00:00,  1.58it/s, loss=1.2378]\n"
     ]
    },
    {
     "name": "stdout",
     "output_type": "stream",
     "text": [
      "\n",
      "Epoch 263 Summary:\n",
      "  Train Loss: 0.3895, Train Pixel Accuracy: 87.92%\n",
      "  Validation Loss: 1.2995, Validation Pixel Accuracy: 73.76%\n",
      "  Current learning rate: 0.000001\n",
      "------------------------------\n",
      "--- Epoch 264/500 ---\n"
     ]
    },
    {
     "name": "stderr",
     "output_type": "stream",
     "text": [
      "Training: 100%|\u001b[32m██████████\u001b[0m| 23/23 [00:22<00:00,  1.01it/s, loss=0.3829]\n",
      "Validation: 100%|\u001b[31m██████████\u001b[0m| 23/23 [00:14<00:00,  1.59it/s, loss=1.2378]\n"
     ]
    },
    {
     "name": "stdout",
     "output_type": "stream",
     "text": [
      "\n",
      "Epoch 264 Summary:\n",
      "  Train Loss: 0.3898, Train Pixel Accuracy: 87.93%\n",
      "  Validation Loss: 1.3000, Validation Pixel Accuracy: 73.76%\n",
      "  Current learning rate: 0.000001\n",
      "------------------------------\n",
      "--- Epoch 265/500 ---\n"
     ]
    },
    {
     "name": "stderr",
     "output_type": "stream",
     "text": [
      "Training: 100%|\u001b[32m██████████\u001b[0m| 23/23 [00:22<00:00,  1.02it/s, loss=0.3836]\n",
      "Validation: 100%|\u001b[31m██████████\u001b[0m| 23/23 [00:14<00:00,  1.56it/s, loss=1.2381]\n"
     ]
    },
    {
     "name": "stdout",
     "output_type": "stream",
     "text": [
      "\n",
      "Epoch 265 Summary:\n",
      "  Train Loss: 0.3896, Train Pixel Accuracy: 87.93%\n",
      "  Validation Loss: 1.3004, Validation Pixel Accuracy: 73.75%\n",
      "  Current learning rate: 0.000001\n",
      "------------------------------\n",
      "--- Epoch 266/500 ---\n"
     ]
    },
    {
     "name": "stderr",
     "output_type": "stream",
     "text": [
      "Training: 100%|\u001b[32m██████████\u001b[0m| 23/23 [00:22<00:00,  1.02it/s, loss=0.3785]\n",
      "Validation: 100%|\u001b[31m██████████\u001b[0m| 23/23 [00:14<00:00,  1.55it/s, loss=1.2385]\n"
     ]
    },
    {
     "name": "stdout",
     "output_type": "stream",
     "text": [
      "\n",
      "Epoch 266 Summary:\n",
      "  Train Loss: 0.3896, Train Pixel Accuracy: 87.93%\n",
      "  Validation Loss: 1.3005, Validation Pixel Accuracy: 73.76%\n",
      "  Current learning rate: 0.000001\n",
      "------------------------------\n",
      "--- Epoch 267/500 ---\n"
     ]
    },
    {
     "name": "stderr",
     "output_type": "stream",
     "text": [
      "Training: 100%|\u001b[32m██████████\u001b[0m| 23/23 [00:22<00:00,  1.01it/s, loss=0.3842]\n",
      "Validation: 100%|\u001b[31m██████████\u001b[0m| 23/23 [00:14<00:00,  1.60it/s, loss=1.2383]\n"
     ]
    },
    {
     "name": "stdout",
     "output_type": "stream",
     "text": [
      "\n",
      "Epoch 267 Summary:\n",
      "  Train Loss: 0.3895, Train Pixel Accuracy: 87.93%\n",
      "  Validation Loss: 1.3011, Validation Pixel Accuracy: 73.75%\n",
      "  Current learning rate: 0.000001\n",
      "------------------------------\n",
      "--- Epoch 268/500 ---\n"
     ]
    },
    {
     "name": "stderr",
     "output_type": "stream",
     "text": [
      "Training: 100%|\u001b[32m██████████\u001b[0m| 23/23 [00:22<00:00,  1.00it/s, loss=0.3590]\n",
      "Validation: 100%|\u001b[31m██████████\u001b[0m| 23/23 [00:14<00:00,  1.60it/s, loss=1.2391]\n"
     ]
    },
    {
     "name": "stdout",
     "output_type": "stream",
     "text": [
      "\n",
      "Epoch 268 Summary:\n",
      "  Train Loss: 0.3893, Train Pixel Accuracy: 87.94%\n",
      "  Validation Loss: 1.3013, Validation Pixel Accuracy: 73.76%\n",
      "  Current learning rate: 0.000001\n",
      "------------------------------\n",
      "--- Epoch 269/500 ---\n"
     ]
    },
    {
     "name": "stderr",
     "output_type": "stream",
     "text": [
      "Training: 100%|\u001b[32m██████████\u001b[0m| 23/23 [00:23<00:00,  1.00s/it, loss=0.3753]\n",
      "Validation: 100%|\u001b[31m██████████\u001b[0m| 23/23 [00:15<00:00,  1.51it/s, loss=1.2388]\n"
     ]
    },
    {
     "name": "stdout",
     "output_type": "stream",
     "text": [
      "\n",
      "Epoch 269 Summary:\n",
      "  Train Loss: 0.3893, Train Pixel Accuracy: 87.94%\n",
      "  Validation Loss: 1.3016, Validation Pixel Accuracy: 73.75%\n",
      "  Current learning rate: 0.000001\n",
      "------------------------------\n",
      "--- Epoch 270/500 ---\n"
     ]
    },
    {
     "name": "stderr",
     "output_type": "stream",
     "text": [
      "Training: 100%|\u001b[32m██████████\u001b[0m| 23/23 [00:23<00:00,  1.01s/it, loss=0.2855]\n",
      "Validation: 100%|\u001b[31m██████████\u001b[0m| 23/23 [00:15<00:00,  1.53it/s, loss=1.2387]\n"
     ]
    },
    {
     "name": "stdout",
     "output_type": "stream",
     "text": [
      "\n",
      "Epoch 270 Summary:\n",
      "  Train Loss: 0.3887, Train Pixel Accuracy: 87.95%\n",
      "  Validation Loss: 1.3011, Validation Pixel Accuracy: 73.74%\n",
      "  Current learning rate: 0.000001\n",
      "------------------------------\n",
      "--- Epoch 271/500 ---\n"
     ]
    },
    {
     "name": "stderr",
     "output_type": "stream",
     "text": [
      "Training: 100%|\u001b[32m██████████\u001b[0m| 23/23 [00:22<00:00,  1.02it/s, loss=0.3258]\n",
      "Validation: 100%|\u001b[31m██████████\u001b[0m| 23/23 [00:15<00:00,  1.52it/s, loss=1.2394]\n"
     ]
    },
    {
     "name": "stdout",
     "output_type": "stream",
     "text": [
      "\n",
      "Epoch 271 Summary:\n",
      "  Train Loss: 0.3887, Train Pixel Accuracy: 87.95%\n",
      "  Validation Loss: 1.3020, Validation Pixel Accuracy: 73.75%\n",
      "  Current learning rate: 0.000001\n",
      "------------------------------\n",
      "--- Epoch 272/500 ---\n"
     ]
    },
    {
     "name": "stderr",
     "output_type": "stream",
     "text": [
      "Training: 100%|\u001b[32m██████████\u001b[0m| 23/23 [00:22<00:00,  1.00it/s, loss=0.3812]\n",
      "Validation: 100%|\u001b[31m██████████\u001b[0m| 23/23 [00:14<00:00,  1.59it/s, loss=1.2394]\n"
     ]
    },
    {
     "name": "stdout",
     "output_type": "stream",
     "text": [
      "\n",
      "Epoch 272 Summary:\n",
      "  Train Loss: 0.3889, Train Pixel Accuracy: 87.95%\n",
      "  Validation Loss: 1.3022, Validation Pixel Accuracy: 73.74%\n",
      "  Current learning rate: 0.000001\n",
      "------------------------------\n",
      "--- Epoch 273/500 ---\n"
     ]
    },
    {
     "name": "stderr",
     "output_type": "stream",
     "text": [
      "Training: 100%|\u001b[32m██████████\u001b[0m| 23/23 [00:22<00:00,  1.01it/s, loss=0.4302]\n",
      "Validation: 100%|\u001b[31m██████████\u001b[0m| 23/23 [00:14<00:00,  1.58it/s, loss=1.2396]\n"
     ]
    },
    {
     "name": "stdout",
     "output_type": "stream",
     "text": [
      "\n",
      "Epoch 273 Summary:\n",
      "  Train Loss: 0.3892, Train Pixel Accuracy: 87.95%\n",
      "  Validation Loss: 1.3020, Validation Pixel Accuracy: 73.75%\n",
      "  Current learning rate: 0.000001\n",
      "------------------------------\n",
      "--- Epoch 274/500 ---\n"
     ]
    },
    {
     "name": "stderr",
     "output_type": "stream",
     "text": [
      "Training: 100%|\u001b[32m██████████\u001b[0m| 23/23 [00:22<00:00,  1.01it/s, loss=0.3788]\n",
      "Validation: 100%|\u001b[31m██████████\u001b[0m| 23/23 [00:14<00:00,  1.59it/s, loss=1.2400]\n"
     ]
    },
    {
     "name": "stdout",
     "output_type": "stream",
     "text": [
      "\n",
      "Epoch 274 Summary:\n",
      "  Train Loss: 0.3887, Train Pixel Accuracy: 87.96%\n",
      "  Validation Loss: 1.3027, Validation Pixel Accuracy: 73.74%\n",
      "  Current learning rate: 0.000001\n",
      "------------------------------\n",
      "--- Epoch 275/500 ---\n"
     ]
    },
    {
     "name": "stderr",
     "output_type": "stream",
     "text": [
      "Training: 100%|\u001b[32m██████████\u001b[0m| 23/23 [00:22<00:00,  1.01it/s, loss=0.3412]\n",
      "Validation: 100%|\u001b[31m██████████\u001b[0m| 23/23 [00:15<00:00,  1.51it/s, loss=1.2402]\n"
     ]
    },
    {
     "name": "stdout",
     "output_type": "stream",
     "text": [
      "\n",
      "Epoch 275 Summary:\n",
      "  Train Loss: 0.3884, Train Pixel Accuracy: 87.96%\n",
      "  Validation Loss: 1.3033, Validation Pixel Accuracy: 73.74%\n",
      "  Current learning rate: 0.000001\n",
      "------------------------------\n",
      "--- Epoch 276/500 ---\n"
     ]
    },
    {
     "name": "stderr",
     "output_type": "stream",
     "text": [
      "Training: 100%|\u001b[32m██████████\u001b[0m| 23/23 [00:22<00:00,  1.03it/s, loss=0.3470]\n",
      "Validation: 100%|\u001b[31m██████████\u001b[0m| 23/23 [00:14<00:00,  1.55it/s, loss=1.2402]\n"
     ]
    },
    {
     "name": "stdout",
     "output_type": "stream",
     "text": [
      "\n",
      "Epoch 276 Summary:\n",
      "  Train Loss: 0.3884, Train Pixel Accuracy: 87.96%\n",
      "  Validation Loss: 1.3030, Validation Pixel Accuracy: 73.74%\n",
      "  Current learning rate: 0.000001\n",
      "------------------------------\n",
      "--- Epoch 277/500 ---\n"
     ]
    },
    {
     "name": "stderr",
     "output_type": "stream",
     "text": [
      "Training: 100%|\u001b[32m██████████\u001b[0m| 23/23 [00:22<00:00,  1.03it/s, loss=0.3955]\n",
      "Validation: 100%|\u001b[31m██████████\u001b[0m| 23/23 [00:14<00:00,  1.59it/s, loss=1.2407]\n"
     ]
    },
    {
     "name": "stdout",
     "output_type": "stream",
     "text": [
      "\n",
      "Epoch 277 Summary:\n",
      "  Train Loss: 0.3885, Train Pixel Accuracy: 87.97%\n",
      "  Validation Loss: 1.3035, Validation Pixel Accuracy: 73.75%\n",
      "  Current learning rate: 0.000001\n",
      "------------------------------\n",
      "--- Epoch 278/500 ---\n"
     ]
    },
    {
     "name": "stderr",
     "output_type": "stream",
     "text": [
      "Training: 100%|\u001b[32m██████████\u001b[0m| 23/23 [00:22<00:00,  1.02it/s, loss=0.3149]\n",
      "Validation: 100%|\u001b[31m██████████\u001b[0m| 23/23 [00:14<00:00,  1.60it/s, loss=1.2409]\n"
     ]
    },
    {
     "name": "stdout",
     "output_type": "stream",
     "text": [
      "\n",
      "Epoch 278 Summary:\n",
      "  Train Loss: 0.3881, Train Pixel Accuracy: 87.97%\n",
      "  Validation Loss: 1.3037, Validation Pixel Accuracy: 73.74%\n",
      "  Current learning rate: 0.000001\n",
      "------------------------------\n",
      "--- Epoch 279/500 ---\n"
     ]
    },
    {
     "name": "stderr",
     "output_type": "stream",
     "text": [
      "Training: 100%|\u001b[32m██████████\u001b[0m| 23/23 [00:22<00:00,  1.03it/s, loss=0.4137]\n",
      "Validation: 100%|\u001b[31m██████████\u001b[0m| 23/23 [00:14<00:00,  1.53it/s, loss=1.2403]\n"
     ]
    },
    {
     "name": "stdout",
     "output_type": "stream",
     "text": [
      "\n",
      "Epoch 279 Summary:\n",
      "  Train Loss: 0.3885, Train Pixel Accuracy: 87.97%\n",
      "  Validation Loss: 1.3036, Validation Pixel Accuracy: 73.73%\n",
      "  Current learning rate: 0.000001\n",
      "------------------------------\n",
      "--- Epoch 280/500 ---\n"
     ]
    },
    {
     "name": "stderr",
     "output_type": "stream",
     "text": [
      "Training: 100%|\u001b[32m██████████\u001b[0m| 23/23 [00:23<00:00,  1.01s/it, loss=0.3410]\n",
      "Validation: 100%|\u001b[31m██████████\u001b[0m| 23/23 [00:14<00:00,  1.59it/s, loss=1.2413]\n"
     ]
    },
    {
     "name": "stdout",
     "output_type": "stream",
     "text": [
      "\n",
      "Epoch 280 Summary:\n",
      "  Train Loss: 0.3879, Train Pixel Accuracy: 87.98%\n",
      "  Validation Loss: 1.3043, Validation Pixel Accuracy: 73.74%\n",
      "  Current learning rate: 0.000001\n",
      "------------------------------\n",
      "--- Epoch 281/500 ---\n"
     ]
    },
    {
     "name": "stderr",
     "output_type": "stream",
     "text": [
      "Training: 100%|\u001b[32m██████████\u001b[0m| 23/23 [00:22<00:00,  1.01it/s, loss=0.4476]\n",
      "Validation: 100%|\u001b[31m██████████\u001b[0m| 23/23 [00:15<00:00,  1.53it/s, loss=1.2417]\n"
     ]
    },
    {
     "name": "stdout",
     "output_type": "stream",
     "text": [
      "\n",
      "Epoch 281 Summary:\n",
      "  Train Loss: 0.3884, Train Pixel Accuracy: 87.98%\n",
      "  Validation Loss: 1.3050, Validation Pixel Accuracy: 73.75%\n",
      "  Current learning rate: 0.000001\n",
      "------------------------------\n",
      "--- Epoch 282/500 ---\n"
     ]
    },
    {
     "name": "stderr",
     "output_type": "stream",
     "text": [
      "Training: 100%|\u001b[32m██████████\u001b[0m| 23/23 [00:22<00:00,  1.02it/s, loss=0.3538]\n",
      "Validation: 100%|\u001b[31m██████████\u001b[0m| 23/23 [00:15<00:00,  1.51it/s, loss=1.2414]\n"
     ]
    },
    {
     "name": "stdout",
     "output_type": "stream",
     "text": [
      "\n",
      "Epoch 282 Summary:\n",
      "  Train Loss: 0.3878, Train Pixel Accuracy: 87.98%\n",
      "  Validation Loss: 1.3048, Validation Pixel Accuracy: 73.74%\n",
      "  Current learning rate: 0.000001\n",
      "------------------------------\n",
      "--- Epoch 283/500 ---\n"
     ]
    },
    {
     "name": "stderr",
     "output_type": "stream",
     "text": [
      "Training: 100%|\u001b[32m██████████\u001b[0m| 23/23 [00:23<00:00,  1.00s/it, loss=0.3197]\n",
      "Validation: 100%|\u001b[31m██████████\u001b[0m| 23/23 [00:14<00:00,  1.58it/s, loss=1.2419]\n"
     ]
    },
    {
     "name": "stdout",
     "output_type": "stream",
     "text": [
      "\n",
      "Epoch 283 Summary:\n",
      "  Train Loss: 0.3875, Train Pixel Accuracy: 87.98%\n",
      "  Validation Loss: 1.3047, Validation Pixel Accuracy: 73.74%\n",
      "  Current learning rate: 0.000001\n",
      "------------------------------\n",
      "--- Epoch 284/500 ---\n"
     ]
    },
    {
     "name": "stderr",
     "output_type": "stream",
     "text": [
      "Training: 100%|\u001b[32m██████████\u001b[0m| 23/23 [00:23<00:00,  1.01s/it, loss=0.4454]\n",
      "Validation: 100%|\u001b[31m██████████\u001b[0m| 23/23 [00:15<00:00,  1.50it/s, loss=1.2424]\n"
     ]
    },
    {
     "name": "stdout",
     "output_type": "stream",
     "text": [
      "\n",
      "Epoch 284 Summary:\n",
      "  Train Loss: 0.3881, Train Pixel Accuracy: 87.99%\n",
      "  Validation Loss: 1.3056, Validation Pixel Accuracy: 73.74%\n",
      "  Current learning rate: 0.000001\n",
      "------------------------------\n",
      "--- Epoch 285/500 ---\n"
     ]
    },
    {
     "name": "stderr",
     "output_type": "stream",
     "text": [
      "Training: 100%|\u001b[32m██████████\u001b[0m| 23/23 [00:22<00:00,  1.00it/s, loss=0.3600]\n",
      "Validation: 100%|\u001b[31m██████████\u001b[0m| 23/23 [00:14<00:00,  1.60it/s, loss=1.2423]\n"
     ]
    },
    {
     "name": "stdout",
     "output_type": "stream",
     "text": [
      "\n",
      "Epoch 285 Summary:\n",
      "  Train Loss: 0.3876, Train Pixel Accuracy: 87.99%\n",
      "  Validation Loss: 1.3056, Validation Pixel Accuracy: 73.74%\n",
      "  Current learning rate: 0.000001\n",
      "------------------------------\n",
      "--- Epoch 286/500 ---\n"
     ]
    },
    {
     "name": "stderr",
     "output_type": "stream",
     "text": [
      "Training: 100%|\u001b[32m██████████\u001b[0m| 23/23 [00:22<00:00,  1.01it/s, loss=0.4084]\n",
      "Validation: 100%|\u001b[31m██████████\u001b[0m| 23/23 [00:14<00:00,  1.55it/s, loss=1.2428]\n"
     ]
    },
    {
     "name": "stdout",
     "output_type": "stream",
     "text": [
      "\n",
      "Epoch 286 Summary:\n",
      "  Train Loss: 0.3877, Train Pixel Accuracy: 87.99%\n",
      "  Validation Loss: 1.3060, Validation Pixel Accuracy: 73.74%\n",
      "  Current learning rate: 0.000001\n",
      "------------------------------\n",
      "--- Epoch 287/500 ---\n"
     ]
    },
    {
     "name": "stderr",
     "output_type": "stream",
     "text": [
      "Training: 100%|\u001b[32m██████████\u001b[0m| 23/23 [00:22<00:00,  1.03it/s, loss=0.3840]\n",
      "Validation: 100%|\u001b[31m██████████\u001b[0m| 23/23 [00:14<00:00,  1.54it/s, loss=1.2426]\n"
     ]
    },
    {
     "name": "stdout",
     "output_type": "stream",
     "text": [
      "\n",
      "Epoch 287 Summary:\n",
      "  Train Loss: 0.3875, Train Pixel Accuracy: 88.00%\n",
      "  Validation Loss: 1.3058, Validation Pixel Accuracy: 73.73%\n",
      "  Current learning rate: 0.000001\n",
      "------------------------------\n",
      "--- Epoch 288/500 ---\n"
     ]
    },
    {
     "name": "stderr",
     "output_type": "stream",
     "text": [
      "Training: 100%|\u001b[32m██████████\u001b[0m| 23/23 [00:22<00:00,  1.00it/s, loss=0.4067]\n",
      "Validation: 100%|\u001b[31m██████████\u001b[0m| 23/23 [00:14<00:00,  1.58it/s, loss=1.2428]\n"
     ]
    },
    {
     "name": "stdout",
     "output_type": "stream",
     "text": [
      "\n",
      "Epoch 288 Summary:\n",
      "  Train Loss: 0.3875, Train Pixel Accuracy: 88.00%\n",
      "  Validation Loss: 1.3061, Validation Pixel Accuracy: 73.73%\n",
      "  Current learning rate: 0.000001\n",
      "------------------------------\n",
      "--- Epoch 289/500 ---\n"
     ]
    },
    {
     "name": "stderr",
     "output_type": "stream",
     "text": [
      "Training: 100%|\u001b[32m██████████\u001b[0m| 23/23 [00:22<00:00,  1.02it/s, loss=0.4575]\n",
      "Validation: 100%|\u001b[31m██████████\u001b[0m| 23/23 [00:14<00:00,  1.56it/s, loss=1.2431]\n"
     ]
    },
    {
     "name": "stdout",
     "output_type": "stream",
     "text": [
      "\n",
      "Epoch 289 Summary:\n",
      "  Train Loss: 0.3878, Train Pixel Accuracy: 88.00%\n",
      "  Validation Loss: 1.3068, Validation Pixel Accuracy: 73.74%\n",
      "  Current learning rate: 0.000001\n",
      "------------------------------\n",
      "--- Epoch 290/500 ---\n"
     ]
    },
    {
     "name": "stderr",
     "output_type": "stream",
     "text": [
      "Training: 100%|\u001b[32m██████████\u001b[0m| 23/23 [00:22<00:00,  1.01it/s, loss=0.3927]\n",
      "Validation: 100%|\u001b[31m██████████\u001b[0m| 23/23 [00:14<00:00,  1.55it/s, loss=1.2432]\n"
     ]
    },
    {
     "name": "stdout",
     "output_type": "stream",
     "text": [
      "\n",
      "Epoch 290 Summary:\n",
      "  Train Loss: 0.3871, Train Pixel Accuracy: 88.01%\n",
      "  Validation Loss: 1.3069, Validation Pixel Accuracy: 73.73%\n",
      "  Current learning rate: 0.000001\n",
      "------------------------------\n",
      "--- Epoch 291/500 ---\n"
     ]
    },
    {
     "name": "stderr",
     "output_type": "stream",
     "text": [
      "Training: 100%|\u001b[32m██████████\u001b[0m| 23/23 [00:22<00:00,  1.00it/s, loss=0.4357]\n",
      "Validation: 100%|\u001b[31m██████████\u001b[0m| 23/23 [00:14<00:00,  1.57it/s, loss=1.2431]\n"
     ]
    },
    {
     "name": "stdout",
     "output_type": "stream",
     "text": [
      "\n",
      "Epoch 291 Summary:\n",
      "  Train Loss: 0.3875, Train Pixel Accuracy: 88.01%\n",
      "  Validation Loss: 1.3071, Validation Pixel Accuracy: 73.72%\n",
      "  Current learning rate: 0.000001\n",
      "------------------------------\n",
      "--- Epoch 292/500 ---\n"
     ]
    },
    {
     "name": "stderr",
     "output_type": "stream",
     "text": [
      "Training: 100%|\u001b[32m██████████\u001b[0m| 23/23 [00:22<00:00,  1.01it/s, loss=0.3917]\n",
      "Validation: 100%|\u001b[31m██████████\u001b[0m| 23/23 [00:14<00:00,  1.57it/s, loss=1.2437]\n"
     ]
    },
    {
     "name": "stdout",
     "output_type": "stream",
     "text": [
      "\n",
      "Epoch 292 Summary:\n",
      "  Train Loss: 0.3870, Train Pixel Accuracy: 88.01%\n",
      "  Validation Loss: 1.3079, Validation Pixel Accuracy: 73.73%\n",
      "  Current learning rate: 0.000001\n",
      "------------------------------\n",
      "--- Epoch 293/500 ---\n"
     ]
    },
    {
     "name": "stderr",
     "output_type": "stream",
     "text": [
      "Training: 100%|\u001b[32m██████████\u001b[0m| 23/23 [00:22<00:00,  1.00it/s, loss=0.3537]\n",
      "Validation: 100%|\u001b[31m██████████\u001b[0m| 23/23 [00:14<00:00,  1.58it/s, loss=1.2438]\n"
     ]
    },
    {
     "name": "stdout",
     "output_type": "stream",
     "text": [
      "\n",
      "Epoch 293 Summary:\n",
      "  Train Loss: 0.3866, Train Pixel Accuracy: 88.02%\n",
      "  Validation Loss: 1.3076, Validation Pixel Accuracy: 73.72%\n",
      "  Current learning rate: 0.000001\n",
      "------------------------------\n",
      "--- Epoch 294/500 ---\n"
     ]
    },
    {
     "name": "stderr",
     "output_type": "stream",
     "text": [
      "Training: 100%|\u001b[32m██████████\u001b[0m| 23/23 [00:22<00:00,  1.02it/s, loss=0.4340]\n",
      "Validation: 100%|\u001b[31m██████████\u001b[0m| 23/23 [00:14<00:00,  1.60it/s, loss=1.2442]\n"
     ]
    },
    {
     "name": "stdout",
     "output_type": "stream",
     "text": [
      "\n",
      "Epoch 294 Summary:\n",
      "  Train Loss: 0.3869, Train Pixel Accuracy: 88.02%\n",
      "  Validation Loss: 1.3082, Validation Pixel Accuracy: 73.73%\n",
      "  Current learning rate: 0.000001\n",
      "------------------------------\n",
      "--- Epoch 295/500 ---\n"
     ]
    },
    {
     "name": "stderr",
     "output_type": "stream",
     "text": [
      "Training: 100%|\u001b[32m██████████\u001b[0m| 23/23 [00:22<00:00,  1.01it/s, loss=0.3828]\n",
      "Validation: 100%|\u001b[31m██████████\u001b[0m| 23/23 [00:14<00:00,  1.60it/s, loss=1.2442]\n"
     ]
    },
    {
     "name": "stdout",
     "output_type": "stream",
     "text": [
      "\n",
      "Epoch 295 Summary:\n",
      "  Train Loss: 0.3867, Train Pixel Accuracy: 88.02%\n",
      "  Validation Loss: 1.3085, Validation Pixel Accuracy: 73.72%\n",
      "  Current learning rate: 0.000001\n",
      "------------------------------\n",
      "--- Epoch 296/500 ---\n"
     ]
    },
    {
     "name": "stderr",
     "output_type": "stream",
     "text": [
      "Training: 100%|\u001b[32m██████████\u001b[0m| 23/23 [00:22<00:00,  1.00it/s, loss=0.4154]\n",
      "Validation: 100%|\u001b[31m██████████\u001b[0m| 23/23 [00:14<00:00,  1.62it/s, loss=1.2444]\n"
     ]
    },
    {
     "name": "stdout",
     "output_type": "stream",
     "text": [
      "\n",
      "Epoch 296 Summary:\n",
      "  Train Loss: 0.3869, Train Pixel Accuracy: 88.02%\n",
      "  Validation Loss: 1.3081, Validation Pixel Accuracy: 73.72%\n",
      "  Current learning rate: 0.000001\n",
      "------------------------------\n",
      "--- Epoch 297/500 ---\n"
     ]
    },
    {
     "name": "stderr",
     "output_type": "stream",
     "text": [
      "Training: 100%|\u001b[32m██████████\u001b[0m| 23/23 [00:22<00:00,  1.02it/s, loss=0.3644]\n",
      "Validation: 100%|\u001b[31m██████████\u001b[0m| 23/23 [00:14<00:00,  1.59it/s, loss=1.2447]\n"
     ]
    },
    {
     "name": "stdout",
     "output_type": "stream",
     "text": [
      "\n",
      "Epoch 297 Summary:\n",
      "  Train Loss: 0.3864, Train Pixel Accuracy: 88.03%\n",
      "  Validation Loss: 1.3088, Validation Pixel Accuracy: 73.73%\n",
      "  Current learning rate: 0.000001\n",
      "------------------------------\n",
      "--- Epoch 298/500 ---\n"
     ]
    },
    {
     "name": "stderr",
     "output_type": "stream",
     "text": [
      "Training: 100%|\u001b[32m██████████\u001b[0m| 23/23 [00:22<00:00,  1.02it/s, loss=0.3419]\n",
      "Validation: 100%|\u001b[31m██████████\u001b[0m| 23/23 [00:14<00:00,  1.59it/s, loss=1.2446]\n"
     ]
    },
    {
     "name": "stdout",
     "output_type": "stream",
     "text": [
      "\n",
      "Epoch 298 Summary:\n",
      "  Train Loss: 0.3862, Train Pixel Accuracy: 88.03%\n",
      "  Validation Loss: 1.3089, Validation Pixel Accuracy: 73.71%\n",
      "  Current learning rate: 0.000001\n",
      "------------------------------\n",
      "--- Epoch 299/500 ---\n"
     ]
    },
    {
     "name": "stderr",
     "output_type": "stream",
     "text": [
      "Training: 100%|\u001b[32m██████████\u001b[0m| 23/23 [00:22<00:00,  1.04it/s, loss=0.3765]\n",
      "Validation: 100%|\u001b[31m██████████\u001b[0m| 23/23 [00:14<00:00,  1.57it/s, loss=1.2450]\n"
     ]
    },
    {
     "name": "stdout",
     "output_type": "stream",
     "text": [
      "\n",
      "Epoch 299 Summary:\n",
      "  Train Loss: 0.3863, Train Pixel Accuracy: 88.03%\n",
      "  Validation Loss: 1.3094, Validation Pixel Accuracy: 73.72%\n",
      "  Current learning rate: 0.000001\n",
      "------------------------------\n",
      "--- Epoch 300/500 ---\n"
     ]
    },
    {
     "name": "stderr",
     "output_type": "stream",
     "text": [
      "Training: 100%|\u001b[32m██████████\u001b[0m| 23/23 [00:22<00:00,  1.04it/s, loss=0.3730]\n",
      "Validation: 100%|\u001b[31m██████████\u001b[0m| 23/23 [00:14<00:00,  1.60it/s, loss=1.2453]\n"
     ]
    },
    {
     "name": "stdout",
     "output_type": "stream",
     "text": [
      "\n",
      "Epoch 300 Summary:\n",
      "  Train Loss: 0.3861, Train Pixel Accuracy: 88.04%\n",
      "  Validation Loss: 1.3093, Validation Pixel Accuracy: 73.72%\n",
      "  Current learning rate: 0.000001\n",
      "------------------------------\n",
      "--- Epoch 301/500 ---\n"
     ]
    },
    {
     "name": "stderr",
     "output_type": "stream",
     "text": [
      "Training: 100%|\u001b[32m██████████\u001b[0m| 23/23 [00:22<00:00,  1.03it/s, loss=0.3656]\n",
      "Validation: 100%|\u001b[31m██████████\u001b[0m| 23/23 [00:13<00:00,  1.65it/s, loss=1.2456]\n"
     ]
    },
    {
     "name": "stdout",
     "output_type": "stream",
     "text": [
      "\n",
      "Epoch 301 Summary:\n",
      "  Train Loss: 0.3860, Train Pixel Accuracy: 88.04%\n",
      "  Validation Loss: 1.3097, Validation Pixel Accuracy: 73.72%\n",
      "  Current learning rate: 0.000001\n",
      "------------------------------\n",
      "--- Epoch 302/500 ---\n"
     ]
    },
    {
     "name": "stderr",
     "output_type": "stream",
     "text": [
      "Training: 100%|\u001b[32m██████████\u001b[0m| 23/23 [00:22<00:00,  1.01it/s, loss=0.4082]\n",
      "Validation: 100%|\u001b[31m██████████\u001b[0m| 23/23 [00:14<00:00,  1.60it/s, loss=1.2460]\n"
     ]
    },
    {
     "name": "stdout",
     "output_type": "stream",
     "text": [
      "\n",
      "Epoch 302 Summary:\n",
      "  Train Loss: 0.3859, Train Pixel Accuracy: 88.04%\n",
      "  Validation Loss: 1.3104, Validation Pixel Accuracy: 73.73%\n",
      "  Current learning rate: 0.000001\n",
      "------------------------------\n",
      "--- Epoch 303/500 ---\n"
     ]
    },
    {
     "name": "stderr",
     "output_type": "stream",
     "text": [
      "Training: 100%|\u001b[32m██████████\u001b[0m| 23/23 [00:22<00:00,  1.02it/s, loss=0.4335]\n",
      "Validation: 100%|\u001b[31m██████████\u001b[0m| 23/23 [00:14<00:00,  1.61it/s, loss=1.2461]\n"
     ]
    },
    {
     "name": "stdout",
     "output_type": "stream",
     "text": [
      "\n",
      "Epoch 303 Summary:\n",
      "  Train Loss: 0.3862, Train Pixel Accuracy: 88.04%\n",
      "  Validation Loss: 1.3103, Validation Pixel Accuracy: 73.72%\n",
      "  Current learning rate: 0.000001\n",
      "------------------------------\n",
      "--- Epoch 304/500 ---\n"
     ]
    },
    {
     "name": "stderr",
     "output_type": "stream",
     "text": [
      "Training: 100%|\u001b[32m██████████\u001b[0m| 23/23 [00:22<00:00,  1.03it/s, loss=0.4068]\n",
      "Validation: 100%|\u001b[31m██████████\u001b[0m| 23/23 [00:14<00:00,  1.58it/s, loss=1.2460]\n"
     ]
    },
    {
     "name": "stdout",
     "output_type": "stream",
     "text": [
      "\n",
      "Epoch 304 Summary:\n",
      "  Train Loss: 0.3859, Train Pixel Accuracy: 88.05%\n",
      "  Validation Loss: 1.3106, Validation Pixel Accuracy: 73.71%\n",
      "  Current learning rate: 0.000001\n",
      "------------------------------\n",
      "--- Epoch 305/500 ---\n"
     ]
    },
    {
     "name": "stderr",
     "output_type": "stream",
     "text": [
      "Training: 100%|\u001b[32m██████████\u001b[0m| 23/23 [00:22<00:00,  1.02it/s, loss=0.4113]\n",
      "Validation: 100%|\u001b[31m██████████\u001b[0m| 23/23 [00:14<00:00,  1.55it/s, loss=1.2466]\n"
     ]
    },
    {
     "name": "stdout",
     "output_type": "stream",
     "text": [
      "\n",
      "Epoch 305 Summary:\n",
      "  Train Loss: 0.3859, Train Pixel Accuracy: 88.06%\n",
      "  Validation Loss: 1.3113, Validation Pixel Accuracy: 73.72%\n",
      "  Current learning rate: 0.000001\n",
      "------------------------------\n",
      "--- Epoch 306/500 ---\n"
     ]
    },
    {
     "name": "stderr",
     "output_type": "stream",
     "text": [
      "Training: 100%|\u001b[32m██████████\u001b[0m| 23/23 [00:22<00:00,  1.03it/s, loss=0.4039]\n",
      "Validation: 100%|\u001b[31m██████████\u001b[0m| 23/23 [00:14<00:00,  1.63it/s, loss=1.2462]\n"
     ]
    },
    {
     "name": "stdout",
     "output_type": "stream",
     "text": [
      "\n",
      "Epoch 306 Summary:\n",
      "  Train Loss: 0.3857, Train Pixel Accuracy: 88.06%\n",
      "  Validation Loss: 1.3105, Validation Pixel Accuracy: 73.71%\n",
      "  Current learning rate: 0.000001\n",
      "------------------------------\n",
      "--- Epoch 307/500 ---\n"
     ]
    },
    {
     "name": "stderr",
     "output_type": "stream",
     "text": [
      "Training: 100%|\u001b[32m██████████\u001b[0m| 23/23 [00:22<00:00,  1.02it/s, loss=0.3684]\n",
      "Validation: 100%|\u001b[31m██████████\u001b[0m| 23/23 [00:14<00:00,  1.60it/s, loss=1.2465]\n"
     ]
    },
    {
     "name": "stdout",
     "output_type": "stream",
     "text": [
      "\n",
      "Epoch 307 Summary:\n",
      "  Train Loss: 0.3854, Train Pixel Accuracy: 88.06%\n",
      "  Validation Loss: 1.3114, Validation Pixel Accuracy: 73.72%\n",
      "  Current learning rate: 0.000001\n",
      "------------------------------\n",
      "--- Epoch 308/500 ---\n"
     ]
    },
    {
     "name": "stderr",
     "output_type": "stream",
     "text": [
      "Training: 100%|\u001b[32m██████████\u001b[0m| 23/23 [00:22<00:00,  1.04it/s, loss=0.4019]\n",
      "Validation: 100%|\u001b[31m██████████\u001b[0m| 23/23 [00:14<00:00,  1.63it/s, loss=1.2472]\n"
     ]
    },
    {
     "name": "stdout",
     "output_type": "stream",
     "text": [
      "\n",
      "Epoch 308 Summary:\n",
      "  Train Loss: 0.3854, Train Pixel Accuracy: 88.06%\n",
      "  Validation Loss: 1.3117, Validation Pixel Accuracy: 73.72%\n",
      "  Current learning rate: 0.000001\n",
      "------------------------------\n",
      "--- Epoch 309/500 ---\n"
     ]
    },
    {
     "name": "stderr",
     "output_type": "stream",
     "text": [
      "Training: 100%|\u001b[32m██████████\u001b[0m| 23/23 [00:22<00:00,  1.02it/s, loss=0.3764]\n",
      "Validation: 100%|\u001b[31m██████████\u001b[0m| 23/23 [00:13<00:00,  1.64it/s, loss=1.2472]\n"
     ]
    },
    {
     "name": "stdout",
     "output_type": "stream",
     "text": [
      "\n",
      "Epoch 309 Summary:\n",
      "  Train Loss: 0.3853, Train Pixel Accuracy: 88.06%\n",
      "  Validation Loss: 1.3119, Validation Pixel Accuracy: 73.71%\n",
      "  Current learning rate: 0.000001\n",
      "------------------------------\n",
      "--- Epoch 310/500 ---\n"
     ]
    },
    {
     "name": "stderr",
     "output_type": "stream",
     "text": [
      "Training: 100%|\u001b[32m██████████\u001b[0m| 23/23 [00:22<00:00,  1.02it/s, loss=0.3997]\n",
      "Validation: 100%|\u001b[31m██████████\u001b[0m| 23/23 [00:14<00:00,  1.59it/s, loss=1.2477]\n"
     ]
    },
    {
     "name": "stdout",
     "output_type": "stream",
     "text": [
      "\n",
      "Epoch 310 Summary:\n",
      "  Train Loss: 0.3853, Train Pixel Accuracy: 88.07%\n",
      "  Validation Loss: 1.3123, Validation Pixel Accuracy: 73.72%\n",
      "  Current learning rate: 0.000001\n",
      "------------------------------\n",
      "--- Epoch 311/500 ---\n"
     ]
    },
    {
     "name": "stderr",
     "output_type": "stream",
     "text": [
      "Training: 100%|\u001b[32m██████████\u001b[0m| 23/23 [00:22<00:00,  1.00it/s, loss=0.3207]\n",
      "Validation: 100%|\u001b[31m██████████\u001b[0m| 23/23 [00:15<00:00,  1.52it/s, loss=1.2477]\n"
     ]
    },
    {
     "name": "stdout",
     "output_type": "stream",
     "text": [
      "\n",
      "Epoch 311 Summary:\n",
      "  Train Loss: 0.3847, Train Pixel Accuracy: 88.07%\n",
      "  Validation Loss: 1.3126, Validation Pixel Accuracy: 73.71%\n",
      "  Current learning rate: 0.000001\n",
      "------------------------------\n",
      "--- Epoch 312/500 ---\n"
     ]
    },
    {
     "name": "stderr",
     "output_type": "stream",
     "text": [
      "Training: 100%|\u001b[32m██████████\u001b[0m| 23/23 [00:22<00:00,  1.00it/s, loss=0.3766]\n",
      "Validation: 100%|\u001b[31m██████████\u001b[0m| 23/23 [00:15<00:00,  1.52it/s, loss=1.2479]\n"
     ]
    },
    {
     "name": "stdout",
     "output_type": "stream",
     "text": [
      "\n",
      "Epoch 312 Summary:\n",
      "  Train Loss: 0.3851, Train Pixel Accuracy: 88.07%\n",
      "  Validation Loss: 1.3127, Validation Pixel Accuracy: 73.71%\n",
      "  Current learning rate: 0.000001\n",
      "------------------------------\n",
      "--- Epoch 313/500 ---\n"
     ]
    },
    {
     "name": "stderr",
     "output_type": "stream",
     "text": [
      "Training: 100%|\u001b[32m██████████\u001b[0m| 23/23 [00:22<00:00,  1.01it/s, loss=0.3977]\n",
      "Validation: 100%|\u001b[31m██████████\u001b[0m| 23/23 [00:14<00:00,  1.54it/s, loss=1.2481]\n"
     ]
    },
    {
     "name": "stdout",
     "output_type": "stream",
     "text": [
      "\n",
      "Epoch 313 Summary:\n",
      "  Train Loss: 0.3852, Train Pixel Accuracy: 88.08%\n",
      "  Validation Loss: 1.3128, Validation Pixel Accuracy: 73.71%\n",
      "  Current learning rate: 0.000001\n",
      "------------------------------\n",
      "--- Epoch 314/500 ---\n"
     ]
    },
    {
     "name": "stderr",
     "output_type": "stream",
     "text": [
      "Training: 100%|\u001b[32m██████████\u001b[0m| 23/23 [00:23<00:00,  1.00s/it, loss=0.4265]\n",
      "Validation: 100%|\u001b[31m██████████\u001b[0m| 23/23 [00:14<00:00,  1.62it/s, loss=1.2481]\n"
     ]
    },
    {
     "name": "stdout",
     "output_type": "stream",
     "text": [
      "\n",
      "Epoch 314 Summary:\n",
      "  Train Loss: 0.3849, Train Pixel Accuracy: 88.08%\n",
      "  Validation Loss: 1.3128, Validation Pixel Accuracy: 73.72%\n",
      "  Current learning rate: 0.000001\n",
      "------------------------------\n",
      "--- Epoch 315/500 ---\n"
     ]
    },
    {
     "name": "stderr",
     "output_type": "stream",
     "text": [
      "Training: 100%|\u001b[32m██████████\u001b[0m| 23/23 [00:23<00:00,  1.00s/it, loss=0.3501]\n",
      "Validation: 100%|\u001b[31m██████████\u001b[0m| 23/23 [00:14<00:00,  1.56it/s, loss=1.2483]\n"
     ]
    },
    {
     "name": "stdout",
     "output_type": "stream",
     "text": [
      "\n",
      "Epoch 315 Summary:\n",
      "  Train Loss: 0.3844, Train Pixel Accuracy: 88.08%\n",
      "  Validation Loss: 1.3137, Validation Pixel Accuracy: 73.71%\n",
      "  Current learning rate: 0.000001\n",
      "------------------------------\n",
      "--- Epoch 316/500 ---\n"
     ]
    },
    {
     "name": "stderr",
     "output_type": "stream",
     "text": [
      "Training: 100%|\u001b[32m██████████\u001b[0m| 23/23 [00:22<00:00,  1.02it/s, loss=0.4587]\n",
      "Validation: 100%|\u001b[31m██████████\u001b[0m| 23/23 [00:14<00:00,  1.57it/s, loss=1.2493]\n"
     ]
    },
    {
     "name": "stdout",
     "output_type": "stream",
     "text": [
      "\n",
      "Epoch 316 Summary:\n",
      "  Train Loss: 0.3852, Train Pixel Accuracy: 88.08%\n",
      "  Validation Loss: 1.3143, Validation Pixel Accuracy: 73.71%\n",
      "  Current learning rate: 0.000001\n",
      "------------------------------\n",
      "--- Epoch 317/500 ---\n"
     ]
    },
    {
     "name": "stderr",
     "output_type": "stream",
     "text": [
      "Training: 100%|\u001b[32m██████████\u001b[0m| 23/23 [00:22<00:00,  1.02it/s, loss=0.3770]\n",
      "Validation: 100%|\u001b[31m██████████\u001b[0m| 23/23 [00:15<00:00,  1.52it/s, loss=1.2487]\n"
     ]
    },
    {
     "name": "stdout",
     "output_type": "stream",
     "text": [
      "\n",
      "Epoch 317 Summary:\n",
      "  Train Loss: 0.3846, Train Pixel Accuracy: 88.09%\n",
      "  Validation Loss: 1.3136, Validation Pixel Accuracy: 73.70%\n",
      "  Current learning rate: 0.000001\n",
      "------------------------------\n",
      "--- Epoch 318/500 ---\n"
     ]
    },
    {
     "name": "stderr",
     "output_type": "stream",
     "text": [
      "Training: 100%|\u001b[32m██████████\u001b[0m| 23/23 [00:22<00:00,  1.01it/s, loss=0.3435]\n",
      "Validation: 100%|\u001b[31m██████████\u001b[0m| 23/23 [00:14<00:00,  1.59it/s, loss=1.2485]\n"
     ]
    },
    {
     "name": "stdout",
     "output_type": "stream",
     "text": [
      "\n",
      "Epoch 318 Summary:\n",
      "  Train Loss: 0.3842, Train Pixel Accuracy: 88.10%\n",
      "  Validation Loss: 1.3138, Validation Pixel Accuracy: 73.70%\n",
      "  Current learning rate: 0.000001\n",
      "------------------------------\n",
      "--- Epoch 319/500 ---\n"
     ]
    },
    {
     "name": "stderr",
     "output_type": "stream",
     "text": [
      "Training: 100%|\u001b[32m██████████\u001b[0m| 23/23 [00:22<00:00,  1.02it/s, loss=0.3324]\n",
      "Validation: 100%|\u001b[31m██████████\u001b[0m| 23/23 [00:14<00:00,  1.57it/s, loss=1.2489]\n"
     ]
    },
    {
     "name": "stdout",
     "output_type": "stream",
     "text": [
      "\n",
      "Epoch 319 Summary:\n",
      "  Train Loss: 0.3839, Train Pixel Accuracy: 88.10%\n",
      "  Validation Loss: 1.3145, Validation Pixel Accuracy: 73.70%\n",
      "  Current learning rate: 0.000001\n",
      "------------------------------\n",
      "--- Epoch 320/500 ---\n"
     ]
    },
    {
     "name": "stderr",
     "output_type": "stream",
     "text": [
      "Training: 100%|\u001b[32m██████████\u001b[0m| 23/23 [00:22<00:00,  1.01it/s, loss=0.4082]\n",
      "Validation: 100%|\u001b[31m██████████\u001b[0m| 23/23 [00:14<00:00,  1.60it/s, loss=1.2498]\n"
     ]
    },
    {
     "name": "stdout",
     "output_type": "stream",
     "text": [
      "\n",
      "Epoch 320 Summary:\n",
      "  Train Loss: 0.3843, Train Pixel Accuracy: 88.10%\n",
      "  Validation Loss: 1.3149, Validation Pixel Accuracy: 73.71%\n",
      "  Current learning rate: 0.000001\n",
      "------------------------------\n",
      "--- Epoch 321/500 ---\n"
     ]
    },
    {
     "name": "stderr",
     "output_type": "stream",
     "text": [
      "Training: 100%|\u001b[32m██████████\u001b[0m| 23/23 [00:22<00:00,  1.01it/s, loss=0.3682]\n",
      "Validation: 100%|\u001b[31m██████████\u001b[0m| 23/23 [00:14<00:00,  1.59it/s, loss=1.2495]\n"
     ]
    },
    {
     "name": "stdout",
     "output_type": "stream",
     "text": [
      "\n",
      "Epoch 321 Summary:\n",
      "  Train Loss: 0.3840, Train Pixel Accuracy: 88.10%\n",
      "  Validation Loss: 1.3151, Validation Pixel Accuracy: 73.70%\n",
      "  Current learning rate: 0.000001\n",
      "------------------------------\n",
      "--- Epoch 322/500 ---\n"
     ]
    },
    {
     "name": "stderr",
     "output_type": "stream",
     "text": [
      "Training: 100%|\u001b[32m██████████\u001b[0m| 23/23 [00:22<00:00,  1.01it/s, loss=0.3970]\n",
      "Validation: 100%|\u001b[31m██████████\u001b[0m| 23/23 [00:14<00:00,  1.59it/s, loss=1.2508]\n"
     ]
    },
    {
     "name": "stdout",
     "output_type": "stream",
     "text": [
      "\n",
      "Epoch 322 Summary:\n",
      "  Train Loss: 0.3842, Train Pixel Accuracy: 88.10%\n",
      "  Validation Loss: 1.3162, Validation Pixel Accuracy: 73.71%\n",
      "  Current learning rate: 0.000001\n",
      "------------------------------\n",
      "--- Epoch 323/500 ---\n"
     ]
    },
    {
     "name": "stderr",
     "output_type": "stream",
     "text": [
      "Training: 100%|\u001b[32m██████████\u001b[0m| 23/23 [00:22<00:00,  1.01it/s, loss=0.3380]\n",
      "Validation: 100%|\u001b[31m██████████\u001b[0m| 23/23 [00:14<00:00,  1.56it/s, loss=1.2504]\n"
     ]
    },
    {
     "name": "stdout",
     "output_type": "stream",
     "text": [
      "\n",
      "Epoch 323 Summary:\n",
      "  Train Loss: 0.3836, Train Pixel Accuracy: 88.11%\n",
      "  Validation Loss: 1.3153, Validation Pixel Accuracy: 73.70%\n",
      "  Current learning rate: 0.000001\n",
      "------------------------------\n",
      "--- Epoch 324/500 ---\n"
     ]
    },
    {
     "name": "stderr",
     "output_type": "stream",
     "text": [
      "Training: 100%|\u001b[32m██████████\u001b[0m| 23/23 [00:22<00:00,  1.02it/s, loss=0.3155]\n",
      "Validation: 100%|\u001b[31m██████████\u001b[0m| 23/23 [00:15<00:00,  1.53it/s, loss=1.2500]\n"
     ]
    },
    {
     "name": "stdout",
     "output_type": "stream",
     "text": [
      "\n",
      "Epoch 324 Summary:\n",
      "  Train Loss: 0.3834, Train Pixel Accuracy: 88.11%\n",
      "  Validation Loss: 1.3157, Validation Pixel Accuracy: 73.70%\n",
      "  Current learning rate: 0.000001\n",
      "------------------------------\n",
      "--- Epoch 325/500 ---\n"
     ]
    },
    {
     "name": "stderr",
     "output_type": "stream",
     "text": [
      "Training: 100%|\u001b[32m██████████\u001b[0m| 23/23 [00:22<00:00,  1.02it/s, loss=0.4255]\n",
      "Validation: 100%|\u001b[31m██████████\u001b[0m| 23/23 [00:14<00:00,  1.58it/s, loss=1.2508]\n"
     ]
    },
    {
     "name": "stdout",
     "output_type": "stream",
     "text": [
      "\n",
      "Epoch 325 Summary:\n",
      "  Train Loss: 0.3839, Train Pixel Accuracy: 88.12%\n",
      "  Validation Loss: 1.3160, Validation Pixel Accuracy: 73.70%\n",
      "  Current learning rate: 0.000001\n",
      "------------------------------\n",
      "--- Epoch 326/500 ---\n"
     ]
    },
    {
     "name": "stderr",
     "output_type": "stream",
     "text": [
      "Training: 100%|\u001b[32m██████████\u001b[0m| 23/23 [00:22<00:00,  1.01it/s, loss=0.4291]\n",
      "Validation: 100%|\u001b[31m██████████\u001b[0m| 23/23 [00:14<00:00,  1.59it/s, loss=1.2507]\n"
     ]
    },
    {
     "name": "stdout",
     "output_type": "stream",
     "text": [
      "\n",
      "Epoch 326 Summary:\n",
      "  Train Loss: 0.3838, Train Pixel Accuracy: 88.12%\n",
      "  Validation Loss: 1.3163, Validation Pixel Accuracy: 73.70%\n",
      "  Current learning rate: 0.000001\n",
      "------------------------------\n",
      "--- Epoch 327/500 ---\n"
     ]
    },
    {
     "name": "stderr",
     "output_type": "stream",
     "text": [
      "Training: 100%|\u001b[32m██████████\u001b[0m| 23/23 [00:22<00:00,  1.02it/s, loss=0.3368]\n",
      "Validation: 100%|\u001b[31m██████████\u001b[0m| 23/23 [00:14<00:00,  1.54it/s, loss=1.2504]\n"
     ]
    },
    {
     "name": "stdout",
     "output_type": "stream",
     "text": [
      "\n",
      "Epoch 327 Summary:\n",
      "  Train Loss: 0.3833, Train Pixel Accuracy: 88.12%\n",
      "  Validation Loss: 1.3160, Validation Pixel Accuracy: 73.69%\n",
      "  Current learning rate: 0.000001\n",
      "------------------------------\n",
      "--- Epoch 328/500 ---\n"
     ]
    },
    {
     "name": "stderr",
     "output_type": "stream",
     "text": [
      "Training: 100%|\u001b[32m██████████\u001b[0m| 23/23 [00:22<00:00,  1.01it/s, loss=0.3899]\n",
      "Validation: 100%|\u001b[31m██████████\u001b[0m| 23/23 [00:14<00:00,  1.55it/s, loss=1.2512]\n"
     ]
    },
    {
     "name": "stdout",
     "output_type": "stream",
     "text": [
      "\n",
      "Epoch 328 Summary:\n",
      "  Train Loss: 0.3834, Train Pixel Accuracy: 88.12%\n",
      "  Validation Loss: 1.3170, Validation Pixel Accuracy: 73.70%\n",
      "  Current learning rate: 0.000001\n",
      "------------------------------\n",
      "--- Epoch 329/500 ---\n"
     ]
    },
    {
     "name": "stderr",
     "output_type": "stream",
     "text": [
      "Training: 100%|\u001b[32m██████████\u001b[0m| 23/23 [00:22<00:00,  1.02it/s, loss=0.3959]\n",
      "Validation: 100%|\u001b[31m██████████\u001b[0m| 23/23 [00:14<00:00,  1.58it/s, loss=1.2516]\n"
     ]
    },
    {
     "name": "stdout",
     "output_type": "stream",
     "text": [
      "\n",
      "Epoch 329 Summary:\n",
      "  Train Loss: 0.3833, Train Pixel Accuracy: 88.13%\n",
      "  Validation Loss: 1.3174, Validation Pixel Accuracy: 73.70%\n",
      "  Current learning rate: 0.000001\n",
      "------------------------------\n",
      "--- Epoch 330/500 ---\n"
     ]
    },
    {
     "name": "stderr",
     "output_type": "stream",
     "text": [
      "Training: 100%|\u001b[32m██████████\u001b[0m| 23/23 [00:22<00:00,  1.02it/s, loss=0.3524]\n",
      "Validation: 100%|\u001b[31m██████████\u001b[0m| 23/23 [00:14<00:00,  1.59it/s, loss=1.2517]\n"
     ]
    },
    {
     "name": "stdout",
     "output_type": "stream",
     "text": [
      "\n",
      "Epoch 330 Summary:\n",
      "  Train Loss: 0.3830, Train Pixel Accuracy: 88.13%\n",
      "  Validation Loss: 1.3175, Validation Pixel Accuracy: 73.70%\n",
      "  Current learning rate: 0.000001\n",
      "------------------------------\n",
      "--- Epoch 331/500 ---\n"
     ]
    },
    {
     "name": "stderr",
     "output_type": "stream",
     "text": [
      "Training: 100%|\u001b[32m██████████\u001b[0m| 23/23 [00:22<00:00,  1.04it/s, loss=0.3517]\n",
      "Validation: 100%|\u001b[31m██████████\u001b[0m| 23/23 [00:14<00:00,  1.58it/s, loss=1.2521]\n"
     ]
    },
    {
     "name": "stdout",
     "output_type": "stream",
     "text": [
      "\n",
      "Epoch 331 Summary:\n",
      "  Train Loss: 0.3829, Train Pixel Accuracy: 88.13%\n",
      "  Validation Loss: 1.3179, Validation Pixel Accuracy: 73.70%\n",
      "  Current learning rate: 0.000001\n",
      "------------------------------\n",
      "--- Epoch 332/500 ---\n"
     ]
    },
    {
     "name": "stderr",
     "output_type": "stream",
     "text": [
      "Training: 100%|\u001b[32m██████████\u001b[0m| 23/23 [00:23<00:00,  1.00s/it, loss=0.3548]\n",
      "Validation: 100%|\u001b[31m██████████\u001b[0m| 23/23 [00:14<00:00,  1.58it/s, loss=1.2517]\n"
     ]
    },
    {
     "name": "stdout",
     "output_type": "stream",
     "text": [
      "\n",
      "Epoch 332 Summary:\n",
      "  Train Loss: 0.3829, Train Pixel Accuracy: 88.14%\n",
      "  Validation Loss: 1.3179, Validation Pixel Accuracy: 73.69%\n",
      "  Current learning rate: 0.000001\n",
      "------------------------------\n",
      "--- Epoch 333/500 ---\n"
     ]
    },
    {
     "name": "stderr",
     "output_type": "stream",
     "text": [
      "Training: 100%|\u001b[32m██████████\u001b[0m| 23/23 [00:22<00:00,  1.01it/s, loss=0.3848]\n",
      "Validation: 100%|\u001b[31m██████████\u001b[0m| 23/23 [00:14<00:00,  1.59it/s, loss=1.2520]\n"
     ]
    },
    {
     "name": "stdout",
     "output_type": "stream",
     "text": [
      "\n",
      "Epoch 333 Summary:\n",
      "  Train Loss: 0.3829, Train Pixel Accuracy: 88.14%\n",
      "  Validation Loss: 1.3182, Validation Pixel Accuracy: 73.69%\n",
      "  Current learning rate: 0.000001\n",
      "------------------------------\n",
      "--- Epoch 334/500 ---\n"
     ]
    },
    {
     "name": "stderr",
     "output_type": "stream",
     "text": [
      "Training: 100%|\u001b[32m██████████\u001b[0m| 23/23 [00:23<00:00,  1.01s/it, loss=0.3931]\n",
      "Validation: 100%|\u001b[31m██████████\u001b[0m| 23/23 [00:14<00:00,  1.56it/s, loss=1.2525]\n"
     ]
    },
    {
     "name": "stdout",
     "output_type": "stream",
     "text": [
      "\n",
      "Epoch 334 Summary:\n",
      "  Train Loss: 0.3830, Train Pixel Accuracy: 88.14%\n",
      "  Validation Loss: 1.3186, Validation Pixel Accuracy: 73.69%\n",
      "  Current learning rate: 0.000001\n",
      "------------------------------\n",
      "--- Epoch 335/500 ---\n"
     ]
    },
    {
     "name": "stderr",
     "output_type": "stream",
     "text": [
      "Training: 100%|\u001b[32m██████████\u001b[0m| 23/23 [00:23<00:00,  1.00s/it, loss=0.3754]\n",
      "Validation: 100%|\u001b[31m██████████\u001b[0m| 23/23 [00:15<00:00,  1.53it/s, loss=1.2523]\n"
     ]
    },
    {
     "name": "stdout",
     "output_type": "stream",
     "text": [
      "\n",
      "Epoch 335 Summary:\n",
      "  Train Loss: 0.3827, Train Pixel Accuracy: 88.15%\n",
      "  Validation Loss: 1.3187, Validation Pixel Accuracy: 73.68%\n",
      "  Current learning rate: 0.000001\n",
      "------------------------------\n",
      "--- Epoch 336/500 ---\n"
     ]
    },
    {
     "name": "stderr",
     "output_type": "stream",
     "text": [
      "Training: 100%|\u001b[32m██████████\u001b[0m| 23/23 [00:23<00:00,  1.03s/it, loss=0.4215]\n",
      "Validation: 100%|\u001b[31m██████████\u001b[0m| 23/23 [00:15<00:00,  1.51it/s, loss=1.2529]\n"
     ]
    },
    {
     "name": "stdout",
     "output_type": "stream",
     "text": [
      "\n",
      "Epoch 336 Summary:\n",
      "  Train Loss: 0.3829, Train Pixel Accuracy: 88.15%\n",
      "  Validation Loss: 1.3191, Validation Pixel Accuracy: 73.69%\n",
      "  Current learning rate: 0.000001\n",
      "------------------------------\n",
      "--- Epoch 337/500 ---\n"
     ]
    },
    {
     "name": "stderr",
     "output_type": "stream",
     "text": [
      "Training: 100%|\u001b[32m██████████\u001b[0m| 23/23 [00:23<00:00,  1.02s/it, loss=0.4056]\n",
      "Validation: 100%|\u001b[31m██████████\u001b[0m| 23/23 [00:15<00:00,  1.53it/s, loss=1.2531]\n"
     ]
    },
    {
     "name": "stdout",
     "output_type": "stream",
     "text": [
      "\n",
      "Epoch 337 Summary:\n",
      "  Train Loss: 0.3826, Train Pixel Accuracy: 88.15%\n",
      "  Validation Loss: 1.3191, Validation Pixel Accuracy: 73.69%\n",
      "  Current learning rate: 0.000001\n",
      "------------------------------\n",
      "--- Epoch 338/500 ---\n"
     ]
    },
    {
     "name": "stderr",
     "output_type": "stream",
     "text": [
      "Training: 100%|\u001b[32m██████████\u001b[0m| 23/23 [00:23<00:00,  1.03s/it, loss=0.4052]\n",
      "Validation: 100%|\u001b[31m██████████\u001b[0m| 23/23 [00:14<00:00,  1.54it/s, loss=1.2533]\n"
     ]
    },
    {
     "name": "stdout",
     "output_type": "stream",
     "text": [
      "\n",
      "Epoch 338 Summary:\n",
      "  Train Loss: 0.3825, Train Pixel Accuracy: 88.16%\n",
      "  Validation Loss: 1.3198, Validation Pixel Accuracy: 73.69%\n",
      "  Current learning rate: 0.000001\n",
      "------------------------------\n",
      "--- Epoch 339/500 ---\n"
     ]
    },
    {
     "name": "stderr",
     "output_type": "stream",
     "text": [
      "Training: 100%|\u001b[32m██████████\u001b[0m| 23/23 [00:24<00:00,  1.06s/it, loss=0.3536]\n",
      "Validation: 100%|\u001b[31m██████████\u001b[0m| 23/23 [00:15<00:00,  1.44it/s, loss=1.2533]\n"
     ]
    },
    {
     "name": "stdout",
     "output_type": "stream",
     "text": [
      "\n",
      "Epoch 339 Summary:\n",
      "  Train Loss: 0.3822, Train Pixel Accuracy: 88.16%\n",
      "  Validation Loss: 1.3199, Validation Pixel Accuracy: 73.69%\n",
      "  Current learning rate: 0.000001\n",
      "------------------------------\n",
      "--- Epoch 340/500 ---\n"
     ]
    },
    {
     "name": "stderr",
     "output_type": "stream",
     "text": [
      "Training: 100%|\u001b[32m██████████\u001b[0m| 23/23 [00:23<00:00,  1.02s/it, loss=0.3792]\n",
      "Validation: 100%|\u001b[31m██████████\u001b[0m| 23/23 [00:15<00:00,  1.53it/s, loss=1.2535]\n"
     ]
    },
    {
     "name": "stdout",
     "output_type": "stream",
     "text": [
      "\n",
      "Epoch 340 Summary:\n",
      "  Train Loss: 0.3823, Train Pixel Accuracy: 88.16%\n",
      "  Validation Loss: 1.3197, Validation Pixel Accuracy: 73.68%\n",
      "  Current learning rate: 0.000001\n",
      "------------------------------\n",
      "--- Epoch 341/500 ---\n"
     ]
    },
    {
     "name": "stderr",
     "output_type": "stream",
     "text": [
      "Training: 100%|\u001b[32m██████████\u001b[0m| 23/23 [00:22<00:00,  1.01it/s, loss=0.3638]\n",
      "Validation: 100%|\u001b[31m██████████\u001b[0m| 23/23 [00:14<00:00,  1.59it/s, loss=1.2539]\n"
     ]
    },
    {
     "name": "stdout",
     "output_type": "stream",
     "text": [
      "\n",
      "Epoch 341 Summary:\n",
      "  Train Loss: 0.3823, Train Pixel Accuracy: 88.16%\n",
      "  Validation Loss: 1.3202, Validation Pixel Accuracy: 73.69%\n",
      "  Current learning rate: 0.000001\n",
      "------------------------------\n",
      "--- Epoch 342/500 ---\n"
     ]
    },
    {
     "name": "stderr",
     "output_type": "stream",
     "text": [
      "Training: 100%|\u001b[32m██████████\u001b[0m| 23/23 [00:22<00:00,  1.03it/s, loss=0.3383]\n",
      "Validation: 100%|\u001b[31m██████████\u001b[0m| 23/23 [00:14<00:00,  1.58it/s, loss=1.2536]\n"
     ]
    },
    {
     "name": "stdout",
     "output_type": "stream",
     "text": [
      "\n",
      "Epoch 342 Summary:\n",
      "  Train Loss: 0.3819, Train Pixel Accuracy: 88.17%\n",
      "  Validation Loss: 1.3198, Validation Pixel Accuracy: 73.68%\n",
      "  Current learning rate: 0.000001\n",
      "------------------------------\n",
      "--- Epoch 343/500 ---\n"
     ]
    },
    {
     "name": "stderr",
     "output_type": "stream",
     "text": [
      "Training: 100%|\u001b[32m██████████\u001b[0m| 23/23 [00:22<00:00,  1.02it/s, loss=0.3997]\n",
      "Validation: 100%|\u001b[31m██████████\u001b[0m| 23/23 [00:14<00:00,  1.60it/s, loss=1.2543]\n"
     ]
    },
    {
     "name": "stdout",
     "output_type": "stream",
     "text": [
      "\n",
      "Epoch 343 Summary:\n",
      "  Train Loss: 0.3820, Train Pixel Accuracy: 88.17%\n",
      "  Validation Loss: 1.3212, Validation Pixel Accuracy: 73.69%\n",
      "  Current learning rate: 0.000001\n",
      "------------------------------\n",
      "--- Epoch 344/500 ---\n"
     ]
    },
    {
     "name": "stderr",
     "output_type": "stream",
     "text": [
      "Training: 100%|\u001b[32m██████████\u001b[0m| 23/23 [00:22<00:00,  1.02it/s, loss=0.3960]\n",
      "Validation: 100%|\u001b[31m██████████\u001b[0m| 23/23 [00:14<00:00,  1.64it/s, loss=1.2546]\n"
     ]
    },
    {
     "name": "stdout",
     "output_type": "stream",
     "text": [
      "\n",
      "Epoch 344 Summary:\n",
      "  Train Loss: 0.3820, Train Pixel Accuracy: 88.17%\n",
      "  Validation Loss: 1.3214, Validation Pixel Accuracy: 73.69%\n",
      "  Current learning rate: 0.000001\n",
      "------------------------------\n",
      "--- Epoch 345/500 ---\n"
     ]
    },
    {
     "name": "stderr",
     "output_type": "stream",
     "text": [
      "Training: 100%|\u001b[32m██████████\u001b[0m| 23/23 [00:22<00:00,  1.03it/s, loss=0.3615]\n",
      "Validation: 100%|\u001b[31m██████████\u001b[0m| 23/23 [00:13<00:00,  1.66it/s, loss=1.2544]\n"
     ]
    },
    {
     "name": "stdout",
     "output_type": "stream",
     "text": [
      "\n",
      "Epoch 345 Summary:\n",
      "  Train Loss: 0.3817, Train Pixel Accuracy: 88.18%\n",
      "  Validation Loss: 1.3210, Validation Pixel Accuracy: 73.68%\n",
      "  Current learning rate: 0.000001\n",
      "------------------------------\n",
      "--- Epoch 346/500 ---\n"
     ]
    },
    {
     "name": "stderr",
     "output_type": "stream",
     "text": [
      "Training: 100%|\u001b[32m██████████\u001b[0m| 23/23 [00:22<00:00,  1.02it/s, loss=0.4104]\n",
      "Validation: 100%|\u001b[31m██████████\u001b[0m| 23/23 [00:14<00:00,  1.61it/s, loss=1.2550]\n"
     ]
    },
    {
     "name": "stdout",
     "output_type": "stream",
     "text": [
      "\n",
      "Epoch 346 Summary:\n",
      "  Train Loss: 0.3816, Train Pixel Accuracy: 88.18%\n",
      "  Validation Loss: 1.3215, Validation Pixel Accuracy: 73.68%\n",
      "  Current learning rate: 0.000001\n",
      "------------------------------\n",
      "--- Epoch 347/500 ---\n"
     ]
    },
    {
     "name": "stderr",
     "output_type": "stream",
     "text": [
      "Training: 100%|\u001b[32m██████████\u001b[0m| 23/23 [00:21<00:00,  1.05it/s, loss=0.3729]\n",
      "Validation: 100%|\u001b[31m██████████\u001b[0m| 23/23 [00:14<00:00,  1.63it/s, loss=1.2554]\n"
     ]
    },
    {
     "name": "stdout",
     "output_type": "stream",
     "text": [
      "\n",
      "Epoch 347 Summary:\n",
      "  Train Loss: 0.3815, Train Pixel Accuracy: 88.18%\n",
      "  Validation Loss: 1.3220, Validation Pixel Accuracy: 73.68%\n",
      "  Current learning rate: 0.000001\n",
      "------------------------------\n",
      "--- Epoch 348/500 ---\n"
     ]
    },
    {
     "name": "stderr",
     "output_type": "stream",
     "text": [
      "Training: 100%|\u001b[32m██████████\u001b[0m| 23/23 [00:22<00:00,  1.04it/s, loss=0.3595]\n",
      "Validation: 100%|\u001b[31m██████████\u001b[0m| 23/23 [00:14<00:00,  1.61it/s, loss=1.2552]\n"
     ]
    },
    {
     "name": "stdout",
     "output_type": "stream",
     "text": [
      "\n",
      "Epoch 348 Summary:\n",
      "  Train Loss: 0.3814, Train Pixel Accuracy: 88.19%\n",
      "  Validation Loss: 1.3226, Validation Pixel Accuracy: 73.67%\n",
      "  Current learning rate: 0.000001\n",
      "------------------------------\n",
      "--- Epoch 349/500 ---\n"
     ]
    },
    {
     "name": "stderr",
     "output_type": "stream",
     "text": [
      "Training: 100%|\u001b[32m██████████\u001b[0m| 23/23 [00:22<00:00,  1.04it/s, loss=0.4100]\n",
      "Validation: 100%|\u001b[31m██████████\u001b[0m| 23/23 [00:14<00:00,  1.57it/s, loss=1.2553]\n"
     ]
    },
    {
     "name": "stdout",
     "output_type": "stream",
     "text": [
      "\n",
      "Epoch 349 Summary:\n",
      "  Train Loss: 0.3815, Train Pixel Accuracy: 88.19%\n",
      "  Validation Loss: 1.3225, Validation Pixel Accuracy: 73.68%\n",
      "  Current learning rate: 0.000001\n",
      "------------------------------\n",
      "--- Epoch 350/500 ---\n"
     ]
    },
    {
     "name": "stderr",
     "output_type": "stream",
     "text": [
      "Training: 100%|\u001b[32m██████████\u001b[0m| 23/23 [00:22<00:00,  1.03it/s, loss=0.4684]\n",
      "Validation: 100%|\u001b[31m██████████\u001b[0m| 23/23 [00:14<00:00,  1.61it/s, loss=1.2557]\n"
     ]
    },
    {
     "name": "stdout",
     "output_type": "stream",
     "text": [
      "\n",
      "Epoch 350 Summary:\n",
      "  Train Loss: 0.3817, Train Pixel Accuracy: 88.19%\n",
      "  Validation Loss: 1.3224, Validation Pixel Accuracy: 73.67%\n",
      "  Current learning rate: 0.000001\n",
      "------------------------------\n",
      "--- Epoch 351/500 ---\n"
     ]
    },
    {
     "name": "stderr",
     "output_type": "stream",
     "text": [
      "Training: 100%|\u001b[32m██████████\u001b[0m| 23/23 [00:22<00:00,  1.02it/s, loss=0.3794]\n",
      "Validation: 100%|\u001b[31m██████████\u001b[0m| 23/23 [00:13<00:00,  1.66it/s, loss=1.2558]\n"
     ]
    },
    {
     "name": "stdout",
     "output_type": "stream",
     "text": [
      "\n",
      "Epoch 351 Summary:\n",
      "  Train Loss: 0.3813, Train Pixel Accuracy: 88.19%\n",
      "  Validation Loss: 1.3229, Validation Pixel Accuracy: 73.68%\n",
      "  Current learning rate: 0.000001\n",
      "------------------------------\n",
      "--- Epoch 352/500 ---\n"
     ]
    },
    {
     "name": "stderr",
     "output_type": "stream",
     "text": [
      "Training: 100%|\u001b[32m██████████\u001b[0m| 23/23 [00:22<00:00,  1.03it/s, loss=0.4645]\n",
      "Validation: 100%|\u001b[31m██████████\u001b[0m| 23/23 [00:14<00:00,  1.62it/s, loss=1.2558]\n"
     ]
    },
    {
     "name": "stdout",
     "output_type": "stream",
     "text": [
      "\n",
      "Epoch 352 Summary:\n",
      "  Train Loss: 0.3816, Train Pixel Accuracy: 88.20%\n",
      "  Validation Loss: 1.3228, Validation Pixel Accuracy: 73.67%\n",
      "  Current learning rate: 0.000001\n",
      "------------------------------\n",
      "--- Epoch 353/500 ---\n"
     ]
    },
    {
     "name": "stderr",
     "output_type": "stream",
     "text": [
      "Training: 100%|\u001b[32m██████████\u001b[0m| 23/23 [00:22<00:00,  1.03it/s, loss=0.3220]\n",
      "Validation: 100%|\u001b[31m██████████\u001b[0m| 23/23 [00:14<00:00,  1.62it/s, loss=1.2565]\n"
     ]
    },
    {
     "name": "stdout",
     "output_type": "stream",
     "text": [
      "\n",
      "Epoch 353 Summary:\n",
      "  Train Loss: 0.3807, Train Pixel Accuracy: 88.20%\n",
      "  Validation Loss: 1.3235, Validation Pixel Accuracy: 73.67%\n",
      "  Current learning rate: 0.000001\n",
      "------------------------------\n",
      "--- Epoch 354/500 ---\n"
     ]
    },
    {
     "name": "stderr",
     "output_type": "stream",
     "text": [
      "Training: 100%|\u001b[32m██████████\u001b[0m| 23/23 [00:22<00:00,  1.02it/s, loss=0.3638]\n",
      "Validation: 100%|\u001b[31m██████████\u001b[0m| 23/23 [00:14<00:00,  1.61it/s, loss=1.2565]\n"
     ]
    },
    {
     "name": "stdout",
     "output_type": "stream",
     "text": [
      "\n",
      "Epoch 354 Summary:\n",
      "  Train Loss: 0.3807, Train Pixel Accuracy: 88.20%\n",
      "  Validation Loss: 1.3235, Validation Pixel Accuracy: 73.67%\n",
      "  Current learning rate: 0.000001\n",
      "------------------------------\n",
      "--- Epoch 355/500 ---\n"
     ]
    },
    {
     "name": "stderr",
     "output_type": "stream",
     "text": [
      "Training: 100%|\u001b[32m██████████\u001b[0m| 23/23 [00:22<00:00,  1.03it/s, loss=0.3457]\n",
      "Validation: 100%|\u001b[31m██████████\u001b[0m| 23/23 [00:14<00:00,  1.54it/s, loss=1.2571]\n"
     ]
    },
    {
     "name": "stdout",
     "output_type": "stream",
     "text": [
      "\n",
      "Epoch 355 Summary:\n",
      "  Train Loss: 0.3805, Train Pixel Accuracy: 88.20%\n",
      "  Validation Loss: 1.3241, Validation Pixel Accuracy: 73.67%\n",
      "  Current learning rate: 0.000001\n",
      "------------------------------\n",
      "--- Epoch 356/500 ---\n"
     ]
    },
    {
     "name": "stderr",
     "output_type": "stream",
     "text": [
      "Training: 100%|\u001b[32m██████████\u001b[0m| 23/23 [00:22<00:00,  1.02it/s, loss=0.4033]\n",
      "Validation: 100%|\u001b[31m██████████\u001b[0m| 23/23 [00:14<00:00,  1.57it/s, loss=1.2567]\n"
     ]
    },
    {
     "name": "stdout",
     "output_type": "stream",
     "text": [
      "\n",
      "Epoch 356 Summary:\n",
      "  Train Loss: 0.3809, Train Pixel Accuracy: 88.21%\n",
      "  Validation Loss: 1.3236, Validation Pixel Accuracy: 73.66%\n",
      "  Current learning rate: 0.000001\n",
      "------------------------------\n",
      "--- Epoch 357/500 ---\n"
     ]
    },
    {
     "name": "stderr",
     "output_type": "stream",
     "text": [
      "Training: 100%|\u001b[32m██████████\u001b[0m| 23/23 [00:22<00:00,  1.01it/s, loss=0.4247]\n",
      "Validation: 100%|\u001b[31m██████████\u001b[0m| 23/23 [00:14<00:00,  1.62it/s, loss=1.2574]\n"
     ]
    },
    {
     "name": "stdout",
     "output_type": "stream",
     "text": [
      "\n",
      "Epoch 357 Summary:\n",
      "  Train Loss: 0.3808, Train Pixel Accuracy: 88.21%\n",
      "  Validation Loss: 1.3246, Validation Pixel Accuracy: 73.67%\n",
      "  Current learning rate: 0.000001\n",
      "------------------------------\n",
      "--- Epoch 358/500 ---\n"
     ]
    },
    {
     "name": "stderr",
     "output_type": "stream",
     "text": [
      "Training: 100%|\u001b[32m██████████\u001b[0m| 23/23 [00:22<00:00,  1.02it/s, loss=0.3704]\n",
      "Validation: 100%|\u001b[31m██████████\u001b[0m| 23/23 [00:14<00:00,  1.63it/s, loss=1.2573]\n"
     ]
    },
    {
     "name": "stdout",
     "output_type": "stream",
     "text": [
      "\n",
      "Epoch 358 Summary:\n",
      "  Train Loss: 0.3805, Train Pixel Accuracy: 88.21%\n",
      "  Validation Loss: 1.3252, Validation Pixel Accuracy: 73.67%\n",
      "  Current learning rate: 0.000001\n",
      "------------------------------\n",
      "--- Epoch 359/500 ---\n"
     ]
    },
    {
     "name": "stderr",
     "output_type": "stream",
     "text": [
      "Training: 100%|\u001b[32m██████████\u001b[0m| 23/23 [00:22<00:00,  1.02it/s, loss=0.4261]\n",
      "Validation: 100%|\u001b[31m██████████\u001b[0m| 23/23 [00:14<00:00,  1.62it/s, loss=1.2576]\n"
     ]
    },
    {
     "name": "stdout",
     "output_type": "stream",
     "text": [
      "\n",
      "Epoch 359 Summary:\n",
      "  Train Loss: 0.3807, Train Pixel Accuracy: 88.22%\n",
      "  Validation Loss: 1.3248, Validation Pixel Accuracy: 73.67%\n",
      "  Current learning rate: 0.000001\n",
      "------------------------------\n",
      "--- Epoch 360/500 ---\n"
     ]
    },
    {
     "name": "stderr",
     "output_type": "stream",
     "text": [
      "Training: 100%|\u001b[32m██████████\u001b[0m| 23/23 [00:22<00:00,  1.02it/s, loss=0.3542]\n",
      "Validation: 100%|\u001b[31m██████████\u001b[0m| 23/23 [00:14<00:00,  1.55it/s, loss=1.2577]\n"
     ]
    },
    {
     "name": "stdout",
     "output_type": "stream",
     "text": [
      "\n",
      "Epoch 360 Summary:\n",
      "  Train Loss: 0.3801, Train Pixel Accuracy: 88.22%\n",
      "  Validation Loss: 1.3254, Validation Pixel Accuracy: 73.67%\n",
      "  Current learning rate: 0.000001\n",
      "------------------------------\n",
      "--- Epoch 361/500 ---\n"
     ]
    },
    {
     "name": "stderr",
     "output_type": "stream",
     "text": [
      "Training: 100%|\u001b[32m██████████\u001b[0m| 23/23 [00:22<00:00,  1.03it/s, loss=0.3974]\n",
      "Validation: 100%|\u001b[31m██████████\u001b[0m| 23/23 [00:14<00:00,  1.63it/s, loss=1.2581]\n"
     ]
    },
    {
     "name": "stdout",
     "output_type": "stream",
     "text": [
      "\n",
      "Epoch 361 Summary:\n",
      "  Train Loss: 0.3804, Train Pixel Accuracy: 88.22%\n",
      "  Validation Loss: 1.3255, Validation Pixel Accuracy: 73.67%\n",
      "  Current learning rate: 0.000001\n",
      "------------------------------\n",
      "--- Epoch 362/500 ---\n"
     ]
    },
    {
     "name": "stderr",
     "output_type": "stream",
     "text": [
      "Training: 100%|\u001b[32m██████████\u001b[0m| 23/23 [00:21<00:00,  1.05it/s, loss=0.3959]\n",
      "Validation: 100%|\u001b[31m██████████\u001b[0m| 23/23 [00:14<00:00,  1.54it/s, loss=1.2580]\n"
     ]
    },
    {
     "name": "stdout",
     "output_type": "stream",
     "text": [
      "\n",
      "Epoch 362 Summary:\n",
      "  Train Loss: 0.3801, Train Pixel Accuracy: 88.23%\n",
      "  Validation Loss: 1.3252, Validation Pixel Accuracy: 73.66%\n",
      "  Current learning rate: 0.000001\n",
      "------------------------------\n",
      "--- Epoch 363/500 ---\n"
     ]
    },
    {
     "name": "stderr",
     "output_type": "stream",
     "text": [
      "Training: 100%|\u001b[32m██████████\u001b[0m| 23/23 [00:21<00:00,  1.05it/s, loss=0.3831]\n",
      "Validation: 100%|\u001b[31m██████████\u001b[0m| 23/23 [00:14<00:00,  1.62it/s, loss=1.2581]\n"
     ]
    },
    {
     "name": "stdout",
     "output_type": "stream",
     "text": [
      "\n",
      "Epoch 363 Summary:\n",
      "  Train Loss: 0.3802, Train Pixel Accuracy: 88.23%\n",
      "  Validation Loss: 1.3255, Validation Pixel Accuracy: 73.66%\n",
      "  Current learning rate: 0.000001\n",
      "------------------------------\n",
      "--- Epoch 364/500 ---\n"
     ]
    },
    {
     "name": "stderr",
     "output_type": "stream",
     "text": [
      "Training: 100%|\u001b[32m██████████\u001b[0m| 23/23 [00:22<00:00,  1.04it/s, loss=0.4208]\n",
      "Validation: 100%|\u001b[31m██████████\u001b[0m| 23/23 [00:13<00:00,  1.70it/s, loss=1.2587]\n"
     ]
    },
    {
     "name": "stdout",
     "output_type": "stream",
     "text": [
      "\n",
      "Epoch 364 Summary:\n",
      "  Train Loss: 0.3802, Train Pixel Accuracy: 88.24%\n",
      "  Validation Loss: 1.3263, Validation Pixel Accuracy: 73.66%\n",
      "  Current learning rate: 0.000001\n",
      "------------------------------\n",
      "--- Epoch 365/500 ---\n"
     ]
    },
    {
     "name": "stderr",
     "output_type": "stream",
     "text": [
      "Training: 100%|\u001b[32m██████████\u001b[0m| 23/23 [00:22<00:00,  1.04it/s, loss=0.4457]\n",
      "Validation: 100%|\u001b[31m██████████\u001b[0m| 23/23 [00:13<00:00,  1.68it/s, loss=1.2592]\n"
     ]
    },
    {
     "name": "stdout",
     "output_type": "stream",
     "text": [
      "\n",
      "Epoch 365 Summary:\n",
      "  Train Loss: 0.3801, Train Pixel Accuracy: 88.24%\n",
      "  Validation Loss: 1.3268, Validation Pixel Accuracy: 73.67%\n",
      "  Current learning rate: 0.000001\n",
      "------------------------------\n",
      "--- Epoch 366/500 ---\n"
     ]
    },
    {
     "name": "stderr",
     "output_type": "stream",
     "text": [
      "Training: 100%|\u001b[32m██████████\u001b[0m| 23/23 [00:22<00:00,  1.04it/s, loss=0.4013]\n",
      "Validation: 100%|\u001b[31m██████████\u001b[0m| 23/23 [00:13<00:00,  1.71it/s, loss=1.2593]\n"
     ]
    },
    {
     "name": "stdout",
     "output_type": "stream",
     "text": [
      "\n",
      "Epoch 366 Summary:\n",
      "  Train Loss: 0.3797, Train Pixel Accuracy: 88.24%\n",
      "  Validation Loss: 1.3268, Validation Pixel Accuracy: 73.66%\n",
      "  Current learning rate: 0.000001\n",
      "------------------------------\n",
      "--- Epoch 367/500 ---\n"
     ]
    },
    {
     "name": "stderr",
     "output_type": "stream",
     "text": [
      "Training: 100%|\u001b[32m██████████\u001b[0m| 23/23 [00:22<00:00,  1.04it/s, loss=0.3348]\n",
      "Validation: 100%|\u001b[31m██████████\u001b[0m| 23/23 [00:13<00:00,  1.66it/s, loss=1.2593]\n"
     ]
    },
    {
     "name": "stdout",
     "output_type": "stream",
     "text": [
      "\n",
      "Epoch 367 Summary:\n",
      "  Train Loss: 0.3795, Train Pixel Accuracy: 88.24%\n",
      "  Validation Loss: 1.3270, Validation Pixel Accuracy: 73.66%\n",
      "  Current learning rate: 0.000001\n",
      "------------------------------\n",
      "--- Epoch 368/500 ---\n"
     ]
    },
    {
     "name": "stderr",
     "output_type": "stream",
     "text": [
      "Training: 100%|\u001b[32m██████████\u001b[0m| 23/23 [00:22<00:00,  1.03it/s, loss=0.3613]\n",
      "Validation: 100%|\u001b[31m██████████\u001b[0m| 23/23 [00:13<00:00,  1.66it/s, loss=1.2596]\n"
     ]
    },
    {
     "name": "stdout",
     "output_type": "stream",
     "text": [
      "\n",
      "Epoch 368 Summary:\n",
      "  Train Loss: 0.3793, Train Pixel Accuracy: 88.25%\n",
      "  Validation Loss: 1.3274, Validation Pixel Accuracy: 73.66%\n",
      "  Current learning rate: 0.000001\n",
      "------------------------------\n",
      "--- Epoch 369/500 ---\n"
     ]
    },
    {
     "name": "stderr",
     "output_type": "stream",
     "text": [
      "Training: 100%|\u001b[32m██████████\u001b[0m| 23/23 [00:22<00:00,  1.04it/s, loss=0.3573]\n",
      "Validation: 100%|\u001b[31m██████████\u001b[0m| 23/23 [00:13<00:00,  1.65it/s, loss=1.2596]\n"
     ]
    },
    {
     "name": "stdout",
     "output_type": "stream",
     "text": [
      "\n",
      "Epoch 369 Summary:\n",
      "  Train Loss: 0.3793, Train Pixel Accuracy: 88.25%\n",
      "  Validation Loss: 1.3275, Validation Pixel Accuracy: 73.66%\n",
      "  Current learning rate: 0.000001\n",
      "------------------------------\n",
      "--- Epoch 370/500 ---\n"
     ]
    },
    {
     "name": "stderr",
     "output_type": "stream",
     "text": [
      "Training: 100%|\u001b[32m██████████\u001b[0m| 23/23 [00:21<00:00,  1.06it/s, loss=0.4980]\n",
      "Validation: 100%|\u001b[31m██████████\u001b[0m| 23/23 [00:14<00:00,  1.64it/s, loss=1.2604]\n"
     ]
    },
    {
     "name": "stdout",
     "output_type": "stream",
     "text": [
      "\n",
      "Epoch 370 Summary:\n",
      "  Train Loss: 0.3801, Train Pixel Accuracy: 88.25%\n",
      "  Validation Loss: 1.3285, Validation Pixel Accuracy: 73.67%\n",
      "  Current learning rate: 0.000001\n",
      "------------------------------\n",
      "--- Epoch 371/500 ---\n"
     ]
    },
    {
     "name": "stderr",
     "output_type": "stream",
     "text": [
      "Training: 100%|\u001b[32m██████████\u001b[0m| 23/23 [00:22<00:00,  1.04it/s, loss=0.4290]\n",
      "Validation: 100%|\u001b[31m██████████\u001b[0m| 23/23 [00:14<00:00,  1.63it/s, loss=1.2604]\n"
     ]
    },
    {
     "name": "stdout",
     "output_type": "stream",
     "text": [
      "\n",
      "Epoch 371 Summary:\n",
      "  Train Loss: 0.3794, Train Pixel Accuracy: 88.25%\n",
      "  Validation Loss: 1.3285, Validation Pixel Accuracy: 73.66%\n",
      "  Current learning rate: 0.000001\n",
      "------------------------------\n",
      "--- Epoch 372/500 ---\n"
     ]
    },
    {
     "name": "stderr",
     "output_type": "stream",
     "text": [
      "Training: 100%|\u001b[32m██████████\u001b[0m| 23/23 [00:22<00:00,  1.04it/s, loss=0.3580]\n",
      "Validation: 100%|\u001b[31m██████████\u001b[0m| 23/23 [00:14<00:00,  1.63it/s, loss=1.2601]\n"
     ]
    },
    {
     "name": "stdout",
     "output_type": "stream",
     "text": [
      "\n",
      "Epoch 372 Summary:\n",
      "  Train Loss: 0.3789, Train Pixel Accuracy: 88.26%\n",
      "  Validation Loss: 1.3280, Validation Pixel Accuracy: 73.65%\n",
      "  Current learning rate: 0.000001\n",
      "------------------------------\n",
      "--- Epoch 373/500 ---\n"
     ]
    },
    {
     "name": "stderr",
     "output_type": "stream",
     "text": [
      "Training: 100%|\u001b[32m██████████\u001b[0m| 23/23 [00:21<00:00,  1.05it/s, loss=0.3729]\n",
      "Validation: 100%|\u001b[31m██████████\u001b[0m| 23/23 [00:13<00:00,  1.69it/s, loss=1.2605]\n"
     ]
    },
    {
     "name": "stdout",
     "output_type": "stream",
     "text": [
      "\n",
      "Epoch 373 Summary:\n",
      "  Train Loss: 0.3789, Train Pixel Accuracy: 88.27%\n",
      "  Validation Loss: 1.3287, Validation Pixel Accuracy: 73.65%\n",
      "  Current learning rate: 0.000001\n",
      "------------------------------\n",
      "--- Epoch 374/500 ---\n"
     ]
    },
    {
     "name": "stderr",
     "output_type": "stream",
     "text": [
      "Training: 100%|\u001b[32m██████████\u001b[0m| 23/23 [00:22<00:00,  1.04it/s, loss=0.3958]\n",
      "Validation: 100%|\u001b[31m██████████\u001b[0m| 23/23 [00:13<00:00,  1.68it/s, loss=1.2609]\n"
     ]
    },
    {
     "name": "stdout",
     "output_type": "stream",
     "text": [
      "\n",
      "Epoch 374 Summary:\n",
      "  Train Loss: 0.3790, Train Pixel Accuracy: 88.27%\n",
      "  Validation Loss: 1.3291, Validation Pixel Accuracy: 73.65%\n",
      "  Current learning rate: 0.000001\n",
      "------------------------------\n",
      "--- Epoch 375/500 ---\n"
     ]
    },
    {
     "name": "stderr",
     "output_type": "stream",
     "text": [
      "Training: 100%|\u001b[32m██████████\u001b[0m| 23/23 [00:21<00:00,  1.05it/s, loss=0.4830]\n",
      "Validation: 100%|\u001b[31m██████████\u001b[0m| 23/23 [00:13<00:00,  1.66it/s, loss=1.2613]\n"
     ]
    },
    {
     "name": "stdout",
     "output_type": "stream",
     "text": [
      "\n",
      "Epoch 375 Summary:\n",
      "  Train Loss: 0.3794, Train Pixel Accuracy: 88.27%\n",
      "  Validation Loss: 1.3288, Validation Pixel Accuracy: 73.66%\n",
      "  Current learning rate: 0.000001\n",
      "------------------------------\n",
      "--- Epoch 376/500 ---\n"
     ]
    },
    {
     "name": "stderr",
     "output_type": "stream",
     "text": [
      "Training: 100%|\u001b[32m██████████\u001b[0m| 23/23 [00:22<00:00,  1.04it/s, loss=0.4237]\n",
      "Validation: 100%|\u001b[31m██████████\u001b[0m| 23/23 [00:14<00:00,  1.63it/s, loss=1.2611]\n"
     ]
    },
    {
     "name": "stdout",
     "output_type": "stream",
     "text": [
      "\n",
      "Epoch 376 Summary:\n",
      "  Train Loss: 0.3790, Train Pixel Accuracy: 88.27%\n",
      "  Validation Loss: 1.3297, Validation Pixel Accuracy: 73.65%\n",
      "  Current learning rate: 0.000001\n",
      "------------------------------\n",
      "--- Epoch 377/500 ---\n"
     ]
    },
    {
     "name": "stderr",
     "output_type": "stream",
     "text": [
      "Training: 100%|\u001b[32m██████████\u001b[0m| 23/23 [00:22<00:00,  1.02it/s, loss=0.3600]\n",
      "Validation: 100%|\u001b[31m██████████\u001b[0m| 23/23 [00:14<00:00,  1.54it/s, loss=1.2616]\n"
     ]
    },
    {
     "name": "stdout",
     "output_type": "stream",
     "text": [
      "\n",
      "Epoch 377 Summary:\n",
      "  Train Loss: 0.3785, Train Pixel Accuracy: 88.27%\n",
      "  Validation Loss: 1.3297, Validation Pixel Accuracy: 73.65%\n",
      "  Current learning rate: 0.000001\n",
      "------------------------------\n",
      "--- Epoch 378/500 ---\n"
     ]
    },
    {
     "name": "stderr",
     "output_type": "stream",
     "text": [
      "Training: 100%|\u001b[32m██████████\u001b[0m| 23/23 [00:22<00:00,  1.04it/s, loss=0.3596]\n",
      "Validation: 100%|\u001b[31m██████████\u001b[0m| 23/23 [00:14<00:00,  1.56it/s, loss=1.2615]\n"
     ]
    },
    {
     "name": "stdout",
     "output_type": "stream",
     "text": [
      "\n",
      "Epoch 378 Summary:\n",
      "  Train Loss: 0.3783, Train Pixel Accuracy: 88.28%\n",
      "  Validation Loss: 1.3296, Validation Pixel Accuracy: 73.65%\n",
      "  Current learning rate: 0.000001\n",
      "------------------------------\n",
      "--- Epoch 379/500 ---\n"
     ]
    },
    {
     "name": "stderr",
     "output_type": "stream",
     "text": [
      "Training: 100%|\u001b[32m██████████\u001b[0m| 23/23 [00:22<00:00,  1.04it/s, loss=0.3253]\n",
      "Validation: 100%|\u001b[31m██████████\u001b[0m| 23/23 [00:14<00:00,  1.58it/s, loss=1.2623]\n"
     ]
    },
    {
     "name": "stdout",
     "output_type": "stream",
     "text": [
      "\n",
      "Epoch 379 Summary:\n",
      "  Train Loss: 0.3781, Train Pixel Accuracy: 88.28%\n",
      "  Validation Loss: 1.3303, Validation Pixel Accuracy: 73.66%\n",
      "  Current learning rate: 0.000001\n",
      "------------------------------\n",
      "--- Epoch 380/500 ---\n"
     ]
    },
    {
     "name": "stderr",
     "output_type": "stream",
     "text": [
      "Training: 100%|\u001b[32m██████████\u001b[0m| 23/23 [00:22<00:00,  1.03it/s, loss=0.4138]\n",
      "Validation: 100%|\u001b[31m██████████\u001b[0m| 23/23 [00:14<00:00,  1.60it/s, loss=1.2624]\n"
     ]
    },
    {
     "name": "stdout",
     "output_type": "stream",
     "text": [
      "\n",
      "Epoch 380 Summary:\n",
      "  Train Loss: 0.3785, Train Pixel Accuracy: 88.28%\n",
      "  Validation Loss: 1.3306, Validation Pixel Accuracy: 73.65%\n",
      "  Current learning rate: 0.000001\n",
      "------------------------------\n",
      "--- Epoch 381/500 ---\n"
     ]
    },
    {
     "name": "stderr",
     "output_type": "stream",
     "text": [
      "Training: 100%|\u001b[32m██████████\u001b[0m| 23/23 [00:22<00:00,  1.04it/s, loss=0.4081]\n",
      "Validation: 100%|\u001b[31m██████████\u001b[0m| 23/23 [00:14<00:00,  1.60it/s, loss=1.2618]\n"
     ]
    },
    {
     "name": "stdout",
     "output_type": "stream",
     "text": [
      "\n",
      "Epoch 381 Summary:\n",
      "  Train Loss: 0.3785, Train Pixel Accuracy: 88.29%\n",
      "  Validation Loss: 1.3306, Validation Pixel Accuracy: 73.65%\n",
      "  Current learning rate: 0.000001\n",
      "------------------------------\n",
      "--- Epoch 382/500 ---\n"
     ]
    },
    {
     "name": "stderr",
     "output_type": "stream",
     "text": [
      "Training: 100%|\u001b[32m██████████\u001b[0m| 23/23 [00:22<00:00,  1.03it/s, loss=0.3157]\n",
      "Validation: 100%|\u001b[31m██████████\u001b[0m| 23/23 [00:14<00:00,  1.63it/s, loss=1.2626]\n"
     ]
    },
    {
     "name": "stdout",
     "output_type": "stream",
     "text": [
      "\n",
      "Epoch 382 Summary:\n",
      "  Train Loss: 0.3778, Train Pixel Accuracy: 88.29%\n",
      "  Validation Loss: 1.3309, Validation Pixel Accuracy: 73.65%\n",
      "  Current learning rate: 0.000001\n",
      "------------------------------\n",
      "--- Epoch 383/500 ---\n"
     ]
    },
    {
     "name": "stderr",
     "output_type": "stream",
     "text": [
      "Training: 100%|\u001b[32m██████████\u001b[0m| 23/23 [00:22<00:00,  1.02it/s, loss=0.3940]\n",
      "Validation: 100%|\u001b[31m██████████\u001b[0m| 23/23 [00:14<00:00,  1.64it/s, loss=1.2630]\n"
     ]
    },
    {
     "name": "stdout",
     "output_type": "stream",
     "text": [
      "\n",
      "Epoch 383 Summary:\n",
      "  Train Loss: 0.3781, Train Pixel Accuracy: 88.29%\n",
      "  Validation Loss: 1.3314, Validation Pixel Accuracy: 73.65%\n",
      "  Current learning rate: 0.000001\n",
      "------------------------------\n",
      "--- Epoch 384/500 ---\n"
     ]
    },
    {
     "name": "stderr",
     "output_type": "stream",
     "text": [
      "Training: 100%|\u001b[32m██████████\u001b[0m| 23/23 [00:22<00:00,  1.02it/s, loss=0.4969]\n",
      "Validation: 100%|\u001b[31m██████████\u001b[0m| 23/23 [00:14<00:00,  1.57it/s, loss=1.2632]\n"
     ]
    },
    {
     "name": "stdout",
     "output_type": "stream",
     "text": [
      "\n",
      "Epoch 384 Summary:\n",
      "  Train Loss: 0.3787, Train Pixel Accuracy: 88.29%\n",
      "  Validation Loss: 1.3319, Validation Pixel Accuracy: 73.65%\n",
      "  Current learning rate: 0.000001\n",
      "------------------------------\n",
      "--- Epoch 385/500 ---\n"
     ]
    },
    {
     "name": "stderr",
     "output_type": "stream",
     "text": [
      "Training: 100%|\u001b[32m██████████\u001b[0m| 23/23 [00:22<00:00,  1.02it/s, loss=0.3447]\n",
      "Validation: 100%|\u001b[31m██████████\u001b[0m| 23/23 [00:14<00:00,  1.59it/s, loss=1.2633]\n"
     ]
    },
    {
     "name": "stdout",
     "output_type": "stream",
     "text": [
      "\n",
      "Epoch 385 Summary:\n",
      "  Train Loss: 0.3777, Train Pixel Accuracy: 88.30%\n",
      "  Validation Loss: 1.3318, Validation Pixel Accuracy: 73.65%\n",
      "  Current learning rate: 0.000001\n",
      "------------------------------\n",
      "--- Epoch 386/500 ---\n"
     ]
    },
    {
     "name": "stderr",
     "output_type": "stream",
     "text": [
      "Training: 100%|\u001b[32m██████████\u001b[0m| 23/23 [00:22<00:00,  1.02it/s, loss=0.3383]\n",
      "Validation: 100%|\u001b[31m██████████\u001b[0m| 23/23 [00:15<00:00,  1.53it/s, loss=1.2629]\n"
     ]
    },
    {
     "name": "stdout",
     "output_type": "stream",
     "text": [
      "\n",
      "Epoch 386 Summary:\n",
      "  Train Loss: 0.3777, Train Pixel Accuracy: 88.30%\n",
      "  Validation Loss: 1.3312, Validation Pixel Accuracy: 73.64%\n",
      "  Current learning rate: 0.000001\n",
      "------------------------------\n",
      "--- Epoch 387/500 ---\n"
     ]
    },
    {
     "name": "stderr",
     "output_type": "stream",
     "text": [
      "Training: 100%|\u001b[32m██████████\u001b[0m| 23/23 [00:22<00:00,  1.03it/s, loss=0.4029]\n",
      "Validation: 100%|\u001b[31m██████████\u001b[0m| 23/23 [00:14<00:00,  1.60it/s, loss=1.2633]\n"
     ]
    },
    {
     "name": "stdout",
     "output_type": "stream",
     "text": [
      "\n",
      "Epoch 387 Summary:\n",
      "  Train Loss: 0.3777, Train Pixel Accuracy: 88.31%\n",
      "  Validation Loss: 1.3322, Validation Pixel Accuracy: 73.65%\n",
      "  Current learning rate: 0.000001\n",
      "------------------------------\n",
      "--- Epoch 388/500 ---\n"
     ]
    },
    {
     "name": "stderr",
     "output_type": "stream",
     "text": [
      "Training: 100%|\u001b[32m██████████\u001b[0m| 23/23 [00:22<00:00,  1.03it/s, loss=0.4162]\n",
      "Validation: 100%|\u001b[31m██████████\u001b[0m| 23/23 [00:14<00:00,  1.55it/s, loss=1.2638]\n"
     ]
    },
    {
     "name": "stdout",
     "output_type": "stream",
     "text": [
      "\n",
      "Epoch 388 Summary:\n",
      "  Train Loss: 0.3777, Train Pixel Accuracy: 88.31%\n",
      "  Validation Loss: 1.3325, Validation Pixel Accuracy: 73.65%\n",
      "  Current learning rate: 0.000001\n",
      "------------------------------\n",
      "--- Epoch 389/500 ---\n"
     ]
    },
    {
     "name": "stderr",
     "output_type": "stream",
     "text": [
      "Training: 100%|\u001b[32m██████████\u001b[0m| 23/23 [00:22<00:00,  1.03it/s, loss=0.3601]\n",
      "Validation: 100%|\u001b[31m██████████\u001b[0m| 23/23 [00:13<00:00,  1.64it/s, loss=1.2633]\n"
     ]
    },
    {
     "name": "stdout",
     "output_type": "stream",
     "text": [
      "\n",
      "Epoch 389 Summary:\n",
      "  Train Loss: 0.3774, Train Pixel Accuracy: 88.31%\n",
      "  Validation Loss: 1.3323, Validation Pixel Accuracy: 73.64%\n",
      "  Current learning rate: 0.000001\n",
      "------------------------------\n",
      "--- Epoch 390/500 ---\n"
     ]
    },
    {
     "name": "stderr",
     "output_type": "stream",
     "text": [
      "Training: 100%|\u001b[32m██████████\u001b[0m| 23/23 [00:22<00:00,  1.03it/s, loss=0.3865]\n",
      "Validation: 100%|\u001b[31m██████████\u001b[0m| 23/23 [00:14<00:00,  1.64it/s, loss=1.2644]\n"
     ]
    },
    {
     "name": "stdout",
     "output_type": "stream",
     "text": [
      "\n",
      "Epoch 390 Summary:\n",
      "  Train Loss: 0.3774, Train Pixel Accuracy: 88.31%\n",
      "  Validation Loss: 1.3333, Validation Pixel Accuracy: 73.65%\n",
      "  Current learning rate: 0.000001\n",
      "------------------------------\n",
      "--- Epoch 391/500 ---\n"
     ]
    },
    {
     "name": "stderr",
     "output_type": "stream",
     "text": [
      "Training: 100%|\u001b[32m██████████\u001b[0m| 23/23 [00:22<00:00,  1.03it/s, loss=0.3677]\n",
      "Validation: 100%|\u001b[31m██████████\u001b[0m| 23/23 [00:14<00:00,  1.64it/s, loss=1.2640]\n"
     ]
    },
    {
     "name": "stdout",
     "output_type": "stream",
     "text": [
      "\n",
      "Epoch 391 Summary:\n",
      "  Train Loss: 0.3772, Train Pixel Accuracy: 88.32%\n",
      "  Validation Loss: 1.3332, Validation Pixel Accuracy: 73.64%\n",
      "  Current learning rate: 0.000001\n",
      "------------------------------\n",
      "--- Epoch 392/500 ---\n"
     ]
    },
    {
     "name": "stderr",
     "output_type": "stream",
     "text": [
      "Training: 100%|\u001b[32m██████████\u001b[0m| 23/23 [00:22<00:00,  1.02it/s, loss=0.3745]\n",
      "Validation: 100%|\u001b[31m██████████\u001b[0m| 23/23 [00:14<00:00,  1.61it/s, loss=1.2649]\n"
     ]
    },
    {
     "name": "stdout",
     "output_type": "stream",
     "text": [
      "\n",
      "Epoch 392 Summary:\n",
      "  Train Loss: 0.3772, Train Pixel Accuracy: 88.32%\n",
      "  Validation Loss: 1.3336, Validation Pixel Accuracy: 73.64%\n",
      "  Current learning rate: 0.000001\n",
      "------------------------------\n",
      "--- Epoch 393/500 ---\n"
     ]
    },
    {
     "name": "stderr",
     "output_type": "stream",
     "text": [
      "Training: 100%|\u001b[32m██████████\u001b[0m| 23/23 [00:22<00:00,  1.03it/s, loss=0.3520]\n",
      "Validation: 100%|\u001b[31m██████████\u001b[0m| 23/23 [00:15<00:00,  1.51it/s, loss=1.2645]\n"
     ]
    },
    {
     "name": "stdout",
     "output_type": "stream",
     "text": [
      "\n",
      "Epoch 393 Summary:\n",
      "  Train Loss: 0.3770, Train Pixel Accuracy: 88.33%\n",
      "  Validation Loss: 1.3336, Validation Pixel Accuracy: 73.63%\n",
      "  Current learning rate: 0.000001\n",
      "------------------------------\n",
      "--- Epoch 394/500 ---\n"
     ]
    },
    {
     "name": "stderr",
     "output_type": "stream",
     "text": [
      "Training: 100%|\u001b[32m██████████\u001b[0m| 23/23 [00:22<00:00,  1.04it/s, loss=0.3634]\n",
      "Validation: 100%|\u001b[31m██████████\u001b[0m| 23/23 [00:16<00:00,  1.42it/s, loss=1.2647]\n"
     ]
    },
    {
     "name": "stdout",
     "output_type": "stream",
     "text": [
      "\n",
      "Epoch 394 Summary:\n",
      "  Train Loss: 0.3769, Train Pixel Accuracy: 88.33%\n",
      "  Validation Loss: 1.3342, Validation Pixel Accuracy: 73.64%\n",
      "  Current learning rate: 0.000001\n",
      "------------------------------\n",
      "--- Epoch 395/500 ---\n"
     ]
    },
    {
     "name": "stderr",
     "output_type": "stream",
     "text": [
      "Training: 100%|\u001b[32m██████████\u001b[0m| 23/23 [00:22<00:00,  1.01it/s, loss=0.3964]\n",
      "Validation: 100%|\u001b[31m██████████\u001b[0m| 23/23 [00:14<00:00,  1.62it/s, loss=1.2654]\n"
     ]
    },
    {
     "name": "stdout",
     "output_type": "stream",
     "text": [
      "\n",
      "Epoch 395 Summary:\n",
      "  Train Loss: 0.3770, Train Pixel Accuracy: 88.33%\n",
      "  Validation Loss: 1.3345, Validation Pixel Accuracy: 73.64%\n",
      "  Current learning rate: 0.000001\n",
      "------------------------------\n",
      "--- Epoch 396/500 ---\n"
     ]
    },
    {
     "name": "stderr",
     "output_type": "stream",
     "text": [
      "Training: 100%|\u001b[32m██████████\u001b[0m| 23/23 [00:22<00:00,  1.02it/s, loss=0.3949]\n",
      "Validation: 100%|\u001b[31m██████████\u001b[0m| 23/23 [00:14<00:00,  1.60it/s, loss=1.2653]\n"
     ]
    },
    {
     "name": "stdout",
     "output_type": "stream",
     "text": [
      "\n",
      "Epoch 396 Summary:\n",
      "  Train Loss: 0.3769, Train Pixel Accuracy: 88.34%\n",
      "  Validation Loss: 1.3347, Validation Pixel Accuracy: 73.63%\n",
      "  Current learning rate: 0.000001\n",
      "------------------------------\n",
      "--- Epoch 397/500 ---\n"
     ]
    },
    {
     "name": "stderr",
     "output_type": "stream",
     "text": [
      "Training: 100%|\u001b[32m██████████\u001b[0m| 23/23 [00:22<00:00,  1.01it/s, loss=0.4079]\n",
      "Validation: 100%|\u001b[31m██████████\u001b[0m| 23/23 [00:14<00:00,  1.63it/s, loss=1.2658]\n"
     ]
    },
    {
     "name": "stdout",
     "output_type": "stream",
     "text": [
      "\n",
      "Epoch 397 Summary:\n",
      "  Train Loss: 0.3768, Train Pixel Accuracy: 88.34%\n",
      "  Validation Loss: 1.3349, Validation Pixel Accuracy: 73.64%\n",
      "  Current learning rate: 0.000001\n",
      "------------------------------\n",
      "--- Epoch 398/500 ---\n"
     ]
    },
    {
     "name": "stderr",
     "output_type": "stream",
     "text": [
      "Training: 100%|\u001b[32m██████████\u001b[0m| 23/23 [00:22<00:00,  1.02it/s, loss=0.3706]\n",
      "Validation: 100%|\u001b[31m██████████\u001b[0m| 23/23 [00:14<00:00,  1.54it/s, loss=1.2654]\n"
     ]
    },
    {
     "name": "stdout",
     "output_type": "stream",
     "text": [
      "\n",
      "Epoch 398 Summary:\n",
      "  Train Loss: 0.3766, Train Pixel Accuracy: 88.34%\n",
      "  Validation Loss: 1.3346, Validation Pixel Accuracy: 73.63%\n",
      "  Current learning rate: 0.000001\n",
      "------------------------------\n",
      "--- Epoch 399/500 ---\n"
     ]
    },
    {
     "name": "stderr",
     "output_type": "stream",
     "text": [
      "Training: 100%|\u001b[32m██████████\u001b[0m| 23/23 [00:22<00:00,  1.04it/s, loss=0.3653]\n",
      "Validation: 100%|\u001b[31m██████████\u001b[0m| 23/23 [00:14<00:00,  1.61it/s, loss=1.2660]\n"
     ]
    },
    {
     "name": "stdout",
     "output_type": "stream",
     "text": [
      "\n",
      "Epoch 399 Summary:\n",
      "  Train Loss: 0.3765, Train Pixel Accuracy: 88.34%\n",
      "  Validation Loss: 1.3356, Validation Pixel Accuracy: 73.64%\n",
      "  Current learning rate: 0.000001\n",
      "------------------------------\n",
      "--- Epoch 400/500 ---\n"
     ]
    },
    {
     "name": "stderr",
     "output_type": "stream",
     "text": [
      "Training: 100%|\u001b[32m██████████\u001b[0m| 23/23 [00:22<00:00,  1.03it/s, loss=0.4027]\n",
      "Validation: 100%|\u001b[31m██████████\u001b[0m| 23/23 [00:14<00:00,  1.58it/s, loss=1.2663]\n"
     ]
    },
    {
     "name": "stdout",
     "output_type": "stream",
     "text": [
      "\n",
      "Epoch 400 Summary:\n",
      "  Train Loss: 0.3764, Train Pixel Accuracy: 88.34%\n",
      "  Validation Loss: 1.3353, Validation Pixel Accuracy: 73.63%\n",
      "  Current learning rate: 0.000001\n",
      "------------------------------\n",
      "--- Epoch 401/500 ---\n"
     ]
    },
    {
     "name": "stderr",
     "output_type": "stream",
     "text": [
      "Training: 100%|\u001b[32m██████████\u001b[0m| 23/23 [00:22<00:00,  1.01it/s, loss=0.3760]\n",
      "Validation: 100%|\u001b[31m██████████\u001b[0m| 23/23 [00:14<00:00,  1.58it/s, loss=1.2665]\n"
     ]
    },
    {
     "name": "stdout",
     "output_type": "stream",
     "text": [
      "\n",
      "Epoch 401 Summary:\n",
      "  Train Loss: 0.3764, Train Pixel Accuracy: 88.35%\n",
      "  Validation Loss: 1.3357, Validation Pixel Accuracy: 73.63%\n",
      "  Current learning rate: 0.000001\n",
      "------------------------------\n",
      "--- Epoch 402/500 ---\n"
     ]
    },
    {
     "name": "stderr",
     "output_type": "stream",
     "text": [
      "Training: 100%|\u001b[32m██████████\u001b[0m| 23/23 [00:22<00:00,  1.02it/s, loss=0.3661]\n",
      "Validation: 100%|\u001b[31m██████████\u001b[0m| 23/23 [00:14<00:00,  1.62it/s, loss=1.2666]\n"
     ]
    },
    {
     "name": "stdout",
     "output_type": "stream",
     "text": [
      "\n",
      "Epoch 402 Summary:\n",
      "  Train Loss: 0.3762, Train Pixel Accuracy: 88.35%\n",
      "  Validation Loss: 1.3363, Validation Pixel Accuracy: 73.63%\n",
      "  Current learning rate: 0.000001\n",
      "------------------------------\n",
      "--- Epoch 403/500 ---\n"
     ]
    },
    {
     "name": "stderr",
     "output_type": "stream",
     "text": [
      "Training: 100%|\u001b[32m██████████\u001b[0m| 23/23 [00:22<00:00,  1.01it/s, loss=0.3910]\n",
      "Validation: 100%|\u001b[31m██████████\u001b[0m| 23/23 [00:14<00:00,  1.62it/s, loss=1.2667]\n"
     ]
    },
    {
     "name": "stdout",
     "output_type": "stream",
     "text": [
      "\n",
      "Epoch 403 Summary:\n",
      "  Train Loss: 0.3763, Train Pixel Accuracy: 88.36%\n",
      "  Validation Loss: 1.3364, Validation Pixel Accuracy: 73.62%\n",
      "  Current learning rate: 0.000001\n",
      "------------------------------\n",
      "--- Epoch 404/500 ---\n"
     ]
    },
    {
     "name": "stderr",
     "output_type": "stream",
     "text": [
      "Training: 100%|\u001b[32m██████████\u001b[0m| 23/23 [00:22<00:00,  1.01it/s, loss=0.3937]\n",
      "Validation: 100%|\u001b[31m██████████\u001b[0m| 23/23 [00:14<00:00,  1.56it/s, loss=1.2670]\n"
     ]
    },
    {
     "name": "stdout",
     "output_type": "stream",
     "text": [
      "\n",
      "Epoch 404 Summary:\n",
      "  Train Loss: 0.3761, Train Pixel Accuracy: 88.36%\n",
      "  Validation Loss: 1.3373, Validation Pixel Accuracy: 73.63%\n",
      "  Current learning rate: 0.000001\n",
      "------------------------------\n",
      "--- Epoch 405/500 ---\n"
     ]
    },
    {
     "name": "stderr",
     "output_type": "stream",
     "text": [
      "Training: 100%|\u001b[32m██████████\u001b[0m| 23/23 [00:22<00:00,  1.02it/s, loss=0.3946]\n",
      "Validation: 100%|\u001b[31m██████████\u001b[0m| 23/23 [00:14<00:00,  1.60it/s, loss=1.2671]\n"
     ]
    },
    {
     "name": "stdout",
     "output_type": "stream",
     "text": [
      "\n",
      "Epoch 405 Summary:\n",
      "  Train Loss: 0.3760, Train Pixel Accuracy: 88.36%\n",
      "  Validation Loss: 1.3366, Validation Pixel Accuracy: 73.63%\n",
      "  Current learning rate: 0.000001\n",
      "------------------------------\n",
      "--- Epoch 406/500 ---\n"
     ]
    },
    {
     "name": "stderr",
     "output_type": "stream",
     "text": [
      "Training: 100%|\u001b[32m██████████\u001b[0m| 23/23 [00:22<00:00,  1.02it/s, loss=0.3723]\n",
      "Validation: 100%|\u001b[31m██████████\u001b[0m| 23/23 [00:15<00:00,  1.51it/s, loss=1.2673]\n"
     ]
    },
    {
     "name": "stdout",
     "output_type": "stream",
     "text": [
      "\n",
      "Epoch 406 Summary:\n",
      "  Train Loss: 0.3758, Train Pixel Accuracy: 88.37%\n",
      "  Validation Loss: 1.3369, Validation Pixel Accuracy: 73.63%\n",
      "  Current learning rate: 0.000001\n",
      "------------------------------\n",
      "--- Epoch 407/500 ---\n"
     ]
    },
    {
     "name": "stderr",
     "output_type": "stream",
     "text": [
      "Training: 100%|\u001b[32m██████████\u001b[0m| 23/23 [00:22<00:00,  1.02it/s, loss=0.3583]\n",
      "Validation: 100%|\u001b[31m██████████\u001b[0m| 23/23 [00:14<00:00,  1.55it/s, loss=1.2673]\n"
     ]
    },
    {
     "name": "stdout",
     "output_type": "stream",
     "text": [
      "\n",
      "Epoch 407 Summary:\n",
      "  Train Loss: 0.3756, Train Pixel Accuracy: 88.37%\n",
      "  Validation Loss: 1.3373, Validation Pixel Accuracy: 73.62%\n",
      "  Current learning rate: 0.000001\n",
      "------------------------------\n",
      "--- Epoch 408/500 ---\n"
     ]
    },
    {
     "name": "stderr",
     "output_type": "stream",
     "text": [
      "Training: 100%|\u001b[32m██████████\u001b[0m| 23/23 [00:22<00:00,  1.02it/s, loss=0.4133]\n",
      "Validation: 100%|\u001b[31m██████████\u001b[0m| 23/23 [00:14<00:00,  1.60it/s, loss=1.2685]\n"
     ]
    },
    {
     "name": "stdout",
     "output_type": "stream",
     "text": [
      "\n",
      "Epoch 408 Summary:\n",
      "  Train Loss: 0.3759, Train Pixel Accuracy: 88.37%\n",
      "  Validation Loss: 1.3379, Validation Pixel Accuracy: 73.63%\n",
      "  Current learning rate: 0.000001\n",
      "------------------------------\n",
      "--- Epoch 409/500 ---\n"
     ]
    },
    {
     "name": "stderr",
     "output_type": "stream",
     "text": [
      "Training: 100%|\u001b[32m██████████\u001b[0m| 23/23 [00:22<00:00,  1.02it/s, loss=0.3667]\n",
      "Validation: 100%|\u001b[31m██████████\u001b[0m| 23/23 [00:14<00:00,  1.57it/s, loss=1.2680]\n"
     ]
    },
    {
     "name": "stdout",
     "output_type": "stream",
     "text": [
      "\n",
      "Epoch 409 Summary:\n",
      "  Train Loss: 0.3755, Train Pixel Accuracy: 88.38%\n",
      "  Validation Loss: 1.3381, Validation Pixel Accuracy: 73.63%\n",
      "  Current learning rate: 0.000001\n",
      "------------------------------\n",
      "--- Epoch 410/500 ---\n"
     ]
    },
    {
     "name": "stderr",
     "output_type": "stream",
     "text": [
      "Training: 100%|\u001b[32m██████████\u001b[0m| 23/23 [00:22<00:00,  1.01it/s, loss=0.4409]\n",
      "Validation: 100%|\u001b[31m██████████\u001b[0m| 23/23 [00:14<00:00,  1.58it/s, loss=1.2680]\n"
     ]
    },
    {
     "name": "stdout",
     "output_type": "stream",
     "text": [
      "\n",
      "Epoch 410 Summary:\n",
      "  Train Loss: 0.3758, Train Pixel Accuracy: 88.38%\n",
      "  Validation Loss: 1.3379, Validation Pixel Accuracy: 73.63%\n",
      "  Current learning rate: 0.000001\n",
      "------------------------------\n",
      "--- Epoch 411/500 ---\n"
     ]
    },
    {
     "name": "stderr",
     "output_type": "stream",
     "text": [
      "Training: 100%|\u001b[32m██████████\u001b[0m| 23/23 [00:22<00:00,  1.00it/s, loss=0.3265]\n",
      "Validation: 100%|\u001b[31m██████████\u001b[0m| 23/23 [00:14<00:00,  1.56it/s, loss=1.2684]\n"
     ]
    },
    {
     "name": "stdout",
     "output_type": "stream",
     "text": [
      "\n",
      "Epoch 411 Summary:\n",
      "  Train Loss: 0.3752, Train Pixel Accuracy: 88.38%\n",
      "  Validation Loss: 1.3387, Validation Pixel Accuracy: 73.63%\n",
      "  Current learning rate: 0.000001\n",
      "------------------------------\n",
      "--- Epoch 412/500 ---\n"
     ]
    },
    {
     "name": "stderr",
     "output_type": "stream",
     "text": [
      "Training: 100%|\u001b[32m██████████\u001b[0m| 23/23 [00:22<00:00,  1.00it/s, loss=0.3889]\n",
      "Validation: 100%|\u001b[31m██████████\u001b[0m| 23/23 [00:14<00:00,  1.54it/s, loss=1.2687]\n"
     ]
    },
    {
     "name": "stdout",
     "output_type": "stream",
     "text": [
      "\n",
      "Epoch 412 Summary:\n",
      "  Train Loss: 0.3753, Train Pixel Accuracy: 88.38%\n",
      "  Validation Loss: 1.3388, Validation Pixel Accuracy: 73.62%\n",
      "  Current learning rate: 0.000001\n",
      "------------------------------\n",
      "--- Epoch 413/500 ---\n"
     ]
    },
    {
     "name": "stderr",
     "output_type": "stream",
     "text": [
      "Training: 100%|\u001b[32m██████████\u001b[0m| 23/23 [00:22<00:00,  1.01it/s, loss=0.3832]\n",
      "Validation: 100%|\u001b[31m██████████\u001b[0m| 23/23 [00:14<00:00,  1.56it/s, loss=1.2689]\n"
     ]
    },
    {
     "name": "stdout",
     "output_type": "stream",
     "text": [
      "\n",
      "Epoch 413 Summary:\n",
      "  Train Loss: 0.3753, Train Pixel Accuracy: 88.38%\n",
      "  Validation Loss: 1.3393, Validation Pixel Accuracy: 73.63%\n",
      "  Current learning rate: 0.000001\n",
      "------------------------------\n",
      "--- Epoch 414/500 ---\n"
     ]
    },
    {
     "name": "stderr",
     "output_type": "stream",
     "text": [
      "Training: 100%|\u001b[32m██████████\u001b[0m| 23/23 [00:23<00:00,  1.01s/it, loss=0.3655]\n",
      "Validation: 100%|\u001b[31m██████████\u001b[0m| 23/23 [00:15<00:00,  1.53it/s, loss=1.2689]\n"
     ]
    },
    {
     "name": "stdout",
     "output_type": "stream",
     "text": [
      "\n",
      "Epoch 414 Summary:\n",
      "  Train Loss: 0.3750, Train Pixel Accuracy: 88.39%\n",
      "  Validation Loss: 1.3391, Validation Pixel Accuracy: 73.62%\n",
      "  Current learning rate: 0.000001\n",
      "------------------------------\n",
      "--- Epoch 415/500 ---\n"
     ]
    },
    {
     "name": "stderr",
     "output_type": "stream",
     "text": [
      "Training: 100%|\u001b[32m██████████\u001b[0m| 23/23 [00:22<00:00,  1.01it/s, loss=0.3620]\n",
      "Validation: 100%|\u001b[31m██████████\u001b[0m| 23/23 [00:14<00:00,  1.57it/s, loss=1.2689]\n"
     ]
    },
    {
     "name": "stdout",
     "output_type": "stream",
     "text": [
      "\n",
      "Epoch 415 Summary:\n",
      "  Train Loss: 0.3748, Train Pixel Accuracy: 88.39%\n",
      "  Validation Loss: 1.3393, Validation Pixel Accuracy: 73.61%\n",
      "  Current learning rate: 0.000001\n",
      "------------------------------\n",
      "--- Epoch 416/500 ---\n"
     ]
    },
    {
     "name": "stderr",
     "output_type": "stream",
     "text": [
      "Training: 100%|\u001b[32m██████████\u001b[0m| 23/23 [00:22<00:00,  1.01it/s, loss=0.4241]\n",
      "Validation: 100%|\u001b[31m██████████\u001b[0m| 23/23 [00:14<00:00,  1.58it/s, loss=1.2695]\n"
     ]
    },
    {
     "name": "stdout",
     "output_type": "stream",
     "text": [
      "\n",
      "Epoch 416 Summary:\n",
      "  Train Loss: 0.3751, Train Pixel Accuracy: 88.40%\n",
      "  Validation Loss: 1.3399, Validation Pixel Accuracy: 73.62%\n",
      "  Current learning rate: 0.000001\n",
      "------------------------------\n",
      "--- Epoch 417/500 ---\n"
     ]
    },
    {
     "name": "stderr",
     "output_type": "stream",
     "text": [
      "Training: 100%|\u001b[32m██████████\u001b[0m| 23/23 [00:22<00:00,  1.01it/s, loss=0.3788]\n",
      "Validation: 100%|\u001b[31m██████████\u001b[0m| 23/23 [00:14<00:00,  1.59it/s, loss=1.2698]\n"
     ]
    },
    {
     "name": "stdout",
     "output_type": "stream",
     "text": [
      "\n",
      "Epoch 417 Summary:\n",
      "  Train Loss: 0.3747, Train Pixel Accuracy: 88.40%\n",
      "  Validation Loss: 1.3397, Validation Pixel Accuracy: 73.62%\n",
      "  Current learning rate: 0.000001\n",
      "------------------------------\n",
      "--- Epoch 418/500 ---\n"
     ]
    },
    {
     "name": "stderr",
     "output_type": "stream",
     "text": [
      "Training: 100%|\u001b[32m██████████\u001b[0m| 23/23 [00:22<00:00,  1.02it/s, loss=0.3118]\n",
      "Validation: 100%|\u001b[31m██████████\u001b[0m| 23/23 [00:14<00:00,  1.56it/s, loss=1.2697]\n"
     ]
    },
    {
     "name": "stdout",
     "output_type": "stream",
     "text": [
      "\n",
      "Epoch 418 Summary:\n",
      "  Train Loss: 0.3743, Train Pixel Accuracy: 88.40%\n",
      "  Validation Loss: 1.3400, Validation Pixel Accuracy: 73.62%\n",
      "  Current learning rate: 0.000001\n",
      "------------------------------\n",
      "--- Epoch 419/500 ---\n"
     ]
    },
    {
     "name": "stderr",
     "output_type": "stream",
     "text": [
      "Training: 100%|\u001b[32m██████████\u001b[0m| 23/23 [00:22<00:00,  1.01it/s, loss=0.3683]\n",
      "Validation: 100%|\u001b[31m██████████\u001b[0m| 23/23 [00:14<00:00,  1.57it/s, loss=1.2704]\n"
     ]
    },
    {
     "name": "stdout",
     "output_type": "stream",
     "text": [
      "\n",
      "Epoch 419 Summary:\n",
      "  Train Loss: 0.3746, Train Pixel Accuracy: 88.40%\n",
      "  Validation Loss: 1.3410, Validation Pixel Accuracy: 73.63%\n",
      "  Current learning rate: 0.000001\n",
      "------------------------------\n",
      "--- Epoch 420/500 ---\n"
     ]
    },
    {
     "name": "stderr",
     "output_type": "stream",
     "text": [
      "Training: 100%|\u001b[32m██████████\u001b[0m| 23/23 [00:22<00:00,  1.03it/s, loss=0.3405]\n",
      "Validation: 100%|\u001b[31m██████████\u001b[0m| 23/23 [00:14<00:00,  1.59it/s, loss=1.2701]\n"
     ]
    },
    {
     "name": "stdout",
     "output_type": "stream",
     "text": [
      "\n",
      "Epoch 420 Summary:\n",
      "  Train Loss: 0.3742, Train Pixel Accuracy: 88.41%\n",
      "  Validation Loss: 1.3407, Validation Pixel Accuracy: 73.61%\n",
      "  Current learning rate: 0.000001\n",
      "------------------------------\n",
      "--- Epoch 421/500 ---\n"
     ]
    },
    {
     "name": "stderr",
     "output_type": "stream",
     "text": [
      "Training: 100%|\u001b[32m██████████\u001b[0m| 23/23 [00:22<00:00,  1.01it/s, loss=0.3749]\n",
      "Validation: 100%|\u001b[31m██████████\u001b[0m| 23/23 [00:14<00:00,  1.56it/s, loss=1.2708]\n"
     ]
    },
    {
     "name": "stdout",
     "output_type": "stream",
     "text": [
      "\n",
      "Epoch 421 Summary:\n",
      "  Train Loss: 0.3744, Train Pixel Accuracy: 88.41%\n",
      "  Validation Loss: 1.3417, Validation Pixel Accuracy: 73.63%\n",
      "  Current learning rate: 0.000001\n",
      "------------------------------\n",
      "--- Epoch 422/500 ---\n"
     ]
    },
    {
     "name": "stderr",
     "output_type": "stream",
     "text": [
      "Training: 100%|\u001b[32m██████████\u001b[0m| 23/23 [00:22<00:00,  1.01it/s, loss=0.3669]\n",
      "Validation: 100%|\u001b[31m██████████\u001b[0m| 23/23 [00:14<00:00,  1.60it/s, loss=1.2705]\n"
     ]
    },
    {
     "name": "stdout",
     "output_type": "stream",
     "text": [
      "\n",
      "Epoch 422 Summary:\n",
      "  Train Loss: 0.3742, Train Pixel Accuracy: 88.42%\n",
      "  Validation Loss: 1.3409, Validation Pixel Accuracy: 73.61%\n",
      "  Current learning rate: 0.000001\n",
      "------------------------------\n",
      "--- Epoch 423/500 ---\n"
     ]
    },
    {
     "name": "stderr",
     "output_type": "stream",
     "text": [
      "Training: 100%|\u001b[32m██████████\u001b[0m| 23/23 [00:22<00:00,  1.03it/s, loss=0.3259]\n",
      "Validation: 100%|\u001b[31m██████████\u001b[0m| 23/23 [00:14<00:00,  1.61it/s, loss=1.2704]\n"
     ]
    },
    {
     "name": "stdout",
     "output_type": "stream",
     "text": [
      "\n",
      "Epoch 423 Summary:\n",
      "  Train Loss: 0.3739, Train Pixel Accuracy: 88.42%\n",
      "  Validation Loss: 1.3413, Validation Pixel Accuracy: 73.61%\n",
      "  Current learning rate: 0.000001\n",
      "------------------------------\n",
      "--- Epoch 424/500 ---\n"
     ]
    },
    {
     "name": "stderr",
     "output_type": "stream",
     "text": [
      "Training: 100%|\u001b[32m██████████\u001b[0m| 23/23 [00:22<00:00,  1.01it/s, loss=0.2948]\n",
      "Validation: 100%|\u001b[31m██████████\u001b[0m| 23/23 [00:14<00:00,  1.61it/s, loss=1.2713]\n"
     ]
    },
    {
     "name": "stdout",
     "output_type": "stream",
     "text": [
      "\n",
      "Epoch 424 Summary:\n",
      "  Train Loss: 0.3736, Train Pixel Accuracy: 88.42%\n",
      "  Validation Loss: 1.3422, Validation Pixel Accuracy: 73.62%\n",
      "  Current learning rate: 0.000001\n",
      "------------------------------\n",
      "--- Epoch 425/500 ---\n"
     ]
    },
    {
     "name": "stderr",
     "output_type": "stream",
     "text": [
      "Training: 100%|\u001b[32m██████████\u001b[0m| 23/23 [00:22<00:00,  1.00it/s, loss=0.3894]\n",
      "Validation: 100%|\u001b[31m██████████\u001b[0m| 23/23 [00:14<00:00,  1.55it/s, loss=1.2716]\n"
     ]
    },
    {
     "name": "stdout",
     "output_type": "stream",
     "text": [
      "\n",
      "Epoch 425 Summary:\n",
      "  Train Loss: 0.3740, Train Pixel Accuracy: 88.42%\n",
      "  Validation Loss: 1.3423, Validation Pixel Accuracy: 73.61%\n",
      "  Current learning rate: 0.000001\n",
      "------------------------------\n",
      "--- Epoch 426/500 ---\n"
     ]
    },
    {
     "name": "stderr",
     "output_type": "stream",
     "text": [
      "Training: 100%|\u001b[32m██████████\u001b[0m| 23/23 [00:22<00:00,  1.03it/s, loss=0.3286]\n",
      "Validation: 100%|\u001b[31m██████████\u001b[0m| 23/23 [00:14<00:00,  1.57it/s, loss=1.2712]\n"
     ]
    },
    {
     "name": "stdout",
     "output_type": "stream",
     "text": [
      "\n",
      "Epoch 426 Summary:\n",
      "  Train Loss: 0.3735, Train Pixel Accuracy: 88.43%\n",
      "  Validation Loss: 1.3421, Validation Pixel Accuracy: 73.61%\n",
      "  Current learning rate: 0.000001\n",
      "------------------------------\n",
      "--- Epoch 427/500 ---\n"
     ]
    },
    {
     "name": "stderr",
     "output_type": "stream",
     "text": [
      "Training: 100%|\u001b[32m██████████\u001b[0m| 23/23 [00:22<00:00,  1.03it/s, loss=0.3280]\n",
      "Validation: 100%|\u001b[31m██████████\u001b[0m| 23/23 [00:14<00:00,  1.56it/s, loss=1.2718]\n"
     ]
    },
    {
     "name": "stdout",
     "output_type": "stream",
     "text": [
      "\n",
      "Epoch 427 Summary:\n",
      "  Train Loss: 0.3735, Train Pixel Accuracy: 88.43%\n",
      "  Validation Loss: 1.3426, Validation Pixel Accuracy: 73.62%\n",
      "  Current learning rate: 0.000001\n",
      "------------------------------\n",
      "--- Epoch 428/500 ---\n"
     ]
    },
    {
     "name": "stderr",
     "output_type": "stream",
     "text": [
      "Training: 100%|\u001b[32m██████████\u001b[0m| 23/23 [00:22<00:00,  1.04it/s, loss=0.3616]\n",
      "Validation: 100%|\u001b[31m██████████\u001b[0m| 23/23 [00:14<00:00,  1.58it/s, loss=1.2721]\n"
     ]
    },
    {
     "name": "stdout",
     "output_type": "stream",
     "text": [
      "\n",
      "Epoch 428 Summary:\n",
      "  Train Loss: 0.3737, Train Pixel Accuracy: 88.43%\n",
      "  Validation Loss: 1.3432, Validation Pixel Accuracy: 73.61%\n",
      "  Current learning rate: 0.000001\n",
      "------------------------------\n",
      "--- Epoch 429/500 ---\n"
     ]
    },
    {
     "name": "stderr",
     "output_type": "stream",
     "text": [
      "Training: 100%|\u001b[32m██████████\u001b[0m| 23/23 [00:22<00:00,  1.00it/s, loss=0.3720]\n",
      "Validation: 100%|\u001b[31m██████████\u001b[0m| 23/23 [00:14<00:00,  1.63it/s, loss=1.2727]\n"
     ]
    },
    {
     "name": "stdout",
     "output_type": "stream",
     "text": [
      "\n",
      "Epoch 429 Summary:\n",
      "  Train Loss: 0.3736, Train Pixel Accuracy: 88.43%\n",
      "  Validation Loss: 1.3432, Validation Pixel Accuracy: 73.61%\n",
      "  Current learning rate: 0.000001\n",
      "------------------------------\n",
      "--- Epoch 430/500 ---\n"
     ]
    },
    {
     "name": "stderr",
     "output_type": "stream",
     "text": [
      "Training: 100%|\u001b[32m██████████\u001b[0m| 23/23 [00:22<00:00,  1.03it/s, loss=0.4137]\n",
      "Validation: 100%|\u001b[31m██████████\u001b[0m| 23/23 [00:14<00:00,  1.61it/s, loss=1.2728]\n"
     ]
    },
    {
     "name": "stdout",
     "output_type": "stream",
     "text": [
      "\n",
      "Epoch 430 Summary:\n",
      "  Train Loss: 0.3738, Train Pixel Accuracy: 88.44%\n",
      "  Validation Loss: 1.3438, Validation Pixel Accuracy: 73.61%\n",
      "  Current learning rate: 0.000001\n",
      "------------------------------\n",
      "--- Epoch 431/500 ---\n"
     ]
    },
    {
     "name": "stderr",
     "output_type": "stream",
     "text": [
      "Training: 100%|\u001b[32m██████████\u001b[0m| 23/23 [00:22<00:00,  1.01it/s, loss=0.3037]\n",
      "Validation: 100%|\u001b[31m██████████\u001b[0m| 23/23 [00:14<00:00,  1.60it/s, loss=1.2723]\n"
     ]
    },
    {
     "name": "stdout",
     "output_type": "stream",
     "text": [
      "\n",
      "Epoch 431 Summary:\n",
      "  Train Loss: 0.3730, Train Pixel Accuracy: 88.44%\n",
      "  Validation Loss: 1.3432, Validation Pixel Accuracy: 73.60%\n",
      "  Current learning rate: 0.000001\n",
      "------------------------------\n",
      "--- Epoch 432/500 ---\n"
     ]
    },
    {
     "name": "stderr",
     "output_type": "stream",
     "text": [
      "Training: 100%|\u001b[32m██████████\u001b[0m| 23/23 [00:22<00:00,  1.02it/s, loss=0.4407]\n",
      "Validation: 100%|\u001b[31m██████████\u001b[0m| 23/23 [00:14<00:00,  1.59it/s, loss=1.2730]\n"
     ]
    },
    {
     "name": "stdout",
     "output_type": "stream",
     "text": [
      "\n",
      "Epoch 432 Summary:\n",
      "  Train Loss: 0.3737, Train Pixel Accuracy: 88.44%\n",
      "  Validation Loss: 1.3442, Validation Pixel Accuracy: 73.61%\n",
      "  Current learning rate: 0.000001\n",
      "------------------------------\n",
      "--- Epoch 433/500 ---\n"
     ]
    },
    {
     "name": "stderr",
     "output_type": "stream",
     "text": [
      "Training: 100%|\u001b[32m██████████\u001b[0m| 23/23 [00:22<00:00,  1.00it/s, loss=0.4167]\n",
      "Validation: 100%|\u001b[31m██████████\u001b[0m| 23/23 [00:14<00:00,  1.54it/s, loss=1.2728]\n"
     ]
    },
    {
     "name": "stdout",
     "output_type": "stream",
     "text": [
      "\n",
      "Epoch 433 Summary:\n",
      "  Train Loss: 0.3736, Train Pixel Accuracy: 88.45%\n",
      "  Validation Loss: 1.3442, Validation Pixel Accuracy: 73.61%\n",
      "  Current learning rate: 0.000001\n",
      "------------------------------\n",
      "--- Epoch 434/500 ---\n"
     ]
    },
    {
     "name": "stderr",
     "output_type": "stream",
     "text": [
      "Training: 100%|\u001b[32m██████████\u001b[0m| 23/23 [00:22<00:00,  1.03it/s, loss=0.3209]\n",
      "Validation: 100%|\u001b[31m██████████\u001b[0m| 23/23 [00:14<00:00,  1.57it/s, loss=1.2725]\n"
     ]
    },
    {
     "name": "stdout",
     "output_type": "stream",
     "text": [
      "\n",
      "Epoch 434 Summary:\n",
      "  Train Loss: 0.3728, Train Pixel Accuracy: 88.45%\n",
      "  Validation Loss: 1.3443, Validation Pixel Accuracy: 73.59%\n",
      "  Current learning rate: 0.000001\n",
      "------------------------------\n",
      "--- Epoch 435/500 ---\n"
     ]
    },
    {
     "name": "stderr",
     "output_type": "stream",
     "text": [
      "Training: 100%|\u001b[32m██████████\u001b[0m| 23/23 [00:22<00:00,  1.01it/s, loss=0.3634]\n",
      "Validation: 100%|\u001b[31m██████████\u001b[0m| 23/23 [00:15<00:00,  1.52it/s, loss=1.2734]\n"
     ]
    },
    {
     "name": "stdout",
     "output_type": "stream",
     "text": [
      "\n",
      "Epoch 435 Summary:\n",
      "  Train Loss: 0.3730, Train Pixel Accuracy: 88.45%\n",
      "  Validation Loss: 1.3445, Validation Pixel Accuracy: 73.61%\n",
      "  Current learning rate: 0.000001\n",
      "------------------------------\n",
      "--- Epoch 436/500 ---\n"
     ]
    },
    {
     "name": "stderr",
     "output_type": "stream",
     "text": [
      "Training: 100%|\u001b[32m██████████\u001b[0m| 23/23 [00:23<00:00,  1.00s/it, loss=0.3411]\n",
      "Validation: 100%|\u001b[31m██████████\u001b[0m| 23/23 [00:15<00:00,  1.46it/s, loss=1.2737]\n"
     ]
    },
    {
     "name": "stdout",
     "output_type": "stream",
     "text": [
      "\n",
      "Epoch 436 Summary:\n",
      "  Train Loss: 0.3727, Train Pixel Accuracy: 88.46%\n",
      "  Validation Loss: 1.3452, Validation Pixel Accuracy: 73.61%\n",
      "  Current learning rate: 0.000001\n",
      "------------------------------\n",
      "--- Epoch 437/500 ---\n"
     ]
    },
    {
     "name": "stderr",
     "output_type": "stream",
     "text": [
      "Training: 100%|\u001b[32m██████████\u001b[0m| 23/23 [00:23<00:00,  1.04s/it, loss=0.3918]\n",
      "Validation: 100%|\u001b[31m██████████\u001b[0m| 23/23 [00:14<00:00,  1.54it/s, loss=1.2737]\n"
     ]
    },
    {
     "name": "stdout",
     "output_type": "stream",
     "text": [
      "\n",
      "Epoch 437 Summary:\n",
      "  Train Loss: 0.3730, Train Pixel Accuracy: 88.46%\n",
      "  Validation Loss: 1.3449, Validation Pixel Accuracy: 73.60%\n",
      "  Current learning rate: 0.000001\n",
      "------------------------------\n",
      "--- Epoch 438/500 ---\n"
     ]
    },
    {
     "name": "stderr",
     "output_type": "stream",
     "text": [
      "Training: 100%|\u001b[32m██████████\u001b[0m| 23/23 [00:23<00:00,  1.03s/it, loss=0.3330]\n",
      "Validation: 100%|\u001b[31m██████████\u001b[0m| 23/23 [00:15<00:00,  1.50it/s, loss=1.2747]\n"
     ]
    },
    {
     "name": "stdout",
     "output_type": "stream",
     "text": [
      "\n",
      "Epoch 438 Summary:\n",
      "  Train Loss: 0.3725, Train Pixel Accuracy: 88.46%\n",
      "  Validation Loss: 1.3460, Validation Pixel Accuracy: 73.62%\n",
      "  Current learning rate: 0.000001\n",
      "------------------------------\n",
      "--- Epoch 439/500 ---\n"
     ]
    },
    {
     "name": "stderr",
     "output_type": "stream",
     "text": [
      "Training: 100%|\u001b[32m██████████\u001b[0m| 23/23 [00:23<00:00,  1.02s/it, loss=0.3102]\n",
      "Validation: 100%|\u001b[31m██████████\u001b[0m| 23/23 [00:16<00:00,  1.42it/s, loss=1.2738]\n"
     ]
    },
    {
     "name": "stdout",
     "output_type": "stream",
     "text": [
      "\n",
      "Epoch 439 Summary:\n",
      "  Train Loss: 0.3723, Train Pixel Accuracy: 88.46%\n",
      "  Validation Loss: 1.3456, Validation Pixel Accuracy: 73.60%\n",
      "  Current learning rate: 0.000001\n",
      "------------------------------\n",
      "--- Epoch 440/500 ---\n"
     ]
    },
    {
     "name": "stderr",
     "output_type": "stream",
     "text": [
      "Training: 100%|\u001b[32m██████████\u001b[0m| 23/23 [00:24<00:00,  1.06s/it, loss=0.3877]\n",
      "Validation: 100%|\u001b[31m██████████\u001b[0m| 23/23 [00:15<00:00,  1.45it/s, loss=1.2746]\n"
     ]
    },
    {
     "name": "stdout",
     "output_type": "stream",
     "text": [
      "\n",
      "Epoch 440 Summary:\n",
      "  Train Loss: 0.3727, Train Pixel Accuracy: 88.47%\n",
      "  Validation Loss: 1.3462, Validation Pixel Accuracy: 73.60%\n",
      "  Current learning rate: 0.000001\n",
      "------------------------------\n",
      "--- Epoch 441/500 ---\n"
     ]
    },
    {
     "name": "stderr",
     "output_type": "stream",
     "text": [
      "Training: 100%|\u001b[32m██████████\u001b[0m| 23/23 [00:24<00:00,  1.06s/it, loss=0.3674]\n",
      "Validation: 100%|\u001b[31m██████████\u001b[0m| 23/23 [00:16<00:00,  1.41it/s, loss=1.2748]\n"
     ]
    },
    {
     "name": "stdout",
     "output_type": "stream",
     "text": [
      "\n",
      "Epoch 441 Summary:\n",
      "  Train Loss: 0.3723, Train Pixel Accuracy: 88.47%\n",
      "  Validation Loss: 1.3462, Validation Pixel Accuracy: 73.60%\n",
      "  Current learning rate: 0.000001\n",
      "------------------------------\n",
      "--- Epoch 442/500 ---\n"
     ]
    },
    {
     "name": "stderr",
     "output_type": "stream",
     "text": [
      "Training: 100%|\u001b[32m██████████\u001b[0m| 23/23 [00:23<00:00,  1.03s/it, loss=0.3655]\n",
      "Validation: 100%|\u001b[31m██████████\u001b[0m| 23/23 [00:16<00:00,  1.39it/s, loss=1.2750]\n"
     ]
    },
    {
     "name": "stdout",
     "output_type": "stream",
     "text": [
      "\n",
      "Epoch 442 Summary:\n",
      "  Train Loss: 0.3723, Train Pixel Accuracy: 88.48%\n",
      "  Validation Loss: 1.3467, Validation Pixel Accuracy: 73.61%\n",
      "  Current learning rate: 0.000001\n",
      "------------------------------\n",
      "--- Epoch 443/500 ---\n"
     ]
    },
    {
     "name": "stderr",
     "output_type": "stream",
     "text": [
      "Training: 100%|\u001b[32m██████████\u001b[0m| 23/23 [00:24<00:00,  1.08s/it, loss=0.3181]\n",
      "Validation: 100%|\u001b[31m██████████\u001b[0m| 23/23 [00:16<00:00,  1.42it/s, loss=1.2754]\n"
     ]
    },
    {
     "name": "stdout",
     "output_type": "stream",
     "text": [
      "\n",
      "Epoch 443 Summary:\n",
      "  Train Loss: 0.3719, Train Pixel Accuracy: 88.48%\n",
      "  Validation Loss: 1.3470, Validation Pixel Accuracy: 73.60%\n",
      "  Current learning rate: 0.000001\n",
      "------------------------------\n",
      "--- Epoch 444/500 ---\n"
     ]
    },
    {
     "name": "stderr",
     "output_type": "stream",
     "text": [
      "Training: 100%|\u001b[32m██████████\u001b[0m| 23/23 [00:24<00:00,  1.05s/it, loss=0.3621]\n",
      "Validation: 100%|\u001b[31m██████████\u001b[0m| 23/23 [00:16<00:00,  1.42it/s, loss=1.2753]\n"
     ]
    },
    {
     "name": "stdout",
     "output_type": "stream",
     "text": [
      "\n",
      "Epoch 444 Summary:\n",
      "  Train Loss: 0.3720, Train Pixel Accuracy: 88.48%\n",
      "  Validation Loss: 1.3470, Validation Pixel Accuracy: 73.60%\n",
      "  Current learning rate: 0.000001\n",
      "------------------------------\n",
      "--- Epoch 445/500 ---\n"
     ]
    },
    {
     "name": "stderr",
     "output_type": "stream",
     "text": [
      "Training: 100%|\u001b[32m██████████\u001b[0m| 23/23 [00:23<00:00,  1.01s/it, loss=0.3763]\n",
      "Validation: 100%|\u001b[31m██████████\u001b[0m| 23/23 [00:15<00:00,  1.50it/s, loss=1.2761]\n"
     ]
    },
    {
     "name": "stdout",
     "output_type": "stream",
     "text": [
      "\n",
      "Epoch 445 Summary:\n",
      "  Train Loss: 0.3721, Train Pixel Accuracy: 88.48%\n",
      "  Validation Loss: 1.3475, Validation Pixel Accuracy: 73.61%\n",
      "  Current learning rate: 0.000001\n",
      "------------------------------\n",
      "--- Epoch 446/500 ---\n"
     ]
    },
    {
     "name": "stderr",
     "output_type": "stream",
     "text": [
      "Training: 100%|\u001b[32m██████████\u001b[0m| 23/23 [00:23<00:00,  1.01s/it, loss=0.3269]\n",
      "Validation: 100%|\u001b[31m██████████\u001b[0m| 23/23 [00:15<00:00,  1.52it/s, loss=1.2760]\n"
     ]
    },
    {
     "name": "stdout",
     "output_type": "stream",
     "text": [
      "\n",
      "Epoch 446 Summary:\n",
      "  Train Loss: 0.3716, Train Pixel Accuracy: 88.49%\n",
      "  Validation Loss: 1.3480, Validation Pixel Accuracy: 73.60%\n",
      "  Current learning rate: 0.000001\n",
      "------------------------------\n",
      "--- Epoch 447/500 ---\n"
     ]
    },
    {
     "name": "stderr",
     "output_type": "stream",
     "text": [
      "Training: 100%|\u001b[32m██████████\u001b[0m| 23/23 [00:23<00:00,  1.01s/it, loss=0.3320]\n",
      "Validation: 100%|\u001b[31m██████████\u001b[0m| 23/23 [00:15<00:00,  1.53it/s, loss=1.2751]\n"
     ]
    },
    {
     "name": "stdout",
     "output_type": "stream",
     "text": [
      "\n",
      "Epoch 447 Summary:\n",
      "  Train Loss: 0.3716, Train Pixel Accuracy: 88.49%\n",
      "  Validation Loss: 1.3474, Validation Pixel Accuracy: 73.59%\n",
      "  Current learning rate: 0.000001\n",
      "------------------------------\n",
      "--- Epoch 448/500 ---\n"
     ]
    },
    {
     "name": "stderr",
     "output_type": "stream",
     "text": [
      "Training: 100%|\u001b[32m██████████\u001b[0m| 23/23 [00:22<00:00,  1.01it/s, loss=0.3903]\n",
      "Validation: 100%|\u001b[31m██████████\u001b[0m| 23/23 [00:14<00:00,  1.58it/s, loss=1.2759]\n"
     ]
    },
    {
     "name": "stdout",
     "output_type": "stream",
     "text": [
      "\n",
      "Epoch 448 Summary:\n",
      "  Train Loss: 0.3719, Train Pixel Accuracy: 88.50%\n",
      "  Validation Loss: 1.3479, Validation Pixel Accuracy: 73.60%\n",
      "  Current learning rate: 0.000001\n",
      "------------------------------\n",
      "--- Epoch 449/500 ---\n"
     ]
    },
    {
     "name": "stderr",
     "output_type": "stream",
     "text": [
      "Training: 100%|\u001b[32m██████████\u001b[0m| 23/23 [00:22<00:00,  1.03it/s, loss=0.3737]\n",
      "Validation: 100%|\u001b[31m██████████\u001b[0m| 23/23 [00:14<00:00,  1.59it/s, loss=1.2765]\n"
     ]
    },
    {
     "name": "stdout",
     "output_type": "stream",
     "text": [
      "\n",
      "Epoch 449 Summary:\n",
      "  Train Loss: 0.3716, Train Pixel Accuracy: 88.50%\n",
      "  Validation Loss: 1.3484, Validation Pixel Accuracy: 73.59%\n",
      "  Current learning rate: 0.000001\n",
      "------------------------------\n",
      "--- Epoch 450/500 ---\n"
     ]
    },
    {
     "name": "stderr",
     "output_type": "stream",
     "text": [
      "Training: 100%|\u001b[32m██████████\u001b[0m| 23/23 [00:22<00:00,  1.03it/s, loss=0.3682]\n",
      "Validation: 100%|\u001b[31m██████████\u001b[0m| 23/23 [00:14<00:00,  1.57it/s, loss=1.2766]\n"
     ]
    },
    {
     "name": "stdout",
     "output_type": "stream",
     "text": [
      "\n",
      "Epoch 450 Summary:\n",
      "  Train Loss: 0.3715, Train Pixel Accuracy: 88.50%\n",
      "  Validation Loss: 1.3486, Validation Pixel Accuracy: 73.59%\n",
      "  Current learning rate: 0.000001\n",
      "------------------------------\n",
      "--- Epoch 451/500 ---\n"
     ]
    },
    {
     "name": "stderr",
     "output_type": "stream",
     "text": [
      "Training: 100%|\u001b[32m██████████\u001b[0m| 23/23 [00:22<00:00,  1.02it/s, loss=0.3049]\n",
      "Validation: 100%|\u001b[31m██████████\u001b[0m| 23/23 [00:14<00:00,  1.59it/s, loss=1.2769]\n"
     ]
    },
    {
     "name": "stdout",
     "output_type": "stream",
     "text": [
      "\n",
      "Epoch 451 Summary:\n",
      "  Train Loss: 0.3711, Train Pixel Accuracy: 88.50%\n",
      "  Validation Loss: 1.3493, Validation Pixel Accuracy: 73.60%\n",
      "  Current learning rate: 0.000001\n",
      "------------------------------\n",
      "--- Epoch 452/500 ---\n"
     ]
    },
    {
     "name": "stderr",
     "output_type": "stream",
     "text": [
      "Training: 100%|\u001b[32m██████████\u001b[0m| 23/23 [00:22<00:00,  1.02it/s, loss=0.3083]\n",
      "Validation: 100%|\u001b[31m██████████\u001b[0m| 23/23 [00:14<00:00,  1.57it/s, loss=1.2765]\n"
     ]
    },
    {
     "name": "stdout",
     "output_type": "stream",
     "text": [
      "\n",
      "Epoch 452 Summary:\n",
      "  Train Loss: 0.3711, Train Pixel Accuracy: 88.51%\n",
      "  Validation Loss: 1.3491, Validation Pixel Accuracy: 73.58%\n",
      "  Current learning rate: 0.000001\n",
      "------------------------------\n",
      "--- Epoch 453/500 ---\n"
     ]
    },
    {
     "name": "stderr",
     "output_type": "stream",
     "text": [
      "Training: 100%|\u001b[32m██████████\u001b[0m| 23/23 [00:22<00:00,  1.03it/s, loss=0.3785]\n",
      "Validation: 100%|\u001b[31m██████████\u001b[0m| 23/23 [00:14<00:00,  1.62it/s, loss=1.2775]\n"
     ]
    },
    {
     "name": "stdout",
     "output_type": "stream",
     "text": [
      "\n",
      "Epoch 453 Summary:\n",
      "  Train Loss: 0.3713, Train Pixel Accuracy: 88.51%\n",
      "  Validation Loss: 1.3496, Validation Pixel Accuracy: 73.60%\n",
      "  Current learning rate: 0.000001\n",
      "------------------------------\n",
      "--- Epoch 454/500 ---\n"
     ]
    },
    {
     "name": "stderr",
     "output_type": "stream",
     "text": [
      "Training: 100%|\u001b[32m██████████\u001b[0m| 23/23 [00:22<00:00,  1.01it/s, loss=0.3742]\n",
      "Validation: 100%|\u001b[31m██████████\u001b[0m| 23/23 [00:14<00:00,  1.62it/s, loss=1.2778]\n"
     ]
    },
    {
     "name": "stdout",
     "output_type": "stream",
     "text": [
      "\n",
      "Epoch 454 Summary:\n",
      "  Train Loss: 0.3712, Train Pixel Accuracy: 88.51%\n",
      "  Validation Loss: 1.3500, Validation Pixel Accuracy: 73.60%\n",
      "  Current learning rate: 0.000001\n",
      "------------------------------\n",
      "--- Epoch 455/500 ---\n"
     ]
    },
    {
     "name": "stderr",
     "output_type": "stream",
     "text": [
      "Training: 100%|\u001b[32m██████████\u001b[0m| 23/23 [00:22<00:00,  1.01it/s, loss=0.3516]\n",
      "Validation: 100%|\u001b[31m██████████\u001b[0m| 23/23 [00:14<00:00,  1.55it/s, loss=1.2779]\n"
     ]
    },
    {
     "name": "stdout",
     "output_type": "stream",
     "text": [
      "\n",
      "Epoch 455 Summary:\n",
      "  Train Loss: 0.3709, Train Pixel Accuracy: 88.51%\n",
      "  Validation Loss: 1.3500, Validation Pixel Accuracy: 73.59%\n",
      "  Current learning rate: 0.000001\n",
      "------------------------------\n",
      "--- Epoch 456/500 ---\n"
     ]
    },
    {
     "name": "stderr",
     "output_type": "stream",
     "text": [
      "Training: 100%|\u001b[32m██████████\u001b[0m| 23/23 [00:22<00:00,  1.03it/s, loss=0.3141]\n",
      "Validation: 100%|\u001b[31m██████████\u001b[0m| 23/23 [00:14<00:00,  1.56it/s, loss=1.2778]\n"
     ]
    },
    {
     "name": "stdout",
     "output_type": "stream",
     "text": [
      "\n",
      "Epoch 456 Summary:\n",
      "  Train Loss: 0.3708, Train Pixel Accuracy: 88.52%\n",
      "  Validation Loss: 1.3503, Validation Pixel Accuracy: 73.59%\n",
      "  Current learning rate: 0.000001\n",
      "------------------------------\n",
      "--- Epoch 457/500 ---\n"
     ]
    },
    {
     "name": "stderr",
     "output_type": "stream",
     "text": [
      "Training: 100%|\u001b[32m██████████\u001b[0m| 23/23 [00:22<00:00,  1.02it/s, loss=0.3206]\n",
      "Validation: 100%|\u001b[31m██████████\u001b[0m| 23/23 [00:14<00:00,  1.57it/s, loss=1.2779]\n"
     ]
    },
    {
     "name": "stdout",
     "output_type": "stream",
     "text": [
      "\n",
      "Epoch 457 Summary:\n",
      "  Train Loss: 0.3707, Train Pixel Accuracy: 88.52%\n",
      "  Validation Loss: 1.3505, Validation Pixel Accuracy: 73.59%\n",
      "  Current learning rate: 0.000001\n",
      "------------------------------\n",
      "--- Epoch 458/500 ---\n"
     ]
    },
    {
     "name": "stderr",
     "output_type": "stream",
     "text": [
      "Training: 100%|\u001b[32m██████████\u001b[0m| 23/23 [00:22<00:00,  1.04it/s, loss=0.4267]\n",
      "Validation: 100%|\u001b[31m██████████\u001b[0m| 23/23 [00:14<00:00,  1.59it/s, loss=1.2788]\n"
     ]
    },
    {
     "name": "stdout",
     "output_type": "stream",
     "text": [
      "\n",
      "Epoch 458 Summary:\n",
      "  Train Loss: 0.3711, Train Pixel Accuracy: 88.52%\n",
      "  Validation Loss: 1.3506, Validation Pixel Accuracy: 73.60%\n",
      "  Current learning rate: 0.000001\n",
      "------------------------------\n",
      "--- Epoch 459/500 ---\n"
     ]
    },
    {
     "name": "stderr",
     "output_type": "stream",
     "text": [
      "Training: 100%|\u001b[32m██████████\u001b[0m| 23/23 [00:22<00:00,  1.02it/s, loss=0.3769]\n",
      "Validation: 100%|\u001b[31m██████████\u001b[0m| 23/23 [00:14<00:00,  1.61it/s, loss=1.2784]\n"
     ]
    },
    {
     "name": "stdout",
     "output_type": "stream",
     "text": [
      "\n",
      "Epoch 459 Summary:\n",
      "  Train Loss: 0.3708, Train Pixel Accuracy: 88.53%\n",
      "  Validation Loss: 1.3513, Validation Pixel Accuracy: 73.58%\n",
      "  Current learning rate: 0.000001\n",
      "------------------------------\n",
      "--- Epoch 460/500 ---\n"
     ]
    },
    {
     "name": "stderr",
     "output_type": "stream",
     "text": [
      "Training: 100%|\u001b[32m██████████\u001b[0m| 23/23 [00:22<00:00,  1.02it/s, loss=0.3936]\n",
      "Validation: 100%|\u001b[31m██████████\u001b[0m| 23/23 [00:14<00:00,  1.60it/s, loss=1.2787]\n"
     ]
    },
    {
     "name": "stdout",
     "output_type": "stream",
     "text": [
      "\n",
      "Epoch 460 Summary:\n",
      "  Train Loss: 0.3707, Train Pixel Accuracy: 88.53%\n",
      "  Validation Loss: 1.3512, Validation Pixel Accuracy: 73.59%\n",
      "  Current learning rate: 0.000001\n",
      "------------------------------\n",
      "--- Epoch 461/500 ---\n"
     ]
    },
    {
     "name": "stderr",
     "output_type": "stream",
     "text": [
      "Training: 100%|\u001b[32m██████████\u001b[0m| 23/23 [00:22<00:00,  1.01it/s, loss=0.4166]\n",
      "Validation: 100%|\u001b[31m██████████\u001b[0m| 23/23 [00:14<00:00,  1.62it/s, loss=1.2786]\n"
     ]
    },
    {
     "name": "stdout",
     "output_type": "stream",
     "text": [
      "\n",
      "Epoch 461 Summary:\n",
      "  Train Loss: 0.3708, Train Pixel Accuracy: 88.53%\n",
      "  Validation Loss: 1.3516, Validation Pixel Accuracy: 73.57%\n",
      "  Current learning rate: 0.000001\n",
      "------------------------------\n",
      "--- Epoch 462/500 ---\n"
     ]
    },
    {
     "name": "stderr",
     "output_type": "stream",
     "text": [
      "Training: 100%|\u001b[32m██████████\u001b[0m| 23/23 [00:22<00:00,  1.02it/s, loss=0.3816]\n",
      "Validation: 100%|\u001b[31m██████████\u001b[0m| 23/23 [00:14<00:00,  1.57it/s, loss=1.2789]\n"
     ]
    },
    {
     "name": "stdout",
     "output_type": "stream",
     "text": [
      "\n",
      "Epoch 462 Summary:\n",
      "  Train Loss: 0.3704, Train Pixel Accuracy: 88.54%\n",
      "  Validation Loss: 1.3520, Validation Pixel Accuracy: 73.59%\n",
      "  Current learning rate: 0.000001\n",
      "------------------------------\n",
      "--- Epoch 463/500 ---\n"
     ]
    },
    {
     "name": "stderr",
     "output_type": "stream",
     "text": [
      "Training: 100%|\u001b[32m██████████\u001b[0m| 23/23 [00:22<00:00,  1.01it/s, loss=0.3609]\n",
      "Validation: 100%|\u001b[31m██████████\u001b[0m| 23/23 [00:14<00:00,  1.54it/s, loss=1.2793]\n"
     ]
    },
    {
     "name": "stdout",
     "output_type": "stream",
     "text": [
      "\n",
      "Epoch 463 Summary:\n",
      "  Train Loss: 0.3703, Train Pixel Accuracy: 88.54%\n",
      "  Validation Loss: 1.3522, Validation Pixel Accuracy: 73.58%\n",
      "  Current learning rate: 0.000001\n",
      "------------------------------\n",
      "--- Epoch 464/500 ---\n"
     ]
    },
    {
     "name": "stderr",
     "output_type": "stream",
     "text": [
      "Training: 100%|\u001b[32m██████████\u001b[0m| 23/23 [00:22<00:00,  1.04it/s, loss=0.4059]\n",
      "Validation: 100%|\u001b[31m██████████\u001b[0m| 23/23 [00:14<00:00,  1.57it/s, loss=1.2796]\n"
     ]
    },
    {
     "name": "stdout",
     "output_type": "stream",
     "text": [
      "\n",
      "Epoch 464 Summary:\n",
      "  Train Loss: 0.3703, Train Pixel Accuracy: 88.54%\n",
      "  Validation Loss: 1.3522, Validation Pixel Accuracy: 73.58%\n",
      "  Current learning rate: 0.000001\n",
      "------------------------------\n",
      "--- Epoch 465/500 ---\n"
     ]
    },
    {
     "name": "stderr",
     "output_type": "stream",
     "text": [
      "Training: 100%|\u001b[32m██████████\u001b[0m| 23/23 [00:22<00:00,  1.02it/s, loss=0.2897]\n",
      "Validation: 100%|\u001b[31m██████████\u001b[0m| 23/23 [00:14<00:00,  1.55it/s, loss=1.2797]\n"
     ]
    },
    {
     "name": "stdout",
     "output_type": "stream",
     "text": [
      "\n",
      "Epoch 465 Summary:\n",
      "  Train Loss: 0.3696, Train Pixel Accuracy: 88.55%\n",
      "  Validation Loss: 1.3528, Validation Pixel Accuracy: 73.59%\n",
      "  Current learning rate: 0.000001\n",
      "------------------------------\n",
      "--- Epoch 466/500 ---\n"
     ]
    },
    {
     "name": "stderr",
     "output_type": "stream",
     "text": [
      "Training: 100%|\u001b[32m██████████\u001b[0m| 23/23 [00:22<00:00,  1.02it/s, loss=0.3934]\n",
      "Validation: 100%|\u001b[31m██████████\u001b[0m| 23/23 [00:14<00:00,  1.60it/s, loss=1.2800]\n"
     ]
    },
    {
     "name": "stdout",
     "output_type": "stream",
     "text": [
      "\n",
      "Epoch 466 Summary:\n",
      "  Train Loss: 0.3702, Train Pixel Accuracy: 88.55%\n",
      "  Validation Loss: 1.3534, Validation Pixel Accuracy: 73.58%\n",
      "  Current learning rate: 0.000001\n",
      "------------------------------\n",
      "--- Epoch 467/500 ---\n"
     ]
    },
    {
     "name": "stderr",
     "output_type": "stream",
     "text": [
      "Training: 100%|\u001b[32m██████████\u001b[0m| 23/23 [00:22<00:00,  1.00it/s, loss=0.4071]\n",
      "Validation: 100%|\u001b[31m██████████\u001b[0m| 23/23 [00:14<00:00,  1.63it/s, loss=1.2803]\n"
     ]
    },
    {
     "name": "stdout",
     "output_type": "stream",
     "text": [
      "\n",
      "Epoch 467 Summary:\n",
      "  Train Loss: 0.3701, Train Pixel Accuracy: 88.55%\n",
      "  Validation Loss: 1.3531, Validation Pixel Accuracy: 73.59%\n",
      "  Current learning rate: 0.000001\n",
      "------------------------------\n",
      "--- Epoch 468/500 ---\n"
     ]
    },
    {
     "name": "stderr",
     "output_type": "stream",
     "text": [
      "Training: 100%|\u001b[32m██████████\u001b[0m| 23/23 [00:22<00:00,  1.00it/s, loss=0.4150]\n",
      "Validation: 100%|\u001b[31m██████████\u001b[0m| 23/23 [00:14<00:00,  1.54it/s, loss=1.2805]\n"
     ]
    },
    {
     "name": "stdout",
     "output_type": "stream",
     "text": [
      "\n",
      "Epoch 468 Summary:\n",
      "  Train Loss: 0.3702, Train Pixel Accuracy: 88.55%\n",
      "  Validation Loss: 1.3536, Validation Pixel Accuracy: 73.58%\n",
      "  Current learning rate: 0.000001\n",
      "------------------------------\n",
      "--- Epoch 469/500 ---\n"
     ]
    },
    {
     "name": "stderr",
     "output_type": "stream",
     "text": [
      "Training: 100%|\u001b[32m██████████\u001b[0m| 23/23 [00:22<00:00,  1.01it/s, loss=0.3786]\n",
      "Validation: 100%|\u001b[31m██████████\u001b[0m| 23/23 [00:14<00:00,  1.55it/s, loss=1.2809]\n"
     ]
    },
    {
     "name": "stdout",
     "output_type": "stream",
     "text": [
      "\n",
      "Epoch 469 Summary:\n",
      "  Train Loss: 0.3699, Train Pixel Accuracy: 88.56%\n",
      "  Validation Loss: 1.3536, Validation Pixel Accuracy: 73.57%\n",
      "  Current learning rate: 0.000001\n",
      "------------------------------\n",
      "--- Epoch 470/500 ---\n"
     ]
    },
    {
     "name": "stderr",
     "output_type": "stream",
     "text": [
      "Training: 100%|\u001b[32m██████████\u001b[0m| 23/23 [00:22<00:00,  1.00it/s, loss=0.3672]\n",
      "Validation: 100%|\u001b[31m██████████\u001b[0m| 23/23 [00:15<00:00,  1.53it/s, loss=1.2804]\n"
     ]
    },
    {
     "name": "stdout",
     "output_type": "stream",
     "text": [
      "\n",
      "Epoch 470 Summary:\n",
      "  Train Loss: 0.3697, Train Pixel Accuracy: 88.56%\n",
      "  Validation Loss: 1.3535, Validation Pixel Accuracy: 73.57%\n",
      "  Current learning rate: 0.000001\n",
      "------------------------------\n",
      "--- Epoch 471/500 ---\n"
     ]
    },
    {
     "name": "stderr",
     "output_type": "stream",
     "text": [
      "Training: 100%|\u001b[32m██████████\u001b[0m| 23/23 [00:22<00:00,  1.01it/s, loss=0.3613]\n",
      "Validation: 100%|\u001b[31m██████████\u001b[0m| 23/23 [00:14<00:00,  1.55it/s, loss=1.2813]\n"
     ]
    },
    {
     "name": "stdout",
     "output_type": "stream",
     "text": [
      "\n",
      "Epoch 471 Summary:\n",
      "  Train Loss: 0.3694, Train Pixel Accuracy: 88.56%\n",
      "  Validation Loss: 1.3548, Validation Pixel Accuracy: 73.58%\n",
      "  Current learning rate: 0.000001\n",
      "------------------------------\n",
      "--- Epoch 472/500 ---\n"
     ]
    },
    {
     "name": "stderr",
     "output_type": "stream",
     "text": [
      "Training: 100%|\u001b[32m██████████\u001b[0m| 23/23 [00:22<00:00,  1.02it/s, loss=0.3285]\n",
      "Validation: 100%|\u001b[31m██████████\u001b[0m| 23/23 [00:14<00:00,  1.57it/s, loss=1.2812]\n"
     ]
    },
    {
     "name": "stdout",
     "output_type": "stream",
     "text": [
      "\n",
      "Epoch 472 Summary:\n",
      "  Train Loss: 0.3692, Train Pixel Accuracy: 88.57%\n",
      "  Validation Loss: 1.3539, Validation Pixel Accuracy: 73.57%\n",
      "  Current learning rate: 0.000001\n",
      "------------------------------\n",
      "--- Epoch 473/500 ---\n"
     ]
    },
    {
     "name": "stderr",
     "output_type": "stream",
     "text": [
      "Training: 100%|\u001b[32m██████████\u001b[0m| 23/23 [00:22<00:00,  1.01it/s, loss=0.3272]\n",
      "Validation: 100%|\u001b[31m██████████\u001b[0m| 23/23 [00:14<00:00,  1.57it/s, loss=1.2814]\n"
     ]
    },
    {
     "name": "stdout",
     "output_type": "stream",
     "text": [
      "\n",
      "Epoch 473 Summary:\n",
      "  Train Loss: 0.3691, Train Pixel Accuracy: 88.57%\n",
      "  Validation Loss: 1.3548, Validation Pixel Accuracy: 73.58%\n",
      "  Current learning rate: 0.000001\n",
      "------------------------------\n",
      "--- Epoch 474/500 ---\n"
     ]
    },
    {
     "name": "stderr",
     "output_type": "stream",
     "text": [
      "Training: 100%|\u001b[32m██████████\u001b[0m| 23/23 [00:22<00:00,  1.02it/s, loss=0.3310]\n",
      "Validation: 100%|\u001b[31m██████████\u001b[0m| 23/23 [00:14<00:00,  1.59it/s, loss=1.2824]\n"
     ]
    },
    {
     "name": "stdout",
     "output_type": "stream",
     "text": [
      "\n",
      "Epoch 474 Summary:\n",
      "  Train Loss: 0.3690, Train Pixel Accuracy: 88.57%\n",
      "  Validation Loss: 1.3556, Validation Pixel Accuracy: 73.59%\n",
      "  Current learning rate: 0.000001\n",
      "------------------------------\n",
      "--- Epoch 475/500 ---\n"
     ]
    },
    {
     "name": "stderr",
     "output_type": "stream",
     "text": [
      "Training: 100%|\u001b[32m██████████\u001b[0m| 23/23 [00:22<00:00,  1.02it/s, loss=0.3805]\n",
      "Validation: 100%|\u001b[31m██████████\u001b[0m| 23/23 [00:14<00:00,  1.63it/s, loss=1.2820]\n"
     ]
    },
    {
     "name": "stdout",
     "output_type": "stream",
     "text": [
      "\n",
      "Epoch 475 Summary:\n",
      "  Train Loss: 0.3692, Train Pixel Accuracy: 88.57%\n",
      "  Validation Loss: 1.3555, Validation Pixel Accuracy: 73.58%\n",
      "  Current learning rate: 0.000001\n",
      "------------------------------\n",
      "--- Epoch 476/500 ---\n"
     ]
    },
    {
     "name": "stderr",
     "output_type": "stream",
     "text": [
      "Training: 100%|\u001b[32m██████████\u001b[0m| 23/23 [00:22<00:00,  1.02it/s, loss=0.3855]\n",
      "Validation: 100%|\u001b[31m██████████\u001b[0m| 23/23 [00:14<00:00,  1.58it/s, loss=1.2823]\n"
     ]
    },
    {
     "name": "stdout",
     "output_type": "stream",
     "text": [
      "\n",
      "Epoch 476 Summary:\n",
      "  Train Loss: 0.3691, Train Pixel Accuracy: 88.58%\n",
      "  Validation Loss: 1.3554, Validation Pixel Accuracy: 73.57%\n",
      "  Current learning rate: 0.000001\n",
      "------------------------------\n",
      "--- Epoch 477/500 ---\n"
     ]
    },
    {
     "name": "stderr",
     "output_type": "stream",
     "text": [
      "Training: 100%|\u001b[32m██████████\u001b[0m| 23/23 [00:22<00:00,  1.02it/s, loss=0.4103]\n",
      "Validation: 100%|\u001b[31m██████████\u001b[0m| 23/23 [00:14<00:00,  1.57it/s, loss=1.2823]\n"
     ]
    },
    {
     "name": "stdout",
     "output_type": "stream",
     "text": [
      "\n",
      "Epoch 477 Summary:\n",
      "  Train Loss: 0.3692, Train Pixel Accuracy: 88.58%\n",
      "  Validation Loss: 1.3561, Validation Pixel Accuracy: 73.58%\n",
      "  Current learning rate: 0.000001\n",
      "------------------------------\n",
      "--- Epoch 478/500 ---\n"
     ]
    },
    {
     "name": "stderr",
     "output_type": "stream",
     "text": [
      "Training: 100%|\u001b[32m██████████\u001b[0m| 23/23 [00:22<00:00,  1.02it/s, loss=0.3749]\n",
      "Validation: 100%|\u001b[31m██████████\u001b[0m| 23/23 [00:15<00:00,  1.52it/s, loss=1.2826]\n"
     ]
    },
    {
     "name": "stdout",
     "output_type": "stream",
     "text": [
      "\n",
      "Epoch 478 Summary:\n",
      "  Train Loss: 0.3689, Train Pixel Accuracy: 88.58%\n",
      "  Validation Loss: 1.3562, Validation Pixel Accuracy: 73.57%\n",
      "  Current learning rate: 0.000001\n",
      "------------------------------\n",
      "--- Epoch 479/500 ---\n"
     ]
    },
    {
     "name": "stderr",
     "output_type": "stream",
     "text": [
      "Training: 100%|\u001b[32m██████████\u001b[0m| 23/23 [00:22<00:00,  1.01it/s, loss=0.3757]\n",
      "Validation: 100%|\u001b[31m██████████\u001b[0m| 23/23 [00:14<00:00,  1.55it/s, loss=1.2828]\n"
     ]
    },
    {
     "name": "stdout",
     "output_type": "stream",
     "text": [
      "\n",
      "Epoch 479 Summary:\n",
      "  Train Loss: 0.3688, Train Pixel Accuracy: 88.59%\n",
      "  Validation Loss: 1.3567, Validation Pixel Accuracy: 73.57%\n",
      "  Current learning rate: 0.000001\n",
      "------------------------------\n",
      "--- Epoch 480/500 ---\n"
     ]
    },
    {
     "name": "stderr",
     "output_type": "stream",
     "text": [
      "Training: 100%|\u001b[32m██████████\u001b[0m| 23/23 [00:22<00:00,  1.01it/s, loss=0.3267]\n",
      "Validation: 100%|\u001b[31m██████████\u001b[0m| 23/23 [00:14<00:00,  1.61it/s, loss=1.2830]\n"
     ]
    },
    {
     "name": "stdout",
     "output_type": "stream",
     "text": [
      "\n",
      "Epoch 480 Summary:\n",
      "  Train Loss: 0.3684, Train Pixel Accuracy: 88.59%\n",
      "  Validation Loss: 1.3565, Validation Pixel Accuracy: 73.58%\n",
      "  Current learning rate: 0.000001\n",
      "------------------------------\n",
      "--- Epoch 481/500 ---\n"
     ]
    },
    {
     "name": "stderr",
     "output_type": "stream",
     "text": [
      "Training: 100%|\u001b[32m██████████\u001b[0m| 23/23 [00:22<00:00,  1.02it/s, loss=0.3813]\n",
      "Validation: 100%|\u001b[31m██████████\u001b[0m| 23/23 [00:14<00:00,  1.56it/s, loss=1.2828]\n"
     ]
    },
    {
     "name": "stdout",
     "output_type": "stream",
     "text": [
      "\n",
      "Epoch 481 Summary:\n",
      "  Train Loss: 0.3687, Train Pixel Accuracy: 88.59%\n",
      "  Validation Loss: 1.3564, Validation Pixel Accuracy: 73.57%\n",
      "  Current learning rate: 0.000001\n",
      "------------------------------\n",
      "--- Epoch 482/500 ---\n"
     ]
    },
    {
     "name": "stderr",
     "output_type": "stream",
     "text": [
      "Training: 100%|\u001b[32m██████████\u001b[0m| 23/23 [00:22<00:00,  1.03it/s, loss=0.3753]\n",
      "Validation: 100%|\u001b[31m██████████\u001b[0m| 23/23 [00:14<00:00,  1.59it/s, loss=1.2834]\n"
     ]
    },
    {
     "name": "stdout",
     "output_type": "stream",
     "text": [
      "\n",
      "Epoch 482 Summary:\n",
      "  Train Loss: 0.3687, Train Pixel Accuracy: 88.60%\n",
      "  Validation Loss: 1.3570, Validation Pixel Accuracy: 73.57%\n",
      "  Current learning rate: 0.000001\n",
      "------------------------------\n",
      "--- Epoch 483/500 ---\n"
     ]
    },
    {
     "name": "stderr",
     "output_type": "stream",
     "text": [
      "Training: 100%|\u001b[32m██████████\u001b[0m| 23/23 [00:22<00:00,  1.02it/s, loss=0.3656]\n",
      "Validation: 100%|\u001b[31m██████████\u001b[0m| 23/23 [00:14<00:00,  1.61it/s, loss=1.2837]\n"
     ]
    },
    {
     "name": "stdout",
     "output_type": "stream",
     "text": [
      "\n",
      "Epoch 483 Summary:\n",
      "  Train Loss: 0.3685, Train Pixel Accuracy: 88.60%\n",
      "  Validation Loss: 1.3576, Validation Pixel Accuracy: 73.57%\n",
      "  Current learning rate: 0.000001\n",
      "------------------------------\n",
      "--- Epoch 484/500 ---\n"
     ]
    },
    {
     "name": "stderr",
     "output_type": "stream",
     "text": [
      "Training: 100%|\u001b[32m██████████\u001b[0m| 23/23 [00:22<00:00,  1.02it/s, loss=0.3216]\n",
      "Validation: 100%|\u001b[31m██████████\u001b[0m| 23/23 [00:14<00:00,  1.58it/s, loss=1.2840]\n"
     ]
    },
    {
     "name": "stdout",
     "output_type": "stream",
     "text": [
      "\n",
      "Epoch 484 Summary:\n",
      "  Train Loss: 0.3680, Train Pixel Accuracy: 88.60%\n",
      "  Validation Loss: 1.3575, Validation Pixel Accuracy: 73.57%\n",
      "  Current learning rate: 0.000001\n",
      "------------------------------\n",
      "--- Epoch 485/500 ---\n"
     ]
    },
    {
     "name": "stderr",
     "output_type": "stream",
     "text": [
      "Training: 100%|\u001b[32m██████████\u001b[0m| 23/23 [00:22<00:00,  1.03it/s, loss=0.3259]\n",
      "Validation: 100%|\u001b[31m██████████\u001b[0m| 23/23 [00:14<00:00,  1.56it/s, loss=1.2838]\n"
     ]
    },
    {
     "name": "stdout",
     "output_type": "stream",
     "text": [
      "\n",
      "Epoch 485 Summary:\n",
      "  Train Loss: 0.3680, Train Pixel Accuracy: 88.61%\n",
      "  Validation Loss: 1.3577, Validation Pixel Accuracy: 73.56%\n",
      "  Current learning rate: 0.000001\n",
      "------------------------------\n",
      "--- Epoch 486/500 ---\n"
     ]
    },
    {
     "name": "stderr",
     "output_type": "stream",
     "text": [
      "Training: 100%|\u001b[32m██████████\u001b[0m| 23/23 [00:22<00:00,  1.03it/s, loss=0.3540]\n",
      "Validation: 100%|\u001b[31m██████████\u001b[0m| 23/23 [00:14<00:00,  1.58it/s, loss=1.2843]\n"
     ]
    },
    {
     "name": "stdout",
     "output_type": "stream",
     "text": [
      "\n",
      "Epoch 486 Summary:\n",
      "  Train Loss: 0.3680, Train Pixel Accuracy: 88.61%\n",
      "  Validation Loss: 1.3582, Validation Pixel Accuracy: 73.57%\n",
      "  Current learning rate: 0.000001\n",
      "------------------------------\n",
      "--- Epoch 487/500 ---\n"
     ]
    },
    {
     "name": "stderr",
     "output_type": "stream",
     "text": [
      "Training: 100%|\u001b[32m██████████\u001b[0m| 23/23 [00:22<00:00,  1.04it/s, loss=0.3847]\n",
      "Validation: 100%|\u001b[31m██████████\u001b[0m| 23/23 [00:14<00:00,  1.56it/s, loss=1.2850]\n"
     ]
    },
    {
     "name": "stdout",
     "output_type": "stream",
     "text": [
      "\n",
      "Epoch 487 Summary:\n",
      "  Train Loss: 0.3680, Train Pixel Accuracy: 88.61%\n",
      "  Validation Loss: 1.3592, Validation Pixel Accuracy: 73.57%\n",
      "  Current learning rate: 0.000001\n",
      "------------------------------\n",
      "--- Epoch 488/500 ---\n"
     ]
    },
    {
     "name": "stderr",
     "output_type": "stream",
     "text": [
      "Training: 100%|\u001b[32m██████████\u001b[0m| 23/23 [00:22<00:00,  1.00it/s, loss=0.3822]\n",
      "Validation: 100%|\u001b[31m██████████\u001b[0m| 23/23 [00:14<00:00,  1.59it/s, loss=1.2850]\n"
     ]
    },
    {
     "name": "stdout",
     "output_type": "stream",
     "text": [
      "\n",
      "Epoch 488 Summary:\n",
      "  Train Loss: 0.3681, Train Pixel Accuracy: 88.61%\n",
      "  Validation Loss: 1.3589, Validation Pixel Accuracy: 73.57%\n",
      "  Current learning rate: 0.000001\n",
      "------------------------------\n",
      "--- Epoch 489/500 ---\n"
     ]
    },
    {
     "name": "stderr",
     "output_type": "stream",
     "text": [
      "Training: 100%|\u001b[32m██████████\u001b[0m| 23/23 [00:22<00:00,  1.02it/s, loss=0.3750]\n",
      "Validation: 100%|\u001b[31m██████████\u001b[0m| 23/23 [00:14<00:00,  1.56it/s, loss=1.2844]\n"
     ]
    },
    {
     "name": "stdout",
     "output_type": "stream",
     "text": [
      "\n",
      "Epoch 489 Summary:\n",
      "  Train Loss: 0.3679, Train Pixel Accuracy: 88.62%\n",
      "  Validation Loss: 1.3585, Validation Pixel Accuracy: 73.56%\n",
      "  Current learning rate: 0.000001\n",
      "------------------------------\n",
      "--- Epoch 490/500 ---\n"
     ]
    },
    {
     "name": "stderr",
     "output_type": "stream",
     "text": [
      "Training: 100%|\u001b[32m██████████\u001b[0m| 23/23 [00:22<00:00,  1.02it/s, loss=0.3250]\n",
      "Validation: 100%|\u001b[31m██████████\u001b[0m| 23/23 [00:13<00:00,  1.65it/s, loss=1.2848]\n"
     ]
    },
    {
     "name": "stdout",
     "output_type": "stream",
     "text": [
      "\n",
      "Epoch 490 Summary:\n",
      "  Train Loss: 0.3675, Train Pixel Accuracy: 88.62%\n",
      "  Validation Loss: 1.3592, Validation Pixel Accuracy: 73.56%\n",
      "  Current learning rate: 0.000001\n",
      "------------------------------\n",
      "--- Epoch 491/500 ---\n"
     ]
    },
    {
     "name": "stderr",
     "output_type": "stream",
     "text": [
      "Training: 100%|\u001b[32m██████████\u001b[0m| 23/23 [00:22<00:00,  1.02it/s, loss=0.3827]\n",
      "Validation: 100%|\u001b[31m██████████\u001b[0m| 23/23 [00:13<00:00,  1.65it/s, loss=1.2850]\n"
     ]
    },
    {
     "name": "stdout",
     "output_type": "stream",
     "text": [
      "\n",
      "Epoch 491 Summary:\n",
      "  Train Loss: 0.3676, Train Pixel Accuracy: 88.62%\n",
      "  Validation Loss: 1.3597, Validation Pixel Accuracy: 73.56%\n",
      "  Current learning rate: 0.000001\n",
      "------------------------------\n",
      "--- Epoch 492/500 ---\n"
     ]
    },
    {
     "name": "stderr",
     "output_type": "stream",
     "text": [
      "Training: 100%|\u001b[32m██████████\u001b[0m| 23/23 [00:22<00:00,  1.02it/s, loss=0.3751]\n",
      "Validation: 100%|\u001b[31m██████████\u001b[0m| 23/23 [00:14<00:00,  1.60it/s, loss=1.2855]\n"
     ]
    },
    {
     "name": "stdout",
     "output_type": "stream",
     "text": [
      "\n",
      "Epoch 492 Summary:\n",
      "  Train Loss: 0.3674, Train Pixel Accuracy: 88.63%\n",
      "  Validation Loss: 1.3597, Validation Pixel Accuracy: 73.56%\n",
      "  Current learning rate: 0.000001\n",
      "------------------------------\n",
      "--- Epoch 493/500 ---\n"
     ]
    },
    {
     "name": "stderr",
     "output_type": "stream",
     "text": [
      "Training: 100%|\u001b[32m██████████\u001b[0m| 23/23 [00:22<00:00,  1.02it/s, loss=0.4340]\n",
      "Validation: 100%|\u001b[31m██████████\u001b[0m| 23/23 [00:14<00:00,  1.58it/s, loss=1.2865]\n"
     ]
    },
    {
     "name": "stdout",
     "output_type": "stream",
     "text": [
      "\n",
      "Epoch 493 Summary:\n",
      "  Train Loss: 0.3677, Train Pixel Accuracy: 88.62%\n",
      "  Validation Loss: 1.3605, Validation Pixel Accuracy: 73.56%\n",
      "  Current learning rate: 0.000001\n",
      "------------------------------\n",
      "--- Epoch 494/500 ---\n"
     ]
    },
    {
     "name": "stderr",
     "output_type": "stream",
     "text": [
      "Training: 100%|\u001b[32m██████████\u001b[0m| 23/23 [00:22<00:00,  1.03it/s, loss=0.3767]\n",
      "Validation: 100%|\u001b[31m██████████\u001b[0m| 23/23 [00:14<00:00,  1.57it/s, loss=1.2858]\n"
     ]
    },
    {
     "name": "stdout",
     "output_type": "stream",
     "text": [
      "\n",
      "Epoch 494 Summary:\n",
      "  Train Loss: 0.3675, Train Pixel Accuracy: 88.63%\n",
      "  Validation Loss: 1.3605, Validation Pixel Accuracy: 73.56%\n",
      "  Current learning rate: 0.000001\n",
      "------------------------------\n",
      "--- Epoch 495/500 ---\n"
     ]
    },
    {
     "name": "stderr",
     "output_type": "stream",
     "text": [
      "Training: 100%|\u001b[32m██████████\u001b[0m| 23/23 [00:22<00:00,  1.03it/s, loss=0.3400]\n",
      "Validation: 100%|\u001b[31m██████████\u001b[0m| 23/23 [00:14<00:00,  1.56it/s, loss=1.2861]\n"
     ]
    },
    {
     "name": "stdout",
     "output_type": "stream",
     "text": [
      "\n",
      "Epoch 495 Summary:\n",
      "  Train Loss: 0.3672, Train Pixel Accuracy: 88.63%\n",
      "  Validation Loss: 1.3603, Validation Pixel Accuracy: 73.55%\n",
      "  Current learning rate: 0.000001\n",
      "------------------------------\n",
      "--- Epoch 496/500 ---\n"
     ]
    },
    {
     "name": "stderr",
     "output_type": "stream",
     "text": [
      "Training: 100%|\u001b[32m██████████\u001b[0m| 23/23 [00:22<00:00,  1.01it/s, loss=0.3508]\n",
      "Validation: 100%|\u001b[31m██████████\u001b[0m| 23/23 [00:14<00:00,  1.61it/s, loss=1.2860]\n"
     ]
    },
    {
     "name": "stdout",
     "output_type": "stream",
     "text": [
      "\n",
      "Epoch 496 Summary:\n",
      "  Train Loss: 0.3670, Train Pixel Accuracy: 88.64%\n",
      "  Validation Loss: 1.3603, Validation Pixel Accuracy: 73.55%\n",
      "  Current learning rate: 0.000001\n",
      "------------------------------\n",
      "--- Epoch 497/500 ---\n"
     ]
    },
    {
     "name": "stderr",
     "output_type": "stream",
     "text": [
      "Training: 100%|\u001b[32m██████████\u001b[0m| 23/23 [00:22<00:00,  1.02it/s, loss=0.4163]\n",
      "Validation: 100%|\u001b[31m██████████\u001b[0m| 23/23 [00:14<00:00,  1.63it/s, loss=1.2863]\n"
     ]
    },
    {
     "name": "stdout",
     "output_type": "stream",
     "text": [
      "\n",
      "Epoch 497 Summary:\n",
      "  Train Loss: 0.3674, Train Pixel Accuracy: 88.64%\n",
      "  Validation Loss: 1.3614, Validation Pixel Accuracy: 73.56%\n",
      "  Current learning rate: 0.000001\n",
      "------------------------------\n",
      "--- Epoch 498/500 ---\n"
     ]
    },
    {
     "name": "stderr",
     "output_type": "stream",
     "text": [
      "Training: 100%|\u001b[32m██████████\u001b[0m| 23/23 [00:22<00:00,  1.01it/s, loss=0.3891]\n",
      "Validation: 100%|\u001b[31m██████████\u001b[0m| 23/23 [00:13<00:00,  1.65it/s, loss=1.2871]\n"
     ]
    },
    {
     "name": "stdout",
     "output_type": "stream",
     "text": [
      "\n",
      "Epoch 498 Summary:\n",
      "  Train Loss: 0.3670, Train Pixel Accuracy: 88.64%\n",
      "  Validation Loss: 1.3614, Validation Pixel Accuracy: 73.55%\n",
      "  Current learning rate: 0.000001\n",
      "------------------------------\n",
      "--- Epoch 499/500 ---\n"
     ]
    },
    {
     "name": "stderr",
     "output_type": "stream",
     "text": [
      "Training: 100%|\u001b[32m██████████\u001b[0m| 23/23 [00:22<00:00,  1.02it/s, loss=0.3433]\n",
      "Validation: 100%|\u001b[31m██████████\u001b[0m| 23/23 [00:14<00:00,  1.64it/s, loss=1.2872]\n"
     ]
    },
    {
     "name": "stdout",
     "output_type": "stream",
     "text": [
      "\n",
      "Epoch 499 Summary:\n",
      "  Train Loss: 0.3669, Train Pixel Accuracy: 88.65%\n",
      "  Validation Loss: 1.3613, Validation Pixel Accuracy: 73.56%\n",
      "  Current learning rate: 0.000001\n",
      "------------------------------\n",
      "--- Epoch 500/500 ---\n"
     ]
    },
    {
     "name": "stderr",
     "output_type": "stream",
     "text": [
      "Training: 100%|\u001b[32m██████████\u001b[0m| 23/23 [00:22<00:00,  1.01it/s, loss=0.3473]\n",
      "Validation: 100%|\u001b[31m██████████\u001b[0m| 23/23 [00:14<00:00,  1.55it/s, loss=1.2873]"
     ]
    },
    {
     "name": "stdout",
     "output_type": "stream",
     "text": [
      "\n",
      "Epoch 500 Summary:\n",
      "  Train Loss: 0.3669, Train Pixel Accuracy: 88.65%\n",
      "  Validation Loss: 1.3620, Validation Pixel Accuracy: 73.56%\n",
      "  Current learning rate: 0.000001\n",
      "------------------------------\n",
      "Finished Training\n",
      "Best model saved at /kaggle/working/fcn_voc_best.pth with validation loss: 0.9941\n"
     ]
    },
    {
     "name": "stderr",
     "output_type": "stream",
     "text": [
      "\n"
     ]
    }
   ],
   "source": [
    "from torch.utils.tensorboard import SummaryWriter\n",
    "# --- 1. 初始化 ---\n",
    "epochs = 500\n",
    "writer = SummaryWriter(\"/kaggle/working/segmentation\")\n",
    "best_val_loss = float('inf') # 用于保存最佳模型的变量\n",
    "MODEL_SAVE_PATH = '/kaggle/working/fcn_voc_best.pth'\n",
    "\n",
    "print('Starting Training...')\n",
    "# --- 2. 主训练循环 ---\n",
    "for epoch in range(epochs): \n",
    "    print(f\"--- Epoch {epoch + 1}/{epochs} ---\")\n",
    "    \n",
    "    # --- 训练阶段 ---\n",
    "    net.train() # 对于包含 Dropout 层或 Batch Normalization 层的模型需要调用 model.train() 和 model.eval() \n",
    "    train_loss = 0.0\n",
    "    train_correct_pixels = 0\n",
    "    train_total_pixels = 0\n",
    "    \n",
    "    # 使用tqdm包装训练数据加载器\n",
    "    train_progress_bar = tqdm(train_loader, desc=\"Training\", colour=\"green\")\n",
    "    \n",
    "    for inputs, masks in train_progress_bar:\n",
    "        inputs = inputs.to(device)\n",
    "        masks  = masks.to(device, dtype=torch.long) # 确保掩码是长整型张量，因为 CrossEntropyLoss 需要标签是整数类型\n",
    "        # 清除梯度->向前传播->计算损失->反向传播->优化参数\n",
    "        optimizer.zero_grad() # zero_grad() 必须在 loss.backward()前. 在当前训练批次开始时，首先清零所有参数的梯度。\n",
    "        outputs = net(inputs)\n",
    "        loss = loss_function(outputs, masks)\n",
    "        loss.backward()\n",
    "        optimizer.step()\n",
    "\n",
    "         # 累积损失\n",
    "        train_loss += loss.item()\n",
    "\n",
    "        # 计算像素准确率\n",
    "        with torch.no_grad():\n",
    "            preds = torch.argmax(outputs, dim=1)\n",
    "            # 只计算非忽略区域的像素\n",
    "            valid_pixels = (masks != 255)\n",
    "            train_correct_pixels += ((preds == masks) & valid_pixels).sum().item()\n",
    "            train_total_pixels += valid_pixels.sum().item()\n",
    "        \n",
    "        # 使用 set_postfix 在进度条上动态显示当前批次的损失\n",
    "        train_progress_bar.set_postfix(loss=f\"{loss.item():.4f}\")\n",
    "\n",
    "    # --- 验证阶段 ---\n",
    "    net.eval()\n",
    "    val_loss = 0.0\n",
    "    val_correct_pixels = 0\n",
    "    val_total_pixels = 0\n",
    "\n",
    "    # 使用tqdm包装验证数据加载器\n",
    "    val_progress_bar = tqdm(val_loader, desc=\"Validation\", colour=\"red\")\n",
    "    \n",
    "    with torch.no_grad(): # 测试过程中不计算梯度\n",
    "        for inputs, masks in val_progress_bar:\n",
    "            inputs = inputs.to(device)\n",
    "            masks = masks.to(device, dtype=torch.long)\n",
    "            outputs = net(inputs)\n",
    "            loss = loss_function(outputs, masks)\n",
    "\n",
    "            val_loss += loss.item()\n",
    "\n",
    "            preds = torch.argmax(outputs, dim=1)\n",
    "            valid_pixels = (masks != 255)\n",
    "            val_correct_pixels += ((preds == masks) & valid_pixels).sum().item()\n",
    "            val_total_pixels += valid_pixels.sum().item()\n",
    "\n",
    "            val_progress_bar.set_postfix(loss=f\"{loss.item():.4f}\")\n",
    "\n",
    "\n",
    "    # --- 3. 计算并记录每个Epoch的指标 ---\n",
    "    # 计算平均损失和准确率\n",
    "    avg_train_loss = train_loss / len(train_loader)\n",
    "    train_pixel_acc = (train_correct_pixels / train_total_pixels) * 100 if train_total_pixels > 0 else 0\n",
    "    \n",
    "    avg_val_loss = val_loss / len(val_loader)\n",
    "    val_pixel_acc = (val_correct_pixels / val_total_pixels) * 100 if val_total_pixels > 0 else 0\n",
    "    # 打印本轮的最终结果\n",
    "    print(f\"\\nEpoch {epoch + 1} Summary:\")\n",
    "    print(f\"  Train Loss: {avg_train_loss:.4f}, Train Pixel Accuracy: {train_pixel_acc:.2f}%\")\n",
    "    print(f\"  Validation Loss: {avg_val_loss:.4f}, Validation Pixel Accuracy: {val_pixel_acc:.2f}%\")\n",
    "    # 记录到TensorBoard\n",
    "    writer.add_scalar('Loss/train', avg_train_loss, epoch)\n",
    "    writer.add_scalar('Accuracy/train', train_pixel_acc, epoch)\n",
    "    writer.add_scalar('Loss/validation', avg_val_loss, epoch)\n",
    "    writer.add_scalar('Accuracy/validation', val_pixel_acc, epoch)\n",
    "    writer.add_scalar('Learning_Rate', optimizer.param_groups[0]['lr'], epoch)\n",
    "    \n",
    "    # 更新学习率，并将验证集损失传入\n",
    "    scheduler.step(avg_val_loss)\n",
    "    print(f\"  Current learning rate: {optimizer.param_groups[0]['lr']:.6f}\")\n",
    "\n",
    "    # --- 4. 保存最佳模型 ---\n",
    "    if avg_val_loss < best_val_loss:\n",
    "        best_val_loss = avg_val_loss\n",
    "        torch.save(net.state_dict(), MODEL_SAVE_PATH)\n",
    "        print(f\"  ---> New best model saved to {MODEL_SAVE_PATH} (Validation Loss: {best_val_loss:.4f})\")\n",
    "    \n",
    "    print(\"-\" * 30)\n",
    "\n",
    "print('Finished Training')\n",
    "print(f\"Best model saved at {MODEL_SAVE_PATH} with validation loss: {best_val_loss:.4f}\")\n",
    "writer.close()\n"
   ]
  },
  {
   "cell_type": "code",
   "execution_count": null,
   "id": "e34b7fb9",
   "metadata": {
    "papermill": {
     "duration": 2.225656,
     "end_time": "2025-07-21T16:40:37.764051",
     "exception": false,
     "start_time": "2025-07-21T16:40:35.538395",
     "status": "completed"
    },
    "tags": []
   },
   "outputs": [],
   "source": []
  },
  {
   "cell_type": "code",
   "execution_count": 8,
   "id": "d9930753",
   "metadata": {
    "execution": {
     "iopub.execute_input": "2025-07-21T16:40:41.897349Z",
     "iopub.status.busy": "2025-07-21T16:40:41.896318Z",
     "iopub.status.idle": "2025-07-21T16:40:47.317422Z",
     "shell.execute_reply": "2025-07-21T16:40:47.316621Z"
    },
    "papermill": {
     "duration": 7.617313,
     "end_time": "2025-07-21T16:40:47.318577",
     "exception": false,
     "start_time": "2025-07-21T16:40:39.701264",
     "status": "completed"
    },
    "tags": []
   },
   "outputs": [
    {
     "name": "stdout",
     "output_type": "stream",
     "text": [
      "模型加载成功！\n",
      "开始在 'trainval' 集上进行预测和可视化...\n",
      "已保存可视化结果: /kaggle/working/results/2007_000032_pred.png\n",
      "已保存可视化结果: /kaggle/working/results/2007_000033_pred.png\n",
      "已保存可视化结果: /kaggle/working/results/2007_000039_pred.png\n",
      "已保存可视化结果: /kaggle/working/results/2007_000042_pred.png\n",
      "已保存可视化结果: /kaggle/working/results/2007_000061_pred.png\n",
      "已保存可视化结果: /kaggle/working/results/2007_000063_pred.png\n",
      "已保存可视化结果: /kaggle/working/results/2007_000068_pred.png\n",
      "已保存可视化结果: /kaggle/working/results/2007_000121_pred.png\n",
      "已保存可视化结果: /kaggle/working/results/2007_000123_pred.png\n",
      "已保存可视化结果: /kaggle/working/results/2007_000129_pred.png\n",
      "\n",
      "可视化完成！结果已保存在 '/kaggle/working/results/' 文件夹中。\n"
     ]
    }
   ],
   "source": [
    "\n",
    "import matplotlib.pyplot as plt\n",
    "\n",
    "\n",
    "MODEL_PATH = '/kaggle/working/fcn_voc_best.pth' # 你训练好的模型路径\n",
    "OUTPUT_DIR = '/kaggle/working/results/'\n",
    "\n",
    "NUM_CLASSES = 21\n",
    "IMAGE_SIZE = (256, 256)\n",
    "NUM_VISUALIZATIONS = 10\n",
    "\n",
    "os.makedirs(OUTPUT_DIR, exist_ok=True)\n",
    "\n",
    "# --- 1. PASCAL VOC 颜色映射 (不变) ---\n",
    "VOC_COLORMAP = np.array([\n",
    "    [0, 0, 0], [128, 0, 0], [0, 128, 0], [128, 128, 0],\n",
    "    [0, 0, 128], [128, 0, 128], [0, 128, 128], [128, 128, 128],\n",
    "    [64, 0, 0], [192, 0, 0], [64, 128, 0], [192, 128, 0],\n",
    "    [64, 0, 128], [192, 0, 128], [64, 128, 128], [192, 128, 128],\n",
    "    [0, 64, 0], [128, 64, 0], [0, 192, 0], [128, 192, 0],\n",
    "    [0, 64, 128]\n",
    "], dtype=np.uint8)\n",
    "\n",
    "def mask_to_color(mask, colormap):\n",
    "    color_mask = np.zeros((mask.shape[0], mask.shape[1], 3), dtype=np.uint8)\n",
    "    for class_idx, color in enumerate(colormap):\n",
    "        color_mask[mask == class_idx] = color\n",
    "    return color_mask\n",
    "\n",
    "\n",
    "\n",
    "# 定义数据变换\n",
    "image_transform = transforms.Compose([\n",
    "    transforms.Resize(IMAGE_SIZE),\n",
    "    transforms.ToTensor(),\n",
    "    transforms.Normalize(mean=[0.485, 0.456, 0.406], std=[0.229, 0.224, 0.225])\n",
    "])\n",
    "mask_transform = transforms.Compose([\n",
    "    transforms.Resize(IMAGE_SIZE, interpolation=transforms.InterpolationMode.NEAREST)\n",
    "])\n",
    "# 加载模型\n",
    "model = FCN(num_classes=NUM_CLASSES).to(device)\n",
    "model.load_state_dict(torch.load(MODEL_PATH, map_location=device))\n",
    "model.eval()\n",
    "print(\"模型加载成功！\")\n",
    "# 准备数据集\n",
    "test_dataset = PascalVOCDataset(root=VOC_ROOT, image_set='trainval', transform=image_transform, target_transform=mask_transform)\n",
    "# 注意：这里我们不使用DataLoader，因为我们需要文件名来加载原始图像，逐个处理更方便\n",
    "\n",
    "print(f\"开始在 '{test_dataset.image_set}' 集上进行预测和可视化...\")\n",
    "\n",
    "with torch.no_grad():\n",
    "    # 我们直接遍历数据集的文件名列表\n",
    "    for i in range(min(NUM_VISUALIZATIONS, len(test_dataset))):\n",
    "        # 从数据集中获取处理好的图像和掩码\n",
    "        image_tensor, gt_mask = test_dataset[i]\n",
    "        image_id = test_dataset.images[i]\n",
    "        # --- 这是关键的调整 ---\n",
    "        # 手动加载原始图像用于可视化\n",
    "        original_image_path = os.path.join(VOC_ROOT, 'JPEGImages', f'{image_id}.jpg')\n",
    "        original_image = Image.open(original_image_path).convert('RGB').resize(IMAGE_SIZE)\n",
    "        # ----------------------\n",
    "        # 模型需要一个batch维度，所以我们用unsqueeze(0)增加一个维度\n",
    "        image_tensor = image_tensor.unsqueeze(0).to(device)\n",
    "        # 模型预测\n",
    "        output = model(image_tensor)\n",
    "        pred_mask = torch.argmax(output, dim=1)\n",
    "        # 转为Numpy\n",
    "        pred_mask_np = pred_mask.cpu().squeeze(0).numpy()\n",
    "        gt_mask_np = gt_mask.numpy()\n",
    "        # 将边界(255)处理一下，方便可视化\n",
    "        gt_mask_np[gt_mask_np == 255] = 0 \n",
    "        # 转为彩色图\n",
    "        pred_mask_color = mask_to_color(pred_mask_np, VOC_COLORMAP)\n",
    "        gt_mask_color = mask_to_color(gt_mask_np, VOC_COLORMAP)\n",
    "        # 绘图\n",
    "        fig, axes = plt.subplots(1, 3, figsize=(18, 6))\n",
    "        axes[0].imshow(original_image)\n",
    "        axes[0].set_title(f'Original Image: {image_id}')\n",
    "        axes[0].axis('off')\n",
    "        axes[1].imshow(gt_mask_color)\n",
    "        axes[1].set_title('Ground Truth Mask')\n",
    "        axes[1].axis('off')\n",
    "        axes[2].imshow(pred_mask_color)\n",
    "        axes[2].set_title('Predicted Mask')\n",
    "        axes[2].axis('off')\n",
    "        plt.tight_layout()\n",
    "        \n",
    "        save_path = os.path.join(OUTPUT_DIR, f'{image_id}_pred.png')\n",
    "        plt.savefig(save_path)\n",
    "        plt.close(fig)\n",
    "        print(f\"已保存可视化结果: {save_path}\")\n",
    "print(f\"\\n可视化完成！结果已保存在 '{OUTPUT_DIR}' 文件夹中。\")\n"
   ]
  },
  {
   "cell_type": "code",
   "execution_count": null,
   "id": "aa4a30d8",
   "metadata": {
    "papermill": {
     "duration": 1.926778,
     "end_time": "2025-07-21T16:40:51.353489",
     "exception": false,
     "start_time": "2025-07-21T16:40:49.426711",
     "status": "completed"
    },
    "tags": []
   },
   "outputs": [],
   "source": []
  },
  {
   "cell_type": "code",
   "execution_count": null,
   "id": "06f8ee35",
   "metadata": {
    "papermill": {
     "duration": 1.973064,
     "end_time": "2025-07-21T16:40:55.525573",
     "exception": false,
     "start_time": "2025-07-21T16:40:53.552509",
     "status": "completed"
    },
    "tags": []
   },
   "outputs": [],
   "source": []
  }
 ],
 "metadata": {
  "colab": {
   "provenance": []
  },
  "kaggle": {
   "accelerator": "gpu",
   "dataSources": [
    {
     "datasetId": 35388,
     "sourceId": 47853,
     "sourceType": "datasetVersion"
    }
   ],
   "dockerImageVersionId": 31089,
   "isGpuEnabled": true,
   "isInternetEnabled": true,
   "language": "python",
   "sourceType": "notebook"
  },
  "kernelspec": {
   "display_name": "Python 3",
   "language": "python",
   "name": "python3"
  },
  "language_info": {
   "codemirror_mode": {
    "name": "ipython",
    "version": 3
   },
   "file_extension": ".py",
   "mimetype": "text/x-python",
   "name": "python",
   "nbconvert_exporter": "python",
   "pygments_lexer": "ipython3",
   "version": "3.11.13"
  },
  "papermill": {
   "default_parameters": {},
   "duration": 18733.693187,
   "end_time": "2025-07-21T16:41:00.849876",
   "environment_variables": {},
   "exception": null,
   "input_path": "__notebook__.ipynb",
   "output_path": "__notebook__.ipynb",
   "parameters": {},
   "start_time": "2025-07-21T11:28:47.156689",
   "version": "2.6.0"
  }
 },
 "nbformat": 4,
 "nbformat_minor": 5
}
