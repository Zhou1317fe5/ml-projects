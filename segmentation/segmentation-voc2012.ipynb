{
 "cells": [
  {
   "cell_type": "code",
   "execution_count": 1,
   "id": "a4f2588c",
   "metadata": {
    "execution": {
     "iopub.execute_input": "2025-07-22T02:37:00.166984Z",
     "iopub.status.busy": "2025-07-22T02:37:00.166739Z",
     "iopub.status.idle": "2025-07-22T02:37:11.136729Z",
     "shell.execute_reply": "2025-07-22T02:37:11.135877Z"
    },
    "id": "dHiO4cGZxCTu",
    "papermill": {
     "duration": 10.975808,
     "end_time": "2025-07-22T02:37:11.138287",
     "exception": false,
     "start_time": "2025-07-22T02:37:00.162479",
     "status": "completed"
    },
    "tags": []
   },
   "outputs": [],
   "source": [
    "import torch\n",
    "import torchvision\n",
    "import torchvision.transforms as transforms\n",
    "import os\n",
    "from PIL import Image\n",
    "import numpy as np\n",
    "import torch\n",
    "from torch.utils.data import Dataset\n",
    "from torchvision import transforms as T\n",
    "from torch.utils.data import Dataset, DataLoader\n",
    "from tqdm import tqdm\n",
    "import albumentations as A\n",
    "from albumentations.pytorch import ToTensorV2\n",
    "device = torch.device(\"cuda\" if torch.cuda.is_available() else \"cpu\")"
   ]
  },
  {
   "cell_type": "code",
   "execution_count": null,
   "id": "d7e2292e",
   "metadata": {
    "papermill": {
     "duration": 0.002352,
     "end_time": "2025-07-22T02:37:11.143749",
     "exception": false,
     "start_time": "2025-07-22T02:37:11.141397",
     "status": "completed"
    },
    "tags": []
   },
   "outputs": [],
   "source": []
  },
  {
   "cell_type": "code",
   "execution_count": 2,
   "id": "d624af7b",
   "metadata": {
    "execution": {
     "iopub.execute_input": "2025-07-22T02:37:11.149803Z",
     "iopub.status.busy": "2025-07-22T02:37:11.149435Z",
     "iopub.status.idle": "2025-07-22T02:37:11.155903Z",
     "shell.execute_reply": "2025-07-22T02:37:11.155192Z"
    },
    "papermill": {
     "duration": 0.010813,
     "end_time": "2025-07-22T02:37:11.157071",
     "exception": false,
     "start_time": "2025-07-22T02:37:11.146258",
     "status": "completed"
    },
    "tags": []
   },
   "outputs": [],
   "source": [
    "class PascalVOCDataset(Dataset):\n",
    "    def __init__(self, root, image_set='train',augmentations=None):\n",
    "        self.root = root\n",
    "        self.image_set = image_set\n",
    "        self.augmentations = augmentations # 接收一个 Albumentations 的 pipeline\n",
    "        \n",
    "        # 读取图像ID列表\n",
    "        image_set_file = os.path.join(self.root, 'ImageSets/Segmentation', f'{self.image_set}.txt')\n",
    "        with open(image_set_file, 'r') as f:\n",
    "            self.images = [line.strip() for line in f.readlines()] # 将文件中的每一行都读出来，去掉换行符，然后存入一个 Python 列表中。如['2007_000032', '2007_000039', '2007_000063', '2007_000121', ...]\n",
    "    \n",
    "    def __len__(self):\n",
    "        return len(self.images)\n",
    "    \n",
    "    def __getitem__(self, idx):\n",
    "        # 获取图像和掩码路径\n",
    "        image_id = self.images[idx]\n",
    "        image_path = os.path.join(self.root, 'JPEGImages', f'{image_id}.jpg')\n",
    "        mask_path = os.path.join(self.root, 'SegmentationClass', f'{image_id}.png')\n",
    "        \n",
    "        # 读取图像和掩码\n",
    "        # Albumentations 习惯使用 NumPy 数组\n",
    "        image = np.array(Image.open(image_path).convert('RGB'))\n",
    "        mask = np.array(Image.open(mask_path))\n",
    "        \n",
    "        # 应用增强\n",
    "        if self.augmentations:\n",
    "            # Albumentations 的调用方式是传入一个字典\n",
    "            augmented = self.augmentations(image=image, mask=mask)\n",
    "            image = augmented['image']\n",
    "            mask = augmented['mask']\n",
    "        \n",
    "        # Albumentations 的 ToTensorV2 会自动处理数据类型和维度顺序\n",
    "        # image: (H, W, C) -> (C, H, W), float32, 归一化\n",
    "        # mask: (H, W) -> (H, W), int6\n",
    "        return image, mask"
   ]
  },
  {
   "cell_type": "markdown",
   "id": "3b8f40df",
   "metadata": {
    "papermill": {
     "duration": 0.00237,
     "end_time": "2025-07-22T02:37:11.162100",
     "exception": false,
     "start_time": "2025-07-22T02:37:11.159730",
     "status": "completed"
    },
    "tags": []
   },
   "source": [
    "`mask = np.array(mask, dtype=np.int64)`\n",
    "- 作用：PASCAL VOC的分割掩码（SegmentationClass里的.png文件）是一种特殊的“调色板模式”（Palette mode, 'P' mode）图像。你用肉眼看它是有各种颜色的，但它实际存储的不是RGB值，而是一个二维数组，数组里每个位置的值是该像素颜色在“调色板”中的索引。\n",
    "- PASCAL VOC非常巧妙地将类别ID设置为了这个索引。所以，类别为0（背景）的像素，其索引值就是0；类别为1（飞机）的像素，其索引值就是1；...；而物体边界的特殊颜色，其索引值被设定为255。\n",
    "- np.array(mask) 这行代码就是将这个PIL图像直接转换成一个包含这些索引值的NumPy二维数组。我们得到的 mask 就直接是一个 [H, W] 的矩阵，里面的值是 0, 1, 2, ..., 20 和 255。"
   ]
  },
  {
   "cell_type": "markdown",
   "id": "82b3a6d3",
   "metadata": {
    "papermill": {
     "duration": 0.002303,
     "end_time": "2025-07-22T02:37:11.166979",
     "exception": false,
     "start_time": "2025-07-22T02:37:11.164676",
     "status": "completed"
    },
    "tags": []
   },
   "source": [
    "\n",
    "\n",
    "问题一：既然是全卷积网络，为什么还要 `Resize`？\n",
    "\n",
    "1. **批处理 (Batching) 的需要**\n",
    "这是最主要、最根本的原因。为了高效利用GPU进行并行计算，我们不会一张一张地训练图像，而是将多张图像组成一个**批次 (batch)** 一起送入网络。\n",
    "\n",
    "*   一个批次的数据在PyTorch中是一个单一的Tensor，例如 `(batch_size, channels, height, width)`，即 `(8, 3, 256, 256)`。\n",
    "*   **一个Tensor中的所有元素必须具有相同的维度。** 你不能把一张 `256x256` 的图像和一张 `512x300` 的图像堆叠（stack）成一个批次。\n",
    "*   因此，为了能将多张原始尺寸各不相同的图像打包成一个batch，我们必须在数据预处理阶段将它们`Resize`成一个统一的尺寸。\n",
    "\n",
    "2. **内存管理与可预测性**\n",
    "GPU的显存是有限的。\n",
    "*   如果输入图像尺寸不固定，那么网络中间层产生的特征图尺寸也会变化，导致每一批次占用的显存大小也随之波动。\n",
    "*   一张非常大的输入图像可能会直接导致显存溢出（Out of Memory, OOM），使训练崩溃。\n",
    "*   通过`Resize`到一个固定的、中等大小的尺寸（如 `256x256` 或 `512x512`），我们可以精确地计算出模型需要的显存，并选择一个不会导致OOM的最大的`batch_size`，从而稳定、高效地进行训练。\n",
    "\n",
    "3. **训练效率与稳定性**\n",
    "*   处理大尺寸图像会消耗更多的计算资源，减慢训练速度。\n",
    "*   将所有图像统一到一个中等尺寸，可以平衡细节保留和训练效率。对于PASCAL VOC这类数据集，`256x256`或`512x512`已经足够保留大部分物体的关键特征。\n",
    "\n",
    "4. **转置卷积参数的固定**\n",
    "我们之前在设计`FCN_AlexNet`时，上采样层`nn.ConvTranspose2d`的参数（`kernel_size`, `stride`, `padding`）是**为了将一个特定尺寸的特征图恢复到另一个特定尺寸而精心计算的**。\n",
    "\n",
    "```python\n",
    "# 对于 256x256 输入，下采样8倍后是 32x32\n",
    "# kernel_size=16, stride=8, padding=4 可以将 32x32 恢复到 256x256\n",
    "self.upsampler = nn.ConvTranspose2d(..., kernel_size=16, stride=8, padding=4)\n",
    "```\n",
    "如果输入尺寸变化，比如变成`257x257`，下采样8倍后会变成`32x32`（整数除法），但上采样恢复后尺寸可能就不再是`257x257`了，会导致输出和标签掩码尺寸不匹配。虽然FCN原文中提到了用裁剪（cropping）来解决这个问题，但这会增加实现的复杂性。在训练阶段固定输入尺寸，可以大大简化上采样模块的设计。\n",
    "\n",
    "**总结**：`Resize`主要是为了**满足批处理的要求**，并带来**稳定的内存占用**和**高效的训练速度**。虽然牺牲了FCN处理任意尺寸输入的灵活性，但在训练阶段，这些工程上的好处远大于其带来的限制。在**推理（inference）阶段**，你完全可以加载训练好的模型，输入一张任意尺寸的图片进行分割。\n",
    "\n",
    "---\n",
    "\n",
    "问题二：`interpolation=transforms.InterpolationMode.NEAREST` 的作用是什么？\n",
    "\n",
    "这个参数指定了在调整图像尺寸时使用的**插值算法**。插值算法决定了当一个像素点被映射到新尺寸图像的非整数坐标时，如何计算它的新像素值。\n",
    "\n",
    "让我们用一个简单的例子来说明：\n",
    "\n",
    "假设我们要把一个 `2x2` 的图像放大到 `4x4`。\n",
    "\n",
    "**原始图像 (掩码)**\n",
    "```\n",
    "[[1, 2],\n",
    " [3, 4]]\n",
    "```\n",
    "这里的 `1, 2, 3, 4` 代表不同的物体类别（比如1=天空, 2=建筑, 3=道路, 4=汽车）。\n",
    "\n",
    "1. **默认插值：双线性插值 (Bilinear Interpolation)**\n",
    "这是`transforms.Resize`对普通RGB图像的默认方法。它会考虑周围4个像素点的值，并根据距离进行加权平均。\n",
    "\n",
    "*   在新图像的某个位置，它可能会计算出 `(1+2)/2 = 1.5` 这样的值。\n",
    "*   对于RGB图像，`1.5` 是一个有效的颜色值，它会让颜色过渡更平滑，看起来更自然。\n",
    "*   但对于我们的**分割掩码**，`1.5` 是一个**灾难**！它既不是类别1（天空），也不是类别2（建筑），而是一个**不存在的、无意义的类别**。这会彻底搞乱我们的标签。\n",
    "\n",
    "2. **最近邻插值 (Nearest Neighbor Interpolation)**\n",
    "这就是 `interpolation=NEAREST` 的作用。它非常简单直接：**新位置的像素值，直接等于它在原始图像中最近的那个像素点的值。**\n",
    "\n",
    "*   它不会创造任何新的值。输出图像中的所有像素值，都必然是原始图像中已经存在的值。\n",
    "*   对于我们的掩码，这意味着放大后的掩码中，像素值只可能是 `1, 2, 3, 4` 中的一个。它完美地保留了类别的离散型和完整性。\n",
    "\n"
   ]
  },
  {
   "cell_type": "code",
   "execution_count": 3,
   "id": "6002dd89",
   "metadata": {
    "execution": {
     "iopub.execute_input": "2025-07-22T02:37:11.174369Z",
     "iopub.status.busy": "2025-07-22T02:37:11.173695Z",
     "iopub.status.idle": "2025-07-22T02:37:11.230776Z",
     "shell.execute_reply": "2025-07-22T02:37:11.230008Z"
    },
    "papermill": {
     "duration": 0.061558,
     "end_time": "2025-07-22T02:37:11.232020",
     "exception": false,
     "start_time": "2025-07-22T02:37:11.170462",
     "status": "completed"
    },
    "tags": []
   },
   "outputs": [],
   "source": [
    "IMAGE_SIZE = (256, 256)\n",
    "BATCH_SIZE = 64\n",
    "VOC_ROOT = '/kaggle/input/pascal-voc-2012/VOC2012'\n",
    "\n",
    "# 数据增强\n",
    "train_augs = A.Compose([\n",
    "    # 首先将图像缩放到一个稍大的尺寸，再进行随机裁剪\n",
    "    A.Resize(int(IMAGE_SIZE[0] * 1.25), int(IMAGE_SIZE[1] * 1.25)),\n",
    "    A.RandomCrop(width=IMAGE_SIZE[0], height=IMAGE_SIZE[1]),\n",
    "    \n",
    "    # 几何变换\n",
    "    A.HorizontalFlip(p=0.5),\n",
    "    A.Rotate(limit=35, p=0.5),\n",
    "    \n",
    "    # 像素/颜色变换 (只会作用于 image)\n",
    "    A.ColorJitter(brightness=0.2, contrast=0.2, saturation=0.2, hue=0.2, p=0.5),\n",
    "    A.Blur(blur_limit=3, p=0.3),\n",
    "\n",
    "    # 归一化和转换为Tensor\n",
    "    A.Normalize(mean=[0.485, 0.456, 0.406], std=[0.229, 0.224, 0.225]),\n",
    "    ToTensorV2()\n",
    "])\n",
    "\n",
    "val_augs = A.Compose([\n",
    "    A.Resize(width=IMAGE_SIZE[0], height=IMAGE_SIZE[1]),\n",
    "    A.Normalize(mean=[0.485, 0.456, 0.406], std=[0.229, 0.224, 0.225]),\n",
    "    ToTensorV2()\n",
    "])\n",
    "\n",
    "\n",
    "\n",
    "train_dataset = PascalVOCDataset(root=VOC_ROOT, image_set='train', augmentations=train_augs)\n",
    "val_dataset = PascalVOCDataset(root=VOC_ROOT, image_set='val', augmentations=val_augs)\n",
    "\n",
    "train_loader = DataLoader(train_dataset, batch_size=BATCH_SIZE, shuffle=True, num_workers=2, pin_memory=True)\n",
    "val_loader = DataLoader(val_dataset, batch_size=BATCH_SIZE, shuffle=False, num_workers=2, pin_memory=True)\n",
    "\n"
   ]
  },
  {
   "cell_type": "code",
   "execution_count": null,
   "id": "b39a12aa",
   "metadata": {
    "papermill": {
     "duration": 0.002346,
     "end_time": "2025-07-22T02:37:11.237113",
     "exception": false,
     "start_time": "2025-07-22T02:37:11.234767",
     "status": "completed"
    },
    "tags": []
   },
   "outputs": [],
   "source": []
  },
  {
   "cell_type": "code",
   "execution_count": null,
   "id": "8802b62e",
   "metadata": {
    "execution": {
     "iopub.execute_input": "2025-07-22T02:37:11.243141Z",
     "iopub.status.busy": "2025-07-22T02:37:11.242888Z",
     "iopub.status.idle": "2025-07-22T02:37:11.524837Z",
     "shell.execute_reply": "2025-07-22T02:37:11.523832Z"
    },
    "id": "1BFB88X9xCT-",
    "papermill": {
     "duration": 0.286783,
     "end_time": "2025-07-22T02:37:11.526314",
     "exception": false,
     "start_time": "2025-07-22T02:37:11.239531",
     "status": "completed"
    },
    "tags": []
   },
   "outputs": [],
   "source": [
    "# 构建网络模型\n",
    "import torch.nn as nn\n",
    "import torch.nn.functional as F\n",
    "\n",
    "\n",
    "class FCN(nn.Module):\n",
    "    def __init__(self, num_classes=21):\n",
    "        super().__init__()\n",
    "        \n",
    "        # 256 -> 128 -> 64 -> 32 -> 16 -> 8\n",
    "        \n",
    "        # Block 1: 256 -> 128\n",
    "        self.conv_block1 = nn.Sequential(\n",
    "            nn.Conv2d(3, 64, kernel_size=3, padding=1),\n",
    "            nn.ReLU(inplace=True),\n",
    "            nn.Conv2d(64, 64, kernel_size=3, padding=1),\n",
    "            nn.ReLU(inplace=True),\n",
    "            nn.MaxPool2d(kernel_size=2, stride=2)\n",
    "        )\n",
    "        \n",
    "        # Block 2: 128 -> 64\n",
    "        self.conv_block2 = nn.Sequential(\n",
    "            nn.Conv2d(64, 128, kernel_size=3, padding=1),\n",
    "            nn.ReLU(inplace=True),\n",
    "            nn.Conv2d(128, 128, kernel_size=3, padding=1),\n",
    "            nn.ReLU(inplace=True),\n",
    "            nn.MaxPool2d(kernel_size=2, stride=2)\n",
    "        )\n",
    "        \n",
    "        # Block 3: 64 -> 32\n",
    "        self.conv_block3 = nn.Sequential(\n",
    "            nn.Conv2d(128, 256, kernel_size=3, padding=1),\n",
    "            nn.ReLU(inplace=True),\n",
    "            nn.Conv2d(256, 256, kernel_size=3, padding=1),\n",
    "            nn.ReLU(inplace=True),\n",
    "            nn.MaxPool2d(kernel_size=2, stride=2)\n",
    "        )\n",
    "        \n",
    "        # Block 4: 32 -> 16\n",
    "        self.conv_block4 = nn.Sequential(\n",
    "            nn.Conv2d(256, 512, kernel_size=3, padding=1),\n",
    "            nn.ReLU(inplace=True),\n",
    "            nn.Conv2d(512, 512, kernel_size=3, padding=1),\n",
    "            nn.ReLU(inplace=True),\n",
    "            nn.MaxPool2d(kernel_size=2, stride=2)\n",
    "        )\n",
    "        \n",
    "        # Block 5: 16 -> 8\n",
    "        self.conv_block5 = nn.Sequential(\n",
    "            nn.Conv2d(512, 512, kernel_size=3, padding=1),\n",
    "            nn.ReLU(inplace=True),\n",
    "            nn.Conv2d(512, 512, kernel_size=3, padding=1),\n",
    "            nn.ReLU(inplace=True),\n",
    "            nn.MaxPool2d(kernel_size=2, stride=2)\n",
    "        )\n",
    "        \n",
    "        # ==================== 分类器 (1x1 Conv) ====================\n",
    "        self.classifier = nn.Conv2d(512, num_classes, kernel_size=1)\n",
    "        \n",
    "        # ==================== 解码器 (上采样和跳跃连接) ====================\n",
    "        # 1. 对编码器第4个池化层的输出进行1x1卷积\n",
    "        self.score_pool4 = nn.Conv2d(512, num_classes, kernel_size=1)\n",
    "        \n",
    "        # 2. 对编码器第3个池化层的输出进行1x1卷积\n",
    "        self.score_pool3 = nn.Conv2d(256, num_classes, kernel_size=1)\n",
    "\n",
    "        # 3. 上采样层\n",
    "        # 第一次上采样 (2倍)\n",
    "        self.upsample_2x_1 = nn.ConvTranspose2d(num_classes, num_classes, kernel_size=4, stride=2, padding=1)\n",
    "        # 第二次上采样 (2倍)\n",
    "        self.upsample_2x_2 = nn.ConvTranspose2d(num_classes, num_classes, kernel_size=4, stride=2, padding=1)\n",
    "        # 第三次上采样 (8倍)\n",
    "        self.upsample_8x = nn.ConvTranspose2d(num_classes, num_classes, kernel_size=16, stride=8, padding=4)\n",
    "\n",
    "    def forward(self, x):\n",
    "        input_size = x.shape[-2:]\n",
    "\n",
    "        # --- 编码器前向传播，并保存中间结果 ---\n",
    "        h = self.conv_block1(x)\n",
    "        h = self.conv_block2(h)\n",
    "        pool3_out = self.conv_block3(h)   # 保存第3个池化后的输出 (H/8)\n",
    "        pool4_out = self.conv_block4(pool3_out) # 保存第4个池化后的输出 (H/16)\n",
    "        h = self.conv_block5(pool4_out) # (H/32)\n",
    "\n",
    "        # --- 解码器前向传播 ---\n",
    "        # 1. 对最深的特征图进行分类和2倍上采样\n",
    "        h = self.classifier(h)\n",
    "        h = self.upsample_2x_1(h) # -> H/16\n",
    "        \n",
    "        # 2. 融合pool4的特征 (第一次跳跃连接)\n",
    "        score4 = self.score_pool4(pool4_out)\n",
    "        # 裁剪score4以匹配上采样后的h的尺寸 (FCN论文中的细节)\n",
    "        c = (score4.shape[3] - h.shape[3]) // 2\n",
    "        score4 = score4[:, :, c:c + h.shape[2], c:c + h.shape[3]]\n",
    "        h = h + score4 # 融合\n",
    "        \n",
    "        # 3. 再次2倍上采样\n",
    "        h = self.upsample_2x_2(h) # -> H/8\n",
    "        \n",
    "        # 4. 融合pool3的特征 (第二次跳跃连接)\n",
    "        score3 = self.score_pool3(pool3_out)\n",
    "        c = (score3.shape[3] - h.shape[3]) // 2\n",
    "        score3 = score3[:, :, c:c + h.shape[2], c:c + h.shape[3]]\n",
    "        h = h + score3 # 融合\n",
    "\n",
    "        # 5. 最后进行8倍上采样，恢复到原始尺寸\n",
    "        h = self.upsample_8x(h) # -> H\n",
    "        \n",
    "        # 裁剪到原始输入尺寸\n",
    "        c = (h.shape[3] - input_size[1]) // 2\n",
    "        h = h[:, :, c:c + input_size[0], c:c + input_size[1]]\n",
    "        \n",
    "        return h\n",
    "\n",
    "\n",
    "\n",
    "net = FCN(num_classes=21)\n",
    "net = net.to(device)"
   ]
  },
  {
   "cell_type": "code",
   "execution_count": 5,
   "id": "e85e1825",
   "metadata": {
    "execution": {
     "iopub.execute_input": "2025-07-22T02:37:11.533255Z",
     "iopub.status.busy": "2025-07-22T02:37:11.532566Z",
     "iopub.status.idle": "2025-07-22T02:37:11.539854Z",
     "shell.execute_reply": "2025-07-22T02:37:11.539030Z"
    },
    "id": "1bicoqSIxCT-",
    "papermill": {
     "duration": 0.011754,
     "end_time": "2025-07-22T02:37:11.541007",
     "exception": false,
     "start_time": "2025-07-22T02:37:11.529253",
     "status": "completed"
    },
    "tags": []
   },
   "outputs": [
    {
     "name": "stderr",
     "output_type": "stream",
     "text": [
      "/usr/local/lib/python3.11/dist-packages/torch/optim/lr_scheduler.py:62: UserWarning: The verbose parameter is deprecated. Please use get_last_lr() to access the learning rate.\n",
      "  warnings.warn(\n"
     ]
    }
   ],
   "source": [
    "import torch.optim as optim\n",
    "# 损失函数\n",
    "loss_function = nn.CrossEntropyLoss(ignore_index=255)  # PASCAL VOC中255是边界或忽略区域，使用 ignore_index=255 来忽略PASCAL VOC中的边界像素，边界像素(255)在计算损失时会被忽略\n",
    "# 优化器\n",
    "optimizer = optim.Adam(net.parameters(), lr=0.001)\n",
    "# 学习率调度器\n",
    "scheduler = torch.optim.lr_scheduler.ReduceLROnPlateau(\n",
    "    optimizer, \n",
    "    mode='min',      # 监控的指标越小越好 (我们的目标是降低loss)\n",
    "    factor=0.2,      # 当指标不再改善时，学习率乘以这个因子 (lr = lr * 0.2)\n",
    "    patience=5,      # 容忍指标连续5个epoch不改善，才降低学习率\n",
    "    verbose=True,    # 当学习率更新时，在控制台打印一条消息\n",
    "    min_lr=1e-6      # 学习率的下限，防止降得太低\n",
    ")"
   ]
  },
  {
   "cell_type": "code",
   "execution_count": 6,
   "id": "2a1e811c",
   "metadata": {
    "execution": {
     "iopub.execute_input": "2025-07-22T02:37:11.547205Z",
     "iopub.status.busy": "2025-07-22T02:37:11.546989Z",
     "iopub.status.idle": "2025-07-22T04:17:40.753205Z",
     "shell.execute_reply": "2025-07-22T04:17:40.752179Z"
    },
    "id": "TPQDHvb1xCT_",
    "papermill": {
     "duration": 6029.210735,
     "end_time": "2025-07-22T04:17:40.754361",
     "exception": false,
     "start_time": "2025-07-22T02:37:11.543626",
     "status": "completed"
    },
    "tags": []
   },
   "outputs": [
    {
     "name": "stderr",
     "output_type": "stream",
     "text": [
      "2025-07-22 02:37:13.536537: E external/local_xla/xla/stream_executor/cuda/cuda_fft.cc:477] Unable to register cuFFT factory: Attempting to register factory for plugin cuFFT when one has already been registered\n",
      "WARNING: All log messages before absl::InitializeLog() is called are written to STDERR\n",
      "E0000 00:00:1753151833.736960      19 cuda_dnn.cc:8310] Unable to register cuDNN factory: Attempting to register factory for plugin cuDNN when one has already been registered\n",
      "E0000 00:00:1753151833.794072      19 cuda_blas.cc:1418] Unable to register cuBLAS factory: Attempting to register factory for plugin cuBLAS when one has already been registered\n"
     ]
    },
    {
     "name": "stdout",
     "output_type": "stream",
     "text": [
      "Starting Training...\n",
      "--- Epoch 1/300 ---\n"
     ]
    },
    {
     "name": "stderr",
     "output_type": "stream",
     "text": [
      "Training: 100%|\u001b[32m██████████\u001b[0m| 23/23 [00:18<00:00,  1.27it/s, loss=2.3435]\n",
      "Validation: 100%|\u001b[31m██████████\u001b[0m| 23/23 [00:16<00:00,  1.43it/s, loss=1.9880]\n"
     ]
    },
    {
     "name": "stdout",
     "output_type": "stream",
     "text": [
      "\n",
      "Epoch 1 Summary:\n",
      "  Train Loss: 3.1410, Train Pixel Accuracy: 49.59%\n",
      "  Validation Loss: 1.8991, Validation Pixel Accuracy: 73.28%\n",
      "  Current learning rate: 0.001000\n",
      "  ---> New best model saved to /kaggle/working/fcn_voc_best.pth (Validation Loss: 1.8991)\n",
      "------------------------------\n",
      "--- Epoch 2/300 ---\n"
     ]
    },
    {
     "name": "stderr",
     "output_type": "stream",
     "text": [
      "Training: 100%|\u001b[32m██████████\u001b[0m| 23/23 [00:13<00:00,  1.67it/s, loss=1.6225]\n",
      "Validation: 100%|\u001b[31m██████████\u001b[0m| 23/23 [00:05<00:00,  3.87it/s, loss=1.4992]\n"
     ]
    },
    {
     "name": "stdout",
     "output_type": "stream",
     "text": [
      "\n",
      "Epoch 2 Summary:\n",
      "  Train Loss: 1.8279, Train Pixel Accuracy: 67.12%\n",
      "  Validation Loss: 1.4601, Validation Pixel Accuracy: 73.30%\n",
      "  Current learning rate: 0.001000\n",
      "  ---> New best model saved to /kaggle/working/fcn_voc_best.pth (Validation Loss: 1.4601)\n",
      "------------------------------\n",
      "--- Epoch 3/300 ---\n"
     ]
    },
    {
     "name": "stderr",
     "output_type": "stream",
     "text": [
      "Training: 100%|\u001b[32m██████████\u001b[0m| 23/23 [00:13<00:00,  1.67it/s, loss=1.5557]\n",
      "Validation: 100%|\u001b[31m██████████\u001b[0m| 23/23 [00:06<00:00,  3.83it/s, loss=1.3432]\n"
     ]
    },
    {
     "name": "stdout",
     "output_type": "stream",
     "text": [
      "\n",
      "Epoch 3 Summary:\n",
      "  Train Loss: 1.6237, Train Pixel Accuracy: 67.00%\n",
      "  Validation Loss: 1.3209, Validation Pixel Accuracy: 73.30%\n",
      "  Current learning rate: 0.001000\n",
      "  ---> New best model saved to /kaggle/working/fcn_voc_best.pth (Validation Loss: 1.3209)\n",
      "------------------------------\n",
      "--- Epoch 4/300 ---\n"
     ]
    },
    {
     "name": "stderr",
     "output_type": "stream",
     "text": [
      "Training: 100%|\u001b[32m██████████\u001b[0m| 23/23 [00:13<00:00,  1.67it/s, loss=1.4572]\n",
      "Validation: 100%|\u001b[31m██████████\u001b[0m| 23/23 [00:05<00:00,  3.99it/s, loss=1.3206]\n"
     ]
    },
    {
     "name": "stdout",
     "output_type": "stream",
     "text": [
      "\n",
      "Epoch 4 Summary:\n",
      "  Train Loss: 1.5294, Train Pixel Accuracy: 67.04%\n",
      "  Validation Loss: 1.2702, Validation Pixel Accuracy: 73.30%\n",
      "  Current learning rate: 0.001000\n",
      "  ---> New best model saved to /kaggle/working/fcn_voc_best.pth (Validation Loss: 1.2702)\n",
      "------------------------------\n",
      "--- Epoch 5/300 ---\n"
     ]
    },
    {
     "name": "stderr",
     "output_type": "stream",
     "text": [
      "Training: 100%|\u001b[32m██████████\u001b[0m| 23/23 [00:13<00:00,  1.67it/s, loss=1.4910]\n",
      "Validation: 100%|\u001b[31m██████████\u001b[0m| 23/23 [00:06<00:00,  3.76it/s, loss=1.3372]\n"
     ]
    },
    {
     "name": "stdout",
     "output_type": "stream",
     "text": [
      "\n",
      "Epoch 5 Summary:\n",
      "  Train Loss: 1.5178, Train Pixel Accuracy: 66.99%\n",
      "  Validation Loss: 1.3120, Validation Pixel Accuracy: 73.30%\n",
      "  Current learning rate: 0.001000\n",
      "------------------------------\n",
      "--- Epoch 6/300 ---\n"
     ]
    },
    {
     "name": "stderr",
     "output_type": "stream",
     "text": [
      "Training: 100%|\u001b[32m██████████\u001b[0m| 23/23 [00:13<00:00,  1.68it/s, loss=1.4270]\n",
      "Validation: 100%|\u001b[31m██████████\u001b[0m| 23/23 [00:06<00:00,  3.81it/s, loss=1.3013]\n"
     ]
    },
    {
     "name": "stdout",
     "output_type": "stream",
     "text": [
      "\n",
      "Epoch 6 Summary:\n",
      "  Train Loss: 1.5108, Train Pixel Accuracy: 67.09%\n",
      "  Validation Loss: 1.2760, Validation Pixel Accuracy: 73.30%\n",
      "  Current learning rate: 0.001000\n",
      "------------------------------\n",
      "--- Epoch 7/300 ---\n"
     ]
    },
    {
     "name": "stderr",
     "output_type": "stream",
     "text": [
      "Training: 100%|\u001b[32m██████████\u001b[0m| 23/23 [00:13<00:00,  1.67it/s, loss=1.5052]\n",
      "Validation: 100%|\u001b[31m██████████\u001b[0m| 23/23 [00:05<00:00,  3.94it/s, loss=1.3109]\n"
     ]
    },
    {
     "name": "stdout",
     "output_type": "stream",
     "text": [
      "\n",
      "Epoch 7 Summary:\n",
      "  Train Loss: 1.5055, Train Pixel Accuracy: 67.18%\n",
      "  Validation Loss: 1.2785, Validation Pixel Accuracy: 73.30%\n",
      "  Current learning rate: 0.001000\n",
      "------------------------------\n",
      "--- Epoch 8/300 ---\n"
     ]
    },
    {
     "name": "stderr",
     "output_type": "stream",
     "text": [
      "Training: 100%|\u001b[32m██████████\u001b[0m| 23/23 [00:13<00:00,  1.67it/s, loss=1.2488]\n",
      "Validation: 100%|\u001b[31m██████████\u001b[0m| 23/23 [00:05<00:00,  3.84it/s, loss=1.2645]\n"
     ]
    },
    {
     "name": "stdout",
     "output_type": "stream",
     "text": [
      "\n",
      "Epoch 8 Summary:\n",
      "  Train Loss: 1.4875, Train Pixel Accuracy: 67.04%\n",
      "  Validation Loss: 1.2425, Validation Pixel Accuracy: 73.30%\n",
      "  Current learning rate: 0.001000\n",
      "  ---> New best model saved to /kaggle/working/fcn_voc_best.pth (Validation Loss: 1.2425)\n",
      "------------------------------\n",
      "--- Epoch 9/300 ---\n"
     ]
    },
    {
     "name": "stderr",
     "output_type": "stream",
     "text": [
      "Training: 100%|\u001b[32m██████████\u001b[0m| 23/23 [00:13<00:00,  1.66it/s, loss=1.3690]\n",
      "Validation: 100%|\u001b[31m██████████\u001b[0m| 23/23 [00:05<00:00,  3.86it/s, loss=1.2756]\n"
     ]
    },
    {
     "name": "stdout",
     "output_type": "stream",
     "text": [
      "\n",
      "Epoch 9 Summary:\n",
      "  Train Loss: 1.5016, Train Pixel Accuracy: 67.07%\n",
      "  Validation Loss: 1.2534, Validation Pixel Accuracy: 73.30%\n",
      "  Current learning rate: 0.001000\n",
      "------------------------------\n",
      "--- Epoch 10/300 ---\n"
     ]
    },
    {
     "name": "stderr",
     "output_type": "stream",
     "text": [
      "Training: 100%|\u001b[32m██████████\u001b[0m| 23/23 [00:13<00:00,  1.67it/s, loss=1.6518]\n",
      "Validation: 100%|\u001b[31m██████████\u001b[0m| 23/23 [00:06<00:00,  3.79it/s, loss=1.2849]\n"
     ]
    },
    {
     "name": "stdout",
     "output_type": "stream",
     "text": [
      "\n",
      "Epoch 10 Summary:\n",
      "  Train Loss: 1.4824, Train Pixel Accuracy: 67.21%\n",
      "  Validation Loss: 1.2376, Validation Pixel Accuracy: 73.30%\n",
      "  Current learning rate: 0.001000\n",
      "  ---> New best model saved to /kaggle/working/fcn_voc_best.pth (Validation Loss: 1.2376)\n",
      "------------------------------\n",
      "--- Epoch 11/300 ---\n"
     ]
    },
    {
     "name": "stderr",
     "output_type": "stream",
     "text": [
      "Training: 100%|\u001b[32m██████████\u001b[0m| 23/23 [00:13<00:00,  1.68it/s, loss=1.6619]\n",
      "Validation: 100%|\u001b[31m██████████\u001b[0m| 23/23 [00:05<00:00,  3.91it/s, loss=1.3087]\n"
     ]
    },
    {
     "name": "stdout",
     "output_type": "stream",
     "text": [
      "\n",
      "Epoch 11 Summary:\n",
      "  Train Loss: 1.4794, Train Pixel Accuracy: 67.23%\n",
      "  Validation Loss: 1.2807, Validation Pixel Accuracy: 73.30%\n",
      "  Current learning rate: 0.001000\n",
      "------------------------------\n",
      "--- Epoch 12/300 ---\n"
     ]
    },
    {
     "name": "stderr",
     "output_type": "stream",
     "text": [
      "Training: 100%|\u001b[32m██████████\u001b[0m| 23/23 [00:13<00:00,  1.66it/s, loss=1.3589]\n",
      "Validation: 100%|\u001b[31m██████████\u001b[0m| 23/23 [00:06<00:00,  3.82it/s, loss=1.2927]\n"
     ]
    },
    {
     "name": "stdout",
     "output_type": "stream",
     "text": [
      "\n",
      "Epoch 12 Summary:\n",
      "  Train Loss: 1.4754, Train Pixel Accuracy: 67.29%\n",
      "  Validation Loss: 1.2474, Validation Pixel Accuracy: 73.30%\n",
      "  Current learning rate: 0.001000\n",
      "------------------------------\n",
      "--- Epoch 13/300 ---\n"
     ]
    },
    {
     "name": "stderr",
     "output_type": "stream",
     "text": [
      "Training: 100%|\u001b[32m██████████\u001b[0m| 23/23 [00:13<00:00,  1.67it/s, loss=1.3749]\n",
      "Validation: 100%|\u001b[31m██████████\u001b[0m| 23/23 [00:06<00:00,  3.74it/s, loss=1.3096]\n"
     ]
    },
    {
     "name": "stdout",
     "output_type": "stream",
     "text": [
      "\n",
      "Epoch 13 Summary:\n",
      "  Train Loss: 1.4977, Train Pixel Accuracy: 67.06%\n",
      "  Validation Loss: 1.2743, Validation Pixel Accuracy: 73.30%\n",
      "  Current learning rate: 0.001000\n",
      "------------------------------\n",
      "--- Epoch 14/300 ---\n"
     ]
    },
    {
     "name": "stderr",
     "output_type": "stream",
     "text": [
      "Training: 100%|\u001b[32m██████████\u001b[0m| 23/23 [00:13<00:00,  1.67it/s, loss=1.5138]\n",
      "Validation: 100%|\u001b[31m██████████\u001b[0m| 23/23 [00:06<00:00,  3.80it/s, loss=1.2824]\n"
     ]
    },
    {
     "name": "stdout",
     "output_type": "stream",
     "text": [
      "\n",
      "Epoch 14 Summary:\n",
      "  Train Loss: 1.4778, Train Pixel Accuracy: 67.02%\n",
      "  Validation Loss: 1.2361, Validation Pixel Accuracy: 73.30%\n",
      "  Current learning rate: 0.001000\n",
      "  ---> New best model saved to /kaggle/working/fcn_voc_best.pth (Validation Loss: 1.2361)\n",
      "------------------------------\n",
      "--- Epoch 15/300 ---\n"
     ]
    },
    {
     "name": "stderr",
     "output_type": "stream",
     "text": [
      "Training: 100%|\u001b[32m██████████\u001b[0m| 23/23 [00:13<00:00,  1.67it/s, loss=1.2908]\n",
      "Validation: 100%|\u001b[31m██████████\u001b[0m| 23/23 [00:06<00:00,  3.81it/s, loss=1.2835]\n"
     ]
    },
    {
     "name": "stdout",
     "output_type": "stream",
     "text": [
      "\n",
      "Epoch 15 Summary:\n",
      "  Train Loss: 1.4525, Train Pixel Accuracy: 67.27%\n",
      "  Validation Loss: 1.2386, Validation Pixel Accuracy: 73.28%\n",
      "  Current learning rate: 0.001000\n",
      "------------------------------\n",
      "--- Epoch 16/300 ---\n"
     ]
    },
    {
     "name": "stderr",
     "output_type": "stream",
     "text": [
      "Training: 100%|\u001b[32m██████████\u001b[0m| 23/23 [00:13<00:00,  1.67it/s, loss=1.6075]\n",
      "Validation: 100%|\u001b[31m██████████\u001b[0m| 23/23 [00:05<00:00,  3.88it/s, loss=1.2694]\n"
     ]
    },
    {
     "name": "stdout",
     "output_type": "stream",
     "text": [
      "\n",
      "Epoch 16 Summary:\n",
      "  Train Loss: 1.4592, Train Pixel Accuracy: 67.06%\n",
      "  Validation Loss: 1.2380, Validation Pixel Accuracy: 73.31%\n",
      "  Current learning rate: 0.001000\n",
      "------------------------------\n",
      "--- Epoch 17/300 ---\n"
     ]
    },
    {
     "name": "stderr",
     "output_type": "stream",
     "text": [
      "Training: 100%|\u001b[32m██████████\u001b[0m| 23/23 [00:13<00:00,  1.67it/s, loss=1.5161]\n",
      "Validation: 100%|\u001b[31m██████████\u001b[0m| 23/23 [00:05<00:00,  3.89it/s, loss=1.3739]\n"
     ]
    },
    {
     "name": "stdout",
     "output_type": "stream",
     "text": [
      "\n",
      "Epoch 17 Summary:\n",
      "  Train Loss: 1.4372, Train Pixel Accuracy: 67.14%\n",
      "  Validation Loss: 1.3188, Validation Pixel Accuracy: 70.96%\n",
      "  Current learning rate: 0.001000\n",
      "------------------------------\n",
      "--- Epoch 18/300 ---\n"
     ]
    },
    {
     "name": "stderr",
     "output_type": "stream",
     "text": [
      "Training: 100%|\u001b[32m██████████\u001b[0m| 23/23 [00:13<00:00,  1.67it/s, loss=1.3537]\n",
      "Validation: 100%|\u001b[31m██████████\u001b[0m| 23/23 [00:06<00:00,  3.68it/s, loss=1.2289]\n"
     ]
    },
    {
     "name": "stdout",
     "output_type": "stream",
     "text": [
      "\n",
      "Epoch 18 Summary:\n",
      "  Train Loss: 1.4407, Train Pixel Accuracy: 66.97%\n",
      "  Validation Loss: 1.2207, Validation Pixel Accuracy: 73.29%\n",
      "  Current learning rate: 0.001000\n",
      "  ---> New best model saved to /kaggle/working/fcn_voc_best.pth (Validation Loss: 1.2207)\n",
      "------------------------------\n",
      "--- Epoch 19/300 ---\n"
     ]
    },
    {
     "name": "stderr",
     "output_type": "stream",
     "text": [
      "Training: 100%|\u001b[32m██████████\u001b[0m| 23/23 [00:13<00:00,  1.67it/s, loss=1.4141]\n",
      "Validation: 100%|\u001b[31m██████████\u001b[0m| 23/23 [00:05<00:00,  3.90it/s, loss=1.2258]\n"
     ]
    },
    {
     "name": "stdout",
     "output_type": "stream",
     "text": [
      "\n",
      "Epoch 19 Summary:\n",
      "  Train Loss: 1.4230, Train Pixel Accuracy: 67.13%\n",
      "  Validation Loss: 1.1882, Validation Pixel Accuracy: 73.28%\n",
      "  Current learning rate: 0.001000\n",
      "  ---> New best model saved to /kaggle/working/fcn_voc_best.pth (Validation Loss: 1.1882)\n",
      "------------------------------\n",
      "--- Epoch 20/300 ---\n"
     ]
    },
    {
     "name": "stderr",
     "output_type": "stream",
     "text": [
      "Training: 100%|\u001b[32m██████████\u001b[0m| 23/23 [00:13<00:00,  1.68it/s, loss=1.5151]\n",
      "Validation: 100%|\u001b[31m██████████\u001b[0m| 23/23 [00:06<00:00,  3.83it/s, loss=1.2384]\n"
     ]
    },
    {
     "name": "stdout",
     "output_type": "stream",
     "text": [
      "\n",
      "Epoch 20 Summary:\n",
      "  Train Loss: 1.4094, Train Pixel Accuracy: 67.04%\n",
      "  Validation Loss: 1.2101, Validation Pixel Accuracy: 73.29%\n",
      "  Current learning rate: 0.001000\n",
      "------------------------------\n",
      "--- Epoch 21/300 ---\n"
     ]
    },
    {
     "name": "stderr",
     "output_type": "stream",
     "text": [
      "Training: 100%|\u001b[32m██████████\u001b[0m| 23/23 [00:13<00:00,  1.67it/s, loss=1.2674]\n",
      "Validation: 100%|\u001b[31m██████████\u001b[0m| 23/23 [00:06<00:00,  3.80it/s, loss=1.2085]\n"
     ]
    },
    {
     "name": "stdout",
     "output_type": "stream",
     "text": [
      "\n",
      "Epoch 21 Summary:\n",
      "  Train Loss: 1.4202, Train Pixel Accuracy: 67.08%\n",
      "  Validation Loss: 1.1776, Validation Pixel Accuracy: 73.34%\n",
      "  Current learning rate: 0.001000\n",
      "  ---> New best model saved to /kaggle/working/fcn_voc_best.pth (Validation Loss: 1.1776)\n",
      "------------------------------\n",
      "--- Epoch 22/300 ---\n"
     ]
    },
    {
     "name": "stderr",
     "output_type": "stream",
     "text": [
      "Training: 100%|\u001b[32m██████████\u001b[0m| 23/23 [00:13<00:00,  1.67it/s, loss=1.4825]\n",
      "Validation: 100%|\u001b[31m██████████\u001b[0m| 23/23 [00:05<00:00,  3.91it/s, loss=1.2374]\n"
     ]
    },
    {
     "name": "stdout",
     "output_type": "stream",
     "text": [
      "\n",
      "Epoch 22 Summary:\n",
      "  Train Loss: 1.4235, Train Pixel Accuracy: 67.06%\n",
      "  Validation Loss: 1.2230, Validation Pixel Accuracy: 72.85%\n",
      "  Current learning rate: 0.001000\n",
      "------------------------------\n",
      "--- Epoch 23/300 ---\n"
     ]
    },
    {
     "name": "stderr",
     "output_type": "stream",
     "text": [
      "Training: 100%|\u001b[32m██████████\u001b[0m| 23/23 [00:13<00:00,  1.67it/s, loss=1.6257]\n",
      "Validation: 100%|\u001b[31m██████████\u001b[0m| 23/23 [00:06<00:00,  3.73it/s, loss=1.2493]\n"
     ]
    },
    {
     "name": "stdout",
     "output_type": "stream",
     "text": [
      "\n",
      "Epoch 23 Summary:\n",
      "  Train Loss: 1.4013, Train Pixel Accuracy: 67.03%\n",
      "  Validation Loss: 1.2268, Validation Pixel Accuracy: 73.24%\n",
      "  Current learning rate: 0.001000\n",
      "------------------------------\n",
      "--- Epoch 24/300 ---\n"
     ]
    },
    {
     "name": "stderr",
     "output_type": "stream",
     "text": [
      "Training: 100%|\u001b[32m██████████\u001b[0m| 23/23 [00:13<00:00,  1.68it/s, loss=1.5633]\n",
      "Validation: 100%|\u001b[31m██████████\u001b[0m| 23/23 [00:06<00:00,  3.77it/s, loss=1.2346]\n"
     ]
    },
    {
     "name": "stdout",
     "output_type": "stream",
     "text": [
      "\n",
      "Epoch 24 Summary:\n",
      "  Train Loss: 1.4041, Train Pixel Accuracy: 66.90%\n",
      "  Validation Loss: 1.2142, Validation Pixel Accuracy: 73.37%\n",
      "  Current learning rate: 0.001000\n",
      "------------------------------\n",
      "--- Epoch 25/300 ---\n"
     ]
    },
    {
     "name": "stderr",
     "output_type": "stream",
     "text": [
      "Training: 100%|\u001b[32m██████████\u001b[0m| 23/23 [00:13<00:00,  1.67it/s, loss=1.3917]\n",
      "Validation: 100%|\u001b[31m██████████\u001b[0m| 23/23 [00:05<00:00,  3.90it/s, loss=1.2151]\n"
     ]
    },
    {
     "name": "stdout",
     "output_type": "stream",
     "text": [
      "\n",
      "Epoch 25 Summary:\n",
      "  Train Loss: 1.3910, Train Pixel Accuracy: 67.17%\n",
      "  Validation Loss: 1.1838, Validation Pixel Accuracy: 73.36%\n",
      "  Current learning rate: 0.001000\n",
      "------------------------------\n",
      "--- Epoch 26/300 ---\n"
     ]
    },
    {
     "name": "stderr",
     "output_type": "stream",
     "text": [
      "Training: 100%|\u001b[32m██████████\u001b[0m| 23/23 [00:13<00:00,  1.68it/s, loss=1.2585]\n",
      "Validation: 100%|\u001b[31m██████████\u001b[0m| 23/23 [00:06<00:00,  3.80it/s, loss=1.2021]\n"
     ]
    },
    {
     "name": "stdout",
     "output_type": "stream",
     "text": [
      "\n",
      "Epoch 26 Summary:\n",
      "  Train Loss: 1.4010, Train Pixel Accuracy: 67.19%\n",
      "  Validation Loss: 1.1799, Validation Pixel Accuracy: 73.30%\n",
      "  Current learning rate: 0.001000\n",
      "------------------------------\n",
      "--- Epoch 27/300 ---\n"
     ]
    },
    {
     "name": "stderr",
     "output_type": "stream",
     "text": [
      "Training: 100%|\u001b[32m██████████\u001b[0m| 23/23 [00:13<00:00,  1.66it/s, loss=1.5256]\n",
      "Validation: 100%|\u001b[31m██████████\u001b[0m| 23/23 [00:06<00:00,  3.77it/s, loss=1.2574]\n"
     ]
    },
    {
     "name": "stdout",
     "output_type": "stream",
     "text": [
      "\n",
      "Epoch 27 Summary:\n",
      "  Train Loss: 1.3846, Train Pixel Accuracy: 67.18%\n",
      "  Validation Loss: 1.2090, Validation Pixel Accuracy: 72.82%\n",
      "  Current learning rate: 0.000200\n",
      "------------------------------\n",
      "--- Epoch 28/300 ---\n"
     ]
    },
    {
     "name": "stderr",
     "output_type": "stream",
     "text": [
      "Training: 100%|\u001b[32m██████████\u001b[0m| 23/23 [00:13<00:00,  1.67it/s, loss=1.5269]\n",
      "Validation: 100%|\u001b[31m██████████\u001b[0m| 23/23 [00:06<00:00,  3.83it/s, loss=1.1758]\n"
     ]
    },
    {
     "name": "stdout",
     "output_type": "stream",
     "text": [
      "\n",
      "Epoch 28 Summary:\n",
      "  Train Loss: 1.3726, Train Pixel Accuracy: 67.10%\n",
      "  Validation Loss: 1.1478, Validation Pixel Accuracy: 73.31%\n",
      "  Current learning rate: 0.000200\n",
      "  ---> New best model saved to /kaggle/working/fcn_voc_best.pth (Validation Loss: 1.1478)\n",
      "------------------------------\n",
      "--- Epoch 29/300 ---\n"
     ]
    },
    {
     "name": "stderr",
     "output_type": "stream",
     "text": [
      "Training: 100%|\u001b[32m██████████\u001b[0m| 23/23 [00:13<00:00,  1.66it/s, loss=1.3743]\n",
      "Validation: 100%|\u001b[31m██████████\u001b[0m| 23/23 [00:05<00:00,  3.90it/s, loss=1.1792]\n"
     ]
    },
    {
     "name": "stdout",
     "output_type": "stream",
     "text": [
      "\n",
      "Epoch 29 Summary:\n",
      "  Train Loss: 1.3571, Train Pixel Accuracy: 67.24%\n",
      "  Validation Loss: 1.1501, Validation Pixel Accuracy: 73.22%\n",
      "  Current learning rate: 0.000200\n",
      "------------------------------\n",
      "--- Epoch 30/300 ---\n"
     ]
    },
    {
     "name": "stderr",
     "output_type": "stream",
     "text": [
      "Training: 100%|\u001b[32m██████████\u001b[0m| 23/23 [00:13<00:00,  1.67it/s, loss=1.2218]\n",
      "Validation: 100%|\u001b[31m██████████\u001b[0m| 23/23 [00:06<00:00,  3.74it/s, loss=1.1830]\n"
     ]
    },
    {
     "name": "stdout",
     "output_type": "stream",
     "text": [
      "\n",
      "Epoch 30 Summary:\n",
      "  Train Loss: 1.3470, Train Pixel Accuracy: 67.45%\n",
      "  Validation Loss: 1.1537, Validation Pixel Accuracy: 73.15%\n",
      "  Current learning rate: 0.000200\n",
      "------------------------------\n",
      "--- Epoch 31/300 ---\n"
     ]
    },
    {
     "name": "stderr",
     "output_type": "stream",
     "text": [
      "Training: 100%|\u001b[32m██████████\u001b[0m| 23/23 [00:13<00:00,  1.68it/s, loss=1.3492]\n",
      "Validation: 100%|\u001b[31m██████████\u001b[0m| 23/23 [00:06<00:00,  3.74it/s, loss=1.1646]\n"
     ]
    },
    {
     "name": "stdout",
     "output_type": "stream",
     "text": [
      "\n",
      "Epoch 31 Summary:\n",
      "  Train Loss: 1.3513, Train Pixel Accuracy: 67.19%\n",
      "  Validation Loss: 1.1349, Validation Pixel Accuracy: 73.29%\n",
      "  Current learning rate: 0.000200\n",
      "  ---> New best model saved to /kaggle/working/fcn_voc_best.pth (Validation Loss: 1.1349)\n",
      "------------------------------\n",
      "--- Epoch 32/300 ---\n"
     ]
    },
    {
     "name": "stderr",
     "output_type": "stream",
     "text": [
      "Training: 100%|\u001b[32m██████████\u001b[0m| 23/23 [00:13<00:00,  1.67it/s, loss=1.3557]\n",
      "Validation: 100%|\u001b[31m██████████\u001b[0m| 23/23 [00:06<00:00,  3.82it/s, loss=1.1541]\n"
     ]
    },
    {
     "name": "stdout",
     "output_type": "stream",
     "text": [
      "\n",
      "Epoch 32 Summary:\n",
      "  Train Loss: 1.3446, Train Pixel Accuracy: 67.24%\n",
      "  Validation Loss: 1.1287, Validation Pixel Accuracy: 73.37%\n",
      "  Current learning rate: 0.000200\n",
      "  ---> New best model saved to /kaggle/working/fcn_voc_best.pth (Validation Loss: 1.1287)\n",
      "------------------------------\n",
      "--- Epoch 33/300 ---\n"
     ]
    },
    {
     "name": "stderr",
     "output_type": "stream",
     "text": [
      "Training: 100%|\u001b[32m██████████\u001b[0m| 23/23 [00:13<00:00,  1.67it/s, loss=1.2116]\n",
      "Validation: 100%|\u001b[31m██████████\u001b[0m| 23/23 [00:05<00:00,  3.84it/s, loss=1.1732]\n"
     ]
    },
    {
     "name": "stdout",
     "output_type": "stream",
     "text": [
      "\n",
      "Epoch 33 Summary:\n",
      "  Train Loss: 1.3522, Train Pixel Accuracy: 67.06%\n",
      "  Validation Loss: 1.1366, Validation Pixel Accuracy: 73.33%\n",
      "  Current learning rate: 0.000200\n",
      "------------------------------\n",
      "--- Epoch 34/300 ---\n"
     ]
    },
    {
     "name": "stderr",
     "output_type": "stream",
     "text": [
      "Training: 100%|\u001b[32m██████████\u001b[0m| 23/23 [00:13<00:00,  1.67it/s, loss=1.5669]\n",
      "Validation: 100%|\u001b[31m██████████\u001b[0m| 23/23 [00:05<00:00,  3.84it/s, loss=1.1897]\n"
     ]
    },
    {
     "name": "stdout",
     "output_type": "stream",
     "text": [
      "\n",
      "Epoch 34 Summary:\n",
      "  Train Loss: 1.3451, Train Pixel Accuracy: 67.26%\n",
      "  Validation Loss: 1.1596, Validation Pixel Accuracy: 73.14%\n",
      "  Current learning rate: 0.000200\n",
      "------------------------------\n",
      "--- Epoch 35/300 ---\n"
     ]
    },
    {
     "name": "stderr",
     "output_type": "stream",
     "text": [
      "Training: 100%|\u001b[32m██████████\u001b[0m| 23/23 [00:13<00:00,  1.66it/s, loss=1.2461]\n",
      "Validation: 100%|\u001b[31m██████████\u001b[0m| 23/23 [00:06<00:00,  3.82it/s, loss=1.1646]\n"
     ]
    },
    {
     "name": "stdout",
     "output_type": "stream",
     "text": [
      "\n",
      "Epoch 35 Summary:\n",
      "  Train Loss: 1.3378, Train Pixel Accuracy: 67.14%\n",
      "  Validation Loss: 1.1332, Validation Pixel Accuracy: 73.28%\n",
      "  Current learning rate: 0.000200\n",
      "------------------------------\n",
      "--- Epoch 36/300 ---\n"
     ]
    },
    {
     "name": "stderr",
     "output_type": "stream",
     "text": [
      "Training: 100%|\u001b[32m██████████\u001b[0m| 23/23 [00:13<00:00,  1.67it/s, loss=1.3163]\n",
      "Validation: 100%|\u001b[31m██████████\u001b[0m| 23/23 [00:06<00:00,  3.64it/s, loss=1.1938]\n"
     ]
    },
    {
     "name": "stdout",
     "output_type": "stream",
     "text": [
      "\n",
      "Epoch 36 Summary:\n",
      "  Train Loss: 1.3267, Train Pixel Accuracy: 67.42%\n",
      "  Validation Loss: 1.1629, Validation Pixel Accuracy: 73.04%\n",
      "  Current learning rate: 0.000200\n",
      "------------------------------\n",
      "--- Epoch 37/300 ---\n"
     ]
    },
    {
     "name": "stderr",
     "output_type": "stream",
     "text": [
      "Training: 100%|\u001b[32m██████████\u001b[0m| 23/23 [00:13<00:00,  1.67it/s, loss=1.3019]\n",
      "Validation: 100%|\u001b[31m██████████\u001b[0m| 23/23 [00:06<00:00,  3.80it/s, loss=1.1812]\n"
     ]
    },
    {
     "name": "stdout",
     "output_type": "stream",
     "text": [
      "\n",
      "Epoch 37 Summary:\n",
      "  Train Loss: 1.3219, Train Pixel Accuracy: 67.44%\n",
      "  Validation Loss: 1.1345, Validation Pixel Accuracy: 73.27%\n",
      "  Current learning rate: 0.000200\n",
      "------------------------------\n",
      "--- Epoch 38/300 ---\n"
     ]
    },
    {
     "name": "stderr",
     "output_type": "stream",
     "text": [
      "Training: 100%|\u001b[32m██████████\u001b[0m| 23/23 [00:13<00:00,  1.67it/s, loss=1.3266]\n",
      "Validation: 100%|\u001b[31m██████████\u001b[0m| 23/23 [00:06<00:00,  3.75it/s, loss=1.1438]\n"
     ]
    },
    {
     "name": "stdout",
     "output_type": "stream",
     "text": [
      "\n",
      "Epoch 38 Summary:\n",
      "  Train Loss: 1.3231, Train Pixel Accuracy: 67.39%\n",
      "  Validation Loss: 1.1232, Validation Pixel Accuracy: 73.33%\n",
      "  Current learning rate: 0.000200\n",
      "  ---> New best model saved to /kaggle/working/fcn_voc_best.pth (Validation Loss: 1.1232)\n",
      "------------------------------\n",
      "--- Epoch 39/300 ---\n"
     ]
    },
    {
     "name": "stderr",
     "output_type": "stream",
     "text": [
      "Training: 100%|\u001b[32m██████████\u001b[0m| 23/23 [00:13<00:00,  1.66it/s, loss=1.4906]\n",
      "Validation: 100%|\u001b[31m██████████\u001b[0m| 23/23 [00:06<00:00,  3.76it/s, loss=1.1312]\n"
     ]
    },
    {
     "name": "stdout",
     "output_type": "stream",
     "text": [
      "\n",
      "Epoch 39 Summary:\n",
      "  Train Loss: 1.3291, Train Pixel Accuracy: 67.28%\n",
      "  Validation Loss: 1.1125, Validation Pixel Accuracy: 73.29%\n",
      "  Current learning rate: 0.000200\n",
      "  ---> New best model saved to /kaggle/working/fcn_voc_best.pth (Validation Loss: 1.1125)\n",
      "------------------------------\n",
      "--- Epoch 40/300 ---\n"
     ]
    },
    {
     "name": "stderr",
     "output_type": "stream",
     "text": [
      "Training: 100%|\u001b[32m██████████\u001b[0m| 23/23 [00:13<00:00,  1.66it/s, loss=1.2786]\n",
      "Validation: 100%|\u001b[31m██████████\u001b[0m| 23/23 [00:05<00:00,  3.87it/s, loss=1.1645]\n"
     ]
    },
    {
     "name": "stdout",
     "output_type": "stream",
     "text": [
      "\n",
      "Epoch 40 Summary:\n",
      "  Train Loss: 1.3222, Train Pixel Accuracy: 67.19%\n",
      "  Validation Loss: 1.1297, Validation Pixel Accuracy: 73.13%\n",
      "  Current learning rate: 0.000200\n",
      "------------------------------\n",
      "--- Epoch 41/300 ---\n"
     ]
    },
    {
     "name": "stderr",
     "output_type": "stream",
     "text": [
      "Training: 100%|\u001b[32m██████████\u001b[0m| 23/23 [00:13<00:00,  1.67it/s, loss=1.3557]\n",
      "Validation: 100%|\u001b[31m██████████\u001b[0m| 23/23 [00:06<00:00,  3.73it/s, loss=1.1322]\n"
     ]
    },
    {
     "name": "stdout",
     "output_type": "stream",
     "text": [
      "\n",
      "Epoch 41 Summary:\n",
      "  Train Loss: 1.3228, Train Pixel Accuracy: 67.32%\n",
      "  Validation Loss: 1.1102, Validation Pixel Accuracy: 73.34%\n",
      "  Current learning rate: 0.000200\n",
      "  ---> New best model saved to /kaggle/working/fcn_voc_best.pth (Validation Loss: 1.1102)\n",
      "------------------------------\n",
      "--- Epoch 42/300 ---\n"
     ]
    },
    {
     "name": "stderr",
     "output_type": "stream",
     "text": [
      "Training: 100%|\u001b[32m██████████\u001b[0m| 23/23 [00:13<00:00,  1.68it/s, loss=1.3711]\n",
      "Validation: 100%|\u001b[31m██████████\u001b[0m| 23/23 [00:06<00:00,  3.67it/s, loss=1.1246]\n"
     ]
    },
    {
     "name": "stdout",
     "output_type": "stream",
     "text": [
      "\n",
      "Epoch 42 Summary:\n",
      "  Train Loss: 1.3166, Train Pixel Accuracy: 67.34%\n",
      "  Validation Loss: 1.1169, Validation Pixel Accuracy: 73.32%\n",
      "  Current learning rate: 0.000200\n",
      "------------------------------\n",
      "--- Epoch 43/300 ---\n"
     ]
    },
    {
     "name": "stderr",
     "output_type": "stream",
     "text": [
      "Training: 100%|\u001b[32m██████████\u001b[0m| 23/23 [00:13<00:00,  1.66it/s, loss=1.3103]\n",
      "Validation: 100%|\u001b[31m██████████\u001b[0m| 23/23 [00:06<00:00,  3.79it/s, loss=1.1299]\n"
     ]
    },
    {
     "name": "stdout",
     "output_type": "stream",
     "text": [
      "\n",
      "Epoch 43 Summary:\n",
      "  Train Loss: 1.3159, Train Pixel Accuracy: 67.38%\n",
      "  Validation Loss: 1.1374, Validation Pixel Accuracy: 73.13%\n",
      "  Current learning rate: 0.000200\n",
      "------------------------------\n",
      "--- Epoch 44/300 ---\n"
     ]
    },
    {
     "name": "stderr",
     "output_type": "stream",
     "text": [
      "Training: 100%|\u001b[32m██████████\u001b[0m| 23/23 [00:13<00:00,  1.67it/s, loss=1.2555]\n",
      "Validation: 100%|\u001b[31m██████████\u001b[0m| 23/23 [00:06<00:00,  3.69it/s, loss=1.1173]\n"
     ]
    },
    {
     "name": "stdout",
     "output_type": "stream",
     "text": [
      "\n",
      "Epoch 44 Summary:\n",
      "  Train Loss: 1.3182, Train Pixel Accuracy: 67.43%\n",
      "  Validation Loss: 1.1152, Validation Pixel Accuracy: 73.13%\n",
      "  Current learning rate: 0.000200\n",
      "------------------------------\n",
      "--- Epoch 45/300 ---\n"
     ]
    },
    {
     "name": "stderr",
     "output_type": "stream",
     "text": [
      "Training: 100%|\u001b[32m██████████\u001b[0m| 23/23 [00:13<00:00,  1.67it/s, loss=1.1850]\n",
      "Validation: 100%|\u001b[31m██████████\u001b[0m| 23/23 [00:05<00:00,  3.84it/s, loss=1.0912]\n"
     ]
    },
    {
     "name": "stdout",
     "output_type": "stream",
     "text": [
      "\n",
      "Epoch 45 Summary:\n",
      "  Train Loss: 1.3025, Train Pixel Accuracy: 67.34%\n",
      "  Validation Loss: 1.1020, Validation Pixel Accuracy: 73.32%\n",
      "  Current learning rate: 0.000200\n",
      "  ---> New best model saved to /kaggle/working/fcn_voc_best.pth (Validation Loss: 1.1020)\n",
      "------------------------------\n",
      "--- Epoch 46/300 ---\n"
     ]
    },
    {
     "name": "stderr",
     "output_type": "stream",
     "text": [
      "Training: 100%|\u001b[32m██████████\u001b[0m| 23/23 [00:13<00:00,  1.67it/s, loss=1.3528]\n",
      "Validation: 100%|\u001b[31m██████████\u001b[0m| 23/23 [00:05<00:00,  3.87it/s, loss=1.1150]\n"
     ]
    },
    {
     "name": "stdout",
     "output_type": "stream",
     "text": [
      "\n",
      "Epoch 46 Summary:\n",
      "  Train Loss: 1.3034, Train Pixel Accuracy: 67.53%\n",
      "  Validation Loss: 1.1069, Validation Pixel Accuracy: 73.25%\n",
      "  Current learning rate: 0.000200\n",
      "------------------------------\n",
      "--- Epoch 47/300 ---\n"
     ]
    },
    {
     "name": "stderr",
     "output_type": "stream",
     "text": [
      "Training: 100%|\u001b[32m██████████\u001b[0m| 23/23 [00:13<00:00,  1.68it/s, loss=1.3181]\n",
      "Validation: 100%|\u001b[31m██████████\u001b[0m| 23/23 [00:05<00:00,  3.84it/s, loss=1.0987]\n"
     ]
    },
    {
     "name": "stdout",
     "output_type": "stream",
     "text": [
      "\n",
      "Epoch 47 Summary:\n",
      "  Train Loss: 1.3030, Train Pixel Accuracy: 67.59%\n",
      "  Validation Loss: 1.1007, Validation Pixel Accuracy: 73.32%\n",
      "  Current learning rate: 0.000200\n",
      "  ---> New best model saved to /kaggle/working/fcn_voc_best.pth (Validation Loss: 1.1007)\n",
      "------------------------------\n",
      "--- Epoch 48/300 ---\n"
     ]
    },
    {
     "name": "stderr",
     "output_type": "stream",
     "text": [
      "Training: 100%|\u001b[32m██████████\u001b[0m| 23/23 [00:13<00:00,  1.66it/s, loss=1.1638]\n",
      "Validation: 100%|\u001b[31m██████████\u001b[0m| 23/23 [00:06<00:00,  3.75it/s, loss=1.0953]\n"
     ]
    },
    {
     "name": "stdout",
     "output_type": "stream",
     "text": [
      "\n",
      "Epoch 48 Summary:\n",
      "  Train Loss: 1.2995, Train Pixel Accuracy: 67.43%\n",
      "  Validation Loss: 1.0893, Validation Pixel Accuracy: 73.42%\n",
      "  Current learning rate: 0.000200\n",
      "  ---> New best model saved to /kaggle/working/fcn_voc_best.pth (Validation Loss: 1.0893)\n",
      "------------------------------\n",
      "--- Epoch 49/300 ---\n"
     ]
    },
    {
     "name": "stderr",
     "output_type": "stream",
     "text": [
      "Training: 100%|\u001b[32m██████████\u001b[0m| 23/23 [00:13<00:00,  1.66it/s, loss=1.4124]\n",
      "Validation: 100%|\u001b[31m██████████\u001b[0m| 23/23 [00:06<00:00,  3.83it/s, loss=1.0903]\n"
     ]
    },
    {
     "name": "stdout",
     "output_type": "stream",
     "text": [
      "\n",
      "Epoch 49 Summary:\n",
      "  Train Loss: 1.2977, Train Pixel Accuracy: 67.64%\n",
      "  Validation Loss: 1.0938, Validation Pixel Accuracy: 73.20%\n",
      "  Current learning rate: 0.000200\n",
      "------------------------------\n",
      "--- Epoch 50/300 ---\n"
     ]
    },
    {
     "name": "stderr",
     "output_type": "stream",
     "text": [
      "Training: 100%|\u001b[32m██████████\u001b[0m| 23/23 [00:13<00:00,  1.67it/s, loss=1.3627]\n",
      "Validation: 100%|\u001b[31m██████████\u001b[0m| 23/23 [00:05<00:00,  3.85it/s, loss=1.0845]\n"
     ]
    },
    {
     "name": "stdout",
     "output_type": "stream",
     "text": [
      "\n",
      "Epoch 50 Summary:\n",
      "  Train Loss: 1.2872, Train Pixel Accuracy: 67.54%\n",
      "  Validation Loss: 1.0956, Validation Pixel Accuracy: 73.12%\n",
      "  Current learning rate: 0.000200\n",
      "------------------------------\n",
      "--- Epoch 51/300 ---\n"
     ]
    },
    {
     "name": "stderr",
     "output_type": "stream",
     "text": [
      "Training: 100%|\u001b[32m██████████\u001b[0m| 23/23 [00:13<00:00,  1.67it/s, loss=1.3709]\n",
      "Validation: 100%|\u001b[31m██████████\u001b[0m| 23/23 [00:05<00:00,  3.87it/s, loss=1.0757]\n"
     ]
    },
    {
     "name": "stdout",
     "output_type": "stream",
     "text": [
      "\n",
      "Epoch 51 Summary:\n",
      "  Train Loss: 1.2895, Train Pixel Accuracy: 67.56%\n",
      "  Validation Loss: 1.0828, Validation Pixel Accuracy: 73.35%\n",
      "  Current learning rate: 0.000200\n",
      "  ---> New best model saved to /kaggle/working/fcn_voc_best.pth (Validation Loss: 1.0828)\n",
      "------------------------------\n",
      "--- Epoch 52/300 ---\n"
     ]
    },
    {
     "name": "stderr",
     "output_type": "stream",
     "text": [
      "Training: 100%|\u001b[32m██████████\u001b[0m| 23/23 [00:13<00:00,  1.67it/s, loss=1.2079]\n",
      "Validation: 100%|\u001b[31m██████████\u001b[0m| 23/23 [00:06<00:00,  3.81it/s, loss=1.0885]\n"
     ]
    },
    {
     "name": "stdout",
     "output_type": "stream",
     "text": [
      "\n",
      "Epoch 52 Summary:\n",
      "  Train Loss: 1.2959, Train Pixel Accuracy: 67.44%\n",
      "  Validation Loss: 1.0968, Validation Pixel Accuracy: 73.42%\n",
      "  Current learning rate: 0.000200\n",
      "------------------------------\n",
      "--- Epoch 53/300 ---\n"
     ]
    },
    {
     "name": "stderr",
     "output_type": "stream",
     "text": [
      "Training: 100%|\u001b[32m██████████\u001b[0m| 23/23 [00:13<00:00,  1.67it/s, loss=1.1738]\n",
      "Validation: 100%|\u001b[31m██████████\u001b[0m| 23/23 [00:06<00:00,  3.79it/s, loss=1.0847]\n"
     ]
    },
    {
     "name": "stdout",
     "output_type": "stream",
     "text": [
      "\n",
      "Epoch 53 Summary:\n",
      "  Train Loss: 1.2783, Train Pixel Accuracy: 67.67%\n",
      "  Validation Loss: 1.0817, Validation Pixel Accuracy: 73.42%\n",
      "  Current learning rate: 0.000200\n",
      "  ---> New best model saved to /kaggle/working/fcn_voc_best.pth (Validation Loss: 1.0817)\n",
      "------------------------------\n",
      "--- Epoch 54/300 ---\n"
     ]
    },
    {
     "name": "stderr",
     "output_type": "stream",
     "text": [
      "Training: 100%|\u001b[32m██████████\u001b[0m| 23/23 [00:13<00:00,  1.67it/s, loss=1.3801]\n",
      "Validation: 100%|\u001b[31m██████████\u001b[0m| 23/23 [00:05<00:00,  3.93it/s, loss=1.0807]\n"
     ]
    },
    {
     "name": "stdout",
     "output_type": "stream",
     "text": [
      "\n",
      "Epoch 54 Summary:\n",
      "  Train Loss: 1.2791, Train Pixel Accuracy: 67.89%\n",
      "  Validation Loss: 1.0934, Validation Pixel Accuracy: 73.13%\n",
      "  Current learning rate: 0.000200\n",
      "------------------------------\n",
      "--- Epoch 55/300 ---\n"
     ]
    },
    {
     "name": "stderr",
     "output_type": "stream",
     "text": [
      "Training: 100%|\u001b[32m██████████\u001b[0m| 23/23 [00:13<00:00,  1.68it/s, loss=1.3874]\n",
      "Validation: 100%|\u001b[31m██████████\u001b[0m| 23/23 [00:05<00:00,  3.96it/s, loss=1.1019]\n"
     ]
    },
    {
     "name": "stdout",
     "output_type": "stream",
     "text": [
      "\n",
      "Epoch 55 Summary:\n",
      "  Train Loss: 1.2765, Train Pixel Accuracy: 67.60%\n",
      "  Validation Loss: 1.1088, Validation Pixel Accuracy: 72.88%\n",
      "  Current learning rate: 0.000200\n",
      "------------------------------\n",
      "--- Epoch 56/300 ---\n"
     ]
    },
    {
     "name": "stderr",
     "output_type": "stream",
     "text": [
      "Training: 100%|\u001b[32m██████████\u001b[0m| 23/23 [00:13<00:00,  1.68it/s, loss=1.0666]\n",
      "Validation: 100%|\u001b[31m██████████\u001b[0m| 23/23 [00:05<00:00,  3.91it/s, loss=1.0719]\n"
     ]
    },
    {
     "name": "stdout",
     "output_type": "stream",
     "text": [
      "\n",
      "Epoch 56 Summary:\n",
      "  Train Loss: 1.2770, Train Pixel Accuracy: 67.69%\n",
      "  Validation Loss: 1.0795, Validation Pixel Accuracy: 73.39%\n",
      "  Current learning rate: 0.000200\n",
      "  ---> New best model saved to /kaggle/working/fcn_voc_best.pth (Validation Loss: 1.0795)\n",
      "------------------------------\n",
      "--- Epoch 57/300 ---\n"
     ]
    },
    {
     "name": "stderr",
     "output_type": "stream",
     "text": [
      "Training: 100%|\u001b[32m██████████\u001b[0m| 23/23 [00:13<00:00,  1.67it/s, loss=1.2165]\n",
      "Validation: 100%|\u001b[31m██████████\u001b[0m| 23/23 [00:06<00:00,  3.71it/s, loss=1.0723]\n"
     ]
    },
    {
     "name": "stdout",
     "output_type": "stream",
     "text": [
      "\n",
      "Epoch 57 Summary:\n",
      "  Train Loss: 1.2622, Train Pixel Accuracy: 67.89%\n",
      "  Validation Loss: 1.0901, Validation Pixel Accuracy: 73.06%\n",
      "  Current learning rate: 0.000200\n",
      "------------------------------\n",
      "--- Epoch 58/300 ---\n"
     ]
    },
    {
     "name": "stderr",
     "output_type": "stream",
     "text": [
      "Training: 100%|\u001b[32m██████████\u001b[0m| 23/23 [00:13<00:00,  1.67it/s, loss=1.3114]\n",
      "Validation: 100%|\u001b[31m██████████\u001b[0m| 23/23 [00:05<00:00,  4.03it/s, loss=1.0834]\n"
     ]
    },
    {
     "name": "stdout",
     "output_type": "stream",
     "text": [
      "\n",
      "Epoch 58 Summary:\n",
      "  Train Loss: 1.2669, Train Pixel Accuracy: 67.68%\n",
      "  Validation Loss: 1.0880, Validation Pixel Accuracy: 73.43%\n",
      "  Current learning rate: 0.000200\n",
      "------------------------------\n",
      "--- Epoch 59/300 ---\n"
     ]
    },
    {
     "name": "stderr",
     "output_type": "stream",
     "text": [
      "Training: 100%|\u001b[32m██████████\u001b[0m| 23/23 [00:13<00:00,  1.67it/s, loss=1.2764]\n",
      "Validation: 100%|\u001b[31m██████████\u001b[0m| 23/23 [00:06<00:00,  3.82it/s, loss=1.0401]\n"
     ]
    },
    {
     "name": "stdout",
     "output_type": "stream",
     "text": [
      "\n",
      "Epoch 59 Summary:\n",
      "  Train Loss: 1.2513, Train Pixel Accuracy: 68.04%\n",
      "  Validation Loss: 1.0542, Validation Pixel Accuracy: 73.42%\n",
      "  Current learning rate: 0.000200\n",
      "  ---> New best model saved to /kaggle/working/fcn_voc_best.pth (Validation Loss: 1.0542)\n",
      "------------------------------\n",
      "--- Epoch 60/300 ---\n"
     ]
    },
    {
     "name": "stderr",
     "output_type": "stream",
     "text": [
      "Training: 100%|\u001b[32m██████████\u001b[0m| 23/23 [00:13<00:00,  1.67it/s, loss=1.3214]\n",
      "Validation: 100%|\u001b[31m██████████\u001b[0m| 23/23 [00:05<00:00,  4.00it/s, loss=1.0644]\n"
     ]
    },
    {
     "name": "stdout",
     "output_type": "stream",
     "text": [
      "\n",
      "Epoch 60 Summary:\n",
      "  Train Loss: 1.2506, Train Pixel Accuracy: 67.75%\n",
      "  Validation Loss: 1.0786, Validation Pixel Accuracy: 73.32%\n",
      "  Current learning rate: 0.000200\n",
      "------------------------------\n",
      "--- Epoch 61/300 ---\n"
     ]
    },
    {
     "name": "stderr",
     "output_type": "stream",
     "text": [
      "Training: 100%|\u001b[32m██████████\u001b[0m| 23/23 [00:13<00:00,  1.68it/s, loss=1.1422]\n",
      "Validation: 100%|\u001b[31m██████████\u001b[0m| 23/23 [00:05<00:00,  3.88it/s, loss=1.0447]\n"
     ]
    },
    {
     "name": "stdout",
     "output_type": "stream",
     "text": [
      "\n",
      "Epoch 61 Summary:\n",
      "  Train Loss: 1.2442, Train Pixel Accuracy: 67.78%\n",
      "  Validation Loss: 1.0552, Validation Pixel Accuracy: 73.45%\n",
      "  Current learning rate: 0.000200\n",
      "------------------------------\n",
      "--- Epoch 62/300 ---\n"
     ]
    },
    {
     "name": "stderr",
     "output_type": "stream",
     "text": [
      "Training: 100%|\u001b[32m██████████\u001b[0m| 23/23 [00:13<00:00,  1.67it/s, loss=1.1251]\n",
      "Validation: 100%|\u001b[31m██████████\u001b[0m| 23/23 [00:06<00:00,  3.47it/s, loss=1.0370]\n"
     ]
    },
    {
     "name": "stdout",
     "output_type": "stream",
     "text": [
      "\n",
      "Epoch 62 Summary:\n",
      "  Train Loss: 1.2390, Train Pixel Accuracy: 68.06%\n",
      "  Validation Loss: 1.0581, Validation Pixel Accuracy: 73.21%\n",
      "  Current learning rate: 0.000200\n",
      "------------------------------\n",
      "--- Epoch 63/300 ---\n"
     ]
    },
    {
     "name": "stderr",
     "output_type": "stream",
     "text": [
      "Training: 100%|\u001b[32m██████████\u001b[0m| 23/23 [00:14<00:00,  1.62it/s, loss=1.1755]\n",
      "Validation: 100%|\u001b[31m██████████\u001b[0m| 23/23 [00:06<00:00,  3.75it/s, loss=1.0858]\n"
     ]
    },
    {
     "name": "stdout",
     "output_type": "stream",
     "text": [
      "\n",
      "Epoch 63 Summary:\n",
      "  Train Loss: 1.2403, Train Pixel Accuracy: 67.90%\n",
      "  Validation Loss: 1.0934, Validation Pixel Accuracy: 72.85%\n",
      "  Current learning rate: 0.000200\n",
      "------------------------------\n",
      "--- Epoch 64/300 ---\n"
     ]
    },
    {
     "name": "stderr",
     "output_type": "stream",
     "text": [
      "Training: 100%|\u001b[32m██████████\u001b[0m| 23/23 [00:13<00:00,  1.65it/s, loss=1.1110]\n",
      "Validation: 100%|\u001b[31m██████████\u001b[0m| 23/23 [00:05<00:00,  3.91it/s, loss=1.0226]\n"
     ]
    },
    {
     "name": "stdout",
     "output_type": "stream",
     "text": [
      "\n",
      "Epoch 64 Summary:\n",
      "  Train Loss: 1.2287, Train Pixel Accuracy: 68.18%\n",
      "  Validation Loss: 1.0476, Validation Pixel Accuracy: 73.43%\n",
      "  Current learning rate: 0.000200\n",
      "  ---> New best model saved to /kaggle/working/fcn_voc_best.pth (Validation Loss: 1.0476)\n",
      "------------------------------\n",
      "--- Epoch 65/300 ---\n"
     ]
    },
    {
     "name": "stderr",
     "output_type": "stream",
     "text": [
      "Training: 100%|\u001b[32m██████████\u001b[0m| 23/23 [00:13<00:00,  1.67it/s, loss=1.1705]\n",
      "Validation: 100%|\u001b[31m██████████\u001b[0m| 23/23 [00:06<00:00,  3.60it/s, loss=1.0546]\n"
     ]
    },
    {
     "name": "stdout",
     "output_type": "stream",
     "text": [
      "\n",
      "Epoch 65 Summary:\n",
      "  Train Loss: 1.2305, Train Pixel Accuracy: 68.17%\n",
      "  Validation Loss: 1.0732, Validation Pixel Accuracy: 73.22%\n",
      "  Current learning rate: 0.000200\n",
      "------------------------------\n",
      "--- Epoch 66/300 ---\n"
     ]
    },
    {
     "name": "stderr",
     "output_type": "stream",
     "text": [
      "Training: 100%|\u001b[32m██████████\u001b[0m| 23/23 [00:13<00:00,  1.65it/s, loss=1.1730]\n",
      "Validation: 100%|\u001b[31m██████████\u001b[0m| 23/23 [00:05<00:00,  3.86it/s, loss=1.0125]\n"
     ]
    },
    {
     "name": "stdout",
     "output_type": "stream",
     "text": [
      "\n",
      "Epoch 66 Summary:\n",
      "  Train Loss: 1.2175, Train Pixel Accuracy: 68.14%\n",
      "  Validation Loss: 1.0355, Validation Pixel Accuracy: 73.55%\n",
      "  Current learning rate: 0.000200\n",
      "  ---> New best model saved to /kaggle/working/fcn_voc_best.pth (Validation Loss: 1.0355)\n",
      "------------------------------\n",
      "--- Epoch 67/300 ---\n"
     ]
    },
    {
     "name": "stderr",
     "output_type": "stream",
     "text": [
      "Training: 100%|\u001b[32m██████████\u001b[0m| 23/23 [00:13<00:00,  1.66it/s, loss=1.0993]\n",
      "Validation: 100%|\u001b[31m██████████\u001b[0m| 23/23 [00:05<00:00,  3.90it/s, loss=1.0410]\n"
     ]
    },
    {
     "name": "stdout",
     "output_type": "stream",
     "text": [
      "\n",
      "Epoch 67 Summary:\n",
      "  Train Loss: 1.2348, Train Pixel Accuracy: 67.92%\n",
      "  Validation Loss: 1.0525, Validation Pixel Accuracy: 73.40%\n",
      "  Current learning rate: 0.000200\n",
      "------------------------------\n",
      "--- Epoch 68/300 ---\n"
     ]
    },
    {
     "name": "stderr",
     "output_type": "stream",
     "text": [
      "Training: 100%|\u001b[32m██████████\u001b[0m| 23/23 [00:13<00:00,  1.66it/s, loss=1.3380]\n",
      "Validation: 100%|\u001b[31m██████████\u001b[0m| 23/23 [00:06<00:00,  3.59it/s, loss=1.0376]\n"
     ]
    },
    {
     "name": "stdout",
     "output_type": "stream",
     "text": [
      "\n",
      "Epoch 68 Summary:\n",
      "  Train Loss: 1.2240, Train Pixel Accuracy: 67.84%\n",
      "  Validation Loss: 1.0529, Validation Pixel Accuracy: 73.54%\n",
      "  Current learning rate: 0.000200\n",
      "------------------------------\n",
      "--- Epoch 69/300 ---\n"
     ]
    },
    {
     "name": "stderr",
     "output_type": "stream",
     "text": [
      "Training: 100%|\u001b[32m██████████\u001b[0m| 23/23 [00:13<00:00,  1.66it/s, loss=1.0659]\n",
      "Validation: 100%|\u001b[31m██████████\u001b[0m| 23/23 [00:05<00:00,  3.90it/s, loss=1.0401]\n"
     ]
    },
    {
     "name": "stdout",
     "output_type": "stream",
     "text": [
      "\n",
      "Epoch 69 Summary:\n",
      "  Train Loss: 1.2151, Train Pixel Accuracy: 68.14%\n",
      "  Validation Loss: 1.0402, Validation Pixel Accuracy: 73.53%\n",
      "  Current learning rate: 0.000200\n",
      "------------------------------\n",
      "--- Epoch 70/300 ---\n"
     ]
    },
    {
     "name": "stderr",
     "output_type": "stream",
     "text": [
      "Training: 100%|\u001b[32m██████████\u001b[0m| 23/23 [00:13<00:00,  1.66it/s, loss=1.3175]\n",
      "Validation: 100%|\u001b[31m██████████\u001b[0m| 23/23 [00:06<00:00,  3.77it/s, loss=1.0339]\n"
     ]
    },
    {
     "name": "stdout",
     "output_type": "stream",
     "text": [
      "\n",
      "Epoch 70 Summary:\n",
      "  Train Loss: 1.2261, Train Pixel Accuracy: 68.25%\n",
      "  Validation Loss: 1.0445, Validation Pixel Accuracy: 73.50%\n",
      "  Current learning rate: 0.000200\n",
      "------------------------------\n",
      "--- Epoch 71/300 ---\n"
     ]
    },
    {
     "name": "stderr",
     "output_type": "stream",
     "text": [
      "Training: 100%|\u001b[32m██████████\u001b[0m| 23/23 [00:13<00:00,  1.67it/s, loss=1.0891]\n",
      "Validation: 100%|\u001b[31m██████████\u001b[0m| 23/23 [00:06<00:00,  3.75it/s, loss=1.0245]\n"
     ]
    },
    {
     "name": "stdout",
     "output_type": "stream",
     "text": [
      "\n",
      "Epoch 71 Summary:\n",
      "  Train Loss: 1.2051, Train Pixel Accuracy: 68.26%\n",
      "  Validation Loss: 1.0330, Validation Pixel Accuracy: 73.71%\n",
      "  Current learning rate: 0.000200\n",
      "  ---> New best model saved to /kaggle/working/fcn_voc_best.pth (Validation Loss: 1.0330)\n",
      "------------------------------\n",
      "--- Epoch 72/300 ---\n"
     ]
    },
    {
     "name": "stderr",
     "output_type": "stream",
     "text": [
      "Training: 100%|\u001b[32m██████████\u001b[0m| 23/23 [00:13<00:00,  1.66it/s, loss=1.3739]\n",
      "Validation: 100%|\u001b[31m██████████\u001b[0m| 23/23 [00:05<00:00,  3.90it/s, loss=1.0428]\n"
     ]
    },
    {
     "name": "stdout",
     "output_type": "stream",
     "text": [
      "\n",
      "Epoch 72 Summary:\n",
      "  Train Loss: 1.2073, Train Pixel Accuracy: 68.28%\n",
      "  Validation Loss: 1.0589, Validation Pixel Accuracy: 73.24%\n",
      "  Current learning rate: 0.000200\n",
      "------------------------------\n",
      "--- Epoch 73/300 ---\n"
     ]
    },
    {
     "name": "stderr",
     "output_type": "stream",
     "text": [
      "Training: 100%|\u001b[32m██████████\u001b[0m| 23/23 [00:13<00:00,  1.66it/s, loss=1.1666]\n",
      "Validation: 100%|\u001b[31m██████████\u001b[0m| 23/23 [00:05<00:00,  3.84it/s, loss=1.0324]\n"
     ]
    },
    {
     "name": "stdout",
     "output_type": "stream",
     "text": [
      "\n",
      "Epoch 73 Summary:\n",
      "  Train Loss: 1.1916, Train Pixel Accuracy: 68.49%\n",
      "  Validation Loss: 1.0424, Validation Pixel Accuracy: 73.58%\n",
      "  Current learning rate: 0.000200\n",
      "------------------------------\n",
      "--- Epoch 74/300 ---\n"
     ]
    },
    {
     "name": "stderr",
     "output_type": "stream",
     "text": [
      "Training: 100%|\u001b[32m██████████\u001b[0m| 23/23 [00:13<00:00,  1.67it/s, loss=1.2690]\n",
      "Validation: 100%|\u001b[31m██████████\u001b[0m| 23/23 [00:06<00:00,  3.74it/s, loss=1.0074]\n"
     ]
    },
    {
     "name": "stdout",
     "output_type": "stream",
     "text": [
      "\n",
      "Epoch 74 Summary:\n",
      "  Train Loss: 1.1894, Train Pixel Accuracy: 68.53%\n",
      "  Validation Loss: 1.0278, Validation Pixel Accuracy: 73.56%\n",
      "  Current learning rate: 0.000200\n",
      "  ---> New best model saved to /kaggle/working/fcn_voc_best.pth (Validation Loss: 1.0278)\n",
      "------------------------------\n",
      "--- Epoch 75/300 ---\n"
     ]
    },
    {
     "name": "stderr",
     "output_type": "stream",
     "text": [
      "Training: 100%|\u001b[32m██████████\u001b[0m| 23/23 [00:13<00:00,  1.66it/s, loss=1.1311]\n",
      "Validation: 100%|\u001b[31m██████████\u001b[0m| 23/23 [00:06<00:00,  3.67it/s, loss=1.0116]\n"
     ]
    },
    {
     "name": "stdout",
     "output_type": "stream",
     "text": [
      "\n",
      "Epoch 75 Summary:\n",
      "  Train Loss: 1.1938, Train Pixel Accuracy: 68.55%\n",
      "  Validation Loss: 1.0243, Validation Pixel Accuracy: 73.58%\n",
      "  Current learning rate: 0.000200\n",
      "  ---> New best model saved to /kaggle/working/fcn_voc_best.pth (Validation Loss: 1.0243)\n",
      "------------------------------\n",
      "--- Epoch 76/300 ---\n"
     ]
    },
    {
     "name": "stderr",
     "output_type": "stream",
     "text": [
      "Training: 100%|\u001b[32m██████████\u001b[0m| 23/23 [00:13<00:00,  1.67it/s, loss=1.0898]\n",
      "Validation: 100%|\u001b[31m██████████\u001b[0m| 23/23 [00:06<00:00,  3.81it/s, loss=1.0280]\n"
     ]
    },
    {
     "name": "stdout",
     "output_type": "stream",
     "text": [
      "\n",
      "Epoch 76 Summary:\n",
      "  Train Loss: 1.1904, Train Pixel Accuracy: 68.64%\n",
      "  Validation Loss: 1.0255, Validation Pixel Accuracy: 73.81%\n",
      "  Current learning rate: 0.000200\n",
      "------------------------------\n",
      "--- Epoch 77/300 ---\n"
     ]
    },
    {
     "name": "stderr",
     "output_type": "stream",
     "text": [
      "Training: 100%|\u001b[32m██████████\u001b[0m| 23/23 [00:13<00:00,  1.66it/s, loss=1.1523]\n",
      "Validation: 100%|\u001b[31m██████████\u001b[0m| 23/23 [00:06<00:00,  3.80it/s, loss=1.0149]\n"
     ]
    },
    {
     "name": "stdout",
     "output_type": "stream",
     "text": [
      "\n",
      "Epoch 77 Summary:\n",
      "  Train Loss: 1.1927, Train Pixel Accuracy: 68.73%\n",
      "  Validation Loss: 1.0230, Validation Pixel Accuracy: 73.62%\n",
      "  Current learning rate: 0.000200\n",
      "  ---> New best model saved to /kaggle/working/fcn_voc_best.pth (Validation Loss: 1.0230)\n",
      "------------------------------\n",
      "--- Epoch 78/300 ---\n"
     ]
    },
    {
     "name": "stderr",
     "output_type": "stream",
     "text": [
      "Training: 100%|\u001b[32m██████████\u001b[0m| 23/23 [00:13<00:00,  1.66it/s, loss=1.2029]\n",
      "Validation: 100%|\u001b[31m██████████\u001b[0m| 23/23 [00:06<00:00,  3.79it/s, loss=1.0078]\n"
     ]
    },
    {
     "name": "stdout",
     "output_type": "stream",
     "text": [
      "\n",
      "Epoch 78 Summary:\n",
      "  Train Loss: 1.1834, Train Pixel Accuracy: 68.52%\n",
      "  Validation Loss: 1.0182, Validation Pixel Accuracy: 73.60%\n",
      "  Current learning rate: 0.000200\n",
      "  ---> New best model saved to /kaggle/working/fcn_voc_best.pth (Validation Loss: 1.0182)\n",
      "------------------------------\n",
      "--- Epoch 79/300 ---\n"
     ]
    },
    {
     "name": "stderr",
     "output_type": "stream",
     "text": [
      "Training: 100%|\u001b[32m██████████\u001b[0m| 23/23 [00:13<00:00,  1.66it/s, loss=1.2139]\n",
      "Validation: 100%|\u001b[31m██████████\u001b[0m| 23/23 [00:06<00:00,  3.81it/s, loss=1.0029]\n"
     ]
    },
    {
     "name": "stdout",
     "output_type": "stream",
     "text": [
      "\n",
      "Epoch 79 Summary:\n",
      "  Train Loss: 1.1748, Train Pixel Accuracy: 68.78%\n",
      "  Validation Loss: 1.0193, Validation Pixel Accuracy: 73.91%\n",
      "  Current learning rate: 0.000200\n",
      "------------------------------\n",
      "--- Epoch 80/300 ---\n"
     ]
    },
    {
     "name": "stderr",
     "output_type": "stream",
     "text": [
      "Training: 100%|\u001b[32m██████████\u001b[0m| 23/23 [00:13<00:00,  1.67it/s, loss=1.1143]\n",
      "Validation: 100%|\u001b[31m██████████\u001b[0m| 23/23 [00:06<00:00,  3.82it/s, loss=1.0334]\n"
     ]
    },
    {
     "name": "stdout",
     "output_type": "stream",
     "text": [
      "\n",
      "Epoch 80 Summary:\n",
      "  Train Loss: 1.1772, Train Pixel Accuracy: 68.56%\n",
      "  Validation Loss: 1.0294, Validation Pixel Accuracy: 73.45%\n",
      "  Current learning rate: 0.000200\n",
      "------------------------------\n",
      "--- Epoch 81/300 ---\n"
     ]
    },
    {
     "name": "stderr",
     "output_type": "stream",
     "text": [
      "Training: 100%|\u001b[32m██████████\u001b[0m| 23/23 [00:13<00:00,  1.67it/s, loss=1.1539]\n",
      "Validation: 100%|\u001b[31m██████████\u001b[0m| 23/23 [00:06<00:00,  3.77it/s, loss=1.0640]\n"
     ]
    },
    {
     "name": "stdout",
     "output_type": "stream",
     "text": [
      "\n",
      "Epoch 81 Summary:\n",
      "  Train Loss: 1.1711, Train Pixel Accuracy: 68.92%\n",
      "  Validation Loss: 1.0545, Validation Pixel Accuracy: 72.59%\n",
      "  Current learning rate: 0.000200\n",
      "------------------------------\n",
      "--- Epoch 82/300 ---\n"
     ]
    },
    {
     "name": "stderr",
     "output_type": "stream",
     "text": [
      "Training: 100%|\u001b[32m██████████\u001b[0m| 23/23 [00:13<00:00,  1.67it/s, loss=1.1793]\n",
      "Validation: 100%|\u001b[31m██████████\u001b[0m| 23/23 [00:05<00:00,  3.84it/s, loss=0.9961]\n"
     ]
    },
    {
     "name": "stdout",
     "output_type": "stream",
     "text": [
      "\n",
      "Epoch 82 Summary:\n",
      "  Train Loss: 1.1777, Train Pixel Accuracy: 68.84%\n",
      "  Validation Loss: 1.0211, Validation Pixel Accuracy: 73.85%\n",
      "  Current learning rate: 0.000200\n",
      "------------------------------\n",
      "--- Epoch 83/300 ---\n"
     ]
    },
    {
     "name": "stderr",
     "output_type": "stream",
     "text": [
      "Training: 100%|\u001b[32m██████████\u001b[0m| 23/23 [00:13<00:00,  1.67it/s, loss=1.1846]\n",
      "Validation: 100%|\u001b[31m██████████\u001b[0m| 23/23 [00:06<00:00,  3.73it/s, loss=1.0280]\n"
     ]
    },
    {
     "name": "stdout",
     "output_type": "stream",
     "text": [
      "\n",
      "Epoch 83 Summary:\n",
      "  Train Loss: 1.1634, Train Pixel Accuracy: 68.91%\n",
      "  Validation Loss: 1.0301, Validation Pixel Accuracy: 73.17%\n",
      "  Current learning rate: 0.000200\n",
      "------------------------------\n",
      "--- Epoch 84/300 ---\n"
     ]
    },
    {
     "name": "stderr",
     "output_type": "stream",
     "text": [
      "Training: 100%|\u001b[32m██████████\u001b[0m| 23/23 [00:13<00:00,  1.67it/s, loss=1.1658]\n",
      "Validation: 100%|\u001b[31m██████████\u001b[0m| 23/23 [00:05<00:00,  3.87it/s, loss=0.9964]\n"
     ]
    },
    {
     "name": "stdout",
     "output_type": "stream",
     "text": [
      "\n",
      "Epoch 84 Summary:\n",
      "  Train Loss: 1.1556, Train Pixel Accuracy: 69.07%\n",
      "  Validation Loss: 1.0031, Validation Pixel Accuracy: 73.99%\n",
      "  Current learning rate: 0.000200\n",
      "  ---> New best model saved to /kaggle/working/fcn_voc_best.pth (Validation Loss: 1.0031)\n",
      "------------------------------\n",
      "--- Epoch 85/300 ---\n"
     ]
    },
    {
     "name": "stderr",
     "output_type": "stream",
     "text": [
      "Training: 100%|\u001b[32m██████████\u001b[0m| 23/23 [00:13<00:00,  1.67it/s, loss=1.0646]\n",
      "Validation: 100%|\u001b[31m██████████\u001b[0m| 23/23 [00:06<00:00,  3.78it/s, loss=1.0436]\n"
     ]
    },
    {
     "name": "stdout",
     "output_type": "stream",
     "text": [
      "\n",
      "Epoch 85 Summary:\n",
      "  Train Loss: 1.1655, Train Pixel Accuracy: 68.84%\n",
      "  Validation Loss: 1.0235, Validation Pixel Accuracy: 73.56%\n",
      "  Current learning rate: 0.000200\n",
      "------------------------------\n",
      "--- Epoch 86/300 ---\n"
     ]
    },
    {
     "name": "stderr",
     "output_type": "stream",
     "text": [
      "Training: 100%|\u001b[32m██████████\u001b[0m| 23/23 [00:13<00:00,  1.67it/s, loss=1.2480]\n",
      "Validation: 100%|\u001b[31m██████████\u001b[0m| 23/23 [00:06<00:00,  3.80it/s, loss=0.9889]\n"
     ]
    },
    {
     "name": "stdout",
     "output_type": "stream",
     "text": [
      "\n",
      "Epoch 86 Summary:\n",
      "  Train Loss: 1.1638, Train Pixel Accuracy: 69.13%\n",
      "  Validation Loss: 1.0026, Validation Pixel Accuracy: 74.11%\n",
      "  Current learning rate: 0.000200\n",
      "  ---> New best model saved to /kaggle/working/fcn_voc_best.pth (Validation Loss: 1.0026)\n",
      "------------------------------\n",
      "--- Epoch 87/300 ---\n"
     ]
    },
    {
     "name": "stderr",
     "output_type": "stream",
     "text": [
      "Training: 100%|\u001b[32m██████████\u001b[0m| 23/23 [00:13<00:00,  1.67it/s, loss=1.0830]\n",
      "Validation: 100%|\u001b[31m██████████\u001b[0m| 23/23 [00:06<00:00,  3.78it/s, loss=0.9995]\n"
     ]
    },
    {
     "name": "stdout",
     "output_type": "stream",
     "text": [
      "\n",
      "Epoch 87 Summary:\n",
      "  Train Loss: 1.1506, Train Pixel Accuracy: 69.14%\n",
      "  Validation Loss: 1.0164, Validation Pixel Accuracy: 73.91%\n",
      "  Current learning rate: 0.000200\n",
      "------------------------------\n",
      "--- Epoch 88/300 ---\n"
     ]
    },
    {
     "name": "stderr",
     "output_type": "stream",
     "text": [
      "Training: 100%|\u001b[32m██████████\u001b[0m| 23/23 [00:13<00:00,  1.67it/s, loss=1.1127]\n",
      "Validation: 100%|\u001b[31m██████████\u001b[0m| 23/23 [00:06<00:00,  3.67it/s, loss=1.0103]\n"
     ]
    },
    {
     "name": "stdout",
     "output_type": "stream",
     "text": [
      "\n",
      "Epoch 88 Summary:\n",
      "  Train Loss: 1.1440, Train Pixel Accuracy: 69.21%\n",
      "  Validation Loss: 1.0055, Validation Pixel Accuracy: 74.03%\n",
      "  Current learning rate: 0.000200\n",
      "------------------------------\n",
      "--- Epoch 89/300 ---\n"
     ]
    },
    {
     "name": "stderr",
     "output_type": "stream",
     "text": [
      "Training: 100%|\u001b[32m██████████\u001b[0m| 23/23 [00:13<00:00,  1.68it/s, loss=1.1392]\n",
      "Validation: 100%|\u001b[31m██████████\u001b[0m| 23/23 [00:06<00:00,  3.77it/s, loss=1.0227]\n"
     ]
    },
    {
     "name": "stdout",
     "output_type": "stream",
     "text": [
      "\n",
      "Epoch 89 Summary:\n",
      "  Train Loss: 1.1486, Train Pixel Accuracy: 69.30%\n",
      "  Validation Loss: 1.0269, Validation Pixel Accuracy: 73.27%\n",
      "  Current learning rate: 0.000200\n",
      "------------------------------\n",
      "--- Epoch 90/300 ---\n"
     ]
    },
    {
     "name": "stderr",
     "output_type": "stream",
     "text": [
      "Training: 100%|\u001b[32m██████████\u001b[0m| 23/23 [00:13<00:00,  1.66it/s, loss=1.2370]\n",
      "Validation: 100%|\u001b[31m██████████\u001b[0m| 23/23 [00:06<00:00,  3.80it/s, loss=1.0150]\n"
     ]
    },
    {
     "name": "stdout",
     "output_type": "stream",
     "text": [
      "\n",
      "Epoch 90 Summary:\n",
      "  Train Loss: 1.1440, Train Pixel Accuracy: 69.49%\n",
      "  Validation Loss: 1.0073, Validation Pixel Accuracy: 73.75%\n",
      "  Current learning rate: 0.000200\n",
      "------------------------------\n",
      "--- Epoch 91/300 ---\n"
     ]
    },
    {
     "name": "stderr",
     "output_type": "stream",
     "text": [
      "Training: 100%|\u001b[32m██████████\u001b[0m| 23/23 [00:13<00:00,  1.66it/s, loss=1.1053]\n",
      "Validation: 100%|\u001b[31m██████████\u001b[0m| 23/23 [00:06<00:00,  3.75it/s, loss=1.0259]\n"
     ]
    },
    {
     "name": "stdout",
     "output_type": "stream",
     "text": [
      "\n",
      "Epoch 91 Summary:\n",
      "  Train Loss: 1.1742, Train Pixel Accuracy: 68.71%\n",
      "  Validation Loss: 1.0170, Validation Pixel Accuracy: 73.89%\n",
      "  Current learning rate: 0.000200\n",
      "------------------------------\n",
      "--- Epoch 92/300 ---\n"
     ]
    },
    {
     "name": "stderr",
     "output_type": "stream",
     "text": [
      "Training: 100%|\u001b[32m██████████\u001b[0m| 23/23 [00:13<00:00,  1.66it/s, loss=1.1149]\n",
      "Validation: 100%|\u001b[31m██████████\u001b[0m| 23/23 [00:06<00:00,  3.76it/s, loss=1.0273]\n"
     ]
    },
    {
     "name": "stdout",
     "output_type": "stream",
     "text": [
      "\n",
      "Epoch 92 Summary:\n",
      "  Train Loss: 1.1468, Train Pixel Accuracy: 69.36%\n",
      "  Validation Loss: 1.0154, Validation Pixel Accuracy: 73.81%\n",
      "  Current learning rate: 0.000040\n",
      "------------------------------\n",
      "--- Epoch 93/300 ---\n"
     ]
    },
    {
     "name": "stderr",
     "output_type": "stream",
     "text": [
      "Training: 100%|\u001b[32m██████████\u001b[0m| 23/23 [00:13<00:00,  1.66it/s, loss=1.3894]\n",
      "Validation: 100%|\u001b[31m██████████\u001b[0m| 23/23 [00:06<00:00,  3.82it/s, loss=0.9964]\n"
     ]
    },
    {
     "name": "stdout",
     "output_type": "stream",
     "text": [
      "\n",
      "Epoch 93 Summary:\n",
      "  Train Loss: 1.1228, Train Pixel Accuracy: 69.72%\n",
      "  Validation Loss: 0.9945, Validation Pixel Accuracy: 74.17%\n",
      "  Current learning rate: 0.000040\n",
      "  ---> New best model saved to /kaggle/working/fcn_voc_best.pth (Validation Loss: 0.9945)\n",
      "------------------------------\n",
      "--- Epoch 94/300 ---\n"
     ]
    },
    {
     "name": "stderr",
     "output_type": "stream",
     "text": [
      "Training: 100%|\u001b[32m██████████\u001b[0m| 23/23 [00:13<00:00,  1.67it/s, loss=1.1568]\n",
      "Validation: 100%|\u001b[31m██████████\u001b[0m| 23/23 [00:05<00:00,  3.91it/s, loss=0.9927]\n"
     ]
    },
    {
     "name": "stdout",
     "output_type": "stream",
     "text": [
      "\n",
      "Epoch 94 Summary:\n",
      "  Train Loss: 1.1041, Train Pixel Accuracy: 69.97%\n",
      "  Validation Loss: 0.9849, Validation Pixel Accuracy: 74.25%\n",
      "  Current learning rate: 0.000040\n",
      "  ---> New best model saved to /kaggle/working/fcn_voc_best.pth (Validation Loss: 0.9849)\n",
      "------------------------------\n",
      "--- Epoch 95/300 ---\n"
     ]
    },
    {
     "name": "stderr",
     "output_type": "stream",
     "text": [
      "Training: 100%|\u001b[32m██████████\u001b[0m| 23/23 [00:13<00:00,  1.66it/s, loss=1.0623]\n",
      "Validation: 100%|\u001b[31m██████████\u001b[0m| 23/23 [00:05<00:00,  3.87it/s, loss=0.9869]\n"
     ]
    },
    {
     "name": "stdout",
     "output_type": "stream",
     "text": [
      "\n",
      "Epoch 95 Summary:\n",
      "  Train Loss: 1.1080, Train Pixel Accuracy: 70.01%\n",
      "  Validation Loss: 0.9847, Validation Pixel Accuracy: 74.17%\n",
      "  Current learning rate: 0.000040\n",
      "  ---> New best model saved to /kaggle/working/fcn_voc_best.pth (Validation Loss: 0.9847)\n",
      "------------------------------\n",
      "--- Epoch 96/300 ---\n"
     ]
    },
    {
     "name": "stderr",
     "output_type": "stream",
     "text": [
      "Training: 100%|\u001b[32m██████████\u001b[0m| 23/23 [00:13<00:00,  1.67it/s, loss=1.1487]\n",
      "Validation: 100%|\u001b[31m██████████\u001b[0m| 23/23 [00:06<00:00,  3.60it/s, loss=0.9929]\n"
     ]
    },
    {
     "name": "stdout",
     "output_type": "stream",
     "text": [
      "\n",
      "Epoch 96 Summary:\n",
      "  Train Loss: 1.1112, Train Pixel Accuracy: 69.90%\n",
      "  Validation Loss: 0.9840, Validation Pixel Accuracy: 74.29%\n",
      "  Current learning rate: 0.000040\n",
      "  ---> New best model saved to /kaggle/working/fcn_voc_best.pth (Validation Loss: 0.9840)\n",
      "------------------------------\n",
      "--- Epoch 97/300 ---\n"
     ]
    },
    {
     "name": "stderr",
     "output_type": "stream",
     "text": [
      "Training: 100%|\u001b[32m██████████\u001b[0m| 23/23 [00:13<00:00,  1.66it/s, loss=1.1763]\n",
      "Validation: 100%|\u001b[31m██████████\u001b[0m| 23/23 [00:06<00:00,  3.82it/s, loss=1.0088]\n"
     ]
    },
    {
     "name": "stdout",
     "output_type": "stream",
     "text": [
      "\n",
      "Epoch 97 Summary:\n",
      "  Train Loss: 1.1019, Train Pixel Accuracy: 70.16%\n",
      "  Validation Loss: 1.0013, Validation Pixel Accuracy: 73.85%\n",
      "  Current learning rate: 0.000040\n",
      "------------------------------\n",
      "--- Epoch 98/300 ---\n"
     ]
    },
    {
     "name": "stderr",
     "output_type": "stream",
     "text": [
      "Training: 100%|\u001b[32m██████████\u001b[0m| 23/23 [00:13<00:00,  1.66it/s, loss=1.1092]\n",
      "Validation: 100%|\u001b[31m██████████\u001b[0m| 23/23 [00:06<00:00,  3.66it/s, loss=0.9990]\n"
     ]
    },
    {
     "name": "stdout",
     "output_type": "stream",
     "text": [
      "\n",
      "Epoch 98 Summary:\n",
      "  Train Loss: 1.0980, Train Pixel Accuracy: 70.07%\n",
      "  Validation Loss: 0.9845, Validation Pixel Accuracy: 74.26%\n",
      "  Current learning rate: 0.000040\n",
      "------------------------------\n",
      "--- Epoch 99/300 ---\n"
     ]
    },
    {
     "name": "stderr",
     "output_type": "stream",
     "text": [
      "Training: 100%|\u001b[32m██████████\u001b[0m| 23/23 [00:13<00:00,  1.66it/s, loss=1.0772]\n",
      "Validation: 100%|\u001b[31m██████████\u001b[0m| 23/23 [00:06<00:00,  3.75it/s, loss=0.9908]\n"
     ]
    },
    {
     "name": "stdout",
     "output_type": "stream",
     "text": [
      "\n",
      "Epoch 99 Summary:\n",
      "  Train Loss: 1.1005, Train Pixel Accuracy: 70.11%\n",
      "  Validation Loss: 0.9808, Validation Pixel Accuracy: 74.28%\n",
      "  Current learning rate: 0.000040\n",
      "  ---> New best model saved to /kaggle/working/fcn_voc_best.pth (Validation Loss: 0.9808)\n",
      "------------------------------\n",
      "--- Epoch 100/300 ---\n"
     ]
    },
    {
     "name": "stderr",
     "output_type": "stream",
     "text": [
      "Training: 100%|\u001b[32m██████████\u001b[0m| 23/23 [00:13<00:00,  1.65it/s, loss=1.1594]\n",
      "Validation: 100%|\u001b[31m██████████\u001b[0m| 23/23 [00:06<00:00,  3.74it/s, loss=0.9860]\n"
     ]
    },
    {
     "name": "stdout",
     "output_type": "stream",
     "text": [
      "\n",
      "Epoch 100 Summary:\n",
      "  Train Loss: 1.0977, Train Pixel Accuracy: 70.22%\n",
      "  Validation Loss: 0.9791, Validation Pixel Accuracy: 74.28%\n",
      "  Current learning rate: 0.000040\n",
      "  ---> New best model saved to /kaggle/working/fcn_voc_best.pth (Validation Loss: 0.9791)\n",
      "------------------------------\n",
      "--- Epoch 101/300 ---\n"
     ]
    },
    {
     "name": "stderr",
     "output_type": "stream",
     "text": [
      "Training: 100%|\u001b[32m██████████\u001b[0m| 23/23 [00:13<00:00,  1.67it/s, loss=1.0083]\n",
      "Validation: 100%|\u001b[31m██████████\u001b[0m| 23/23 [00:06<00:00,  3.70it/s, loss=0.9887]\n"
     ]
    },
    {
     "name": "stdout",
     "output_type": "stream",
     "text": [
      "\n",
      "Epoch 101 Summary:\n",
      "  Train Loss: 1.0933, Train Pixel Accuracy: 70.23%\n",
      "  Validation Loss: 0.9832, Validation Pixel Accuracy: 74.38%\n",
      "  Current learning rate: 0.000040\n",
      "------------------------------\n",
      "--- Epoch 102/300 ---\n"
     ]
    },
    {
     "name": "stderr",
     "output_type": "stream",
     "text": [
      "Training: 100%|\u001b[32m██████████\u001b[0m| 23/23 [00:13<00:00,  1.66it/s, loss=0.9910]\n",
      "Validation: 100%|\u001b[31m██████████\u001b[0m| 23/23 [00:06<00:00,  3.76it/s, loss=0.9928]\n"
     ]
    },
    {
     "name": "stdout",
     "output_type": "stream",
     "text": [
      "\n",
      "Epoch 102 Summary:\n",
      "  Train Loss: 1.0969, Train Pixel Accuracy: 70.38%\n",
      "  Validation Loss: 0.9831, Validation Pixel Accuracy: 74.23%\n",
      "  Current learning rate: 0.000040\n",
      "------------------------------\n",
      "--- Epoch 103/300 ---\n"
     ]
    },
    {
     "name": "stderr",
     "output_type": "stream",
     "text": [
      "Training: 100%|\u001b[32m██████████\u001b[0m| 23/23 [00:13<00:00,  1.65it/s, loss=1.1055]\n",
      "Validation: 100%|\u001b[31m██████████\u001b[0m| 23/23 [00:06<00:00,  3.76it/s, loss=0.9798]\n"
     ]
    },
    {
     "name": "stdout",
     "output_type": "stream",
     "text": [
      "\n",
      "Epoch 103 Summary:\n",
      "  Train Loss: 1.0956, Train Pixel Accuracy: 70.22%\n",
      "  Validation Loss: 0.9782, Validation Pixel Accuracy: 74.46%\n",
      "  Current learning rate: 0.000040\n",
      "  ---> New best model saved to /kaggle/working/fcn_voc_best.pth (Validation Loss: 0.9782)\n",
      "------------------------------\n",
      "--- Epoch 104/300 ---\n"
     ]
    },
    {
     "name": "stderr",
     "output_type": "stream",
     "text": [
      "Training: 100%|\u001b[32m██████████\u001b[0m| 23/23 [00:13<00:00,  1.66it/s, loss=1.1452]\n",
      "Validation: 100%|\u001b[31m██████████\u001b[0m| 23/23 [00:06<00:00,  3.53it/s, loss=0.9873]\n"
     ]
    },
    {
     "name": "stdout",
     "output_type": "stream",
     "text": [
      "\n",
      "Epoch 104 Summary:\n",
      "  Train Loss: 1.0935, Train Pixel Accuracy: 70.17%\n",
      "  Validation Loss: 0.9806, Validation Pixel Accuracy: 74.33%\n",
      "  Current learning rate: 0.000040\n",
      "------------------------------\n",
      "--- Epoch 105/300 ---\n"
     ]
    },
    {
     "name": "stderr",
     "output_type": "stream",
     "text": [
      "Training: 100%|\u001b[32m██████████\u001b[0m| 23/23 [00:13<00:00,  1.66it/s, loss=1.0888]\n",
      "Validation: 100%|\u001b[31m██████████\u001b[0m| 23/23 [00:06<00:00,  3.53it/s, loss=1.0005]\n"
     ]
    },
    {
     "name": "stdout",
     "output_type": "stream",
     "text": [
      "\n",
      "Epoch 105 Summary:\n",
      "  Train Loss: 1.0914, Train Pixel Accuracy: 70.33%\n",
      "  Validation Loss: 0.9878, Validation Pixel Accuracy: 74.24%\n",
      "  Current learning rate: 0.000040\n",
      "------------------------------\n",
      "--- Epoch 106/300 ---\n"
     ]
    },
    {
     "name": "stderr",
     "output_type": "stream",
     "text": [
      "Training: 100%|\u001b[32m██████████\u001b[0m| 23/23 [00:13<00:00,  1.66it/s, loss=0.9245]\n",
      "Validation: 100%|\u001b[31m██████████\u001b[0m| 23/23 [00:06<00:00,  3.59it/s, loss=0.9894]\n"
     ]
    },
    {
     "name": "stdout",
     "output_type": "stream",
     "text": [
      "\n",
      "Epoch 106 Summary:\n",
      "  Train Loss: 1.0858, Train Pixel Accuracy: 70.51%\n",
      "  Validation Loss: 0.9806, Validation Pixel Accuracy: 74.30%\n",
      "  Current learning rate: 0.000040\n",
      "------------------------------\n",
      "--- Epoch 107/300 ---\n"
     ]
    },
    {
     "name": "stderr",
     "output_type": "stream",
     "text": [
      "Training: 100%|\u001b[32m██████████\u001b[0m| 23/23 [00:13<00:00,  1.65it/s, loss=1.1032]\n",
      "Validation: 100%|\u001b[31m██████████\u001b[0m| 23/23 [00:06<00:00,  3.43it/s, loss=0.9845]\n"
     ]
    },
    {
     "name": "stdout",
     "output_type": "stream",
     "text": [
      "\n",
      "Epoch 107 Summary:\n",
      "  Train Loss: 1.0826, Train Pixel Accuracy: 70.58%\n",
      "  Validation Loss: 0.9770, Validation Pixel Accuracy: 74.40%\n",
      "  Current learning rate: 0.000040\n",
      "  ---> New best model saved to /kaggle/working/fcn_voc_best.pth (Validation Loss: 0.9770)\n",
      "------------------------------\n",
      "--- Epoch 108/300 ---\n"
     ]
    },
    {
     "name": "stderr",
     "output_type": "stream",
     "text": [
      "Training: 100%|\u001b[32m██████████\u001b[0m| 23/23 [00:14<00:00,  1.64it/s, loss=1.0345]\n",
      "Validation: 100%|\u001b[31m██████████\u001b[0m| 23/23 [00:06<00:00,  3.60it/s, loss=0.9774]\n"
     ]
    },
    {
     "name": "stdout",
     "output_type": "stream",
     "text": [
      "\n",
      "Epoch 108 Summary:\n",
      "  Train Loss: 1.0839, Train Pixel Accuracy: 70.36%\n",
      "  Validation Loss: 0.9762, Validation Pixel Accuracy: 74.28%\n",
      "  Current learning rate: 0.000040\n",
      "  ---> New best model saved to /kaggle/working/fcn_voc_best.pth (Validation Loss: 0.9762)\n",
      "------------------------------\n",
      "--- Epoch 109/300 ---\n"
     ]
    },
    {
     "name": "stderr",
     "output_type": "stream",
     "text": [
      "Training: 100%|\u001b[32m██████████\u001b[0m| 23/23 [00:13<00:00,  1.65it/s, loss=1.1279]\n",
      "Validation: 100%|\u001b[31m██████████\u001b[0m| 23/23 [00:05<00:00,  3.89it/s, loss=0.9855]\n"
     ]
    },
    {
     "name": "stdout",
     "output_type": "stream",
     "text": [
      "\n",
      "Epoch 109 Summary:\n",
      "  Train Loss: 1.0870, Train Pixel Accuracy: 70.39%\n",
      "  Validation Loss: 0.9733, Validation Pixel Accuracy: 74.46%\n",
      "  Current learning rate: 0.000040\n",
      "  ---> New best model saved to /kaggle/working/fcn_voc_best.pth (Validation Loss: 0.9733)\n",
      "------------------------------\n",
      "--- Epoch 110/300 ---\n"
     ]
    },
    {
     "name": "stderr",
     "output_type": "stream",
     "text": [
      "Training: 100%|\u001b[32m██████████\u001b[0m| 23/23 [00:13<00:00,  1.66it/s, loss=1.0108]\n",
      "Validation: 100%|\u001b[31m██████████\u001b[0m| 23/23 [00:06<00:00,  3.81it/s, loss=0.9833]\n"
     ]
    },
    {
     "name": "stdout",
     "output_type": "stream",
     "text": [
      "\n",
      "Epoch 110 Summary:\n",
      "  Train Loss: 1.0961, Train Pixel Accuracy: 70.10%\n",
      "  Validation Loss: 0.9725, Validation Pixel Accuracy: 74.45%\n",
      "  Current learning rate: 0.000040\n",
      "  ---> New best model saved to /kaggle/working/fcn_voc_best.pth (Validation Loss: 0.9725)\n",
      "------------------------------\n",
      "--- Epoch 111/300 ---\n"
     ]
    },
    {
     "name": "stderr",
     "output_type": "stream",
     "text": [
      "Training: 100%|\u001b[32m██████████\u001b[0m| 23/23 [00:13<00:00,  1.66it/s, loss=1.1768]\n",
      "Validation: 100%|\u001b[31m██████████\u001b[0m| 23/23 [00:06<00:00,  3.80it/s, loss=0.9800]\n"
     ]
    },
    {
     "name": "stdout",
     "output_type": "stream",
     "text": [
      "\n",
      "Epoch 111 Summary:\n",
      "  Train Loss: 1.0811, Train Pixel Accuracy: 70.62%\n",
      "  Validation Loss: 0.9759, Validation Pixel Accuracy: 74.39%\n",
      "  Current learning rate: 0.000040\n",
      "------------------------------\n",
      "--- Epoch 112/300 ---\n"
     ]
    },
    {
     "name": "stderr",
     "output_type": "stream",
     "text": [
      "Training: 100%|\u001b[32m██████████\u001b[0m| 23/23 [00:13<00:00,  1.66it/s, loss=0.9023]\n",
      "Validation: 100%|\u001b[31m██████████\u001b[0m| 23/23 [00:06<00:00,  3.72it/s, loss=0.9840]\n"
     ]
    },
    {
     "name": "stdout",
     "output_type": "stream",
     "text": [
      "\n",
      "Epoch 112 Summary:\n",
      "  Train Loss: 1.0847, Train Pixel Accuracy: 70.39%\n",
      "  Validation Loss: 0.9730, Validation Pixel Accuracy: 74.54%\n",
      "  Current learning rate: 0.000040\n",
      "------------------------------\n",
      "--- Epoch 113/300 ---\n"
     ]
    },
    {
     "name": "stderr",
     "output_type": "stream",
     "text": [
      "Training: 100%|\u001b[32m██████████\u001b[0m| 23/23 [00:13<00:00,  1.67it/s, loss=1.0449]\n",
      "Validation: 100%|\u001b[31m██████████\u001b[0m| 23/23 [00:06<00:00,  3.78it/s, loss=0.9937]\n"
     ]
    },
    {
     "name": "stdout",
     "output_type": "stream",
     "text": [
      "\n",
      "Epoch 113 Summary:\n",
      "  Train Loss: 1.0881, Train Pixel Accuracy: 70.35%\n",
      "  Validation Loss: 0.9806, Validation Pixel Accuracy: 74.29%\n",
      "  Current learning rate: 0.000040\n",
      "------------------------------\n",
      "--- Epoch 114/300 ---\n"
     ]
    },
    {
     "name": "stderr",
     "output_type": "stream",
     "text": [
      "Training: 100%|\u001b[32m██████████\u001b[0m| 23/23 [00:13<00:00,  1.65it/s, loss=1.0198]\n",
      "Validation: 100%|\u001b[31m██████████\u001b[0m| 23/23 [00:06<00:00,  3.81it/s, loss=0.9895]\n"
     ]
    },
    {
     "name": "stdout",
     "output_type": "stream",
     "text": [
      "\n",
      "Epoch 114 Summary:\n",
      "  Train Loss: 1.0878, Train Pixel Accuracy: 70.44%\n",
      "  Validation Loss: 0.9740, Validation Pixel Accuracy: 74.41%\n",
      "  Current learning rate: 0.000040\n",
      "------------------------------\n",
      "--- Epoch 115/300 ---\n"
     ]
    },
    {
     "name": "stderr",
     "output_type": "stream",
     "text": [
      "Training: 100%|\u001b[32m██████████\u001b[0m| 23/23 [00:13<00:00,  1.66it/s, loss=1.0452]\n",
      "Validation: 100%|\u001b[31m██████████\u001b[0m| 23/23 [00:05<00:00,  3.85it/s, loss=0.9788]\n"
     ]
    },
    {
     "name": "stdout",
     "output_type": "stream",
     "text": [
      "\n",
      "Epoch 115 Summary:\n",
      "  Train Loss: 1.0702, Train Pixel Accuracy: 70.63%\n",
      "  Validation Loss: 0.9672, Validation Pixel Accuracy: 74.52%\n",
      "  Current learning rate: 0.000040\n",
      "  ---> New best model saved to /kaggle/working/fcn_voc_best.pth (Validation Loss: 0.9672)\n",
      "------------------------------\n",
      "--- Epoch 116/300 ---\n"
     ]
    },
    {
     "name": "stderr",
     "output_type": "stream",
     "text": [
      "Training: 100%|\u001b[32m██████████\u001b[0m| 23/23 [00:13<00:00,  1.66it/s, loss=1.0621]\n",
      "Validation: 100%|\u001b[31m██████████\u001b[0m| 23/23 [00:06<00:00,  3.62it/s, loss=0.9774]\n"
     ]
    },
    {
     "name": "stdout",
     "output_type": "stream",
     "text": [
      "\n",
      "Epoch 116 Summary:\n",
      "  Train Loss: 1.0824, Train Pixel Accuracy: 70.44%\n",
      "  Validation Loss: 0.9665, Validation Pixel Accuracy: 74.58%\n",
      "  Current learning rate: 0.000040\n",
      "  ---> New best model saved to /kaggle/working/fcn_voc_best.pth (Validation Loss: 0.9665)\n",
      "------------------------------\n",
      "--- Epoch 117/300 ---\n"
     ]
    },
    {
     "name": "stderr",
     "output_type": "stream",
     "text": [
      "Training: 100%|\u001b[32m██████████\u001b[0m| 23/23 [00:13<00:00,  1.66it/s, loss=1.0406]\n",
      "Validation: 100%|\u001b[31m██████████\u001b[0m| 23/23 [00:06<00:00,  3.70it/s, loss=0.9832]\n"
     ]
    },
    {
     "name": "stdout",
     "output_type": "stream",
     "text": [
      "\n",
      "Epoch 117 Summary:\n",
      "  Train Loss: 1.0788, Train Pixel Accuracy: 70.53%\n",
      "  Validation Loss: 0.9732, Validation Pixel Accuracy: 74.32%\n",
      "  Current learning rate: 0.000040\n",
      "------------------------------\n",
      "--- Epoch 118/300 ---\n"
     ]
    },
    {
     "name": "stderr",
     "output_type": "stream",
     "text": [
      "Training: 100%|\u001b[32m██████████\u001b[0m| 23/23 [00:13<00:00,  1.67it/s, loss=1.1339]\n",
      "Validation: 100%|\u001b[31m██████████\u001b[0m| 23/23 [00:05<00:00,  3.89it/s, loss=0.9779]\n"
     ]
    },
    {
     "name": "stdout",
     "output_type": "stream",
     "text": [
      "\n",
      "Epoch 118 Summary:\n",
      "  Train Loss: 1.0797, Train Pixel Accuracy: 70.65%\n",
      "  Validation Loss: 0.9702, Validation Pixel Accuracy: 74.59%\n",
      "  Current learning rate: 0.000040\n",
      "------------------------------\n",
      "--- Epoch 119/300 ---\n"
     ]
    },
    {
     "name": "stderr",
     "output_type": "stream",
     "text": [
      "Training: 100%|\u001b[32m██████████\u001b[0m| 23/23 [00:13<00:00,  1.66it/s, loss=1.3120]\n",
      "Validation: 100%|\u001b[31m██████████\u001b[0m| 23/23 [00:06<00:00,  3.69it/s, loss=0.9792]\n"
     ]
    },
    {
     "name": "stdout",
     "output_type": "stream",
     "text": [
      "\n",
      "Epoch 119 Summary:\n",
      "  Train Loss: 1.0786, Train Pixel Accuracy: 70.51%\n",
      "  Validation Loss: 0.9681, Validation Pixel Accuracy: 74.65%\n",
      "  Current learning rate: 0.000040\n",
      "------------------------------\n",
      "--- Epoch 120/300 ---\n"
     ]
    },
    {
     "name": "stderr",
     "output_type": "stream",
     "text": [
      "Training: 100%|\u001b[32m██████████\u001b[0m| 23/23 [00:13<00:00,  1.66it/s, loss=1.0469]\n",
      "Validation: 100%|\u001b[31m██████████\u001b[0m| 23/23 [00:06<00:00,  3.66it/s, loss=0.9848]\n"
     ]
    },
    {
     "name": "stdout",
     "output_type": "stream",
     "text": [
      "\n",
      "Epoch 120 Summary:\n",
      "  Train Loss: 1.0743, Train Pixel Accuracy: 70.65%\n",
      "  Validation Loss: 0.9726, Validation Pixel Accuracy: 74.39%\n",
      "  Current learning rate: 0.000040\n",
      "------------------------------\n",
      "--- Epoch 121/300 ---\n"
     ]
    },
    {
     "name": "stderr",
     "output_type": "stream",
     "text": [
      "Training: 100%|\u001b[32m██████████\u001b[0m| 23/23 [00:13<00:00,  1.66it/s, loss=0.9712]\n",
      "Validation: 100%|\u001b[31m██████████\u001b[0m| 23/23 [00:05<00:00,  3.86it/s, loss=0.9932]\n"
     ]
    },
    {
     "name": "stdout",
     "output_type": "stream",
     "text": [
      "\n",
      "Epoch 121 Summary:\n",
      "  Train Loss: 1.0757, Train Pixel Accuracy: 70.64%\n",
      "  Validation Loss: 0.9761, Validation Pixel Accuracy: 74.51%\n",
      "  Current learning rate: 0.000040\n",
      "------------------------------\n",
      "--- Epoch 122/300 ---\n"
     ]
    },
    {
     "name": "stderr",
     "output_type": "stream",
     "text": [
      "Training: 100%|\u001b[32m██████████\u001b[0m| 23/23 [00:13<00:00,  1.66it/s, loss=0.9347]\n",
      "Validation: 100%|\u001b[31m██████████\u001b[0m| 23/23 [00:06<00:00,  3.76it/s, loss=0.9818]\n"
     ]
    },
    {
     "name": "stdout",
     "output_type": "stream",
     "text": [
      "\n",
      "Epoch 122 Summary:\n",
      "  Train Loss: 1.0770, Train Pixel Accuracy: 70.64%\n",
      "  Validation Loss: 0.9719, Validation Pixel Accuracy: 74.41%\n",
      "  Current learning rate: 0.000008\n",
      "------------------------------\n",
      "--- Epoch 123/300 ---\n"
     ]
    },
    {
     "name": "stderr",
     "output_type": "stream",
     "text": [
      "Training: 100%|\u001b[32m██████████\u001b[0m| 23/23 [00:13<00:00,  1.66it/s, loss=1.2257]\n",
      "Validation: 100%|\u001b[31m██████████\u001b[0m| 23/23 [00:06<00:00,  3.75it/s, loss=0.9765]\n"
     ]
    },
    {
     "name": "stdout",
     "output_type": "stream",
     "text": [
      "\n",
      "Epoch 123 Summary:\n",
      "  Train Loss: 1.0737, Train Pixel Accuracy: 70.77%\n",
      "  Validation Loss: 0.9685, Validation Pixel Accuracy: 74.43%\n",
      "  Current learning rate: 0.000008\n",
      "------------------------------\n",
      "--- Epoch 124/300 ---\n"
     ]
    },
    {
     "name": "stderr",
     "output_type": "stream",
     "text": [
      "Training: 100%|\u001b[32m██████████\u001b[0m| 23/23 [00:13<00:00,  1.66it/s, loss=1.0596]\n",
      "Validation: 100%|\u001b[31m██████████\u001b[0m| 23/23 [00:05<00:00,  3.94it/s, loss=0.9784]\n"
     ]
    },
    {
     "name": "stdout",
     "output_type": "stream",
     "text": [
      "\n",
      "Epoch 124 Summary:\n",
      "  Train Loss: 1.0630, Train Pixel Accuracy: 71.04%\n",
      "  Validation Loss: 0.9678, Validation Pixel Accuracy: 74.48%\n",
      "  Current learning rate: 0.000008\n",
      "------------------------------\n",
      "--- Epoch 125/300 ---\n"
     ]
    },
    {
     "name": "stderr",
     "output_type": "stream",
     "text": [
      "Training: 100%|\u001b[32m██████████\u001b[0m| 23/23 [00:13<00:00,  1.67it/s, loss=0.9828]\n",
      "Validation: 100%|\u001b[31m██████████\u001b[0m| 23/23 [00:06<00:00,  3.63it/s, loss=0.9824]\n"
     ]
    },
    {
     "name": "stdout",
     "output_type": "stream",
     "text": [
      "\n",
      "Epoch 125 Summary:\n",
      "  Train Loss: 1.0653, Train Pixel Accuracy: 70.80%\n",
      "  Validation Loss: 0.9695, Validation Pixel Accuracy: 74.39%\n",
      "  Current learning rate: 0.000008\n",
      "------------------------------\n",
      "--- Epoch 126/300 ---\n"
     ]
    },
    {
     "name": "stderr",
     "output_type": "stream",
     "text": [
      "Training: 100%|\u001b[32m██████████\u001b[0m| 23/23 [00:13<00:00,  1.66it/s, loss=0.9560]\n",
      "Validation: 100%|\u001b[31m██████████\u001b[0m| 23/23 [00:06<00:00,  3.72it/s, loss=0.9824]\n"
     ]
    },
    {
     "name": "stdout",
     "output_type": "stream",
     "text": [
      "\n",
      "Epoch 126 Summary:\n",
      "  Train Loss: 1.0634, Train Pixel Accuracy: 70.73%\n",
      "  Validation Loss: 0.9694, Validation Pixel Accuracy: 74.43%\n",
      "  Current learning rate: 0.000008\n",
      "------------------------------\n",
      "--- Epoch 127/300 ---\n"
     ]
    },
    {
     "name": "stderr",
     "output_type": "stream",
     "text": [
      "Training: 100%|\u001b[32m██████████\u001b[0m| 23/23 [00:13<00:00,  1.66it/s, loss=1.1024]\n",
      "Validation: 100%|\u001b[31m██████████\u001b[0m| 23/23 [00:05<00:00,  3.87it/s, loss=0.9837]\n"
     ]
    },
    {
     "name": "stdout",
     "output_type": "stream",
     "text": [
      "\n",
      "Epoch 127 Summary:\n",
      "  Train Loss: 1.0594, Train Pixel Accuracy: 71.03%\n",
      "  Validation Loss: 0.9685, Validation Pixel Accuracy: 74.46%\n",
      "  Current learning rate: 0.000008\n",
      "------------------------------\n",
      "--- Epoch 128/300 ---\n"
     ]
    },
    {
     "name": "stderr",
     "output_type": "stream",
     "text": [
      "Training: 100%|\u001b[32m██████████\u001b[0m| 23/23 [00:13<00:00,  1.66it/s, loss=1.0242]\n",
      "Validation: 100%|\u001b[31m██████████\u001b[0m| 23/23 [00:05<00:00,  3.84it/s, loss=0.9813]\n"
     ]
    },
    {
     "name": "stdout",
     "output_type": "stream",
     "text": [
      "\n",
      "Epoch 128 Summary:\n",
      "  Train Loss: 1.0624, Train Pixel Accuracy: 70.87%\n",
      "  Validation Loss: 0.9681, Validation Pixel Accuracy: 74.47%\n",
      "  Current learning rate: 0.000002\n",
      "------------------------------\n",
      "--- Epoch 129/300 ---\n"
     ]
    },
    {
     "name": "stderr",
     "output_type": "stream",
     "text": [
      "Training: 100%|\u001b[32m██████████\u001b[0m| 23/23 [00:14<00:00,  1.64it/s, loss=1.1711]\n",
      "Validation: 100%|\u001b[31m██████████\u001b[0m| 23/23 [00:06<00:00,  3.78it/s, loss=0.9805]\n"
     ]
    },
    {
     "name": "stdout",
     "output_type": "stream",
     "text": [
      "\n",
      "Epoch 129 Summary:\n",
      "  Train Loss: 1.0610, Train Pixel Accuracy: 71.01%\n",
      "  Validation Loss: 0.9676, Validation Pixel Accuracy: 74.48%\n",
      "  Current learning rate: 0.000002\n",
      "------------------------------\n",
      "--- Epoch 130/300 ---\n"
     ]
    },
    {
     "name": "stderr",
     "output_type": "stream",
     "text": [
      "Training: 100%|\u001b[32m██████████\u001b[0m| 23/23 [00:13<00:00,  1.67it/s, loss=1.2331]\n",
      "Validation: 100%|\u001b[31m██████████\u001b[0m| 23/23 [00:06<00:00,  3.80it/s, loss=0.9803]\n"
     ]
    },
    {
     "name": "stdout",
     "output_type": "stream",
     "text": [
      "\n",
      "Epoch 130 Summary:\n",
      "  Train Loss: 1.0585, Train Pixel Accuracy: 71.07%\n",
      "  Validation Loss: 0.9674, Validation Pixel Accuracy: 74.48%\n",
      "  Current learning rate: 0.000002\n",
      "------------------------------\n",
      "--- Epoch 131/300 ---\n"
     ]
    },
    {
     "name": "stderr",
     "output_type": "stream",
     "text": [
      "Training: 100%|\u001b[32m██████████\u001b[0m| 23/23 [00:13<00:00,  1.66it/s, loss=1.1841]\n",
      "Validation: 100%|\u001b[31m██████████\u001b[0m| 23/23 [00:05<00:00,  3.94it/s, loss=0.9805]\n"
     ]
    },
    {
     "name": "stdout",
     "output_type": "stream",
     "text": [
      "\n",
      "Epoch 131 Summary:\n",
      "  Train Loss: 1.0632, Train Pixel Accuracy: 70.93%\n",
      "  Validation Loss: 0.9673, Validation Pixel Accuracy: 74.48%\n",
      "  Current learning rate: 0.000002\n",
      "------------------------------\n",
      "--- Epoch 132/300 ---\n"
     ]
    },
    {
     "name": "stderr",
     "output_type": "stream",
     "text": [
      "Training: 100%|\u001b[32m██████████\u001b[0m| 23/23 [00:13<00:00,  1.66it/s, loss=0.9304]\n",
      "Validation: 100%|\u001b[31m██████████\u001b[0m| 23/23 [00:05<00:00,  3.94it/s, loss=0.9807]\n"
     ]
    },
    {
     "name": "stdout",
     "output_type": "stream",
     "text": [
      "\n",
      "Epoch 132 Summary:\n",
      "  Train Loss: 1.0599, Train Pixel Accuracy: 70.89%\n",
      "  Validation Loss: 0.9671, Validation Pixel Accuracy: 74.49%\n",
      "  Current learning rate: 0.000002\n",
      "------------------------------\n",
      "--- Epoch 133/300 ---\n"
     ]
    },
    {
     "name": "stderr",
     "output_type": "stream",
     "text": [
      "Training: 100%|\u001b[32m██████████\u001b[0m| 23/23 [00:13<00:00,  1.66it/s, loss=1.0390]\n",
      "Validation: 100%|\u001b[31m██████████\u001b[0m| 23/23 [00:06<00:00,  3.44it/s, loss=0.9814]\n"
     ]
    },
    {
     "name": "stdout",
     "output_type": "stream",
     "text": [
      "\n",
      "Epoch 133 Summary:\n",
      "  Train Loss: 1.0612, Train Pixel Accuracy: 70.71%\n",
      "  Validation Loss: 0.9679, Validation Pixel Accuracy: 74.47%\n",
      "  Current learning rate: 0.000002\n",
      "------------------------------\n",
      "--- Epoch 134/300 ---\n"
     ]
    },
    {
     "name": "stderr",
     "output_type": "stream",
     "text": [
      "Training: 100%|\u001b[32m██████████\u001b[0m| 23/23 [00:13<00:00,  1.67it/s, loss=1.0917]\n",
      "Validation: 100%|\u001b[31m██████████\u001b[0m| 23/23 [00:06<00:00,  3.81it/s, loss=0.9810]\n"
     ]
    },
    {
     "name": "stdout",
     "output_type": "stream",
     "text": [
      "\n",
      "Epoch 134 Summary:\n",
      "  Train Loss: 1.0623, Train Pixel Accuracy: 71.10%\n",
      "  Validation Loss: 0.9679, Validation Pixel Accuracy: 74.45%\n",
      "  Current learning rate: 0.000001\n",
      "------------------------------\n",
      "--- Epoch 135/300 ---\n"
     ]
    },
    {
     "name": "stderr",
     "output_type": "stream",
     "text": [
      "Training: 100%|\u001b[32m██████████\u001b[0m| 23/23 [00:13<00:00,  1.66it/s, loss=1.0505]\n",
      "Validation: 100%|\u001b[31m██████████\u001b[0m| 23/23 [00:05<00:00,  3.89it/s, loss=0.9804]\n"
     ]
    },
    {
     "name": "stdout",
     "output_type": "stream",
     "text": [
      "\n",
      "Epoch 135 Summary:\n",
      "  Train Loss: 1.0637, Train Pixel Accuracy: 70.78%\n",
      "  Validation Loss: 0.9676, Validation Pixel Accuracy: 74.47%\n",
      "  Current learning rate: 0.000001\n",
      "------------------------------\n",
      "--- Epoch 136/300 ---\n"
     ]
    },
    {
     "name": "stderr",
     "output_type": "stream",
     "text": [
      "Training: 100%|\u001b[32m██████████\u001b[0m| 23/23 [00:13<00:00,  1.67it/s, loss=1.1355]\n",
      "Validation: 100%|\u001b[31m██████████\u001b[0m| 23/23 [00:06<00:00,  3.74it/s, loss=0.9806]\n"
     ]
    },
    {
     "name": "stdout",
     "output_type": "stream",
     "text": [
      "\n",
      "Epoch 136 Summary:\n",
      "  Train Loss: 1.0651, Train Pixel Accuracy: 70.90%\n",
      "  Validation Loss: 0.9675, Validation Pixel Accuracy: 74.48%\n",
      "  Current learning rate: 0.000001\n",
      "------------------------------\n",
      "--- Epoch 137/300 ---\n"
     ]
    },
    {
     "name": "stderr",
     "output_type": "stream",
     "text": [
      "Training: 100%|\u001b[32m██████████\u001b[0m| 23/23 [00:13<00:00,  1.66it/s, loss=1.0769]\n",
      "Validation: 100%|\u001b[31m██████████\u001b[0m| 23/23 [00:06<00:00,  3.75it/s, loss=0.9797]\n"
     ]
    },
    {
     "name": "stdout",
     "output_type": "stream",
     "text": [
      "\n",
      "Epoch 137 Summary:\n",
      "  Train Loss: 1.0616, Train Pixel Accuracy: 70.80%\n",
      "  Validation Loss: 0.9672, Validation Pixel Accuracy: 74.48%\n",
      "  Current learning rate: 0.000001\n",
      "------------------------------\n",
      "--- Epoch 138/300 ---\n"
     ]
    },
    {
     "name": "stderr",
     "output_type": "stream",
     "text": [
      "Training: 100%|\u001b[32m██████████\u001b[0m| 23/23 [00:13<00:00,  1.66it/s, loss=1.0643]\n",
      "Validation: 100%|\u001b[31m██████████\u001b[0m| 23/23 [00:06<00:00,  3.63it/s, loss=0.9794]\n"
     ]
    },
    {
     "name": "stdout",
     "output_type": "stream",
     "text": [
      "\n",
      "Epoch 138 Summary:\n",
      "  Train Loss: 1.0640, Train Pixel Accuracy: 70.73%\n",
      "  Validation Loss: 0.9672, Validation Pixel Accuracy: 74.49%\n",
      "  Current learning rate: 0.000001\n",
      "------------------------------\n",
      "--- Epoch 139/300 ---\n"
     ]
    },
    {
     "name": "stderr",
     "output_type": "stream",
     "text": [
      "Training: 100%|\u001b[32m██████████\u001b[0m| 23/23 [00:13<00:00,  1.66it/s, loss=1.2031]\n",
      "Validation: 100%|\u001b[31m██████████\u001b[0m| 23/23 [00:05<00:00,  3.96it/s, loss=0.9799]\n"
     ]
    },
    {
     "name": "stdout",
     "output_type": "stream",
     "text": [
      "\n",
      "Epoch 139 Summary:\n",
      "  Train Loss: 1.0552, Train Pixel Accuracy: 71.06%\n",
      "  Validation Loss: 0.9676, Validation Pixel Accuracy: 74.47%\n",
      "  Current learning rate: 0.000001\n",
      "------------------------------\n",
      "--- Epoch 140/300 ---\n"
     ]
    },
    {
     "name": "stderr",
     "output_type": "stream",
     "text": [
      "Training: 100%|\u001b[32m██████████\u001b[0m| 23/23 [00:13<00:00,  1.66it/s, loss=1.0850]\n",
      "Validation: 100%|\u001b[31m██████████\u001b[0m| 23/23 [00:06<00:00,  3.80it/s, loss=0.9806]\n"
     ]
    },
    {
     "name": "stdout",
     "output_type": "stream",
     "text": [
      "\n",
      "Epoch 140 Summary:\n",
      "  Train Loss: 1.0556, Train Pixel Accuracy: 70.92%\n",
      "  Validation Loss: 0.9681, Validation Pixel Accuracy: 74.45%\n",
      "  Current learning rate: 0.000001\n",
      "------------------------------\n",
      "--- Epoch 141/300 ---\n"
     ]
    },
    {
     "name": "stderr",
     "output_type": "stream",
     "text": [
      "Training: 100%|\u001b[32m██████████\u001b[0m| 23/23 [00:13<00:00,  1.66it/s, loss=1.1042]\n",
      "Validation: 100%|\u001b[31m██████████\u001b[0m| 23/23 [00:06<00:00,  3.69it/s, loss=0.9796]\n"
     ]
    },
    {
     "name": "stdout",
     "output_type": "stream",
     "text": [
      "\n",
      "Epoch 141 Summary:\n",
      "  Train Loss: 1.0559, Train Pixel Accuracy: 71.12%\n",
      "  Validation Loss: 0.9674, Validation Pixel Accuracy: 74.48%\n",
      "  Current learning rate: 0.000001\n",
      "------------------------------\n",
      "--- Epoch 142/300 ---\n"
     ]
    },
    {
     "name": "stderr",
     "output_type": "stream",
     "text": [
      "Training: 100%|\u001b[32m██████████\u001b[0m| 23/23 [00:13<00:00,  1.65it/s, loss=1.1909]\n",
      "Validation: 100%|\u001b[31m██████████\u001b[0m| 23/23 [00:06<00:00,  3.82it/s, loss=0.9793]\n"
     ]
    },
    {
     "name": "stdout",
     "output_type": "stream",
     "text": [
      "\n",
      "Epoch 142 Summary:\n",
      "  Train Loss: 1.0661, Train Pixel Accuracy: 70.81%\n",
      "  Validation Loss: 0.9674, Validation Pixel Accuracy: 74.48%\n",
      "  Current learning rate: 0.000001\n",
      "------------------------------\n",
      "--- Epoch 143/300 ---\n"
     ]
    },
    {
     "name": "stderr",
     "output_type": "stream",
     "text": [
      "Training: 100%|\u001b[32m██████████\u001b[0m| 23/23 [00:13<00:00,  1.67it/s, loss=0.9572]\n",
      "Validation: 100%|\u001b[31m██████████\u001b[0m| 23/23 [00:06<00:00,  3.77it/s, loss=0.9804]\n"
     ]
    },
    {
     "name": "stdout",
     "output_type": "stream",
     "text": [
      "\n",
      "Epoch 143 Summary:\n",
      "  Train Loss: 1.0632, Train Pixel Accuracy: 70.83%\n",
      "  Validation Loss: 0.9680, Validation Pixel Accuracy: 74.46%\n",
      "  Current learning rate: 0.000001\n",
      "------------------------------\n",
      "--- Epoch 144/300 ---\n"
     ]
    },
    {
     "name": "stderr",
     "output_type": "stream",
     "text": [
      "Training: 100%|\u001b[32m██████████\u001b[0m| 23/23 [00:13<00:00,  1.67it/s, loss=0.9602]\n",
      "Validation: 100%|\u001b[31m██████████\u001b[0m| 23/23 [00:06<00:00,  3.81it/s, loss=0.9807]\n"
     ]
    },
    {
     "name": "stdout",
     "output_type": "stream",
     "text": [
      "\n",
      "Epoch 144 Summary:\n",
      "  Train Loss: 1.0571, Train Pixel Accuracy: 70.91%\n",
      "  Validation Loss: 0.9679, Validation Pixel Accuracy: 74.47%\n",
      "  Current learning rate: 0.000001\n",
      "------------------------------\n",
      "--- Epoch 145/300 ---\n"
     ]
    },
    {
     "name": "stderr",
     "output_type": "stream",
     "text": [
      "Training: 100%|\u001b[32m██████████\u001b[0m| 23/23 [00:13<00:00,  1.67it/s, loss=1.1993]\n",
      "Validation: 100%|\u001b[31m██████████\u001b[0m| 23/23 [00:06<00:00,  3.82it/s, loss=0.9800]\n"
     ]
    },
    {
     "name": "stdout",
     "output_type": "stream",
     "text": [
      "\n",
      "Epoch 145 Summary:\n",
      "  Train Loss: 1.0625, Train Pixel Accuracy: 70.80%\n",
      "  Validation Loss: 0.9676, Validation Pixel Accuracy: 74.47%\n",
      "  Current learning rate: 0.000001\n",
      "------------------------------\n",
      "--- Epoch 146/300 ---\n"
     ]
    },
    {
     "name": "stderr",
     "output_type": "stream",
     "text": [
      "Training: 100%|\u001b[32m██████████\u001b[0m| 23/23 [00:13<00:00,  1.66it/s, loss=1.1388]\n",
      "Validation: 100%|\u001b[31m██████████\u001b[0m| 23/23 [00:06<00:00,  3.53it/s, loss=0.9797]\n"
     ]
    },
    {
     "name": "stdout",
     "output_type": "stream",
     "text": [
      "\n",
      "Epoch 146 Summary:\n",
      "  Train Loss: 1.0598, Train Pixel Accuracy: 70.79%\n",
      "  Validation Loss: 0.9677, Validation Pixel Accuracy: 74.47%\n",
      "  Current learning rate: 0.000001\n",
      "------------------------------\n",
      "--- Epoch 147/300 ---\n"
     ]
    },
    {
     "name": "stderr",
     "output_type": "stream",
     "text": [
      "Training: 100%|\u001b[32m██████████\u001b[0m| 23/23 [00:13<00:00,  1.66it/s, loss=1.1807]\n",
      "Validation: 100%|\u001b[31m██████████\u001b[0m| 23/23 [00:06<00:00,  3.72it/s, loss=0.9795]\n"
     ]
    },
    {
     "name": "stdout",
     "output_type": "stream",
     "text": [
      "\n",
      "Epoch 147 Summary:\n",
      "  Train Loss: 1.0657, Train Pixel Accuracy: 70.92%\n",
      "  Validation Loss: 0.9678, Validation Pixel Accuracy: 74.47%\n",
      "  Current learning rate: 0.000001\n",
      "------------------------------\n",
      "--- Epoch 148/300 ---\n"
     ]
    },
    {
     "name": "stderr",
     "output_type": "stream",
     "text": [
      "Training: 100%|\u001b[32m██████████\u001b[0m| 23/23 [00:13<00:00,  1.67it/s, loss=1.0225]\n",
      "Validation: 100%|\u001b[31m██████████\u001b[0m| 23/23 [00:06<00:00,  3.81it/s, loss=0.9799]\n"
     ]
    },
    {
     "name": "stdout",
     "output_type": "stream",
     "text": [
      "\n",
      "Epoch 148 Summary:\n",
      "  Train Loss: 1.0625, Train Pixel Accuracy: 71.07%\n",
      "  Validation Loss: 0.9680, Validation Pixel Accuracy: 74.46%\n",
      "  Current learning rate: 0.000001\n",
      "------------------------------\n",
      "--- Epoch 149/300 ---\n"
     ]
    },
    {
     "name": "stderr",
     "output_type": "stream",
     "text": [
      "Training: 100%|\u001b[32m██████████\u001b[0m| 23/23 [00:13<00:00,  1.66it/s, loss=1.0744]\n",
      "Validation: 100%|\u001b[31m██████████\u001b[0m| 23/23 [00:06<00:00,  3.77it/s, loss=0.9798]\n"
     ]
    },
    {
     "name": "stdout",
     "output_type": "stream",
     "text": [
      "\n",
      "Epoch 149 Summary:\n",
      "  Train Loss: 1.0628, Train Pixel Accuracy: 71.06%\n",
      "  Validation Loss: 0.9679, Validation Pixel Accuracy: 74.46%\n",
      "  Current learning rate: 0.000001\n",
      "------------------------------\n",
      "--- Epoch 150/300 ---\n"
     ]
    },
    {
     "name": "stderr",
     "output_type": "stream",
     "text": [
      "Training: 100%|\u001b[32m██████████\u001b[0m| 23/23 [00:13<00:00,  1.67it/s, loss=0.8762]\n",
      "Validation: 100%|\u001b[31m██████████\u001b[0m| 23/23 [00:06<00:00,  3.80it/s, loss=0.9798]\n"
     ]
    },
    {
     "name": "stdout",
     "output_type": "stream",
     "text": [
      "\n",
      "Epoch 150 Summary:\n",
      "  Train Loss: 1.0517, Train Pixel Accuracy: 71.20%\n",
      "  Validation Loss: 0.9677, Validation Pixel Accuracy: 74.47%\n",
      "  Current learning rate: 0.000001\n",
      "------------------------------\n",
      "--- Epoch 151/300 ---\n"
     ]
    },
    {
     "name": "stderr",
     "output_type": "stream",
     "text": [
      "Training: 100%|\u001b[32m██████████\u001b[0m| 23/23 [00:13<00:00,  1.66it/s, loss=1.2323]\n",
      "Validation: 100%|\u001b[31m██████████\u001b[0m| 23/23 [00:06<00:00,  3.71it/s, loss=0.9800]\n"
     ]
    },
    {
     "name": "stdout",
     "output_type": "stream",
     "text": [
      "\n",
      "Epoch 151 Summary:\n",
      "  Train Loss: 1.0630, Train Pixel Accuracy: 70.75%\n",
      "  Validation Loss: 0.9678, Validation Pixel Accuracy: 74.47%\n",
      "  Current learning rate: 0.000001\n",
      "------------------------------\n",
      "--- Epoch 152/300 ---\n"
     ]
    },
    {
     "name": "stderr",
     "output_type": "stream",
     "text": [
      "Training: 100%|\u001b[32m██████████\u001b[0m| 23/23 [00:13<00:00,  1.66it/s, loss=1.2018]\n",
      "Validation: 100%|\u001b[31m██████████\u001b[0m| 23/23 [00:06<00:00,  3.62it/s, loss=0.9790]\n"
     ]
    },
    {
     "name": "stdout",
     "output_type": "stream",
     "text": [
      "\n",
      "Epoch 152 Summary:\n",
      "  Train Loss: 1.0549, Train Pixel Accuracy: 70.99%\n",
      "  Validation Loss: 0.9672, Validation Pixel Accuracy: 74.48%\n",
      "  Current learning rate: 0.000001\n",
      "------------------------------\n",
      "--- Epoch 153/300 ---\n"
     ]
    },
    {
     "name": "stderr",
     "output_type": "stream",
     "text": [
      "Training: 100%|\u001b[32m██████████\u001b[0m| 23/23 [00:13<00:00,  1.66it/s, loss=1.0907]\n",
      "Validation: 100%|\u001b[31m██████████\u001b[0m| 23/23 [00:05<00:00,  3.84it/s, loss=0.9790]\n"
     ]
    },
    {
     "name": "stdout",
     "output_type": "stream",
     "text": [
      "\n",
      "Epoch 153 Summary:\n",
      "  Train Loss: 1.0656, Train Pixel Accuracy: 70.86%\n",
      "  Validation Loss: 0.9673, Validation Pixel Accuracy: 74.48%\n",
      "  Current learning rate: 0.000001\n",
      "------------------------------\n",
      "--- Epoch 154/300 ---\n"
     ]
    },
    {
     "name": "stderr",
     "output_type": "stream",
     "text": [
      "Training: 100%|\u001b[32m██████████\u001b[0m| 23/23 [00:13<00:00,  1.67it/s, loss=1.0868]\n",
      "Validation: 100%|\u001b[31m██████████\u001b[0m| 23/23 [00:06<00:00,  3.70it/s, loss=0.9791]\n"
     ]
    },
    {
     "name": "stdout",
     "output_type": "stream",
     "text": [
      "\n",
      "Epoch 154 Summary:\n",
      "  Train Loss: 1.0586, Train Pixel Accuracy: 71.02%\n",
      "  Validation Loss: 0.9674, Validation Pixel Accuracy: 74.48%\n",
      "  Current learning rate: 0.000001\n",
      "------------------------------\n",
      "--- Epoch 155/300 ---\n"
     ]
    },
    {
     "name": "stderr",
     "output_type": "stream",
     "text": [
      "Training: 100%|\u001b[32m██████████\u001b[0m| 23/23 [00:13<00:00,  1.67it/s, loss=1.0378]\n",
      "Validation: 100%|\u001b[31m██████████\u001b[0m| 23/23 [00:06<00:00,  3.71it/s, loss=0.9789]\n"
     ]
    },
    {
     "name": "stdout",
     "output_type": "stream",
     "text": [
      "\n",
      "Epoch 155 Summary:\n",
      "  Train Loss: 1.0586, Train Pixel Accuracy: 70.91%\n",
      "  Validation Loss: 0.9673, Validation Pixel Accuracy: 74.49%\n",
      "  Current learning rate: 0.000001\n",
      "------------------------------\n",
      "--- Epoch 156/300 ---\n"
     ]
    },
    {
     "name": "stderr",
     "output_type": "stream",
     "text": [
      "Training: 100%|\u001b[32m██████████\u001b[0m| 23/23 [00:13<00:00,  1.66it/s, loss=1.1534]\n",
      "Validation: 100%|\u001b[31m██████████\u001b[0m| 23/23 [00:06<00:00,  3.81it/s, loss=0.9791]\n"
     ]
    },
    {
     "name": "stdout",
     "output_type": "stream",
     "text": [
      "\n",
      "Epoch 156 Summary:\n",
      "  Train Loss: 1.0593, Train Pixel Accuracy: 71.05%\n",
      "  Validation Loss: 0.9674, Validation Pixel Accuracy: 74.48%\n",
      "  Current learning rate: 0.000001\n",
      "------------------------------\n",
      "--- Epoch 157/300 ---\n"
     ]
    },
    {
     "name": "stderr",
     "output_type": "stream",
     "text": [
      "Training: 100%|\u001b[32m██████████\u001b[0m| 23/23 [00:13<00:00,  1.67it/s, loss=1.3100]\n",
      "Validation: 100%|\u001b[31m██████████\u001b[0m| 23/23 [00:06<00:00,  3.78it/s, loss=0.9796]\n"
     ]
    },
    {
     "name": "stdout",
     "output_type": "stream",
     "text": [
      "\n",
      "Epoch 157 Summary:\n",
      "  Train Loss: 1.0650, Train Pixel Accuracy: 70.80%\n",
      "  Validation Loss: 0.9679, Validation Pixel Accuracy: 74.46%\n",
      "  Current learning rate: 0.000001\n",
      "------------------------------\n",
      "--- Epoch 158/300 ---\n"
     ]
    },
    {
     "name": "stderr",
     "output_type": "stream",
     "text": [
      "Training: 100%|\u001b[32m██████████\u001b[0m| 23/23 [00:13<00:00,  1.66it/s, loss=0.9413]\n",
      "Validation: 100%|\u001b[31m██████████\u001b[0m| 23/23 [00:06<00:00,  3.61it/s, loss=0.9790]\n"
     ]
    },
    {
     "name": "stdout",
     "output_type": "stream",
     "text": [
      "\n",
      "Epoch 158 Summary:\n",
      "  Train Loss: 1.0526, Train Pixel Accuracy: 71.07%\n",
      "  Validation Loss: 0.9677, Validation Pixel Accuracy: 74.47%\n",
      "  Current learning rate: 0.000001\n",
      "------------------------------\n",
      "--- Epoch 159/300 ---\n"
     ]
    },
    {
     "name": "stderr",
     "output_type": "stream",
     "text": [
      "Training: 100%|\u001b[32m██████████\u001b[0m| 23/23 [00:13<00:00,  1.66it/s, loss=1.0707]\n",
      "Validation: 100%|\u001b[31m██████████\u001b[0m| 23/23 [00:06<00:00,  3.55it/s, loss=0.9792]\n"
     ]
    },
    {
     "name": "stdout",
     "output_type": "stream",
     "text": [
      "\n",
      "Epoch 159 Summary:\n",
      "  Train Loss: 1.0573, Train Pixel Accuracy: 70.96%\n",
      "  Validation Loss: 0.9677, Validation Pixel Accuracy: 74.47%\n",
      "  Current learning rate: 0.000001\n",
      "------------------------------\n",
      "--- Epoch 160/300 ---\n"
     ]
    },
    {
     "name": "stderr",
     "output_type": "stream",
     "text": [
      "Training: 100%|\u001b[32m██████████\u001b[0m| 23/23 [00:13<00:00,  1.64it/s, loss=1.0713]\n",
      "Validation: 100%|\u001b[31m██████████\u001b[0m| 23/23 [00:05<00:00,  3.86it/s, loss=0.9787]\n"
     ]
    },
    {
     "name": "stdout",
     "output_type": "stream",
     "text": [
      "\n",
      "Epoch 160 Summary:\n",
      "  Train Loss: 1.0584, Train Pixel Accuracy: 70.94%\n",
      "  Validation Loss: 0.9675, Validation Pixel Accuracy: 74.47%\n",
      "  Current learning rate: 0.000001\n",
      "------------------------------\n",
      "--- Epoch 161/300 ---\n"
     ]
    },
    {
     "name": "stderr",
     "output_type": "stream",
     "text": [
      "Training: 100%|\u001b[32m██████████\u001b[0m| 23/23 [00:13<00:00,  1.66it/s, loss=1.0923]\n",
      "Validation: 100%|\u001b[31m██████████\u001b[0m| 23/23 [00:06<00:00,  3.73it/s, loss=0.9789]\n"
     ]
    },
    {
     "name": "stdout",
     "output_type": "stream",
     "text": [
      "\n",
      "Epoch 161 Summary:\n",
      "  Train Loss: 1.0569, Train Pixel Accuracy: 71.05%\n",
      "  Validation Loss: 0.9674, Validation Pixel Accuracy: 74.47%\n",
      "  Current learning rate: 0.000001\n",
      "------------------------------\n",
      "--- Epoch 162/300 ---\n"
     ]
    },
    {
     "name": "stderr",
     "output_type": "stream",
     "text": [
      "Training: 100%|\u001b[32m██████████\u001b[0m| 23/23 [00:13<00:00,  1.67it/s, loss=1.0286]\n",
      "Validation: 100%|\u001b[31m██████████\u001b[0m| 23/23 [00:06<00:00,  3.78it/s, loss=0.9791]\n"
     ]
    },
    {
     "name": "stdout",
     "output_type": "stream",
     "text": [
      "\n",
      "Epoch 162 Summary:\n",
      "  Train Loss: 1.0571, Train Pixel Accuracy: 70.93%\n",
      "  Validation Loss: 0.9674, Validation Pixel Accuracy: 74.48%\n",
      "  Current learning rate: 0.000001\n",
      "------------------------------\n",
      "--- Epoch 163/300 ---\n"
     ]
    },
    {
     "name": "stderr",
     "output_type": "stream",
     "text": [
      "Training: 100%|\u001b[32m██████████\u001b[0m| 23/23 [00:13<00:00,  1.64it/s, loss=1.2291]\n",
      "Validation: 100%|\u001b[31m██████████\u001b[0m| 23/23 [00:06<00:00,  3.74it/s, loss=0.9799]\n"
     ]
    },
    {
     "name": "stdout",
     "output_type": "stream",
     "text": [
      "\n",
      "Epoch 163 Summary:\n",
      "  Train Loss: 1.0586, Train Pixel Accuracy: 71.18%\n",
      "  Validation Loss: 0.9676, Validation Pixel Accuracy: 74.47%\n",
      "  Current learning rate: 0.000001\n",
      "------------------------------\n",
      "--- Epoch 164/300 ---\n"
     ]
    },
    {
     "name": "stderr",
     "output_type": "stream",
     "text": [
      "Training: 100%|\u001b[32m██████████\u001b[0m| 23/23 [00:13<00:00,  1.66it/s, loss=1.0678]\n",
      "Validation: 100%|\u001b[31m██████████\u001b[0m| 23/23 [00:06<00:00,  3.70it/s, loss=0.9803]\n"
     ]
    },
    {
     "name": "stdout",
     "output_type": "stream",
     "text": [
      "\n",
      "Epoch 164 Summary:\n",
      "  Train Loss: 1.0611, Train Pixel Accuracy: 71.00%\n",
      "  Validation Loss: 0.9678, Validation Pixel Accuracy: 74.47%\n",
      "  Current learning rate: 0.000001\n",
      "------------------------------\n",
      "--- Epoch 165/300 ---\n"
     ]
    },
    {
     "name": "stderr",
     "output_type": "stream",
     "text": [
      "Training: 100%|\u001b[32m██████████\u001b[0m| 23/23 [00:13<00:00,  1.66it/s, loss=1.0539]\n",
      "Validation: 100%|\u001b[31m██████████\u001b[0m| 23/23 [00:05<00:00,  3.93it/s, loss=0.9797]\n"
     ]
    },
    {
     "name": "stdout",
     "output_type": "stream",
     "text": [
      "\n",
      "Epoch 165 Summary:\n",
      "  Train Loss: 1.0549, Train Pixel Accuracy: 71.04%\n",
      "  Validation Loss: 0.9678, Validation Pixel Accuracy: 74.46%\n",
      "  Current learning rate: 0.000001\n",
      "------------------------------\n",
      "--- Epoch 166/300 ---\n"
     ]
    },
    {
     "name": "stderr",
     "output_type": "stream",
     "text": [
      "Training: 100%|\u001b[32m██████████\u001b[0m| 23/23 [00:13<00:00,  1.66it/s, loss=0.9241]\n",
      "Validation: 100%|\u001b[31m██████████\u001b[0m| 23/23 [00:05<00:00,  3.84it/s, loss=0.9811]\n"
     ]
    },
    {
     "name": "stdout",
     "output_type": "stream",
     "text": [
      "\n",
      "Epoch 166 Summary:\n",
      "  Train Loss: 1.0602, Train Pixel Accuracy: 70.84%\n",
      "  Validation Loss: 0.9685, Validation Pixel Accuracy: 74.44%\n",
      "  Current learning rate: 0.000001\n",
      "------------------------------\n",
      "--- Epoch 167/300 ---\n"
     ]
    },
    {
     "name": "stderr",
     "output_type": "stream",
     "text": [
      "Training: 100%|\u001b[32m██████████\u001b[0m| 23/23 [00:13<00:00,  1.67it/s, loss=1.0818]\n",
      "Validation: 100%|\u001b[31m██████████\u001b[0m| 23/23 [00:06<00:00,  3.48it/s, loss=0.9799]\n"
     ]
    },
    {
     "name": "stdout",
     "output_type": "stream",
     "text": [
      "\n",
      "Epoch 167 Summary:\n",
      "  Train Loss: 1.0664, Train Pixel Accuracy: 70.80%\n",
      "  Validation Loss: 0.9677, Validation Pixel Accuracy: 74.47%\n",
      "  Current learning rate: 0.000001\n",
      "------------------------------\n",
      "--- Epoch 168/300 ---\n"
     ]
    },
    {
     "name": "stderr",
     "output_type": "stream",
     "text": [
      "Training: 100%|\u001b[32m██████████\u001b[0m| 23/23 [00:13<00:00,  1.66it/s, loss=1.2668]\n",
      "Validation: 100%|\u001b[31m██████████\u001b[0m| 23/23 [00:05<00:00,  3.84it/s, loss=0.9797]\n"
     ]
    },
    {
     "name": "stdout",
     "output_type": "stream",
     "text": [
      "\n",
      "Epoch 168 Summary:\n",
      "  Train Loss: 1.0674, Train Pixel Accuracy: 70.79%\n",
      "  Validation Loss: 0.9677, Validation Pixel Accuracy: 74.47%\n",
      "  Current learning rate: 0.000001\n",
      "------------------------------\n",
      "--- Epoch 169/300 ---\n"
     ]
    },
    {
     "name": "stderr",
     "output_type": "stream",
     "text": [
      "Training: 100%|\u001b[32m██████████\u001b[0m| 23/23 [00:13<00:00,  1.66it/s, loss=1.0340]\n",
      "Validation: 100%|\u001b[31m██████████\u001b[0m| 23/23 [00:06<00:00,  3.60it/s, loss=0.9800]\n"
     ]
    },
    {
     "name": "stdout",
     "output_type": "stream",
     "text": [
      "\n",
      "Epoch 169 Summary:\n",
      "  Train Loss: 1.0636, Train Pixel Accuracy: 70.97%\n",
      "  Validation Loss: 0.9676, Validation Pixel Accuracy: 74.48%\n",
      "  Current learning rate: 0.000001\n",
      "------------------------------\n",
      "--- Epoch 170/300 ---\n"
     ]
    },
    {
     "name": "stderr",
     "output_type": "stream",
     "text": [
      "Training: 100%|\u001b[32m██████████\u001b[0m| 23/23 [00:13<00:00,  1.67it/s, loss=1.0592]\n",
      "Validation: 100%|\u001b[31m██████████\u001b[0m| 23/23 [00:06<00:00,  3.47it/s, loss=0.9799]\n"
     ]
    },
    {
     "name": "stdout",
     "output_type": "stream",
     "text": [
      "\n",
      "Epoch 170 Summary:\n",
      "  Train Loss: 1.0652, Train Pixel Accuracy: 70.88%\n",
      "  Validation Loss: 0.9677, Validation Pixel Accuracy: 74.48%\n",
      "  Current learning rate: 0.000001\n",
      "------------------------------\n",
      "--- Epoch 171/300 ---\n"
     ]
    },
    {
     "name": "stderr",
     "output_type": "stream",
     "text": [
      "Training: 100%|\u001b[32m██████████\u001b[0m| 23/23 [00:13<00:00,  1.65it/s, loss=0.9653]\n",
      "Validation: 100%|\u001b[31m██████████\u001b[0m| 23/23 [00:06<00:00,  3.76it/s, loss=0.9791]\n"
     ]
    },
    {
     "name": "stdout",
     "output_type": "stream",
     "text": [
      "\n",
      "Epoch 171 Summary:\n",
      "  Train Loss: 1.0646, Train Pixel Accuracy: 70.72%\n",
      "  Validation Loss: 0.9673, Validation Pixel Accuracy: 74.47%\n",
      "  Current learning rate: 0.000001\n",
      "------------------------------\n",
      "--- Epoch 172/300 ---\n"
     ]
    },
    {
     "name": "stderr",
     "output_type": "stream",
     "text": [
      "Training: 100%|\u001b[32m██████████\u001b[0m| 23/23 [00:13<00:00,  1.67it/s, loss=0.9579]\n",
      "Validation: 100%|\u001b[31m██████████\u001b[0m| 23/23 [00:06<00:00,  3.80it/s, loss=0.9801]\n"
     ]
    },
    {
     "name": "stdout",
     "output_type": "stream",
     "text": [
      "\n",
      "Epoch 172 Summary:\n",
      "  Train Loss: 1.0699, Train Pixel Accuracy: 70.77%\n",
      "  Validation Loss: 0.9679, Validation Pixel Accuracy: 74.47%\n",
      "  Current learning rate: 0.000001\n",
      "------------------------------\n",
      "--- Epoch 173/300 ---\n"
     ]
    },
    {
     "name": "stderr",
     "output_type": "stream",
     "text": [
      "Training: 100%|\u001b[32m██████████\u001b[0m| 23/23 [00:13<00:00,  1.66it/s, loss=1.0075]\n",
      "Validation: 100%|\u001b[31m██████████\u001b[0m| 23/23 [00:06<00:00,  3.70it/s, loss=0.9798]\n"
     ]
    },
    {
     "name": "stdout",
     "output_type": "stream",
     "text": [
      "\n",
      "Epoch 173 Summary:\n",
      "  Train Loss: 1.0606, Train Pixel Accuracy: 70.99%\n",
      "  Validation Loss: 0.9677, Validation Pixel Accuracy: 74.47%\n",
      "  Current learning rate: 0.000001\n",
      "------------------------------\n",
      "--- Epoch 174/300 ---\n"
     ]
    },
    {
     "name": "stderr",
     "output_type": "stream",
     "text": [
      "Training: 100%|\u001b[32m██████████\u001b[0m| 23/23 [00:13<00:00,  1.65it/s, loss=1.1104]\n",
      "Validation: 100%|\u001b[31m██████████\u001b[0m| 23/23 [00:06<00:00,  3.53it/s, loss=0.9793]\n"
     ]
    },
    {
     "name": "stdout",
     "output_type": "stream",
     "text": [
      "\n",
      "Epoch 174 Summary:\n",
      "  Train Loss: 1.0614, Train Pixel Accuracy: 71.07%\n",
      "  Validation Loss: 0.9678, Validation Pixel Accuracy: 74.46%\n",
      "  Current learning rate: 0.000001\n",
      "------------------------------\n",
      "--- Epoch 175/300 ---\n"
     ]
    },
    {
     "name": "stderr",
     "output_type": "stream",
     "text": [
      "Training: 100%|\u001b[32m██████████\u001b[0m| 23/23 [00:13<00:00,  1.66it/s, loss=1.1033]\n",
      "Validation: 100%|\u001b[31m██████████\u001b[0m| 23/23 [00:06<00:00,  3.60it/s, loss=0.9809]\n"
     ]
    },
    {
     "name": "stdout",
     "output_type": "stream",
     "text": [
      "\n",
      "Epoch 175 Summary:\n",
      "  Train Loss: 1.0659, Train Pixel Accuracy: 70.69%\n",
      "  Validation Loss: 0.9682, Validation Pixel Accuracy: 74.47%\n",
      "  Current learning rate: 0.000001\n",
      "------------------------------\n",
      "--- Epoch 176/300 ---\n"
     ]
    },
    {
     "name": "stderr",
     "output_type": "stream",
     "text": [
      "Training: 100%|\u001b[32m██████████\u001b[0m| 23/23 [00:13<00:00,  1.66it/s, loss=1.0040]\n",
      "Validation: 100%|\u001b[31m██████████\u001b[0m| 23/23 [00:06<00:00,  3.66it/s, loss=0.9798]\n"
     ]
    },
    {
     "name": "stdout",
     "output_type": "stream",
     "text": [
      "\n",
      "Epoch 176 Summary:\n",
      "  Train Loss: 1.0555, Train Pixel Accuracy: 70.94%\n",
      "  Validation Loss: 0.9678, Validation Pixel Accuracy: 74.47%\n",
      "  Current learning rate: 0.000001\n",
      "------------------------------\n",
      "--- Epoch 177/300 ---\n"
     ]
    },
    {
     "name": "stderr",
     "output_type": "stream",
     "text": [
      "Training: 100%|\u001b[32m██████████\u001b[0m| 23/23 [00:13<00:00,  1.66it/s, loss=1.0113]\n",
      "Validation: 100%|\u001b[31m██████████\u001b[0m| 23/23 [00:06<00:00,  3.66it/s, loss=0.9797]\n"
     ]
    },
    {
     "name": "stdout",
     "output_type": "stream",
     "text": [
      "\n",
      "Epoch 177 Summary:\n",
      "  Train Loss: 1.0594, Train Pixel Accuracy: 71.00%\n",
      "  Validation Loss: 0.9677, Validation Pixel Accuracy: 74.47%\n",
      "  Current learning rate: 0.000001\n",
      "------------------------------\n",
      "--- Epoch 178/300 ---\n"
     ]
    },
    {
     "name": "stderr",
     "output_type": "stream",
     "text": [
      "Training: 100%|\u001b[32m██████████\u001b[0m| 23/23 [00:13<00:00,  1.66it/s, loss=1.0658]\n",
      "Validation: 100%|\u001b[31m██████████\u001b[0m| 23/23 [00:06<00:00,  3.73it/s, loss=0.9807]\n"
     ]
    },
    {
     "name": "stdout",
     "output_type": "stream",
     "text": [
      "\n",
      "Epoch 178 Summary:\n",
      "  Train Loss: 1.0626, Train Pixel Accuracy: 70.80%\n",
      "  Validation Loss: 0.9681, Validation Pixel Accuracy: 74.47%\n",
      "  Current learning rate: 0.000001\n",
      "------------------------------\n",
      "--- Epoch 179/300 ---\n"
     ]
    },
    {
     "name": "stderr",
     "output_type": "stream",
     "text": [
      "Training: 100%|\u001b[32m██████████\u001b[0m| 23/23 [00:13<00:00,  1.66it/s, loss=0.9663]\n",
      "Validation: 100%|\u001b[31m██████████\u001b[0m| 23/23 [00:05<00:00,  3.84it/s, loss=0.9809]\n"
     ]
    },
    {
     "name": "stdout",
     "output_type": "stream",
     "text": [
      "\n",
      "Epoch 179 Summary:\n",
      "  Train Loss: 1.0611, Train Pixel Accuracy: 70.95%\n",
      "  Validation Loss: 0.9683, Validation Pixel Accuracy: 74.46%\n",
      "  Current learning rate: 0.000001\n",
      "------------------------------\n",
      "--- Epoch 180/300 ---\n"
     ]
    },
    {
     "name": "stderr",
     "output_type": "stream",
     "text": [
      "Training: 100%|\u001b[32m██████████\u001b[0m| 23/23 [00:13<00:00,  1.66it/s, loss=1.0242]\n",
      "Validation: 100%|\u001b[31m██████████\u001b[0m| 23/23 [00:06<00:00,  3.69it/s, loss=0.9800]\n"
     ]
    },
    {
     "name": "stdout",
     "output_type": "stream",
     "text": [
      "\n",
      "Epoch 180 Summary:\n",
      "  Train Loss: 1.0569, Train Pixel Accuracy: 70.96%\n",
      "  Validation Loss: 0.9675, Validation Pixel Accuracy: 74.48%\n",
      "  Current learning rate: 0.000001\n",
      "------------------------------\n",
      "--- Epoch 181/300 ---\n"
     ]
    },
    {
     "name": "stderr",
     "output_type": "stream",
     "text": [
      "Training: 100%|\u001b[32m██████████\u001b[0m| 23/23 [00:13<00:00,  1.65it/s, loss=1.0968]\n",
      "Validation: 100%|\u001b[31m██████████\u001b[0m| 23/23 [00:05<00:00,  3.91it/s, loss=0.9807]\n"
     ]
    },
    {
     "name": "stdout",
     "output_type": "stream",
     "text": [
      "\n",
      "Epoch 181 Summary:\n",
      "  Train Loss: 1.0637, Train Pixel Accuracy: 70.91%\n",
      "  Validation Loss: 0.9680, Validation Pixel Accuracy: 74.46%\n",
      "  Current learning rate: 0.000001\n",
      "------------------------------\n",
      "--- Epoch 182/300 ---\n"
     ]
    },
    {
     "name": "stderr",
     "output_type": "stream",
     "text": [
      "Training: 100%|\u001b[32m██████████\u001b[0m| 23/23 [00:13<00:00,  1.66it/s, loss=1.0933]\n",
      "Validation: 100%|\u001b[31m██████████\u001b[0m| 23/23 [00:06<00:00,  3.62it/s, loss=0.9807]\n"
     ]
    },
    {
     "name": "stdout",
     "output_type": "stream",
     "text": [
      "\n",
      "Epoch 182 Summary:\n",
      "  Train Loss: 1.0603, Train Pixel Accuracy: 71.00%\n",
      "  Validation Loss: 0.9682, Validation Pixel Accuracy: 74.45%\n",
      "  Current learning rate: 0.000001\n",
      "------------------------------\n",
      "--- Epoch 183/300 ---\n"
     ]
    },
    {
     "name": "stderr",
     "output_type": "stream",
     "text": [
      "Training: 100%|\u001b[32m██████████\u001b[0m| 23/23 [00:13<00:00,  1.66it/s, loss=0.9543]\n",
      "Validation: 100%|\u001b[31m██████████\u001b[0m| 23/23 [00:06<00:00,  3.69it/s, loss=0.9806]\n"
     ]
    },
    {
     "name": "stdout",
     "output_type": "stream",
     "text": [
      "\n",
      "Epoch 183 Summary:\n",
      "  Train Loss: 1.0521, Train Pixel Accuracy: 71.14%\n",
      "  Validation Loss: 0.9676, Validation Pixel Accuracy: 74.47%\n",
      "  Current learning rate: 0.000001\n",
      "------------------------------\n",
      "--- Epoch 184/300 ---\n"
     ]
    },
    {
     "name": "stderr",
     "output_type": "stream",
     "text": [
      "Training: 100%|\u001b[32m██████████\u001b[0m| 23/23 [00:13<00:00,  1.67it/s, loss=1.0093]\n",
      "Validation: 100%|\u001b[31m██████████\u001b[0m| 23/23 [00:05<00:00,  3.96it/s, loss=0.9805]\n"
     ]
    },
    {
     "name": "stdout",
     "output_type": "stream",
     "text": [
      "\n",
      "Epoch 184 Summary:\n",
      "  Train Loss: 1.0613, Train Pixel Accuracy: 70.96%\n",
      "  Validation Loss: 0.9677, Validation Pixel Accuracy: 74.47%\n",
      "  Current learning rate: 0.000001\n",
      "------------------------------\n",
      "--- Epoch 185/300 ---\n"
     ]
    },
    {
     "name": "stderr",
     "output_type": "stream",
     "text": [
      "Training: 100%|\u001b[32m██████████\u001b[0m| 23/23 [00:13<00:00,  1.67it/s, loss=1.0103]\n",
      "Validation: 100%|\u001b[31m██████████\u001b[0m| 23/23 [00:06<00:00,  3.41it/s, loss=0.9797]\n"
     ]
    },
    {
     "name": "stdout",
     "output_type": "stream",
     "text": [
      "\n",
      "Epoch 185 Summary:\n",
      "  Train Loss: 1.0564, Train Pixel Accuracy: 71.02%\n",
      "  Validation Loss: 0.9672, Validation Pixel Accuracy: 74.49%\n",
      "  Current learning rate: 0.000001\n",
      "------------------------------\n",
      "--- Epoch 186/300 ---\n"
     ]
    },
    {
     "name": "stderr",
     "output_type": "stream",
     "text": [
      "Training: 100%|\u001b[32m██████████\u001b[0m| 23/23 [00:13<00:00,  1.65it/s, loss=1.0656]\n",
      "Validation: 100%|\u001b[31m██████████\u001b[0m| 23/23 [00:06<00:00,  3.60it/s, loss=0.9801]\n"
     ]
    },
    {
     "name": "stdout",
     "output_type": "stream",
     "text": [
      "\n",
      "Epoch 186 Summary:\n",
      "  Train Loss: 1.0529, Train Pixel Accuracy: 71.14%\n",
      "  Validation Loss: 0.9676, Validation Pixel Accuracy: 74.47%\n",
      "  Current learning rate: 0.000001\n",
      "------------------------------\n",
      "--- Epoch 187/300 ---\n"
     ]
    },
    {
     "name": "stderr",
     "output_type": "stream",
     "text": [
      "Training: 100%|\u001b[32m██████████\u001b[0m| 23/23 [00:13<00:00,  1.64it/s, loss=1.0959]\n",
      "Validation: 100%|\u001b[31m██████████\u001b[0m| 23/23 [00:06<00:00,  3.71it/s, loss=0.9804]\n"
     ]
    },
    {
     "name": "stdout",
     "output_type": "stream",
     "text": [
      "\n",
      "Epoch 187 Summary:\n",
      "  Train Loss: 1.0608, Train Pixel Accuracy: 70.91%\n",
      "  Validation Loss: 0.9677, Validation Pixel Accuracy: 74.48%\n",
      "  Current learning rate: 0.000001\n",
      "------------------------------\n",
      "--- Epoch 188/300 ---\n"
     ]
    },
    {
     "name": "stderr",
     "output_type": "stream",
     "text": [
      "Training: 100%|\u001b[32m██████████\u001b[0m| 23/23 [00:13<00:00,  1.67it/s, loss=1.0856]\n",
      "Validation: 100%|\u001b[31m██████████\u001b[0m| 23/23 [00:06<00:00,  3.38it/s, loss=0.9799]\n"
     ]
    },
    {
     "name": "stdout",
     "output_type": "stream",
     "text": [
      "\n",
      "Epoch 188 Summary:\n",
      "  Train Loss: 1.0577, Train Pixel Accuracy: 70.91%\n",
      "  Validation Loss: 0.9677, Validation Pixel Accuracy: 74.47%\n",
      "  Current learning rate: 0.000001\n",
      "------------------------------\n",
      "--- Epoch 189/300 ---\n"
     ]
    },
    {
     "name": "stderr",
     "output_type": "stream",
     "text": [
      "Training: 100%|\u001b[32m██████████\u001b[0m| 23/23 [00:13<00:00,  1.66it/s, loss=1.1382]\n",
      "Validation: 100%|\u001b[31m██████████\u001b[0m| 23/23 [00:06<00:00,  3.73it/s, loss=0.9810]\n"
     ]
    },
    {
     "name": "stdout",
     "output_type": "stream",
     "text": [
      "\n",
      "Epoch 189 Summary:\n",
      "  Train Loss: 1.0676, Train Pixel Accuracy: 70.83%\n",
      "  Validation Loss: 0.9681, Validation Pixel Accuracy: 74.46%\n",
      "  Current learning rate: 0.000001\n",
      "------------------------------\n",
      "--- Epoch 190/300 ---\n"
     ]
    },
    {
     "name": "stderr",
     "output_type": "stream",
     "text": [
      "Training: 100%|\u001b[32m██████████\u001b[0m| 23/23 [00:13<00:00,  1.66it/s, loss=1.1478]\n",
      "Validation: 100%|\u001b[31m██████████\u001b[0m| 23/23 [00:06<00:00,  3.75it/s, loss=0.9812]\n"
     ]
    },
    {
     "name": "stdout",
     "output_type": "stream",
     "text": [
      "\n",
      "Epoch 190 Summary:\n",
      "  Train Loss: 1.0568, Train Pixel Accuracy: 71.15%\n",
      "  Validation Loss: 0.9684, Validation Pixel Accuracy: 74.44%\n",
      "  Current learning rate: 0.000001\n",
      "------------------------------\n",
      "--- Epoch 191/300 ---\n"
     ]
    },
    {
     "name": "stderr",
     "output_type": "stream",
     "text": [
      "Training: 100%|\u001b[32m██████████\u001b[0m| 23/23 [00:13<00:00,  1.65it/s, loss=1.0239]\n",
      "Validation: 100%|\u001b[31m██████████\u001b[0m| 23/23 [00:07<00:00,  3.25it/s, loss=0.9805]\n"
     ]
    },
    {
     "name": "stdout",
     "output_type": "stream",
     "text": [
      "\n",
      "Epoch 191 Summary:\n",
      "  Train Loss: 1.0533, Train Pixel Accuracy: 71.27%\n",
      "  Validation Loss: 0.9677, Validation Pixel Accuracy: 74.46%\n",
      "  Current learning rate: 0.000001\n",
      "------------------------------\n",
      "--- Epoch 192/300 ---\n"
     ]
    },
    {
     "name": "stderr",
     "output_type": "stream",
     "text": [
      "Training: 100%|\u001b[32m██████████\u001b[0m| 23/23 [00:13<00:00,  1.65it/s, loss=0.9968]\n",
      "Validation: 100%|\u001b[31m██████████\u001b[0m| 23/23 [00:06<00:00,  3.74it/s, loss=0.9803]\n"
     ]
    },
    {
     "name": "stdout",
     "output_type": "stream",
     "text": [
      "\n",
      "Epoch 192 Summary:\n",
      "  Train Loss: 1.0497, Train Pixel Accuracy: 71.20%\n",
      "  Validation Loss: 0.9677, Validation Pixel Accuracy: 74.46%\n",
      "  Current learning rate: 0.000001\n",
      "------------------------------\n",
      "--- Epoch 193/300 ---\n"
     ]
    },
    {
     "name": "stderr",
     "output_type": "stream",
     "text": [
      "Training: 100%|\u001b[32m██████████\u001b[0m| 23/23 [00:13<00:00,  1.65it/s, loss=1.2787]\n",
      "Validation: 100%|\u001b[31m██████████\u001b[0m| 23/23 [00:06<00:00,  3.72it/s, loss=0.9799]\n"
     ]
    },
    {
     "name": "stdout",
     "output_type": "stream",
     "text": [
      "\n",
      "Epoch 193 Summary:\n",
      "  Train Loss: 1.0679, Train Pixel Accuracy: 70.87%\n",
      "  Validation Loss: 0.9675, Validation Pixel Accuracy: 74.46%\n",
      "  Current learning rate: 0.000001\n",
      "------------------------------\n",
      "--- Epoch 194/300 ---\n"
     ]
    },
    {
     "name": "stderr",
     "output_type": "stream",
     "text": [
      "Training: 100%|\u001b[32m██████████\u001b[0m| 23/23 [00:13<00:00,  1.66it/s, loss=1.1742]\n",
      "Validation: 100%|\u001b[31m██████████\u001b[0m| 23/23 [00:06<00:00,  3.74it/s, loss=0.9806]\n"
     ]
    },
    {
     "name": "stdout",
     "output_type": "stream",
     "text": [
      "\n",
      "Epoch 194 Summary:\n",
      "  Train Loss: 1.0602, Train Pixel Accuracy: 71.02%\n",
      "  Validation Loss: 0.9679, Validation Pixel Accuracy: 74.47%\n",
      "  Current learning rate: 0.000001\n",
      "------------------------------\n",
      "--- Epoch 195/300 ---\n"
     ]
    },
    {
     "name": "stderr",
     "output_type": "stream",
     "text": [
      "Training: 100%|\u001b[32m██████████\u001b[0m| 23/23 [00:14<00:00,  1.64it/s, loss=1.1819]\n",
      "Validation: 100%|\u001b[31m██████████\u001b[0m| 23/23 [00:06<00:00,  3.69it/s, loss=0.9802]\n"
     ]
    },
    {
     "name": "stdout",
     "output_type": "stream",
     "text": [
      "\n",
      "Epoch 195 Summary:\n",
      "  Train Loss: 1.0587, Train Pixel Accuracy: 71.15%\n",
      "  Validation Loss: 0.9678, Validation Pixel Accuracy: 74.46%\n",
      "  Current learning rate: 0.000001\n",
      "------------------------------\n",
      "--- Epoch 196/300 ---\n"
     ]
    },
    {
     "name": "stderr",
     "output_type": "stream",
     "text": [
      "Training: 100%|\u001b[32m██████████\u001b[0m| 23/23 [00:13<00:00,  1.67it/s, loss=1.0204]\n",
      "Validation: 100%|\u001b[31m██████████\u001b[0m| 23/23 [00:06<00:00,  3.48it/s, loss=0.9804]\n"
     ]
    },
    {
     "name": "stdout",
     "output_type": "stream",
     "text": [
      "\n",
      "Epoch 196 Summary:\n",
      "  Train Loss: 1.0599, Train Pixel Accuracy: 70.89%\n",
      "  Validation Loss: 0.9683, Validation Pixel Accuracy: 74.44%\n",
      "  Current learning rate: 0.000001\n",
      "------------------------------\n",
      "--- Epoch 197/300 ---\n"
     ]
    },
    {
     "name": "stderr",
     "output_type": "stream",
     "text": [
      "Training: 100%|\u001b[32m██████████\u001b[0m| 23/23 [00:13<00:00,  1.66it/s, loss=0.9860]\n",
      "Validation: 100%|\u001b[31m██████████\u001b[0m| 23/23 [00:06<00:00,  3.67it/s, loss=0.9802]\n"
     ]
    },
    {
     "name": "stdout",
     "output_type": "stream",
     "text": [
      "\n",
      "Epoch 197 Summary:\n",
      "  Train Loss: 1.0601, Train Pixel Accuracy: 71.02%\n",
      "  Validation Loss: 0.9680, Validation Pixel Accuracy: 74.45%\n",
      "  Current learning rate: 0.000001\n",
      "------------------------------\n",
      "--- Epoch 198/300 ---\n"
     ]
    },
    {
     "name": "stderr",
     "output_type": "stream",
     "text": [
      "Training: 100%|\u001b[32m██████████\u001b[0m| 23/23 [00:13<00:00,  1.66it/s, loss=1.1879]\n",
      "Validation: 100%|\u001b[31m██████████\u001b[0m| 23/23 [00:06<00:00,  3.71it/s, loss=0.9793]\n"
     ]
    },
    {
     "name": "stdout",
     "output_type": "stream",
     "text": [
      "\n",
      "Epoch 198 Summary:\n",
      "  Train Loss: 1.0577, Train Pixel Accuracy: 70.98%\n",
      "  Validation Loss: 0.9674, Validation Pixel Accuracy: 74.47%\n",
      "  Current learning rate: 0.000001\n",
      "------------------------------\n",
      "--- Epoch 199/300 ---\n"
     ]
    },
    {
     "name": "stderr",
     "output_type": "stream",
     "text": [
      "Training: 100%|\u001b[32m██████████\u001b[0m| 23/23 [00:13<00:00,  1.66it/s, loss=1.0669]\n",
      "Validation: 100%|\u001b[31m██████████\u001b[0m| 23/23 [00:06<00:00,  3.54it/s, loss=0.9798]\n"
     ]
    },
    {
     "name": "stdout",
     "output_type": "stream",
     "text": [
      "\n",
      "Epoch 199 Summary:\n",
      "  Train Loss: 1.0577, Train Pixel Accuracy: 71.05%\n",
      "  Validation Loss: 0.9673, Validation Pixel Accuracy: 74.48%\n",
      "  Current learning rate: 0.000001\n",
      "------------------------------\n",
      "--- Epoch 200/300 ---\n"
     ]
    },
    {
     "name": "stderr",
     "output_type": "stream",
     "text": [
      "Training: 100%|\u001b[32m██████████\u001b[0m| 23/23 [00:13<00:00,  1.67it/s, loss=0.9622]\n",
      "Validation: 100%|\u001b[31m██████████\u001b[0m| 23/23 [00:06<00:00,  3.69it/s, loss=0.9792]\n"
     ]
    },
    {
     "name": "stdout",
     "output_type": "stream",
     "text": [
      "\n",
      "Epoch 200 Summary:\n",
      "  Train Loss: 1.0540, Train Pixel Accuracy: 71.28%\n",
      "  Validation Loss: 0.9672, Validation Pixel Accuracy: 74.48%\n",
      "  Current learning rate: 0.000001\n",
      "------------------------------\n",
      "--- Epoch 201/300 ---\n"
     ]
    },
    {
     "name": "stderr",
     "output_type": "stream",
     "text": [
      "Training: 100%|\u001b[32m██████████\u001b[0m| 23/23 [00:13<00:00,  1.67it/s, loss=1.2216]\n",
      "Validation: 100%|\u001b[31m██████████\u001b[0m| 23/23 [00:06<00:00,  3.64it/s, loss=0.9804]\n"
     ]
    },
    {
     "name": "stdout",
     "output_type": "stream",
     "text": [
      "\n",
      "Epoch 201 Summary:\n",
      "  Train Loss: 1.0565, Train Pixel Accuracy: 70.94%\n",
      "  Validation Loss: 0.9679, Validation Pixel Accuracy: 74.46%\n",
      "  Current learning rate: 0.000001\n",
      "------------------------------\n",
      "--- Epoch 202/300 ---\n"
     ]
    },
    {
     "name": "stderr",
     "output_type": "stream",
     "text": [
      "Training: 100%|\u001b[32m██████████\u001b[0m| 23/23 [00:13<00:00,  1.66it/s, loss=1.0826]\n",
      "Validation: 100%|\u001b[31m██████████\u001b[0m| 23/23 [00:06<00:00,  3.79it/s, loss=0.9800]\n"
     ]
    },
    {
     "name": "stdout",
     "output_type": "stream",
     "text": [
      "\n",
      "Epoch 202 Summary:\n",
      "  Train Loss: 1.0622, Train Pixel Accuracy: 70.96%\n",
      "  Validation Loss: 0.9680, Validation Pixel Accuracy: 74.45%\n",
      "  Current learning rate: 0.000001\n",
      "------------------------------\n",
      "--- Epoch 203/300 ---\n"
     ]
    },
    {
     "name": "stderr",
     "output_type": "stream",
     "text": [
      "Training: 100%|\u001b[32m██████████\u001b[0m| 23/23 [00:13<00:00,  1.65it/s, loss=1.1294]\n",
      "Validation: 100%|\u001b[31m██████████\u001b[0m| 23/23 [00:06<00:00,  3.77it/s, loss=0.9805]\n"
     ]
    },
    {
     "name": "stdout",
     "output_type": "stream",
     "text": [
      "\n",
      "Epoch 203 Summary:\n",
      "  Train Loss: 1.0576, Train Pixel Accuracy: 70.91%\n",
      "  Validation Loss: 0.9683, Validation Pixel Accuracy: 74.45%\n",
      "  Current learning rate: 0.000001\n",
      "------------------------------\n",
      "--- Epoch 204/300 ---\n"
     ]
    },
    {
     "name": "stderr",
     "output_type": "stream",
     "text": [
      "Training: 100%|\u001b[32m██████████\u001b[0m| 23/23 [00:13<00:00,  1.67it/s, loss=1.1178]\n",
      "Validation: 100%|\u001b[31m██████████\u001b[0m| 23/23 [00:06<00:00,  3.58it/s, loss=0.9802]\n"
     ]
    },
    {
     "name": "stdout",
     "output_type": "stream",
     "text": [
      "\n",
      "Epoch 204 Summary:\n",
      "  Train Loss: 1.0679, Train Pixel Accuracy: 70.81%\n",
      "  Validation Loss: 0.9681, Validation Pixel Accuracy: 74.45%\n",
      "  Current learning rate: 0.000001\n",
      "------------------------------\n",
      "--- Epoch 205/300 ---\n"
     ]
    },
    {
     "name": "stderr",
     "output_type": "stream",
     "text": [
      "Training: 100%|\u001b[32m██████████\u001b[0m| 23/23 [00:13<00:00,  1.67it/s, loss=1.1440]\n",
      "Validation: 100%|\u001b[31m██████████\u001b[0m| 23/23 [00:05<00:00,  3.84it/s, loss=0.9800]\n"
     ]
    },
    {
     "name": "stdout",
     "output_type": "stream",
     "text": [
      "\n",
      "Epoch 205 Summary:\n",
      "  Train Loss: 1.0541, Train Pixel Accuracy: 71.17%\n",
      "  Validation Loss: 0.9679, Validation Pixel Accuracy: 74.45%\n",
      "  Current learning rate: 0.000001\n",
      "------------------------------\n",
      "--- Epoch 206/300 ---\n"
     ]
    },
    {
     "name": "stderr",
     "output_type": "stream",
     "text": [
      "Training: 100%|\u001b[32m██████████\u001b[0m| 23/23 [00:13<00:00,  1.66it/s, loss=1.0937]\n",
      "Validation: 100%|\u001b[31m██████████\u001b[0m| 23/23 [00:06<00:00,  3.78it/s, loss=0.9804]\n"
     ]
    },
    {
     "name": "stdout",
     "output_type": "stream",
     "text": [
      "\n",
      "Epoch 206 Summary:\n",
      "  Train Loss: 1.0632, Train Pixel Accuracy: 70.92%\n",
      "  Validation Loss: 0.9683, Validation Pixel Accuracy: 74.45%\n",
      "  Current learning rate: 0.000001\n",
      "------------------------------\n",
      "--- Epoch 207/300 ---\n"
     ]
    },
    {
     "name": "stderr",
     "output_type": "stream",
     "text": [
      "Training: 100%|\u001b[32m██████████\u001b[0m| 23/23 [00:13<00:00,  1.66it/s, loss=1.0068]\n",
      "Validation: 100%|\u001b[31m██████████\u001b[0m| 23/23 [00:06<00:00,  3.36it/s, loss=0.9797]\n"
     ]
    },
    {
     "name": "stdout",
     "output_type": "stream",
     "text": [
      "\n",
      "Epoch 207 Summary:\n",
      "  Train Loss: 1.0539, Train Pixel Accuracy: 70.99%\n",
      "  Validation Loss: 0.9677, Validation Pixel Accuracy: 74.46%\n",
      "  Current learning rate: 0.000001\n",
      "------------------------------\n",
      "--- Epoch 208/300 ---\n"
     ]
    },
    {
     "name": "stderr",
     "output_type": "stream",
     "text": [
      "Training: 100%|\u001b[32m██████████\u001b[0m| 23/23 [00:13<00:00,  1.65it/s, loss=1.1640]\n",
      "Validation: 100%|\u001b[31m██████████\u001b[0m| 23/23 [00:06<00:00,  3.81it/s, loss=0.9802]\n"
     ]
    },
    {
     "name": "stdout",
     "output_type": "stream",
     "text": [
      "\n",
      "Epoch 208 Summary:\n",
      "  Train Loss: 1.0624, Train Pixel Accuracy: 70.90%\n",
      "  Validation Loss: 0.9677, Validation Pixel Accuracy: 74.46%\n",
      "  Current learning rate: 0.000001\n",
      "------------------------------\n",
      "--- Epoch 209/300 ---\n"
     ]
    },
    {
     "name": "stderr",
     "output_type": "stream",
     "text": [
      "Training: 100%|\u001b[32m██████████\u001b[0m| 23/23 [00:13<00:00,  1.66it/s, loss=1.0874]\n",
      "Validation: 100%|\u001b[31m██████████\u001b[0m| 23/23 [00:06<00:00,  3.74it/s, loss=0.9807]\n"
     ]
    },
    {
     "name": "stdout",
     "output_type": "stream",
     "text": [
      "\n",
      "Epoch 209 Summary:\n",
      "  Train Loss: 1.0629, Train Pixel Accuracy: 70.88%\n",
      "  Validation Loss: 0.9678, Validation Pixel Accuracy: 74.46%\n",
      "  Current learning rate: 0.000001\n",
      "------------------------------\n",
      "--- Epoch 210/300 ---\n"
     ]
    },
    {
     "name": "stderr",
     "output_type": "stream",
     "text": [
      "Training: 100%|\u001b[32m██████████\u001b[0m| 23/23 [00:13<00:00,  1.66it/s, loss=1.1126]\n",
      "Validation: 100%|\u001b[31m██████████\u001b[0m| 23/23 [00:06<00:00,  3.58it/s, loss=0.9795]\n"
     ]
    },
    {
     "name": "stdout",
     "output_type": "stream",
     "text": [
      "\n",
      "Epoch 210 Summary:\n",
      "  Train Loss: 1.0554, Train Pixel Accuracy: 71.09%\n",
      "  Validation Loss: 0.9673, Validation Pixel Accuracy: 74.47%\n",
      "  Current learning rate: 0.000001\n",
      "------------------------------\n",
      "--- Epoch 211/300 ---\n"
     ]
    },
    {
     "name": "stderr",
     "output_type": "stream",
     "text": [
      "Training: 100%|\u001b[32m██████████\u001b[0m| 23/23 [00:13<00:00,  1.66it/s, loss=0.8911]\n",
      "Validation: 100%|\u001b[31m██████████\u001b[0m| 23/23 [00:06<00:00,  3.80it/s, loss=0.9800]\n"
     ]
    },
    {
     "name": "stdout",
     "output_type": "stream",
     "text": [
      "\n",
      "Epoch 211 Summary:\n",
      "  Train Loss: 1.0564, Train Pixel Accuracy: 70.95%\n",
      "  Validation Loss: 0.9677, Validation Pixel Accuracy: 74.46%\n",
      "  Current learning rate: 0.000001\n",
      "------------------------------\n",
      "--- Epoch 212/300 ---\n"
     ]
    },
    {
     "name": "stderr",
     "output_type": "stream",
     "text": [
      "Training: 100%|\u001b[32m██████████\u001b[0m| 23/23 [00:13<00:00,  1.66it/s, loss=1.1001]\n",
      "Validation: 100%|\u001b[31m██████████\u001b[0m| 23/23 [00:06<00:00,  3.59it/s, loss=0.9790]\n"
     ]
    },
    {
     "name": "stdout",
     "output_type": "stream",
     "text": [
      "\n",
      "Epoch 212 Summary:\n",
      "  Train Loss: 1.0634, Train Pixel Accuracy: 70.77%\n",
      "  Validation Loss: 0.9671, Validation Pixel Accuracy: 74.48%\n",
      "  Current learning rate: 0.000001\n",
      "------------------------------\n",
      "--- Epoch 213/300 ---\n"
     ]
    },
    {
     "name": "stderr",
     "output_type": "stream",
     "text": [
      "Training: 100%|\u001b[32m██████████\u001b[0m| 23/23 [00:13<00:00,  1.65it/s, loss=1.1019]\n",
      "Validation: 100%|\u001b[31m██████████\u001b[0m| 23/23 [00:06<00:00,  3.75it/s, loss=0.9793]\n"
     ]
    },
    {
     "name": "stdout",
     "output_type": "stream",
     "text": [
      "\n",
      "Epoch 213 Summary:\n",
      "  Train Loss: 1.0551, Train Pixel Accuracy: 71.13%\n",
      "  Validation Loss: 0.9670, Validation Pixel Accuracy: 74.49%\n",
      "  Current learning rate: 0.000001\n",
      "------------------------------\n",
      "--- Epoch 214/300 ---\n"
     ]
    },
    {
     "name": "stderr",
     "output_type": "stream",
     "text": [
      "Training: 100%|\u001b[32m██████████\u001b[0m| 23/23 [00:13<00:00,  1.66it/s, loss=1.1181]\n",
      "Validation: 100%|\u001b[31m██████████\u001b[0m| 23/23 [00:05<00:00,  3.86it/s, loss=0.9801]\n"
     ]
    },
    {
     "name": "stdout",
     "output_type": "stream",
     "text": [
      "\n",
      "Epoch 214 Summary:\n",
      "  Train Loss: 1.0541, Train Pixel Accuracy: 71.00%\n",
      "  Validation Loss: 0.9674, Validation Pixel Accuracy: 74.48%\n",
      "  Current learning rate: 0.000001\n",
      "------------------------------\n",
      "--- Epoch 215/300 ---\n"
     ]
    },
    {
     "name": "stderr",
     "output_type": "stream",
     "text": [
      "Training: 100%|\u001b[32m██████████\u001b[0m| 23/23 [00:13<00:00,  1.66it/s, loss=1.1752]\n",
      "Validation: 100%|\u001b[31m██████████\u001b[0m| 23/23 [00:06<00:00,  3.71it/s, loss=0.9797]\n"
     ]
    },
    {
     "name": "stdout",
     "output_type": "stream",
     "text": [
      "\n",
      "Epoch 215 Summary:\n",
      "  Train Loss: 1.0589, Train Pixel Accuracy: 71.06%\n",
      "  Validation Loss: 0.9673, Validation Pixel Accuracy: 74.47%\n",
      "  Current learning rate: 0.000001\n",
      "------------------------------\n",
      "--- Epoch 216/300 ---\n"
     ]
    },
    {
     "name": "stderr",
     "output_type": "stream",
     "text": [
      "Training: 100%|\u001b[32m██████████\u001b[0m| 23/23 [00:13<00:00,  1.65it/s, loss=1.0046]\n",
      "Validation: 100%|\u001b[31m██████████\u001b[0m| 23/23 [00:05<00:00,  3.89it/s, loss=0.9805]\n"
     ]
    },
    {
     "name": "stdout",
     "output_type": "stream",
     "text": [
      "\n",
      "Epoch 216 Summary:\n",
      "  Train Loss: 1.0628, Train Pixel Accuracy: 70.74%\n",
      "  Validation Loss: 0.9675, Validation Pixel Accuracy: 74.47%\n",
      "  Current learning rate: 0.000001\n",
      "------------------------------\n",
      "--- Epoch 217/300 ---\n"
     ]
    },
    {
     "name": "stderr",
     "output_type": "stream",
     "text": [
      "Training: 100%|\u001b[32m██████████\u001b[0m| 23/23 [00:13<00:00,  1.67it/s, loss=1.1601]\n",
      "Validation: 100%|\u001b[31m██████████\u001b[0m| 23/23 [00:05<00:00,  3.87it/s, loss=0.9798]\n"
     ]
    },
    {
     "name": "stdout",
     "output_type": "stream",
     "text": [
      "\n",
      "Epoch 217 Summary:\n",
      "  Train Loss: 1.0609, Train Pixel Accuracy: 70.94%\n",
      "  Validation Loss: 0.9669, Validation Pixel Accuracy: 74.50%\n",
      "  Current learning rate: 0.000001\n",
      "------------------------------\n",
      "--- Epoch 218/300 ---\n"
     ]
    },
    {
     "name": "stderr",
     "output_type": "stream",
     "text": [
      "Training: 100%|\u001b[32m██████████\u001b[0m| 23/23 [00:13<00:00,  1.67it/s, loss=1.0839]\n",
      "Validation: 100%|\u001b[31m██████████\u001b[0m| 23/23 [00:06<00:00,  3.77it/s, loss=0.9802]\n"
     ]
    },
    {
     "name": "stdout",
     "output_type": "stream",
     "text": [
      "\n",
      "Epoch 218 Summary:\n",
      "  Train Loss: 1.0679, Train Pixel Accuracy: 71.00%\n",
      "  Validation Loss: 0.9674, Validation Pixel Accuracy: 74.48%\n",
      "  Current learning rate: 0.000001\n",
      "------------------------------\n",
      "--- Epoch 219/300 ---\n"
     ]
    },
    {
     "name": "stderr",
     "output_type": "stream",
     "text": [
      "Training: 100%|\u001b[32m██████████\u001b[0m| 23/23 [00:13<00:00,  1.67it/s, loss=1.2421]\n",
      "Validation: 100%|\u001b[31m██████████\u001b[0m| 23/23 [00:06<00:00,  3.75it/s, loss=0.9806]\n"
     ]
    },
    {
     "name": "stdout",
     "output_type": "stream",
     "text": [
      "\n",
      "Epoch 219 Summary:\n",
      "  Train Loss: 1.0611, Train Pixel Accuracy: 70.90%\n",
      "  Validation Loss: 0.9677, Validation Pixel Accuracy: 74.47%\n",
      "  Current learning rate: 0.000001\n",
      "------------------------------\n",
      "--- Epoch 220/300 ---\n"
     ]
    },
    {
     "name": "stderr",
     "output_type": "stream",
     "text": [
      "Training: 100%|\u001b[32m██████████\u001b[0m| 23/23 [00:13<00:00,  1.67it/s, loss=1.2071]\n",
      "Validation: 100%|\u001b[31m██████████\u001b[0m| 23/23 [00:06<00:00,  3.78it/s, loss=0.9811]\n"
     ]
    },
    {
     "name": "stdout",
     "output_type": "stream",
     "text": [
      "\n",
      "Epoch 220 Summary:\n",
      "  Train Loss: 1.0611, Train Pixel Accuracy: 71.07%\n",
      "  Validation Loss: 0.9682, Validation Pixel Accuracy: 74.45%\n",
      "  Current learning rate: 0.000001\n",
      "------------------------------\n",
      "--- Epoch 221/300 ---\n"
     ]
    },
    {
     "name": "stderr",
     "output_type": "stream",
     "text": [
      "Training: 100%|\u001b[32m██████████\u001b[0m| 23/23 [00:13<00:00,  1.67it/s, loss=1.1083]\n",
      "Validation: 100%|\u001b[31m██████████\u001b[0m| 23/23 [00:06<00:00,  3.70it/s, loss=0.9806]\n"
     ]
    },
    {
     "name": "stdout",
     "output_type": "stream",
     "text": [
      "\n",
      "Epoch 221 Summary:\n",
      "  Train Loss: 1.0577, Train Pixel Accuracy: 71.00%\n",
      "  Validation Loss: 0.9681, Validation Pixel Accuracy: 74.45%\n",
      "  Current learning rate: 0.000001\n",
      "------------------------------\n",
      "--- Epoch 222/300 ---\n"
     ]
    },
    {
     "name": "stderr",
     "output_type": "stream",
     "text": [
      "Training: 100%|\u001b[32m██████████\u001b[0m| 23/23 [00:14<00:00,  1.64it/s, loss=0.9633]\n",
      "Validation: 100%|\u001b[31m██████████\u001b[0m| 23/23 [00:06<00:00,  3.56it/s, loss=0.9814]\n"
     ]
    },
    {
     "name": "stdout",
     "output_type": "stream",
     "text": [
      "\n",
      "Epoch 222 Summary:\n",
      "  Train Loss: 1.0595, Train Pixel Accuracy: 70.96%\n",
      "  Validation Loss: 0.9683, Validation Pixel Accuracy: 74.45%\n",
      "  Current learning rate: 0.000001\n",
      "------------------------------\n",
      "--- Epoch 223/300 ---\n"
     ]
    },
    {
     "name": "stderr",
     "output_type": "stream",
     "text": [
      "Training: 100%|\u001b[32m██████████\u001b[0m| 23/23 [00:13<00:00,  1.65it/s, loss=1.0147]\n",
      "Validation: 100%|\u001b[31m██████████\u001b[0m| 23/23 [00:06<00:00,  3.53it/s, loss=0.9812]\n"
     ]
    },
    {
     "name": "stdout",
     "output_type": "stream",
     "text": [
      "\n",
      "Epoch 223 Summary:\n",
      "  Train Loss: 1.0563, Train Pixel Accuracy: 71.01%\n",
      "  Validation Loss: 0.9681, Validation Pixel Accuracy: 74.46%\n",
      "  Current learning rate: 0.000001\n",
      "------------------------------\n",
      "--- Epoch 224/300 ---\n"
     ]
    },
    {
     "name": "stderr",
     "output_type": "stream",
     "text": [
      "Training: 100%|\u001b[32m██████████\u001b[0m| 23/23 [00:13<00:00,  1.65it/s, loss=1.1828]\n",
      "Validation: 100%|\u001b[31m██████████\u001b[0m| 23/23 [00:06<00:00,  3.58it/s, loss=0.9802]\n"
     ]
    },
    {
     "name": "stdout",
     "output_type": "stream",
     "text": [
      "\n",
      "Epoch 224 Summary:\n",
      "  Train Loss: 1.0541, Train Pixel Accuracy: 71.07%\n",
      "  Validation Loss: 0.9672, Validation Pixel Accuracy: 74.49%\n",
      "  Current learning rate: 0.000001\n",
      "------------------------------\n",
      "--- Epoch 225/300 ---\n"
     ]
    },
    {
     "name": "stderr",
     "output_type": "stream",
     "text": [
      "Training: 100%|\u001b[32m██████████\u001b[0m| 23/23 [00:13<00:00,  1.65it/s, loss=1.0724]\n",
      "Validation: 100%|\u001b[31m██████████\u001b[0m| 23/23 [00:06<00:00,  3.76it/s, loss=0.9800]\n"
     ]
    },
    {
     "name": "stdout",
     "output_type": "stream",
     "text": [
      "\n",
      "Epoch 225 Summary:\n",
      "  Train Loss: 1.0539, Train Pixel Accuracy: 71.00%\n",
      "  Validation Loss: 0.9677, Validation Pixel Accuracy: 74.46%\n",
      "  Current learning rate: 0.000001\n",
      "------------------------------\n",
      "--- Epoch 226/300 ---\n"
     ]
    },
    {
     "name": "stderr",
     "output_type": "stream",
     "text": [
      "Training: 100%|\u001b[32m██████████\u001b[0m| 23/23 [00:13<00:00,  1.67it/s, loss=1.0042]\n",
      "Validation: 100%|\u001b[31m██████████\u001b[0m| 23/23 [00:06<00:00,  3.68it/s, loss=0.9810]\n"
     ]
    },
    {
     "name": "stdout",
     "output_type": "stream",
     "text": [
      "\n",
      "Epoch 226 Summary:\n",
      "  Train Loss: 1.0600, Train Pixel Accuracy: 70.92%\n",
      "  Validation Loss: 0.9678, Validation Pixel Accuracy: 74.47%\n",
      "  Current learning rate: 0.000001\n",
      "------------------------------\n",
      "--- Epoch 227/300 ---\n"
     ]
    },
    {
     "name": "stderr",
     "output_type": "stream",
     "text": [
      "Training: 100%|\u001b[32m██████████\u001b[0m| 23/23 [00:13<00:00,  1.66it/s, loss=1.0972]\n",
      "Validation: 100%|\u001b[31m██████████\u001b[0m| 23/23 [00:06<00:00,  3.77it/s, loss=0.9811]\n"
     ]
    },
    {
     "name": "stdout",
     "output_type": "stream",
     "text": [
      "\n",
      "Epoch 227 Summary:\n",
      "  Train Loss: 1.0605, Train Pixel Accuracy: 70.94%\n",
      "  Validation Loss: 0.9678, Validation Pixel Accuracy: 74.46%\n",
      "  Current learning rate: 0.000001\n",
      "------------------------------\n",
      "--- Epoch 228/300 ---\n"
     ]
    },
    {
     "name": "stderr",
     "output_type": "stream",
     "text": [
      "Training: 100%|\u001b[32m██████████\u001b[0m| 23/23 [00:13<00:00,  1.65it/s, loss=1.1030]\n",
      "Validation: 100%|\u001b[31m██████████\u001b[0m| 23/23 [00:06<00:00,  3.59it/s, loss=0.9812]\n"
     ]
    },
    {
     "name": "stdout",
     "output_type": "stream",
     "text": [
      "\n",
      "Epoch 228 Summary:\n",
      "  Train Loss: 1.0528, Train Pixel Accuracy: 71.06%\n",
      "  Validation Loss: 0.9677, Validation Pixel Accuracy: 74.47%\n",
      "  Current learning rate: 0.000001\n",
      "------------------------------\n",
      "--- Epoch 229/300 ---\n"
     ]
    },
    {
     "name": "stderr",
     "output_type": "stream",
     "text": [
      "Training: 100%|\u001b[32m██████████\u001b[0m| 23/23 [00:13<00:00,  1.67it/s, loss=1.1306]\n",
      "Validation: 100%|\u001b[31m██████████\u001b[0m| 23/23 [00:05<00:00,  3.88it/s, loss=0.9811]\n"
     ]
    },
    {
     "name": "stdout",
     "output_type": "stream",
     "text": [
      "\n",
      "Epoch 229 Summary:\n",
      "  Train Loss: 1.0568, Train Pixel Accuracy: 71.06%\n",
      "  Validation Loss: 0.9677, Validation Pixel Accuracy: 74.46%\n",
      "  Current learning rate: 0.000001\n",
      "------------------------------\n",
      "--- Epoch 230/300 ---\n"
     ]
    },
    {
     "name": "stderr",
     "output_type": "stream",
     "text": [
      "Training: 100%|\u001b[32m██████████\u001b[0m| 23/23 [00:13<00:00,  1.65it/s, loss=1.0677]\n",
      "Validation: 100%|\u001b[31m██████████\u001b[0m| 23/23 [00:05<00:00,  3.88it/s, loss=0.9817]\n"
     ]
    },
    {
     "name": "stdout",
     "output_type": "stream",
     "text": [
      "\n",
      "Epoch 230 Summary:\n",
      "  Train Loss: 1.0625, Train Pixel Accuracy: 70.92%\n",
      "  Validation Loss: 0.9679, Validation Pixel Accuracy: 74.46%\n",
      "  Current learning rate: 0.000001\n",
      "------------------------------\n",
      "--- Epoch 231/300 ---\n"
     ]
    },
    {
     "name": "stderr",
     "output_type": "stream",
     "text": [
      "Training: 100%|\u001b[32m██████████\u001b[0m| 23/23 [00:13<00:00,  1.66it/s, loss=1.0292]\n",
      "Validation: 100%|\u001b[31m██████████\u001b[0m| 23/23 [00:06<00:00,  3.66it/s, loss=0.9808]\n"
     ]
    },
    {
     "name": "stdout",
     "output_type": "stream",
     "text": [
      "\n",
      "Epoch 231 Summary:\n",
      "  Train Loss: 1.0581, Train Pixel Accuracy: 71.11%\n",
      "  Validation Loss: 0.9671, Validation Pixel Accuracy: 74.49%\n",
      "  Current learning rate: 0.000001\n",
      "------------------------------\n",
      "--- Epoch 232/300 ---\n"
     ]
    },
    {
     "name": "stderr",
     "output_type": "stream",
     "text": [
      "Training: 100%|\u001b[32m██████████\u001b[0m| 23/23 [00:13<00:00,  1.67it/s, loss=1.1536]\n",
      "Validation: 100%|\u001b[31m██████████\u001b[0m| 23/23 [00:06<00:00,  3.79it/s, loss=0.9799]\n"
     ]
    },
    {
     "name": "stdout",
     "output_type": "stream",
     "text": [
      "\n",
      "Epoch 232 Summary:\n",
      "  Train Loss: 1.0608, Train Pixel Accuracy: 70.79%\n",
      "  Validation Loss: 0.9669, Validation Pixel Accuracy: 74.48%\n",
      "  Current learning rate: 0.000001\n",
      "------------------------------\n",
      "--- Epoch 233/300 ---\n"
     ]
    },
    {
     "name": "stderr",
     "output_type": "stream",
     "text": [
      "Training: 100%|\u001b[32m██████████\u001b[0m| 23/23 [00:13<00:00,  1.66it/s, loss=1.0405]\n",
      "Validation: 100%|\u001b[31m██████████\u001b[0m| 23/23 [00:06<00:00,  3.49it/s, loss=0.9807]\n"
     ]
    },
    {
     "name": "stdout",
     "output_type": "stream",
     "text": [
      "\n",
      "Epoch 233 Summary:\n",
      "  Train Loss: 1.0593, Train Pixel Accuracy: 70.90%\n",
      "  Validation Loss: 0.9671, Validation Pixel Accuracy: 74.50%\n",
      "  Current learning rate: 0.000001\n",
      "------------------------------\n",
      "--- Epoch 234/300 ---\n"
     ]
    },
    {
     "name": "stderr",
     "output_type": "stream",
     "text": [
      "Training: 100%|\u001b[32m██████████\u001b[0m| 23/23 [00:13<00:00,  1.66it/s, loss=1.1211]\n",
      "Validation: 100%|\u001b[31m██████████\u001b[0m| 23/23 [00:06<00:00,  3.69it/s, loss=0.9810]\n"
     ]
    },
    {
     "name": "stdout",
     "output_type": "stream",
     "text": [
      "\n",
      "Epoch 234 Summary:\n",
      "  Train Loss: 1.0615, Train Pixel Accuracy: 70.98%\n",
      "  Validation Loss: 0.9676, Validation Pixel Accuracy: 74.47%\n",
      "  Current learning rate: 0.000001\n",
      "------------------------------\n",
      "--- Epoch 235/300 ---\n"
     ]
    },
    {
     "name": "stderr",
     "output_type": "stream",
     "text": [
      "Training: 100%|\u001b[32m██████████\u001b[0m| 23/23 [00:13<00:00,  1.66it/s, loss=1.0995]\n",
      "Validation: 100%|\u001b[31m██████████\u001b[0m| 23/23 [00:05<00:00,  3.87it/s, loss=0.9812]\n"
     ]
    },
    {
     "name": "stdout",
     "output_type": "stream",
     "text": [
      "\n",
      "Epoch 235 Summary:\n",
      "  Train Loss: 1.0608, Train Pixel Accuracy: 70.94%\n",
      "  Validation Loss: 0.9677, Validation Pixel Accuracy: 74.47%\n",
      "  Current learning rate: 0.000001\n",
      "------------------------------\n",
      "--- Epoch 236/300 ---\n"
     ]
    },
    {
     "name": "stderr",
     "output_type": "stream",
     "text": [
      "Training: 100%|\u001b[32m██████████\u001b[0m| 23/23 [00:13<00:00,  1.67it/s, loss=1.0764]\n",
      "Validation: 100%|\u001b[31m██████████\u001b[0m| 23/23 [00:06<00:00,  3.73it/s, loss=0.9812]\n"
     ]
    },
    {
     "name": "stdout",
     "output_type": "stream",
     "text": [
      "\n",
      "Epoch 236 Summary:\n",
      "  Train Loss: 1.0585, Train Pixel Accuracy: 71.04%\n",
      "  Validation Loss: 0.9679, Validation Pixel Accuracy: 74.46%\n",
      "  Current learning rate: 0.000001\n",
      "------------------------------\n",
      "--- Epoch 237/300 ---\n"
     ]
    },
    {
     "name": "stderr",
     "output_type": "stream",
     "text": [
      "Training: 100%|\u001b[32m██████████\u001b[0m| 23/23 [00:13<00:00,  1.67it/s, loss=1.0290]\n",
      "Validation: 100%|\u001b[31m██████████\u001b[0m| 23/23 [00:06<00:00,  3.69it/s, loss=0.9803]\n"
     ]
    },
    {
     "name": "stdout",
     "output_type": "stream",
     "text": [
      "\n",
      "Epoch 237 Summary:\n",
      "  Train Loss: 1.0641, Train Pixel Accuracy: 70.84%\n",
      "  Validation Loss: 0.9671, Validation Pixel Accuracy: 74.49%\n",
      "  Current learning rate: 0.000001\n",
      "------------------------------\n",
      "--- Epoch 238/300 ---\n"
     ]
    },
    {
     "name": "stderr",
     "output_type": "stream",
     "text": [
      "Training: 100%|\u001b[32m██████████\u001b[0m| 23/23 [00:13<00:00,  1.66it/s, loss=0.8759]\n",
      "Validation: 100%|\u001b[31m██████████\u001b[0m| 23/23 [00:06<00:00,  3.78it/s, loss=0.9806]\n"
     ]
    },
    {
     "name": "stdout",
     "output_type": "stream",
     "text": [
      "\n",
      "Epoch 238 Summary:\n",
      "  Train Loss: 1.0525, Train Pixel Accuracy: 71.07%\n",
      "  Validation Loss: 0.9674, Validation Pixel Accuracy: 74.47%\n",
      "  Current learning rate: 0.000001\n",
      "------------------------------\n",
      "--- Epoch 239/300 ---\n"
     ]
    },
    {
     "name": "stderr",
     "output_type": "stream",
     "text": [
      "Training: 100%|\u001b[32m██████████\u001b[0m| 23/23 [00:13<00:00,  1.67it/s, loss=0.9858]\n",
      "Validation: 100%|\u001b[31m██████████\u001b[0m| 23/23 [00:06<00:00,  3.62it/s, loss=0.9809]\n"
     ]
    },
    {
     "name": "stdout",
     "output_type": "stream",
     "text": [
      "\n",
      "Epoch 239 Summary:\n",
      "  Train Loss: 1.0666, Train Pixel Accuracy: 70.81%\n",
      "  Validation Loss: 0.9676, Validation Pixel Accuracy: 74.47%\n",
      "  Current learning rate: 0.000001\n",
      "------------------------------\n",
      "--- Epoch 240/300 ---\n"
     ]
    },
    {
     "name": "stderr",
     "output_type": "stream",
     "text": [
      "Training: 100%|\u001b[32m██████████\u001b[0m| 23/23 [00:13<00:00,  1.65it/s, loss=0.9538]\n",
      "Validation: 100%|\u001b[31m██████████\u001b[0m| 23/23 [00:06<00:00,  3.71it/s, loss=0.9804]\n"
     ]
    },
    {
     "name": "stdout",
     "output_type": "stream",
     "text": [
      "\n",
      "Epoch 240 Summary:\n",
      "  Train Loss: 1.0589, Train Pixel Accuracy: 70.87%\n",
      "  Validation Loss: 0.9675, Validation Pixel Accuracy: 74.46%\n",
      "  Current learning rate: 0.000001\n",
      "------------------------------\n",
      "--- Epoch 241/300 ---\n"
     ]
    },
    {
     "name": "stderr",
     "output_type": "stream",
     "text": [
      "Training: 100%|\u001b[32m██████████\u001b[0m| 23/23 [00:13<00:00,  1.66it/s, loss=0.9879]\n",
      "Validation: 100%|\u001b[31m██████████\u001b[0m| 23/23 [00:06<00:00,  3.46it/s, loss=0.9801]\n"
     ]
    },
    {
     "name": "stdout",
     "output_type": "stream",
     "text": [
      "\n",
      "Epoch 241 Summary:\n",
      "  Train Loss: 1.0651, Train Pixel Accuracy: 70.89%\n",
      "  Validation Loss: 0.9676, Validation Pixel Accuracy: 74.47%\n",
      "  Current learning rate: 0.000001\n",
      "------------------------------\n",
      "--- Epoch 242/300 ---\n"
     ]
    },
    {
     "name": "stderr",
     "output_type": "stream",
     "text": [
      "Training: 100%|\u001b[32m██████████\u001b[0m| 23/23 [00:13<00:00,  1.66it/s, loss=0.9686]\n",
      "Validation: 100%|\u001b[31m██████████\u001b[0m| 23/23 [00:06<00:00,  3.64it/s, loss=0.9803]\n"
     ]
    },
    {
     "name": "stdout",
     "output_type": "stream",
     "text": [
      "\n",
      "Epoch 242 Summary:\n",
      "  Train Loss: 1.0611, Train Pixel Accuracy: 71.09%\n",
      "  Validation Loss: 0.9675, Validation Pixel Accuracy: 74.47%\n",
      "  Current learning rate: 0.000001\n",
      "------------------------------\n",
      "--- Epoch 243/300 ---\n"
     ]
    },
    {
     "name": "stderr",
     "output_type": "stream",
     "text": [
      "Training: 100%|\u001b[32m██████████\u001b[0m| 23/23 [00:13<00:00,  1.66it/s, loss=0.9460]\n",
      "Validation: 100%|\u001b[31m██████████\u001b[0m| 23/23 [00:06<00:00,  3.61it/s, loss=0.9796]\n"
     ]
    },
    {
     "name": "stdout",
     "output_type": "stream",
     "text": [
      "\n",
      "Epoch 243 Summary:\n",
      "  Train Loss: 1.0511, Train Pixel Accuracy: 71.15%\n",
      "  Validation Loss: 0.9673, Validation Pixel Accuracy: 74.48%\n",
      "  Current learning rate: 0.000001\n",
      "------------------------------\n",
      "--- Epoch 244/300 ---\n"
     ]
    },
    {
     "name": "stderr",
     "output_type": "stream",
     "text": [
      "Training: 100%|\u001b[32m██████████\u001b[0m| 23/23 [00:13<00:00,  1.65it/s, loss=0.8939]\n",
      "Validation: 100%|\u001b[31m██████████\u001b[0m| 23/23 [00:06<00:00,  3.54it/s, loss=0.9803]\n"
     ]
    },
    {
     "name": "stdout",
     "output_type": "stream",
     "text": [
      "\n",
      "Epoch 244 Summary:\n",
      "  Train Loss: 1.0521, Train Pixel Accuracy: 71.25%\n",
      "  Validation Loss: 0.9674, Validation Pixel Accuracy: 74.47%\n",
      "  Current learning rate: 0.000001\n",
      "------------------------------\n",
      "--- Epoch 245/300 ---\n"
     ]
    },
    {
     "name": "stderr",
     "output_type": "stream",
     "text": [
      "Training: 100%|\u001b[32m██████████\u001b[0m| 23/23 [00:13<00:00,  1.66it/s, loss=0.9842]\n",
      "Validation: 100%|\u001b[31m██████████\u001b[0m| 23/23 [00:06<00:00,  3.61it/s, loss=0.9796]\n"
     ]
    },
    {
     "name": "stdout",
     "output_type": "stream",
     "text": [
      "\n",
      "Epoch 245 Summary:\n",
      "  Train Loss: 1.0558, Train Pixel Accuracy: 70.99%\n",
      "  Validation Loss: 0.9670, Validation Pixel Accuracy: 74.48%\n",
      "  Current learning rate: 0.000001\n",
      "------------------------------\n",
      "--- Epoch 246/300 ---\n"
     ]
    },
    {
     "name": "stderr",
     "output_type": "stream",
     "text": [
      "Training: 100%|\u001b[32m██████████\u001b[0m| 23/23 [00:13<00:00,  1.66it/s, loss=0.9800]\n",
      "Validation: 100%|\u001b[31m██████████\u001b[0m| 23/23 [00:06<00:00,  3.64it/s, loss=0.9795]\n"
     ]
    },
    {
     "name": "stdout",
     "output_type": "stream",
     "text": [
      "\n",
      "Epoch 246 Summary:\n",
      "  Train Loss: 1.0597, Train Pixel Accuracy: 70.99%\n",
      "  Validation Loss: 0.9667, Validation Pixel Accuracy: 74.50%\n",
      "  Current learning rate: 0.000001\n",
      "------------------------------\n",
      "--- Epoch 247/300 ---\n"
     ]
    },
    {
     "name": "stderr",
     "output_type": "stream",
     "text": [
      "Training: 100%|\u001b[32m██████████\u001b[0m| 23/23 [00:13<00:00,  1.66it/s, loss=0.9930]\n",
      "Validation: 100%|\u001b[31m██████████\u001b[0m| 23/23 [00:06<00:00,  3.73it/s, loss=0.9801]\n"
     ]
    },
    {
     "name": "stdout",
     "output_type": "stream",
     "text": [
      "\n",
      "Epoch 247 Summary:\n",
      "  Train Loss: 1.0573, Train Pixel Accuracy: 71.05%\n",
      "  Validation Loss: 0.9673, Validation Pixel Accuracy: 74.48%\n",
      "  Current learning rate: 0.000001\n",
      "------------------------------\n",
      "--- Epoch 248/300 ---\n"
     ]
    },
    {
     "name": "stderr",
     "output_type": "stream",
     "text": [
      "Training: 100%|\u001b[32m██████████\u001b[0m| 23/23 [00:13<00:00,  1.66it/s, loss=0.9865]\n",
      "Validation: 100%|\u001b[31m██████████\u001b[0m| 23/23 [00:06<00:00,  3.74it/s, loss=0.9794]\n"
     ]
    },
    {
     "name": "stdout",
     "output_type": "stream",
     "text": [
      "\n",
      "Epoch 248 Summary:\n",
      "  Train Loss: 1.0569, Train Pixel Accuracy: 71.10%\n",
      "  Validation Loss: 0.9670, Validation Pixel Accuracy: 74.48%\n",
      "  Current learning rate: 0.000001\n",
      "------------------------------\n",
      "--- Epoch 249/300 ---\n"
     ]
    },
    {
     "name": "stderr",
     "output_type": "stream",
     "text": [
      "Training: 100%|\u001b[32m██████████\u001b[0m| 23/23 [00:13<00:00,  1.65it/s, loss=1.0903]\n",
      "Validation: 100%|\u001b[31m██████████\u001b[0m| 23/23 [00:06<00:00,  3.39it/s, loss=0.9801]\n"
     ]
    },
    {
     "name": "stdout",
     "output_type": "stream",
     "text": [
      "\n",
      "Epoch 249 Summary:\n",
      "  Train Loss: 1.0525, Train Pixel Accuracy: 70.98%\n",
      "  Validation Loss: 0.9673, Validation Pixel Accuracy: 74.47%\n",
      "  Current learning rate: 0.000001\n",
      "------------------------------\n",
      "--- Epoch 250/300 ---\n"
     ]
    },
    {
     "name": "stderr",
     "output_type": "stream",
     "text": [
      "Training: 100%|\u001b[32m██████████\u001b[0m| 23/23 [00:13<00:00,  1.66it/s, loss=1.3564]\n",
      "Validation: 100%|\u001b[31m██████████\u001b[0m| 23/23 [00:06<00:00,  3.83it/s, loss=0.9805]\n"
     ]
    },
    {
     "name": "stdout",
     "output_type": "stream",
     "text": [
      "\n",
      "Epoch 250 Summary:\n",
      "  Train Loss: 1.0572, Train Pixel Accuracy: 70.93%\n",
      "  Validation Loss: 0.9676, Validation Pixel Accuracy: 74.47%\n",
      "  Current learning rate: 0.000001\n",
      "------------------------------\n",
      "--- Epoch 251/300 ---\n"
     ]
    },
    {
     "name": "stderr",
     "output_type": "stream",
     "text": [
      "Training: 100%|\u001b[32m██████████\u001b[0m| 23/23 [00:13<00:00,  1.65it/s, loss=1.0921]\n",
      "Validation: 100%|\u001b[31m██████████\u001b[0m| 23/23 [00:06<00:00,  3.67it/s, loss=0.9809]\n"
     ]
    },
    {
     "name": "stdout",
     "output_type": "stream",
     "text": [
      "\n",
      "Epoch 251 Summary:\n",
      "  Train Loss: 1.0605, Train Pixel Accuracy: 70.98%\n",
      "  Validation Loss: 0.9676, Validation Pixel Accuracy: 74.48%\n",
      "  Current learning rate: 0.000001\n",
      "------------------------------\n",
      "--- Epoch 252/300 ---\n"
     ]
    },
    {
     "name": "stderr",
     "output_type": "stream",
     "text": [
      "Training: 100%|\u001b[32m██████████\u001b[0m| 23/23 [00:13<00:00,  1.66it/s, loss=1.1206]\n",
      "Validation: 100%|\u001b[31m██████████\u001b[0m| 23/23 [00:06<00:00,  3.69it/s, loss=0.9808]\n"
     ]
    },
    {
     "name": "stdout",
     "output_type": "stream",
     "text": [
      "\n",
      "Epoch 252 Summary:\n",
      "  Train Loss: 1.0537, Train Pixel Accuracy: 71.12%\n",
      "  Validation Loss: 0.9676, Validation Pixel Accuracy: 74.47%\n",
      "  Current learning rate: 0.000001\n",
      "------------------------------\n",
      "--- Epoch 253/300 ---\n"
     ]
    },
    {
     "name": "stderr",
     "output_type": "stream",
     "text": [
      "Training: 100%|\u001b[32m██████████\u001b[0m| 23/23 [00:13<00:00,  1.66it/s, loss=1.1506]\n",
      "Validation: 100%|\u001b[31m██████████\u001b[0m| 23/23 [00:06<00:00,  3.58it/s, loss=0.9810]\n"
     ]
    },
    {
     "name": "stdout",
     "output_type": "stream",
     "text": [
      "\n",
      "Epoch 253 Summary:\n",
      "  Train Loss: 1.0598, Train Pixel Accuracy: 70.98%\n",
      "  Validation Loss: 0.9678, Validation Pixel Accuracy: 74.46%\n",
      "  Current learning rate: 0.000001\n",
      "------------------------------\n",
      "--- Epoch 254/300 ---\n"
     ]
    },
    {
     "name": "stderr",
     "output_type": "stream",
     "text": [
      "Training: 100%|\u001b[32m██████████\u001b[0m| 23/23 [00:13<00:00,  1.65it/s, loss=0.9919]\n",
      "Validation: 100%|\u001b[31m██████████\u001b[0m| 23/23 [00:06<00:00,  3.72it/s, loss=0.9801]\n"
     ]
    },
    {
     "name": "stdout",
     "output_type": "stream",
     "text": [
      "\n",
      "Epoch 254 Summary:\n",
      "  Train Loss: 1.0528, Train Pixel Accuracy: 71.22%\n",
      "  Validation Loss: 0.9672, Validation Pixel Accuracy: 74.48%\n",
      "  Current learning rate: 0.000001\n",
      "------------------------------\n",
      "--- Epoch 255/300 ---\n"
     ]
    },
    {
     "name": "stderr",
     "output_type": "stream",
     "text": [
      "Training: 100%|\u001b[32m██████████\u001b[0m| 23/23 [00:13<00:00,  1.66it/s, loss=0.8856]\n",
      "Validation: 100%|\u001b[31m██████████\u001b[0m| 23/23 [00:06<00:00,  3.72it/s, loss=0.9812]\n"
     ]
    },
    {
     "name": "stdout",
     "output_type": "stream",
     "text": [
      "\n",
      "Epoch 255 Summary:\n",
      "  Train Loss: 1.0577, Train Pixel Accuracy: 71.03%\n",
      "  Validation Loss: 0.9679, Validation Pixel Accuracy: 74.46%\n",
      "  Current learning rate: 0.000001\n",
      "------------------------------\n",
      "--- Epoch 256/300 ---\n"
     ]
    },
    {
     "name": "stderr",
     "output_type": "stream",
     "text": [
      "Training: 100%|\u001b[32m██████████\u001b[0m| 23/23 [00:13<00:00,  1.65it/s, loss=1.2805]\n",
      "Validation: 100%|\u001b[31m██████████\u001b[0m| 23/23 [00:06<00:00,  3.78it/s, loss=0.9802]\n"
     ]
    },
    {
     "name": "stdout",
     "output_type": "stream",
     "text": [
      "\n",
      "Epoch 256 Summary:\n",
      "  Train Loss: 1.0601, Train Pixel Accuracy: 71.04%\n",
      "  Validation Loss: 0.9676, Validation Pixel Accuracy: 74.46%\n",
      "  Current learning rate: 0.000001\n",
      "------------------------------\n",
      "--- Epoch 257/300 ---\n"
     ]
    },
    {
     "name": "stderr",
     "output_type": "stream",
     "text": [
      "Training: 100%|\u001b[32m██████████\u001b[0m| 23/23 [00:13<00:00,  1.66it/s, loss=1.1281]\n",
      "Validation: 100%|\u001b[31m██████████\u001b[0m| 23/23 [00:06<00:00,  3.70it/s, loss=0.9801]\n"
     ]
    },
    {
     "name": "stdout",
     "output_type": "stream",
     "text": [
      "\n",
      "Epoch 257 Summary:\n",
      "  Train Loss: 1.0603, Train Pixel Accuracy: 70.94%\n",
      "  Validation Loss: 0.9673, Validation Pixel Accuracy: 74.47%\n",
      "  Current learning rate: 0.000001\n",
      "------------------------------\n",
      "--- Epoch 258/300 ---\n"
     ]
    },
    {
     "name": "stderr",
     "output_type": "stream",
     "text": [
      "Training: 100%|\u001b[32m██████████\u001b[0m| 23/23 [00:13<00:00,  1.66it/s, loss=1.2675]\n",
      "Validation: 100%|\u001b[31m██████████\u001b[0m| 23/23 [00:06<00:00,  3.63it/s, loss=0.9803]\n"
     ]
    },
    {
     "name": "stdout",
     "output_type": "stream",
     "text": [
      "\n",
      "Epoch 258 Summary:\n",
      "  Train Loss: 1.0655, Train Pixel Accuracy: 71.01%\n",
      "  Validation Loss: 0.9675, Validation Pixel Accuracy: 74.48%\n",
      "  Current learning rate: 0.000001\n",
      "------------------------------\n",
      "--- Epoch 259/300 ---\n"
     ]
    },
    {
     "name": "stderr",
     "output_type": "stream",
     "text": [
      "Training: 100%|\u001b[32m██████████\u001b[0m| 23/23 [00:13<00:00,  1.66it/s, loss=1.0036]\n",
      "Validation: 100%|\u001b[31m██████████\u001b[0m| 23/23 [00:06<00:00,  3.72it/s, loss=0.9813]\n"
     ]
    },
    {
     "name": "stdout",
     "output_type": "stream",
     "text": [
      "\n",
      "Epoch 259 Summary:\n",
      "  Train Loss: 1.0573, Train Pixel Accuracy: 71.20%\n",
      "  Validation Loss: 0.9681, Validation Pixel Accuracy: 74.46%\n",
      "  Current learning rate: 0.000001\n",
      "------------------------------\n",
      "--- Epoch 260/300 ---\n"
     ]
    },
    {
     "name": "stderr",
     "output_type": "stream",
     "text": [
      "Training: 100%|\u001b[32m██████████\u001b[0m| 23/23 [00:13<00:00,  1.65it/s, loss=1.1158]\n",
      "Validation: 100%|\u001b[31m██████████\u001b[0m| 23/23 [00:06<00:00,  3.64it/s, loss=0.9800]\n"
     ]
    },
    {
     "name": "stdout",
     "output_type": "stream",
     "text": [
      "\n",
      "Epoch 260 Summary:\n",
      "  Train Loss: 1.0561, Train Pixel Accuracy: 70.87%\n",
      "  Validation Loss: 0.9671, Validation Pixel Accuracy: 74.49%\n",
      "  Current learning rate: 0.000001\n",
      "------------------------------\n",
      "--- Epoch 261/300 ---\n"
     ]
    },
    {
     "name": "stderr",
     "output_type": "stream",
     "text": [
      "Training: 100%|\u001b[32m██████████\u001b[0m| 23/23 [00:13<00:00,  1.65it/s, loss=1.1215]\n",
      "Validation: 100%|\u001b[31m██████████\u001b[0m| 23/23 [00:06<00:00,  3.57it/s, loss=0.9797]\n"
     ]
    },
    {
     "name": "stdout",
     "output_type": "stream",
     "text": [
      "\n",
      "Epoch 261 Summary:\n",
      "  Train Loss: 1.0609, Train Pixel Accuracy: 70.97%\n",
      "  Validation Loss: 0.9669, Validation Pixel Accuracy: 74.50%\n",
      "  Current learning rate: 0.000001\n",
      "------------------------------\n",
      "--- Epoch 262/300 ---\n"
     ]
    },
    {
     "name": "stderr",
     "output_type": "stream",
     "text": [
      "Training: 100%|\u001b[32m██████████\u001b[0m| 23/23 [00:13<00:00,  1.67it/s, loss=1.1892]\n",
      "Validation: 100%|\u001b[31m██████████\u001b[0m| 23/23 [00:05<00:00,  3.91it/s, loss=0.9800]\n"
     ]
    },
    {
     "name": "stdout",
     "output_type": "stream",
     "text": [
      "\n",
      "Epoch 262 Summary:\n",
      "  Train Loss: 1.0597, Train Pixel Accuracy: 71.03%\n",
      "  Validation Loss: 0.9671, Validation Pixel Accuracy: 74.51%\n",
      "  Current learning rate: 0.000001\n",
      "------------------------------\n",
      "--- Epoch 263/300 ---\n"
     ]
    },
    {
     "name": "stderr",
     "output_type": "stream",
     "text": [
      "Training: 100%|\u001b[32m██████████\u001b[0m| 23/23 [00:13<00:00,  1.66it/s, loss=1.1545]\n",
      "Validation: 100%|\u001b[31m██████████\u001b[0m| 23/23 [00:05<00:00,  3.87it/s, loss=0.9806]\n"
     ]
    },
    {
     "name": "stdout",
     "output_type": "stream",
     "text": [
      "\n",
      "Epoch 263 Summary:\n",
      "  Train Loss: 1.0627, Train Pixel Accuracy: 70.75%\n",
      "  Validation Loss: 0.9678, Validation Pixel Accuracy: 74.46%\n",
      "  Current learning rate: 0.000001\n",
      "------------------------------\n",
      "--- Epoch 264/300 ---\n"
     ]
    },
    {
     "name": "stderr",
     "output_type": "stream",
     "text": [
      "Training: 100%|\u001b[32m██████████\u001b[0m| 23/23 [00:13<00:00,  1.66it/s, loss=1.0540]\n",
      "Validation: 100%|\u001b[31m██████████\u001b[0m| 23/23 [00:06<00:00,  3.74it/s, loss=0.9809]\n"
     ]
    },
    {
     "name": "stdout",
     "output_type": "stream",
     "text": [
      "\n",
      "Epoch 264 Summary:\n",
      "  Train Loss: 1.0560, Train Pixel Accuracy: 70.95%\n",
      "  Validation Loss: 0.9676, Validation Pixel Accuracy: 74.47%\n",
      "  Current learning rate: 0.000001\n",
      "------------------------------\n",
      "--- Epoch 265/300 ---\n"
     ]
    },
    {
     "name": "stderr",
     "output_type": "stream",
     "text": [
      "Training: 100%|\u001b[32m██████████\u001b[0m| 23/23 [00:13<00:00,  1.65it/s, loss=1.1218]\n",
      "Validation: 100%|\u001b[31m██████████\u001b[0m| 23/23 [00:06<00:00,  3.65it/s, loss=0.9807]\n"
     ]
    },
    {
     "name": "stdout",
     "output_type": "stream",
     "text": [
      "\n",
      "Epoch 265 Summary:\n",
      "  Train Loss: 1.0543, Train Pixel Accuracy: 71.17%\n",
      "  Validation Loss: 0.9672, Validation Pixel Accuracy: 74.48%\n",
      "  Current learning rate: 0.000001\n",
      "------------------------------\n",
      "--- Epoch 266/300 ---\n"
     ]
    },
    {
     "name": "stderr",
     "output_type": "stream",
     "text": [
      "Training: 100%|\u001b[32m██████████\u001b[0m| 23/23 [00:13<00:00,  1.67it/s, loss=0.9601]\n",
      "Validation: 100%|\u001b[31m██████████\u001b[0m| 23/23 [00:06<00:00,  3.63it/s, loss=0.9821]\n"
     ]
    },
    {
     "name": "stdout",
     "output_type": "stream",
     "text": [
      "\n",
      "Epoch 266 Summary:\n",
      "  Train Loss: 1.0584, Train Pixel Accuracy: 70.91%\n",
      "  Validation Loss: 0.9681, Validation Pixel Accuracy: 74.46%\n",
      "  Current learning rate: 0.000001\n",
      "------------------------------\n",
      "--- Epoch 267/300 ---\n"
     ]
    },
    {
     "name": "stderr",
     "output_type": "stream",
     "text": [
      "Training: 100%|\u001b[32m██████████\u001b[0m| 23/23 [00:13<00:00,  1.66it/s, loss=1.1798]\n",
      "Validation: 100%|\u001b[31m██████████\u001b[0m| 23/23 [00:06<00:00,  3.67it/s, loss=0.9817]\n"
     ]
    },
    {
     "name": "stdout",
     "output_type": "stream",
     "text": [
      "\n",
      "Epoch 267 Summary:\n",
      "  Train Loss: 1.0675, Train Pixel Accuracy: 70.76%\n",
      "  Validation Loss: 0.9682, Validation Pixel Accuracy: 74.45%\n",
      "  Current learning rate: 0.000001\n",
      "------------------------------\n",
      "--- Epoch 268/300 ---\n"
     ]
    },
    {
     "name": "stderr",
     "output_type": "stream",
     "text": [
      "Training: 100%|\u001b[32m██████████\u001b[0m| 23/23 [00:14<00:00,  1.64it/s, loss=1.0387]\n",
      "Validation: 100%|\u001b[31m██████████\u001b[0m| 23/23 [00:05<00:00,  4.00it/s, loss=0.9813]\n"
     ]
    },
    {
     "name": "stdout",
     "output_type": "stream",
     "text": [
      "\n",
      "Epoch 268 Summary:\n",
      "  Train Loss: 1.0575, Train Pixel Accuracy: 71.02%\n",
      "  Validation Loss: 0.9675, Validation Pixel Accuracy: 74.48%\n",
      "  Current learning rate: 0.000001\n",
      "------------------------------\n",
      "--- Epoch 269/300 ---\n"
     ]
    },
    {
     "name": "stderr",
     "output_type": "stream",
     "text": [
      "Training: 100%|\u001b[32m██████████\u001b[0m| 23/23 [00:13<00:00,  1.65it/s, loss=1.0566]\n",
      "Validation: 100%|\u001b[31m██████████\u001b[0m| 23/23 [00:06<00:00,  3.79it/s, loss=0.9815]\n"
     ]
    },
    {
     "name": "stdout",
     "output_type": "stream",
     "text": [
      "\n",
      "Epoch 269 Summary:\n",
      "  Train Loss: 1.0596, Train Pixel Accuracy: 70.93%\n",
      "  Validation Loss: 0.9679, Validation Pixel Accuracy: 74.46%\n",
      "  Current learning rate: 0.000001\n",
      "------------------------------\n",
      "--- Epoch 270/300 ---\n"
     ]
    },
    {
     "name": "stderr",
     "output_type": "stream",
     "text": [
      "Training: 100%|\u001b[32m██████████\u001b[0m| 23/23 [00:13<00:00,  1.65it/s, loss=1.0594]\n",
      "Validation: 100%|\u001b[31m██████████\u001b[0m| 23/23 [00:05<00:00,  3.86it/s, loss=0.9811]\n"
     ]
    },
    {
     "name": "stdout",
     "output_type": "stream",
     "text": [
      "\n",
      "Epoch 270 Summary:\n",
      "  Train Loss: 1.0542, Train Pixel Accuracy: 71.03%\n",
      "  Validation Loss: 0.9674, Validation Pixel Accuracy: 74.48%\n",
      "  Current learning rate: 0.000001\n",
      "------------------------------\n",
      "--- Epoch 271/300 ---\n"
     ]
    },
    {
     "name": "stderr",
     "output_type": "stream",
     "text": [
      "Training: 100%|\u001b[32m██████████\u001b[0m| 23/23 [00:13<00:00,  1.67it/s, loss=1.0621]\n",
      "Validation: 100%|\u001b[31m██████████\u001b[0m| 23/23 [00:05<00:00,  3.95it/s, loss=0.9816]\n"
     ]
    },
    {
     "name": "stdout",
     "output_type": "stream",
     "text": [
      "\n",
      "Epoch 271 Summary:\n",
      "  Train Loss: 1.0619, Train Pixel Accuracy: 70.94%\n",
      "  Validation Loss: 0.9674, Validation Pixel Accuracy: 74.49%\n",
      "  Current learning rate: 0.000001\n",
      "------------------------------\n",
      "--- Epoch 272/300 ---\n"
     ]
    },
    {
     "name": "stderr",
     "output_type": "stream",
     "text": [
      "Training: 100%|\u001b[32m██████████\u001b[0m| 23/23 [00:13<00:00,  1.66it/s, loss=1.0357]\n",
      "Validation: 100%|\u001b[31m██████████\u001b[0m| 23/23 [00:05<00:00,  3.84it/s, loss=0.9816]\n"
     ]
    },
    {
     "name": "stdout",
     "output_type": "stream",
     "text": [
      "\n",
      "Epoch 272 Summary:\n",
      "  Train Loss: 1.0604, Train Pixel Accuracy: 70.92%\n",
      "  Validation Loss: 0.9671, Validation Pixel Accuracy: 74.51%\n",
      "  Current learning rate: 0.000001\n",
      "------------------------------\n",
      "--- Epoch 273/300 ---\n"
     ]
    },
    {
     "name": "stderr",
     "output_type": "stream",
     "text": [
      "Training: 100%|\u001b[32m██████████\u001b[0m| 23/23 [00:13<00:00,  1.66it/s, loss=1.1139]\n",
      "Validation: 100%|\u001b[31m██████████\u001b[0m| 23/23 [00:06<00:00,  3.59it/s, loss=0.9813]\n"
     ]
    },
    {
     "name": "stdout",
     "output_type": "stream",
     "text": [
      "\n",
      "Epoch 273 Summary:\n",
      "  Train Loss: 1.0660, Train Pixel Accuracy: 70.75%\n",
      "  Validation Loss: 0.9672, Validation Pixel Accuracy: 74.49%\n",
      "  Current learning rate: 0.000001\n",
      "------------------------------\n",
      "--- Epoch 274/300 ---\n"
     ]
    },
    {
     "name": "stderr",
     "output_type": "stream",
     "text": [
      "Training: 100%|\u001b[32m██████████\u001b[0m| 23/23 [00:13<00:00,  1.67it/s, loss=1.0329]\n",
      "Validation: 100%|\u001b[31m██████████\u001b[0m| 23/23 [00:06<00:00,  3.72it/s, loss=0.9813]\n"
     ]
    },
    {
     "name": "stdout",
     "output_type": "stream",
     "text": [
      "\n",
      "Epoch 274 Summary:\n",
      "  Train Loss: 1.0523, Train Pixel Accuracy: 71.05%\n",
      "  Validation Loss: 0.9676, Validation Pixel Accuracy: 74.47%\n",
      "  Current learning rate: 0.000001\n",
      "------------------------------\n",
      "--- Epoch 275/300 ---\n"
     ]
    },
    {
     "name": "stderr",
     "output_type": "stream",
     "text": [
      "Training: 100%|\u001b[32m██████████\u001b[0m| 23/23 [00:13<00:00,  1.66it/s, loss=1.0447]\n",
      "Validation: 100%|\u001b[31m██████████\u001b[0m| 23/23 [00:06<00:00,  3.81it/s, loss=0.9815]\n"
     ]
    },
    {
     "name": "stdout",
     "output_type": "stream",
     "text": [
      "\n",
      "Epoch 275 Summary:\n",
      "  Train Loss: 1.0582, Train Pixel Accuracy: 70.91%\n",
      "  Validation Loss: 0.9675, Validation Pixel Accuracy: 74.48%\n",
      "  Current learning rate: 0.000001\n",
      "------------------------------\n",
      "--- Epoch 276/300 ---\n"
     ]
    },
    {
     "name": "stderr",
     "output_type": "stream",
     "text": [
      "Training: 100%|\u001b[32m██████████\u001b[0m| 23/23 [00:13<00:00,  1.66it/s, loss=1.2219]\n",
      "Validation: 100%|\u001b[31m██████████\u001b[0m| 23/23 [00:05<00:00,  3.96it/s, loss=0.9820]\n"
     ]
    },
    {
     "name": "stdout",
     "output_type": "stream",
     "text": [
      "\n",
      "Epoch 276 Summary:\n",
      "  Train Loss: 1.0577, Train Pixel Accuracy: 71.06%\n",
      "  Validation Loss: 0.9677, Validation Pixel Accuracy: 74.48%\n",
      "  Current learning rate: 0.000001\n",
      "------------------------------\n",
      "--- Epoch 277/300 ---\n"
     ]
    },
    {
     "name": "stderr",
     "output_type": "stream",
     "text": [
      "Training: 100%|\u001b[32m██████████\u001b[0m| 23/23 [00:13<00:00,  1.66it/s, loss=1.0523]\n",
      "Validation: 100%|\u001b[31m██████████\u001b[0m| 23/23 [00:06<00:00,  3.79it/s, loss=0.9816]\n"
     ]
    },
    {
     "name": "stdout",
     "output_type": "stream",
     "text": [
      "\n",
      "Epoch 277 Summary:\n",
      "  Train Loss: 1.0611, Train Pixel Accuracy: 70.85%\n",
      "  Validation Loss: 0.9674, Validation Pixel Accuracy: 74.48%\n",
      "  Current learning rate: 0.000001\n",
      "------------------------------\n",
      "--- Epoch 278/300 ---\n"
     ]
    },
    {
     "name": "stderr",
     "output_type": "stream",
     "text": [
      "Training: 100%|\u001b[32m██████████\u001b[0m| 23/23 [00:13<00:00,  1.65it/s, loss=1.0359]\n",
      "Validation: 100%|\u001b[31m██████████\u001b[0m| 23/23 [00:06<00:00,  3.59it/s, loss=0.9825]\n"
     ]
    },
    {
     "name": "stdout",
     "output_type": "stream",
     "text": [
      "\n",
      "Epoch 278 Summary:\n",
      "  Train Loss: 1.0621, Train Pixel Accuracy: 70.86%\n",
      "  Validation Loss: 0.9681, Validation Pixel Accuracy: 74.45%\n",
      "  Current learning rate: 0.000001\n",
      "------------------------------\n",
      "--- Epoch 279/300 ---\n"
     ]
    },
    {
     "name": "stderr",
     "output_type": "stream",
     "text": [
      "Training: 100%|\u001b[32m██████████\u001b[0m| 23/23 [00:13<00:00,  1.67it/s, loss=0.9515]\n",
      "Validation: 100%|\u001b[31m██████████\u001b[0m| 23/23 [00:06<00:00,  3.67it/s, loss=0.9825]\n"
     ]
    },
    {
     "name": "stdout",
     "output_type": "stream",
     "text": [
      "\n",
      "Epoch 279 Summary:\n",
      "  Train Loss: 1.0653, Train Pixel Accuracy: 70.60%\n",
      "  Validation Loss: 0.9682, Validation Pixel Accuracy: 74.46%\n",
      "  Current learning rate: 0.000001\n",
      "------------------------------\n",
      "--- Epoch 280/300 ---\n"
     ]
    },
    {
     "name": "stderr",
     "output_type": "stream",
     "text": [
      "Training: 100%|\u001b[32m██████████\u001b[0m| 23/23 [00:13<00:00,  1.66it/s, loss=1.1643]\n",
      "Validation: 100%|\u001b[31m██████████\u001b[0m| 23/23 [00:05<00:00,  3.84it/s, loss=0.9823]\n"
     ]
    },
    {
     "name": "stdout",
     "output_type": "stream",
     "text": [
      "\n",
      "Epoch 280 Summary:\n",
      "  Train Loss: 1.0588, Train Pixel Accuracy: 71.08%\n",
      "  Validation Loss: 0.9678, Validation Pixel Accuracy: 74.48%\n",
      "  Current learning rate: 0.000001\n",
      "------------------------------\n",
      "--- Epoch 281/300 ---\n"
     ]
    },
    {
     "name": "stderr",
     "output_type": "stream",
     "text": [
      "Training: 100%|\u001b[32m██████████\u001b[0m| 23/23 [00:13<00:00,  1.64it/s, loss=0.9986]\n",
      "Validation: 100%|\u001b[31m██████████\u001b[0m| 23/23 [00:06<00:00,  3.80it/s, loss=0.9819]\n"
     ]
    },
    {
     "name": "stdout",
     "output_type": "stream",
     "text": [
      "\n",
      "Epoch 281 Summary:\n",
      "  Train Loss: 1.0536, Train Pixel Accuracy: 71.10%\n",
      "  Validation Loss: 0.9682, Validation Pixel Accuracy: 74.45%\n",
      "  Current learning rate: 0.000001\n",
      "------------------------------\n",
      "--- Epoch 282/300 ---\n"
     ]
    },
    {
     "name": "stderr",
     "output_type": "stream",
     "text": [
      "Training: 100%|\u001b[32m██████████\u001b[0m| 23/23 [00:13<00:00,  1.64it/s, loss=1.0066]\n",
      "Validation: 100%|\u001b[31m██████████\u001b[0m| 23/23 [00:06<00:00,  3.71it/s, loss=0.9812]\n"
     ]
    },
    {
     "name": "stdout",
     "output_type": "stream",
     "text": [
      "\n",
      "Epoch 282 Summary:\n",
      "  Train Loss: 1.0533, Train Pixel Accuracy: 70.95%\n",
      "  Validation Loss: 0.9669, Validation Pixel Accuracy: 74.50%\n",
      "  Current learning rate: 0.000001\n",
      "------------------------------\n",
      "--- Epoch 283/300 ---\n"
     ]
    },
    {
     "name": "stderr",
     "output_type": "stream",
     "text": [
      "Training: 100%|\u001b[32m██████████\u001b[0m| 23/23 [00:13<00:00,  1.66it/s, loss=1.0552]\n",
      "Validation: 100%|\u001b[31m██████████\u001b[0m| 23/23 [00:05<00:00,  3.87it/s, loss=0.9819]\n"
     ]
    },
    {
     "name": "stdout",
     "output_type": "stream",
     "text": [
      "\n",
      "Epoch 283 Summary:\n",
      "  Train Loss: 1.0636, Train Pixel Accuracy: 70.91%\n",
      "  Validation Loss: 0.9675, Validation Pixel Accuracy: 74.48%\n",
      "  Current learning rate: 0.000001\n",
      "------------------------------\n",
      "--- Epoch 284/300 ---\n"
     ]
    },
    {
     "name": "stderr",
     "output_type": "stream",
     "text": [
      "Training: 100%|\u001b[32m██████████\u001b[0m| 23/23 [00:13<00:00,  1.66it/s, loss=0.9938]\n",
      "Validation: 100%|\u001b[31m██████████\u001b[0m| 23/23 [00:06<00:00,  3.79it/s, loss=0.9822]\n"
     ]
    },
    {
     "name": "stdout",
     "output_type": "stream",
     "text": [
      "\n",
      "Epoch 284 Summary:\n",
      "  Train Loss: 1.0600, Train Pixel Accuracy: 71.00%\n",
      "  Validation Loss: 0.9678, Validation Pixel Accuracy: 74.47%\n",
      "  Current learning rate: 0.000001\n",
      "------------------------------\n",
      "--- Epoch 285/300 ---\n"
     ]
    },
    {
     "name": "stderr",
     "output_type": "stream",
     "text": [
      "Training: 100%|\u001b[32m██████████\u001b[0m| 23/23 [00:13<00:00,  1.67it/s, loss=1.0375]\n",
      "Validation: 100%|\u001b[31m██████████\u001b[0m| 23/23 [00:06<00:00,  3.76it/s, loss=0.9821]\n"
     ]
    },
    {
     "name": "stdout",
     "output_type": "stream",
     "text": [
      "\n",
      "Epoch 285 Summary:\n",
      "  Train Loss: 1.0586, Train Pixel Accuracy: 70.90%\n",
      "  Validation Loss: 0.9680, Validation Pixel Accuracy: 74.45%\n",
      "  Current learning rate: 0.000001\n",
      "------------------------------\n",
      "--- Epoch 286/300 ---\n"
     ]
    },
    {
     "name": "stderr",
     "output_type": "stream",
     "text": [
      "Training: 100%|\u001b[32m██████████\u001b[0m| 23/23 [00:13<00:00,  1.66it/s, loss=1.2413]\n",
      "Validation: 100%|\u001b[31m██████████\u001b[0m| 23/23 [00:06<00:00,  3.73it/s, loss=0.9817]\n"
     ]
    },
    {
     "name": "stdout",
     "output_type": "stream",
     "text": [
      "\n",
      "Epoch 286 Summary:\n",
      "  Train Loss: 1.0614, Train Pixel Accuracy: 71.09%\n",
      "  Validation Loss: 0.9675, Validation Pixel Accuracy: 74.49%\n",
      "  Current learning rate: 0.000001\n",
      "------------------------------\n",
      "--- Epoch 287/300 ---\n"
     ]
    },
    {
     "name": "stderr",
     "output_type": "stream",
     "text": [
      "Training: 100%|\u001b[32m██████████\u001b[0m| 23/23 [00:13<00:00,  1.65it/s, loss=1.0314]\n",
      "Validation: 100%|\u001b[31m██████████\u001b[0m| 23/23 [00:06<00:00,  3.73it/s, loss=0.9818]\n"
     ]
    },
    {
     "name": "stdout",
     "output_type": "stream",
     "text": [
      "\n",
      "Epoch 287 Summary:\n",
      "  Train Loss: 1.0586, Train Pixel Accuracy: 71.03%\n",
      "  Validation Loss: 0.9674, Validation Pixel Accuracy: 74.49%\n",
      "  Current learning rate: 0.000001\n",
      "------------------------------\n",
      "--- Epoch 288/300 ---\n"
     ]
    },
    {
     "name": "stderr",
     "output_type": "stream",
     "text": [
      "Training: 100%|\u001b[32m██████████\u001b[0m| 23/23 [00:13<00:00,  1.65it/s, loss=1.1262]\n",
      "Validation: 100%|\u001b[31m██████████\u001b[0m| 23/23 [00:06<00:00,  3.79it/s, loss=0.9810]\n"
     ]
    },
    {
     "name": "stdout",
     "output_type": "stream",
     "text": [
      "\n",
      "Epoch 288 Summary:\n",
      "  Train Loss: 1.0654, Train Pixel Accuracy: 70.93%\n",
      "  Validation Loss: 0.9674, Validation Pixel Accuracy: 74.47%\n",
      "  Current learning rate: 0.000001\n",
      "------------------------------\n",
      "--- Epoch 289/300 ---\n"
     ]
    },
    {
     "name": "stderr",
     "output_type": "stream",
     "text": [
      "Training: 100%|\u001b[32m██████████\u001b[0m| 23/23 [00:13<00:00,  1.65it/s, loss=1.0759]\n",
      "Validation: 100%|\u001b[31m██████████\u001b[0m| 23/23 [00:06<00:00,  3.78it/s, loss=0.9812]\n"
     ]
    },
    {
     "name": "stdout",
     "output_type": "stream",
     "text": [
      "\n",
      "Epoch 289 Summary:\n",
      "  Train Loss: 1.0604, Train Pixel Accuracy: 70.92%\n",
      "  Validation Loss: 0.9673, Validation Pixel Accuracy: 74.48%\n",
      "  Current learning rate: 0.000001\n",
      "------------------------------\n",
      "--- Epoch 290/300 ---\n"
     ]
    },
    {
     "name": "stderr",
     "output_type": "stream",
     "text": [
      "Training: 100%|\u001b[32m██████████\u001b[0m| 23/23 [00:13<00:00,  1.65it/s, loss=1.2141]\n",
      "Validation: 100%|\u001b[31m██████████\u001b[0m| 23/23 [00:06<00:00,  3.75it/s, loss=0.9814]\n"
     ]
    },
    {
     "name": "stdout",
     "output_type": "stream",
     "text": [
      "\n",
      "Epoch 290 Summary:\n",
      "  Train Loss: 1.0573, Train Pixel Accuracy: 70.96%\n",
      "  Validation Loss: 0.9674, Validation Pixel Accuracy: 74.47%\n",
      "  Current learning rate: 0.000001\n",
      "------------------------------\n",
      "--- Epoch 291/300 ---\n"
     ]
    },
    {
     "name": "stderr",
     "output_type": "stream",
     "text": [
      "Training: 100%|\u001b[32m██████████\u001b[0m| 23/23 [00:13<00:00,  1.65it/s, loss=1.0919]\n",
      "Validation: 100%|\u001b[31m██████████\u001b[0m| 23/23 [00:06<00:00,  3.70it/s, loss=0.9818]\n"
     ]
    },
    {
     "name": "stdout",
     "output_type": "stream",
     "text": [
      "\n",
      "Epoch 291 Summary:\n",
      "  Train Loss: 1.0562, Train Pixel Accuracy: 71.17%\n",
      "  Validation Loss: 0.9677, Validation Pixel Accuracy: 74.47%\n",
      "  Current learning rate: 0.000001\n",
      "------------------------------\n",
      "--- Epoch 292/300 ---\n"
     ]
    },
    {
     "name": "stderr",
     "output_type": "stream",
     "text": [
      "Training: 100%|\u001b[32m██████████\u001b[0m| 23/23 [00:13<00:00,  1.67it/s, loss=1.1316]\n",
      "Validation: 100%|\u001b[31m██████████\u001b[0m| 23/23 [00:05<00:00,  3.85it/s, loss=0.9810]\n"
     ]
    },
    {
     "name": "stdout",
     "output_type": "stream",
     "text": [
      "\n",
      "Epoch 292 Summary:\n",
      "  Train Loss: 1.0569, Train Pixel Accuracy: 70.90%\n",
      "  Validation Loss: 0.9668, Validation Pixel Accuracy: 74.49%\n",
      "  Current learning rate: 0.000001\n",
      "------------------------------\n",
      "--- Epoch 293/300 ---\n"
     ]
    },
    {
     "name": "stderr",
     "output_type": "stream",
     "text": [
      "Training: 100%|\u001b[32m██████████\u001b[0m| 23/23 [00:13<00:00,  1.65it/s, loss=1.0144]\n",
      "Validation: 100%|\u001b[31m██████████\u001b[0m| 23/23 [00:06<00:00,  3.78it/s, loss=0.9819]\n"
     ]
    },
    {
     "name": "stdout",
     "output_type": "stream",
     "text": [
      "\n",
      "Epoch 293 Summary:\n",
      "  Train Loss: 1.0520, Train Pixel Accuracy: 71.09%\n",
      "  Validation Loss: 0.9676, Validation Pixel Accuracy: 74.47%\n",
      "  Current learning rate: 0.000001\n",
      "------------------------------\n",
      "--- Epoch 294/300 ---\n"
     ]
    },
    {
     "name": "stderr",
     "output_type": "stream",
     "text": [
      "Training: 100%|\u001b[32m██████████\u001b[0m| 23/23 [00:13<00:00,  1.66it/s, loss=1.0492]\n",
      "Validation: 100%|\u001b[31m██████████\u001b[0m| 23/23 [00:06<00:00,  3.62it/s, loss=0.9811]\n"
     ]
    },
    {
     "name": "stdout",
     "output_type": "stream",
     "text": [
      "\n",
      "Epoch 294 Summary:\n",
      "  Train Loss: 1.0561, Train Pixel Accuracy: 71.19%\n",
      "  Validation Loss: 0.9670, Validation Pixel Accuracy: 74.49%\n",
      "  Current learning rate: 0.000001\n",
      "------------------------------\n",
      "--- Epoch 295/300 ---\n"
     ]
    },
    {
     "name": "stderr",
     "output_type": "stream",
     "text": [
      "Training: 100%|\u001b[32m██████████\u001b[0m| 23/23 [00:13<00:00,  1.66it/s, loss=0.9979]\n",
      "Validation: 100%|\u001b[31m██████████\u001b[0m| 23/23 [00:06<00:00,  3.74it/s, loss=0.9814]\n"
     ]
    },
    {
     "name": "stdout",
     "output_type": "stream",
     "text": [
      "\n",
      "Epoch 295 Summary:\n",
      "  Train Loss: 1.0546, Train Pixel Accuracy: 71.11%\n",
      "  Validation Loss: 0.9674, Validation Pixel Accuracy: 74.47%\n",
      "  Current learning rate: 0.000001\n",
      "------------------------------\n",
      "--- Epoch 296/300 ---\n"
     ]
    },
    {
     "name": "stderr",
     "output_type": "stream",
     "text": [
      "Training: 100%|\u001b[32m██████████\u001b[0m| 23/23 [00:13<00:00,  1.66it/s, loss=1.0736]\n",
      "Validation: 100%|\u001b[31m██████████\u001b[0m| 23/23 [00:05<00:00,  3.87it/s, loss=0.9804]\n"
     ]
    },
    {
     "name": "stdout",
     "output_type": "stream",
     "text": [
      "\n",
      "Epoch 296 Summary:\n",
      "  Train Loss: 1.0518, Train Pixel Accuracy: 71.12%\n",
      "  Validation Loss: 0.9668, Validation Pixel Accuracy: 74.49%\n",
      "  Current learning rate: 0.000001\n",
      "------------------------------\n",
      "--- Epoch 297/300 ---\n"
     ]
    },
    {
     "name": "stderr",
     "output_type": "stream",
     "text": [
      "Training: 100%|\u001b[32m██████████\u001b[0m| 23/23 [00:13<00:00,  1.67it/s, loss=0.9624]\n",
      "Validation: 100%|\u001b[31m██████████\u001b[0m| 23/23 [00:06<00:00,  3.75it/s, loss=0.9811]\n"
     ]
    },
    {
     "name": "stdout",
     "output_type": "stream",
     "text": [
      "\n",
      "Epoch 297 Summary:\n",
      "  Train Loss: 1.0618, Train Pixel Accuracy: 70.81%\n",
      "  Validation Loss: 0.9670, Validation Pixel Accuracy: 74.49%\n",
      "  Current learning rate: 0.000001\n",
      "------------------------------\n",
      "--- Epoch 298/300 ---\n"
     ]
    },
    {
     "name": "stderr",
     "output_type": "stream",
     "text": [
      "Training: 100%|\u001b[32m██████████\u001b[0m| 23/23 [00:13<00:00,  1.66it/s, loss=1.0183]\n",
      "Validation: 100%|\u001b[31m██████████\u001b[0m| 23/23 [00:05<00:00,  3.84it/s, loss=0.9813]\n"
     ]
    },
    {
     "name": "stdout",
     "output_type": "stream",
     "text": [
      "\n",
      "Epoch 298 Summary:\n",
      "  Train Loss: 1.0563, Train Pixel Accuracy: 71.09%\n",
      "  Validation Loss: 0.9670, Validation Pixel Accuracy: 74.49%\n",
      "  Current learning rate: 0.000001\n",
      "------------------------------\n",
      "--- Epoch 299/300 ---\n"
     ]
    },
    {
     "name": "stderr",
     "output_type": "stream",
     "text": [
      "Training: 100%|\u001b[32m██████████\u001b[0m| 23/23 [00:13<00:00,  1.66it/s, loss=1.0633]\n",
      "Validation: 100%|\u001b[31m██████████\u001b[0m| 23/23 [00:06<00:00,  3.67it/s, loss=0.9814]\n"
     ]
    },
    {
     "name": "stdout",
     "output_type": "stream",
     "text": [
      "\n",
      "Epoch 299 Summary:\n",
      "  Train Loss: 1.0586, Train Pixel Accuracy: 71.10%\n",
      "  Validation Loss: 0.9673, Validation Pixel Accuracy: 74.48%\n",
      "  Current learning rate: 0.000001\n",
      "------------------------------\n",
      "--- Epoch 300/300 ---\n"
     ]
    },
    {
     "name": "stderr",
     "output_type": "stream",
     "text": [
      "Training: 100%|\u001b[32m██████████\u001b[0m| 23/23 [00:13<00:00,  1.67it/s, loss=1.0411]\n",
      "Validation: 100%|\u001b[31m██████████\u001b[0m| 23/23 [00:06<00:00,  3.67it/s, loss=0.9804]"
     ]
    },
    {
     "name": "stdout",
     "output_type": "stream",
     "text": [
      "\n",
      "Epoch 300 Summary:\n",
      "  Train Loss: 1.0542, Train Pixel Accuracy: 71.04%\n",
      "  Validation Loss: 0.9667, Validation Pixel Accuracy: 74.49%\n",
      "  Current learning rate: 0.000001\n",
      "------------------------------\n",
      "Finished Training\n",
      "Best model saved at /kaggle/working/fcn_voc_best.pth with validation loss: 0.9665\n"
     ]
    },
    {
     "name": "stderr",
     "output_type": "stream",
     "text": [
      "\n"
     ]
    }
   ],
   "source": [
    "from torch.utils.tensorboard import SummaryWriter\n",
    "# --- 1. 初始化 ---\n",
    "epochs = 300\n",
    "writer = SummaryWriter(\"/kaggle/working/segmentation\")\n",
    "best_val_loss = float('inf') # 用于保存最佳模型的变量\n",
    "MODEL_SAVE_PATH = '/kaggle/working/fcn_voc_best.pth'\n",
    "\n",
    "print('Starting Training...')\n",
    "# --- 2. 主训练循环 ---\n",
    "for epoch in range(epochs): \n",
    "    print(f\"--- Epoch {epoch + 1}/{epochs} ---\")\n",
    "    \n",
    "    # --- 训练阶段 ---\n",
    "    net.train() # 对于包含 Dropout 层或 Batch Normalization 层的模型需要调用 model.train() 和 model.eval() \n",
    "    train_loss = 0.0\n",
    "    train_correct_pixels = 0\n",
    "    train_total_pixels = 0\n",
    "    \n",
    "    # 使用tqdm包装训练数据加载器\n",
    "    train_progress_bar = tqdm(train_loader, desc=\"Training\", colour=\"green\")\n",
    "    \n",
    "    for inputs, masks in train_progress_bar:\n",
    "        inputs = inputs.to(device)\n",
    "        masks  = masks.to(device, dtype=torch.long) # 确保掩码是长整型张量，因为 CrossEntropyLoss 需要标签是整数类型\n",
    "        # 清除梯度->向前传播->计算损失->反向传播->优化参数\n",
    "        optimizer.zero_grad() # zero_grad() 必须在 loss.backward()前. 在当前训练批次开始时，首先清零所有参数的梯度。\n",
    "        outputs = net(inputs)\n",
    "        loss = loss_function(outputs, masks)\n",
    "        loss.backward()\n",
    "        optimizer.step()\n",
    "\n",
    "         # 累积损失\n",
    "        train_loss += loss.item()\n",
    "\n",
    "        # 计算像素准确率\n",
    "        with torch.no_grad():\n",
    "            preds = torch.argmax(outputs, dim=1)\n",
    "            # 只计算非忽略区域的像素\n",
    "            valid_pixels = (masks != 255)\n",
    "            train_correct_pixels += ((preds == masks) & valid_pixels).sum().item()\n",
    "            train_total_pixels += valid_pixels.sum().item()\n",
    "        \n",
    "        # 使用 set_postfix 在进度条上动态显示当前批次的损失\n",
    "        train_progress_bar.set_postfix(loss=f\"{loss.item():.4f}\")\n",
    "\n",
    "    # --- 验证阶段 ---\n",
    "    net.eval()\n",
    "    val_loss = 0.0\n",
    "    val_correct_pixels = 0\n",
    "    val_total_pixels = 0\n",
    "\n",
    "    # 使用tqdm包装验证数据加载器\n",
    "    val_progress_bar = tqdm(val_loader, desc=\"Validation\", colour=\"red\")\n",
    "    \n",
    "    with torch.no_grad(): # 测试过程中不计算梯度\n",
    "        for inputs, masks in val_progress_bar:\n",
    "            inputs = inputs.to(device)\n",
    "            masks = masks.to(device, dtype=torch.long)\n",
    "            outputs = net(inputs)\n",
    "            loss = loss_function(outputs, masks)\n",
    "\n",
    "            val_loss += loss.item()\n",
    "\n",
    "            preds = torch.argmax(outputs, dim=1)\n",
    "            valid_pixels = (masks != 255)\n",
    "            val_correct_pixels += ((preds == masks) & valid_pixels).sum().item()\n",
    "            val_total_pixels += valid_pixels.sum().item()\n",
    "\n",
    "            val_progress_bar.set_postfix(loss=f\"{loss.item():.4f}\")\n",
    "\n",
    "\n",
    "    # --- 3. 计算并记录每个Epoch的指标 ---\n",
    "    # 计算平均损失和准确率\n",
    "    avg_train_loss = train_loss / len(train_loader)\n",
    "    train_pixel_acc = (train_correct_pixels / train_total_pixels) * 100 if train_total_pixels > 0 else 0\n",
    "    \n",
    "    avg_val_loss = val_loss / len(val_loader)\n",
    "    val_pixel_acc = (val_correct_pixels / val_total_pixels) * 100 if val_total_pixels > 0 else 0\n",
    "    # 打印本轮的最终结果\n",
    "    print(f\"\\nEpoch {epoch + 1} Summary:\")\n",
    "    print(f\"  Train Loss: {avg_train_loss:.4f}, Train Pixel Accuracy: {train_pixel_acc:.2f}%\")\n",
    "    print(f\"  Validation Loss: {avg_val_loss:.4f}, Validation Pixel Accuracy: {val_pixel_acc:.2f}%\")\n",
    "    # 记录到TensorBoard\n",
    "    writer.add_scalar('Loss/train', avg_train_loss, epoch)\n",
    "    writer.add_scalar('Accuracy/train', train_pixel_acc, epoch)\n",
    "    writer.add_scalar('Loss/validation', avg_val_loss, epoch)\n",
    "    writer.add_scalar('Accuracy/validation', val_pixel_acc, epoch)\n",
    "    writer.add_scalar('Learning_Rate', optimizer.param_groups[0]['lr'], epoch)\n",
    "    \n",
    "    # 更新学习率，并将验证集损失传入\n",
    "    scheduler.step(avg_val_loss)\n",
    "    print(f\"  Current learning rate: {optimizer.param_groups[0]['lr']:.6f}\")\n",
    "\n",
    "    # --- 4. 保存最佳模型 ---\n",
    "    if avg_val_loss < best_val_loss:\n",
    "        best_val_loss = avg_val_loss\n",
    "        torch.save(net.state_dict(), MODEL_SAVE_PATH)\n",
    "        print(f\"  ---> New best model saved to {MODEL_SAVE_PATH} (Validation Loss: {best_val_loss:.4f})\")\n",
    "    \n",
    "    print(\"-\" * 30)\n",
    "\n",
    "print('Finished Training')\n",
    "print(f\"Best model saved at {MODEL_SAVE_PATH} with validation loss: {best_val_loss:.4f}\")\n",
    "writer.close()\n"
   ]
  },
  {
   "cell_type": "code",
   "execution_count": null,
   "id": "ba83baf9",
   "metadata": {
    "papermill": {
     "duration": 1.272277,
     "end_time": "2025-07-22T04:17:43.271190",
     "exception": false,
     "start_time": "2025-07-22T04:17:41.998913",
     "status": "completed"
    },
    "tags": []
   },
   "outputs": [],
   "source": []
  },
  {
   "cell_type": "code",
   "execution_count": 7,
   "id": "0dc37449",
   "metadata": {
    "execution": {
     "iopub.execute_input": "2025-07-22T04:17:45.750575Z",
     "iopub.status.busy": "2025-07-22T04:17:45.749514Z",
     "iopub.status.idle": "2025-07-22T04:17:51.180133Z",
     "shell.execute_reply": "2025-07-22T04:17:51.179403Z"
    },
    "papermill": {
     "duration": 6.6644,
     "end_time": "2025-07-22T04:17:51.181383",
     "exception": false,
     "start_time": "2025-07-22T04:17:44.516983",
     "status": "completed"
    },
    "tags": []
   },
   "outputs": [
    {
     "name": "stdout",
     "output_type": "stream",
     "text": [
      "模型加载成功！\n",
      "开始在 'trainval' 集上进行预测和可视化...\n",
      "已保存可视化结果: /kaggle/working/results/2007_000032_pred.png\n",
      "已保存可视化结果: /kaggle/working/results/2007_000033_pred.png\n",
      "已保存可视化结果: /kaggle/working/results/2007_000039_pred.png\n",
      "已保存可视化结果: /kaggle/working/results/2007_000042_pred.png\n",
      "已保存可视化结果: /kaggle/working/results/2007_000061_pred.png\n",
      "已保存可视化结果: /kaggle/working/results/2007_000063_pred.png\n",
      "已保存可视化结果: /kaggle/working/results/2007_000068_pred.png\n",
      "已保存可视化结果: /kaggle/working/results/2007_000121_pred.png\n",
      "已保存可视化结果: /kaggle/working/results/2007_000123_pred.png\n",
      "已保存可视化结果: /kaggle/working/results/2007_000129_pred.png\n",
      "\n",
      "可视化完成！结果已保存在 '/kaggle/working/results/' 文件夹中。\n"
     ]
    }
   ],
   "source": [
    "\n",
    "import matplotlib.pyplot as plt\n",
    "\n",
    "\n",
    "MODEL_PATH = '/kaggle/working/fcn_voc_best.pth' # 你训练好的模型路径\n",
    "OUTPUT_DIR = '/kaggle/working/results/'\n",
    "\n",
    "NUM_CLASSES = 21\n",
    "IMAGE_SIZE = (256, 256)\n",
    "NUM_VISUALIZATIONS = 10\n",
    "\n",
    "os.makedirs(OUTPUT_DIR, exist_ok=True)\n",
    "\n",
    "# --- 1. PASCAL VOC 颜色映射 (不变) ---\n",
    "VOC_COLORMAP = np.array([\n",
    "    [0, 0, 0], [128, 0, 0], [0, 128, 0], [128, 128, 0],\n",
    "    [0, 0, 128], [128, 0, 128], [0, 128, 128], [128, 128, 128],\n",
    "    [64, 0, 0], [192, 0, 0], [64, 128, 0], [192, 128, 0],\n",
    "    [64, 0, 128], [192, 0, 128], [64, 128, 128], [192, 128, 128],\n",
    "    [0, 64, 0], [128, 64, 0], [0, 192, 0], [128, 192, 0],\n",
    "    [0, 64, 128]\n",
    "], dtype=np.uint8)\n",
    "\n",
    "def mask_to_color(mask, colormap):\n",
    "    color_mask = np.zeros((mask.shape[0], mask.shape[1], 3), dtype=np.uint8)\n",
    "    for class_idx, color in enumerate(colormap):\n",
    "        color_mask[mask == class_idx] = color\n",
    "    return color_mask\n",
    "\n",
    "\n",
    "\n",
    "# 定义数据变换\n",
    "val_augs = A.Compose([\n",
    "    A.Resize(width=IMAGE_SIZE[0], height=IMAGE_SIZE[1]),\n",
    "    A.Normalize(mean=[0.485, 0.456, 0.406], std=[0.229, 0.224, 0.225]),\n",
    "    ToTensorV2()\n",
    "])\n",
    "# 加载模型\n",
    "model = FCN(num_classes=NUM_CLASSES).to(device)\n",
    "model.load_state_dict(torch.load(MODEL_PATH, map_location=device))\n",
    "model.eval()\n",
    "print(\"模型加载成功！\")\n",
    "# 准备数据集\n",
    "test_dataset = PascalVOCDataset(root=VOC_ROOT, image_set='trainval', augmentations=val_augs)\n",
    "# 注意：这里我们不使用DataLoader，因为我们需要文件名来加载原始图像，逐个处理更方便\n",
    "\n",
    "print(f\"开始在 '{test_dataset.image_set}' 集上进行预测和可视化...\")\n",
    "\n",
    "with torch.no_grad():\n",
    "    # 我们直接遍历数据集的文件名列表\n",
    "    for i in range(min(NUM_VISUALIZATIONS, len(test_dataset))):\n",
    "        # 从数据集中获取处理好的图像和掩码\n",
    "        image_tensor, gt_mask = test_dataset[i]\n",
    "        image_id = test_dataset.images[i]\n",
    "        # --- 这是关键的调整 ---\n",
    "        # 手动加载原始图像用于可视化\n",
    "        original_image_path = os.path.join(VOC_ROOT, 'JPEGImages', f'{image_id}.jpg')\n",
    "        original_image = Image.open(original_image_path).convert('RGB').resize(IMAGE_SIZE)\n",
    "        # ----------------------\n",
    "        # 模型需要一个batch维度，所以我们用unsqueeze(0)增加一个维度\n",
    "        image_tensor = image_tensor.unsqueeze(0).to(device)\n",
    "        # 模型预测\n",
    "        output = model(image_tensor)\n",
    "        pred_mask = torch.argmax(output, dim=1)\n",
    "        # 转为Numpy\n",
    "        pred_mask_np = pred_mask.cpu().squeeze(0).numpy()\n",
    "        gt_mask_np = gt_mask.numpy()\n",
    "        # 将边界(255)处理一下，方便可视化\n",
    "        gt_mask_np[gt_mask_np == 255] = 0 \n",
    "        # 转为彩色图\n",
    "        pred_mask_color = mask_to_color(pred_mask_np, VOC_COLORMAP)\n",
    "        gt_mask_color = mask_to_color(gt_mask_np, VOC_COLORMAP)\n",
    "        # 绘图\n",
    "        fig, axes = plt.subplots(1, 3, figsize=(18, 6))\n",
    "        axes[0].imshow(original_image)\n",
    "        axes[0].set_title(f'Original Image: {image_id}')\n",
    "        axes[0].axis('off')\n",
    "        axes[1].imshow(gt_mask_color)\n",
    "        axes[1].set_title('Ground Truth Mask')\n",
    "        axes[1].axis('off')\n",
    "        axes[2].imshow(pred_mask_color)\n",
    "        axes[2].set_title('Predicted Mask')\n",
    "        axes[2].axis('off')\n",
    "        plt.tight_layout()\n",
    "        \n",
    "        save_path = os.path.join(OUTPUT_DIR, f'{image_id}_pred.png')\n",
    "        plt.savefig(save_path)\n",
    "        plt.close(fig)\n",
    "        print(f\"已保存可视化结果: {save_path}\")\n",
    "print(f\"\\n可视化完成！结果已保存在 '{OUTPUT_DIR}' 文件夹中。\")\n"
   ]
  },
  {
   "cell_type": "code",
   "execution_count": null,
   "id": "94ed742b",
   "metadata": {
    "papermill": {
     "duration": 1.195257,
     "end_time": "2025-07-22T04:17:53.699117",
     "exception": false,
     "start_time": "2025-07-22T04:17:52.503860",
     "status": "completed"
    },
    "tags": []
   },
   "outputs": [],
   "source": []
  },
  {
   "cell_type": "code",
   "execution_count": null,
   "id": "fd4f2743",
   "metadata": {
    "papermill": {
     "duration": 1.232626,
     "end_time": "2025-07-22T04:17:56.170749",
     "exception": false,
     "start_time": "2025-07-22T04:17:54.938123",
     "status": "completed"
    },
    "tags": []
   },
   "outputs": [],
   "source": []
  }
 ],
 "metadata": {
  "colab": {
   "provenance": []
  },
  "kaggle": {
   "accelerator": "gpu",
   "dataSources": [
    {
     "datasetId": 35388,
     "sourceId": 47853,
     "sourceType": "datasetVersion"
    }
   ],
   "dockerImageVersionId": 31089,
   "isGpuEnabled": true,
   "isInternetEnabled": true,
   "language": "python",
   "sourceType": "notebook"
  },
  "kernelspec": {
   "display_name": "Python 3",
   "language": "python",
   "name": "python3"
  },
  "language_info": {
   "codemirror_mode": {
    "name": "ipython",
    "version": 3
   },
   "file_extension": ".py",
   "mimetype": "text/x-python",
   "name": "python",
   "nbconvert_exporter": "python",
   "pygments_lexer": "ipython3",
   "version": "3.11.13"
  },
  "papermill": {
   "default_parameters": {},
   "duration": 6064.698094,
   "end_time": "2025-07-22T04:18:00.826034",
   "environment_variables": {},
   "exception": null,
   "input_path": "__notebook__.ipynb",
   "output_path": "__notebook__.ipynb",
   "parameters": {},
   "start_time": "2025-07-22T02:36:56.127940",
   "version": "2.6.0"
  }
 },
 "nbformat": 4,
 "nbformat_minor": 5
}
