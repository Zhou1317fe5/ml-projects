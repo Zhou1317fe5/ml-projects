{
 "cells": [
  {
   "cell_type": "markdown",
   "metadata": {},
   "source": [
    "# 1基础代码"
   ]
  },
  {
   "cell_type": "code",
   "execution_count": 62,
   "metadata": {},
   "outputs": [],
   "source": [
    "import pandas as pd\n",
    "import numpy as np\n",
    "\n",
    "import warnings\n",
    "warnings.filterwarnings(\"ignore\") "
   ]
  },
  {
   "cell_type": "markdown",
   "metadata": {},
   "source": [
    "## 1.1 读取数据"
   ]
  },
  {
   "cell_type": "code",
   "execution_count": 63,
   "metadata": {},
   "outputs": [],
   "source": [
    "# 训练数据前10000行，测试数据前100条\n",
    "train_data = pd.read_csv('./data/train_all.csv',nrows=10000)\n",
    "test_data = pd.read_csv('./data/test_all.csv',nrows=100)"
   ]
  },
  {
   "cell_type": "code",
   "execution_count": 64,
   "metadata": {},
   "outputs": [
    {
     "data": {
      "text/html": [
       "<div>\n",
       "<style scoped>\n",
       "    .dataframe tbody tr th:only-of-type {\n",
       "        vertical-align: middle;\n",
       "    }\n",
       "\n",
       "    .dataframe tbody tr th {\n",
       "        vertical-align: top;\n",
       "    }\n",
       "\n",
       "    .dataframe thead th {\n",
       "        text-align: right;\n",
       "    }\n",
       "</style>\n",
       "<table border=\"1\" class=\"dataframe\">\n",
       "  <thead>\n",
       "    <tr style=\"text-align: right;\">\n",
       "      <th></th>\n",
       "      <th>user_id</th>\n",
       "      <th>merchant_id</th>\n",
       "      <th>age_range</th>\n",
       "      <th>gender</th>\n",
       "      <th>user_cnt</th>\n",
       "      <th>seller_nunique</th>\n",
       "      <th>cat_nunique</th>\n",
       "      <th>brand_nunique</th>\n",
       "      <th>item_nunique</th>\n",
       "      <th>time_stamp_nunique</th>\n",
       "      <th>...</th>\n",
       "      <th>embeeding_93</th>\n",
       "      <th>embeeding_94</th>\n",
       "      <th>embeeding_95</th>\n",
       "      <th>embeeding_96</th>\n",
       "      <th>embeeding_97</th>\n",
       "      <th>embeeding_98</th>\n",
       "      <th>embeeding_99</th>\n",
       "      <th>lgb_clf</th>\n",
       "      <th>xgb_clf</th>\n",
       "      <th>label</th>\n",
       "    </tr>\n",
       "  </thead>\n",
       "  <tbody>\n",
       "    <tr>\n",
       "      <th>0</th>\n",
       "      <td>105600.0</td>\n",
       "      <td>1487.0</td>\n",
       "      <td>6.0</td>\n",
       "      <td>1.0</td>\n",
       "      <td>310.0</td>\n",
       "      <td>96.0</td>\n",
       "      <td>37.0</td>\n",
       "      <td>88.0</td>\n",
       "      <td>217.0</td>\n",
       "      <td>29.0</td>\n",
       "      <td>...</td>\n",
       "      <td>0.0</td>\n",
       "      <td>0.0</td>\n",
       "      <td>0.0</td>\n",
       "      <td>0.0</td>\n",
       "      <td>0.0</td>\n",
       "      <td>0.0</td>\n",
       "      <td>0.0</td>\n",
       "      <td>0.942560</td>\n",
       "      <td>0.941660</td>\n",
       "      <td>0.0</td>\n",
       "    </tr>\n",
       "    <tr>\n",
       "      <th>1</th>\n",
       "      <td>110976.0</td>\n",
       "      <td>159.0</td>\n",
       "      <td>5.0</td>\n",
       "      <td>0.0</td>\n",
       "      <td>274.0</td>\n",
       "      <td>181.0</td>\n",
       "      <td>70.0</td>\n",
       "      <td>159.0</td>\n",
       "      <td>233.0</td>\n",
       "      <td>52.0</td>\n",
       "      <td>...</td>\n",
       "      <td>0.0</td>\n",
       "      <td>0.0</td>\n",
       "      <td>0.0</td>\n",
       "      <td>0.0</td>\n",
       "      <td>0.0</td>\n",
       "      <td>0.0</td>\n",
       "      <td>0.0</td>\n",
       "      <td>0.933391</td>\n",
       "      <td>0.927695</td>\n",
       "      <td>0.0</td>\n",
       "    </tr>\n",
       "    <tr>\n",
       "      <th>2</th>\n",
       "      <td>374400.0</td>\n",
       "      <td>302.0</td>\n",
       "      <td>5.0</td>\n",
       "      <td>1.0</td>\n",
       "      <td>278.0</td>\n",
       "      <td>57.0</td>\n",
       "      <td>59.0</td>\n",
       "      <td>62.0</td>\n",
       "      <td>148.0</td>\n",
       "      <td>35.0</td>\n",
       "      <td>...</td>\n",
       "      <td>0.0</td>\n",
       "      <td>0.0</td>\n",
       "      <td>0.0</td>\n",
       "      <td>0.0</td>\n",
       "      <td>0.0</td>\n",
       "      <td>0.0</td>\n",
       "      <td>0.0</td>\n",
       "      <td>0.923382</td>\n",
       "      <td>0.909905</td>\n",
       "      <td>0.0</td>\n",
       "    </tr>\n",
       "    <tr>\n",
       "      <th>3</th>\n",
       "      <td>189312.0</td>\n",
       "      <td>1760.0</td>\n",
       "      <td>4.0</td>\n",
       "      <td>0.0</td>\n",
       "      <td>237.0</td>\n",
       "      <td>49.0</td>\n",
       "      <td>35.0</td>\n",
       "      <td>45.0</td>\n",
       "      <td>170.0</td>\n",
       "      <td>9.0</td>\n",
       "      <td>...</td>\n",
       "      <td>0.0</td>\n",
       "      <td>0.0</td>\n",
       "      <td>0.0</td>\n",
       "      <td>0.0</td>\n",
       "      <td>0.0</td>\n",
       "      <td>0.0</td>\n",
       "      <td>0.0</td>\n",
       "      <td>0.940141</td>\n",
       "      <td>0.940140</td>\n",
       "      <td>0.0</td>\n",
       "    </tr>\n",
       "    <tr>\n",
       "      <th>4</th>\n",
       "      <td>189312.0</td>\n",
       "      <td>2511.0</td>\n",
       "      <td>4.0</td>\n",
       "      <td>0.0</td>\n",
       "      <td>237.0</td>\n",
       "      <td>49.0</td>\n",
       "      <td>35.0</td>\n",
       "      <td>45.0</td>\n",
       "      <td>170.0</td>\n",
       "      <td>9.0</td>\n",
       "      <td>...</td>\n",
       "      <td>0.0</td>\n",
       "      <td>0.0</td>\n",
       "      <td>0.0</td>\n",
       "      <td>0.0</td>\n",
       "      <td>0.0</td>\n",
       "      <td>0.0</td>\n",
       "      <td>0.0</td>\n",
       "      <td>0.930960</td>\n",
       "      <td>0.949015</td>\n",
       "      <td>0.0</td>\n",
       "    </tr>\n",
       "  </tbody>\n",
       "</table>\n",
       "<p>5 rows × 231 columns</p>\n",
       "</div>"
      ],
      "text/plain": [
       "    user_id  merchant_id  age_range  gender  user_cnt  seller_nunique  \\\n",
       "0  105600.0       1487.0        6.0     1.0     310.0            96.0   \n",
       "1  110976.0        159.0        5.0     0.0     274.0           181.0   \n",
       "2  374400.0        302.0        5.0     1.0     278.0            57.0   \n",
       "3  189312.0       1760.0        4.0     0.0     237.0            49.0   \n",
       "4  189312.0       2511.0        4.0     0.0     237.0            49.0   \n",
       "\n",
       "   cat_nunique  brand_nunique  item_nunique  time_stamp_nunique  ...  \\\n",
       "0         37.0           88.0         217.0                29.0  ...   \n",
       "1         70.0          159.0         233.0                52.0  ...   \n",
       "2         59.0           62.0         148.0                35.0  ...   \n",
       "3         35.0           45.0         170.0                 9.0  ...   \n",
       "4         35.0           45.0         170.0                 9.0  ...   \n",
       "\n",
       "   embeeding_93  embeeding_94  embeeding_95  embeeding_96  embeeding_97  \\\n",
       "0           0.0           0.0           0.0           0.0           0.0   \n",
       "1           0.0           0.0           0.0           0.0           0.0   \n",
       "2           0.0           0.0           0.0           0.0           0.0   \n",
       "3           0.0           0.0           0.0           0.0           0.0   \n",
       "4           0.0           0.0           0.0           0.0           0.0   \n",
       "\n",
       "   embeeding_98  embeeding_99   lgb_clf   xgb_clf  label  \n",
       "0           0.0           0.0  0.942560  0.941660    0.0  \n",
       "1           0.0           0.0  0.933391  0.927695    0.0  \n",
       "2           0.0           0.0  0.923382  0.909905    0.0  \n",
       "3           0.0           0.0  0.940141  0.940140    0.0  \n",
       "4           0.0           0.0  0.930960  0.949015    0.0  \n",
       "\n",
       "[5 rows x 231 columns]"
      ]
     },
     "execution_count": 64,
     "metadata": {},
     "output_type": "execute_result"
    }
   ],
   "source": [
    "train_data.head()"
   ]
  },
  {
   "cell_type": "code",
   "execution_count": 65,
   "metadata": {},
   "outputs": [
    {
     "data": {
      "text/html": [
       "<div>\n",
       "<style scoped>\n",
       "    .dataframe tbody tr th:only-of-type {\n",
       "        vertical-align: middle;\n",
       "    }\n",
       "\n",
       "    .dataframe tbody tr th {\n",
       "        vertical-align: top;\n",
       "    }\n",
       "\n",
       "    .dataframe thead th {\n",
       "        text-align: right;\n",
       "    }\n",
       "</style>\n",
       "<table border=\"1\" class=\"dataframe\">\n",
       "  <thead>\n",
       "    <tr style=\"text-align: right;\">\n",
       "      <th></th>\n",
       "      <th>user_id</th>\n",
       "      <th>merchant_id</th>\n",
       "      <th>age_range</th>\n",
       "      <th>gender</th>\n",
       "      <th>user_cnt</th>\n",
       "      <th>seller_nunique</th>\n",
       "      <th>cat_nunique</th>\n",
       "      <th>brand_nunique</th>\n",
       "      <th>item_nunique</th>\n",
       "      <th>time_stamp_nunique</th>\n",
       "      <th>...</th>\n",
       "      <th>embeeding_92</th>\n",
       "      <th>embeeding_93</th>\n",
       "      <th>embeeding_94</th>\n",
       "      <th>embeeding_95</th>\n",
       "      <th>embeeding_96</th>\n",
       "      <th>embeeding_97</th>\n",
       "      <th>embeeding_98</th>\n",
       "      <th>embeeding_99</th>\n",
       "      <th>lgb_clf</th>\n",
       "      <th>xgb_clf</th>\n",
       "    </tr>\n",
       "  </thead>\n",
       "  <tbody>\n",
       "    <tr>\n",
       "      <th>0</th>\n",
       "      <td>105600.0</td>\n",
       "      <td>1487.0</td>\n",
       "      <td>6.0</td>\n",
       "      <td>1.0</td>\n",
       "      <td>310.0</td>\n",
       "      <td>96.0</td>\n",
       "      <td>37.0</td>\n",
       "      <td>88.0</td>\n",
       "      <td>217.0</td>\n",
       "      <td>29.0</td>\n",
       "      <td>...</td>\n",
       "      <td>0.0</td>\n",
       "      <td>0.0</td>\n",
       "      <td>0.0</td>\n",
       "      <td>0.0</td>\n",
       "      <td>0.0</td>\n",
       "      <td>0.0</td>\n",
       "      <td>0.0</td>\n",
       "      <td>0.0</td>\n",
       "      <td>0.936660</td>\n",
       "      <td>0.931692</td>\n",
       "    </tr>\n",
       "    <tr>\n",
       "      <th>1</th>\n",
       "      <td>110976.0</td>\n",
       "      <td>159.0</td>\n",
       "      <td>5.0</td>\n",
       "      <td>0.0</td>\n",
       "      <td>274.0</td>\n",
       "      <td>181.0</td>\n",
       "      <td>70.0</td>\n",
       "      <td>159.0</td>\n",
       "      <td>233.0</td>\n",
       "      <td>52.0</td>\n",
       "      <td>...</td>\n",
       "      <td>0.0</td>\n",
       "      <td>0.0</td>\n",
       "      <td>0.0</td>\n",
       "      <td>0.0</td>\n",
       "      <td>0.0</td>\n",
       "      <td>0.0</td>\n",
       "      <td>0.0</td>\n",
       "      <td>0.0</td>\n",
       "      <td>0.941681</td>\n",
       "      <td>0.934976</td>\n",
       "    </tr>\n",
       "    <tr>\n",
       "      <th>2</th>\n",
       "      <td>374400.0</td>\n",
       "      <td>302.0</td>\n",
       "      <td>5.0</td>\n",
       "      <td>1.0</td>\n",
       "      <td>278.0</td>\n",
       "      <td>57.0</td>\n",
       "      <td>59.0</td>\n",
       "      <td>62.0</td>\n",
       "      <td>148.0</td>\n",
       "      <td>35.0</td>\n",
       "      <td>...</td>\n",
       "      <td>0.0</td>\n",
       "      <td>0.0</td>\n",
       "      <td>0.0</td>\n",
       "      <td>0.0</td>\n",
       "      <td>0.0</td>\n",
       "      <td>0.0</td>\n",
       "      <td>0.0</td>\n",
       "      <td>0.0</td>\n",
       "      <td>0.926634</td>\n",
       "      <td>0.922883</td>\n",
       "    </tr>\n",
       "    <tr>\n",
       "      <th>3</th>\n",
       "      <td>189312.0</td>\n",
       "      <td>1760.0</td>\n",
       "      <td>4.0</td>\n",
       "      <td>0.0</td>\n",
       "      <td>237.0</td>\n",
       "      <td>49.0</td>\n",
       "      <td>35.0</td>\n",
       "      <td>45.0</td>\n",
       "      <td>170.0</td>\n",
       "      <td>9.0</td>\n",
       "      <td>...</td>\n",
       "      <td>0.0</td>\n",
       "      <td>0.0</td>\n",
       "      <td>0.0</td>\n",
       "      <td>0.0</td>\n",
       "      <td>0.0</td>\n",
       "      <td>0.0</td>\n",
       "      <td>0.0</td>\n",
       "      <td>0.0</td>\n",
       "      <td>0.939729</td>\n",
       "      <td>0.945877</td>\n",
       "    </tr>\n",
       "    <tr>\n",
       "      <th>4</th>\n",
       "      <td>189312.0</td>\n",
       "      <td>2511.0</td>\n",
       "      <td>4.0</td>\n",
       "      <td>0.0</td>\n",
       "      <td>237.0</td>\n",
       "      <td>49.0</td>\n",
       "      <td>35.0</td>\n",
       "      <td>45.0</td>\n",
       "      <td>170.0</td>\n",
       "      <td>9.0</td>\n",
       "      <td>...</td>\n",
       "      <td>0.0</td>\n",
       "      <td>0.0</td>\n",
       "      <td>0.0</td>\n",
       "      <td>0.0</td>\n",
       "      <td>0.0</td>\n",
       "      <td>0.0</td>\n",
       "      <td>0.0</td>\n",
       "      <td>0.0</td>\n",
       "      <td>0.941506</td>\n",
       "      <td>0.947046</td>\n",
       "    </tr>\n",
       "  </tbody>\n",
       "</table>\n",
       "<p>5 rows × 230 columns</p>\n",
       "</div>"
      ],
      "text/plain": [
       "    user_id  merchant_id  age_range  gender  user_cnt  seller_nunique  \\\n",
       "0  105600.0       1487.0        6.0     1.0     310.0            96.0   \n",
       "1  110976.0        159.0        5.0     0.0     274.0           181.0   \n",
       "2  374400.0        302.0        5.0     1.0     278.0            57.0   \n",
       "3  189312.0       1760.0        4.0     0.0     237.0            49.0   \n",
       "4  189312.0       2511.0        4.0     0.0     237.0            49.0   \n",
       "\n",
       "   cat_nunique  brand_nunique  item_nunique  time_stamp_nunique  ...  \\\n",
       "0         37.0           88.0         217.0                29.0  ...   \n",
       "1         70.0          159.0         233.0                52.0  ...   \n",
       "2         59.0           62.0         148.0                35.0  ...   \n",
       "3         35.0           45.0         170.0                 9.0  ...   \n",
       "4         35.0           45.0         170.0                 9.0  ...   \n",
       "\n",
       "   embeeding_92  embeeding_93  embeeding_94  embeeding_95  embeeding_96  \\\n",
       "0           0.0           0.0           0.0           0.0           0.0   \n",
       "1           0.0           0.0           0.0           0.0           0.0   \n",
       "2           0.0           0.0           0.0           0.0           0.0   \n",
       "3           0.0           0.0           0.0           0.0           0.0   \n",
       "4           0.0           0.0           0.0           0.0           0.0   \n",
       "\n",
       "   embeeding_97  embeeding_98  embeeding_99   lgb_clf   xgb_clf  \n",
       "0           0.0           0.0           0.0  0.936660  0.931692  \n",
       "1           0.0           0.0           0.0  0.941681  0.934976  \n",
       "2           0.0           0.0           0.0  0.926634  0.922883  \n",
       "3           0.0           0.0           0.0  0.939729  0.945877  \n",
       "4           0.0           0.0           0.0  0.941506  0.947046  \n",
       "\n",
       "[5 rows x 230 columns]"
      ]
     },
     "execution_count": 65,
     "metadata": {},
     "output_type": "execute_result"
    }
   ],
   "source": [
    "test_data.head()"
   ]
  },
  {
   "cell_type": "code",
   "execution_count": 66,
   "metadata": {},
   "outputs": [],
   "source": [
    "# 读取全部数据\n",
    "# train_data = pd.read_csv('train_all.csv',nrows=None)\n",
    "# test_data = pd.read_csv('test_all.csv',nrows=None)"
   ]
  },
  {
   "cell_type": "code",
   "execution_count": 67,
   "metadata": {},
   "outputs": [
    {
     "data": {
      "text/plain": [
       "Index(['user_id', 'merchant_id', 'age_range', 'gender', 'user_cnt',\n",
       "       'seller_nunique', 'cat_nunique', 'brand_nunique', 'item_nunique',\n",
       "       'time_stamp_nunique',\n",
       "       ...\n",
       "       'embeeding_93', 'embeeding_94', 'embeeding_95', 'embeeding_96',\n",
       "       'embeeding_97', 'embeeding_98', 'embeeding_99', 'lgb_clf', 'xgb_clf',\n",
       "       'label'],\n",
       "      dtype='object', length=231)"
      ]
     },
     "execution_count": 67,
     "metadata": {},
     "output_type": "execute_result"
    }
   ],
   "source": [
    "train_data.columns"
   ]
  },
  {
   "cell_type": "markdown",
   "metadata": {},
   "source": [
    "## 1.2 获取训练和测试数据"
   ]
  },
  {
   "cell_type": "code",
   "execution_count": 68,
   "metadata": {},
   "outputs": [],
   "source": [
    "features_columns = [col for col in train_data.columns if col not in ['user_id','label']]\n",
    "train = train_data[features_columns].values\n",
    "test = test_data[features_columns].values\n",
    "target =train_data['label'].values"
   ]
  },
  {
   "cell_type": "markdown",
   "metadata": {},
   "source": [
    "## 1.3 切分40%数据用于线下验证"
   ]
  },
  {
   "cell_type": "code",
   "execution_count": 69,
   "metadata": {},
   "outputs": [
    {
     "name": "stdout",
     "output_type": "stream",
     "text": [
      "(5073, 229) (5073,)\n",
      "(3382, 229) (3382,)\n"
     ]
    },
    {
     "data": {
      "text/plain": [
       "0.936428149024246"
      ]
     },
     "execution_count": 69,
     "metadata": {},
     "output_type": "execute_result"
    }
   ],
   "source": [
    "from sklearn.model_selection import train_test_split\n",
    "from sklearn.ensemble import RandomForestClassifier\n",
    "\n",
    "clf = RandomForestClassifier(n_estimators=100, max_depth=2, random_state=0, n_jobs=-1)\n",
    "X_train, X_test, y_train, y_test = train_test_split(train, target, test_size=0.4, random_state=0)\n",
    "\n",
    "print(X_train.shape, y_train.shape)\n",
    "print(X_test.shape, y_test.shape)\n",
    "\n",
    "clf = clf.fit(X_train, y_train)\n",
    "clf.score(X_test, y_test)  "
   ]
  },
  {
   "cell_type": "markdown",
   "metadata": {},
   "source": [
    "# 2 简单验证"
   ]
  },
  {
   "cell_type": "markdown",
   "metadata": {},
   "source": [
    "## 2.1 交叉验证"
   ]
  },
  {
   "cell_type": "code",
   "execution_count": 70,
   "metadata": {},
   "outputs": [
    {
     "name": "stdout",
     "output_type": "stream",
     "text": [
      "[0.93 0.93 0.93 0.93 0.93]\n",
      "Accuracy: 0.93 (+/- 0.00)\n"
     ]
    }
   ],
   "source": [
    "from sklearn.model_selection import cross_val_score\n",
    "from sklearn.ensemble import RandomForestClassifier\n",
    "\n",
    "clf = RandomForestClassifier(n_estimators=100, max_depth=2, random_state=0, n_jobs=-1)\n",
    "scores = cross_val_score(clf, train, target, cv=5)\n",
    "print(scores)\n",
    "print(\"Accuracy: %0.2f (+/- %0.2f)\" % (scores.mean(), scores.std() * 2)) "
   ]
  },
  {
   "cell_type": "markdown",
   "metadata": {},
   "source": [
    "## 2.2 F1验证"
   ]
  },
  {
   "cell_type": "code",
   "execution_count": 71,
   "metadata": {},
   "outputs": [
    {
     "name": "stdout",
     "output_type": "stream",
     "text": [
      "[0.48 0.48 0.48 0.48 0.48]\n",
      "F1: 0.48 (+/- 0.00)\n"
     ]
    }
   ],
   "source": [
    "from sklearn import metrics\n",
    "from sklearn.model_selection import cross_val_score\n",
    "from sklearn.ensemble import RandomForestClassifier\n",
    "\n",
    "clf = RandomForestClassifier(n_estimators=100, max_depth=2, random_state=0, n_jobs=-1)\n",
    "scores = cross_val_score(clf, train, target, cv=5, scoring='f1_macro')\n",
    "print(scores)  \n",
    "print(\"F1: %0.2f (+/- %0.2f)\" % (scores.mean(), scores.std() * 2))"
   ]
  },
  {
   "cell_type": "markdown",
   "metadata": {},
   "source": [
    "# 3 设置交叉验证方法"
   ]
  },
  {
   "cell_type": "markdown",
   "metadata": {},
   "source": [
    "## 3.1 使用ShuffleSplit切分数据"
   ]
  },
  {
   "cell_type": "code",
   "execution_count": 72,
   "metadata": {},
   "outputs": [
    {
     "data": {
      "text/plain": [
       "array([0.94, 0.93, 0.93, 0.93, 0.93])"
      ]
     },
     "execution_count": 72,
     "metadata": {},
     "output_type": "execute_result"
    }
   ],
   "source": [
    "from sklearn.model_selection import ShuffleSplit\n",
    "from sklearn.model_selection import cross_val_score\n",
    "from sklearn.ensemble import RandomForestClassifier\n",
    "\n",
    "clf = RandomForestClassifier(n_estimators=100, max_depth=2, random_state=0, n_jobs=-1)\n",
    "cv = ShuffleSplit(n_splits=5, test_size=0.3, random_state=0)\n",
    "cross_val_score(clf, train, target, cv=cv)  "
   ]
  },
  {
   "cell_type": "markdown",
   "metadata": {},
   "source": [
    "ShuffleSplit 类是 scikit-learn 中用于生成交叉验证划分的工具。它根据给定的随机种子生成随机抽样，从而实现数据集的随机分割。这在分类问题和特征选择中非常有用，因为它可以帮助我们评估不同特征组合的性能。\n",
    "\n",
    "ShuffleSplit 迭代器将会生成一个用户给定数量的独立的训练/测试数据划分。样例首先被打散然后划分为一对训练测试集合。\n",
    "\n",
    "ShuffleSplit 类的参数如下：\n",
    "\n",
    "1. n_splits：表示交叉验证的次数。默认值为 10。\n",
    "2. test_size：表示测试集的大小。默认值为 0.1。\n",
    "3. train_size：表示训练集的大小。默认为原始数据集的大小减去测试集的大小。\n",
    "4. random_state：表示随机种子。用于确保结果的可重复性。"
   ]
  },
  {
   "cell_type": "markdown",
   "metadata": {},
   "source": [
    "## 3.2 使用KFlod切分数据"
   ]
  },
  {
   "cell_type": "code",
   "execution_count": 73,
   "metadata": {
    "scrolled": true
   },
   "outputs": [
    {
     "name": "stdout",
     "output_type": "stream",
     "text": [
      "0 0.9319929036073329\n",
      "1 0.9331756357185098\n",
      "2 0.9302188054405677\n",
      "3 0.9331756357185098\n",
      "4 0.9325842696629213\n"
     ]
    }
   ],
   "source": [
    "import numpy as np\n",
    "from sklearn.model_selection import KFold\n",
    "from sklearn.ensemble import RandomForestClassifier\n",
    "\n",
    "clf = RandomForestClassifier(n_estimators=100, max_depth=2, random_state=0, n_jobs=-1)\n",
    "kf = KFold(n_splits=5)\n",
    "for k, (train_index, test_index) in enumerate(kf.split(train)):\n",
    "    X_train, X_test, y_train, y_test = train[train_index], train[test_index], target[train_index], target[test_index]\n",
    "    clf = clf.fit(X_train, y_train)\n",
    "    print(k, clf.score(X_test, y_test))"
   ]
  },
  {
   "cell_type": "markdown",
   "metadata": {},
   "source": [
    "## 3.3 StratifiedKFold切分数据(label均分)"
   ]
  },
  {
   "cell_type": "code",
   "execution_count": 74,
   "metadata": {},
   "outputs": [
    {
     "name": "stdout",
     "output_type": "stream",
     "text": [
      "0 0.9325842696629213\n",
      "1 0.9325842696629213\n",
      "2 0.9319929036073329\n",
      "3 0.9319929036073329\n",
      "4 0.9319929036073329\n"
     ]
    }
   ],
   "source": [
    "from sklearn.model_selection import StratifiedKFold\n",
    "from sklearn.ensemble import RandomForestClassifier\n",
    "\n",
    "clf = RandomForestClassifier(n_estimators=100, max_depth=2, random_state=0, n_jobs=-1)\n",
    "skf = StratifiedKFold(n_splits=5)\n",
    "for k, (train_index, test_index) in enumerate(skf.split(train, target)):\n",
    "    X_train, X_test, y_train, y_test = train[train_index], train[test_index], target[train_index], target[test_index]\n",
    "    clf = clf.fit(X_train, y_train)\n",
    "    print(k, clf.score(X_test, y_test))"
   ]
  },
  {
   "cell_type": "markdown",
   "metadata": {},
   "source": [
    "StratifiedKFold 交叉验证是一种用于评估分类模型的方法。它根据数据的离散性（或称分布）来划分训练集和测试集，以确保测试集的变化与整体数据分布一致。多用于样本正负比例不平衡的分类问题中。\n",
    "\n",
    "StratifiedKFold 的参数如下：\n",
    "\n",
    "n_splits：表示交叉验证的次数。默认值为 5。\n",
    "shuffle：表示是否随机打乱数据集。默认为 True。\n",
    "random_state：表示随机种子。用于确保结果的可重复性。"
   ]
  },
  {
   "cell_type": "markdown",
   "metadata": {},
   "source": [
    "# 4 模型调参\n",
    "对模型调参，然后预测并评估模型性能。"
   ]
  },
  {
   "cell_type": "code",
   "execution_count": 75,
   "metadata": {},
   "outputs": [
    {
     "name": "stdout",
     "output_type": "stream",
     "text": [
      "# Tuning hyper-parameters for precision\n",
      "\n",
      "Best parameters set found on development set:\n",
      "\n",
      "{'n_estimators': 100}\n",
      "\n",
      "Grid scores on development set:\n",
      "\n",
      "0.463 (+/-0.000) for {'n_estimators': 50}\n",
      "0.463 (+/-0.001) for {'n_estimators': 100}\n",
      "0.463 (+/-0.001) for {'n_estimators': 200}\n",
      "\n",
      "Detailed classification report:\n",
      "\n",
      "The model is trained on the full development set.\n",
      "The scores are computed on the full evaluation set.\n",
      "\n",
      "              precision    recall  f1-score   support\n",
      "\n",
      "         0.0       0.94      0.99      0.96      3963\n",
      "         1.0       0.17      0.02      0.04       265\n",
      "\n",
      "    accuracy                           0.93      4228\n",
      "   macro avg       0.55      0.51      0.50      4228\n",
      "weighted avg       0.89      0.93      0.91      4228\n",
      "\n",
      "\n"
     ]
    }
   ],
   "source": [
    "from sklearn.model_selection import train_test_split\n",
    "from sklearn.model_selection import GridSearchCV\n",
    "from sklearn.metrics import classification_report\n",
    "from sklearn.ensemble import RandomForestClassifier\n",
    "\n",
    "\n",
    "# Split the dataset in two equal parts\n",
    "X_train, X_test, y_train, y_test = train_test_split(train, target, test_size=0.5, random_state=0)\n",
    "\n",
    "# model \n",
    "clf = RandomForestClassifier(n_jobs=-1)\n",
    "\n",
    "# Set the parameters by cross-validation\n",
    "\n",
    "tuned_parameters = {\n",
    "                    'n_estimators': [50, 100, 200]\n",
    "#                     ,'criterion': ['gini', 'entropy']\n",
    "#                     ,'max_depth': [2, 5]\n",
    "#                     ,'max_features': ['log2', 'sqrt', 'int']\n",
    "#                     ,'bootstrap': [True, False]\n",
    "#                     ,'warm_start': [True, False]\n",
    "                    }\n",
    "\n",
    "scores = ['precision']\n",
    "\n",
    "for score in scores:\n",
    "    print(\"# Tuning hyper-parameters for %s\" % score)\n",
    "    print()\n",
    "\n",
    "    clf = GridSearchCV(clf, tuned_parameters, cv=5,\n",
    "                       scoring='%s_macro' % score)\n",
    "    clf.fit(X_train, y_train)\n",
    "\n",
    "    print(\"Best parameters set found on development set:\")\n",
    "    print()\n",
    "    print(clf.best_params_)\n",
    "    print()\n",
    "    print(\"Grid scores on development set:\")\n",
    "    print()\n",
    "    means = clf.cv_results_['mean_test_score']\n",
    "    stds = clf.cv_results_['std_test_score']\n",
    "    for mean, std, params in zip(means, stds, clf.cv_results_['params']):\n",
    "        print(\"%0.3f (+/-%0.03f) for %r\"\n",
    "              % (mean, std * 2, params))\n",
    "    print()\n",
    "\n",
    "    print(\"Detailed classification report:\")\n",
    "    print()\n",
    "    print(\"The model is trained on the full development set.\")\n",
    "    print(\"The scores are computed on the full evaluation set.\")\n",
    "    print()\n",
    "    y_true, y_pred = y_test, clf.predict(X_test)\n",
    "    print(classification_report(y_true, y_pred))\n",
    "    print()"
   ]
  },
  {
   "cell_type": "markdown",
   "metadata": {},
   "source": [
    "#### 代码解释\n",
    " ·clf = GridSearchCV(clf, tuned_parameters, cv=5,scoring='%s_macro' % score)`这行代码中，`'%s_macro' % score` 是一个Python字符串格式化表达式，用来构造`GridSearchCV`中`scoring`参数的值。\n",
    "\n",
    "\n",
    "- `%s` 是一个占位符，它用来指示一个字符串将被插入到这个位置。\n",
    "- `score` 是一个变量，其值在之前的代码中由循环 `for score in scores:` 定义。代码样例中，`scores`列表包含一个元素，即 `'precision'`。\n",
    "- `'%s_macro' % score` 这个表达式的作用是把 `scores` 列表里的字符串元素插入到 `%s` 的位置，生成一个新的字符串。\n",
    "\n",
    "实际上，当 `score` 变量的值是 `'precision'` 时，表达式`'%s_macro' % score`就会生成字符串 `'precision_macro'`。这表明 `GridSearchCV` 实例将使用预测的宏平均精确度作为模型评估的得分标准。\n",
    "\n",
    "宏平均精确度（macro average precision）是一种评分方法，在多类分类问题中非常有用，它会计算每个类的精确度，然后计算这些精确度的平均值，不考虑每个类的样本量。这与加权平均（weighted average）相反，加权平均会根据每个类中的样本数量给予不同的权重。"
   ]
  },
  {
   "cell_type": "markdown",
   "metadata": {},
   "source": [
    "# 5混淆矩阵"
   ]
  },
  {
   "cell_type": "code",
   "execution_count": 76,
   "metadata": {},
   "outputs": [
    {
     "name": "stdout",
     "output_type": "stream",
     "text": [
      "Confusion matrix, without normalization\n",
      "[[1973    9]\n",
      " [ 128    4]]\n",
      "Normalized confusion matrix\n",
      "[[1.   0.  ]\n",
      " [0.97 0.03]]\n"
     ]
    },
    {
     "data": {
      "image/png": "[encoded data removed]",
      "text/plain": [
       "<Figure size 640x480 with 2 Axes>"
      ]
     },
     "metadata": {},
     "output_type": "display_data"
    },
    {
     "data": {
      "image/png": "[encoded data removed]",
      "text/plain": [
       "<Figure size 640x480 with 2 Axes>"
      ]
     },
     "metadata": {},
     "output_type": "display_data"
    }
   ],
   "source": [
    "import itertools\n",
    "import numpy as np\n",
    "import matplotlib.pyplot as plt\n",
    "\n",
    "from sklearn.model_selection import train_test_split\n",
    "from sklearn.metrics import confusion_matrix\n",
    "from sklearn.ensemble import RandomForestClassifier\n",
    "\n",
    "# label name\n",
    "class_names = ['no-repeat', 'repeat']\n",
    "\n",
    "# Split the data into a training set and a test set\n",
    "X_train, X_test, y_train, y_test = train_test_split(train, target, random_state=0)\n",
    "\n",
    "# Run classifier, using a model that is too regularized (C too low) to see\n",
    "# the impact on the results\n",
    "clf = RandomForestClassifier(n_jobs=-1)\n",
    "y_pred = clf.fit(X_train, y_train).predict(X_test)\n",
    "\n",
    "\n",
    "def plot_confusion_matrix(cm, classes,\n",
    "                          normalize=False,\n",
    "                          title='Confusion matrix',\n",
    "                          cmap=plt.cm.Blues):\n",
    "    \"\"\"\n",
    "    This function prints and plots the confusion matrix.\n",
    "    Normalization can be applied by setting `normalize=True`.\n",
    "    \"\"\"\n",
    "    if normalize:\n",
    "        cm = cm.astype('float') / cm.sum(axis=1)[:, np.newaxis]\n",
    "        print(\"Normalized confusion matrix\")\n",
    "    else:\n",
    "        print('Confusion matrix, without normalization')\n",
    "\n",
    "    print(cm)\n",
    "\n",
    "    plt.imshow(cm, interpolation='nearest', cmap=cmap)\n",
    "    plt.title(title)\n",
    "    plt.colorbar()\n",
    "    tick_marks = np.arange(len(classes))\n",
    "    plt.xticks(tick_marks, classes, rotation=45)\n",
    "    plt.yticks(tick_marks, classes)\n",
    "\n",
    "    fmt = '.2f' if normalize else 'd'\n",
    "    thresh = cm.max() / 2.\n",
    "    for i, j in itertools.product(range(cm.shape[0]), range(cm.shape[1])):\n",
    "        plt.text(j, i, format(cm[i, j], fmt),\n",
    "                 horizontalalignment=\"center\",\n",
    "                 color=\"white\" if cm[i, j] > thresh else \"black\")\n",
    "\n",
    "    plt.ylabel('True label')\n",
    "    plt.xlabel('Predicted label')\n",
    "    plt.tight_layout()\n",
    "\n",
    "\n",
    "# Compute confusion matrix\n",
    "cnf_matrix = confusion_matrix(y_test, y_pred)\n",
    "np.set_printoptions(precision=2) # 设置了打印混淆矩阵时的浮点数精度为两位小数\n",
    "\n",
    "# Plot non-normalized confusion matrix\n",
    "plt.figure()\n",
    "plot_confusion_matrix(cnf_matrix, classes=class_names,\n",
    "                      title='Confusion matrix, without normalization')\n",
    "\n",
    "# Plot normalized confusion matrix\n",
    "plt.figure()\n",
    "plot_confusion_matrix(cnf_matrix, classes=class_names, normalize=True,\n",
    "                      title='Normalized confusion matrix')\n",
    "\n",
    "plt.show()"
   ]
  },
  {
   "cell_type": "markdown",
   "metadata": {},
   "source": [
    "#### 代码解释。\n",
    "\n",
    "**函数`plot_confusion_matrix`解释**：\n",
    "- 形参`cm`是混淆矩阵的数据，`classes`是分类标签的列表。\n",
    "- `normalize`参数指示是否应该归一化混淆矩阵。如果设为`True`，函数则会将每一行的值除以其总和，结果是每一行的数值和为1，这有助于理解每个真实标签的预测分布。\n",
    "- `title`是图表的标题，默认为'Confusion matrix'。\n",
    "- `cmap=plt.cm.Blues`定义了图表使用的颜色映射，默认为蓝色调。\n",
    "\n",
    "函数内部的步骤包括：\n",
    "1. 若进行标准化，则对混淆矩阵的每个元素进行规范化，将每一行的值除以该行的总和，并打印“Normalized confusion matrix”（标准化混淆矩阵）。\n",
    "2. 若不标准化，则打印“Confusion matrix, without normalization”（未标准化的混淆矩阵）。\n",
    "3. 打印混淆矩阵`cm`的数值。\n",
    "4. 使用`plt.imshow`绘制混淆矩阵的热图，并根据标准化与否设置适当的标题、颜色条卷及颜色映射。\n",
    "5. `plt.xticks`和`plt.yticks`设置x轴和y轴的刻度标签，旋转x轴标签以便于阅读。\n",
    "6. 使用一个循环在热图上标记每个格子的数值。颜色根据数值与混淆矩阵最大值的一半相比是否较大而决定，以便数值在视觉上更容易区分。\n",
    "7. 设定x轴和y轴的标签分别为'Predicted label'和'True label'，并调用`plt.tight_layout()`确保布局正确。"
   ]
  },
  {
   "cell_type": "code",
   "execution_count": 77,
   "metadata": {},
   "outputs": [
    {
     "name": "stdout",
     "output_type": "stream",
     "text": [
      "              precision    recall  f1-score   support\n",
      "\n",
      "   no-repeat       0.94      1.00      0.97      1982\n",
      "      repeat       0.30      0.02      0.04       132\n",
      "\n",
      "    accuracy                           0.94      2114\n",
      "   macro avg       0.62      0.51      0.50      2114\n",
      "weighted avg       0.90      0.94      0.91      2114\n",
      "\n"
     ]
    }
   ],
   "source": [
    "from sklearn.metrics import classification_report\n",
    "from sklearn.ensemble import RandomForestClassifier\n",
    "\n",
    "# label name\n",
    "class_names = ['no-repeat', 'repeat']\n",
    "\n",
    "# Split the data into a training set and a test set\n",
    "X_train, X_test, y_train, y_test = train_test_split(train, target, random_state=0)\n",
    "\n",
    "# Run classifier, using a model that is too regularized (C too low) to see\n",
    "# the impact on the results\n",
    "clf = RandomForestClassifier(n_jobs=-1)\n",
    "y_pred = clf.fit(X_train, y_train).predict(X_test)\n",
    "\n",
    "print(classification_report(y_test, y_pred, target_names=class_names))"
   ]
  },
  {
   "cell_type": "markdown",
   "metadata": {},
   "source": [
    "# 6 不同的分类模型"
   ]
  },
  {
   "cell_type": "markdown",
   "metadata": {},
   "source": [
    "## 1 逻辑回归模型"
   ]
  },
  {
   "cell_type": "code",
   "execution_count": 78,
   "metadata": {},
   "outputs": [
    {
     "data": {
      "text/plain": [
       "0.9380321665089877"
      ]
     },
     "execution_count": 78,
     "metadata": {},
     "output_type": "execute_result"
    }
   ],
   "source": [
    "from sklearn.linear_model import LogisticRegression\n",
    "from sklearn.preprocessing import StandardScaler\n",
    "\n",
    "stdScaler = StandardScaler()\n",
    "X = stdScaler.fit_transform(train) # 标准化\n",
    "\n",
    "# Split the data into a training set and a test set\n",
    "X_train, X_test, y_train, y_test = train_test_split(X, target, random_state=0)\n",
    "\n",
    "clf = LogisticRegression(random_state=0, solver='lbfgs', multi_class='multinomial').fit(X_train, y_train)\n",
    "clf.score(X_test, y_test)"
   ]
  },
  {
   "cell_type": "markdown",
   "metadata": {},
   "source": [
    "#### 代码解释\n",
    "\n",
    "`LogisticRegression(random_state=0, solver='lbfgs', multi_class='multinomial')`参数解释\n",
    "\n",
    "1. `random_state=0`：设置随机数种子为0，这样可以在重复运行代码时获得相同的结果。这对于模型的训练和测试是非常有用的。\n",
    "\n",
    "2. `solver='lbfgs'`：选择优化算法为L-BFGS。L-BFGS是一种收敛速度较快的优化算法，适用于大规模问题。在这个例子中，我们使用L-BFGS来寻找最优的模型参数。\n",
    "\n",
    "3. `multi_class='multinomial'`：设置多分类方式为多类分类器。多类分类器是一种常用的分类方式，它可以处理多类分类问题，例如按钮 clicks、广告点击率预测等。在这个例子中，我们使用多类分类器来预测不同类型的标签。\n"
   ]
  },
  {
   "cell_type": "markdown",
   "metadata": {},
   "source": [
    "## 2.KNN 模型"
   ]
  },
  {
   "cell_type": "code",
   "execution_count": 79,
   "metadata": {},
   "outputs": [
    {
     "data": {
      "text/plain": [
       "0.9252601702932829"
      ]
     },
     "execution_count": 79,
     "metadata": {},
     "output_type": "execute_result"
    }
   ],
   "source": [
    "from sklearn.neighbors import KNeighborsClassifier\n",
    "from sklearn.preprocessing import StandardScaler\n",
    "\n",
    "stdScaler = StandardScaler()\n",
    "X = stdScaler.fit_transform(train)\n",
    "\n",
    "# Split the data into a training set and a test set\n",
    "X_train, X_test, y_train, y_test = train_test_split(X, target, random_state=0)\n",
    "\n",
    "clf = KNeighborsClassifier(n_neighbors=3).fit(X_train, y_train)\n",
    "clf.score(X_test, y_test)"
   ]
  },
  {
   "cell_type": "code",
   "execution_count": 80,
   "metadata": {},
   "outputs": [],
   "source": [
    "# clf.predict(X_test)"
   ]
  },
  {
   "cell_type": "code",
   "execution_count": 81,
   "metadata": {},
   "outputs": [],
   "source": [
    "# clf.predict_proba(X_test)"
   ]
  },
  {
   "cell_type": "markdown",
   "metadata": {},
   "source": [
    "## 3.高斯贝叶斯模型"
   ]
  },
  {
   "cell_type": "code",
   "execution_count": 82,
   "metadata": {},
   "outputs": [
    {
     "data": {
      "text/plain": [
       "0.3793755912961211"
      ]
     },
     "execution_count": 82,
     "metadata": {},
     "output_type": "execute_result"
    }
   ],
   "source": [
    "from sklearn.naive_bayes import GaussianNB\n",
    "from sklearn.preprocessing import StandardScaler\n",
    "\n",
    "stdScaler = StandardScaler()\n",
    "X = stdScaler.fit_transform(train)\n",
    "\n",
    "# Split the data into a training set and a test set\n",
    "X_train, X_test, y_train, y_test = train_test_split(X, target, random_state=0)\n",
    "\n",
    "clf = GaussianNB().fit(X_train, y_train)\n",
    "clf.score(X_test, y_test)"
   ]
  },
  {
   "cell_type": "markdown",
   "metadata": {},
   "source": [
    "## 4.决策树模型"
   ]
  },
  {
   "cell_type": "code",
   "execution_count": 83,
   "metadata": {},
   "outputs": [
    {
     "data": {
      "text/plain": [
       "0.8684957426679281"
      ]
     },
     "execution_count": 83,
     "metadata": {},
     "output_type": "execute_result"
    }
   ],
   "source": [
    "from sklearn import tree\n",
    "\n",
    "# Split the data into a training set and a test set\n",
    "X_train, X_test, y_train, y_test = train_test_split(train, target, random_state=0)\n",
    "\n",
    "clf = tree.DecisionTreeClassifier()\n",
    "clf = clf.fit(X_train, y_train)\n",
    "clf.score(X_test, y_test)"
   ]
  },
  {
   "cell_type": "markdown",
   "metadata": {},
   "source": [
    "## 5.Bagging模型\n",
    "基模型为KNN"
   ]
  },
  {
   "cell_type": "code",
   "execution_count": 84,
   "metadata": {},
   "outputs": [
    {
     "data": {
      "text/plain": [
       "0.9375591296121097"
      ]
     },
     "execution_count": 84,
     "metadata": {},
     "output_type": "execute_result"
    }
   ],
   "source": [
    "from sklearn.ensemble import BaggingClassifier\n",
    "from sklearn.neighbors import KNeighborsClassifier\n",
    "\n",
    "# Split the data into a training set and a test set\n",
    "X_train, X_test, y_train, y_test = train_test_split(train, target, random_state=0)\n",
    "clf = BaggingClassifier(KNeighborsClassifier(), max_samples=0.5, max_features=0.5)\n",
    "\n",
    "clf = clf.fit(X_train, y_train)\n",
    "clf.score(X_test, y_test)"
   ]
  },
  {
   "cell_type": "markdown",
   "metadata": {},
   "source": [
    "## 6.随机森林模型"
   ]
  },
  {
   "cell_type": "code",
   "execution_count": 85,
   "metadata": {},
   "outputs": [
    {
     "data": {
      "text/plain": [
       "0.9375591296121097"
      ]
     },
     "execution_count": 85,
     "metadata": {},
     "output_type": "execute_result"
    }
   ],
   "source": [
    "from sklearn.ensemble import RandomForestClassifier\n",
    "\n",
    "# Split the data into a training set and a test set\n",
    "X_train, X_test, y_train, y_test = train_test_split(train, target, random_state=0)\n",
    "clf = clf = RandomForestClassifier(n_estimators=10, max_depth=3, min_samples_split=12, random_state=0)\n",
    "\n",
    "clf = clf.fit(X_train, y_train)\n",
    "clf.score(X_test, y_test)"
   ]
  },
  {
   "cell_type": "markdown",
   "metadata": {},
   "source": [
    "## 7.极端随机树模型"
   ]
  },
  {
   "cell_type": "code",
   "execution_count": 86,
   "metadata": {},
   "outputs": [
    {
     "data": {
      "text/plain": [
       "0.9309366130558183"
      ]
     },
     "execution_count": 86,
     "metadata": {},
     "output_type": "execute_result"
    }
   ],
   "source": [
    "from sklearn.ensemble import ExtraTreesClassifier\n",
    "\n",
    "# Split the data into a training set and a test set\n",
    "X_train, X_test, y_train, y_test = train_test_split(train, target, random_state=0)\n",
    "clf = ExtraTreesClassifier(n_estimators=10, max_depth=None, min_samples_split=2, random_state=0)\n",
    "\n",
    "clf = clf.fit(X_train, y_train)\n",
    "clf.score(X_test, y_test)"
   ]
  },
  {
   "cell_type": "code",
   "execution_count": 87,
   "metadata": {},
   "outputs": [
    {
     "data": {
      "text/plain": [
       "229"
      ]
     },
     "execution_count": 87,
     "metadata": {},
     "output_type": "execute_result"
    }
   ],
   "source": [
    "clf.n_features_"
   ]
  },
  {
   "cell_type": "code",
   "execution_count": 88,
   "metadata": {},
   "outputs": [
    {
     "data": {
      "text/plain": [
       "array([0.08, 0.02, 0.01, 0.02, 0.02, 0.01, 0.01, 0.02, 0.02, 0.01])"
      ]
     },
     "execution_count": 88,
     "metadata": {},
     "output_type": "execute_result"
    }
   ],
   "source": [
    "clf.feature_importances_[:10]"
   ]
  },
  {
   "cell_type": "markdown",
   "metadata": {},
   "source": [
    "## 8.AdaBoost模型"
   ]
  },
  {
   "cell_type": "code",
   "execution_count": 89,
   "metadata": {},
   "outputs": [
    {
     "data": {
      "text/plain": [
       "0.9375591296121097"
      ]
     },
     "execution_count": 89,
     "metadata": {},
     "output_type": "execute_result"
    }
   ],
   "source": [
    "from sklearn.ensemble import AdaBoostClassifier\n",
    "\n",
    "# Split the data into a training set and a test set\n",
    "X_train, X_test, y_train, y_test = train_test_split(train, target, random_state=0)\n",
    "clf = AdaBoostClassifier(n_estimators=10)\n",
    "\n",
    "clf = clf.fit(X_train, y_train)\n",
    "clf.score(X_test, y_test)"
   ]
  },
  {
   "cell_type": "markdown",
   "metadata": {},
   "source": [
    "## 9.GBDT模型"
   ]
  },
  {
   "cell_type": "code",
   "execution_count": 90,
   "metadata": {},
   "outputs": [
    {
     "data": {
      "text/plain": [
       "0.9375591296121097"
      ]
     },
     "execution_count": 90,
     "metadata": {},
     "output_type": "execute_result"
    }
   ],
   "source": [
    "from sklearn.ensemble import GradientBoostingClassifier\n",
    "\n",
    "# Split the data into a training set and a test set\n",
    "X_train, X_test, y_train, y_test = train_test_split(train, target, random_state=0)\n",
    "clf = GradientBoostingClassifier(n_estimators=10, learning_rate=1.0, max_depth=1, random_state=0)\n",
    "\n",
    "clf = clf.fit(X_train, y_train)\n",
    "clf.score(X_test, y_test)"
   ]
  },
  {
   "cell_type": "markdown",
   "metadata": {},
   "source": [
    "## 10.集成学习\n",
    "VOTE模型投票"
   ]
  },
  {
   "cell_type": "code",
   "execution_count": 91,
   "metadata": {},
   "outputs": [
    {
     "name": "stdout",
     "output_type": "stream",
     "text": [
      "Accuracy: 0.93 (+/- 0.00) [Logistic Regression]\n",
      "Accuracy: 0.93 (+/- 0.00) [Random Forest]\n",
      "Accuracy: 0.39 (+/- 0.02) [naive Bayes]\n",
      "Accuracy: 0.93 (+/- 0.00) [Ensemble]\n"
     ]
    }
   ],
   "source": [
    "from sklearn import datasets\n",
    "from sklearn.model_selection import cross_val_score\n",
    "from sklearn.linear_model import LogisticRegression\n",
    "from sklearn.naive_bayes import GaussianNB\n",
    "from sklearn.ensemble import RandomForestClassifier\n",
    "from sklearn.ensemble import VotingClassifier\n",
    "from sklearn.preprocessing import StandardScaler\n",
    "\n",
    "stdScaler = StandardScaler()\n",
    "X = stdScaler.fit_transform(train)\n",
    "y = target\n",
    "\n",
    "\n",
    "clf1 = LogisticRegression(solver='lbfgs', multi_class='multinomial', random_state=1)\n",
    "clf2 = RandomForestClassifier(n_estimators=50, random_state=1)\n",
    "clf3 = GaussianNB()\n",
    "\n",
    "eclf = VotingClassifier(estimators=[('lr', clf1), ('rf', clf2), ('gnb', clf3)], voting='hard')\n",
    "\n",
    "for clf, label in zip([clf1, clf2, clf3, eclf], ['Logistic Regression', 'Random Forest', 'naive Bayes', 'Ensemble']):\n",
    "    scores = cross_val_score(clf, X, y, cv=5, scoring='accuracy')\n",
    "    print(\"Accuracy: %0.2f (+/- %0.2f) [%s]\" % (scores.mean(), scores.std(), label))"
   ]
  },
  {
   "cell_type": "markdown",
   "metadata": {},
   "source": [
    "## 11.LGB 模型"
   ]
  },
  {
   "cell_type": "code",
   "execution_count": 92,
   "metadata": {},
   "outputs": [
    {
     "name": "stdout",
     "output_type": "stream",
     "text": [
      "[LightGBM] [Warning] Unknown parameter: colsample_bylevel\n",
      "[LightGBM] [Warning] Unknown parameter: tree_method\n",
      "[LightGBM] [Warning] Unknown parameter: silent\n",
      "[LightGBM] [Warning] Unknown parameter: colsample_bylevel\n",
      "[LightGBM] [Warning] Unknown parameter: tree_method\n",
      "[LightGBM] [Warning] Unknown parameter: silent\n",
      "[LightGBM] [Warning] Auto-choosing col-wise multi-threading, the overhead of testing was 0.003332 seconds.\n",
      "You can set `force_col_wise=true` to remove the overhead.\n",
      "[LightGBM] [Info] Total Bins 14861\n",
      "[LightGBM] [Info] Number of data points in the train set: 5073, number of used features: 128\n",
      "[LightGBM] [Warning] Unknown parameter: colsample_bylevel\n",
      "[LightGBM] [Warning] Unknown parameter: tree_method\n",
      "[LightGBM] [Warning] Unknown parameter: silent\n",
      "[LightGBM] [Info] Start training from score -0.073183\n",
      "[LightGBM] [Info] Start training from score -2.651155\n",
      "Training until validation scores don't improve for 100 rounds\n",
      "Early stopping, best iteration is:\n",
      "[52]\tvalid_0's multi_logloss: 0.237993\n"
     ]
    }
   ],
   "source": [
    "import lightgbm\n",
    "\n",
    "X_train, X_test, y_train, y_test = train_test_split(train, target, test_size=0.4, random_state=0)\n",
    "X_test, X_valid, y_test, y_valid = train_test_split(X_test, y_test, test_size=0.5, random_state=0)\n",
    "\n",
    "clf = lightgbm\n",
    "\n",
    "train_matrix = clf.Dataset(X_train, label=y_train)\n",
    "test_matrix = clf.Dataset(X_test, label=y_test)\n",
    "params = {\n",
    "          'boosting_type': 'gbdt',\n",
    "          #'boosting_type': 'dart',\n",
    "          'objective': 'multiclass',\n",
    "          'metric': 'multi_logloss',\n",
    "          'min_child_weight': 1.5,\n",
    "          'num_leaves': 2**5,\n",
    "          'lambda_l2': 10,\n",
    "          'subsample': 0.7,\n",
    "          'colsample_bytree': 0.7,\n",
    "          'colsample_bylevel': 0.7,\n",
    "          'learning_rate': 0.03,\n",
    "          'tree_method': 'exact',\n",
    "          'seed': 2017,\n",
    "          \"num_class\": 2,\n",
    "          'silent': True,\n",
    "          }\n",
    "num_round = 10000\n",
    "model = clf.train(params, \n",
    "                  train_matrix,\n",
    "                  num_round,\n",
    "                  valid_sets=test_matrix,\n",
    "                  callbacks=[lightgbm.early_stopping(stopping_rounds=100)]\n",
    "                  )\n",
    "pre= model.predict(X_valid,num_iteration=model.best_iteration)"
   ]
  },
  {
   "cell_type": "code",
   "execution_count": 93,
   "metadata": {},
   "outputs": [
    {
     "name": "stdout",
     "output_type": "stream",
     "text": [
      "score :  0.937906564163217\n"
     ]
    }
   ],
   "source": [
    "print('score : ', np.mean((pre[:,1]>0.5)==y_valid))"
   ]
  },
  {
   "cell_type": "markdown",
   "metadata": {},
   "source": [
    "## 12.XGB 模型"
   ]
  },
  {
   "cell_type": "code",
   "execution_count": 94,
   "metadata": {},
   "outputs": [
    {
     "name": "stdout",
     "output_type": "stream",
     "text": [
      "[0]\ttrain-mlogloss:0.67238\teval-mlogloss:0.67217\n",
      "[1]\ttrain-mlogloss:0.65289\teval-mlogloss:0.65242\n",
      "[2]\ttrain-mlogloss:0.63431\teval-mlogloss:0.63365\n",
      "[3]\ttrain-mlogloss:0.61685\teval-mlogloss:0.61596\n",
      "[4]\ttrain-mlogloss:0.60012\teval-mlogloss:0.59903\n",
      "[5]\ttrain-mlogloss:0.58426\teval-mlogloss:0.58297\n",
      "[6]\ttrain-mlogloss:0.56939\teval-mlogloss:0.56791\n",
      "[7]\ttrain-mlogloss:0.55522\teval-mlogloss:0.55357\n",
      "[8]\ttrain-mlogloss:0.54170\teval-mlogloss:0.53987\n",
      "[9]\ttrain-mlogloss:0.52883\teval-mlogloss:0.52679\n",
      "[10]\ttrain-mlogloss:0.51660\teval-mlogloss:0.51442\n",
      "[11]\ttrain-mlogloss:0.50503\teval-mlogloss:0.50268\n"
     ]
    },
    {
     "name": "stdout",
     "output_type": "stream",
     "text": [
      "[12]\ttrain-mlogloss:0.49392\teval-mlogloss:0.49143\n",
      "[13]\ttrain-mlogloss:0.48329\teval-mlogloss:0.48066\n",
      "[14]\ttrain-mlogloss:0.47329\teval-mlogloss:0.47053\n",
      "[15]\ttrain-mlogloss:0.46368\teval-mlogloss:0.46076\n",
      "[16]\ttrain-mlogloss:0.45449\teval-mlogloss:0.45142\n",
      "[17]\ttrain-mlogloss:0.44577\teval-mlogloss:0.44255\n",
      "[18]\ttrain-mlogloss:0.43735\teval-mlogloss:0.43401\n",
      "[19]\ttrain-mlogloss:0.42935\teval-mlogloss:0.42590\n",
      "[20]\ttrain-mlogloss:0.42171\teval-mlogloss:0.41811\n",
      "[21]\ttrain-mlogloss:0.41444\teval-mlogloss:0.41081\n",
      "[22]\ttrain-mlogloss:0.40740\teval-mlogloss:0.40367\n",
      "[23]\ttrain-mlogloss:0.40070\teval-mlogloss:0.39691\n",
      "[24]\ttrain-mlogloss:0.39427\teval-mlogloss:0.39038\n",
      "[25]\ttrain-mlogloss:0.38817\teval-mlogloss:0.38422\n",
      "[26]\ttrain-mlogloss:0.38238\teval-mlogloss:0.37840\n",
      "[27]\ttrain-mlogloss:0.37671\teval-mlogloss:0.37272\n",
      "[28]\ttrain-mlogloss:0.37138\teval-mlogloss:0.36730\n",
      "[29]\ttrain-mlogloss:0.36624\teval-mlogloss:0.36210\n",
      "[30]\ttrain-mlogloss:0.36128\teval-mlogloss:0.35708\n",
      "[31]\ttrain-mlogloss:0.35652\teval-mlogloss:0.35228\n",
      "[32]\ttrain-mlogloss:0.35196\teval-mlogloss:0.34770\n",
      "[33]\ttrain-mlogloss:0.34755\teval-mlogloss:0.34321\n",
      "[34]\ttrain-mlogloss:0.34324\teval-mlogloss:0.33882\n",
      "[35]\ttrain-mlogloss:0.33927\teval-mlogloss:0.33485\n",
      "[36]\ttrain-mlogloss:0.33540\teval-mlogloss:0.33100\n",
      "[37]\ttrain-mlogloss:0.33170\teval-mlogloss:0.32728\n",
      "[38]\ttrain-mlogloss:0.32818\teval-mlogloss:0.32373\n",
      "[39]\ttrain-mlogloss:0.32479\teval-mlogloss:0.32037\n",
      "[40]\ttrain-mlogloss:0.32151\teval-mlogloss:0.31701\n",
      "[41]\ttrain-mlogloss:0.31838\teval-mlogloss:0.31387\n",
      "[42]\ttrain-mlogloss:0.31535\teval-mlogloss:0.31087\n",
      "[43]\ttrain-mlogloss:0.31242\teval-mlogloss:0.30789\n",
      "[44]\ttrain-mlogloss:0.30966\teval-mlogloss:0.30511\n",
      "[45]\ttrain-mlogloss:0.30700\teval-mlogloss:0.30249\n",
      "[46]\ttrain-mlogloss:0.30446\teval-mlogloss:0.29996\n",
      "[47]\ttrain-mlogloss:0.30201\teval-mlogloss:0.29750\n",
      "[48]\ttrain-mlogloss:0.29964\teval-mlogloss:0.29517\n",
      "[49]\ttrain-mlogloss:0.29740\teval-mlogloss:0.29293\n",
      "[50]\ttrain-mlogloss:0.29522\teval-mlogloss:0.29073\n",
      "[51]\ttrain-mlogloss:0.29313\teval-mlogloss:0.28871\n",
      "[52]\ttrain-mlogloss:0.29114\teval-mlogloss:0.28667\n",
      "[53]\ttrain-mlogloss:0.28920\teval-mlogloss:0.28477\n",
      "[54]\ttrain-mlogloss:0.28737\teval-mlogloss:0.28297\n",
      "[55]\ttrain-mlogloss:0.28561\teval-mlogloss:0.28125\n",
      "[56]\ttrain-mlogloss:0.28391\teval-mlogloss:0.27951\n",
      "[57]\ttrain-mlogloss:0.28223\teval-mlogloss:0.27786\n",
      "[58]\ttrain-mlogloss:0.28066\teval-mlogloss:0.27626\n",
      "[59]\ttrain-mlogloss:0.27915\teval-mlogloss:0.27476\n",
      "[60]\ttrain-mlogloss:0.27768\teval-mlogloss:0.27332\n",
      "[61]\ttrain-mlogloss:0.27637\teval-mlogloss:0.27205\n",
      "[62]\ttrain-mlogloss:0.27501\teval-mlogloss:0.27069\n",
      "[63]\ttrain-mlogloss:0.27371\teval-mlogloss:0.26937\n",
      "[64]\ttrain-mlogloss:0.27245\teval-mlogloss:0.26817\n",
      "[65]\ttrain-mlogloss:0.27127\teval-mlogloss:0.26701\n",
      "[66]\ttrain-mlogloss:0.27011\teval-mlogloss:0.26589\n",
      "[67]\ttrain-mlogloss:0.26897\teval-mlogloss:0.26477\n",
      "[68]\ttrain-mlogloss:0.26795\teval-mlogloss:0.26381\n",
      "[69]\ttrain-mlogloss:0.26696\teval-mlogloss:0.26287\n",
      "[70]\ttrain-mlogloss:0.26601\teval-mlogloss:0.26193\n",
      "[71]\ttrain-mlogloss:0.26511\teval-mlogloss:0.26106\n",
      "[72]\ttrain-mlogloss:0.26419\teval-mlogloss:0.26016\n",
      "[73]\ttrain-mlogloss:0.26330\teval-mlogloss:0.25930\n",
      "[74]\ttrain-mlogloss:0.26247\teval-mlogloss:0.25852\n",
      "[75]\ttrain-mlogloss:0.26171\teval-mlogloss:0.25782\n",
      "[76]\ttrain-mlogloss:0.26094\teval-mlogloss:0.25711\n",
      "[77]\ttrain-mlogloss:0.26019\teval-mlogloss:0.25640\n",
      "[78]\ttrain-mlogloss:0.25945\teval-mlogloss:0.25567\n",
      "[79]\ttrain-mlogloss:0.25875\teval-mlogloss:0.25502\n",
      "[80]\ttrain-mlogloss:0.25809\teval-mlogloss:0.25442\n",
      "[81]\ttrain-mlogloss:0.25744\teval-mlogloss:0.25381\n",
      "[82]\ttrain-mlogloss:0.25688\teval-mlogloss:0.25328\n",
      "[83]\ttrain-mlogloss:0.25627\teval-mlogloss:0.25270\n",
      "[84]\ttrain-mlogloss:0.25569\teval-mlogloss:0.25212\n",
      "[85]\ttrain-mlogloss:0.25513\teval-mlogloss:0.25160\n",
      "[86]\ttrain-mlogloss:0.25458\teval-mlogloss:0.25107\n",
      "[87]\ttrain-mlogloss:0.25405\teval-mlogloss:0.25055\n",
      "[88]\ttrain-mlogloss:0.25358\teval-mlogloss:0.25014\n",
      "[89]\ttrain-mlogloss:0.25309\teval-mlogloss:0.24970\n",
      "[90]\ttrain-mlogloss:0.25261\teval-mlogloss:0.24927\n",
      "[91]\ttrain-mlogloss:0.25219\teval-mlogloss:0.24891\n",
      "[92]\ttrain-mlogloss:0.25177\teval-mlogloss:0.24851\n",
      "[93]\ttrain-mlogloss:0.25134\teval-mlogloss:0.24808\n",
      "[94]\ttrain-mlogloss:0.25096\teval-mlogloss:0.24775\n",
      "[95]\ttrain-mlogloss:0.25056\teval-mlogloss:0.24739\n",
      "[96]\ttrain-mlogloss:0.25019\teval-mlogloss:0.24703\n",
      "[97]\ttrain-mlogloss:0.24985\teval-mlogloss:0.24673\n",
      "[98]\ttrain-mlogloss:0.24950\teval-mlogloss:0.24640\n",
      "[99]\ttrain-mlogloss:0.24914\teval-mlogloss:0.24606\n",
      "[100]\ttrain-mlogloss:0.24883\teval-mlogloss:0.24580\n",
      "[101]\ttrain-mlogloss:0.24850\teval-mlogloss:0.24553\n",
      "[102]\ttrain-mlogloss:0.24821\teval-mlogloss:0.24531\n",
      "[103]\ttrain-mlogloss:0.24793\teval-mlogloss:0.24505\n",
      "[104]\ttrain-mlogloss:0.24767\teval-mlogloss:0.24480\n",
      "[105]\ttrain-mlogloss:0.24738\teval-mlogloss:0.24453\n",
      "[106]\ttrain-mlogloss:0.24716\teval-mlogloss:0.24435\n",
      "[107]\ttrain-mlogloss:0.24689\teval-mlogloss:0.24414\n",
      "[108]\ttrain-mlogloss:0.24663\teval-mlogloss:0.24391\n",
      "[109]\ttrain-mlogloss:0.24640\teval-mlogloss:0.24372\n",
      "[110]\ttrain-mlogloss:0.24619\teval-mlogloss:0.24353\n",
      "[111]\ttrain-mlogloss:0.24594\teval-mlogloss:0.24336\n",
      "[112]\ttrain-mlogloss:0.24573\teval-mlogloss:0.24320\n",
      "[113]\ttrain-mlogloss:0.24553\teval-mlogloss:0.24302\n",
      "[114]\ttrain-mlogloss:0.24532\teval-mlogloss:0.24288\n",
      "[115]\ttrain-mlogloss:0.24512\teval-mlogloss:0.24269\n",
      "[116]\ttrain-mlogloss:0.24491\teval-mlogloss:0.24254\n",
      "[117]\ttrain-mlogloss:0.24472\teval-mlogloss:0.24236\n",
      "[118]\ttrain-mlogloss:0.24451\teval-mlogloss:0.24223\n",
      "[119]\ttrain-mlogloss:0.24433\teval-mlogloss:0.24212\n",
      "[120]\ttrain-mlogloss:0.24415\teval-mlogloss:0.24197\n",
      "[121]\ttrain-mlogloss:0.24398\teval-mlogloss:0.24185\n",
      "[122]\ttrain-mlogloss:0.24380\teval-mlogloss:0.24176\n",
      "[123]\ttrain-mlogloss:0.24363\teval-mlogloss:0.24166\n",
      "[124]\ttrain-mlogloss:0.24347\teval-mlogloss:0.24156\n",
      "[125]\ttrain-mlogloss:0.24327\teval-mlogloss:0.24148\n",
      "[126]\ttrain-mlogloss:0.24309\teval-mlogloss:0.24138\n",
      "[127]\ttrain-mlogloss:0.24295\teval-mlogloss:0.24128\n",
      "[128]\ttrain-mlogloss:0.24282\teval-mlogloss:0.24119\n",
      "[129]\ttrain-mlogloss:0.24269\teval-mlogloss:0.24109\n",
      "[130]\ttrain-mlogloss:0.24254\teval-mlogloss:0.24102\n",
      "[131]\ttrain-mlogloss:0.24240\teval-mlogloss:0.24098\n",
      "[132]\ttrain-mlogloss:0.24227\teval-mlogloss:0.24090\n",
      "[133]\ttrain-mlogloss:0.24214\teval-mlogloss:0.24086\n",
      "[134]\ttrain-mlogloss:0.24204\teval-mlogloss:0.24078\n",
      "[135]\ttrain-mlogloss:0.24193\teval-mlogloss:0.24073\n",
      "[136]\ttrain-mlogloss:0.24180\teval-mlogloss:0.24066\n",
      "[137]\ttrain-mlogloss:0.24168\teval-mlogloss:0.24061\n",
      "[138]\ttrain-mlogloss:0.24157\teval-mlogloss:0.24055\n",
      "[139]\ttrain-mlogloss:0.24146\teval-mlogloss:0.24051\n",
      "[140]\ttrain-mlogloss:0.24135\teval-mlogloss:0.24047\n",
      "[141]\ttrain-mlogloss:0.24120\teval-mlogloss:0.24045\n",
      "[142]\ttrain-mlogloss:0.24106\teval-mlogloss:0.24039\n",
      "[143]\ttrain-mlogloss:0.24095\teval-mlogloss:0.24037\n",
      "[144]\ttrain-mlogloss:0.24084\teval-mlogloss:0.24035\n",
      "[145]\ttrain-mlogloss:0.24071\teval-mlogloss:0.24031\n",
      "[146]\ttrain-mlogloss:0.24062\teval-mlogloss:0.24026\n",
      "[147]\ttrain-mlogloss:0.24052\teval-mlogloss:0.24018\n",
      "[148]\ttrain-mlogloss:0.24042\teval-mlogloss:0.24013\n",
      "[149]\ttrain-mlogloss:0.24031\teval-mlogloss:0.24012\n",
      "[150]\ttrain-mlogloss:0.24022\teval-mlogloss:0.24010\n",
      "[151]\ttrain-mlogloss:0.24012\teval-mlogloss:0.24010\n",
      "[152]\ttrain-mlogloss:0.24003\teval-mlogloss:0.24005\n",
      "[153]\ttrain-mlogloss:0.23996\teval-mlogloss:0.24004\n",
      "[154]\ttrain-mlogloss:0.23983\teval-mlogloss:0.24002\n",
      "[155]\ttrain-mlogloss:0.23972\teval-mlogloss:0.24000\n",
      "[156]\ttrain-mlogloss:0.23960\teval-mlogloss:0.23995\n",
      "[157]\ttrain-mlogloss:0.23947\teval-mlogloss:0.23990\n",
      "[158]\ttrain-mlogloss:0.23934\teval-mlogloss:0.23992\n",
      "[159]\ttrain-mlogloss:0.23926\teval-mlogloss:0.23986\n",
      "[160]\ttrain-mlogloss:0.23915\teval-mlogloss:0.23984\n",
      "[161]\ttrain-mlogloss:0.23906\teval-mlogloss:0.23983\n",
      "[162]\ttrain-mlogloss:0.23893\teval-mlogloss:0.23983\n",
      "[163]\ttrain-mlogloss:0.23882\teval-mlogloss:0.23981\n",
      "[164]\ttrain-mlogloss:0.23873\teval-mlogloss:0.23980\n",
      "[165]\ttrain-mlogloss:0.23863\teval-mlogloss:0.23981\n",
      "[166]\ttrain-mlogloss:0.23854\teval-mlogloss:0.23976\n",
      "[167]\ttrain-mlogloss:0.23842\teval-mlogloss:0.23978\n",
      "[168]\ttrain-mlogloss:0.23830\teval-mlogloss:0.23976\n",
      "[169]\ttrain-mlogloss:0.23823\teval-mlogloss:0.23970\n",
      "[170]\ttrain-mlogloss:0.23815\teval-mlogloss:0.23970\n",
      "[171]\ttrain-mlogloss:0.23805\teval-mlogloss:0.23971\n",
      "[172]\ttrain-mlogloss:0.23799\teval-mlogloss:0.23973\n",
      "[173]\ttrain-mlogloss:0.23789\teval-mlogloss:0.23968\n",
      "[174]\ttrain-mlogloss:0.23782\teval-mlogloss:0.23967\n",
      "[175]\ttrain-mlogloss:0.23776\teval-mlogloss:0.23964\n",
      "[176]\ttrain-mlogloss:0.23767\teval-mlogloss:0.23962\n",
      "[177]\ttrain-mlogloss:0.23758\teval-mlogloss:0.23962\n",
      "[178]\ttrain-mlogloss:0.23748\teval-mlogloss:0.23961\n",
      "[179]\ttrain-mlogloss:0.23737\teval-mlogloss:0.23960\n",
      "[180]\ttrain-mlogloss:0.23729\teval-mlogloss:0.23958\n",
      "[181]\ttrain-mlogloss:0.23718\teval-mlogloss:0.23957\n",
      "[182]\ttrain-mlogloss:0.23706\teval-mlogloss:0.23958\n",
      "[183]\ttrain-mlogloss:0.23700\teval-mlogloss:0.23957\n",
      "[184]\ttrain-mlogloss:0.23692\teval-mlogloss:0.23955\n",
      "[185]\ttrain-mlogloss:0.23687\teval-mlogloss:0.23952\n",
      "[186]\ttrain-mlogloss:0.23679\teval-mlogloss:0.23950\n",
      "[187]\ttrain-mlogloss:0.23670\teval-mlogloss:0.23949\n",
      "[188]\ttrain-mlogloss:0.23660\teval-mlogloss:0.23951\n",
      "[189]\ttrain-mlogloss:0.23654\teval-mlogloss:0.23949\n",
      "[190]\ttrain-mlogloss:0.23648\teval-mlogloss:0.23948\n",
      "[191]\ttrain-mlogloss:0.23637\teval-mlogloss:0.23948\n",
      "[192]\ttrain-mlogloss:0.23629\teval-mlogloss:0.23947\n",
      "[193]\ttrain-mlogloss:0.23621\teval-mlogloss:0.23943\n",
      "[194]\ttrain-mlogloss:0.23613\teval-mlogloss:0.23942\n",
      "[195]\ttrain-mlogloss:0.23605\teval-mlogloss:0.23940\n",
      "[196]\ttrain-mlogloss:0.23599\teval-mlogloss:0.23941\n",
      "[197]\ttrain-mlogloss:0.23590\teval-mlogloss:0.23940\n",
      "[198]\ttrain-mlogloss:0.23581\teval-mlogloss:0.23940\n",
      "[199]\ttrain-mlogloss:0.23574\teval-mlogloss:0.23940\n",
      "[200]\ttrain-mlogloss:0.23568\teval-mlogloss:0.23939\n",
      "[201]\ttrain-mlogloss:0.23563\teval-mlogloss:0.23940\n",
      "[202]\ttrain-mlogloss:0.23553\teval-mlogloss:0.23942\n",
      "[203]\ttrain-mlogloss:0.23547\teval-mlogloss:0.23944\n",
      "[204]\ttrain-mlogloss:0.23542\teval-mlogloss:0.23943\n",
      "[205]\ttrain-mlogloss:0.23531\teval-mlogloss:0.23946\n",
      "[206]\ttrain-mlogloss:0.23525\teval-mlogloss:0.23947\n",
      "[207]\ttrain-mlogloss:0.23519\teval-mlogloss:0.23945\n",
      "[208]\ttrain-mlogloss:0.23513\teval-mlogloss:0.23942\n",
      "[209]\ttrain-mlogloss:0.23509\teval-mlogloss:0.23943\n",
      "[210]\ttrain-mlogloss:0.23502\teval-mlogloss:0.23944\n",
      "[211]\ttrain-mlogloss:0.23493\teval-mlogloss:0.23945\n",
      "[212]\ttrain-mlogloss:0.23486\teval-mlogloss:0.23944\n",
      "[213]\ttrain-mlogloss:0.23481\teval-mlogloss:0.23946\n",
      "[214]\ttrain-mlogloss:0.23472\teval-mlogloss:0.23946\n",
      "[215]\ttrain-mlogloss:0.23465\teval-mlogloss:0.23949\n",
      "[216]\ttrain-mlogloss:0.23459\teval-mlogloss:0.23950\n",
      "[217]\ttrain-mlogloss:0.23455\teval-mlogloss:0.23950\n",
      "[218]\ttrain-mlogloss:0.23450\teval-mlogloss:0.23950\n",
      "[219]\ttrain-mlogloss:0.23443\teval-mlogloss:0.23952\n",
      "[220]\ttrain-mlogloss:0.23432\teval-mlogloss:0.23952\n",
      "[221]\ttrain-mlogloss:0.23424\teval-mlogloss:0.23952\n",
      "[222]\ttrain-mlogloss:0.23417\teval-mlogloss:0.23952\n",
      "[223]\ttrain-mlogloss:0.23410\teval-mlogloss:0.23950\n",
      "[224]\ttrain-mlogloss:0.23402\teval-mlogloss:0.23950\n",
      "[225]\ttrain-mlogloss:0.23393\teval-mlogloss:0.23950\n",
      "[226]\ttrain-mlogloss:0.23385\teval-mlogloss:0.23950\n",
      "[227]\ttrain-mlogloss:0.23381\teval-mlogloss:0.23949\n",
      "[228]\ttrain-mlogloss:0.23375\teval-mlogloss:0.23949\n",
      "[229]\ttrain-mlogloss:0.23366\teval-mlogloss:0.23951\n",
      "[230]\ttrain-mlogloss:0.23357\teval-mlogloss:0.23951\n",
      "[231]\ttrain-mlogloss:0.23348\teval-mlogloss:0.23953\n",
      "[232]\ttrain-mlogloss:0.23342\teval-mlogloss:0.23952\n",
      "[233]\ttrain-mlogloss:0.23336\teval-mlogloss:0.23950\n",
      "[234]\ttrain-mlogloss:0.23329\teval-mlogloss:0.23952\n",
      "[235]\ttrain-mlogloss:0.23321\teval-mlogloss:0.23955\n",
      "[236]\ttrain-mlogloss:0.23316\teval-mlogloss:0.23958\n",
      "[237]\ttrain-mlogloss:0.23304\teval-mlogloss:0.23956\n",
      "[238]\ttrain-mlogloss:0.23294\teval-mlogloss:0.23962\n",
      "[239]\ttrain-mlogloss:0.23285\teval-mlogloss:0.23967\n",
      "[240]\ttrain-mlogloss:0.23278\teval-mlogloss:0.23968\n",
      "[241]\ttrain-mlogloss:0.23272\teval-mlogloss:0.23966\n",
      "[242]\ttrain-mlogloss:0.23264\teval-mlogloss:0.23964\n",
      "[243]\ttrain-mlogloss:0.23255\teval-mlogloss:0.23968\n",
      "[244]\ttrain-mlogloss:0.23247\teval-mlogloss:0.23967\n",
      "[245]\ttrain-mlogloss:0.23239\teval-mlogloss:0.23972\n",
      "[246]\ttrain-mlogloss:0.23233\teval-mlogloss:0.23974\n",
      "[247]\ttrain-mlogloss:0.23225\teval-mlogloss:0.23976\n",
      "[248]\ttrain-mlogloss:0.23220\teval-mlogloss:0.23976\n",
      "[249]\ttrain-mlogloss:0.23213\teval-mlogloss:0.23980\n",
      "[250]\ttrain-mlogloss:0.23209\teval-mlogloss:0.23979\n",
      "[251]\ttrain-mlogloss:0.23200\teval-mlogloss:0.23978\n",
      "[252]\ttrain-mlogloss:0.23194\teval-mlogloss:0.23976\n",
      "[253]\ttrain-mlogloss:0.23186\teval-mlogloss:0.23977\n",
      "[254]\ttrain-mlogloss:0.23179\teval-mlogloss:0.23976\n",
      "[255]\ttrain-mlogloss:0.23171\teval-mlogloss:0.23980\n",
      "[256]\ttrain-mlogloss:0.23164\teval-mlogloss:0.23980\n",
      "[257]\ttrain-mlogloss:0.23159\teval-mlogloss:0.23982\n",
      "[258]\ttrain-mlogloss:0.23151\teval-mlogloss:0.23983\n",
      "[259]\ttrain-mlogloss:0.23144\teval-mlogloss:0.23986\n",
      "[260]\ttrain-mlogloss:0.23138\teval-mlogloss:0.23984\n",
      "[261]\ttrain-mlogloss:0.23128\teval-mlogloss:0.23987\n",
      "[262]\ttrain-mlogloss:0.23122\teval-mlogloss:0.23988\n",
      "[263]\ttrain-mlogloss:0.23116\teval-mlogloss:0.23989\n",
      "[264]\ttrain-mlogloss:0.23110\teval-mlogloss:0.23992\n",
      "[265]\ttrain-mlogloss:0.23103\teval-mlogloss:0.23997\n",
      "[266]\ttrain-mlogloss:0.23096\teval-mlogloss:0.23998\n",
      "[267]\ttrain-mlogloss:0.23089\teval-mlogloss:0.23997\n",
      "[268]\ttrain-mlogloss:0.23085\teval-mlogloss:0.23998\n",
      "[269]\ttrain-mlogloss:0.23079\teval-mlogloss:0.23998\n",
      "[270]\ttrain-mlogloss:0.23069\teval-mlogloss:0.23996\n",
      "[271]\ttrain-mlogloss:0.23065\teval-mlogloss:0.23995\n",
      "[272]\ttrain-mlogloss:0.23061\teval-mlogloss:0.23996\n",
      "[273]\ttrain-mlogloss:0.23056\teval-mlogloss:0.23996\n",
      "[274]\ttrain-mlogloss:0.23050\teval-mlogloss:0.23995\n",
      "[275]\ttrain-mlogloss:0.23046\teval-mlogloss:0.23995\n",
      "[276]\ttrain-mlogloss:0.23036\teval-mlogloss:0.23992\n",
      "[277]\ttrain-mlogloss:0.23030\teval-mlogloss:0.23990\n",
      "[278]\ttrain-mlogloss:0.23022\teval-mlogloss:0.23996\n",
      "[279]\ttrain-mlogloss:0.23018\teval-mlogloss:0.23994\n",
      "[280]\ttrain-mlogloss:0.23014\teval-mlogloss:0.23996\n",
      "[281]\ttrain-mlogloss:0.23007\teval-mlogloss:0.23994\n",
      "[282]\ttrain-mlogloss:0.23003\teval-mlogloss:0.23994\n",
      "[283]\ttrain-mlogloss:0.22995\teval-mlogloss:0.23994\n",
      "[284]\ttrain-mlogloss:0.22991\teval-mlogloss:0.23994\n",
      "[285]\ttrain-mlogloss:0.22985\teval-mlogloss:0.23994\n",
      "[286]\ttrain-mlogloss:0.22979\teval-mlogloss:0.23997\n",
      "[287]\ttrain-mlogloss:0.22976\teval-mlogloss:0.23994\n",
      "[288]\ttrain-mlogloss:0.22971\teval-mlogloss:0.23995\n",
      "[289]\ttrain-mlogloss:0.22968\teval-mlogloss:0.23996\n",
      "[290]\ttrain-mlogloss:0.22964\teval-mlogloss:0.23994\n",
      "[291]\ttrain-mlogloss:0.22955\teval-mlogloss:0.23991\n",
      "[292]\ttrain-mlogloss:0.22950\teval-mlogloss:0.23991\n",
      "[293]\ttrain-mlogloss:0.22943\teval-mlogloss:0.23991\n",
      "[294]\ttrain-mlogloss:0.22939\teval-mlogloss:0.23991\n",
      "[295]\ttrain-mlogloss:0.22932\teval-mlogloss:0.23988\n",
      "[296]\ttrain-mlogloss:0.22929\teval-mlogloss:0.23988\n",
      "[297]\ttrain-mlogloss:0.22925\teval-mlogloss:0.23985\n",
      "[298]\ttrain-mlogloss:0.22922\teval-mlogloss:0.23984\n",
      "[299]\ttrain-mlogloss:0.22915\teval-mlogloss:0.23986\n",
      "[300]\ttrain-mlogloss:0.22907\teval-mlogloss:0.23985\n"
     ]
    }
   ],
   "source": [
    "import xgboost\n",
    "\n",
    "X_train, X_test, y_train, y_test = train_test_split(train, target, test_size=0.4, random_state=0)\n",
    "X_test, X_valid, y_test, y_valid = train_test_split(X_test, y_test, test_size=0.5, random_state=0)\n",
    "\n",
    "clf = xgboost\n",
    "\n",
    "train_matrix = clf.DMatrix(X_train, label=y_train, missing=-1)\n",
    "test_matrix = clf.DMatrix(X_test, label=y_test, missing=-1)\n",
    "z = clf.DMatrix(X_valid, label=y_valid, missing=-1)\n",
    "params = {'booster': 'gbtree',\n",
    "          'objective': 'multi:softprob',\n",
    "          'eval_metric': 'mlogloss',\n",
    "          'gamma': 1,\n",
    "          'min_child_weight': 1.5,\n",
    "          'max_depth': 5,\n",
    "          'lambda': 100,\n",
    "          'subsample': 0.7,\n",
    "          'colsample_bytree': 0.7,\n",
    "          'colsample_bylevel': 0.7,\n",
    "          'eta': 0.03,\n",
    "          'tree_method': 'exact',\n",
    "          'seed': 2017,\n",
    "          \"num_class\": 2\n",
    "          }\n",
    "\n",
    "num_round = 10000\n",
    "early_stopping_rounds = 100\n",
    "watchlist = [(train_matrix, 'train'),\n",
    "             (test_matrix, 'eval')\n",
    "             ]\n",
    "\n",
    "model = clf.train(params,\n",
    "                  train_matrix,\n",
    "                  num_boost_round=num_round,\n",
    "                  evals=watchlist,\n",
    "                  early_stopping_rounds=early_stopping_rounds\n",
    "                  )\n",
    "pre = model.predict(z,ntree_limit=model.best_ntree_limit)"
   ]
  },
  {
   "cell_type": "code",
   "execution_count": 95,
   "metadata": {},
   "outputs": [
    {
     "name": "stdout",
     "output_type": "stream",
     "text": [
      "score :  0.937906564163217\n"
     ]
    }
   ],
   "source": [
    "print('score : ', np.mean((pre[:,1]>0.3)==y_valid))"
   ]
  },
  {
   "cell_type": "markdown",
   "metadata": {},
   "source": [
    "# 7 自己封装模型"
   ]
  },
  {
   "cell_type": "markdown",
   "metadata": {},
   "source": [
    "## 7.1 Stacking,Bootstrap,Bagging技术实践"
   ]
  },
  {
   "cell_type": "code",
   "execution_count": 96,
   "metadata": {},
   "outputs": [],
   "source": [
    "\"\"\"\n",
    "    导入相关包\n",
    "\"\"\"\n",
    "import pandas as pd\n",
    "import numpy as np\n",
    "import lightgbm as lgb\n",
    "from sklearn.metrics import f1_score\n",
    "from sklearn.model_selection import train_test_split\n",
    "from sklearn.model_selection import KFold\n",
    "from sklearn.model_selection import StratifiedKFold"
   ]
  },
  {
   "cell_type": "code",
   "execution_count": 97,
   "metadata": {},
   "outputs": [],
   "source": [
    "class SBBTree():\n",
    "    \"\"\"\n",
    "        SBBTree\n",
    "        Stacking,Bootstap,Bagging\n",
    "    \"\"\"\n",
    "    def __init__(\n",
    "                    self, \n",
    "                    params,\n",
    "                    stacking_num,\n",
    "                    bagging_num,\n",
    "                    bagging_test_size,\n",
    "                    num_boost_round,\n",
    "                    callbacks\n",
    "                ):\n",
    "        \"\"\"\n",
    "            Initializes the SBBTree.\n",
    "            Args:\n",
    "              params : lgb params.\n",
    "              stacking_num : k_flod stacking.\n",
    "              bagging_num : bootstrap num.\n",
    "              bagging_test_size : bootstrap sample rate.\n",
    "              num_boost_round : boost num.\n",
    "              callbacks: callbacks=[lightgbm.early_stopping(stopping_rounds=200)\n",
    "        \"\"\"\n",
    "        self.params = params\n",
    "        self.stacking_num = stacking_num\n",
    "        self.bagging_num = bagging_num\n",
    "        self.bagging_test_size = bagging_test_size\n",
    "        self.num_boost_round = num_boost_round\n",
    "        self.callbacks = callbacks\n",
    "\n",
    "        self.model = lgb\n",
    "        self.stacking_model = []\n",
    "        self.bagging_model = []\n",
    "\n",
    "    def fit(self, X, y):\n",
    "        \"\"\" fit model. \"\"\"\n",
    "        if self.stacking_num > 1:\n",
    "            layer_train = np.zeros((X.shape[0], 2))\n",
    "            self.SK = StratifiedKFold(n_splits=self.stacking_num, shuffle=True, random_state=1)\n",
    "            for k,(train_index, test_index) in enumerate(self.SK.split(X, y)):\n",
    "                X_train = X[train_index]\n",
    "                y_train = y[train_index]\n",
    "                X_test = X[test_index]\n",
    "                y_test = y[test_index]\n",
    "\n",
    "                lgb_train = lgb.Dataset(X_train, y_train)\n",
    "                lgb_eval = lgb.Dataset(X_test, y_test, reference=lgb_train)\n",
    "\n",
    "                gbm = lgb.train(self.params,\n",
    "                            lgb_train,\n",
    "                            num_boost_round=self.num_boost_round,\n",
    "                            valid_sets=lgb_eval,\n",
    "                            callbacks=self.callbacks\n",
    "                            )\n",
    "\n",
    "                self.stacking_model.append(gbm)\n",
    "\n",
    "                pred_y = gbm.predict(X_test, num_iteration=gbm.best_iteration)\n",
    "                layer_train[test_index, 1] = pred_y\n",
    "\n",
    "            X = np.hstack((X, layer_train[:,1].reshape((-1,1)))) \n",
    "        else:\n",
    "            pass\n",
    "        for bn in range(self.bagging_num):\n",
    "            X_train, X_test, y_train, y_test = train_test_split(X, y, test_size=self.bagging_test_size, random_state=bn)\n",
    "\n",
    "            lgb_train = lgb.Dataset(X_train, y_train)\n",
    "            lgb_eval = lgb.Dataset(X_test, y_test, reference=lgb_train)\n",
    "\n",
    "\n",
    "            gbm = lgb.train(self.params,\n",
    "                        lgb_train,\n",
    "                        num_boost_round=10000,\n",
    "                        valid_sets=lgb_eval,\n",
    "                        callbacks=[lightgbm.early_stopping(stopping_rounds=200)]\n",
    "                        )\n",
    "\n",
    "            self.bagging_model.append(gbm)\n",
    "\n",
    "    def predict(self, X_pred):\n",
    "        \"\"\" predict test data. \"\"\"\n",
    "        if self.stacking_num > 1:\n",
    "            test_pred = np.zeros((X_pred.shape[0], self.stacking_num))\n",
    "            for sn,gbm in enumerate(self.stacking_model):\n",
    "                pred = gbm.predict(X_pred, num_iteration=gbm.best_iteration)\n",
    "                test_pred[:, sn] = pred\n",
    "            X_pred = np.hstack((X_pred, test_pred.mean(axis=1).reshape((-1,1))))  \n",
    "        else:\n",
    "            pass \n",
    "        for bn,gbm in enumerate(self.bagging_model):\n",
    "            pred = gbm.predict(X_pred, num_iteration=gbm.best_iteration)\n",
    "            if bn == 0:\n",
    "                pred_out=pred\n",
    "            else:\n",
    "                pred_out+=pred\n",
    "        return pred_out/self.bagging_num"
   ]
  },
  {
   "cell_type": "markdown",
   "metadata": {},
   "source": [
    "#### 代码解释\n",
    "这段代码定义了一个名为`SBBTree`类，表示Stacking, Bootstrap, Bagging这三种集成学习算法的组合。代码中使用了LightGBM框架来训练模型。\n",
    "\n",
    "详细解释：\n",
    "\n",
    "**类 `SBBTree`：**\n",
    "-  `__init__` 方法：\n",
    "  \n",
    "   类的构造函数用于初始化`SBBTree`对象，它接受以下参数：\n",
    "   \n",
    "   - `params`：LightGBM模型的参数。\n",
    "   - `stacking_num`：堆叠的次数，用于k折交叉验证中。\n",
    "   - `bagging_num`：Bagging的次数，即bootstrapping的样本集的数量。\n",
    "   - `bagging_test_size`：bootstrapping时测试集的比例。\n",
    "   - `num_boost_round`：boosting迭代次数。\n",
    "   - `callbacks`：回调函数，用于训练过程中提供一些操作，例如早停止。\n",
    "\n",
    "  构造函数内部将传入的参数赋值给类的属性，并初始化了两个列表，`stacking_model`和`bagging_model`，分别用于存储来自堆叠的模型和bagging的模型。\n",
    "\n",
    "- `fit` 方法：\n",
    "\n",
    "  用来训练SBBTree模型。这个方法首先检查如果`stacking_num`大于1，就会执行k折堆叠，每次迭代都训练一个新的模型并将其添加到`stacking_model`列表，并且保留预测结果。所有折的预测结果平均后，作为新的特征添加到原有的特征集中。如果`stacking_num`等于1，预测结果作为新的特征是不被添加的。\n",
    "  \n",
    "  接下来的Bagging部分，代码通过`train_test_split`函数进行多次划分，每一次划分都训练一个新的LightGBM模型，并将每个模型添加到`bagging_model`列表中。\n",
    "\n",
    "- `predict` 方法：\n",
    "\n",
    "  用来预测输入的数据`X_pred`。如果`stacking_num`大于1，就会使用堆叠过程中得到的模型来对数据进行预测，并将结果平均后作为新特征，再和原始特征进行叠加。然后利用Bagging过程中得到的所有模型对叠加后的特征数据集进行预测。最后，所有Bagging模型的预测结果将求平均值返回最终的预测结果。如果`stacking_num`等于1，则没有对原始特征叠加新特征的步骤。\n",
    "\n",
    "该类结合了三种集成算法来提升模型的泛化能力和性能。堆叠（Stacking）是通过将模型的预测结果作为新的特征来训练上层模型；Bootstrap是通过从原数据集中随机抽样来生成新的数据集；Bagging是通过并行地训练多个模型并组合它们的预测结果来减小方差。\n",
    "\n",
    "这种组合方式通常可以让模型在多样性和稳定性上取得更好的平衡，从而提高预测的准确率。"
   ]
  },
  {
   "cell_type": "markdown",
   "metadata": {},
   "source": [
    "## 7.2 测试自己封装的模型类"
   ]
  },
  {
   "cell_type": "code",
   "execution_count": 108,
   "metadata": {},
   "outputs": [
    {
     "name": "stdout",
     "output_type": "stream",
     "text": [
      "Training until validation scores don't improve for 200 rounds\n",
      "Early stopping, best iteration is:\n",
      "[565]\tvalid_0's auc: 0.761952\n",
      "Training until validation scores don't improve for 200 rounds\n",
      "Early stopping, best iteration is:\n",
      "[598]\tvalid_0's auc: 0.789344\n",
      "Training until validation scores don't improve for 200 rounds\n",
      "Early stopping, best iteration is:\n",
      "[480]\tvalid_0's auc: 0.808629\n",
      "pred\n",
      "[0.12]\n",
      "TEST 1 ok\n",
      "Training until validation scores don't improve for 200 rounds\n",
      "Early stopping, best iteration is:\n",
      "[259]\tvalid_0's auc: 0.75051\n",
      "Training until validation scores don't improve for 200 rounds\n",
      "Early stopping, best iteration is:\n",
      "[259]\tvalid_0's auc: 0.75051\n",
      "Training until validation scores don't improve for 200 rounds\n",
      "Early stopping, best iteration is:\n",
      "[401]\tvalid_0's auc: 0.769037\n",
      "Training until validation scores don't improve for 200 rounds\n",
      "Early stopping, best iteration is:\n",
      "[368]\tvalid_0's auc: 0.766177\n",
      "Training until validation scores don't improve for 200 rounds\n",
      "Early stopping, best iteration is:\n",
      "[785]\tvalid_0's auc: 0.834114\n",
      "Training until validation scores don't improve for 200 rounds\n",
      "Early stopping, best iteration is:\n",
      "[452]\tvalid_0's auc: 0.753342\n",
      "Training until validation scores don't improve for 200 rounds\n",
      "Early stopping, best iteration is:\n",
      "[550]\tvalid_0's auc: 0.787433\n",
      "Training until validation scores don't improve for 200 rounds\n",
      "Early stopping, best iteration is:\n",
      "[730]\tvalid_0's auc: 0.803699\n",
      "Training until validation scores don't improve for 200 rounds\n",
      "Early stopping, best iteration is:\n",
      "[291]\tvalid_0's auc: 0.789216\n",
      "Training until validation scores don't improve for 200 rounds\n",
      "Early stopping, best iteration is:\n",
      "[24]\tvalid_0's auc: 0.756547\n",
      "Training until validation scores don't improve for 200 rounds\n",
      "Early stopping, best iteration is:\n",
      "[785]\tvalid_0's auc: 0.834114\n",
      "Training until validation scores don't improve for 200 rounds\n",
      "Early stopping, best iteration is:\n",
      "[452]\tvalid_0's auc: 0.753342\n",
      "Training until validation scores don't improve for 200 rounds\n",
      "Early stopping, best iteration is:\n",
      "[550]\tvalid_0's auc: 0.787433\n",
      "Training until validation scores don't improve for 200 rounds\n",
      "Early stopping, best iteration is:\n",
      "[730]\tvalid_0's auc: 0.803699\n",
      "Training until validation scores don't improve for 200 rounds\n",
      "Early stopping, best iteration is:\n",
      "[291]\tvalid_0's auc: 0.789216\n",
      "Training until validation scores don't improve for 200 rounds\n",
      "Early stopping, best iteration is:\n",
      "[24]\tvalid_0's auc: 0.756547\n",
      "Training until validation scores don't improve for 200 rounds\n",
      "Early stopping, best iteration is:\n",
      "[26]\tvalid_0's auc: 0.764161\n",
      "Training until validation scores don't improve for 200 rounds\n",
      "Early stopping, best iteration is:\n",
      "[49]\tvalid_0's auc: 0.806934\n",
      "auc:  0.7107286034793483\n",
      "auc:  0.7791754018169113\n",
      "auc:  0.7681783074037294\n",
      "auc:  0.7900989370701387\n"
     ]
    }
   ],
   "source": [
    "\"\"\"\n",
    "    TEST CODE\n",
    "\"\"\"\n",
    "from sklearn.datasets import make_gaussian_quantiles\n",
    "from sklearn import metrics\n",
    "X, y = make_gaussian_quantiles(mean=None, cov=1.0, n_samples=1000, n_features=50, n_classes=2, shuffle=True, random_state=2)\n",
    "X_train, X_test, y_train, y_test = train_test_split(X, y, test_size=0.33, random_state=1)\n",
    "params = {\n",
    "        'task': 'train',\n",
    "        'boosting_type': 'gbdt',\n",
    "        'objective': 'binary',\n",
    "        'metric': 'auc',\n",
    "        'num_leaves': 9,\n",
    "        'learning_rate': 0.03,\n",
    "        'feature_fraction_seed': 2,\n",
    "        'feature_fraction': 0.9,\n",
    "        'bagging_fraction': 0.8,\n",
    "        'bagging_freq': 5,\n",
    "        'min_data': 20,\n",
    "        'min_hessian': 1,\n",
    "        'verbose': -1,\n",
    "        'silent': 0\n",
    "        }\n",
    "# test 1\n",
    "model = SBBTree(params, stacking_num=2, bagging_num=1,  bagging_test_size=0.33, num_boost_round=10000, callbacks=[lightgbm.early_stopping(stopping_rounds=200)])\n",
    "model.fit(X,y)\n",
    "X_pred = X[0].reshape((1,-1))\n",
    "pred=model.predict(X_pred)\n",
    "print('pred')\n",
    "print(pred)\n",
    "print('TEST 1 ok')\n",
    "\n",
    "\n",
    "# test 1\n",
    "model = SBBTree(params, stacking_num=1, bagging_num=1, bagging_test_size=0.33, num_boost_round=10000, callbacks=[lightgbm.early_stopping(stopping_rounds=200)])\n",
    "model.fit(X_train,y_train)\n",
    "pred1=model.predict(X_test)\n",
    "\n",
    "# test 2 \n",
    "model = SBBTree(params, stacking_num=1, bagging_num=3, bagging_test_size=0.33, num_boost_round=10000, callbacks=[lightgbm.early_stopping(stopping_rounds=200)])\n",
    "model.fit(X_train,y_train)\n",
    "pred2=model.predict(X_test)\n",
    "\n",
    "# test 3 \n",
    "model = SBBTree(params, stacking_num=5, bagging_num=1, bagging_test_size=0.33, num_boost_round=10000, callbacks=[lightgbm.early_stopping(stopping_rounds=200)])\n",
    "model.fit(X_train,y_train)\n",
    "pred3=model.predict(X_test)\n",
    "\n",
    "# test 4 \n",
    "model = SBBTree(params, stacking_num=5, bagging_num=3, bagging_test_size=0.33, num_boost_round=10000, callbacks=[lightgbm.early_stopping(stopping_rounds=200)])\n",
    "model.fit(X_train,y_train)\n",
    "pred4=model.predict(X_test)\n",
    "\n",
    "fpr, tpr, thresholds = metrics.roc_curve(y_test+1, pred1, pos_label=2)\n",
    "print('auc: ',metrics.auc(fpr, tpr))\n",
    "\n",
    "fpr, tpr, thresholds = metrics.roc_curve(y_test+1, pred2, pos_label=2)\n",
    "print('auc: ',metrics.auc(fpr, tpr))\n",
    "\n",
    "fpr, tpr, thresholds = metrics.roc_curve(y_test+1, pred3, pos_label=2)\n",
    "print('auc: ',metrics.auc(fpr, tpr))\n",
    "\n",
    "fpr, tpr, thresholds = metrics.roc_curve(y_test+1, pred4, pos_label=2)\n",
    "print('auc: ',metrics.auc(fpr, tpr))\n",
    "\n",
    "\n",
    "# auc:  0.7281621243885396\n",
    "# auc:  0.7710471146419509\n",
    "# auc:  0.7894369046305492\n",
    "# auc:  0.8084519474787597"
   ]
  },
  {
   "cell_type": "markdown",
   "metadata": {},
   "source": [
    "#### 代码解释\n",
    "这段测试代码使用了之前定义的`SBBTree`类，该类是用于构建、训练和预测一个集成学习模型，结合了Stacking、Bootstrap和Bagging策略。\n",
    "\n",
    "**测试代码的步骤包括：**\n",
    "\n",
    "1. 导入`make_gaussian_quantiles`函数用于生成一个高斯分布的合成数据集，和`metrics`模块用于评估模型性能。\n",
    "\n",
    "2. 生成一个含1000个样本、每个样本具有50个特征的数据集，并且标签类别为2。\n",
    "\n",
    "3. 使用`train_test_split`把数据集分割成训练集和测试集，测试集大小占33%。\n",
    "\n",
    "4. 设置LightGBM模型相关的参数`params`的字典，包括任务类型、梯度提升类型、目标函数、评价指标等。\n",
    "\n",
    "    - `task`：指定当前的任务类型，可以是`train`（训练）或`predict`（预测）。\n",
    "    - `boosting_type`：指定提升类型，可以是`gbdt`（梯度提升树）。\n",
    "    - `objective`：指定目标函数，可以是`binary`（二分类）。\n",
    "    - `metric`：指定评估指标，可以是`auc`（Area Under the Curve）。\n",
    "    - `num_leaves`：指定叶子节点数。\n",
    "    - `learning_rate`：指定学习率。\n",
    "    - `feature_fraction_seed`：指定特征fraction的随机种子。\n",
    "    - `feature_fraction`：指定特征fraction。\n",
    "    - `bagging_fraction`：指定baggingfraction。\n",
    "    -  `bagging_freq`：指定bagging频率。\n",
    "    -  `min_data`：指定每个叶子节点上最少的数据样本数。\n",
    "    -  `min_hessian`：指定每个叶子节点上最小的Hessian值。\n",
    "    -  `verbose`：指定是否显示日志信息，可以是`-1`（不显示）或`0`（显示）。\n",
    "    -  `silent`：指定是否静默模式，可以是`0`（不静默）或`1`（静默）。\n",
    "\n",
    "\n",
    "5. 进行四个不同设置的测试：\n",
    "    - `test 1`: `stacking_num=2`, `bagging_num=1`\n",
    "    - `test 1`: `stacking_num=1`, `bagging_num=1`\n",
    "    - `test 2`: `stacking_num=1`, `bagging_num=3`\n",
    "    - `test 3`: `stacking_num=5`, `bagging_num=1`\n",
    "    - `test 4`: `stacking_num=5`, `bagging_num=3`\n",
    "\n",
    "    每个测试都实例化了一个`SBBTree`模型，使用提供的参数进行训练，并对测试集进行预测。\n",
    "\n",
    "6. 对每个测试的预测结果，使用`roc_curve`计算真正率（TPR）和假正率（FPR），再使用`metrics.auc`计算AUC值，并打印出来。`y_test+1`和`pos_label=2`的部分是为了使得二元分类的标签与`metrics`模块的默认正类标签匹配。\n",
    "\n",
    "这段代码的目标是评估`SBBTree`不同的堆叠和装袋配置对模型性能（特别是AUC分数）的影响，并打印出模型预测的示例。通过改变堆叠数和装袋数，能看到模型在不同设置下的性能如何变化。"
   ]
  },
  {
   "cell_type": "markdown",
   "metadata": {},
   "source": [
    "# 8 天猫复购场景实战"
   ]
  },
  {
   "cell_type": "markdown",
   "metadata": {},
   "source": [
    "## 8.1读取特征数据"
   ]
  },
  {
   "cell_type": "code",
   "execution_count": 99,
   "metadata": {},
   "outputs": [],
   "source": [
    "import pandas as pd\n",
    "import numpy as np\n",
    "import lightgbm as lgb\n",
    "from sklearn.metrics import f1_score\n",
    "from sklearn.model_selection import train_test_split\n",
    "from sklearn.model_selection import KFold\n",
    "from sklearn.model_selection import StratifiedKFold\n",
    "\n",
    "train_data = pd.read_csv('./data/train_all.csv',nrows=10000)\n",
    "test_data = pd.read_csv('./data/test_all.csv',nrows=100)\n",
    "\n",
    "features_columns = [col for col in train_data.columns if col not in ['user_id','label']]\n",
    "train = train_data[features_columns].values\n",
    "test = test_data[features_columns].values\n",
    "target =train_data['label'].values"
   ]
  },
  {
   "cell_type": "markdown",
   "metadata": {},
   "source": [
    "## 8.2设置模型参数"
   ]
  },
  {
   "cell_type": "code",
   "execution_count": 100,
   "metadata": {},
   "outputs": [],
   "source": [
    "params = {\n",
    "        'task': 'train',\n",
    "        'boosting_type': 'gbdt',\n",
    "        'objective': 'binary',\n",
    "        'metric': 'auc',\n",
    "        'num_leaves': 9,\n",
    "        'learning_rate': 0.03,\n",
    "        'feature_fraction_seed': 2,\n",
    "        'feature_fraction': 0.9,\n",
    "        'bagging_fraction': 0.8,\n",
    "        'bagging_freq': 5,\n",
    "        'min_data': 20,\n",
    "        'min_hessian': 1,\n",
    "        'verbose': -1,\n",
    "        'silent': 0\n",
    "        }\n",
    "\n",
    "model = SBBTree(params=params,\n",
    "                stacking_num=5,\n",
    "                bagging_num=3,\n",
    "                bagging_test_size=0.33,\n",
    "                num_boost_round=10000,\n",
    "                callbacks=[lightgbm.early_stopping(stopping_rounds=200)]\n",
    "                )"
   ]
  },
  {
   "cell_type": "markdown",
   "metadata": {},
   "source": [
    "## 8.3模型训练"
   ]
  },
  {
   "cell_type": "code",
   "execution_count": 101,
   "metadata": {},
   "outputs": [
    {
     "name": "stdout",
     "output_type": "stream",
     "text": [
      "Training until validation scores don't improve for 200 rounds\n",
      "Early stopping, best iteration is:\n",
      "[49]\tvalid_0's auc: 0.58627\n",
      "Training until validation scores don't improve for 200 rounds\n",
      "Early stopping, best iteration is:\n",
      "[5]\tvalid_0's auc: 0.589063\n",
      "Training until validation scores don't improve for 200 rounds\n",
      "Early stopping, best iteration is:\n",
      "[72]\tvalid_0's auc: 0.56119\n",
      "Training until validation scores don't improve for 200 rounds\n",
      "Early stopping, best iteration is:\n",
      "[21]\tvalid_0's auc: 0.520856\n",
      "Training until validation scores don't improve for 200 rounds\n",
      "Early stopping, best iteration is:\n",
      "[15]\tvalid_0's auc: 0.558685\n",
      "Training until validation scores don't improve for 200 rounds\n",
      "Early stopping, best iteration is:\n",
      "[22]\tvalid_0's auc: 0.576137\n",
      "Training until validation scores don't improve for 200 rounds\n",
      "Early stopping, best iteration is:\n",
      "[1]\tvalid_0's auc: 0.533978\n",
      "Training until validation scores don't improve for 200 rounds\n",
      "Early stopping, best iteration is:\n",
      "[27]\tvalid_0's auc: 0.562125\n"
     ]
    }
   ],
   "source": [
    "model.fit(train, target)"
   ]
  },
  {
   "cell_type": "markdown",
   "metadata": {},
   "source": [
    "## 8.4预测结果"
   ]
  },
  {
   "cell_type": "code",
   "execution_count": 102,
   "metadata": {},
   "outputs": [
    {
     "data": {
      "text/html": [
       "<div>\n",
       "<style scoped>\n",
       "    .dataframe tbody tr th:only-of-type {\n",
       "        vertical-align: middle;\n",
       "    }\n",
       "\n",
       "    .dataframe tbody tr th {\n",
       "        vertical-align: top;\n",
       "    }\n",
       "\n",
       "    .dataframe thead th {\n",
       "        text-align: right;\n",
       "    }\n",
       "</style>\n",
       "<table border=\"1\" class=\"dataframe\">\n",
       "  <thead>\n",
       "    <tr style=\"text-align: right;\">\n",
       "      <th></th>\n",
       "      <th>user_id</th>\n",
       "      <th>predict_prob</th>\n",
       "    </tr>\n",
       "  </thead>\n",
       "  <tbody>\n",
       "    <tr>\n",
       "      <th>0</th>\n",
       "      <td>105600</td>\n",
       "      <td>0.064700</td>\n",
       "    </tr>\n",
       "    <tr>\n",
       "      <th>1</th>\n",
       "      <td>110976</td>\n",
       "      <td>0.069873</td>\n",
       "    </tr>\n",
       "    <tr>\n",
       "      <th>2</th>\n",
       "      <td>374400</td>\n",
       "      <td>0.069219</td>\n",
       "    </tr>\n",
       "    <tr>\n",
       "      <th>3</th>\n",
       "      <td>189312</td>\n",
       "      <td>0.064055</td>\n",
       "    </tr>\n",
       "    <tr>\n",
       "      <th>4</th>\n",
       "      <td>189312</td>\n",
       "      <td>0.063837</td>\n",
       "    </tr>\n",
       "  </tbody>\n",
       "</table>\n",
       "</div>"
      ],
      "text/plain": [
       "   user_id  predict_prob\n",
       "0   105600      0.064700\n",
       "1   110976      0.069873\n",
       "2   374400      0.069219\n",
       "3   189312      0.064055\n",
       "4   189312      0.063837"
      ]
     },
     "execution_count": 102,
     "metadata": {},
     "output_type": "execute_result"
    }
   ],
   "source": [
    "pred = model.predict(test)\n",
    "df_out = pd.DataFrame()\n",
    "df_out['user_id'] = test_data['user_id'].astype(int)\n",
    "df_out['predict_prob'] = pred\n",
    "df_out.head()"
   ]
  },
  {
   "cell_type": "markdown",
   "metadata": {},
   "source": [
    "## 8.5保存结果"
   ]
  },
  {
   "cell_type": "code",
   "execution_count": 103,
   "metadata": {},
   "outputs": [
    {
     "name": "stdout",
     "output_type": "stream",
     "text": [
      "save OK!\n"
     ]
    }
   ],
   "source": [
    "\"\"\"\n",
    "    保留数据头，不保存index\n",
    "\"\"\"\n",
    "df_out.to_csv('./data/df_out.csv',header=True,index=False)\n",
    "print('save OK!')"
   ]
  }
 ],
 "metadata": {
  "kernelspec": {
   "display_name": "mlenv",
   "language": "python",
   "name": "mlenv"
  },
  "language_info": {
   "codemirror_mode": {
    "name": "ipython",
    "version": 3
   },
   "file_extension": ".py",
   "mimetype": "text/x-python",
   "name": "python",
   "nbconvert_exporter": "python",
   "pygments_lexer": "ipython3",
   "version": "3.7.6"
  },
  "latex_envs": {
   "LaTeX_envs_menu_present": true,
   "autoclose": false,
   "autocomplete": true,
   "bibliofile": "biblio.bib",
   "cite_by": "apalike",
   "current_citInitial": 1,
   "eqLabelWithNumbers": true,
   "eqNumInitial": 1,
   "hotkeys": {
    "equation": "Ctrl-E",
    "itemize": "Ctrl-I"
   },
   "labels_anchors": false,
   "latex_user_defs": false,
   "report_style_numbering": false,
   "user_envs_cfg": false
  }
 },
 "nbformat": 4,
 "nbformat_minor": 2
}
