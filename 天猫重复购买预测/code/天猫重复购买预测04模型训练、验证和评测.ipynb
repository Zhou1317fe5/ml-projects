{
 "cells": [
  {
   "cell_type": "markdown",
   "metadata": {},
   "source": [
    "## 导入相关包"
   ]
  },
  {
   "cell_type": "code",
   "execution_count": 1,
   "metadata": {},
   "outputs": [],
   "source": [
    "import pandas as pd\n",
    "import numpy as np\n",
    "\n",
    "import warnings\n",
    "warnings.filterwarnings(\"ignore\") "
   ]
  },
  {
   "cell_type": "markdown",
   "metadata": {},
   "source": [
    "## 读取数据（训练数据前10000行，测试数据前100条）"
   ]
  },
  {
   "cell_type": "code",
   "execution_count": 2,
   "metadata": {},
   "outputs": [],
   "source": [
    "train_data = pd.read_csv('./data/train_all.csv',nrows=10000)\n",
    "test_data = pd.read_csv('./data/test_all.csv',nrows=100)"
   ]
  },
  {
   "cell_type": "code",
   "execution_count": 3,
   "metadata": {},
   "outputs": [
    {
     "data": {
      "text/html": [
       "<div>\n",
       "<style scoped>\n",
       "    .dataframe tbody tr th:only-of-type {\n",
       "        vertical-align: middle;\n",
       "    }\n",
       "\n",
       "    .dataframe tbody tr th {\n",
       "        vertical-align: top;\n",
       "    }\n",
       "\n",
       "    .dataframe thead th {\n",
       "        text-align: right;\n",
       "    }\n",
       "</style>\n",
       "<table border=\"1\" class=\"dataframe\">\n",
       "  <thead>\n",
       "    <tr style=\"text-align: right;\">\n",
       "      <th></th>\n",
       "      <th>user_id</th>\n",
       "      <th>merchant_id</th>\n",
       "      <th>age_range</th>\n",
       "      <th>gender</th>\n",
       "      <th>user_cnt</th>\n",
       "      <th>seller_nunique</th>\n",
       "      <th>cat_nunique</th>\n",
       "      <th>brand_nunique</th>\n",
       "      <th>item_nunique</th>\n",
       "      <th>time_stamp_nunique</th>\n",
       "      <th>...</th>\n",
       "      <th>embeeding_93</th>\n",
       "      <th>embeeding_94</th>\n",
       "      <th>embeeding_95</th>\n",
       "      <th>embeeding_96</th>\n",
       "      <th>embeeding_97</th>\n",
       "      <th>embeeding_98</th>\n",
       "      <th>embeeding_99</th>\n",
       "      <th>lgb_clf</th>\n",
       "      <th>xgb_clf</th>\n",
       "      <th>label</th>\n",
       "    </tr>\n",
       "  </thead>\n",
       "  <tbody>\n",
       "    <tr>\n",
       "      <th>0</th>\n",
       "      <td>105600.0</td>\n",
       "      <td>1487.0</td>\n",
       "      <td>6.0</td>\n",
       "      <td>1.0</td>\n",
       "      <td>310.0</td>\n",
       "      <td>96.0</td>\n",
       "      <td>37.0</td>\n",
       "      <td>88.0</td>\n",
       "      <td>217.0</td>\n",
       "      <td>29.0</td>\n",
       "      <td>...</td>\n",
       "      <td>0.0</td>\n",
       "      <td>0.0</td>\n",
       "      <td>0.0</td>\n",
       "      <td>0.0</td>\n",
       "      <td>0.0</td>\n",
       "      <td>0.0</td>\n",
       "      <td>0.0</td>\n",
       "      <td>0.933521</td>\n",
       "      <td>0.896583</td>\n",
       "      <td>0.0</td>\n",
       "    </tr>\n",
       "    <tr>\n",
       "      <th>1</th>\n",
       "      <td>110976.0</td>\n",
       "      <td>159.0</td>\n",
       "      <td>5.0</td>\n",
       "      <td>0.0</td>\n",
       "      <td>274.0</td>\n",
       "      <td>181.0</td>\n",
       "      <td>70.0</td>\n",
       "      <td>159.0</td>\n",
       "      <td>233.0</td>\n",
       "      <td>52.0</td>\n",
       "      <td>...</td>\n",
       "      <td>0.0</td>\n",
       "      <td>0.0</td>\n",
       "      <td>0.0</td>\n",
       "      <td>0.0</td>\n",
       "      <td>0.0</td>\n",
       "      <td>0.0</td>\n",
       "      <td>0.0</td>\n",
       "      <td>0.945943</td>\n",
       "      <td>0.934458</td>\n",
       "      <td>0.0</td>\n",
       "    </tr>\n",
       "    <tr>\n",
       "      <th>2</th>\n",
       "      <td>374400.0</td>\n",
       "      <td>302.0</td>\n",
       "      <td>5.0</td>\n",
       "      <td>1.0</td>\n",
       "      <td>278.0</td>\n",
       "      <td>57.0</td>\n",
       "      <td>59.0</td>\n",
       "      <td>62.0</td>\n",
       "      <td>148.0</td>\n",
       "      <td>35.0</td>\n",
       "      <td>...</td>\n",
       "      <td>0.0</td>\n",
       "      <td>0.0</td>\n",
       "      <td>0.0</td>\n",
       "      <td>0.0</td>\n",
       "      <td>0.0</td>\n",
       "      <td>0.0</td>\n",
       "      <td>0.0</td>\n",
       "      <td>0.927698</td>\n",
       "      <td>0.930589</td>\n",
       "      <td>0.0</td>\n",
       "    </tr>\n",
       "    <tr>\n",
       "      <th>3</th>\n",
       "      <td>189312.0</td>\n",
       "      <td>1760.0</td>\n",
       "      <td>4.0</td>\n",
       "      <td>0.0</td>\n",
       "      <td>237.0</td>\n",
       "      <td>49.0</td>\n",
       "      <td>35.0</td>\n",
       "      <td>45.0</td>\n",
       "      <td>170.0</td>\n",
       "      <td>9.0</td>\n",
       "      <td>...</td>\n",
       "      <td>0.0</td>\n",
       "      <td>0.0</td>\n",
       "      <td>0.0</td>\n",
       "      <td>0.0</td>\n",
       "      <td>0.0</td>\n",
       "      <td>0.0</td>\n",
       "      <td>0.0</td>\n",
       "      <td>0.917096</td>\n",
       "      <td>0.922519</td>\n",
       "      <td>0.0</td>\n",
       "    </tr>\n",
       "    <tr>\n",
       "      <th>4</th>\n",
       "      <td>189312.0</td>\n",
       "      <td>2511.0</td>\n",
       "      <td>4.0</td>\n",
       "      <td>0.0</td>\n",
       "      <td>237.0</td>\n",
       "      <td>49.0</td>\n",
       "      <td>35.0</td>\n",
       "      <td>45.0</td>\n",
       "      <td>170.0</td>\n",
       "      <td>9.0</td>\n",
       "      <td>...</td>\n",
       "      <td>0.0</td>\n",
       "      <td>0.0</td>\n",
       "      <td>0.0</td>\n",
       "      <td>0.0</td>\n",
       "      <td>0.0</td>\n",
       "      <td>0.0</td>\n",
       "      <td>0.0</td>\n",
       "      <td>0.938043</td>\n",
       "      <td>0.936024</td>\n",
       "      <td>0.0</td>\n",
       "    </tr>\n",
       "  </tbody>\n",
       "</table>\n",
       "<p>5 rows × 231 columns</p>\n",
       "</div>"
      ],
      "text/plain": [
       "    user_id  merchant_id  age_range  gender  user_cnt  seller_nunique  \\\n",
       "0  105600.0       1487.0        6.0     1.0     310.0            96.0   \n",
       "1  110976.0        159.0        5.0     0.0     274.0           181.0   \n",
       "2  374400.0        302.0        5.0     1.0     278.0            57.0   \n",
       "3  189312.0       1760.0        4.0     0.0     237.0            49.0   \n",
       "4  189312.0       2511.0        4.0     0.0     237.0            49.0   \n",
       "\n",
       "   cat_nunique  brand_nunique  item_nunique  time_stamp_nunique  ...  \\\n",
       "0         37.0           88.0         217.0                29.0  ...   \n",
       "1         70.0          159.0         233.0                52.0  ...   \n",
       "2         59.0           62.0         148.0                35.0  ...   \n",
       "3         35.0           45.0         170.0                 9.0  ...   \n",
       "4         35.0           45.0         170.0                 9.0  ...   \n",
       "\n",
       "   embeeding_93  embeeding_94  embeeding_95  embeeding_96  embeeding_97  \\\n",
       "0           0.0           0.0           0.0           0.0           0.0   \n",
       "1           0.0           0.0           0.0           0.0           0.0   \n",
       "2           0.0           0.0           0.0           0.0           0.0   \n",
       "3           0.0           0.0           0.0           0.0           0.0   \n",
       "4           0.0           0.0           0.0           0.0           0.0   \n",
       "\n",
       "   embeeding_98  embeeding_99   lgb_clf   xgb_clf  label  \n",
       "0           0.0           0.0  0.933521  0.896583    0.0  \n",
       "1           0.0           0.0  0.945943  0.934458    0.0  \n",
       "2           0.0           0.0  0.927698  0.930589    0.0  \n",
       "3           0.0           0.0  0.917096  0.922519    0.0  \n",
       "4           0.0           0.0  0.938043  0.936024    0.0  \n",
       "\n",
       "[5 rows x 231 columns]"
      ]
     },
     "execution_count": 3,
     "metadata": {},
     "output_type": "execute_result"
    }
   ],
   "source": [
    "train_data.head()"
   ]
  },
  {
   "cell_type": "code",
   "execution_count": 4,
   "metadata": {},
   "outputs": [
    {
     "data": {
      "text/html": [
       "<div>\n",
       "<style scoped>\n",
       "    .dataframe tbody tr th:only-of-type {\n",
       "        vertical-align: middle;\n",
       "    }\n",
       "\n",
       "    .dataframe tbody tr th {\n",
       "        vertical-align: top;\n",
       "    }\n",
       "\n",
       "    .dataframe thead th {\n",
       "        text-align: right;\n",
       "    }\n",
       "</style>\n",
       "<table border=\"1\" class=\"dataframe\">\n",
       "  <thead>\n",
       "    <tr style=\"text-align: right;\">\n",
       "      <th></th>\n",
       "      <th>user_id</th>\n",
       "      <th>merchant_id</th>\n",
       "      <th>age_range</th>\n",
       "      <th>gender</th>\n",
       "      <th>user_cnt</th>\n",
       "      <th>seller_nunique</th>\n",
       "      <th>cat_nunique</th>\n",
       "      <th>brand_nunique</th>\n",
       "      <th>item_nunique</th>\n",
       "      <th>time_stamp_nunique</th>\n",
       "      <th>...</th>\n",
       "      <th>embeeding_92</th>\n",
       "      <th>embeeding_93</th>\n",
       "      <th>embeeding_94</th>\n",
       "      <th>embeeding_95</th>\n",
       "      <th>embeeding_96</th>\n",
       "      <th>embeeding_97</th>\n",
       "      <th>embeeding_98</th>\n",
       "      <th>embeeding_99</th>\n",
       "      <th>lgb_clf</th>\n",
       "      <th>xgb_clf</th>\n",
       "    </tr>\n",
       "  </thead>\n",
       "  <tbody>\n",
       "    <tr>\n",
       "      <th>0</th>\n",
       "      <td>105600.0</td>\n",
       "      <td>1487.0</td>\n",
       "      <td>6.0</td>\n",
       "      <td>1.0</td>\n",
       "      <td>310.0</td>\n",
       "      <td>96.0</td>\n",
       "      <td>37.0</td>\n",
       "      <td>88.0</td>\n",
       "      <td>217.0</td>\n",
       "      <td>29.0</td>\n",
       "      <td>...</td>\n",
       "      <td>0.0</td>\n",
       "      <td>0.0</td>\n",
       "      <td>0.0</td>\n",
       "      <td>0.0</td>\n",
       "      <td>0.0</td>\n",
       "      <td>0.0</td>\n",
       "      <td>0.0</td>\n",
       "      <td>0.0</td>\n",
       "      <td>0.931309</td>\n",
       "      <td>0.838208</td>\n",
       "    </tr>\n",
       "    <tr>\n",
       "      <th>1</th>\n",
       "      <td>110976.0</td>\n",
       "      <td>159.0</td>\n",
       "      <td>5.0</td>\n",
       "      <td>0.0</td>\n",
       "      <td>274.0</td>\n",
       "      <td>181.0</td>\n",
       "      <td>70.0</td>\n",
       "      <td>159.0</td>\n",
       "      <td>233.0</td>\n",
       "      <td>52.0</td>\n",
       "      <td>...</td>\n",
       "      <td>0.0</td>\n",
       "      <td>0.0</td>\n",
       "      <td>0.0</td>\n",
       "      <td>0.0</td>\n",
       "      <td>0.0</td>\n",
       "      <td>0.0</td>\n",
       "      <td>0.0</td>\n",
       "      <td>0.0</td>\n",
       "      <td>0.937711</td>\n",
       "      <td>0.940051</td>\n",
       "    </tr>\n",
       "    <tr>\n",
       "      <th>2</th>\n",
       "      <td>374400.0</td>\n",
       "      <td>302.0</td>\n",
       "      <td>5.0</td>\n",
       "      <td>1.0</td>\n",
       "      <td>278.0</td>\n",
       "      <td>57.0</td>\n",
       "      <td>59.0</td>\n",
       "      <td>62.0</td>\n",
       "      <td>148.0</td>\n",
       "      <td>35.0</td>\n",
       "      <td>...</td>\n",
       "      <td>0.0</td>\n",
       "      <td>0.0</td>\n",
       "      <td>0.0</td>\n",
       "      <td>0.0</td>\n",
       "      <td>0.0</td>\n",
       "      <td>0.0</td>\n",
       "      <td>0.0</td>\n",
       "      <td>0.0</td>\n",
       "      <td>0.934414</td>\n",
       "      <td>0.935365</td>\n",
       "    </tr>\n",
       "    <tr>\n",
       "      <th>3</th>\n",
       "      <td>189312.0</td>\n",
       "      <td>1760.0</td>\n",
       "      <td>4.0</td>\n",
       "      <td>0.0</td>\n",
       "      <td>237.0</td>\n",
       "      <td>49.0</td>\n",
       "      <td>35.0</td>\n",
       "      <td>45.0</td>\n",
       "      <td>170.0</td>\n",
       "      <td>9.0</td>\n",
       "      <td>...</td>\n",
       "      <td>0.0</td>\n",
       "      <td>0.0</td>\n",
       "      <td>0.0</td>\n",
       "      <td>0.0</td>\n",
       "      <td>0.0</td>\n",
       "      <td>0.0</td>\n",
       "      <td>0.0</td>\n",
       "      <td>0.0</td>\n",
       "      <td>0.931040</td>\n",
       "      <td>0.932673</td>\n",
       "    </tr>\n",
       "    <tr>\n",
       "      <th>4</th>\n",
       "      <td>189312.0</td>\n",
       "      <td>2511.0</td>\n",
       "      <td>4.0</td>\n",
       "      <td>0.0</td>\n",
       "      <td>237.0</td>\n",
       "      <td>49.0</td>\n",
       "      <td>35.0</td>\n",
       "      <td>45.0</td>\n",
       "      <td>170.0</td>\n",
       "      <td>9.0</td>\n",
       "      <td>...</td>\n",
       "      <td>0.0</td>\n",
       "      <td>0.0</td>\n",
       "      <td>0.0</td>\n",
       "      <td>0.0</td>\n",
       "      <td>0.0</td>\n",
       "      <td>0.0</td>\n",
       "      <td>0.0</td>\n",
       "      <td>0.0</td>\n",
       "      <td>0.929423</td>\n",
       "      <td>0.929092</td>\n",
       "    </tr>\n",
       "  </tbody>\n",
       "</table>\n",
       "<p>5 rows × 230 columns</p>\n",
       "</div>"
      ],
      "text/plain": [
       "    user_id  merchant_id  age_range  gender  user_cnt  seller_nunique  \\\n",
       "0  105600.0       1487.0        6.0     1.0     310.0            96.0   \n",
       "1  110976.0        159.0        5.0     0.0     274.0           181.0   \n",
       "2  374400.0        302.0        5.0     1.0     278.0            57.0   \n",
       "3  189312.0       1760.0        4.0     0.0     237.0            49.0   \n",
       "4  189312.0       2511.0        4.0     0.0     237.0            49.0   \n",
       "\n",
       "   cat_nunique  brand_nunique  item_nunique  time_stamp_nunique  ...  \\\n",
       "0         37.0           88.0         217.0                29.0  ...   \n",
       "1         70.0          159.0         233.0                52.0  ...   \n",
       "2         59.0           62.0         148.0                35.0  ...   \n",
       "3         35.0           45.0         170.0                 9.0  ...   \n",
       "4         35.0           45.0         170.0                 9.0  ...   \n",
       "\n",
       "   embeeding_92  embeeding_93  embeeding_94  embeeding_95  embeeding_96  \\\n",
       "0           0.0           0.0           0.0           0.0           0.0   \n",
       "1           0.0           0.0           0.0           0.0           0.0   \n",
       "2           0.0           0.0           0.0           0.0           0.0   \n",
       "3           0.0           0.0           0.0           0.0           0.0   \n",
       "4           0.0           0.0           0.0           0.0           0.0   \n",
       "\n",
       "   embeeding_97  embeeding_98  embeeding_99   lgb_clf   xgb_clf  \n",
       "0           0.0           0.0           0.0  0.931309  0.838208  \n",
       "1           0.0           0.0           0.0  0.937711  0.940051  \n",
       "2           0.0           0.0           0.0  0.934414  0.935365  \n",
       "3           0.0           0.0           0.0  0.931040  0.932673  \n",
       "4           0.0           0.0           0.0  0.929423  0.929092  \n",
       "\n",
       "[5 rows x 230 columns]"
      ]
     },
     "execution_count": 4,
     "metadata": {},
     "output_type": "execute_result"
    }
   ],
   "source": [
    "test_data.head()"
   ]
  },
  {
   "cell_type": "markdown",
   "metadata": {},
   "source": [
    "## 读取全部数据"
   ]
  },
  {
   "cell_type": "code",
   "execution_count": 5,
   "metadata": {},
   "outputs": [],
   "source": [
    "# train_data = pd.read_csv('train_all.csv',nrows=None)\n",
    "# test_data = pd.read_csv('test_all.csv',nrows=None)"
   ]
  },
  {
   "cell_type": "code",
   "execution_count": 6,
   "metadata": {},
   "outputs": [
    {
     "data": {
      "text/plain": [
       "Index(['user_id', 'merchant_id', 'age_range', 'gender', 'user_cnt',\n",
       "       'seller_nunique', 'cat_nunique', 'brand_nunique', 'item_nunique',\n",
       "       'time_stamp_nunique',\n",
       "       ...\n",
       "       'embeeding_93', 'embeeding_94', 'embeeding_95', 'embeeding_96',\n",
       "       'embeeding_97', 'embeeding_98', 'embeeding_99', 'lgb_clf', 'xgb_clf',\n",
       "       'label'],\n",
       "      dtype='object', length=231)"
      ]
     },
     "execution_count": 6,
     "metadata": {},
     "output_type": "execute_result"
    }
   ],
   "source": [
    "train_data.columns"
   ]
  },
  {
   "cell_type": "markdown",
   "metadata": {},
   "source": [
    "## 获取训练和测试数据"
   ]
  },
  {
   "cell_type": "code",
   "execution_count": 7,
   "metadata": {},
   "outputs": [],
   "source": [
    "features_columns = [col for col in train_data.columns if col not in ['user_id','label']]\n",
    "train = train_data[features_columns].values\n",
    "test = test_data[features_columns].values\n",
    "target =train_data['label'].values"
   ]
  },
  {
   "cell_type": "markdown",
   "metadata": {},
   "source": [
    "## 切分40%数据用于线下验证"
   ]
  },
  {
   "cell_type": "code",
   "execution_count": 8,
   "metadata": {},
   "outputs": [
    {
     "name": "stdout",
     "output_type": "stream",
     "text": [
      "(1200, 229) (1200,)\n",
      "(800, 229) (800,)\n"
     ]
    },
    {
     "data": {
      "text/plain": [
       "0.92875"
      ]
     },
     "execution_count": 8,
     "metadata": {},
     "output_type": "execute_result"
    }
   ],
   "source": [
    "from sklearn.model_selection import train_test_split\n",
    "from sklearn.ensemble import RandomForestClassifier\n",
    "\n",
    "clf = RandomForestClassifier(n_estimators=100, max_depth=2, random_state=0, n_jobs=-1)\n",
    "X_train, X_test, y_train, y_test = train_test_split(train, target, test_size=0.4, random_state=0)\n",
    "\n",
    "print(X_train.shape, y_train.shape)\n",
    "print(X_test.shape, y_test.shape)\n",
    "\n",
    "clf = clf.fit(X_train, y_train)\n",
    "clf.score(X_test, y_test)  "
   ]
  },
  {
   "cell_type": "markdown",
   "metadata": {},
   "source": [
    "## 交叉验证：评估估算器性能"
   ]
  },
  {
   "cell_type": "code",
   "execution_count": 9,
   "metadata": {},
   "outputs": [
    {
     "name": "stdout",
     "output_type": "stream",
     "text": [
      "[0.9325 0.9325 0.9325 0.9325 0.93  ]\n",
      "Accuracy: 0.93 (+/- 0.00)\n"
     ]
    }
   ],
   "source": [
    "from sklearn.model_selection import cross_val_score\n",
    "from sklearn.ensemble import RandomForestClassifier\n",
    "\n",
    "clf = RandomForestClassifier(n_estimators=100, max_depth=2, random_state=0, n_jobs=-1)\n",
    "scores = cross_val_score(clf, train, target, cv=5)\n",
    "print(scores)\n",
    "print(\"Accuracy: %0.2f (+/- %0.2f)\" % (scores.mean(), scores.std() * 2)) "
   ]
  },
  {
   "cell_type": "markdown",
   "metadata": {},
   "source": [
    "## F1验证"
   ]
  },
  {
   "cell_type": "code",
   "execution_count": 10,
   "metadata": {},
   "outputs": [
    {
     "name": "stdout",
     "output_type": "stream",
     "text": [
      "[0.48253558 0.48253558 0.48253558 0.48253558 0.48186528]\n",
      "F1: 0.48 (+/- 0.00)\n"
     ]
    }
   ],
   "source": [
    "from sklearn import metrics\n",
    "from sklearn.model_selection import cross_val_score\n",
    "from sklearn.ensemble import RandomForestClassifier\n",
    "\n",
    "clf = RandomForestClassifier(n_estimators=100, max_depth=2, random_state=0, n_jobs=-1)\n",
    "scores = cross_val_score(clf, train, target, cv=5, scoring='f1_macro')\n",
    "print(scores)  \n",
    "print(\"F1: %0.2f (+/- %0.2f)\" % (scores.mean(), scores.std() * 2))"
   ]
  },
  {
   "cell_type": "markdown",
   "metadata": {},
   "source": [
    "## ShuffleSplit切分数据"
   ]
  },
  {
   "cell_type": "code",
   "execution_count": 11,
   "metadata": {},
   "outputs": [
    {
     "data": {
      "text/plain": [
       "array([0.915     , 0.93      , 0.92166667, 0.935     , 0.93333333])"
      ]
     },
     "execution_count": 11,
     "metadata": {},
     "output_type": "execute_result"
    }
   ],
   "source": [
    "from sklearn.model_selection import ShuffleSplit\n",
    "from sklearn.model_selection import cross_val_score\n",
    "from sklearn.ensemble import RandomForestClassifier\n",
    "\n",
    "clf = RandomForestClassifier(n_estimators=100, max_depth=2, random_state=0, n_jobs=-1)\n",
    "cv = ShuffleSplit(n_splits=5, test_size=0.3, random_state=0)\n",
    "cross_val_score(clf, train, target, cv=cv)  "
   ]
  },
  {
   "cell_type": "code",
   "execution_count": null,
   "metadata": {},
   "outputs": [],
   "source": []
  },
  {
   "cell_type": "markdown",
   "metadata": {},
   "source": [
    "## 自己写交叉验证"
   ]
  },
  {
   "cell_type": "markdown",
   "metadata": {},
   "source": [
    "### KFlod切分数据"
   ]
  },
  {
   "cell_type": "code",
   "execution_count": 12,
   "metadata": {
    "scrolled": true
   },
   "outputs": [
    {
     "name": "stdout",
     "output_type": "stream",
     "text": [
      "0 0.93\n",
      "1 0.92\n",
      "2 0.94\n",
      "3 0.94\n",
      "4 0.93\n"
     ]
    }
   ],
   "source": [
    "import numpy as np\n",
    "from sklearn.model_selection import KFold\n",
    "from sklearn.ensemble import RandomForestClassifier\n",
    "\n",
    "clf = RandomForestClassifier(n_estimators=100, max_depth=2, random_state=0, n_jobs=-1)\n",
    "kf = KFold(n_splits=5)\n",
    "for k, (train_index, test_index) in enumerate(kf.split(train)):\n",
    "    X_train, X_test, y_train, y_test = train[train_index], train[test_index], target[train_index], target[test_index]\n",
    "    clf = clf.fit(X_train, y_train)\n",
    "    print(k, clf.score(X_test, y_test))"
   ]
  },
  {
   "cell_type": "code",
   "execution_count": null,
   "metadata": {},
   "outputs": [],
   "source": []
  },
  {
   "cell_type": "markdown",
   "metadata": {},
   "source": [
    "### StratifiedKFold切分数据(label均分)"
   ]
  },
  {
   "cell_type": "code",
   "execution_count": 13,
   "metadata": {},
   "outputs": [
    {
     "name": "stdout",
     "output_type": "stream",
     "text": [
      "0 0.9325\n",
      "1 0.9325\n",
      "2 0.9325\n",
      "3 0.9325\n",
      "4 0.93\n"
     ]
    }
   ],
   "source": [
    "from sklearn.model_selection import StratifiedKFold\n",
    "from sklearn.ensemble import RandomForestClassifier\n",
    "\n",
    "clf = RandomForestClassifier(n_estimators=100, max_depth=2, random_state=0, n_jobs=-1)\n",
    "skf = StratifiedKFold(n_splits=5)\n",
    "for k, (train_index, test_index) in enumerate(skf.split(train, target)):\n",
    "    X_train, X_test, y_train, y_test = train[train_index], train[test_index], target[train_index], target[test_index]\n",
    "    clf = clf.fit(X_train, y_train)\n",
    "    print(k, clf.score(X_test, y_test))"
   ]
  },
  {
   "cell_type": "code",
   "execution_count": null,
   "metadata": {},
   "outputs": [],
   "source": []
  },
  {
   "cell_type": "markdown",
   "metadata": {},
   "source": [
    "## 模型调参"
   ]
  },
  {
   "cell_type": "code",
   "execution_count": 14,
   "metadata": {},
   "outputs": [
    {
     "name": "stdout",
     "output_type": "stream",
     "text": [
      "# Tuning hyper-parameters for precision\n",
      "\n"
     ]
    },
    {
     "name": "stdout",
     "output_type": "stream",
     "text": [
      "Best parameters set found on development set:\n",
      "\n",
      "{'n_estimators': 50}\n",
      "\n",
      "Grid scores on development set:\n",
      "\n",
      "0.466 (+/-0.002) for {'n_estimators': 50}\n",
      "0.466 (+/-0.003) for {'n_estimators': 100}\n",
      "0.466 (+/-0.003) for {'n_estimators': 200}\n",
      "\n",
      "Detailed classification report:\n",
      "\n",
      "The model is trained on the full development set.\n",
      "The scores are computed on the full evaluation set.\n",
      "\n",
      "              precision    recall  f1-score   support\n",
      "\n",
      "         0.0       0.93      0.99      0.96       932\n",
      "         1.0       0.00      0.00      0.00        68\n",
      "\n",
      "    accuracy                           0.93      1000\n",
      "   macro avg       0.47      0.50      0.48      1000\n",
      "weighted avg       0.87      0.93      0.90      1000\n",
      "\n",
      "\n"
     ]
    }
   ],
   "source": [
    "from sklearn.model_selection import train_test_split\n",
    "from sklearn.model_selection import GridSearchCV\n",
    "from sklearn.metrics import classification_report\n",
    "from sklearn.ensemble import RandomForestClassifier\n",
    "\n",
    "\n",
    "# Split the dataset in two equal parts\n",
    "X_train, X_test, y_train, y_test = train_test_split(train, target, test_size=0.5, random_state=0)\n",
    "\n",
    "# model \n",
    "clf = RandomForestClassifier(n_jobs=-1)\n",
    "\n",
    "# Set the parameters by cross-validation\n",
    "\n",
    "tuned_parameters = {\n",
    "                    'n_estimators': [50, 100, 200]\n",
    "#                     ,'criterion': ['gini', 'entropy']\n",
    "#                     ,'max_depth': [2, 5]\n",
    "#                     ,'max_features': ['log2', 'sqrt', 'int']\n",
    "#                     ,'bootstrap': [True, False]\n",
    "#                     ,'warm_start': [True, False]\n",
    "                    }\n",
    "\n",
    "scores = ['precision']\n",
    "\n",
    "for score in scores:\n",
    "    print(\"# Tuning hyper-parameters for %s\" % score)\n",
    "    print()\n",
    "\n",
    "    clf = GridSearchCV(clf, tuned_parameters, cv=5,\n",
    "                       scoring='%s_macro' % score)\n",
    "    clf.fit(X_train, y_train)\n",
    "\n",
    "    print(\"Best parameters set found on development set:\")\n",
    "    print()\n",
    "    print(clf.best_params_)\n",
    "    print()\n",
    "    print(\"Grid scores on development set:\")\n",
    "    print()\n",
    "    means = clf.cv_results_['mean_test_score']\n",
    "    stds = clf.cv_results_['std_test_score']\n",
    "    for mean, std, params in zip(means, stds, clf.cv_results_['params']):\n",
    "        print(\"%0.3f (+/-%0.03f) for %r\"\n",
    "              % (mean, std * 2, params))\n",
    "    print()\n",
    "\n",
    "    print(\"Detailed classification report:\")\n",
    "    print()\n",
    "    print(\"The model is trained on the full development set.\")\n",
    "    print(\"The scores are computed on the full evaluation set.\")\n",
    "    print()\n",
    "    y_true, y_pred = y_test, clf.predict(X_test)\n",
    "    print(classification_report(y_true, y_pred))\n",
    "    print()"
   ]
  },
  {
   "cell_type": "code",
   "execution_count": null,
   "metadata": {},
   "outputs": [],
   "source": []
  },
  {
   "cell_type": "markdown",
   "metadata": {},
   "source": [
    "## 模糊矩阵"
   ]
  },
  {
   "cell_type": "code",
   "execution_count": 15,
   "metadata": {},
   "outputs": [
    {
     "name": "stdout",
     "output_type": "stream",
     "text": [
      "Confusion matrix, without normalization\n",
      "[[456   3]\n",
      " [ 40   1]]\n",
      "Normalized confusion matrix\n",
      "[[0.99 0.01]\n",
      " [0.98 0.02]]\n"
     ]
    },
    {
     "data": {
      "image/png": "[encoded data removed]",
      "text/plain": [
       "<Figure size 640x480 with 2 Axes>"
      ]
     },
     "metadata": {},
     "output_type": "display_data"
    },
    {
     "data": {
      "image/png": "[encoded data removed]",
      "text/plain": [
       "<Figure size 640x480 with 2 Axes>"
      ]
     },
     "metadata": {},
     "output_type": "display_data"
    }
   ],
   "source": [
    "import itertools\n",
    "import numpy as np\n",
    "import matplotlib.pyplot as plt\n",
    "\n",
    "from sklearn.model_selection import train_test_split\n",
    "from sklearn.metrics import confusion_matrix\n",
    "from sklearn.ensemble import RandomForestClassifier\n",
    "\n",
    "# label name\n",
    "class_names = ['no-repeat', 'repeat']\n",
    "\n",
    "# Split the data into a training set and a test set\n",
    "X_train, X_test, y_train, y_test = train_test_split(train, target, random_state=0)\n",
    "\n",
    "# Run classifier, using a model that is too regularized (C too low) to see\n",
    "# the impact on the results\n",
    "clf = RandomForestClassifier(n_jobs=-1)\n",
    "y_pred = clf.fit(X_train, y_train).predict(X_test)\n",
    "\n",
    "\n",
    "def plot_confusion_matrix(cm, classes,\n",
    "                          normalize=False,\n",
    "                          title='Confusion matrix',\n",
    "                          cmap=plt.cm.Blues):\n",
    "    \"\"\"\n",
    "    This function prints and plots the confusion matrix.\n",
    "    Normalization can be applied by setting `normalize=True`.\n",
    "    \"\"\"\n",
    "    if normalize:\n",
    "        cm = cm.astype('float') / cm.sum(axis=1)[:, np.newaxis]\n",
    "        print(\"Normalized confusion matrix\")\n",
    "    else:\n",
    "        print('Confusion matrix, without normalization')\n",
    "\n",
    "    print(cm)\n",
    "\n",
    "    plt.imshow(cm, interpolation='nearest', cmap=cmap)\n",
    "    plt.title(title)\n",
    "    plt.colorbar()\n",
    "    tick_marks = np.arange(len(classes))\n",
    "    plt.xticks(tick_marks, classes, rotation=45)\n",
    "    plt.yticks(tick_marks, classes)\n",
    "\n",
    "    fmt = '.2f' if normalize else 'd'\n",
    "    thresh = cm.max() / 2.\n",
    "    for i, j in itertools.product(range(cm.shape[0]), range(cm.shape[1])):\n",
    "        plt.text(j, i, format(cm[i, j], fmt),\n",
    "                 horizontalalignment=\"center\",\n",
    "                 color=\"white\" if cm[i, j] > thresh else \"black\")\n",
    "\n",
    "    plt.ylabel('True label')\n",
    "    plt.xlabel('Predicted label')\n",
    "    plt.tight_layout()\n",
    "\n",
    "\n",
    "# Compute confusion matrix\n",
    "cnf_matrix = confusion_matrix(y_test, y_pred)\n",
    "np.set_printoptions(precision=2)\n",
    "\n",
    "# Plot non-normalized confusion matrix\n",
    "plt.figure()\n",
    "plot_confusion_matrix(cnf_matrix, classes=class_names,\n",
    "                      title='Confusion matrix, without normalization')\n",
    "\n",
    "# Plot normalized confusion matrix\n",
    "plt.figure()\n",
    "plot_confusion_matrix(cnf_matrix, classes=class_names, normalize=True,\n",
    "                      title='Normalized confusion matrix')\n",
    "\n",
    "plt.show()"
   ]
  },
  {
   "cell_type": "code",
   "execution_count": 16,
   "metadata": {},
   "outputs": [
    {
     "name": "stdout",
     "output_type": "stream",
     "text": [
      "              precision    recall  f1-score   support\n",
      "\n",
      "   no-repeat       0.92      0.99      0.95       459\n",
      "      repeat       0.25      0.02      0.04        41\n",
      "\n",
      "    accuracy                           0.91       500\n",
      "   macro avg       0.58      0.51      0.50       500\n",
      "weighted avg       0.86      0.91      0.88       500\n",
      "\n"
     ]
    }
   ],
   "source": [
    "from sklearn.metrics import classification_report\n",
    "from sklearn.ensemble import RandomForestClassifier\n",
    "\n",
    "# label name\n",
    "class_names = ['no-repeat', 'repeat']\n",
    "\n",
    "# Split the data into a training set and a test set\n",
    "X_train, X_test, y_train, y_test = train_test_split(train, target, random_state=0)\n",
    "\n",
    "# Run classifier, using a model that is too regularized (C too low) to see\n",
    "# the impact on the results\n",
    "clf = RandomForestClassifier(n_jobs=-1)\n",
    "y_pred = clf.fit(X_train, y_train).predict(X_test)\n",
    "\n",
    "print(classification_report(y_test, y_pred, target_names=class_names))"
   ]
  },
  {
   "cell_type": "markdown",
   "metadata": {},
   "source": [
    "## 不同的分类模型"
   ]
  },
  {
   "cell_type": "markdown",
   "metadata": {},
   "source": [
    "### LR 模型"
   ]
  },
  {
   "cell_type": "code",
   "execution_count": 17,
   "metadata": {},
   "outputs": [],
   "source": [
    "from sklearn.linear_model import LinearRegression"
   ]
  },
  {
   "cell_type": "code",
   "execution_count": 18,
   "metadata": {},
   "outputs": [
    {
     "data": {
      "text/plain": [
       "0.918"
      ]
     },
     "execution_count": 18,
     "metadata": {},
     "output_type": "execute_result"
    }
   ],
   "source": [
    "from sklearn.linear_model import LogisticRegression\n",
    "from sklearn.preprocessing import StandardScaler\n",
    "\n",
    "stdScaler = StandardScaler()\n",
    "X = stdScaler.fit_transform(train)\n",
    "\n",
    "# Split the data into a training set and a test set\n",
    "X_train, X_test, y_train, y_test = train_test_split(X, target, random_state=0)\n",
    "\n",
    "clf = LogisticRegression(random_state=0, solver='lbfgs', multi_class='multinomial').fit(X_train, y_train)\n",
    "clf.score(X_test, y_test)"
   ]
  },
  {
   "cell_type": "code",
   "execution_count": null,
   "metadata": {},
   "outputs": [],
   "source": []
  },
  {
   "cell_type": "markdown",
   "metadata": {},
   "source": [
    "### KNN 模型"
   ]
  },
  {
   "cell_type": "code",
   "execution_count": 19,
   "metadata": {},
   "outputs": [
    {
     "data": {
      "text/plain": [
       "0.906"
      ]
     },
     "execution_count": 19,
     "metadata": {},
     "output_type": "execute_result"
    }
   ],
   "source": [
    "from sklearn.neighbors import KNeighborsClassifier\n",
    "from sklearn.preprocessing import StandardScaler\n",
    "\n",
    "stdScaler = StandardScaler()\n",
    "X = stdScaler.fit_transform(train)\n",
    "\n",
    "# Split the data into a training set and a test set\n",
    "X_train, X_test, y_train, y_test = train_test_split(X, target, random_state=0)\n",
    "\n",
    "clf = KNeighborsClassifier(n_neighbors=3).fit(X_train, y_train)\n",
    "clf.score(X_test, y_test)"
   ]
  },
  {
   "cell_type": "code",
   "execution_count": 20,
   "metadata": {},
   "outputs": [],
   "source": [
    "# clf.predict(X_test)"
   ]
  },
  {
   "cell_type": "code",
   "execution_count": 21,
   "metadata": {},
   "outputs": [],
   "source": [
    "# clf.predict_proba(X_test)"
   ]
  },
  {
   "cell_type": "code",
   "execution_count": null,
   "metadata": {},
   "outputs": [],
   "source": []
  },
  {
   "cell_type": "markdown",
   "metadata": {},
   "source": [
    "## GaussianNB 模型"
   ]
  },
  {
   "cell_type": "code",
   "execution_count": 22,
   "metadata": {},
   "outputs": [
    {
     "data": {
      "text/plain": [
       "0.504"
      ]
     },
     "execution_count": 22,
     "metadata": {},
     "output_type": "execute_result"
    }
   ],
   "source": [
    "from sklearn.naive_bayes import GaussianNB\n",
    "from sklearn.preprocessing import StandardScaler\n",
    "\n",
    "stdScaler = StandardScaler()\n",
    "X = stdScaler.fit_transform(train)\n",
    "\n",
    "# Split the data into a training set and a test set\n",
    "X_train, X_test, y_train, y_test = train_test_split(X, target, random_state=0)\n",
    "\n",
    "clf = GaussianNB().fit(X_train, y_train)\n",
    "clf.score(X_test, y_test)"
   ]
  },
  {
   "cell_type": "markdown",
   "metadata": {},
   "source": [
    "## tree树模型"
   ]
  },
  {
   "cell_type": "code",
   "execution_count": 23,
   "metadata": {},
   "outputs": [
    {
     "data": {
      "text/plain": [
       "0.866"
      ]
     },
     "execution_count": 23,
     "metadata": {},
     "output_type": "execute_result"
    }
   ],
   "source": [
    "from sklearn import tree\n",
    "\n",
    "# Split the data into a training set and a test set\n",
    "X_train, X_test, y_train, y_test = train_test_split(train, target, random_state=0)\n",
    "\n",
    "clf = tree.DecisionTreeClassifier()\n",
    "clf = clf.fit(X_train, y_train)\n",
    "clf.score(X_test, y_test)"
   ]
  },
  {
   "cell_type": "code",
   "execution_count": null,
   "metadata": {},
   "outputs": [],
   "source": []
  },
  {
   "cell_type": "markdown",
   "metadata": {},
   "source": [
    "## bagging模型"
   ]
  },
  {
   "cell_type": "code",
   "execution_count": 24,
   "metadata": {},
   "outputs": [
    {
     "data": {
      "text/plain": [
       "0.918"
      ]
     },
     "execution_count": 24,
     "metadata": {},
     "output_type": "execute_result"
    }
   ],
   "source": [
    "from sklearn.ensemble import BaggingClassifier\n",
    "from sklearn.neighbors import KNeighborsClassifier\n",
    "\n",
    "# Split the data into a training set and a test set\n",
    "X_train, X_test, y_train, y_test = train_test_split(train, target, random_state=0)\n",
    "clf = BaggingClassifier(KNeighborsClassifier(), max_samples=0.5, max_features=0.5)\n",
    "\n",
    "clf = clf.fit(X_train, y_train)\n",
    "clf.score(X_test, y_test)"
   ]
  },
  {
   "cell_type": "code",
   "execution_count": null,
   "metadata": {},
   "outputs": [],
   "source": []
  },
  {
   "cell_type": "markdown",
   "metadata": {},
   "source": [
    "## 随机森林模型"
   ]
  },
  {
   "cell_type": "code",
   "execution_count": 25,
   "metadata": {},
   "outputs": [
    {
     "data": {
      "text/plain": [
       "0.918"
      ]
     },
     "execution_count": 25,
     "metadata": {},
     "output_type": "execute_result"
    }
   ],
   "source": [
    "from sklearn.ensemble import RandomForestClassifier\n",
    "\n",
    "# Split the data into a training set and a test set\n",
    "X_train, X_test, y_train, y_test = train_test_split(train, target, random_state=0)\n",
    "clf = clf = RandomForestClassifier(n_estimators=10, max_depth=3, min_samples_split=12, random_state=0)\n",
    "\n",
    "clf = clf.fit(X_train, y_train)\n",
    "clf.score(X_test, y_test)"
   ]
  },
  {
   "cell_type": "code",
   "execution_count": null,
   "metadata": {},
   "outputs": [],
   "source": []
  },
  {
   "cell_type": "markdown",
   "metadata": {},
   "source": [
    "## ExTree模型"
   ]
  },
  {
   "cell_type": "code",
   "execution_count": 26,
   "metadata": {},
   "outputs": [
    {
     "data": {
      "text/plain": [
       "0.908"
      ]
     },
     "execution_count": 26,
     "metadata": {},
     "output_type": "execute_result"
    }
   ],
   "source": [
    "from sklearn.ensemble import ExtraTreesClassifier\n",
    "\n",
    "# Split the data into a training set and a test set\n",
    "X_train, X_test, y_train, y_test = train_test_split(train, target, random_state=0)\n",
    "clf = ExtraTreesClassifier(n_estimators=10, max_depth=None, min_samples_split=2, random_state=0)\n",
    "\n",
    "clf = clf.fit(X_train, y_train)\n",
    "clf.score(X_test, y_test)"
   ]
  },
  {
   "cell_type": "code",
   "execution_count": 27,
   "metadata": {},
   "outputs": [
    {
     "data": {
      "text/plain": [
       "229"
      ]
     },
     "execution_count": 27,
     "metadata": {},
     "output_type": "execute_result"
    }
   ],
   "source": [
    "clf.n_features_"
   ]
  },
  {
   "cell_type": "code",
   "execution_count": 28,
   "metadata": {},
   "outputs": [
    {
     "data": {
      "text/plain": [
       "array([0.07, 0.02, 0.02, 0.02, 0.02, 0.02, 0.01, 0.01, 0.02, 0.01])"
      ]
     },
     "execution_count": 28,
     "metadata": {},
     "output_type": "execute_result"
    }
   ],
   "source": [
    "clf.feature_importances_[:10]"
   ]
  },
  {
   "cell_type": "code",
   "execution_count": null,
   "metadata": {},
   "outputs": [],
   "source": []
  },
  {
   "cell_type": "markdown",
   "metadata": {},
   "source": [
    "## AdaBoost模型"
   ]
  },
  {
   "cell_type": "code",
   "execution_count": 29,
   "metadata": {},
   "outputs": [
    {
     "data": {
      "text/plain": [
       "0.918"
      ]
     },
     "execution_count": 29,
     "metadata": {},
     "output_type": "execute_result"
    }
   ],
   "source": [
    "from sklearn.ensemble import AdaBoostClassifier\n",
    "\n",
    "# Split the data into a training set and a test set\n",
    "X_train, X_test, y_train, y_test = train_test_split(train, target, random_state=0)\n",
    "clf = AdaBoostClassifier(n_estimators=10)\n",
    "\n",
    "clf = clf.fit(X_train, y_train)\n",
    "clf.score(X_test, y_test)"
   ]
  },
  {
   "cell_type": "markdown",
   "metadata": {},
   "source": [
    "## GBDT模型"
   ]
  },
  {
   "cell_type": "code",
   "execution_count": 30,
   "metadata": {},
   "outputs": [
    {
     "data": {
      "text/plain": [
       "0.912"
      ]
     },
     "execution_count": 30,
     "metadata": {},
     "output_type": "execute_result"
    }
   ],
   "source": [
    "from sklearn.ensemble import GradientBoostingClassifier\n",
    "\n",
    "# Split the data into a training set and a test set\n",
    "X_train, X_test, y_train, y_test = train_test_split(train, target, random_state=0)\n",
    "clf = GradientBoostingClassifier(n_estimators=10, learning_rate=1.0, max_depth=1, random_state=0)\n",
    "\n",
    "clf = clf.fit(X_train, y_train)\n",
    "clf.score(X_test, y_test)"
   ]
  },
  {
   "cell_type": "markdown",
   "metadata": {},
   "source": [
    "## VOTE模型投票"
   ]
  },
  {
   "cell_type": "code",
   "execution_count": 31,
   "metadata": {},
   "outputs": [
    {
     "name": "stdout",
     "output_type": "stream",
     "text": [
      "Accuracy: 0.92 (+/- 0.01) [Logistic Regression]\n"
     ]
    },
    {
     "name": "stdout",
     "output_type": "stream",
     "text": [
      "Accuracy: 0.93 (+/- 0.00) [Random Forest]\n",
      "Accuracy: 0.49 (+/- 0.03) [naive Bayes]\n",
      "Accuracy: 0.92 (+/- 0.01) [Ensemble]\n"
     ]
    }
   ],
   "source": [
    "from sklearn import datasets\n",
    "from sklearn.model_selection import cross_val_score\n",
    "from sklearn.linear_model import LogisticRegression\n",
    "from sklearn.naive_bayes import GaussianNB\n",
    "from sklearn.ensemble import RandomForestClassifier\n",
    "from sklearn.ensemble import VotingClassifier\n",
    "from sklearn.preprocessing import StandardScaler\n",
    "\n",
    "stdScaler = StandardScaler()\n",
    "X = stdScaler.fit_transform(train)\n",
    "y = target\n",
    "\n",
    "\n",
    "clf1 = LogisticRegression(solver='lbfgs', multi_class='multinomial', random_state=1)\n",
    "clf2 = RandomForestClassifier(n_estimators=50, random_state=1)\n",
    "clf3 = GaussianNB()\n",
    "\n",
    "eclf = VotingClassifier(estimators=[('lr', clf1), ('rf', clf2), ('gnb', clf3)], voting='hard')\n",
    "\n",
    "for clf, label in zip([clf1, clf2, clf3, eclf], ['Logistic Regression', 'Random Forest', 'naive Bayes', 'Ensemble']):\n",
    "    scores = cross_val_score(clf, X, y, cv=5, scoring='accuracy')\n",
    "    print(\"Accuracy: %0.2f (+/- %0.2f) [%s]\" % (scores.mean(), scores.std(), label))"
   ]
  },
  {
   "cell_type": "markdown",
   "metadata": {},
   "source": [
    "## lgb 模型"
   ]
  },
  {
   "cell_type": "code",
   "execution_count": 33,
   "metadata": {},
   "outputs": [
    {
     "name": "stdout",
     "output_type": "stream",
     "text": [
      "[LightGBM] [Warning] Unknown parameter: colsample_bylevel\n",
      "[LightGBM] [Warning] Unknown parameter: tree_method\n",
      "[LightGBM] [Warning] Unknown parameter: silent\n",
      "[LightGBM] [Warning] Unknown parameter: colsample_bylevel\n",
      "[LightGBM] [Warning] Unknown parameter: tree_method\n",
      "[LightGBM] [Warning] Unknown parameter: silent\n",
      "[LightGBM] [Info] Auto-choosing col-wise multi-threading, the overhead of testing was 0.001559 seconds.\n",
      "You can set `force_col_wise=true` to remove the overhead.\n",
      "[LightGBM] [Info] Total Bins 6627\n",
      "[LightGBM] [Info] Number of data points in the train set: 1200, number of used features: 124\n",
      "[LightGBM] [Warning] Unknown parameter: colsample_bylevel\n",
      "[LightGBM] [Warning] Unknown parameter: tree_method\n",
      "[LightGBM] [Warning] Unknown parameter: silent\n",
      "[LightGBM] [Info] Start training from score -0.068100\n",
      "[LightGBM] [Info] Start training from score -2.720629\n",
      "[LightGBM] [Warning] No further splits with positive gain, best gain: -inf\n",
      "[LightGBM] [Warning] No further splits with positive gain, best gain: -inf\n",
      "Training until validation scores don't improve for 100 rounds\n",
      "[LightGBM] [Warning] No further splits with positive gain, best gain: -inf\n",
      "[LightGBM] [Warning] No further splits with positive gain, best gain: -inf\n",
      "[LightGBM] [Warning] No further splits with positive gain, best gain: -inf\n",
      "[LightGBM] [Warning] No further splits with positive gain, best gain: -inf\n",
      "[LightGBM] [Warning] No further splits with positive gain, best gain: -inf\n",
      "[LightGBM] [Warning] No further splits with positive gain, best gain: -inf\n",
      "[LightGBM] [Warning] No further splits with positive gain, best gain: -inf\n",
      "[LightGBM] [Warning] No further splits with positive gain, best gain: -inf\n",
      "[LightGBM] [Warning] No further splits with positive gain, best gain: -inf\n",
      "[LightGBM] [Warning] No further splits with positive gain, best gain: -inf\n",
      "[LightGBM] [Warning] No further splits with positive gain, best gain: -inf\n",
      "[LightGBM] [Warning] No further splits with positive gain, best gain: -inf\n",
      "[LightGBM] [Warning] No further splits with positive gain, best gain: -inf\n",
      "[LightGBM] [Warning] No further splits with positive gain, best gain: -inf\n",
      "[LightGBM] [Warning] No further splits with positive gain, best gain: -inf\n",
      "[LightGBM] [Warning] No further splits with positive gain, best gain: -inf\n",
      "[LightGBM] [Warning] No further splits with positive gain, best gain: -inf\n",
      "[LightGBM] [Warning] No further splits with positive gain, best gain: -inf\n",
      "[LightGBM] [Warning] No further splits with positive gain, best gain: -inf\n",
      "[LightGBM] [Warning] No further splits with positive gain, best gain: -inf\n",
      "[LightGBM] [Warning] No further splits with positive gain, best gain: -inf\n",
      "[LightGBM] [Warning] No further splits with positive gain, best gain: -inf\n",
      "[LightGBM] [Warning] No further splits with positive gain, best gain: -inf\n",
      "[LightGBM] [Warning] No further splits with positive gain, best gain: -inf\n",
      "[LightGBM] [Warning] No further splits with positive gain, best gain: -inf\n",
      "[LightGBM] [Warning] No further splits with positive gain, best gain: -inf\n",
      "[LightGBM] [Warning] No further splits with positive gain, best gain: -inf\n",
      "[LightGBM] [Warning] No further splits with positive gain, best gain: -inf\n",
      "[LightGBM] [Warning] No further splits with positive gain, best gain: -inf\n",
      "[LightGBM] [Warning] No further splits with positive gain, best gain: -inf\n",
      "[LightGBM] [Warning] No further splits with positive gain, best gain: -inf\n",
      "[LightGBM] [Warning] No further splits with positive gain, best gain: -inf\n",
      "[LightGBM] [Warning] No further splits with positive gain, best gain: -inf\n",
      "[LightGBM] [Warning] No further splits with positive gain, best gain: -inf\n",
      "[LightGBM] [Warning] No further splits with positive gain, best gain: -inf\n",
      "[LightGBM] [Warning] No further splits with positive gain, best gain: -inf\n",
      "[LightGBM] [Warning] No further splits with positive gain, best gain: -inf\n",
      "[LightGBM] [Warning] No further splits with positive gain, best gain: -inf\n",
      "[LightGBM] [Warning] No further splits with positive gain, best gain: -inf\n",
      "[LightGBM] [Warning] No further splits with positive gain, best gain: -inf\n",
      "[LightGBM] [Warning] No further splits with positive gain, best gain: -inf\n",
      "[LightGBM] [Warning] No further splits with positive gain, best gain: -inf\n",
      "[LightGBM] [Warning] No further splits with positive gain, best gain: -inf\n",
      "[LightGBM] [Warning] No further splits with positive gain, best gain: -inf\n",
      "[LightGBM] [Warning] No further splits with positive gain, best gain: -inf\n",
      "[LightGBM] [Warning] No further splits with positive gain, best gain: -inf\n",
      "[LightGBM] [Warning] No further splits with positive gain, best gain: -inf\n",
      "[LightGBM] [Warning] No further splits with positive gain, best gain: -inf\n",
      "[LightGBM] [Warning] No further splits with positive gain, best gain: -inf\n",
      "[LightGBM] [Warning] No further splits with positive gain, best gain: -inf\n",
      "[LightGBM] [Warning] No further splits with positive gain, best gain: -inf\n",
      "[LightGBM] [Warning] No further splits with positive gain, best gain: -inf\n",
      "[LightGBM] [Warning] No further splits with positive gain, best gain: -inf\n",
      "[LightGBM] [Warning] No further splits with positive gain, best gain: -inf\n",
      "[LightGBM] [Warning] No further splits with positive gain, best gain: -inf\n",
      "[LightGBM] [Warning] No further splits with positive gain, best gain: -inf\n",
      "[LightGBM] [Warning] No further splits with positive gain, best gain: -inf\n",
      "[LightGBM] [Warning] No further splits with positive gain, best gain: -inf\n",
      "[LightGBM] [Warning] No further splits with positive gain, best gain: -inf\n",
      "[LightGBM] [Warning] No further splits with positive gain, best gain: -inf\n",
      "[LightGBM] [Warning] No further splits with positive gain, best gain: -inf\n",
      "[LightGBM] [Warning] No further splits with positive gain, best gain: -inf\n",
      "[LightGBM] [Warning] No further splits with positive gain, best gain: -inf\n",
      "[LightGBM] [Warning] No further splits with positive gain, best gain: -inf\n",
      "[LightGBM] [Warning] No further splits with positive gain, best gain: -inf\n",
      "[LightGBM] [Warning] No further splits with positive gain, best gain: -inf\n",
      "[LightGBM] [Warning] No further splits with positive gain, best gain: -inf\n",
      "[LightGBM] [Warning] No further splits with positive gain, best gain: -inf\n",
      "[LightGBM] [Warning] No further splits with positive gain, best gain: -inf\n",
      "[LightGBM] [Warning] No further splits with positive gain, best gain: -inf\n",
      "[LightGBM] [Warning] No further splits with positive gain, best gain: -inf\n",
      "[LightGBM] [Warning] No further splits with positive gain, best gain: -inf\n",
      "[LightGBM] [Warning] No further splits with positive gain, best gain: -inf\n",
      "[LightGBM] [Warning] No further splits with positive gain, best gain: -inf\n",
      "[LightGBM] [Warning] No further splits with positive gain, best gain: -inf\n",
      "[LightGBM] [Warning] No further splits with positive gain, best gain: -inf\n",
      "[LightGBM] [Warning] No further splits with positive gain, best gain: -inf\n",
      "[LightGBM] [Warning] No further splits with positive gain, best gain: -inf\n",
      "[LightGBM] [Warning] No further splits with positive gain, best gain: -inf\n",
      "[LightGBM] [Warning] No further splits with positive gain, best gain: -inf\n",
      "[LightGBM] [Warning] No further splits with positive gain, best gain: -inf\n",
      "[LightGBM] [Warning] No further splits with positive gain, best gain: -inf\n",
      "[LightGBM] [Warning] No further splits with positive gain, best gain: -inf\n",
      "[LightGBM] [Warning] No further splits with positive gain, best gain: -inf\n",
      "[LightGBM] [Warning] No further splits with positive gain, best gain: -inf\n",
      "[LightGBM] [Warning] No further splits with positive gain, best gain: -inf\n",
      "[LightGBM] [Warning] No further splits with positive gain, best gain: -inf\n",
      "[LightGBM] [Warning] No further splits with positive gain, best gain: -inf\n",
      "[LightGBM] [Warning] No further splits with positive gain, best gain: -inf\n",
      "[LightGBM] [Warning] No further splits with positive gain, best gain: -inf\n",
      "[LightGBM] [Warning] No further splits with positive gain, best gain: -inf\n",
      "[LightGBM] [Warning] No further splits with positive gain, best gain: -inf\n",
      "[LightGBM] [Warning] No further splits with positive gain, best gain: -inf\n",
      "[LightGBM] [Warning] No further splits with positive gain, best gain: -inf\n",
      "[LightGBM] [Warning] No further splits with positive gain, best gain: -inf\n",
      "[LightGBM] [Warning] No further splits with positive gain, best gain: -inf\n",
      "[LightGBM] [Warning] No further splits with positive gain, best gain: -inf\n",
      "[LightGBM] [Warning] No further splits with positive gain, best gain: -inf\n",
      "[LightGBM] [Warning] No further splits with positive gain, best gain: -inf\n",
      "[LightGBM] [Warning] No further splits with positive gain, best gain: -inf\n",
      "[LightGBM] [Warning] No further splits with positive gain, best gain: -inf\n",
      "[LightGBM] [Warning] No further splits with positive gain, best gain: -inf\n",
      "[LightGBM] [Warning] No further splits with positive gain, best gain: -inf\n",
      "[LightGBM] [Warning] No further splits with positive gain, best gain: -inf\n",
      "[LightGBM] [Warning] No further splits with positive gain, best gain: -inf\n",
      "[LightGBM] [Warning] No further splits with positive gain, best gain: -inf\n",
      "[LightGBM] [Warning] No further splits with positive gain, best gain: -inf\n",
      "[LightGBM] [Warning] No further splits with positive gain, best gain: -inf\n",
      "[LightGBM] [Warning] No further splits with positive gain, best gain: -inf\n",
      "[LightGBM] [Warning] No further splits with positive gain, best gain: -inf\n",
      "[LightGBM] [Warning] No further splits with positive gain, best gain: -inf\n",
      "[LightGBM] [Warning] No further splits with positive gain, best gain: -inf\n",
      "[LightGBM] [Warning] No further splits with positive gain, best gain: -inf\n",
      "[LightGBM] [Warning] No further splits with positive gain, best gain: -inf\n",
      "[LightGBM] [Warning] No further splits with positive gain, best gain: -inf\n",
      "[LightGBM] [Warning] No further splits with positive gain, best gain: -inf\n",
      "[LightGBM] [Warning] No further splits with positive gain, best gain: -inf\n",
      "[LightGBM] [Warning] No further splits with positive gain, best gain: -inf\n",
      "[LightGBM] [Warning] No further splits with positive gain, best gain: -inf\n",
      "[LightGBM] [Warning] No further splits with positive gain, best gain: -inf\n",
      "[LightGBM] [Warning] No further splits with positive gain, best gain: -inf\n",
      "[LightGBM] [Warning] No further splits with positive gain, best gain: -inf\n",
      "[LightGBM] [Warning] No further splits with positive gain, best gain: -inf\n",
      "[LightGBM] [Warning] No further splits with positive gain, best gain: -inf\n",
      "[LightGBM] [Warning] No further splits with positive gain, best gain: -inf\n",
      "[LightGBM] [Warning] No further splits with positive gain, best gain: -inf\n",
      "[LightGBM] [Warning] No further splits with positive gain, best gain: -inf\n",
      "[LightGBM] [Warning] No further splits with positive gain, best gain: -inf\n",
      "[LightGBM] [Warning] No further splits with positive gain, best gain: -inf\n",
      "[LightGBM] [Warning] No further splits with positive gain, best gain: -inf\n",
      "[LightGBM] [Warning] No further splits with positive gain, best gain: -inf\n",
      "[LightGBM] [Warning] No further splits with positive gain, best gain: -inf\n",
      "[LightGBM] [Warning] No further splits with positive gain, best gain: -inf\n",
      "[LightGBM] [Warning] No further splits with positive gain, best gain: -inf\n",
      "[LightGBM] [Warning] No further splits with positive gain, best gain: -inf\n",
      "[LightGBM] [Warning] No further splits with positive gain, best gain: -inf\n",
      "[LightGBM] [Warning] No further splits with positive gain, best gain: -inf\n",
      "[LightGBM] [Warning] No further splits with positive gain, best gain: -inf\n",
      "[LightGBM] [Warning] No further splits with positive gain, best gain: -inf\n",
      "[LightGBM] [Warning] No further splits with positive gain, best gain: -inf\n",
      "[LightGBM] [Warning] No further splits with positive gain, best gain: -inf\n",
      "[LightGBM] [Warning] No further splits with positive gain, best gain: -inf\n",
      "[LightGBM] [Warning] No further splits with positive gain, best gain: -inf\n",
      "[LightGBM] [Warning] No further splits with positive gain, best gain: -inf\n",
      "[LightGBM] [Warning] No further splits with positive gain, best gain: -inf\n",
      "[LightGBM] [Warning] No further splits with positive gain, best gain: -inf\n",
      "[LightGBM] [Warning] No further splits with positive gain, best gain: -inf\n",
      "[LightGBM] [Warning] No further splits with positive gain, best gain: -inf\n",
      "[LightGBM] [Warning] No further splits with positive gain, best gain: -inf\n",
      "[LightGBM] [Warning] No further splits with positive gain, best gain: -inf\n",
      "[LightGBM] [Warning] No further splits with positive gain, best gain: -inf\n",
      "[LightGBM] [Warning] No further splits with positive gain, best gain: -inf\n",
      "[LightGBM] [Warning] No further splits with positive gain, best gain: -inf\n",
      "[LightGBM] [Warning] No further splits with positive gain, best gain: -inf\n",
      "[LightGBM] [Warning] No further splits with positive gain, best gain: -inf\n",
      "[LightGBM] [Warning] No further splits with positive gain, best gain: -inf\n",
      "[LightGBM] [Warning] No further splits with positive gain, best gain: -inf\n",
      "[LightGBM] [Warning] No further splits with positive gain, best gain: -inf\n",
      "[LightGBM] [Warning] No further splits with positive gain, best gain: -inf\n",
      "[LightGBM] [Warning] No further splits with positive gain, best gain: -inf\n",
      "[LightGBM] [Warning] No further splits with positive gain, best gain: -inf\n",
      "[LightGBM] [Warning] No further splits with positive gain, best gain: -inf\n",
      "[LightGBM] [Warning] No further splits with positive gain, best gain: -inf\n",
      "[LightGBM] [Warning] No further splits with positive gain, best gain: -inf\n",
      "[LightGBM] [Warning] No further splits with positive gain, best gain: -inf\n",
      "[LightGBM] [Warning] No further splits with positive gain, best gain: -inf\n",
      "[LightGBM] [Warning] No further splits with positive gain, best gain: -inf\n",
      "[LightGBM] [Warning] No further splits with positive gain, best gain: -inf\n",
      "[LightGBM] [Warning] No further splits with positive gain, best gain: -inf\n",
      "[LightGBM] [Warning] No further splits with positive gain, best gain: -inf\n",
      "[LightGBM] [Warning] No further splits with positive gain, best gain: -inf\n",
      "[LightGBM] [Warning] No further splits with positive gain, best gain: -inf\n",
      "[LightGBM] [Warning] No further splits with positive gain, best gain: -inf\n",
      "[LightGBM] [Warning] No further splits with positive gain, best gain: -inf\n",
      "[LightGBM] [Warning] No further splits with positive gain, best gain: -inf\n",
      "[LightGBM] [Warning] No further splits with positive gain, best gain: -inf\n",
      "[LightGBM] [Warning] No further splits with positive gain, best gain: -inf\n",
      "[LightGBM] [Warning] No further splits with positive gain, best gain: -inf\n",
      "[LightGBM] [Warning] No further splits with positive gain, best gain: -inf\n",
      "[LightGBM] [Warning] No further splits with positive gain, best gain: -inf\n",
      "[LightGBM] [Warning] No further splits with positive gain, best gain: -inf\n",
      "[LightGBM] [Warning] No further splits with positive gain, best gain: -inf\n",
      "[LightGBM] [Warning] No further splits with positive gain, best gain: -inf\n",
      "[LightGBM] [Warning] No further splits with positive gain, best gain: -inf\n",
      "[LightGBM] [Warning] No further splits with positive gain, best gain: -inf\n",
      "[LightGBM] [Warning] No further splits with positive gain, best gain: -inf\n",
      "[LightGBM] [Warning] No further splits with positive gain, best gain: -inf\n",
      "[LightGBM] [Warning] No further splits with positive gain, best gain: -inf\n",
      "[LightGBM] [Warning] No further splits with positive gain, best gain: -inf\n",
      "[LightGBM] [Warning] No further splits with positive gain, best gain: -inf\n",
      "[LightGBM] [Warning] No further splits with positive gain, best gain: -inf\n",
      "[LightGBM] [Warning] No further splits with positive gain, best gain: -inf\n",
      "[LightGBM] [Warning] No further splits with positive gain, best gain: -inf\n",
      "[LightGBM] [Warning] No further splits with positive gain, best gain: -inf\n",
      "[LightGBM] [Warning] No further splits with positive gain, best gain: -inf\n",
      "[LightGBM] [Warning] No further splits with positive gain, best gain: -inf\n",
      "[LightGBM] [Warning] No further splits with positive gain, best gain: -inf\n",
      "[LightGBM] [Warning] No further splits with positive gain, best gain: -inf\n",
      "[LightGBM] [Warning] No further splits with positive gain, best gain: -inf\n",
      "[LightGBM] [Warning] No further splits with positive gain, best gain: -inf\n",
      "[LightGBM] [Warning] No further splits with positive gain, best gain: -inf\n",
      "[LightGBM] [Warning] No further splits with positive gain, best gain: -inf\n",
      "[LightGBM] [Warning] No further splits with positive gain, best gain: -inf\n",
      "[LightGBM] [Warning] No further splits with positive gain, best gain: -inf\n",
      "[LightGBM] [Warning] No further splits with positive gain, best gain: -inf\n",
      "[LightGBM] [Warning] No further splits with positive gain, best gain: -inf\n",
      "[LightGBM] [Warning] No further splits with positive gain, best gain: -inf\n",
      "[LightGBM] [Warning] No further splits with positive gain, best gain: -inf\n",
      "[LightGBM] [Warning] No further splits with positive gain, best gain: -inf\n",
      "[LightGBM] [Warning] No further splits with positive gain, best gain: -inf\n",
      "[LightGBM] [Warning] No further splits with positive gain, best gain: -inf\n",
      "[LightGBM] [Warning] No further splits with positive gain, best gain: -inf\n",
      "[LightGBM] [Warning] No further splits with positive gain, best gain: -inf\n",
      "[LightGBM] [Warning] No further splits with positive gain, best gain: -inf\n",
      "[LightGBM] [Warning] No further splits with positive gain, best gain: -inf\n",
      "[LightGBM] [Warning] No further splits with positive gain, best gain: -inf\n",
      "[LightGBM] [Warning] No further splits with positive gain, best gain: -inf\n",
      "[LightGBM] [Warning] No further splits with positive gain, best gain: -inf\n",
      "[LightGBM] [Warning] No further splits with positive gain, best gain: -inf\n",
      "[LightGBM] [Warning] No further splits with positive gain, best gain: -inf\n",
      "[LightGBM] [Warning] No further splits with positive gain, best gain: -inf\n",
      "[LightGBM] [Warning] No further splits with positive gain, best gain: -inf\n",
      "[LightGBM] [Warning] No further splits with positive gain, best gain: -inf\n",
      "[LightGBM] [Warning] No further splits with positive gain, best gain: -inf\n",
      "[LightGBM] [Warning] No further splits with positive gain, best gain: -inf\n",
      "[LightGBM] [Warning] No further splits with positive gain, best gain: -inf\n",
      "[LightGBM] [Warning] No further splits with positive gain, best gain: -inf\n",
      "[LightGBM] [Warning] No further splits with positive gain, best gain: -inf\n",
      "[LightGBM] [Warning] No further splits with positive gain, best gain: -inf\n",
      "[LightGBM] [Warning] No further splits with positive gain, best gain: -inf\n",
      "[LightGBM] [Warning] No further splits with positive gain, best gain: -inf\n",
      "[LightGBM] [Warning] No further splits with positive gain, best gain: -inf\n",
      "[LightGBM] [Warning] No further splits with positive gain, best gain: -inf\n",
      "[LightGBM] [Warning] No further splits with positive gain, best gain: -inf\n",
      "[LightGBM] [Warning] No further splits with positive gain, best gain: -inf\n",
      "[LightGBM] [Warning] No further splits with positive gain, best gain: -inf\n",
      "Early stopping, best iteration is:\n",
      "[22]\tvalid_0's multi_logloss: 0.253344\n"
     ]
    }
   ],
   "source": [
    "import lightgbm\n",
    "\n",
    "X_train, X_test, y_train, y_test = train_test_split(train, target, test_size=0.4, random_state=0)\n",
    "X_test, X_valid, y_test, y_valid = train_test_split(X_test, y_test, test_size=0.5, random_state=0)\n",
    "\n",
    "clf = lightgbm\n",
    "\n",
    "train_matrix = clf.Dataset(X_train, label=y_train)\n",
    "test_matrix = clf.Dataset(X_test, label=y_test)\n",
    "params = {\n",
    "          'boosting_type': 'gbdt',\n",
    "          #'boosting_type': 'dart',\n",
    "          'objective': 'multiclass',\n",
    "          'metric': 'multi_logloss',\n",
    "          'min_child_weight': 1.5,\n",
    "          'num_leaves': 2**5,\n",
    "          'lambda_l2': 10,\n",
    "          'subsample': 0.7,\n",
    "          'colsample_bytree': 0.7,\n",
    "          'colsample_bylevel': 0.7,\n",
    "          'learning_rate': 0.03,\n",
    "          'tree_method': 'exact',\n",
    "          'seed': 2017,\n",
    "          \"num_class\": 2,\n",
    "          'silent': True,\n",
    "          }\n",
    "num_round = 10000\n",
    "#early_stopping_rounds = 100\n",
    "#callbacks=[lightgbm.log_evaluation(period=100), lightgbm.early_stopping(stopping_rounds=100)]\n",
    "callbacks=[lightgbm.early_stopping(stopping_rounds=100)]\n",
    "model = clf.train(params, \n",
    "                  train_matrix,\n",
    "                  num_round,\n",
    "                  valid_sets=test_matrix,\n",
    "                  #early_stopping_rounds=early_stopping_rounds\n",
    "                  callbacks=callbacks \n",
    "                  )\n",
    "pre= model.predict(X_valid,num_iteration=model.best_iteration)"
   ]
  },
  {
   "cell_type": "code",
   "execution_count": 34,
   "metadata": {},
   "outputs": [
    {
     "name": "stdout",
     "output_type": "stream",
     "text": [
      "score :  0.9275\n"
     ]
    }
   ],
   "source": [
    "print('score : ', np.mean((pre[:,1]>0.5)==y_valid))"
   ]
  },
  {
   "cell_type": "code",
   "execution_count": null,
   "metadata": {},
   "outputs": [],
   "source": []
  },
  {
   "cell_type": "markdown",
   "metadata": {},
   "source": [
    "## xgb 模型"
   ]
  },
  {
   "cell_type": "code",
   "execution_count": 35,
   "metadata": {},
   "outputs": [
    {
     "name": "stdout",
     "output_type": "stream",
     "text": [
      "[0]\ttrain-mlogloss:0.67493\teval-mlogloss:0.67523\n",
      "[1]\ttrain-mlogloss:0.65782\teval-mlogloss:0.65839\n",
      "[2]\ttrain-mlogloss:0.64136\teval-mlogloss:0.64210\n",
      "[3]\ttrain-mlogloss:0.62561\teval-mlogloss:0.62645\n",
      "[4]\ttrain-mlogloss:0.61037\teval-mlogloss:0.61149\n",
      "[5]\ttrain-mlogloss:0.59608\teval-mlogloss:0.59751\n",
      "[6]\ttrain-mlogloss:0.58224\teval-mlogloss:0.58400\n",
      "[7]\ttrain-mlogloss:0.56915\teval-mlogloss:0.57106\n",
      "[8]\ttrain-mlogloss:0.55639\teval-mlogloss:0.55855\n",
      "[9]\ttrain-mlogloss:0.54458\teval-mlogloss:0.54696\n"
     ]
    },
    {
     "name": "stdout",
     "output_type": "stream",
     "text": [
      "[10]\ttrain-mlogloss:0.53305\teval-mlogloss:0.53569\n",
      "[11]\ttrain-mlogloss:0.52191\teval-mlogloss:0.52485\n",
      "[12]\ttrain-mlogloss:0.51136\teval-mlogloss:0.51460\n",
      "[13]\ttrain-mlogloss:0.50123\teval-mlogloss:0.50463\n",
      "[14]\ttrain-mlogloss:0.49148\teval-mlogloss:0.49513\n",
      "[15]\ttrain-mlogloss:0.48229\teval-mlogloss:0.48624\n",
      "[16]\ttrain-mlogloss:0.47339\teval-mlogloss:0.47751\n",
      "[17]\ttrain-mlogloss:0.46491\teval-mlogloss:0.46922\n",
      "[18]\ttrain-mlogloss:0.45654\teval-mlogloss:0.46132\n",
      "[19]\ttrain-mlogloss:0.44865\teval-mlogloss:0.45361\n",
      "[20]\ttrain-mlogloss:0.44106\teval-mlogloss:0.44632\n",
      "[21]\ttrain-mlogloss:0.43378\teval-mlogloss:0.43917\n",
      "[22]\ttrain-mlogloss:0.42685\teval-mlogloss:0.43248\n",
      "[23]\ttrain-mlogloss:0.42003\teval-mlogloss:0.42578\n",
      "[24]\ttrain-mlogloss:0.41348\teval-mlogloss:0.41940\n",
      "[25]\ttrain-mlogloss:0.40730\teval-mlogloss:0.41341\n",
      "[26]\ttrain-mlogloss:0.40120\teval-mlogloss:0.40749\n",
      "[27]\ttrain-mlogloss:0.39534\teval-mlogloss:0.40186\n",
      "[28]\ttrain-mlogloss:0.38974\teval-mlogloss:0.39649\n",
      "[29]\ttrain-mlogloss:0.38438\teval-mlogloss:0.39138\n",
      "[30]\ttrain-mlogloss:0.37915\teval-mlogloss:0.38637\n",
      "[31]\ttrain-mlogloss:0.37416\teval-mlogloss:0.38167\n",
      "[32]\ttrain-mlogloss:0.36938\teval-mlogloss:0.37711\n",
      "[33]\ttrain-mlogloss:0.36468\teval-mlogloss:0.37255\n",
      "[34]\ttrain-mlogloss:0.36013\teval-mlogloss:0.36820\n",
      "[35]\ttrain-mlogloss:0.35603\teval-mlogloss:0.36427\n",
      "[36]\ttrain-mlogloss:0.35190\teval-mlogloss:0.36039\n",
      "[37]\ttrain-mlogloss:0.34803\teval-mlogloss:0.35665\n",
      "[38]\ttrain-mlogloss:0.34395\teval-mlogloss:0.35278\n",
      "[39]\ttrain-mlogloss:0.34019\teval-mlogloss:0.34929\n",
      "[40]\ttrain-mlogloss:0.33669\teval-mlogloss:0.34595\n",
      "[41]\ttrain-mlogloss:0.33317\teval-mlogloss:0.34263\n",
      "[42]\ttrain-mlogloss:0.32976\teval-mlogloss:0.33935\n",
      "[43]\ttrain-mlogloss:0.32660\teval-mlogloss:0.33632\n",
      "[44]\ttrain-mlogloss:0.32360\teval-mlogloss:0.33345\n",
      "[45]\ttrain-mlogloss:0.32056\teval-mlogloss:0.33057\n",
      "[46]\ttrain-mlogloss:0.31756\teval-mlogloss:0.32778\n",
      "[47]\ttrain-mlogloss:0.31468\teval-mlogloss:0.32506\n",
      "[48]\ttrain-mlogloss:0.31192\teval-mlogloss:0.32246\n",
      "[49]\ttrain-mlogloss:0.30930\teval-mlogloss:0.31997\n",
      "[50]\ttrain-mlogloss:0.30683\teval-mlogloss:0.31757\n",
      "[51]\ttrain-mlogloss:0.30441\teval-mlogloss:0.31528\n",
      "[52]\ttrain-mlogloss:0.30205\teval-mlogloss:0.31312\n",
      "[53]\ttrain-mlogloss:0.29980\teval-mlogloss:0.31109\n",
      "[54]\ttrain-mlogloss:0.29768\teval-mlogloss:0.30905\n",
      "[55]\ttrain-mlogloss:0.29559\teval-mlogloss:0.30718\n",
      "[56]\ttrain-mlogloss:0.29361\teval-mlogloss:0.30526\n",
      "[57]\ttrain-mlogloss:0.29165\teval-mlogloss:0.30349\n",
      "[58]\ttrain-mlogloss:0.28989\teval-mlogloss:0.30188\n",
      "[59]\ttrain-mlogloss:0.28817\teval-mlogloss:0.30022\n",
      "[60]\ttrain-mlogloss:0.28633\teval-mlogloss:0.29851\n",
      "[61]\ttrain-mlogloss:0.28460\teval-mlogloss:0.29690\n",
      "[62]\ttrain-mlogloss:0.28303\teval-mlogloss:0.29550\n",
      "[63]\ttrain-mlogloss:0.28137\teval-mlogloss:0.29393\n",
      "[64]\ttrain-mlogloss:0.27978\teval-mlogloss:0.29256\n",
      "[65]\ttrain-mlogloss:0.27819\teval-mlogloss:0.29115\n",
      "[66]\ttrain-mlogloss:0.27665\teval-mlogloss:0.28980\n",
      "[67]\ttrain-mlogloss:0.27516\teval-mlogloss:0.28856\n",
      "[68]\ttrain-mlogloss:0.27368\teval-mlogloss:0.28732\n",
      "[69]\ttrain-mlogloss:0.27231\teval-mlogloss:0.28620\n",
      "[70]\ttrain-mlogloss:0.27103\teval-mlogloss:0.28509\n",
      "[71]\ttrain-mlogloss:0.26974\teval-mlogloss:0.28391\n",
      "[72]\ttrain-mlogloss:0.26848\teval-mlogloss:0.28279\n",
      "[73]\ttrain-mlogloss:0.26730\teval-mlogloss:0.28182\n",
      "[74]\ttrain-mlogloss:0.26616\teval-mlogloss:0.28092\n",
      "[75]\ttrain-mlogloss:0.26498\teval-mlogloss:0.27990\n",
      "[76]\ttrain-mlogloss:0.26382\teval-mlogloss:0.27897\n",
      "[77]\ttrain-mlogloss:0.26284\teval-mlogloss:0.27810\n",
      "[78]\ttrain-mlogloss:0.26175\teval-mlogloss:0.27732\n",
      "[79]\ttrain-mlogloss:0.26073\teval-mlogloss:0.27645\n",
      "[80]\ttrain-mlogloss:0.25966\teval-mlogloss:0.27564\n",
      "[81]\ttrain-mlogloss:0.25863\teval-mlogloss:0.27478\n",
      "[82]\ttrain-mlogloss:0.25768\teval-mlogloss:0.27399\n",
      "[83]\ttrain-mlogloss:0.25692\teval-mlogloss:0.27330\n",
      "[84]\ttrain-mlogloss:0.25601\teval-mlogloss:0.27253\n",
      "[85]\ttrain-mlogloss:0.25517\teval-mlogloss:0.27180\n",
      "[86]\ttrain-mlogloss:0.25433\teval-mlogloss:0.27111\n",
      "[87]\ttrain-mlogloss:0.25351\teval-mlogloss:0.27031\n",
      "[88]\ttrain-mlogloss:0.25267\teval-mlogloss:0.26966\n",
      "[89]\ttrain-mlogloss:0.25188\teval-mlogloss:0.26909\n",
      "[90]\ttrain-mlogloss:0.25118\teval-mlogloss:0.26847\n",
      "[91]\ttrain-mlogloss:0.25056\teval-mlogloss:0.26789\n",
      "[92]\ttrain-mlogloss:0.24998\teval-mlogloss:0.26736\n",
      "[93]\ttrain-mlogloss:0.24934\teval-mlogloss:0.26685\n",
      "[94]\ttrain-mlogloss:0.24874\teval-mlogloss:0.26637\n",
      "[95]\ttrain-mlogloss:0.24817\teval-mlogloss:0.26584\n",
      "[96]\ttrain-mlogloss:0.24749\teval-mlogloss:0.26537\n",
      "[97]\ttrain-mlogloss:0.24695\teval-mlogloss:0.26487\n",
      "[98]\ttrain-mlogloss:0.24642\teval-mlogloss:0.26447\n",
      "[99]\ttrain-mlogloss:0.24586\teval-mlogloss:0.26400\n",
      "[100]\ttrain-mlogloss:0.24537\teval-mlogloss:0.26364\n",
      "[101]\ttrain-mlogloss:0.24486\teval-mlogloss:0.26312\n",
      "[102]\ttrain-mlogloss:0.24431\teval-mlogloss:0.26274\n",
      "[103]\ttrain-mlogloss:0.24382\teval-mlogloss:0.26241\n",
      "[104]\ttrain-mlogloss:0.24342\teval-mlogloss:0.26223\n",
      "[105]\ttrain-mlogloss:0.24291\teval-mlogloss:0.26185\n",
      "[106]\ttrain-mlogloss:0.24240\teval-mlogloss:0.26155\n",
      "[107]\ttrain-mlogloss:0.24191\teval-mlogloss:0.26116\n",
      "[108]\ttrain-mlogloss:0.24151\teval-mlogloss:0.26077\n",
      "[109]\ttrain-mlogloss:0.24116\teval-mlogloss:0.26056\n",
      "[110]\ttrain-mlogloss:0.24075\teval-mlogloss:0.26025\n",
      "[111]\ttrain-mlogloss:0.24050\teval-mlogloss:0.26002\n",
      "[112]\ttrain-mlogloss:0.24021\teval-mlogloss:0.25979\n",
      "[113]\ttrain-mlogloss:0.23986\teval-mlogloss:0.25954\n",
      "[114]\ttrain-mlogloss:0.23951\teval-mlogloss:0.25929\n",
      "[115]\ttrain-mlogloss:0.23918\teval-mlogloss:0.25906\n",
      "[116]\ttrain-mlogloss:0.23875\teval-mlogloss:0.25872\n",
      "[117]\ttrain-mlogloss:0.23849\teval-mlogloss:0.25855\n",
      "[118]\ttrain-mlogloss:0.23811\teval-mlogloss:0.25833\n",
      "[119]\ttrain-mlogloss:0.23781\teval-mlogloss:0.25812\n",
      "[120]\ttrain-mlogloss:0.23752\teval-mlogloss:0.25788\n",
      "[121]\ttrain-mlogloss:0.23726\teval-mlogloss:0.25780\n",
      "[122]\ttrain-mlogloss:0.23702\teval-mlogloss:0.25764\n",
      "[123]\ttrain-mlogloss:0.23682\teval-mlogloss:0.25749\n",
      "[124]\ttrain-mlogloss:0.23656\teval-mlogloss:0.25732\n",
      "[125]\ttrain-mlogloss:0.23628\teval-mlogloss:0.25708\n",
      "[126]\ttrain-mlogloss:0.23603\teval-mlogloss:0.25689\n",
      "[127]\ttrain-mlogloss:0.23581\teval-mlogloss:0.25670\n",
      "[128]\ttrain-mlogloss:0.23562\teval-mlogloss:0.25669\n",
      "[129]\ttrain-mlogloss:0.23548\teval-mlogloss:0.25657\n",
      "[130]\ttrain-mlogloss:0.23525\teval-mlogloss:0.25643\n",
      "[131]\ttrain-mlogloss:0.23507\teval-mlogloss:0.25631\n",
      "[132]\ttrain-mlogloss:0.23490\teval-mlogloss:0.25612\n",
      "[133]\ttrain-mlogloss:0.23473\teval-mlogloss:0.25602\n",
      "[134]\ttrain-mlogloss:0.23456\teval-mlogloss:0.25591\n",
      "[135]\ttrain-mlogloss:0.23438\teval-mlogloss:0.25579\n",
      "[136]\ttrain-mlogloss:0.23410\teval-mlogloss:0.25568\n",
      "[137]\ttrain-mlogloss:0.23390\teval-mlogloss:0.25560\n",
      "[138]\ttrain-mlogloss:0.23381\teval-mlogloss:0.25552\n",
      "[139]\ttrain-mlogloss:0.23367\teval-mlogloss:0.25540\n",
      "[140]\ttrain-mlogloss:0.23355\teval-mlogloss:0.25530\n",
      "[141]\ttrain-mlogloss:0.23340\teval-mlogloss:0.25521\n",
      "[142]\ttrain-mlogloss:0.23328\teval-mlogloss:0.25507\n",
      "[143]\ttrain-mlogloss:0.23314\teval-mlogloss:0.25493\n",
      "[144]\ttrain-mlogloss:0.23306\teval-mlogloss:0.25485\n",
      "[145]\ttrain-mlogloss:0.23286\teval-mlogloss:0.25475\n",
      "[146]\ttrain-mlogloss:0.23275\teval-mlogloss:0.25468\n",
      "[147]\ttrain-mlogloss:0.23266\teval-mlogloss:0.25470\n",
      "[148]\ttrain-mlogloss:0.23250\teval-mlogloss:0.25458\n",
      "[149]\ttrain-mlogloss:0.23233\teval-mlogloss:0.25443\n",
      "[150]\ttrain-mlogloss:0.23225\teval-mlogloss:0.25436\n",
      "[151]\ttrain-mlogloss:0.23215\teval-mlogloss:0.25427\n",
      "[152]\ttrain-mlogloss:0.23200\teval-mlogloss:0.25418\n",
      "[153]\ttrain-mlogloss:0.23187\teval-mlogloss:0.25409\n",
      "[154]\ttrain-mlogloss:0.23181\teval-mlogloss:0.25404\n",
      "[155]\ttrain-mlogloss:0.23170\teval-mlogloss:0.25399\n",
      "[156]\ttrain-mlogloss:0.23159\teval-mlogloss:0.25404\n",
      "[157]\ttrain-mlogloss:0.23150\teval-mlogloss:0.25397\n",
      "[158]\ttrain-mlogloss:0.23142\teval-mlogloss:0.25394\n",
      "[159]\ttrain-mlogloss:0.23133\teval-mlogloss:0.25390\n",
      "[160]\ttrain-mlogloss:0.23119\teval-mlogloss:0.25381\n",
      "[161]\ttrain-mlogloss:0.23111\teval-mlogloss:0.25384\n",
      "[162]\ttrain-mlogloss:0.23099\teval-mlogloss:0.25381\n",
      "[163]\ttrain-mlogloss:0.23091\teval-mlogloss:0.25379\n",
      "[164]\ttrain-mlogloss:0.23083\teval-mlogloss:0.25370\n",
      "[165]\ttrain-mlogloss:0.23075\teval-mlogloss:0.25364\n",
      "[166]\ttrain-mlogloss:0.23068\teval-mlogloss:0.25374\n",
      "[167]\ttrain-mlogloss:0.23057\teval-mlogloss:0.25367\n",
      "[168]\ttrain-mlogloss:0.23052\teval-mlogloss:0.25364\n",
      "[169]\ttrain-mlogloss:0.23038\teval-mlogloss:0.25371\n",
      "[170]\ttrain-mlogloss:0.23033\teval-mlogloss:0.25370\n",
      "[171]\ttrain-mlogloss:0.23026\teval-mlogloss:0.25374\n",
      "[172]\ttrain-mlogloss:0.23020\teval-mlogloss:0.25372\n",
      "[173]\ttrain-mlogloss:0.23010\teval-mlogloss:0.25369\n",
      "[174]\ttrain-mlogloss:0.23003\teval-mlogloss:0.25374\n",
      "[175]\ttrain-mlogloss:0.22992\teval-mlogloss:0.25377\n",
      "[176]\ttrain-mlogloss:0.22983\teval-mlogloss:0.25383\n",
      "[177]\ttrain-mlogloss:0.22978\teval-mlogloss:0.25382\n",
      "[178]\ttrain-mlogloss:0.22973\teval-mlogloss:0.25379\n",
      "[179]\ttrain-mlogloss:0.22970\teval-mlogloss:0.25377\n",
      "[180]\ttrain-mlogloss:0.22968\teval-mlogloss:0.25375\n",
      "[181]\ttrain-mlogloss:0.22965\teval-mlogloss:0.25373\n",
      "[182]\ttrain-mlogloss:0.22962\teval-mlogloss:0.25370\n",
      "[183]\ttrain-mlogloss:0.22952\teval-mlogloss:0.25372\n",
      "[184]\ttrain-mlogloss:0.22946\teval-mlogloss:0.25371\n",
      "[185]\ttrain-mlogloss:0.22945\teval-mlogloss:0.25370\n",
      "[186]\ttrain-mlogloss:0.22937\teval-mlogloss:0.25382\n",
      "[187]\ttrain-mlogloss:0.22935\teval-mlogloss:0.25381\n",
      "[188]\ttrain-mlogloss:0.22933\teval-mlogloss:0.25380\n",
      "[189]\ttrain-mlogloss:0.22924\teval-mlogloss:0.25371\n",
      "[190]\ttrain-mlogloss:0.22919\teval-mlogloss:0.25372\n",
      "[191]\ttrain-mlogloss:0.22916\teval-mlogloss:0.25371\n",
      "[192]\ttrain-mlogloss:0.22912\teval-mlogloss:0.25369\n",
      "[193]\ttrain-mlogloss:0.22909\teval-mlogloss:0.25367\n",
      "[194]\ttrain-mlogloss:0.22908\teval-mlogloss:0.25366\n",
      "[195]\ttrain-mlogloss:0.22904\teval-mlogloss:0.25372\n",
      "[196]\ttrain-mlogloss:0.22898\teval-mlogloss:0.25365\n",
      "[197]\ttrain-mlogloss:0.22897\teval-mlogloss:0.25364\n",
      "[198]\ttrain-mlogloss:0.22893\teval-mlogloss:0.25365\n",
      "[199]\ttrain-mlogloss:0.22892\teval-mlogloss:0.25364\n",
      "[200]\ttrain-mlogloss:0.22890\teval-mlogloss:0.25363\n",
      "[201]\ttrain-mlogloss:0.22886\teval-mlogloss:0.25365\n",
      "[202]\ttrain-mlogloss:0.22877\teval-mlogloss:0.25357\n",
      "[203]\ttrain-mlogloss:0.22869\teval-mlogloss:0.25351\n",
      "[204]\ttrain-mlogloss:0.22865\teval-mlogloss:0.25351\n",
      "[205]\ttrain-mlogloss:0.22857\teval-mlogloss:0.25365\n",
      "[206]\ttrain-mlogloss:0.22856\teval-mlogloss:0.25364\n",
      "[207]\ttrain-mlogloss:0.22841\teval-mlogloss:0.25370\n",
      "[208]\ttrain-mlogloss:0.22840\teval-mlogloss:0.25369\n",
      "[209]\ttrain-mlogloss:0.22836\teval-mlogloss:0.25374\n",
      "[210]\ttrain-mlogloss:0.22835\teval-mlogloss:0.25373\n",
      "[211]\ttrain-mlogloss:0.22832\teval-mlogloss:0.25375\n",
      "[212]\ttrain-mlogloss:0.22828\teval-mlogloss:0.25380\n",
      "[213]\ttrain-mlogloss:0.22827\teval-mlogloss:0.25380\n",
      "[214]\ttrain-mlogloss:0.22827\teval-mlogloss:0.25380\n",
      "[215]\ttrain-mlogloss:0.22824\teval-mlogloss:0.25382\n",
      "[216]\ttrain-mlogloss:0.22823\teval-mlogloss:0.25381\n",
      "[217]\ttrain-mlogloss:0.22812\teval-mlogloss:0.25382\n",
      "[218]\ttrain-mlogloss:0.22806\teval-mlogloss:0.25383\n",
      "[219]\ttrain-mlogloss:0.22801\teval-mlogloss:0.25385\n",
      "[220]\ttrain-mlogloss:0.22800\teval-mlogloss:0.25384\n",
      "[221]\ttrain-mlogloss:0.22800\teval-mlogloss:0.25384\n",
      "[222]\ttrain-mlogloss:0.22795\teval-mlogloss:0.25388\n",
      "[223]\ttrain-mlogloss:0.22788\teval-mlogloss:0.25396\n",
      "[224]\ttrain-mlogloss:0.22777\teval-mlogloss:0.25398\n",
      "[225]\ttrain-mlogloss:0.22773\teval-mlogloss:0.25399\n",
      "[226]\ttrain-mlogloss:0.22772\teval-mlogloss:0.25399\n",
      "[227]\ttrain-mlogloss:0.22762\teval-mlogloss:0.25395\n",
      "[228]\ttrain-mlogloss:0.22760\teval-mlogloss:0.25397\n",
      "[229]\ttrain-mlogloss:0.22756\teval-mlogloss:0.25398\n",
      "[230]\ttrain-mlogloss:0.22752\teval-mlogloss:0.25400\n",
      "[231]\ttrain-mlogloss:0.22747\teval-mlogloss:0.25402\n",
      "[232]\ttrain-mlogloss:0.22741\teval-mlogloss:0.25407\n",
      "[233]\ttrain-mlogloss:0.22737\teval-mlogloss:0.25414\n",
      "[234]\ttrain-mlogloss:0.22737\teval-mlogloss:0.25414\n",
      "[235]\ttrain-mlogloss:0.22735\teval-mlogloss:0.25420\n",
      "[236]\ttrain-mlogloss:0.22726\teval-mlogloss:0.25423\n",
      "[237]\ttrain-mlogloss:0.22722\teval-mlogloss:0.25423\n",
      "[238]\ttrain-mlogloss:0.22715\teval-mlogloss:0.25424\n",
      "[239]\ttrain-mlogloss:0.22714\teval-mlogloss:0.25424\n",
      "[240]\ttrain-mlogloss:0.22714\teval-mlogloss:0.25424\n",
      "[241]\ttrain-mlogloss:0.22714\teval-mlogloss:0.25424\n",
      "[242]\ttrain-mlogloss:0.22711\teval-mlogloss:0.25425\n",
      "[243]\ttrain-mlogloss:0.22701\teval-mlogloss:0.25426\n",
      "[244]\ttrain-mlogloss:0.22699\teval-mlogloss:0.25421\n",
      "[245]\ttrain-mlogloss:0.22693\teval-mlogloss:0.25418\n",
      "[246]\ttrain-mlogloss:0.22686\teval-mlogloss:0.25422\n",
      "[247]\ttrain-mlogloss:0.22681\teval-mlogloss:0.25424\n",
      "[248]\ttrain-mlogloss:0.22678\teval-mlogloss:0.25429\n",
      "[249]\ttrain-mlogloss:0.22677\teval-mlogloss:0.25429\n",
      "[250]\ttrain-mlogloss:0.22669\teval-mlogloss:0.25428\n",
      "[251]\ttrain-mlogloss:0.22669\teval-mlogloss:0.25428\n",
      "[252]\ttrain-mlogloss:0.22668\teval-mlogloss:0.25428\n",
      "[253]\ttrain-mlogloss:0.22666\teval-mlogloss:0.25427\n",
      "[254]\ttrain-mlogloss:0.22665\teval-mlogloss:0.25427\n",
      "[255]\ttrain-mlogloss:0.22660\teval-mlogloss:0.25433\n",
      "[256]\ttrain-mlogloss:0.22660\teval-mlogloss:0.25433\n",
      "[257]\ttrain-mlogloss:0.22660\teval-mlogloss:0.25433\n",
      "[258]\ttrain-mlogloss:0.22654\teval-mlogloss:0.25437\n",
      "[259]\ttrain-mlogloss:0.22648\teval-mlogloss:0.25432\n",
      "[260]\ttrain-mlogloss:0.22648\teval-mlogloss:0.25432\n",
      "[261]\ttrain-mlogloss:0.22644\teval-mlogloss:0.25435\n",
      "[262]\ttrain-mlogloss:0.22643\teval-mlogloss:0.25435\n",
      "[263]\ttrain-mlogloss:0.22643\teval-mlogloss:0.25435\n",
      "[264]\ttrain-mlogloss:0.22632\teval-mlogloss:0.25439\n",
      "[265]\ttrain-mlogloss:0.22622\teval-mlogloss:0.25439\n",
      "[266]\ttrain-mlogloss:0.22622\teval-mlogloss:0.25439\n",
      "[267]\ttrain-mlogloss:0.22619\teval-mlogloss:0.25439\n",
      "[268]\ttrain-mlogloss:0.22616\teval-mlogloss:0.25442\n",
      "[269]\ttrain-mlogloss:0.22607\teval-mlogloss:0.25441\n",
      "[270]\ttrain-mlogloss:0.22607\teval-mlogloss:0.25441\n",
      "[271]\ttrain-mlogloss:0.22607\teval-mlogloss:0.25441\n",
      "[272]\ttrain-mlogloss:0.22607\teval-mlogloss:0.25441\n",
      "[273]\ttrain-mlogloss:0.22607\teval-mlogloss:0.25441\n",
      "[274]\ttrain-mlogloss:0.22602\teval-mlogloss:0.25441\n",
      "[275]\ttrain-mlogloss:0.22600\teval-mlogloss:0.25436\n",
      "[276]\ttrain-mlogloss:0.22594\teval-mlogloss:0.25441\n",
      "[277]\ttrain-mlogloss:0.22594\teval-mlogloss:0.25441\n",
      "[278]\ttrain-mlogloss:0.22594\teval-mlogloss:0.25441\n",
      "[279]\ttrain-mlogloss:0.22593\teval-mlogloss:0.25441\n",
      "[280]\ttrain-mlogloss:0.22593\teval-mlogloss:0.25442\n",
      "[281]\ttrain-mlogloss:0.22593\teval-mlogloss:0.25442\n",
      "[282]\ttrain-mlogloss:0.22592\teval-mlogloss:0.25442\n",
      "[283]\ttrain-mlogloss:0.22592\teval-mlogloss:0.25442\n",
      "[284]\ttrain-mlogloss:0.22592\teval-mlogloss:0.25442\n",
      "[285]\ttrain-mlogloss:0.22592\teval-mlogloss:0.25442\n",
      "[286]\ttrain-mlogloss:0.22583\teval-mlogloss:0.25452\n",
      "[287]\ttrain-mlogloss:0.22583\teval-mlogloss:0.25452\n",
      "[288]\ttrain-mlogloss:0.22578\teval-mlogloss:0.25455\n",
      "[289]\ttrain-mlogloss:0.22574\teval-mlogloss:0.25452\n",
      "[290]\ttrain-mlogloss:0.22569\teval-mlogloss:0.25449\n",
      "[291]\ttrain-mlogloss:0.22564\teval-mlogloss:0.25450\n",
      "[292]\ttrain-mlogloss:0.22564\teval-mlogloss:0.25450\n",
      "[293]\ttrain-mlogloss:0.22564\teval-mlogloss:0.25450\n",
      "[294]\ttrain-mlogloss:0.22560\teval-mlogloss:0.25447\n",
      "[295]\ttrain-mlogloss:0.22560\teval-mlogloss:0.25447\n",
      "[296]\ttrain-mlogloss:0.22554\teval-mlogloss:0.25450\n",
      "[297]\ttrain-mlogloss:0.22547\teval-mlogloss:0.25452\n",
      "[298]\ttrain-mlogloss:0.22547\teval-mlogloss:0.25451\n",
      "[299]\ttrain-mlogloss:0.22548\teval-mlogloss:0.25451\n",
      "[300]\ttrain-mlogloss:0.22545\teval-mlogloss:0.25453\n",
      "[301]\ttrain-mlogloss:0.22545\teval-mlogloss:0.25453\n",
      "[302]\ttrain-mlogloss:0.22541\teval-mlogloss:0.25455\n",
      "[303]\ttrain-mlogloss:0.22540\teval-mlogloss:0.25455\n",
      "[304]\ttrain-mlogloss:0.22540\teval-mlogloss:0.25455\n"
     ]
    }
   ],
   "source": [
    "import xgboost\n",
    "\n",
    "X_train, X_test, y_train, y_test = train_test_split(train, target, test_size=0.4, random_state=0)\n",
    "X_test, X_valid, y_test, y_valid = train_test_split(X_test, y_test, test_size=0.5, random_state=0)\n",
    "\n",
    "clf = xgboost\n",
    "\n",
    "train_matrix = clf.DMatrix(X_train, label=y_train, missing=-1)\n",
    "test_matrix = clf.DMatrix(X_test, label=y_test, missing=-1)\n",
    "z = clf.DMatrix(X_valid, label=y_valid, missing=-1)\n",
    "params = {'booster': 'gbtree',\n",
    "          'objective': 'multi:softprob',\n",
    "          'eval_metric': 'mlogloss',\n",
    "          'gamma': 1,\n",
    "          'min_child_weight': 1.5,\n",
    "          'max_depth': 5,\n",
    "          'lambda': 100,\n",
    "          'subsample': 0.7,\n",
    "          'colsample_bytree': 0.7,\n",
    "          'colsample_bylevel': 0.7,\n",
    "          'eta': 0.03,\n",
    "          'tree_method': 'exact',\n",
    "          'seed': 2017,\n",
    "          \"num_class\": 2\n",
    "          }\n",
    "\n",
    "num_round = 10000\n",
    "early_stopping_rounds = 100\n",
    "watchlist = [(train_matrix, 'train'),\n",
    "             (test_matrix, 'eval')\n",
    "             ]\n",
    "\n",
    "model = clf.train(params,\n",
    "                  train_matrix,\n",
    "                  num_boost_round=num_round,\n",
    "                  evals=watchlist,\n",
    "                  early_stopping_rounds=early_stopping_rounds\n",
    "                  )\n",
    "pre = model.predict(z,ntree_limit=model.best_ntree_limit)"
   ]
  },
  {
   "cell_type": "code",
   "execution_count": 36,
   "metadata": {},
   "outputs": [
    {
     "name": "stdout",
     "output_type": "stream",
     "text": [
      "score :  0.9275\n"
     ]
    }
   ],
   "source": [
    "print('score : ', np.mean((pre[:,1]>0.3)==y_valid))"
   ]
  },
  {
   "cell_type": "code",
   "execution_count": null,
   "metadata": {},
   "outputs": [],
   "source": []
  },
  {
   "cell_type": "code",
   "execution_count": null,
   "metadata": {},
   "outputs": [],
   "source": []
  },
  {
   "cell_type": "markdown",
   "metadata": {},
   "source": [
    "# 自己封装模型"
   ]
  },
  {
   "cell_type": "markdown",
   "metadata": {},
   "source": [
    "## Stacking,Bootstrap,Bagging技术实践"
   ]
  },
  {
   "cell_type": "code",
   "execution_count": 37,
   "metadata": {},
   "outputs": [],
   "source": [
    "\"\"\"\n",
    "    导入相关包\n",
    "\"\"\"\n",
    "import pandas as pd\n",
    "import numpy as np\n",
    "import lightgbm as lgb\n",
    "from sklearn.metrics import f1_score\n",
    "from sklearn.model_selection import train_test_split\n",
    "from sklearn.model_selection import KFold\n",
    "from sklearn.model_selection import StratifiedKFold"
   ]
  },
  {
   "cell_type": "code",
   "execution_count": 40,
   "metadata": {},
   "outputs": [],
   "source": [
    "class SBBTree():\n",
    "    \"\"\"\n",
    "        SBBTree\n",
    "        Stacking,Bootstap,Bagging\n",
    "    \"\"\"\n",
    "    def __init__(\n",
    "                    self, \n",
    "                    params,\n",
    "                    stacking_num,\n",
    "                    bagging_num,\n",
    "                    bagging_test_size,\n",
    "                    num_boost_round,\n",
    "                    #early_stopping_rounds\n",
    "                    callbacks\n",
    "                ):\n",
    "        \"\"\"\n",
    "            Initializes the SBBTree.\n",
    "            Args:\n",
    "              params : lgb params.\n",
    "              stacking_num : k_flod stacking.\n",
    "              bagging_num : bootstrap num.\n",
    "              bagging_test_size : bootstrap sample rate.\n",
    "              num_boost_round : boost num.\n",
    "              early_stopping_rounds : early_stopping_rounds.\n",
    "        \"\"\"\n",
    "        self.params = params\n",
    "        self.stacking_num = stacking_num\n",
    "        self.bagging_num = bagging_num\n",
    "        self.bagging_test_size = bagging_test_size\n",
    "        self.num_boost_round = num_boost_round\n",
    "        #self.early_stopping_rounds = early_stopping_rounds\n",
    "        self.callbacks = callbacks\n",
    "\n",
    "        self.model = lgb\n",
    "        self.stacking_model = []\n",
    "        self.bagging_model = []\n",
    "\n",
    "    def fit(self, X, y):\n",
    "        \"\"\" fit model. \"\"\"\n",
    "        if self.stacking_num > 1:\n",
    "            layer_train = np.zeros((X.shape[0], 2))\n",
    "            self.SK = StratifiedKFold(n_splits=self.stacking_num, shuffle=True, random_state=1)\n",
    "            for k,(train_index, test_index) in enumerate(self.SK.split(X, y)):\n",
    "                X_train = X[train_index]\n",
    "                y_train = y[train_index]\n",
    "                X_test = X[test_index]\n",
    "                y_test = y[test_index]\n",
    "\n",
    "                lgb_train = lgb.Dataset(X_train, y_train)\n",
    "                lgb_eval = lgb.Dataset(X_test, y_test, reference=lgb_train)\n",
    "\n",
    "                gbm = lgb.train(self.params,\n",
    "                            lgb_train,\n",
    "                            num_boost_round=self.num_boost_round,\n",
    "                            valid_sets=lgb_eval,\n",
    "                            #early_stopping_rounds=self.early_stopping_rounds\n",
    "                            callbacks=self.callbacks\n",
    "                            )\n",
    "\n",
    "                self.stacking_model.append(gbm)\n",
    "\n",
    "                pred_y = gbm.predict(X_test, num_iteration=gbm.best_iteration)\n",
    "                layer_train[test_index, 1] = pred_y\n",
    "\n",
    "            X = np.hstack((X, layer_train[:,1].reshape((-1,1)))) \n",
    "        else:\n",
    "            pass\n",
    "        for bn in range(self.bagging_num):\n",
    "            X_train, X_test, y_train, y_test = train_test_split(X, y, test_size=self.bagging_test_size, random_state=bn)\n",
    "\n",
    "            lgb_train = lgb.Dataset(X_train, y_train)\n",
    "            lgb_eval = lgb.Dataset(X_test, y_test, reference=lgb_train)\n",
    "\n",
    "            callbacks=[lightgbm.early_stopping(stopping_rounds=200)]\n",
    "\n",
    "            gbm = lgb.train(self.params,\n",
    "                        lgb_train,\n",
    "                        num_boost_round=10000,\n",
    "                        valid_sets=lgb_eval,\n",
    "                        #early_stopping_rounds=200\n",
    "                        callbacks=[lightgbm.early_stopping(stopping_rounds=200)]\n",
    "                        )\n",
    "\n",
    "            self.bagging_model.append(gbm)\n",
    "\n",
    "    def predict(self, X_pred):\n",
    "        \"\"\" predict test data. \"\"\"\n",
    "        if self.stacking_num > 1:\n",
    "            test_pred = np.zeros((X_pred.shape[0], self.stacking_num))\n",
    "            for sn,gbm in enumerate(self.stacking_model):\n",
    "                pred = gbm.predict(X_pred, num_iteration=gbm.best_iteration)\n",
    "                test_pred[:, sn] = pred\n",
    "            X_pred = np.hstack((X_pred, test_pred.mean(axis=1).reshape((-1,1))))  \n",
    "        else:\n",
    "            pass \n",
    "        for bn,gbm in enumerate(self.bagging_model):\n",
    "            pred = gbm.predict(X_pred, num_iteration=gbm.best_iteration)\n",
    "            if bn == 0:\n",
    "                pred_out=pred\n",
    "            else:\n",
    "                pred_out+=pred\n",
    "        return pred_out/self.bagging_num"
   ]
  },
  {
   "cell_type": "markdown",
   "metadata": {},
   "source": [
    "## 测试自己封装的模型类"
   ]
  },
  {
   "cell_type": "code",
   "execution_count": 42,
   "metadata": {},
   "outputs": [
    {
     "name": "stdout",
     "output_type": "stream",
     "text": [
      "Training until validation scores don't improve for 200 rounds\n",
      "Early stopping, best iteration is:\n",
      "[565]\tvalid_0's auc: 0.761952\n",
      "Training until validation scores don't improve for 200 rounds\n",
      "Early stopping, best iteration is:\n",
      "[598]\tvalid_0's auc: 0.789344\n",
      "Training until validation scores don't improve for 200 rounds\n",
      "Early stopping, best iteration is:\n",
      "[480]\tvalid_0's auc: 0.808629\n",
      "pred\n",
      "[0.12]\n",
      "TEST 1 ok\n",
      "Training until validation scores don't improve for 200 rounds\n",
      "Early stopping, best iteration is:\n",
      "[259]\tvalid_0's auc: 0.75051\n",
      "Training until validation scores don't improve for 200 rounds\n",
      "Early stopping, best iteration is:\n",
      "[259]\tvalid_0's auc: 0.75051\n",
      "Training until validation scores don't improve for 200 rounds\n",
      "Early stopping, best iteration is:\n",
      "[401]\tvalid_0's auc: 0.769037\n",
      "Training until validation scores don't improve for 200 rounds\n",
      "Early stopping, best iteration is:\n",
      "[368]\tvalid_0's auc: 0.766177\n",
      "Training until validation scores don't improve for 200 rounds\n",
      "Early stopping, best iteration is:\n",
      "[785]\tvalid_0's auc: 0.834114\n",
      "Training until validation scores don't improve for 200 rounds\n",
      "Early stopping, best iteration is:\n",
      "[452]\tvalid_0's auc: 0.753342\n",
      "Training until validation scores don't improve for 200 rounds\n",
      "Early stopping, best iteration is:\n",
      "[550]\tvalid_0's auc: 0.787433\n",
      "Training until validation scores don't improve for 200 rounds\n",
      "Early stopping, best iteration is:\n",
      "[730]\tvalid_0's auc: 0.803699\n",
      "Training until validation scores don't improve for 200 rounds\n",
      "Early stopping, best iteration is:\n",
      "[291]\tvalid_0's auc: 0.789216\n",
      "Training until validation scores don't improve for 200 rounds\n",
      "Early stopping, best iteration is:\n",
      "[24]\tvalid_0's auc: 0.756547\n",
      "Training until validation scores don't improve for 200 rounds\n",
      "Early stopping, best iteration is:\n",
      "[785]\tvalid_0's auc: 0.834114\n",
      "Training until validation scores don't improve for 200 rounds\n",
      "Early stopping, best iteration is:\n",
      "[452]\tvalid_0's auc: 0.753342\n",
      "Training until validation scores don't improve for 200 rounds\n",
      "Early stopping, best iteration is:\n",
      "[550]\tvalid_0's auc: 0.787433\n",
      "Training until validation scores don't improve for 200 rounds\n",
      "Early stopping, best iteration is:\n",
      "[730]\tvalid_0's auc: 0.803699\n",
      "Training until validation scores don't improve for 200 rounds\n",
      "Early stopping, best iteration is:\n",
      "[291]\tvalid_0's auc: 0.789216\n",
      "Training until validation scores don't improve for 200 rounds\n",
      "Early stopping, best iteration is:\n",
      "[24]\tvalid_0's auc: 0.756547\n",
      "Training until validation scores don't improve for 200 rounds\n",
      "Early stopping, best iteration is:\n",
      "[26]\tvalid_0's auc: 0.764161\n",
      "Training until validation scores don't improve for 200 rounds\n",
      "Early stopping, best iteration is:\n",
      "[49]\tvalid_0's auc: 0.806934\n",
      "auc:  0.7107286034793483\n",
      "auc:  0.7791754018169113\n",
      "auc:  0.7681783074037294\n",
      "auc:  0.7900989370701387\n"
     ]
    }
   ],
   "source": [
    "\"\"\"\n",
    "    TEST CODE\n",
    "\"\"\"\n",
    "from sklearn.datasets import make_classification\n",
    "from sklearn.datasets import load_breast_cancer\n",
    "from sklearn.datasets import make_gaussian_quantiles\n",
    "from sklearn import metrics\n",
    "from sklearn.metrics import f1_score\n",
    "# X, y = make_classification(n_samples=1000, n_features=25, n_clusters_per_class=1, n_informative=15, random_state=1)\n",
    "X, y = make_gaussian_quantiles(mean=None, cov=1.0, n_samples=1000, n_features=50, n_classes=2, shuffle=True, random_state=2)\n",
    "# data = load_breast_cancer()\n",
    "# X, y = data.data, data.target\n",
    "X_train, X_test, y_train, y_test = train_test_split(X, y, test_size=0.33, random_state=1)\n",
    "params = {\n",
    "        'task': 'train',\n",
    "        'boosting_type': 'gbdt',\n",
    "        'objective': 'binary',\n",
    "        'metric': 'auc',\n",
    "        'num_leaves': 9,\n",
    "        'learning_rate': 0.03,\n",
    "        'feature_fraction_seed': 2,\n",
    "        'feature_fraction': 0.9,\n",
    "        'bagging_fraction': 0.8,\n",
    "        'bagging_freq': 5,\n",
    "        'min_data': 20,\n",
    "        'min_hessian': 1,\n",
    "        'verbose': -1,\n",
    "        'silent': 0\n",
    "        }\n",
    "# test 1\n",
    "#model = SBBTree(params=params, stacking_num=2, bagging_num=1,  bagging_test_size=0.33, num_boost_round=10000, early_stopping_rounds=200)\n",
    "model = SBBTree(params=params, stacking_num=2, bagging_num=1,  bagging_test_size=0.33, num_boost_round=10000, callbacks=[lightgbm.early_stopping(stopping_rounds=200)])\n",
    "model.fit(X,y)\n",
    "X_pred = X[0].reshape((1,-1))\n",
    "pred=model.predict(X_pred)\n",
    "print('pred')\n",
    "print(pred)\n",
    "print('TEST 1 ok')\n",
    "\n",
    "\n",
    "# test 1\n",
    "model = SBBTree(params, stacking_num=1, bagging_num=1, bagging_test_size=0.33, num_boost_round=10000, callbacks=[lightgbm.early_stopping(stopping_rounds=200)])\n",
    "model.fit(X_train,y_train)\n",
    "pred1=model.predict(X_test)\n",
    "\n",
    "# test 2 \n",
    "model = SBBTree(params, stacking_num=1, bagging_num=3, bagging_test_size=0.33, num_boost_round=10000, callbacks=[lightgbm.early_stopping(stopping_rounds=200)])\n",
    "model.fit(X_train,y_train)\n",
    "pred2=model.predict(X_test)\n",
    "\n",
    "# test 3 \n",
    "model = SBBTree(params, stacking_num=5, bagging_num=1, bagging_test_size=0.33, num_boost_round=10000, callbacks=[lightgbm.early_stopping(stopping_rounds=200)])\n",
    "model.fit(X_train,y_train)\n",
    "pred3=model.predict(X_test)\n",
    "\n",
    "# test 4 \n",
    "model = SBBTree(params, stacking_num=5, bagging_num=3, bagging_test_size=0.33, num_boost_round=10000, callbacks=[lightgbm.early_stopping(stopping_rounds=200)])\n",
    "model.fit(X_train,y_train)\n",
    "pred4=model.predict(X_test)\n",
    "\n",
    "fpr, tpr, thresholds = metrics.roc_curve(y_test+1, pred1, pos_label=2)\n",
    "print('auc: ',metrics.auc(fpr, tpr))\n",
    "\n",
    "fpr, tpr, thresholds = metrics.roc_curve(y_test+1, pred2, pos_label=2)\n",
    "print('auc: ',metrics.auc(fpr, tpr))\n",
    "\n",
    "fpr, tpr, thresholds = metrics.roc_curve(y_test+1, pred3, pos_label=2)\n",
    "print('auc: ',metrics.auc(fpr, tpr))\n",
    "\n",
    "fpr, tpr, thresholds = metrics.roc_curve(y_test+1, pred4, pos_label=2)\n",
    "print('auc: ',metrics.auc(fpr, tpr))\n",
    "\n",
    "\n",
    "# auc:  0.7281621243885396\n",
    "# auc:  0.7710471146419509\n",
    "# auc:  0.7894369046305492\n",
    "# auc:  0.8084519474787597"
   ]
  },
  {
   "cell_type": "markdown",
   "metadata": {},
   "source": [
    "## 天猫复购场景实战"
   ]
  },
  {
   "cell_type": "markdown",
   "metadata": {},
   "source": [
    "## 读取特征数据"
   ]
  },
  {
   "cell_type": "code",
   "execution_count": 43,
   "metadata": {},
   "outputs": [],
   "source": [
    "import pandas as pd\n",
    "import numpy as np\n",
    "import lightgbm as lgb\n",
    "from sklearn.metrics import f1_score\n",
    "from sklearn.model_selection import train_test_split\n",
    "from sklearn.model_selection import KFold\n",
    "from sklearn.model_selection import StratifiedKFold\n",
    "\n",
    "train_data = pd.read_csv('./data/train_all.csv',nrows=10000)\n",
    "test_data = pd.read_csv('./data/test_all.csv',nrows=100)\n",
    "\n",
    "features_columns = [col for col in train_data.columns if col not in ['user_id','label']]\n",
    "train = train_data[features_columns].values\n",
    "test = test_data[features_columns].values\n",
    "target =train_data['label'].values"
   ]
  },
  {
   "cell_type": "markdown",
   "metadata": {},
   "source": [
    "## 设置模型参数"
   ]
  },
  {
   "cell_type": "code",
   "execution_count": 45,
   "metadata": {},
   "outputs": [],
   "source": [
    "params = {\n",
    "        'task': 'train',\n",
    "        'boosting_type': 'gbdt',\n",
    "        'objective': 'binary',\n",
    "        'metric': 'auc',\n",
    "        'num_leaves': 9,\n",
    "        'learning_rate': 0.03,\n",
    "        'feature_fraction_seed': 2,\n",
    "        'feature_fraction': 0.9,\n",
    "        'bagging_fraction': 0.8,\n",
    "        'bagging_freq': 5,\n",
    "        'min_data': 20,\n",
    "        'min_hessian': 1,\n",
    "        'verbose': -1,\n",
    "        'silent': 0\n",
    "        }\n",
    "\n",
    "model = SBBTree(params=params,\n",
    "                stacking_num=5,\n",
    "                bagging_num=3,\n",
    "                bagging_test_size=0.33,\n",
    "                num_boost_round=10000,\n",
    "                #early_stopping_rounds=200\n",
    "                callbacks=[lightgbm.early_stopping(stopping_rounds=200)]\n",
    "                )"
   ]
  },
  {
   "cell_type": "markdown",
   "metadata": {},
   "source": [
    "## 模型训练"
   ]
  },
  {
   "cell_type": "code",
   "execution_count": 46,
   "metadata": {},
   "outputs": [
    {
     "name": "stdout",
     "output_type": "stream",
     "text": [
      "Training until validation scores don't improve for 200 rounds\n",
      "Early stopping, best iteration is:\n",
      "[9]\tvalid_0's auc: 0.651375\n",
      "Training until validation scores don't improve for 200 rounds\n",
      "Early stopping, best iteration is:\n",
      "[1375]\tvalid_0's auc: 0.742925\n",
      "Training until validation scores don't improve for 200 rounds\n",
      "Early stopping, best iteration is:\n",
      "[805]\tvalid_0's auc: 0.671731\n",
      "Training until validation scores don't improve for 200 rounds\n",
      "Early stopping, best iteration is:\n",
      "[26]\tvalid_0's auc: 0.725797\n",
      "Training until validation scores don't improve for 200 rounds\n",
      "Early stopping, best iteration is:\n",
      "[18]\tvalid_0's auc: 0.56442\n",
      "Training until validation scores don't improve for 200 rounds\n",
      "Early stopping, best iteration is:\n",
      "[1177]\tvalid_0's auc: 0.668016\n",
      "Training until validation scores don't improve for 200 rounds\n",
      "Early stopping, best iteration is:\n",
      "[214]\tvalid_0's auc: 0.616207\n",
      "Training until validation scores don't improve for 200 rounds\n",
      "Early stopping, best iteration is:\n",
      "[38]\tvalid_0's auc: 0.558366\n"
     ]
    }
   ],
   "source": [
    "model.fit(train, target)"
   ]
  },
  {
   "cell_type": "markdown",
   "metadata": {},
   "source": [
    "## 预测结果"
   ]
  },
  {
   "cell_type": "code",
   "execution_count": 47,
   "metadata": {},
   "outputs": [
    {
     "data": {
      "text/html": [
       "<div>\n",
       "<style scoped>\n",
       "    .dataframe tbody tr th:only-of-type {\n",
       "        vertical-align: middle;\n",
       "    }\n",
       "\n",
       "    .dataframe tbody tr th {\n",
       "        vertical-align: top;\n",
       "    }\n",
       "\n",
       "    .dataframe thead th {\n",
       "        text-align: right;\n",
       "    }\n",
       "</style>\n",
       "<table border=\"1\" class=\"dataframe\">\n",
       "  <thead>\n",
       "    <tr style=\"text-align: right;\">\n",
       "      <th></th>\n",
       "      <th>user_id</th>\n",
       "      <th>predict_prob</th>\n",
       "    </tr>\n",
       "  </thead>\n",
       "  <tbody>\n",
       "    <tr>\n",
       "      <th>0</th>\n",
       "      <td>105600</td>\n",
       "      <td>0.034984</td>\n",
       "    </tr>\n",
       "    <tr>\n",
       "      <th>1</th>\n",
       "      <td>110976</td>\n",
       "      <td>0.030769</td>\n",
       "    </tr>\n",
       "    <tr>\n",
       "      <th>2</th>\n",
       "      <td>374400</td>\n",
       "      <td>0.038566</td>\n",
       "    </tr>\n",
       "    <tr>\n",
       "      <th>3</th>\n",
       "      <td>189312</td>\n",
       "      <td>0.042045</td>\n",
       "    </tr>\n",
       "    <tr>\n",
       "      <th>4</th>\n",
       "      <td>189312</td>\n",
       "      <td>0.038282</td>\n",
       "    </tr>\n",
       "  </tbody>\n",
       "</table>\n",
       "</div>"
      ],
      "text/plain": [
       "   user_id  predict_prob\n",
       "0   105600      0.034984\n",
       "1   110976      0.030769\n",
       "2   374400      0.038566\n",
       "3   189312      0.042045\n",
       "4   189312      0.038282"
      ]
     },
     "execution_count": 47,
     "metadata": {},
     "output_type": "execute_result"
    }
   ],
   "source": [
    "pred = model.predict(test)\n",
    "df_out = pd.DataFrame()\n",
    "df_out['user_id'] = test_data['user_id'].astype(int)\n",
    "df_out['predict_prob'] = pred\n",
    "df_out.head()"
   ]
  },
  {
   "cell_type": "markdown",
   "metadata": {},
   "source": [
    "## 保存结果"
   ]
  },
  {
   "cell_type": "code",
   "execution_count": 48,
   "metadata": {},
   "outputs": [
    {
     "name": "stdout",
     "output_type": "stream",
     "text": [
      "save OK!\n"
     ]
    }
   ],
   "source": [
    "\"\"\"\n",
    "    保留数据头，不保存index\n",
    "\"\"\"\n",
    "df_out.to_csv('./data/df_out.csv',header=True,index=False)\n",
    "print('save OK!')"
   ]
  },
  {
   "cell_type": "code",
   "execution_count": 49,
   "metadata": {},
   "outputs": [],
   "source": [
    "# !ls"
   ]
  },
  {
   "cell_type": "code",
   "execution_count": 50,
   "metadata": {},
   "outputs": [],
   "source": [
    "# !head df_out.csv"
   ]
  },
  {
   "cell_type": "code",
   "execution_count": null,
   "metadata": {},
   "outputs": [],
   "source": []
  }
 ],
 "metadata": {
  "kernelspec": {
   "display_name": "mlenv",
   "language": "python",
   "name": "mlenv"
  },
  "language_info": {
   "codemirror_mode": {
    "name": "ipython",
    "version": 3
   },
   "file_extension": ".py",
   "mimetype": "text/x-python",
   "name": "python",
   "nbconvert_exporter": "python",
   "pygments_lexer": "ipython3",
   "version": "3.7.6"
  },
  "latex_envs": {
   "LaTeX_envs_menu_present": true,
   "autoclose": false,
   "autocomplete": true,
   "bibliofile": "biblio.bib",
   "cite_by": "apalike",
   "current_citInitial": 1,
   "eqLabelWithNumbers": true,
   "eqNumInitial": 1,
   "hotkeys": {
    "equation": "Ctrl-E",
    "itemize": "Ctrl-I"
   },
   "labels_anchors": false,
   "latex_user_defs": false,
   "report_style_numbering": false,
   "user_envs_cfg": false
  }
 },
 "nbformat": 4,
 "nbformat_minor": 2
}
