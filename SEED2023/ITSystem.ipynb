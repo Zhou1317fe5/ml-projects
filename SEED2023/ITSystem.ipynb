{
 "cells": [
  {
   "cell_type": "code",
   "execution_count": null,
   "id": "df0ecc5d",
   "metadata": {},
   "outputs": [],
   "source": [
    "import pandas as pd\n",
    "import numpy as np\n",
    "data = pd.read_csv('./data/Flow.csv')\n",
    "data.head()"
   ]
  },
  {
   "cell_type": "code",
   "execution_count": null,
   "id": "00d26b37",
   "metadata": {},
   "outputs": [],
   "source": [
    "data = data[(data['LANE_ID'] == 1) & (data['ARM_ID'] == 'E')]\n",
    "flow = data.loc[:,'VOLUMN_5MIN']\n",
    "flow.head()"
   ]
  },
  {
   "cell_type": "code",
   "execution_count": null,
   "id": "5d3e8b3c",
   "metadata": {},
   "outputs": [],
   "source": [
    "flow_norm = flow/max(flow)\n",
    "flow_norm"
   ]
  },
  {
   "cell_type": "code",
   "execution_count": null,
   "id": "3f923a77",
   "metadata": {},
   "outputs": [],
   "source": [
    "%matplotlib inline\n",
    "from matplotlib import pyplot as plt\n",
    "fig1 = plt.figure(figsize=(100,50))\n",
    "plt.plot(flow)\n",
    "plt.title('VOLUMN_5MIN')\n",
    "plt.xlabel('time')\n",
    "plt.ylabel('volumn')\n",
    "plt.show()"
   ]
  },
  {
   "cell_type": "code",
   "execution_count": null,
   "id": "357c57c6",
   "metadata": {},
   "outputs": [],
   "source": [
    "def extract_data(data,time_step):\n",
    "    X = []\n",
    "    y = []\n",
    "    for i in range(len(data)-time_step):\n",
    "        X.append([a for a in data[i:i+time_step]])\n",
    "        y.append(data[i+time_step])\n",
    "    X=np.array(X)\n",
    "    X = X.reshape(X.shape[0],X.shape[1],1)\n",
    "    y = np.array(y)\n",
    "    return X,y"
   ]
  },
  {
   "cell_type": "code",
   "execution_count": null,
   "id": "31e6a81c",
   "metadata": {},
   "outputs": [],
   "source": [
    "time_step = 30"
   ]
  },
  {
   "cell_type": "code",
   "execution_count": null,
   "id": "407d0571",
   "metadata": {},
   "outputs": [],
   "source": [
    "X,y = extract_data(flow_norm,time_step)\n",
    "print(X.shape,len(y))"
   ]
  },
  {
   "cell_type": "code",
   "execution_count": null,
   "id": "f9e6e931",
   "metadata": {},
   "outputs": [],
   "source": [
    "from keras.models import Sequential\n",
    "from keras.layers import Dense,SimpleRNN\n",
    "model = Sequential()\n",
    "model.add(SimpleRNN(units = 5,input_shape=(time_step,1),activation='relu'))\n",
    "model.add(Dense(units=1,activation='linear'))\n",
    "model.compile(optimizer = 'adam',loss = 'mean_squared_error')\n",
    "model.summary()"
   ]
  },
  {
   "cell_type": "code",
   "execution_count": null,
   "id": "7c8445c6",
   "metadata": {},
   "outputs": [],
   "source": [
    "model.fit(X,y,batch_size=100,epochs=200)"
   ]
  },
  {
   "cell_type": "code",
   "execution_count": null,
   "id": "762c5105",
   "metadata": {},
   "outputs": [],
   "source": [
    "y_train_predict = model.predict(X)*max(flow)\n",
    "y_train = y*max(flow)\n",
    "y_train_predict"
   ]
  },
  {
   "cell_type": "code",
   "execution_count": null,
   "id": "297cf2c2",
   "metadata": {},
   "outputs": [],
   "source": [
    "fig2 = plt.figure(figsize=(100,50))\n",
    "plt.plot(y_train)\n",
    "plt.plot(y_train_predict)\n",
    "plt.title('VOLUMN_5MIN')\n",
    "plt.xlabel('time')\n",
    "plt.ylabel('volumn')\n",
    "plt.show()"
   ]
  },
  {
   "cell_type": "code",
   "execution_count": null,
   "id": "33be771f",
   "metadata": {},
   "outputs": [],
   "source": [
    "start_index = len(flow) - time_step  # 开始索引\n",
    "end_index = start_index + time_step  # 结束索引\n",
    "\n",
    "# 准备输入数据\n",
    "X_pred = np.array(flow[start_index:end_index]).reshape(1, time_step, 1)"
   ]
  },
  {
   "cell_type": "code",
   "execution_count": null,
   "id": "128a5556",
   "metadata": {},
   "outputs": [],
   "source": [
    "# 进行预测\n",
    "time_length = 24 * 60 // 5  # 接下来要预测的时间长度\n",
    "y_pred = []\n",
    "for i in range(time_length):\n",
    "    pred = model.predict(X_pred)\n",
    "    y_pred.append(pred[0, 0])\n",
    "    X_pred[:, :-1, :] = X_pred[:, 1:, :]\n",
    "    X_pred[:, -1, :] = pred.reshape(1, 1, 1)\n"
   ]
  },
  {
   "cell_type": "code",
   "execution_count": null,
   "id": "fcad743e",
   "metadata": {},
   "outputs": [],
   "source": [
    "[i*max(flow) for i ]"
   ]
  },
  {
   "cell_type": "code",
   "execution_count": null,
   "id": "33f3bcd0",
   "metadata": {},
   "outputs": [],
   "source": []
  },
  {
   "cell_type": "code",
   "execution_count": null,
   "id": "31a89c07",
   "metadata": {},
   "outputs": [],
   "source": []
  }
 ],
 "metadata": {
  "kernelspec": {
   "display_name": "d2lenv",
   "language": "python",
   "name": "d2lenv"
  },
  "language_info": {
   "codemirror_mode": {
    "name": "ipython",
    "version": 3
   },
   "file_extension": ".py",
   "mimetype": "text/x-python",
   "name": "python",
   "nbconvert_exporter": "python",
   "pygments_lexer": "ipython3",
   "version": "3.8.18"
  }
 },
 "nbformat": 4,
 "nbformat_minor": 5
}
