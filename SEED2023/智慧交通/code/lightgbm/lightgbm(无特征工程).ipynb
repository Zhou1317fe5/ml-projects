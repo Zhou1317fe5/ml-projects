{
 "cells": [
  {
   "cell_type": "code",
   "execution_count": 1,
   "metadata": {
    "pycharm": {
     "is_executing": false
    }
   },
   "outputs": [],
   "source": [
    "import matplotlib.pyplot as plt\n",
    "import numpy as np\n",
    "import pandas as pd\n",
    "import lightgbm as lgb\n",
    "plt.rcParams[\"figure.figsize\"] = (20,5) # 设置pyplot绘制的图片大小"
   ]
  },
  {
   "cell_type": "code",
   "execution_count": 42,
   "metadata": {},
   "outputs": [
    {
     "data": {
      "text/plain": [
       "'4.0.0'"
      ]
     },
     "execution_count": 42,
     "metadata": {},
     "output_type": "execute_result"
    }
   ],
   "source": [
    "lgb.__version__"
   ]
  },
  {
   "cell_type": "markdown",
   "metadata": {},
   "source": [
    "## 数据获取并处理"
   ]
  },
  {
   "cell_type": "code",
   "execution_count": 6,
   "metadata": {
    "pycharm": {
     "is_executing": false
    }
   },
   "outputs": [],
   "source": [
    "#load_dataset\n",
    "lanes = pd.read_csv('../data/Lane.csv')  \n",
    "light = pd.read_csv('../data/Light_status.csv')\n",
    "roads = pd.read_csv('../data/Entrance_road.csv') \n",
    "flow = pd.read_csv('../data/Flow.csv')"
   ]
  },
  {
   "cell_type": "markdown",
   "metadata": {},
   "source": [
    "## Light_status.csv"
   ]
  },
  {
   "cell_type": "code",
   "execution_count": 7,
   "metadata": {},
   "outputs": [
    {
     "data": {
      "text/html": [
       "<div>\n",
       "<style scoped>\n",
       "    .dataframe tbody tr th:only-of-type {\n",
       "        vertical-align: middle;\n",
       "    }\n",
       "\n",
       "    .dataframe tbody tr th {\n",
       "        vertical-align: top;\n",
       "    }\n",
       "\n",
       "    .dataframe thead th {\n",
       "        text-align: right;\n",
       "    }\n",
       "</style>\n",
       "<table border=\"1\" class=\"dataframe\">\n",
       "  <thead>\n",
       "    <tr style=\"text-align: right;\">\n",
       "      <th></th>\n",
       "      <th>CYCLE_START_TIME</th>\n",
       "      <th>STAGE_START_TIME</th>\n",
       "      <th>STAGE_END_TIME</th>\n",
       "      <th>STAGE_LENGTH</th>\n",
       "      <th>GREEN_TIME</th>\n",
       "      <th>GREEN_FLASH_TIME</th>\n",
       "      <th>YELLOW_TIME</th>\n",
       "      <th>ALL_RED_TIME</th>\n",
       "      <th>CHANNELS</th>\n",
       "      <th>LANES</th>\n",
       "      <th>PHASES</th>\n",
       "      <th>LANE_FUNCS</th>\n",
       "    </tr>\n",
       "  </thead>\n",
       "  <tbody>\n",
       "    <tr>\n",
       "      <th>0</th>\n",
       "      <td>2023-08-01 0:01:08</td>\n",
       "      <td>2023-08-01 00:01:08</td>\n",
       "      <td>2023-08-01 00:01:30</td>\n",
       "      <td>22</td>\n",
       "      <td>19</td>\n",
       "      <td>0</td>\n",
       "      <td>3</td>\n",
       "      <td>0</td>\n",
       "      <td>11,2,3,10</td>\n",
       "      <td>1_2,1_3,3_2,1_4,3_3,3_4</td>\n",
       "      <td>3,5,10</td>\n",
       "      <td>11,13</td>\n",
       "    </tr>\n",
       "    <tr>\n",
       "      <th>1</th>\n",
       "      <td>2023-08-01 0:02:18</td>\n",
       "      <td>2023-08-01 00:02:18</td>\n",
       "      <td>2023-08-01 00:02:40</td>\n",
       "      <td>22</td>\n",
       "      <td>19</td>\n",
       "      <td>0</td>\n",
       "      <td>3</td>\n",
       "      <td>0</td>\n",
       "      <td>11,2,3,10</td>\n",
       "      <td>1_2,1_3,3_2,1_4,3_3,3_4</td>\n",
       "      <td>3,5,10</td>\n",
       "      <td>11,13</td>\n",
       "    </tr>\n",
       "    <tr>\n",
       "      <th>2</th>\n",
       "      <td>2023-08-01 0:04:38</td>\n",
       "      <td>2023-08-01 00:04:38</td>\n",
       "      <td>2023-08-01 00:05:00</td>\n",
       "      <td>22</td>\n",
       "      <td>19</td>\n",
       "      <td>0</td>\n",
       "      <td>3</td>\n",
       "      <td>0</td>\n",
       "      <td>11,2,3,10</td>\n",
       "      <td>1_2,1_3,3_2,1_4,3_3,3_4</td>\n",
       "      <td>3,5,10</td>\n",
       "      <td>11,13</td>\n",
       "    </tr>\n",
       "    <tr>\n",
       "      <th>3</th>\n",
       "      <td>2023-08-01 0:05:48</td>\n",
       "      <td>2023-08-01 00:05:48</td>\n",
       "      <td>2023-08-01 00:06:10</td>\n",
       "      <td>22</td>\n",
       "      <td>19</td>\n",
       "      <td>0</td>\n",
       "      <td>3</td>\n",
       "      <td>0</td>\n",
       "      <td>11,2,3,10</td>\n",
       "      <td>1_2,1_3,3_2,1_4,3_3,3_4</td>\n",
       "      <td>3,5,10</td>\n",
       "      <td>11,13</td>\n",
       "    </tr>\n",
       "    <tr>\n",
       "      <th>4</th>\n",
       "      <td>2023-08-01 0:06:58</td>\n",
       "      <td>2023-08-01 00:06:58</td>\n",
       "      <td>2023-08-01 00:07:20</td>\n",
       "      <td>22</td>\n",
       "      <td>19</td>\n",
       "      <td>0</td>\n",
       "      <td>3</td>\n",
       "      <td>0</td>\n",
       "      <td>11,2,3,10</td>\n",
       "      <td>1_2,1_3,3_2,1_4,3_3,3_4</td>\n",
       "      <td>3,5,10</td>\n",
       "      <td>11,13</td>\n",
       "    </tr>\n",
       "  </tbody>\n",
       "</table>\n",
       "</div>"
      ],
      "text/plain": [
       "     CYCLE_START_TIME     STAGE_START_TIME       STAGE_END_TIME  STAGE_LENGTH  \\\n",
       "0  2023-08-01 0:01:08  2023-08-01 00:01:08  2023-08-01 00:01:30            22   \n",
       "1  2023-08-01 0:02:18  2023-08-01 00:02:18  2023-08-01 00:02:40            22   \n",
       "2  2023-08-01 0:04:38  2023-08-01 00:04:38  2023-08-01 00:05:00            22   \n",
       "3  2023-08-01 0:05:48  2023-08-01 00:05:48  2023-08-01 00:06:10            22   \n",
       "4  2023-08-01 0:06:58  2023-08-01 00:06:58  2023-08-01 00:07:20            22   \n",
       "\n",
       "   GREEN_TIME  GREEN_FLASH_TIME  YELLOW_TIME  ALL_RED_TIME   CHANNELS  \\\n",
       "0          19                 0            3             0  11,2,3,10   \n",
       "1          19                 0            3             0  11,2,3,10   \n",
       "2          19                 0            3             0  11,2,3,10   \n",
       "3          19                 0            3             0  11,2,3,10   \n",
       "4          19                 0            3             0  11,2,3,10   \n",
       "\n",
       "                     LANES  PHASES LANE_FUNCS  \n",
       "0  1_2,1_3,3_2,1_4,3_3,3_4  3,5,10      11,13  \n",
       "1  1_2,1_3,3_2,1_4,3_3,3_4  3,5,10      11,13  \n",
       "2  1_2,1_3,3_2,1_4,3_3,3_4  3,5,10      11,13  \n",
       "3  1_2,1_3,3_2,1_4,3_3,3_4  3,5,10      11,13  \n",
       "4  1_2,1_3,3_2,1_4,3_3,3_4  3,5,10      11,13  "
      ]
     },
     "execution_count": 7,
     "metadata": {},
     "output_type": "execute_result"
    }
   ],
   "source": [
    "light.head()"
   ]
  },
  {
   "cell_type": "code",
   "execution_count": 8,
   "metadata": {},
   "outputs": [],
   "source": [
    "# 转换成日期属性\n",
    "light['CYCLE_START_TIME'] = pd.to_datetime(light['CYCLE_START_TIME'])\n",
    "light['STAGE_START_TIME'] = pd.to_datetime(light['STAGE_START_TIME'])\n",
    "light['STAGE_END_TIME'] = pd.to_datetime(light['STAGE_END_TIME'])"
   ]
  },
  {
   "cell_type": "code",
   "execution_count": 9,
   "metadata": {},
   "outputs": [],
   "source": [
    "# 删除GREEN_FLASH_TIME YELLOW_TIME无用列\n",
    "light.drop('GREEN_FLASH_TIME',axis=1,inplace=True)\n",
    "light.drop('YELLOW_TIME',axis=1,inplace=True)"
   ]
  },
  {
   "cell_type": "code",
   "execution_count": 10,
   "metadata": {},
   "outputs": [],
   "source": [
    "# 将LANES列转为对应的1W 1E 2W形式\n",
    "light['released_lanes'] = light['LANES'].str.split(',') # 用，分割"
   ]
  },
  {
   "cell_type": "code",
   "execution_count": 11,
   "metadata": {},
   "outputs": [],
   "source": [
    "# 将放行车道号“_”前代表的进口道，1，2，3，4替换为为W，N，E，S。\n",
    "\n",
    "# 定义一个替换函数 replace_dir\n",
    "def replace_lanes(lanes):\n",
    "    replaced = []\n",
    "    for i in lanes:\n",
    "        i = i.replace('1_', 'W_')\n",
    "        i = i.replace('2_', 'N_')\n",
    "        i = i.replace('3_', 'E_')\n",
    "        i = i.replace('4_', 'S_')\n",
    "        \n",
    "        replaced.append(i)\n",
    "    \n",
    "    return replaced\n",
    "\n",
    "# apply替换\n",
    "light['released_lanes'] = light['released_lanes'].apply(replace_lanes)"
   ]
  },
  {
   "cell_type": "code",
   "execution_count": 12,
   "metadata": {},
   "outputs": [],
   "source": [
    "# 调换顺序，改为前面为车道号，后面为进口道，并去掉下划线\n",
    "light['released_lanes'] = light['released_lanes'].apply(lambda lanes: [lane.replace('_', '')[-1] + lane.replace('_', '')[:-1] for lane in lanes])"
   ]
  },
  {
   "cell_type": "code",
   "execution_count": null,
   "metadata": {},
   "outputs": [],
   "source": []
  },
  {
   "cell_type": "code",
   "execution_count": 13,
   "metadata": {},
   "outputs": [
    {
     "data": {
      "text/plain": [
       "array(['1_2,1_3,3_2,1_4,3_3,3_4', '1_1,3_1', '2_2,2_3,2_4,4_2,4_3,4_4',\n",
       "       '2_1,4_1'], dtype=object)"
      ]
     },
     "execution_count": 13,
     "metadata": {},
     "output_type": "execute_result"
    }
   ],
   "source": [
    "# 按LANES分组\n",
    "lanes_unique = light['LANES'].unique()\n",
    "lanes_unique"
   ]
  },
  {
   "cell_type": "code",
   "execution_count": 14,
   "metadata": {},
   "outputs": [],
   "source": [
    "# 按LANES分组\n",
    "ligth_2W3W2E4W3E4E=light[light['LANES']=='1_2,1_3,3_2,1_4,3_3,3_4']\n",
    "ligth_1W1E=light[light['LANES']=='1_1,3_1']\n",
    "ligth_2N3N4N2S3S4S=light[light['LANES']=='2_2,2_3,2_4,4_2,4_3,4_4']\n",
    "ligth_1N1S=light[light['LANES']=='2_1,4_1']"
   ]
  },
  {
   "cell_type": "code",
   "execution_count": 15,
   "metadata": {},
   "outputs": [
    {
     "name": "stderr",
     "output_type": "stream",
     "text": [
      "d:\\Development\\anaconda3\\envs\\ml\\lib\\site-packages\\pandas\\core\\frame.py:4913: SettingWithCopyWarning: \n",
      "A value is trying to be set on a copy of a slice from a DataFrame\n",
      "\n",
      "See the caveats in the documentation: https://pandas.pydata.org/pandas-docs/stable/user_guide/indexing.html#returning-a-view-versus-a-copy\n",
      "  errors=errors,\n"
     ]
    }
   ],
   "source": [
    "# 删除STAGE_END_TIME，LANES\n",
    "ligth_2W3W2E4W3E4E.drop(['STAGE_END_TIME','LANES'],axis=1,inplace=True)\n",
    "ligth_1W1E.drop(['STAGE_END_TIME','LANES'],axis=1,inplace=True)\n",
    "ligth_2N3N4N2S3S4S.drop(['STAGE_END_TIME','LANES'],axis=1,inplace=True)\n",
    "ligth_1N1S.drop(['STAGE_END_TIME','LANES'],axis=1,inplace=True)"
   ]
  },
  {
   "cell_type": "code",
   "execution_count": 16,
   "metadata": {},
   "outputs": [],
   "source": [
    "# ligth_2W3W2E4W3E4E\n",
    "# 删除2023-08-01 00:05:00前的数据\n",
    "ligth_2W3W2E4W3E4E=ligth_2W3W2E4W3E4E.drop(index=ligth_2W3W2E4W3E4E.index[:3])\n",
    "ligth_2W3W2E4W3E4E=ligth_2W3W2E4W3E4E.reset_index(drop=True)\n",
    "# 将CYCLE_START_TIME设置为时间索引\n",
    "ligth_2W3W2E4W3E4E=ligth_2W3W2E4W3E4E.set_index('CYCLE_START_TIME')\n",
    "# 对数据进行重新采样，以五分钟为一个时间段，并选择从00:05:00开始的数据：\n",
    "start_time = pd.to_datetime(\"2023-08-01 00:05:00\")\n",
    "ligth_2W3W2E4W3E4E = ligth_2W3W2E4W3E4E.resample('5Min',label='left', closed='right').first().loc[start_time:] "
   ]
  },
  {
   "cell_type": "code",
   "execution_count": 17,
   "metadata": {},
   "outputs": [],
   "source": [
    "# ligth_1W1E\n",
    "# 删除2023-08-01 00:05:00前的数据\n",
    "ligth_1W1E=ligth_1W1E.drop(index=ligth_1W1E.index[:3])\n",
    "ligth_1W1E=ligth_1W1E.reset_index(drop=True)\n",
    "# 将CYCLE_START_TIME设置为时间索引\n",
    "ligth_1W1E=ligth_1W1E.set_index('CYCLE_START_TIME')\n",
    "# 对数据进行重新采样，以五分钟为一个时间段，并选择从00:05:00开始的数据：\n",
    "start_time = pd.to_datetime(\"2023-08-01 00:05:00\")\n",
    "ligth_1W1E = ligth_1W1E.resample('5Min',label='left', closed='right').first().loc[start_time:] "
   ]
  },
  {
   "cell_type": "code",
   "execution_count": 18,
   "metadata": {},
   "outputs": [],
   "source": [
    "# ligth_2N3N4N2S3S4S\n",
    "# 删除2023-08-01 00:05:00前的数据\n",
    "ligth_2N3N4N2S3S4S=ligth_2N3N4N2S3S4S.drop(index=ligth_2N3N4N2S3S4S.index[:3])\n",
    "ligth_2N3N4N2S3S4S=ligth_2N3N4N2S3S4S.reset_index(drop=True)\n",
    "# 将CYCLE_START_TIME设置为时间索引\n",
    "ligth_2N3N4N2S3S4S=ligth_2N3N4N2S3S4S.set_index('CYCLE_START_TIME')\n",
    "# 对数据进行重新采样，以五分钟为一个时间段，并选择从00:05:00开始的数据：\n",
    "start_time = pd.to_datetime(\"2023-08-01 00:05:00\")\n",
    "ligth_2N3N4N2S3S4S = ligth_2N3N4N2S3S4S.resample('5Min',label='left', closed='right').first().loc[start_time:] "
   ]
  },
  {
   "cell_type": "code",
   "execution_count": 19,
   "metadata": {},
   "outputs": [],
   "source": [
    "# ligth_1N1S\n",
    "# 删除2023-08-01 00:05:00前的数据\n",
    "ligth_1N1S=ligth_1N1S.drop(index=ligth_1N1S.index[:3])\n",
    "ligth_1N1S=ligth_1N1S.reset_index(drop=True)\n",
    "# 将CYCLE_START_TIME设置为时间索引\n",
    "ligth_1N1S=ligth_1N1S.set_index('CYCLE_START_TIME')\n",
    "# 对数据进行重新采样，以五分钟为一个时间段，并选择从00:05:00开始的数据：\n",
    "start_time = pd.to_datetime(\"2023-08-01 00:05:00\")\n",
    "ligth_1N1S = ligth_1N1S.resample('5Min',label='left', closed='right').first().loc[start_time:] "
   ]
  },
  {
   "cell_type": "markdown",
   "metadata": {},
   "source": [
    "## Flow.csv"
   ]
  },
  {
   "cell_type": "code",
   "execution_count": 20,
   "metadata": {},
   "outputs": [],
   "source": [
    "flow['START_TIME'] = pd.to_datetime(flow['START_TIME'])\n",
    "flow['END_TIME'] = pd.to_datetime(flow['END_TIME'])"
   ]
  },
  {
   "cell_type": "code",
   "execution_count": 21,
   "metadata": {},
   "outputs": [],
   "source": [
    "flow['LANE_ARM']=flow['LANE_ID'].astype(str)+flow['ARM_ID']"
   ]
  },
  {
   "cell_type": "code",
   "execution_count": 22,
   "metadata": {},
   "outputs": [],
   "source": [
    "lane_arm = flow.pop(\"LANE_ARM\")\n",
    "flow.insert(2,'LANE_ARM',lane_arm)"
   ]
  },
  {
   "cell_type": "code",
   "execution_count": 23,
   "metadata": {},
   "outputs": [],
   "source": [
    "flow.drop(['LANE_ID','ARM_ID'],axis = 1,inplace = True)"
   ]
  },
  {
   "cell_type": "code",
   "execution_count": 24,
   "metadata": {},
   "outputs": [
    {
     "data": {
      "text/plain": [
       "array(['1E', '1N', '1S', '1W', '2E', '2N', '2S', '2W', '3E', '3N', '3S',\n",
       "       '3W', '4E', '4N', '4S', '4W'], dtype=object)"
      ]
     },
     "execution_count": 24,
     "metadata": {},
     "output_type": "execute_result"
    }
   ],
   "source": [
    "LANE_ARM_uniqe =flow['LANE_ARM'].unique()\n",
    "LANE_ARM_uniqe"
   ]
  },
  {
   "cell_type": "code",
   "execution_count": 25,
   "metadata": {},
   "outputs": [],
   "source": [
    "# 按LANE_ARM分组\n",
    "flow_1E = flow[flow['LANE_ARM']=='1E']\n",
    "flow_1N = flow[flow['LANE_ARM']=='1N']\n",
    "flow_1S = flow[flow['LANE_ARM']=='1S']\n",
    "flow_1W = flow[flow['LANE_ARM']=='1W']\n",
    "flow_2E = flow[flow['LANE_ARM']=='2E']\n",
    "flow_2N = flow[flow['LANE_ARM']=='2N']\n",
    "flow_2S = flow[flow['LANE_ARM']=='2S']\n",
    "flow_2W = flow[flow['LANE_ARM']=='2W']\n",
    "flow_3E = flow[flow['LANE_ARM']=='3E']\n",
    "flow_3N = flow[flow['LANE_ARM']=='3N']\n",
    "flow_3S = flow[flow['LANE_ARM']=='3S']\n",
    "flow_3W = flow[flow['LANE_ARM']=='3W']\n",
    "flow_4E = flow[flow['LANE_ARM']=='4E']\n",
    "flow_4N = flow[flow['LANE_ARM']=='4N']\n",
    "flow_4S = flow[flow['LANE_ARM']=='4S']\n",
    "flow_4W = flow[flow['LANE_ARM']=='4W']"
   ]
  },
  {
   "cell_type": "code",
   "execution_count": 26,
   "metadata": {},
   "outputs": [],
   "source": [
    "flow_LANE_ARM = [flow_1E\n",
    ",flow_1N\n",
    ",flow_1S\n",
    ",flow_1W\n",
    ",flow_2E\n",
    ",flow_2N\n",
    ",flow_2S\n",
    ",flow_2W\n",
    ",flow_3E\n",
    ",flow_3N\n",
    ",flow_3S\n",
    ",flow_3W\n",
    ",flow_4E\n",
    ",flow_4N\n",
    ",flow_4S\n",
    ",flow_4W]"
   ]
  },
  {
   "cell_type": "code",
   "execution_count": 27,
   "metadata": {},
   "outputs": [],
   "source": [
    "flow_1E = flow_1E.set_index('START_TIME')\n",
    "flow_1N = flow_1N.set_index('START_TIME')\n",
    "flow_1S = flow_1S.set_index('START_TIME')\n",
    "flow_1W = flow_1W.set_index('START_TIME')\n",
    "flow_2E = flow_2E.set_index('START_TIME')\n",
    "flow_2N = flow_2N.set_index('START_TIME')\n",
    "flow_2S = flow_2S.set_index('START_TIME')\n",
    "flow_2W = flow_2W.set_index('START_TIME')\n",
    "flow_3E = flow_3E.set_index('START_TIME')\n",
    "flow_3N = flow_3N.set_index('START_TIME')\n",
    "flow_3S = flow_3S.set_index('START_TIME')\n",
    "flow_3W = flow_3W.set_index('START_TIME')\n",
    "flow_4E = flow_4E.set_index('START_TIME')\n",
    "flow_4N = flow_4N.set_index('START_TIME')\n",
    "flow_4S = flow_4S.set_index('START_TIME')\n",
    "flow_4W = flow_4W.set_index('START_TIME')"
   ]
  },
  {
   "cell_type": "code",
   "execution_count": 28,
   "metadata": {},
   "outputs": [],
   "source": [
    "merged_flow_1E = pd.merge(flow_1E,ligth_1W1E, left_index=True, right_index=True, how='left')\n",
    "merged_flow_1N = pd.merge(flow_1N,ligth_1N1S, left_index=True, right_index=True, how='left')\n",
    "merged_flow_1S = pd.merge(flow_1S,ligth_1N1S, left_index=True, right_index=True, how='left')\n",
    "merged_flow_1W = pd.merge(flow_1W,ligth_1W1E, left_index=True, right_index=True, how='left')\n",
    "merged_flow_2E = pd.merge(flow_2E,ligth_2W3W2E4W3E4E, left_index=True, right_index=True, how='left')\n",
    "merged_flow_2N = pd.merge(flow_2N,ligth_2N3N4N2S3S4S, left_index=True, right_index=True, how='left')\n",
    "merged_flow_2S = pd.merge(flow_2S,ligth_2N3N4N2S3S4S, left_index=True, right_index=True, how='left')\n",
    "merged_flow_2W = pd.merge(flow_2W,ligth_2W3W2E4W3E4E, left_index=True, right_index=True, how='left')\n",
    "merged_flow_3E = pd.merge(flow_3E,ligth_2W3W2E4W3E4E, left_index=True, right_index=True, how='left')\n",
    "merged_flow_3N = pd.merge(flow_3N,ligth_2N3N4N2S3S4S, left_index=True, right_index=True, how='left')\n",
    "merged_flow_3S = pd.merge(flow_3S,ligth_2N3N4N2S3S4S, left_index=True, right_index=True, how='left')\n",
    "merged_flow_3W = pd.merge(flow_3W,ligth_2W3W2E4W3E4E, left_index=True, right_index=True, how='left')\n",
    "merged_flow_4E = pd.merge(flow_4E,ligth_2W3W2E4W3E4E, left_index=True, right_index=True, how='left')\n",
    "merged_flow_4N = pd.merge(flow_4N,ligth_2N3N4N2S3S4S, left_index=True, right_index=True, how='left')\n",
    "merged_flow_4S = pd.merge(flow_4S,ligth_2N3N4N2S3S4S, left_index=True, right_index=True, how='left')\n",
    "merged_flow_4W = pd.merge(flow_4W,ligth_2W3W2E4W3E4E, left_index=True, right_index=True, how='left')"
   ]
  },
  {
   "cell_type": "code",
   "execution_count": 29,
   "metadata": {},
   "outputs": [],
   "source": [
    "df_1E = merged_flow_1E.copy()\n",
    "df_1N = merged_flow_1N.copy()\n",
    "df_1S = merged_flow_1S.copy()\n",
    "df_1W = merged_flow_1W.copy()\n",
    "df_2E = merged_flow_2E.copy()\n",
    "df_2N = merged_flow_2N.copy()\n",
    "df_2S = merged_flow_2S.copy()\n",
    "df_2W = merged_flow_2W.copy()\n",
    "df_3E = merged_flow_3E.copy()\n",
    "df_3N = merged_flow_3N.copy()\n",
    "df_3S = merged_flow_3S.copy()\n",
    "df_3W = merged_flow_3W.copy()\n",
    "df_4E = merged_flow_4E.copy()\n",
    "df_4N = merged_flow_4N.copy()\n",
    "df_4S = merged_flow_4S.copy()\n",
    "df_4W = merged_flow_4W.copy()"
   ]
  },
  {
   "cell_type": "code",
   "execution_count": 30,
   "metadata": {},
   "outputs": [
    {
     "data": {
      "text/html": [
       "<div>\n",
       "<style scoped>\n",
       "    .dataframe tbody tr th:only-of-type {\n",
       "        vertical-align: middle;\n",
       "    }\n",
       "\n",
       "    .dataframe tbody tr th {\n",
       "        vertical-align: top;\n",
       "    }\n",
       "\n",
       "    .dataframe thead th {\n",
       "        text-align: right;\n",
       "    }\n",
       "</style>\n",
       "<table border=\"1\" class=\"dataframe\">\n",
       "  <thead>\n",
       "    <tr style=\"text-align: right;\">\n",
       "      <th></th>\n",
       "      <th>LANE_ARM</th>\n",
       "      <th>END_TIME</th>\n",
       "      <th>VOLUMN_5MIN</th>\n",
       "      <th>STAGE_START_TIME</th>\n",
       "      <th>STAGE_LENGTH</th>\n",
       "      <th>GREEN_TIME</th>\n",
       "      <th>ALL_RED_TIME</th>\n",
       "      <th>CHANNELS</th>\n",
       "      <th>PHASES</th>\n",
       "      <th>LANE_FUNCS</th>\n",
       "      <th>released_lanes</th>\n",
       "    </tr>\n",
       "    <tr>\n",
       "      <th>START_TIME</th>\n",
       "      <th></th>\n",
       "      <th></th>\n",
       "      <th></th>\n",
       "      <th></th>\n",
       "      <th></th>\n",
       "      <th></th>\n",
       "      <th></th>\n",
       "      <th></th>\n",
       "      <th></th>\n",
       "      <th></th>\n",
       "      <th></th>\n",
       "    </tr>\n",
       "  </thead>\n",
       "  <tbody>\n",
       "    <tr>\n",
       "      <th>2023-08-01 00:05:00</th>\n",
       "      <td>1E</td>\n",
       "      <td>2023-08-01 00:10:00</td>\n",
       "      <td>2</td>\n",
       "      <td>2023-08-01 00:06:10</td>\n",
       "      <td>13.0</td>\n",
       "      <td>9.0</td>\n",
       "      <td>1.0</td>\n",
       "      <td>1,9</td>\n",
       "      <td>4,9</td>\n",
       "      <td>12</td>\n",
       "      <td>[1W, 1E]</td>\n",
       "    </tr>\n",
       "    <tr>\n",
       "      <th>2023-08-01 00:10:00</th>\n",
       "      <td>1E</td>\n",
       "      <td>2023-08-01 00:15:00</td>\n",
       "      <td>1</td>\n",
       "      <td>2023-08-01 00:10:50</td>\n",
       "      <td>13.0</td>\n",
       "      <td>9.0</td>\n",
       "      <td>1.0</td>\n",
       "      <td>1,9</td>\n",
       "      <td>4,9</td>\n",
       "      <td>12</td>\n",
       "      <td>[1W, 1E]</td>\n",
       "    </tr>\n",
       "    <tr>\n",
       "      <th>2023-08-01 00:15:00</th>\n",
       "      <td>1E</td>\n",
       "      <td>2023-08-01 00:20:00</td>\n",
       "      <td>0</td>\n",
       "      <td>2023-08-01 00:15:30</td>\n",
       "      <td>13.0</td>\n",
       "      <td>9.0</td>\n",
       "      <td>1.0</td>\n",
       "      <td>1,9</td>\n",
       "      <td>4,9</td>\n",
       "      <td>12</td>\n",
       "      <td>[1W, 1E]</td>\n",
       "    </tr>\n",
       "    <tr>\n",
       "      <th>2023-08-01 00:20:00</th>\n",
       "      <td>1E</td>\n",
       "      <td>2023-08-01 00:25:00</td>\n",
       "      <td>1</td>\n",
       "      <td>2023-08-01 00:21:20</td>\n",
       "      <td>13.0</td>\n",
       "      <td>9.0</td>\n",
       "      <td>1.0</td>\n",
       "      <td>1,9</td>\n",
       "      <td>4,9</td>\n",
       "      <td>12</td>\n",
       "      <td>[1W, 1E]</td>\n",
       "    </tr>\n",
       "    <tr>\n",
       "      <th>2023-08-01 00:25:00</th>\n",
       "      <td>1E</td>\n",
       "      <td>2023-08-01 00:30:00</td>\n",
       "      <td>0</td>\n",
       "      <td>2023-08-01 00:26:00</td>\n",
       "      <td>13.0</td>\n",
       "      <td>9.0</td>\n",
       "      <td>1.0</td>\n",
       "      <td>1,9</td>\n",
       "      <td>4,9</td>\n",
       "      <td>12</td>\n",
       "      <td>[1W, 1E]</td>\n",
       "    </tr>\n",
       "    <tr>\n",
       "      <th>...</th>\n",
       "      <td>...</td>\n",
       "      <td>...</td>\n",
       "      <td>...</td>\n",
       "      <td>...</td>\n",
       "      <td>...</td>\n",
       "      <td>...</td>\n",
       "      <td>...</td>\n",
       "      <td>...</td>\n",
       "      <td>...</td>\n",
       "      <td>...</td>\n",
       "      <td>...</td>\n",
       "    </tr>\n",
       "    <tr>\n",
       "      <th>2023-08-27 23:35:00</th>\n",
       "      <td>1E</td>\n",
       "      <td>2023-08-27 23:40:00</td>\n",
       "      <td>1</td>\n",
       "      <td>2023-08-27 23:35:33</td>\n",
       "      <td>13.0</td>\n",
       "      <td>9.0</td>\n",
       "      <td>1.0</td>\n",
       "      <td>1,9</td>\n",
       "      <td>4,9</td>\n",
       "      <td>12</td>\n",
       "      <td>[1W, 1E]</td>\n",
       "    </tr>\n",
       "    <tr>\n",
       "      <th>2023-08-27 23:40:00</th>\n",
       "      <td>1E</td>\n",
       "      <td>2023-08-27 23:45:00</td>\n",
       "      <td>0</td>\n",
       "      <td>2023-08-27 23:41:23</td>\n",
       "      <td>13.0</td>\n",
       "      <td>9.0</td>\n",
       "      <td>1.0</td>\n",
       "      <td>1,9</td>\n",
       "      <td>4,9</td>\n",
       "      <td>12</td>\n",
       "      <td>[1W, 1E]</td>\n",
       "    </tr>\n",
       "    <tr>\n",
       "      <th>2023-08-27 23:45:00</th>\n",
       "      <td>1E</td>\n",
       "      <td>2023-08-27 23:50:00</td>\n",
       "      <td>0</td>\n",
       "      <td>2023-08-27 23:46:03</td>\n",
       "      <td>13.0</td>\n",
       "      <td>9.0</td>\n",
       "      <td>1.0</td>\n",
       "      <td>1,9</td>\n",
       "      <td>4,9</td>\n",
       "      <td>12</td>\n",
       "      <td>[1W, 1E]</td>\n",
       "    </tr>\n",
       "    <tr>\n",
       "      <th>2023-08-27 23:50:00</th>\n",
       "      <td>1E</td>\n",
       "      <td>2023-08-27 23:55:00</td>\n",
       "      <td>0</td>\n",
       "      <td>2023-08-27 23:50:43</td>\n",
       "      <td>13.0</td>\n",
       "      <td>9.0</td>\n",
       "      <td>1.0</td>\n",
       "      <td>1,9</td>\n",
       "      <td>4,9</td>\n",
       "      <td>12</td>\n",
       "      <td>[1W, 1E]</td>\n",
       "    </tr>\n",
       "    <tr>\n",
       "      <th>2023-08-27 23:55:00</th>\n",
       "      <td>1E</td>\n",
       "      <td>2023-08-28 00:00:00</td>\n",
       "      <td>0</td>\n",
       "      <td>2023-08-27 23:55:23</td>\n",
       "      <td>13.0</td>\n",
       "      <td>9.0</td>\n",
       "      <td>1.0</td>\n",
       "      <td>1,9</td>\n",
       "      <td>4,9</td>\n",
       "      <td>12</td>\n",
       "      <td>[1W, 1E]</td>\n",
       "    </tr>\n",
       "  </tbody>\n",
       "</table>\n",
       "<p>7549 rows × 11 columns</p>\n",
       "</div>"
      ],
      "text/plain": [
       "                    LANE_ARM            END_TIME  VOLUMN_5MIN  \\\n",
       "START_TIME                                                      \n",
       "2023-08-01 00:05:00       1E 2023-08-01 00:10:00            2   \n",
       "2023-08-01 00:10:00       1E 2023-08-01 00:15:00            1   \n",
       "2023-08-01 00:15:00       1E 2023-08-01 00:20:00            0   \n",
       "2023-08-01 00:20:00       1E 2023-08-01 00:25:00            1   \n",
       "2023-08-01 00:25:00       1E 2023-08-01 00:30:00            0   \n",
       "...                      ...                 ...          ...   \n",
       "2023-08-27 23:35:00       1E 2023-08-27 23:40:00            1   \n",
       "2023-08-27 23:40:00       1E 2023-08-27 23:45:00            0   \n",
       "2023-08-27 23:45:00       1E 2023-08-27 23:50:00            0   \n",
       "2023-08-27 23:50:00       1E 2023-08-27 23:55:00            0   \n",
       "2023-08-27 23:55:00       1E 2023-08-28 00:00:00            0   \n",
       "\n",
       "                       STAGE_START_TIME  STAGE_LENGTH  GREEN_TIME  \\\n",
       "START_TIME                                                          \n",
       "2023-08-01 00:05:00 2023-08-01 00:06:10          13.0         9.0   \n",
       "2023-08-01 00:10:00 2023-08-01 00:10:50          13.0         9.0   \n",
       "2023-08-01 00:15:00 2023-08-01 00:15:30          13.0         9.0   \n",
       "2023-08-01 00:20:00 2023-08-01 00:21:20          13.0         9.0   \n",
       "2023-08-01 00:25:00 2023-08-01 00:26:00          13.0         9.0   \n",
       "...                                 ...           ...         ...   \n",
       "2023-08-27 23:35:00 2023-08-27 23:35:33          13.0         9.0   \n",
       "2023-08-27 23:40:00 2023-08-27 23:41:23          13.0         9.0   \n",
       "2023-08-27 23:45:00 2023-08-27 23:46:03          13.0         9.0   \n",
       "2023-08-27 23:50:00 2023-08-27 23:50:43          13.0         9.0   \n",
       "2023-08-27 23:55:00 2023-08-27 23:55:23          13.0         9.0   \n",
       "\n",
       "                     ALL_RED_TIME CHANNELS PHASES LANE_FUNCS released_lanes  \n",
       "START_TIME                                                                   \n",
       "2023-08-01 00:05:00           1.0      1,9    4,9         12       [1W, 1E]  \n",
       "2023-08-01 00:10:00           1.0      1,9    4,9         12       [1W, 1E]  \n",
       "2023-08-01 00:15:00           1.0      1,9    4,9         12       [1W, 1E]  \n",
       "2023-08-01 00:20:00           1.0      1,9    4,9         12       [1W, 1E]  \n",
       "2023-08-01 00:25:00           1.0      1,9    4,9         12       [1W, 1E]  \n",
       "...                           ...      ...    ...        ...            ...  \n",
       "2023-08-27 23:35:00           1.0      1,9    4,9         12       [1W, 1E]  \n",
       "2023-08-27 23:40:00           1.0      1,9    4,9         12       [1W, 1E]  \n",
       "2023-08-27 23:45:00           1.0      1,9    4,9         12       [1W, 1E]  \n",
       "2023-08-27 23:50:00           1.0      1,9    4,9         12       [1W, 1E]  \n",
       "2023-08-27 23:55:00           1.0      1,9    4,9         12       [1W, 1E]  \n",
       "\n",
       "[7549 rows x 11 columns]"
      ]
     },
     "execution_count": 30,
     "metadata": {},
     "output_type": "execute_result"
    }
   ],
   "source": [
    "df_1E"
   ]
  },
  {
   "cell_type": "markdown",
   "metadata": {},
   "source": [
    "## 合并车流量"
   ]
  },
  {
   "cell_type": "code",
   "execution_count": 31,
   "metadata": {},
   "outputs": [
    {
     "data": {
      "text/html": [
       "<div>\n",
       "<style scoped>\n",
       "    .dataframe tbody tr th:only-of-type {\n",
       "        vertical-align: middle;\n",
       "    }\n",
       "\n",
       "    .dataframe tbody tr th {\n",
       "        vertical-align: top;\n",
       "    }\n",
       "\n",
       "    .dataframe thead th {\n",
       "        text-align: right;\n",
       "    }\n",
       "</style>\n",
       "<table border=\"1\" class=\"dataframe\">\n",
       "  <thead>\n",
       "    <tr style=\"text-align: right;\">\n",
       "      <th></th>\n",
       "      <th>VOLUMN_5MIN</th>\n",
       "    </tr>\n",
       "    <tr>\n",
       "      <th>START_TIME</th>\n",
       "      <th></th>\n",
       "    </tr>\n",
       "  </thead>\n",
       "  <tbody>\n",
       "    <tr>\n",
       "      <th>2023-08-01 00:05:00</th>\n",
       "      <td>7.0</td>\n",
       "    </tr>\n",
       "    <tr>\n",
       "      <th>2023-08-01 00:10:00</th>\n",
       "      <td>11.0</td>\n",
       "    </tr>\n",
       "    <tr>\n",
       "      <th>2023-08-01 00:15:00</th>\n",
       "      <td>6.0</td>\n",
       "    </tr>\n",
       "    <tr>\n",
       "      <th>2023-08-01 00:20:00</th>\n",
       "      <td>9.0</td>\n",
       "    </tr>\n",
       "    <tr>\n",
       "      <th>2023-08-01 00:25:00</th>\n",
       "      <td>2.0</td>\n",
       "    </tr>\n",
       "    <tr>\n",
       "      <th>...</th>\n",
       "      <td>...</td>\n",
       "    </tr>\n",
       "    <tr>\n",
       "      <th>2023-08-27 23:35:00</th>\n",
       "      <td>14.0</td>\n",
       "    </tr>\n",
       "    <tr>\n",
       "      <th>2023-08-27 23:40:00</th>\n",
       "      <td>6.0</td>\n",
       "    </tr>\n",
       "    <tr>\n",
       "      <th>2023-08-27 23:45:00</th>\n",
       "      <td>2.0</td>\n",
       "    </tr>\n",
       "    <tr>\n",
       "      <th>2023-08-27 23:50:00</th>\n",
       "      <td>8.0</td>\n",
       "    </tr>\n",
       "    <tr>\n",
       "      <th>2023-08-27 23:55:00</th>\n",
       "      <td>11.0</td>\n",
       "    </tr>\n",
       "  </tbody>\n",
       "</table>\n",
       "<p>7549 rows × 1 columns</p>\n",
       "</div>"
      ],
      "text/plain": [
       "                     VOLUMN_5MIN\n",
       "START_TIME                      \n",
       "2023-08-01 00:05:00          7.0\n",
       "2023-08-01 00:10:00         11.0\n",
       "2023-08-01 00:15:00          6.0\n",
       "2023-08-01 00:20:00          9.0\n",
       "2023-08-01 00:25:00          2.0\n",
       "...                          ...\n",
       "2023-08-27 23:35:00         14.0\n",
       "2023-08-27 23:40:00          6.0\n",
       "2023-08-27 23:45:00          2.0\n",
       "2023-08-27 23:50:00          8.0\n",
       "2023-08-27 23:55:00         11.0\n",
       "\n",
       "[7549 rows x 1 columns]"
      ]
     },
     "execution_count": 31,
     "metadata": {},
     "output_type": "execute_result"
    }
   ],
   "source": [
    "LANE_ARM = [\n",
    "flow_1N\n",
    ",flow_1S\n",
    ",flow_1W\n",
    ",flow_2E\n",
    ",flow_2N\n",
    ",flow_2S\n",
    ",flow_2W\n",
    ",flow_3E\n",
    ",flow_3N\n",
    ",flow_3S\n",
    ",flow_3W\n",
    ",flow_4E\n",
    ",flow_4N\n",
    ",flow_4S\n",
    ",flow_4W]\n",
    "\n",
    "merged_flow = flow_1E['VOLUMN_5MIN']\n",
    "merged_flow = pd.DataFrame(merged_flow)\n",
    "for i in LANE_ARM:\n",
    "    merged_flow['VOLUMN_5MIN'] = merged_flow['VOLUMN_5MIN']+i['VOLUMN_5MIN']\n",
    "    \n",
    "merged_flow"
   ]
  },
  {
   "cell_type": "markdown",
   "metadata": {},
   "source": [
    "# 构造训练数据"
   ]
  },
  {
   "cell_type": "code",
   "execution_count": 34,
   "metadata": {},
   "outputs": [],
   "source": [
    "import pandas as pd\n",
    "data = merged_flow.copy()"
   ]
  },
  {
   "cell_type": "code",
   "execution_count": 66,
   "metadata": {},
   "outputs": [],
   "source": [
    "\n",
    "# 设置时间窗口大小\n",
    "window_size = 20"
   ]
  },
  {
   "cell_type": "code",
   "execution_count": 67,
   "metadata": {},
   "outputs": [],
   "source": [
    "\n",
    "# 滑动时间窗口生成样本\n",
    "samples = []\n",
    "for i in range(len(data) - window_size):\n",
    "    window_data = data.iloc[i:i+window_size]\n",
    "    features = window_data['VOLUMN_5MIN'].values # 提取特征\n",
    "    target = data.iloc[i+window_size]['VOLUMN_5MIN'] # 提取目标值\n",
    "    samples.append((features, target))\n",
    "\n",
    "# 划分训练集和测试集\n",
    "train_samples = samples[:int(0.8 * len(samples))] # 取80%作为训练集\n",
    "test_samples = samples[int(0.8 * len(samples)):] # 剩余20%作为测试集\n",
    "\n",
    "# 构建特征矩阵和目标向量\n",
    "train_X = [sample[0] for sample in train_samples]\n",
    "train_y = [sample[1] for sample in train_samples]\n",
    "test_X = [sample[0] for sample in test_samples]\n",
    "test_y = [sample[1] for sample in test_samples]\n"
   ]
  },
  {
   "cell_type": "code",
   "execution_count": 68,
   "metadata": {},
   "outputs": [],
   "source": [
    "train_X=pd.DataFrame(train_X)"
   ]
  },
  {
   "cell_type": "code",
   "execution_count": 69,
   "metadata": {},
   "outputs": [
    {
     "data": {
      "text/html": [
       "<div>\n",
       "<style scoped>\n",
       "    .dataframe tbody tr th:only-of-type {\n",
       "        vertical-align: middle;\n",
       "    }\n",
       "\n",
       "    .dataframe tbody tr th {\n",
       "        vertical-align: top;\n",
       "    }\n",
       "\n",
       "    .dataframe thead th {\n",
       "        text-align: right;\n",
       "    }\n",
       "</style>\n",
       "<table border=\"1\" class=\"dataframe\">\n",
       "  <thead>\n",
       "    <tr style=\"text-align: right;\">\n",
       "      <th></th>\n",
       "      <th>0</th>\n",
       "      <th>1</th>\n",
       "      <th>2</th>\n",
       "      <th>3</th>\n",
       "      <th>4</th>\n",
       "      <th>5</th>\n",
       "      <th>6</th>\n",
       "      <th>7</th>\n",
       "      <th>8</th>\n",
       "      <th>9</th>\n",
       "      <th>10</th>\n",
       "      <th>11</th>\n",
       "      <th>12</th>\n",
       "      <th>13</th>\n",
       "      <th>14</th>\n",
       "      <th>15</th>\n",
       "      <th>16</th>\n",
       "      <th>17</th>\n",
       "      <th>18</th>\n",
       "      <th>19</th>\n",
       "    </tr>\n",
       "  </thead>\n",
       "  <tbody>\n",
       "    <tr>\n",
       "      <th>0</th>\n",
       "      <td>7.0</td>\n",
       "      <td>11.0</td>\n",
       "      <td>6.0</td>\n",
       "      <td>9.0</td>\n",
       "      <td>2.0</td>\n",
       "      <td>9.0</td>\n",
       "      <td>4.0</td>\n",
       "      <td>4.0</td>\n",
       "      <td>11.0</td>\n",
       "      <td>4.0</td>\n",
       "      <td>4.0</td>\n",
       "      <td>5.0</td>\n",
       "      <td>3.0</td>\n",
       "      <td>3.0</td>\n",
       "      <td>2.0</td>\n",
       "      <td>5.0</td>\n",
       "      <td>5.0</td>\n",
       "      <td>3.0</td>\n",
       "      <td>5.0</td>\n",
       "      <td>7.0</td>\n",
       "    </tr>\n",
       "    <tr>\n",
       "      <th>1</th>\n",
       "      <td>11.0</td>\n",
       "      <td>6.0</td>\n",
       "      <td>9.0</td>\n",
       "      <td>2.0</td>\n",
       "      <td>9.0</td>\n",
       "      <td>4.0</td>\n",
       "      <td>4.0</td>\n",
       "      <td>11.0</td>\n",
       "      <td>4.0</td>\n",
       "      <td>4.0</td>\n",
       "      <td>5.0</td>\n",
       "      <td>3.0</td>\n",
       "      <td>3.0</td>\n",
       "      <td>2.0</td>\n",
       "      <td>5.0</td>\n",
       "      <td>5.0</td>\n",
       "      <td>3.0</td>\n",
       "      <td>5.0</td>\n",
       "      <td>7.0</td>\n",
       "      <td>4.0</td>\n",
       "    </tr>\n",
       "    <tr>\n",
       "      <th>2</th>\n",
       "      <td>6.0</td>\n",
       "      <td>9.0</td>\n",
       "      <td>2.0</td>\n",
       "      <td>9.0</td>\n",
       "      <td>4.0</td>\n",
       "      <td>4.0</td>\n",
       "      <td>11.0</td>\n",
       "      <td>4.0</td>\n",
       "      <td>4.0</td>\n",
       "      <td>5.0</td>\n",
       "      <td>3.0</td>\n",
       "      <td>3.0</td>\n",
       "      <td>2.0</td>\n",
       "      <td>5.0</td>\n",
       "      <td>5.0</td>\n",
       "      <td>3.0</td>\n",
       "      <td>5.0</td>\n",
       "      <td>7.0</td>\n",
       "      <td>4.0</td>\n",
       "      <td>0.0</td>\n",
       "    </tr>\n",
       "    <tr>\n",
       "      <th>3</th>\n",
       "      <td>9.0</td>\n",
       "      <td>2.0</td>\n",
       "      <td>9.0</td>\n",
       "      <td>4.0</td>\n",
       "      <td>4.0</td>\n",
       "      <td>11.0</td>\n",
       "      <td>4.0</td>\n",
       "      <td>4.0</td>\n",
       "      <td>5.0</td>\n",
       "      <td>3.0</td>\n",
       "      <td>3.0</td>\n",
       "      <td>2.0</td>\n",
       "      <td>5.0</td>\n",
       "      <td>5.0</td>\n",
       "      <td>3.0</td>\n",
       "      <td>5.0</td>\n",
       "      <td>7.0</td>\n",
       "      <td>4.0</td>\n",
       "      <td>0.0</td>\n",
       "      <td>2.0</td>\n",
       "    </tr>\n",
       "    <tr>\n",
       "      <th>4</th>\n",
       "      <td>2.0</td>\n",
       "      <td>9.0</td>\n",
       "      <td>4.0</td>\n",
       "      <td>4.0</td>\n",
       "      <td>11.0</td>\n",
       "      <td>4.0</td>\n",
       "      <td>4.0</td>\n",
       "      <td>5.0</td>\n",
       "      <td>3.0</td>\n",
       "      <td>3.0</td>\n",
       "      <td>2.0</td>\n",
       "      <td>5.0</td>\n",
       "      <td>5.0</td>\n",
       "      <td>3.0</td>\n",
       "      <td>5.0</td>\n",
       "      <td>7.0</td>\n",
       "      <td>4.0</td>\n",
       "      <td>0.0</td>\n",
       "      <td>2.0</td>\n",
       "      <td>5.0</td>\n",
       "    </tr>\n",
       "    <tr>\n",
       "      <th>...</th>\n",
       "      <td>...</td>\n",
       "      <td>...</td>\n",
       "      <td>...</td>\n",
       "      <td>...</td>\n",
       "      <td>...</td>\n",
       "      <td>...</td>\n",
       "      <td>...</td>\n",
       "      <td>...</td>\n",
       "      <td>...</td>\n",
       "      <td>...</td>\n",
       "      <td>...</td>\n",
       "      <td>...</td>\n",
       "      <td>...</td>\n",
       "      <td>...</td>\n",
       "      <td>...</td>\n",
       "      <td>...</td>\n",
       "      <td>...</td>\n",
       "      <td>...</td>\n",
       "      <td>...</td>\n",
       "      <td>...</td>\n",
       "    </tr>\n",
       "    <tr>\n",
       "      <th>6018</th>\n",
       "      <td>78.0</td>\n",
       "      <td>91.0</td>\n",
       "      <td>84.0</td>\n",
       "      <td>73.0</td>\n",
       "      <td>106.0</td>\n",
       "      <td>107.0</td>\n",
       "      <td>112.0</td>\n",
       "      <td>118.0</td>\n",
       "      <td>116.0</td>\n",
       "      <td>127.0</td>\n",
       "      <td>118.0</td>\n",
       "      <td>134.0</td>\n",
       "      <td>143.0</td>\n",
       "      <td>121.0</td>\n",
       "      <td>78.0</td>\n",
       "      <td>136.0</td>\n",
       "      <td>123.0</td>\n",
       "      <td>114.0</td>\n",
       "      <td>117.0</td>\n",
       "      <td>107.0</td>\n",
       "    </tr>\n",
       "    <tr>\n",
       "      <th>6019</th>\n",
       "      <td>91.0</td>\n",
       "      <td>84.0</td>\n",
       "      <td>73.0</td>\n",
       "      <td>106.0</td>\n",
       "      <td>107.0</td>\n",
       "      <td>112.0</td>\n",
       "      <td>118.0</td>\n",
       "      <td>116.0</td>\n",
       "      <td>127.0</td>\n",
       "      <td>118.0</td>\n",
       "      <td>134.0</td>\n",
       "      <td>143.0</td>\n",
       "      <td>121.0</td>\n",
       "      <td>78.0</td>\n",
       "      <td>136.0</td>\n",
       "      <td>123.0</td>\n",
       "      <td>114.0</td>\n",
       "      <td>117.0</td>\n",
       "      <td>107.0</td>\n",
       "      <td>113.0</td>\n",
       "    </tr>\n",
       "    <tr>\n",
       "      <th>6020</th>\n",
       "      <td>84.0</td>\n",
       "      <td>73.0</td>\n",
       "      <td>106.0</td>\n",
       "      <td>107.0</td>\n",
       "      <td>112.0</td>\n",
       "      <td>118.0</td>\n",
       "      <td>116.0</td>\n",
       "      <td>127.0</td>\n",
       "      <td>118.0</td>\n",
       "      <td>134.0</td>\n",
       "      <td>143.0</td>\n",
       "      <td>121.0</td>\n",
       "      <td>78.0</td>\n",
       "      <td>136.0</td>\n",
       "      <td>123.0</td>\n",
       "      <td>114.0</td>\n",
       "      <td>117.0</td>\n",
       "      <td>107.0</td>\n",
       "      <td>113.0</td>\n",
       "      <td>140.0</td>\n",
       "    </tr>\n",
       "    <tr>\n",
       "      <th>6021</th>\n",
       "      <td>73.0</td>\n",
       "      <td>106.0</td>\n",
       "      <td>107.0</td>\n",
       "      <td>112.0</td>\n",
       "      <td>118.0</td>\n",
       "      <td>116.0</td>\n",
       "      <td>127.0</td>\n",
       "      <td>118.0</td>\n",
       "      <td>134.0</td>\n",
       "      <td>143.0</td>\n",
       "      <td>121.0</td>\n",
       "      <td>78.0</td>\n",
       "      <td>136.0</td>\n",
       "      <td>123.0</td>\n",
       "      <td>114.0</td>\n",
       "      <td>117.0</td>\n",
       "      <td>107.0</td>\n",
       "      <td>113.0</td>\n",
       "      <td>140.0</td>\n",
       "      <td>116.0</td>\n",
       "    </tr>\n",
       "    <tr>\n",
       "      <th>6022</th>\n",
       "      <td>106.0</td>\n",
       "      <td>107.0</td>\n",
       "      <td>112.0</td>\n",
       "      <td>118.0</td>\n",
       "      <td>116.0</td>\n",
       "      <td>127.0</td>\n",
       "      <td>118.0</td>\n",
       "      <td>134.0</td>\n",
       "      <td>143.0</td>\n",
       "      <td>121.0</td>\n",
       "      <td>78.0</td>\n",
       "      <td>136.0</td>\n",
       "      <td>123.0</td>\n",
       "      <td>114.0</td>\n",
       "      <td>117.0</td>\n",
       "      <td>107.0</td>\n",
       "      <td>113.0</td>\n",
       "      <td>140.0</td>\n",
       "      <td>116.0</td>\n",
       "      <td>130.0</td>\n",
       "    </tr>\n",
       "  </tbody>\n",
       "</table>\n",
       "<p>6023 rows × 20 columns</p>\n",
       "</div>"
      ],
      "text/plain": [
       "         0      1      2      3      4      5      6      7      8      9   \\\n",
       "0       7.0   11.0    6.0    9.0    2.0    9.0    4.0    4.0   11.0    4.0   \n",
       "1      11.0    6.0    9.0    2.0    9.0    4.0    4.0   11.0    4.0    4.0   \n",
       "2       6.0    9.0    2.0    9.0    4.0    4.0   11.0    4.0    4.0    5.0   \n",
       "3       9.0    2.0    9.0    4.0    4.0   11.0    4.0    4.0    5.0    3.0   \n",
       "4       2.0    9.0    4.0    4.0   11.0    4.0    4.0    5.0    3.0    3.0   \n",
       "...     ...    ...    ...    ...    ...    ...    ...    ...    ...    ...   \n",
       "6018   78.0   91.0   84.0   73.0  106.0  107.0  112.0  118.0  116.0  127.0   \n",
       "6019   91.0   84.0   73.0  106.0  107.0  112.0  118.0  116.0  127.0  118.0   \n",
       "6020   84.0   73.0  106.0  107.0  112.0  118.0  116.0  127.0  118.0  134.0   \n",
       "6021   73.0  106.0  107.0  112.0  118.0  116.0  127.0  118.0  134.0  143.0   \n",
       "6022  106.0  107.0  112.0  118.0  116.0  127.0  118.0  134.0  143.0  121.0   \n",
       "\n",
       "         10     11     12     13     14     15     16     17     18     19  \n",
       "0       4.0    5.0    3.0    3.0    2.0    5.0    5.0    3.0    5.0    7.0  \n",
       "1       5.0    3.0    3.0    2.0    5.0    5.0    3.0    5.0    7.0    4.0  \n",
       "2       3.0    3.0    2.0    5.0    5.0    3.0    5.0    7.0    4.0    0.0  \n",
       "3       3.0    2.0    5.0    5.0    3.0    5.0    7.0    4.0    0.0    2.0  \n",
       "4       2.0    5.0    5.0    3.0    5.0    7.0    4.0    0.0    2.0    5.0  \n",
       "...     ...    ...    ...    ...    ...    ...    ...    ...    ...    ...  \n",
       "6018  118.0  134.0  143.0  121.0   78.0  136.0  123.0  114.0  117.0  107.0  \n",
       "6019  134.0  143.0  121.0   78.0  136.0  123.0  114.0  117.0  107.0  113.0  \n",
       "6020  143.0  121.0   78.0  136.0  123.0  114.0  117.0  107.0  113.0  140.0  \n",
       "6021  121.0   78.0  136.0  123.0  114.0  117.0  107.0  113.0  140.0  116.0  \n",
       "6022   78.0  136.0  123.0  114.0  117.0  107.0  113.0  140.0  116.0  130.0  \n",
       "\n",
       "[6023 rows x 20 columns]"
      ]
     },
     "execution_count": 69,
     "metadata": {},
     "output_type": "execute_result"
    }
   ],
   "source": [
    "train_X"
   ]
  },
  {
   "cell_type": "code",
   "execution_count": 70,
   "metadata": {},
   "outputs": [],
   "source": [
    "train_y=pd.DataFrame(train_y)\n",
    "test_X =pd.DataFrame(test_X)\n",
    "test_y =pd.DataFrame(test_y)"
   ]
  },
  {
   "cell_type": "code",
   "execution_count": 71,
   "metadata": {},
   "outputs": [
    {
     "name": "stdout",
     "output_type": "stream",
     "text": [
      "<class 'pandas.core.frame.DataFrame'>\n",
      "RangeIndex: 6023 entries, 0 to 6022\n",
      "Data columns (total 20 columns):\n",
      " #   Column  Non-Null Count  Dtype  \n",
      "---  ------  --------------  -----  \n",
      " 0   0       6022 non-null   float64\n",
      " 1   1       6022 non-null   float64\n",
      " 2   2       6022 non-null   float64\n",
      " 3   3       6022 non-null   float64\n",
      " 4   4       6022 non-null   float64\n",
      " 5   5       6022 non-null   float64\n",
      " 6   6       6022 non-null   float64\n",
      " 7   7       6022 non-null   float64\n",
      " 8   8       6022 non-null   float64\n",
      " 9   9       6022 non-null   float64\n",
      " 10  10      6022 non-null   float64\n",
      " 11  11      6022 non-null   float64\n",
      " 12  12      6022 non-null   float64\n",
      " 13  13      6022 non-null   float64\n",
      " 14  14      6022 non-null   float64\n",
      " 15  15      6022 non-null   float64\n",
      " 16  16      6022 non-null   float64\n",
      " 17  17      6022 non-null   float64\n",
      " 18  18      6022 non-null   float64\n",
      " 19  19      6022 non-null   float64\n",
      "dtypes: float64(20)\n",
      "memory usage: 941.2 KB\n",
      "<class 'pandas.core.frame.DataFrame'>\n",
      "RangeIndex: 6023 entries, 0 to 6022\n",
      "Data columns (total 1 columns):\n",
      " #   Column  Non-Null Count  Dtype  \n",
      "---  ------  --------------  -----  \n",
      " 0   0       6022 non-null   float64\n",
      "dtypes: float64(1)\n",
      "memory usage: 47.2 KB\n"
     ]
    }
   ],
   "source": [
    "train_X.info()\n",
    "train_y.info()"
   ]
  },
  {
   "cell_type": "markdown",
   "metadata": {},
   "source": [
    "### 调参和训练"
   ]
  },
  {
   "cell_type": "markdown",
   "metadata": {},
   "source": [
    "首先，导入LightGBM的python包。"
   ]
  },
  {
   "cell_type": "markdown",
   "metadata": {},
   "source": [
    "接着，创建训练数据和测试数据，代码如下。导入数据集之后，LightGBM会根据超参数，在数据集中加入一些额外的结构信息，例如，哪些特征属于类别特征、特征值离散化的边界等等。创建test_set时，我们需要设置reference=train_set，这使得test_set的结构信息与train_set保持一致。\n",
    "\n",
    "`feature_pre_filter`默认为`True`，lightgbm会根据min_data_in_leaf的值提前把一些不可能找到合法分割的特征过滤。由于后面会调整min_data_in_leaf，我们不希望反复构造数据集，我们将设置`feature_pre_filter=False`，这样`min_data_in_leaf`的选取不会影响到Dataset的构建。"
   ]
  },
  {
   "cell_type": "code",
   "execution_count": 72,
   "metadata": {
    "pycharm": {
     "is_executing": false
    }
   },
   "outputs": [],
   "source": [
    "\n",
    "#train_set = lgb.Dataset(train_X, label=train_y)\n",
    "#test_set = lgb.Dataset(test_X, label=test_y)"
   ]
  },
  {
   "cell_type": "code",
   "execution_count": 73,
   "metadata": {},
   "outputs": [],
   "source": [
    "params = {\n",
    "    \"feature_pre_filter\": False\n",
    "}\n",
    "\n",
    "train_set = lgb.Dataset(train_X, label=train_y, params=params)\n",
    "test_set = lgb.Dataset(test_X, label=test_y, reference=train_set)"
   ]
  },
  {
   "cell_type": "markdown",
   "metadata": {},
   "source": [
    "首先使用一组默认的超参数训练一下，观察在测试集上的效果。"
   ]
  },
  {
   "cell_type": "code",
   "execution_count": 75,
   "metadata": {
    "pycharm": {
     "is_executing": false
    },
    "scrolled": true
   },
   "outputs": [
    {
     "name": "stdout",
     "output_type": "stream",
     "text": [
      "[LightGBM] [Warning] Auto-choosing col-wise multi-threading, the overhead of testing was 0.000721 seconds.\n",
      "You can set `force_col_wise=true` to remove the overhead.\n",
      "[LightGBM] [Info] Total Bins 2883\n",
      "[LightGBM] [Info] Number of data points in the train set: 6023, number of used features: 20\n",
      "[LightGBM] [Info] Start training from score 47.806907\n"
     ]
    }
   ],
   "source": [
    "params = {\n",
    "    'objective':'regression' #设置目标函数为regression，将会使用最小均方误差(MSE)作为目标函数。其他超参数保持默认。\n",
    "}\n",
    "model = lgb.train(params=params, train_set=train_set, valid_sets=[test_set], valid_names=[\"test\"])"
   ]
  },
  {
   "cell_type": "markdown",
   "metadata": {},
   "source": [
    "#### 手动调参\n",
    "\n",
    "调参时，将train_set中最后一天288个数据作为验证集，其余作为训练集。"
   ]
  },
  {
   "cell_type": "code",
   "execution_count": null,
   "metadata": {},
   "outputs": [],
   "source": [
    "'''\n",
    "#划分训练集和测试集\n",
    "train_samples = samples[:int(0.8 * len(samples))] # 取80%作为训练集\n",
    "test_samples = samples[int(0.8 * len(samples)):] # 剩余20%作为测试集\n",
    "\n",
    "#构建特征矩阵和目标向量\n",
    "train_X = [sample[0] for sample in train_samples]\n",
    "train_y = [sample[1] for sample in train_samples]\n",
    "test_X = [sample[0] for sample in test_samples]\n",
    "test_y = [sample[1] for sample in test_samples]\n",
    "\n",
    "'''"
   ]
  },
  {
   "cell_type": "code",
   "execution_count": 39,
   "metadata": {
    "pycharm": {
     "is_executing": false
    }
   },
   "outputs": [],
   "source": [
    "num_data_per_day = 288\n",
    "val_train_data = train_X.iloc[: -num_data_per_day]\n",
    "val_test_data = train_set.iloc[-num_data_per_day :]\n",
    "val_train_label = train_y[: -num_data_per_day]\n",
    "val_test_label = test_y[-num_data_per_day :]\n",
    "\n",
    "val_train_set = lgb.Dataset(data=val_train_data, label=val_train_label)\n",
    "val_test_set = lgb.Dataset(data=val_test_data, label=val_test_label, reference=val_train_set)"
   ]
  },
  {
   "cell_type": "code",
   "execution_count": 40,
   "metadata": {
    "pycharm": {
     "is_executing": false
    }
   },
   "outputs": [],
   "source": [
    "params = {\n",
    "    'objective': 'regression',\n",
    "    'num_trees': 500,\n",
    "    'verbose': -1\n",
    "}\n",
    "early_stopping_rounds = 10"
   ]
  },
  {
   "cell_type": "markdown",
   "metadata": {},
   "source": [
    "为方便测试，先定义一个直接由超参数得到验证集上结果的函数。"
   ]
  },
  {
   "cell_type": "code",
   "execution_count": 41,
   "metadata": {
    "pycharm": {
     "is_executing": false
    }
   },
   "outputs": [],
   "source": [
    "def get_eval_result(params):\n",
    "    evals_result = {}\n",
    "    model = lgb.train(params=params,\n",
    "                      train_set=val_train_set,\n",
    "                      valid_sets=[val_test_set],\n",
    "                      valid_names=[\"val_test\"],\n",
    "                      evals_result=evals_result,\n",
    "                      early_stopping_rounds=early_stopping_rounds\n",
    "                      #verbose_eval=False\n",
    "                      )\n",
    "    return evals_result[\"val_test\"][\"l2\"][model.best_iteration - 1], model.best_iteration"
   ]
  },
  {
   "cell_type": "markdown",
   "metadata": {},
   "source": [
    "首先，固定学习率和最大迭代次数，调整其他超参数。为了保证能够得到测试集上最优迭代的结果，一开始固定的迭代次数会比较大，这里选取了num_trees=500。这里为了方便展示，我们仅以grid search的方式调整决策树的规模和叶子上最少允许的数据量。读者可自行加入其他超参数一起搜索。"
   ]
  },
  {
   "cell_type": "code",
   "execution_count": 42,
   "metadata": {
    "pycharm": {
     "is_executing": false
    },
    "scrolled": true
   },
   "outputs": [
    {
     "ename": "TypeError",
     "evalue": "train() got an unexpected keyword argument 'evals_result'",
     "output_type": "error",
     "traceback": [
      "\u001b[1;31m---------------------------------------------------------------------------\u001b[0m",
      "\u001b[1;31mTypeError\u001b[0m                                 Traceback (most recent call last)",
      "\u001b[1;32m~\\AppData\\Local\\Temp\\ipykernel_19288\\3284564566.py\u001b[0m in \u001b[0;36m<module>\u001b[1;34m\u001b[0m\n\u001b[0;32m      5\u001b[0m         \u001b[0mtry_params\u001b[0m \u001b[1;33m=\u001b[0m \u001b[0mparams\u001b[0m\u001b[1;33m.\u001b[0m\u001b[0mcopy\u001b[0m\u001b[1;33m(\u001b[0m\u001b[1;33m)\u001b[0m\u001b[1;33m\u001b[0m\u001b[1;33m\u001b[0m\u001b[0m\n\u001b[0;32m      6\u001b[0m         \u001b[0mtry_params\u001b[0m\u001b[1;33m.\u001b[0m\u001b[0mupdate\u001b[0m\u001b[1;33m(\u001b[0m\u001b[1;33m{\u001b[0m\u001b[1;34m'num_leaves'\u001b[0m\u001b[1;33m:\u001b[0m \u001b[0mnum_leaves\u001b[0m\u001b[1;33m,\u001b[0m \u001b[1;34m'min_data_in_leaf'\u001b[0m\u001b[1;33m:\u001b[0m \u001b[0mmin_data_in_leaf\u001b[0m\u001b[1;33m}\u001b[0m\u001b[1;33m)\u001b[0m\u001b[1;33m\u001b[0m\u001b[1;33m\u001b[0m\u001b[0m\n\u001b[1;32m----> 7\u001b[1;33m         \u001b[0ml2\u001b[0m\u001b[1;33m,\u001b[0m \u001b[0mbest_iteration\u001b[0m \u001b[1;33m=\u001b[0m \u001b[0mget_eval_result\u001b[0m\u001b[1;33m(\u001b[0m\u001b[0mtry_params\u001b[0m\u001b[1;33m)\u001b[0m\u001b[1;33m\u001b[0m\u001b[1;33m\u001b[0m\u001b[0m\n\u001b[0m\u001b[0;32m      8\u001b[0m         print(\"best l2 loss %.6f at iteration %d with num_leaves = %d and min_data_in_leaf = %d\" % \n\u001b[0;32m      9\u001b[0m               (l2, best_iteration, num_leaves, min_data_in_leaf))\n",
      "\u001b[1;32m~\\AppData\\Local\\Temp\\ipykernel_19288\\3279119362.py\u001b[0m in \u001b[0;36mget_eval_result\u001b[1;34m(params)\u001b[0m\n\u001b[0;32m      7\u001b[0m                       \u001b[0mevals_result\u001b[0m\u001b[1;33m=\u001b[0m\u001b[0mevals_result\u001b[0m\u001b[1;33m,\u001b[0m\u001b[1;33m\u001b[0m\u001b[1;33m\u001b[0m\u001b[0m\n\u001b[0;32m      8\u001b[0m                       \u001b[0mearly_stopping_rounds\u001b[0m\u001b[1;33m=\u001b[0m\u001b[0mearly_stopping_rounds\u001b[0m\u001b[1;33m,\u001b[0m\u001b[1;33m\u001b[0m\u001b[1;33m\u001b[0m\u001b[0m\n\u001b[1;32m----> 9\u001b[1;33m                       verbose_eval=False)\n\u001b[0m\u001b[0;32m     10\u001b[0m     \u001b[1;32mreturn\u001b[0m \u001b[0mevals_result\u001b[0m\u001b[1;33m[\u001b[0m\u001b[1;34m\"val_test\"\u001b[0m\u001b[1;33m]\u001b[0m\u001b[1;33m[\u001b[0m\u001b[1;34m\"l2\"\u001b[0m\u001b[1;33m]\u001b[0m\u001b[1;33m[\u001b[0m\u001b[0mmodel\u001b[0m\u001b[1;33m.\u001b[0m\u001b[0mbest_iteration\u001b[0m \u001b[1;33m-\u001b[0m \u001b[1;36m1\u001b[0m\u001b[1;33m]\u001b[0m\u001b[1;33m,\u001b[0m \u001b[0mmodel\u001b[0m\u001b[1;33m.\u001b[0m\u001b[0mbest_iteration\u001b[0m\u001b[1;33m\u001b[0m\u001b[1;33m\u001b[0m\u001b[0m\n",
      "\u001b[1;31mTypeError\u001b[0m: train() got an unexpected keyword argument 'evals_result'"
     ]
    }
   ],
   "source": [
    "num_leaves_options = [4, 8, 16, 32, 64, 128, 256]\n",
    "min_data_in_leaf_options = [20, 50, 100, 200, 300, 400, 500, 1000]\n",
    "for num_leaves in num_leaves_options:\n",
    "    for min_data_in_leaf in min_data_in_leaf_options:\n",
    "        try_params = params.copy()\n",
    "        try_params.update({'num_leaves': num_leaves, 'min_data_in_leaf': min_data_in_leaf})\n",
    "        l2, best_iteration = get_eval_result(try_params)\n",
    "        print(\"best l2 loss %.6f at iteration %d with num_leaves = %d and min_data_in_leaf = %d\" % \n",
    "              (l2, best_iteration, num_leaves, min_data_in_leaf))"
   ]
  },
  {
   "cell_type": "markdown",
   "metadata": {},
   "source": [
    "我们发现，num_leaves=8并且min_data_in_leaf=20的时候结果是最好的。接下来我们调整学习率。"
   ]
  },
  {
   "cell_type": "code",
   "execution_count": null,
   "metadata": {
    "pycharm": {
     "is_executing": false
    }
   },
   "outputs": [
    {
     "name": "stdout",
     "output_type": "stream",
     "text": [
      "best l2 loss 3.933602 at iteration 224 with learning_rate = 0.010000\n",
      "best l2 loss 3.931762 at iteration 114 with learning_rate = 0.020000\n",
      "best l2 loss 3.938628 at iteration 72 with learning_rate = 0.030000\n",
      "best l2 loss 3.959307 at iteration 41 with learning_rate = 0.050000\n",
      "best l2 loss 3.974465 at iteration 21 with learning_rate = 0.100000\n"
     ]
    }
   ],
   "source": [
    "params.update({'num_leaves': 8, 'min_data_in_leaf':20})\n",
    "learning_rate_options = [0.01, 0.02, 0.03, 0.05, 0.1]\n",
    "for learning_rate in learning_rate_options:\n",
    "    try_params = params.copy()\n",
    "    try_params.update({'learning_rate': learning_rate})\n",
    "    l2, best_iteration = get_eval_result(try_params)\n",
    "    print(\"best l2 loss %.6f at iteration %d with learning_rate = %f\" % (l2, best_iteration, learning_rate))"
   ]
  },
  {
   "cell_type": "markdown",
   "metadata": {},
   "source": [
    "可见learning_rate=0.02且迭代次数为114是最好的。我们使用搜索出的最优超参，在全部训练集上进行训练，并观察测试集的结果"
   ]
  },
  {
   "cell_type": "code",
   "execution_count": null,
   "metadata": {
    "pycharm": {
     "is_executing": false
    }
   },
   "outputs": [
    {
     "data": {
      "text/plain": [
       "4.225438548912187"
      ]
     },
     "execution_count": 34,
     "metadata": {},
     "output_type": "execute_result"
    }
   ],
   "source": [
    "params.update({'learning_rate':0.02, 'num_trees':114})\n",
    "model = lgb.train(params=params,\n",
    "                      train_set=train_set)\n",
    "score = model.predict(test_data)\n",
    "l2_loss = np.mean((score - test_label) ** 2)\n",
    "l2_loss"
   ]
  },
  {
   "cell_type": "markdown",
   "metadata": {},
   "source": [
    "得到最终测试集上l2损失函数值为4.22544，这比一开始默认参数取得的结果5.27666有了不少的提高。"
   ]
  },
  {
   "cell_type": "markdown",
   "metadata": {},
   "source": [
    "### 模型解释"
   ]
  },
  {
   "cell_type": "markdown",
   "metadata": {},
   "source": [
    "在训练得到GBDT模型之后，可以对模型进行解释分析，从而了解特征对模型预测所起的作用。这里主要介绍两种解释工具，分别是特征重要性以及SHAP值。此外，LightGBM还提供了模型可视化接口，用户可以方便地查看每个决策树的结构。"
   ]
  },
  {
   "cell_type": "markdown",
   "metadata": {},
   "source": [
    "#### 特征重要性"
   ]
  },
  {
   "cell_type": "markdown",
   "metadata": {},
   "source": [
    "特征重要性描述每个特征在GBDT模型中的整体贡献。常用的特征重要性计算方法有：\n",
    "1. 计算特征在切分条件当中使用的次数。\n",
    "2. 计算使用该特征所有切分的增益之和。\n",
    "\n",
    "二者在LightGBM中都可以通过直接调用模型的feature_importance方法获得。"
   ]
  },
  {
   "cell_type": "code",
   "execution_count": null,
   "metadata": {
    "pycharm": {
     "is_executing": false
    }
   },
   "outputs": [],
   "source": [
    "def print_feature_importance(importance_type):\n",
    "    feature_importance_count = model.feature_importance(importance_type=importance_type)\n",
    "    feature_names = train_data.columns\n",
    "    argsort = np.argsort(feature_importance_count)\n",
    "    for idx in argsort[::-1]:\n",
    "        print(\"feature %s with %s %f\" % (feature_names[idx], importance_type, feature_importance_count[idx]))"
   ]
  },
  {
   "cell_type": "markdown",
   "metadata": {},
   "source": [
    "按照第1种方法，即特征使用次数（指定importance_type为split）计算特征重要性，并将特征按照重要性排序。"
   ]
  },
  {
   "cell_type": "code",
   "execution_count": null,
   "metadata": {
    "pycharm": {
     "is_executing": false
    },
    "scrolled": true
   },
   "outputs": [
    {
     "name": "stdout",
     "output_type": "stream",
     "text": [
      "feature la_42 with split 120.000000\n",
      "feature p_8 with split 115.000000\n",
      "feature p_1 with split 82.000000\n",
      "feature p_5 with split 82.000000\n",
      "feature la_28 with split 67.000000\n",
      "feature la_56 with split 62.000000\n",
      "feature la_21 with split 51.000000\n",
      "feature la_1 with split 44.000000\n",
      "feature p_4 with split 36.000000\n",
      "feature p_6 with split 34.000000\n",
      "feature p_2 with split 26.000000\n",
      "feature snap_mean with split 26.000000\n",
      "feature p_7 with split 21.000000\n",
      "feature la_14 with split 15.000000\n",
      "feature p_3 with split 14.000000\n",
      "feature la_7 with split 2.000000\n",
      "feature la_2 with split 1.000000\n",
      "feature event_type_2_mean with split 0.000000\n",
      "feature same_month_mean with split 0.000000\n",
      "feature event_name_1_mean with split 0.000000\n",
      "feature event_name_2_mean with split 0.000000\n",
      "feature la_6 with split 0.000000\n",
      "feature la_5 with split 0.000000\n",
      "feature la_4 with split 0.000000\n",
      "feature la_3 with split 0.000000\n",
      "feature event_type_1_mean with split 0.000000\n"
     ]
    }
   ],
   "source": [
    "print_feature_importance(\"split\")"
   ]
  },
  {
   "cell_type": "markdown",
   "metadata": {},
   "source": [
    "按照第2种方式，即特征带来的切分增益之和（指定importance_type为gain）计算特征重要性，并将特征按照重要性排序。"
   ]
  },
  {
   "cell_type": "code",
   "execution_count": null,
   "metadata": {
    "pycharm": {
     "is_executing": false
    },
    "scrolled": true
   },
   "outputs": [
    {
     "name": "stdout",
     "output_type": "stream",
     "text": [
      "feature la_42 with gain 115750132.190430\n",
      "feature la_56 with gain 84476708.498047\n",
      "feature p_5 with gain 31033226.599609\n",
      "feature la_28 with gain 27731372.906250\n",
      "feature p_8 with gain 21166530.315430\n",
      "feature p_4 with gain 15516459.207031\n",
      "feature p_6 with gain 11646842.912109\n",
      "feature p_1 with gain 10153382.997070\n",
      "feature p_7 with gain 10071173.701172\n",
      "feature la_21 with gain 6105789.902344\n",
      "feature p_2 with gain 4244621.695312\n",
      "feature p_3 with gain 3106698.300781\n",
      "feature la_1 with gain 1113203.497070\n",
      "feature snap_mean with gain 837001.503906\n",
      "feature la_14 with gain 531382.998047\n",
      "feature la_7 with gain 48103.900391\n",
      "feature la_2 with gain 17853.400391\n",
      "feature event_type_2_mean with gain 0.000000\n",
      "feature same_month_mean with gain 0.000000\n",
      "feature event_name_1_mean with gain 0.000000\n",
      "feature event_name_2_mean with gain 0.000000\n",
      "feature event_type_1_mean with gain 0.000000\n",
      "feature la_6 with gain 0.000000\n",
      "feature la_5 with gain 0.000000\n",
      "feature la_4 with gain 0.000000\n",
      "feature la_3 with gain 0.000000\n"
     ]
    }
   ],
   "source": [
    "print_feature_importance(\"gain\")"
   ]
  },
  {
   "cell_type": "markdown",
   "metadata": {},
   "source": [
    "从以上的排序中可以发现，排名最靠前的是以la和p开头的延迟特征。有趣的是，最重要的延迟特征是使用较长历史数据的la_56、la_42、la_28、p_8等等。而使用短期历史数据的la_3、la_5等排名比较靠后。这可能是因为长期的累计销量比起短期的累计销量更加稳定，更能够反应商品的真实需求量。相反，使用很短的历史数据进行统计得到的结果具有更大的随机性。\n",
    "\n",
    "同时，基于特殊事件的特征完全没有被使用到。\n",
    "\n",
    "特征重要性的分析不仅帮助我们理解哪些因素是模型预测的重要根据，更可以帮助对特征工程进行反思，启发我们构造出更多可能有用的特征，并去掉没有帮助的特征。例如，以上结果提示我们，构造更多长期的累计销量特征有可能进一步提高模型效果。因此，特征工程——调参和训练——模型解释，这一过程实际上可以构成闭环，不断地迭代优化。"
   ]
  },
  {
   "cell_type": "markdown",
   "metadata": {},
   "source": [
    "#### SHAP值"
   ]
  },
  {
   "cell_type": "markdown",
   "metadata": {},
   "source": [
    "另一个重要的解释工具是SHAP值。它反映了每个特征对每个样本预测值的贡献。LightGBM也提供了SHAP值计算的功能，只需要在调用预测接口predict的时候指定pred_contrib=True即可。"
   ]
  },
  {
   "cell_type": "code",
   "execution_count": null,
   "metadata": {
    "pycharm": {
     "is_executing": false
    }
   },
   "outputs": [
    {
     "data": {
      "text/html": [
       "<div>\n",
       "<style scoped>\n",
       "    .dataframe tbody tr th:only-of-type {\n",
       "        vertical-align: middle;\n",
       "    }\n",
       "\n",
       "    .dataframe tbody tr th {\n",
       "        vertical-align: top;\n",
       "    }\n",
       "\n",
       "    .dataframe thead th {\n",
       "        text-align: right;\n",
       "    }\n",
       "</style>\n",
       "<table border=\"1\" class=\"dataframe\">\n",
       "  <thead>\n",
       "    <tr style=\"text-align: right;\">\n",
       "      <th></th>\n",
       "      <th>la_1</th>\n",
       "      <th>la_2</th>\n",
       "      <th>la_3</th>\n",
       "      <th>la_4</th>\n",
       "      <th>la_5</th>\n",
       "      <th>la_6</th>\n",
       "      <th>la_7</th>\n",
       "      <th>la_14</th>\n",
       "      <th>la_21</th>\n",
       "      <th>la_28</th>\n",
       "      <th>la_42</th>\n",
       "      <th>la_56</th>\n",
       "      <th>p_1</th>\n",
       "      <th>p_2</th>\n",
       "      <th>p_3</th>\n",
       "      <th>p_4</th>\n",
       "      <th>p_5</th>\n",
       "      <th>p_6</th>\n",
       "      <th>p_7</th>\n",
       "      <th>p_8</th>\n",
       "      <th>same_month_mean</th>\n",
       "      <th>event_name_1_mean</th>\n",
       "      <th>event_name_2_mean</th>\n",
       "      <th>event_type_1_mean</th>\n",
       "      <th>event_type_2_mean</th>\n",
       "      <th>snap_mean</th>\n",
       "      <th>expectation</th>\n",
       "    </tr>\n",
       "  </thead>\n",
       "  <tbody>\n",
       "    <tr>\n",
       "      <th>0</th>\n",
       "      <td>-0.096252</td>\n",
       "      <td>-0.000018</td>\n",
       "      <td>0.0</td>\n",
       "      <td>0.0</td>\n",
       "      <td>0.0</td>\n",
       "      <td>0.0</td>\n",
       "      <td>0.002893</td>\n",
       "      <td>0.004732</td>\n",
       "      <td>0.015847</td>\n",
       "      <td>-0.098856</td>\n",
       "      <td>-0.298922</td>\n",
       "      <td>-0.113676</td>\n",
       "      <td>-0.021341</td>\n",
       "      <td>-0.019988</td>\n",
       "      <td>-0.011857</td>\n",
       "      <td>-0.018427</td>\n",
       "      <td>-0.033439</td>\n",
       "      <td>-0.010466</td>\n",
       "      <td>-0.007798</td>\n",
       "      <td>-0.036077</td>\n",
       "      <td>0.0</td>\n",
       "      <td>0.0</td>\n",
       "      <td>0.0</td>\n",
       "      <td>0.0</td>\n",
       "      <td>0.0</td>\n",
       "      <td>-0.002988</td>\n",
       "      <td>1.386903</td>\n",
       "    </tr>\n",
       "    <tr>\n",
       "      <th>1</th>\n",
       "      <td>-0.096243</td>\n",
       "      <td>-0.000007</td>\n",
       "      <td>0.0</td>\n",
       "      <td>0.0</td>\n",
       "      <td>0.0</td>\n",
       "      <td>0.0</td>\n",
       "      <td>-0.007053</td>\n",
       "      <td>-0.043878</td>\n",
       "      <td>-0.055069</td>\n",
       "      <td>-0.122065</td>\n",
       "      <td>-0.418101</td>\n",
       "      <td>-0.137268</td>\n",
       "      <td>-0.022044</td>\n",
       "      <td>-0.021792</td>\n",
       "      <td>-0.012613</td>\n",
       "      <td>-0.019326</td>\n",
       "      <td>-0.033994</td>\n",
       "      <td>-0.010522</td>\n",
       "      <td>-0.008871</td>\n",
       "      <td>-0.038772</td>\n",
       "      <td>0.0</td>\n",
       "      <td>0.0</td>\n",
       "      <td>0.0</td>\n",
       "      <td>0.0</td>\n",
       "      <td>0.0</td>\n",
       "      <td>-0.002255</td>\n",
       "      <td>1.386903</td>\n",
       "    </tr>\n",
       "    <tr>\n",
       "      <th>2</th>\n",
       "      <td>-0.096243</td>\n",
       "      <td>-0.000018</td>\n",
       "      <td>0.0</td>\n",
       "      <td>0.0</td>\n",
       "      <td>0.0</td>\n",
       "      <td>0.0</td>\n",
       "      <td>-0.007053</td>\n",
       "      <td>0.011236</td>\n",
       "      <td>-0.034825</td>\n",
       "      <td>-0.118481</td>\n",
       "      <td>-0.418101</td>\n",
       "      <td>-0.137268</td>\n",
       "      <td>-0.021947</td>\n",
       "      <td>-0.019660</td>\n",
       "      <td>-0.012613</td>\n",
       "      <td>-0.019326</td>\n",
       "      <td>-0.033994</td>\n",
       "      <td>-0.010522</td>\n",
       "      <td>-0.008871</td>\n",
       "      <td>-0.038772</td>\n",
       "      <td>0.0</td>\n",
       "      <td>0.0</td>\n",
       "      <td>0.0</td>\n",
       "      <td>0.0</td>\n",
       "      <td>0.0</td>\n",
       "      <td>-0.002255</td>\n",
       "      <td>1.386903</td>\n",
       "    </tr>\n",
       "    <tr>\n",
       "      <th>3</th>\n",
       "      <td>-0.164029</td>\n",
       "      <td>-0.000018</td>\n",
       "      <td>0.0</td>\n",
       "      <td>0.0</td>\n",
       "      <td>0.0</td>\n",
       "      <td>0.0</td>\n",
       "      <td>0.004983</td>\n",
       "      <td>0.022539</td>\n",
       "      <td>0.031736</td>\n",
       "      <td>-0.023178</td>\n",
       "      <td>0.119708</td>\n",
       "      <td>-0.095475</td>\n",
       "      <td>-0.020722</td>\n",
       "      <td>0.007415</td>\n",
       "      <td>-0.003725</td>\n",
       "      <td>-0.009705</td>\n",
       "      <td>-0.030853</td>\n",
       "      <td>-0.009752</td>\n",
       "      <td>-0.007798</td>\n",
       "      <td>0.040343</td>\n",
       "      <td>0.0</td>\n",
       "      <td>0.0</td>\n",
       "      <td>0.0</td>\n",
       "      <td>0.0</td>\n",
       "      <td>0.0</td>\n",
       "      <td>0.009147</td>\n",
       "      <td>1.386903</td>\n",
       "    </tr>\n",
       "    <tr>\n",
       "      <th>4</th>\n",
       "      <td>-0.022764</td>\n",
       "      <td>-0.000018</td>\n",
       "      <td>0.0</td>\n",
       "      <td>0.0</td>\n",
       "      <td>0.0</td>\n",
       "      <td>0.0</td>\n",
       "      <td>0.002893</td>\n",
       "      <td>0.024456</td>\n",
       "      <td>0.003448</td>\n",
       "      <td>-0.047541</td>\n",
       "      <td>-0.215728</td>\n",
       "      <td>-0.098155</td>\n",
       "      <td>-0.020919</td>\n",
       "      <td>-0.020979</td>\n",
       "      <td>-0.011857</td>\n",
       "      <td>-0.018324</td>\n",
       "      <td>-0.036087</td>\n",
       "      <td>-0.010362</td>\n",
       "      <td>-0.007798</td>\n",
       "      <td>-0.006639</td>\n",
       "      <td>0.0</td>\n",
       "      <td>0.0</td>\n",
       "      <td>0.0</td>\n",
       "      <td>0.0</td>\n",
       "      <td>0.0</td>\n",
       "      <td>-0.003067</td>\n",
       "      <td>1.386903</td>\n",
       "    </tr>\n",
       "    <tr>\n",
       "      <th>...</th>\n",
       "      <td>...</td>\n",
       "      <td>...</td>\n",
       "      <td>...</td>\n",
       "      <td>...</td>\n",
       "      <td>...</td>\n",
       "      <td>...</td>\n",
       "      <td>...</td>\n",
       "      <td>...</td>\n",
       "      <td>...</td>\n",
       "      <td>...</td>\n",
       "      <td>...</td>\n",
       "      <td>...</td>\n",
       "      <td>...</td>\n",
       "      <td>...</td>\n",
       "      <td>...</td>\n",
       "      <td>...</td>\n",
       "      <td>...</td>\n",
       "      <td>...</td>\n",
       "      <td>...</td>\n",
       "      <td>...</td>\n",
       "      <td>...</td>\n",
       "      <td>...</td>\n",
       "      <td>...</td>\n",
       "      <td>...</td>\n",
       "      <td>...</td>\n",
       "      <td>...</td>\n",
       "      <td>...</td>\n",
       "    </tr>\n",
       "    <tr>\n",
       "      <th>30485</th>\n",
       "      <td>-0.096243</td>\n",
       "      <td>-0.000007</td>\n",
       "      <td>0.0</td>\n",
       "      <td>0.0</td>\n",
       "      <td>0.0</td>\n",
       "      <td>0.0</td>\n",
       "      <td>-0.007053</td>\n",
       "      <td>-0.043878</td>\n",
       "      <td>-0.055069</td>\n",
       "      <td>-0.122065</td>\n",
       "      <td>-0.418101</td>\n",
       "      <td>-0.137268</td>\n",
       "      <td>-0.022044</td>\n",
       "      <td>-0.021792</td>\n",
       "      <td>-0.012613</td>\n",
       "      <td>-0.019326</td>\n",
       "      <td>-0.033994</td>\n",
       "      <td>-0.010522</td>\n",
       "      <td>-0.008871</td>\n",
       "      <td>-0.038772</td>\n",
       "      <td>0.0</td>\n",
       "      <td>0.0</td>\n",
       "      <td>0.0</td>\n",
       "      <td>0.0</td>\n",
       "      <td>0.0</td>\n",
       "      <td>-0.002255</td>\n",
       "      <td>1.386903</td>\n",
       "    </tr>\n",
       "    <tr>\n",
       "      <th>30486</th>\n",
       "      <td>-0.096243</td>\n",
       "      <td>-0.000007</td>\n",
       "      <td>0.0</td>\n",
       "      <td>0.0</td>\n",
       "      <td>0.0</td>\n",
       "      <td>0.0</td>\n",
       "      <td>-0.007053</td>\n",
       "      <td>-0.043878</td>\n",
       "      <td>-0.055069</td>\n",
       "      <td>-0.122065</td>\n",
       "      <td>-0.418101</td>\n",
       "      <td>-0.137268</td>\n",
       "      <td>-0.022044</td>\n",
       "      <td>-0.021792</td>\n",
       "      <td>-0.012613</td>\n",
       "      <td>-0.019326</td>\n",
       "      <td>-0.033994</td>\n",
       "      <td>-0.010522</td>\n",
       "      <td>-0.008871</td>\n",
       "      <td>-0.038772</td>\n",
       "      <td>0.0</td>\n",
       "      <td>0.0</td>\n",
       "      <td>0.0</td>\n",
       "      <td>0.0</td>\n",
       "      <td>0.0</td>\n",
       "      <td>-0.002255</td>\n",
       "      <td>1.386903</td>\n",
       "    </tr>\n",
       "    <tr>\n",
       "      <th>30487</th>\n",
       "      <td>-0.145952</td>\n",
       "      <td>-0.000018</td>\n",
       "      <td>0.0</td>\n",
       "      <td>0.0</td>\n",
       "      <td>0.0</td>\n",
       "      <td>0.0</td>\n",
       "      <td>-0.007053</td>\n",
       "      <td>-0.009387</td>\n",
       "      <td>0.006524</td>\n",
       "      <td>-0.107395</td>\n",
       "      <td>-0.352248</td>\n",
       "      <td>-0.115530</td>\n",
       "      <td>-0.021686</td>\n",
       "      <td>0.008284</td>\n",
       "      <td>-0.004053</td>\n",
       "      <td>-0.010221</td>\n",
       "      <td>-0.032319</td>\n",
       "      <td>-0.010466</td>\n",
       "      <td>-0.008421</td>\n",
       "      <td>0.037261</td>\n",
       "      <td>0.0</td>\n",
       "      <td>0.0</td>\n",
       "      <td>0.0</td>\n",
       "      <td>0.0</td>\n",
       "      <td>0.0</td>\n",
       "      <td>-0.001863</td>\n",
       "      <td>1.386903</td>\n",
       "    </tr>\n",
       "    <tr>\n",
       "      <th>30488</th>\n",
       "      <td>-0.031551</td>\n",
       "      <td>-0.000018</td>\n",
       "      <td>0.0</td>\n",
       "      <td>0.0</td>\n",
       "      <td>0.0</td>\n",
       "      <td>0.0</td>\n",
       "      <td>0.002893</td>\n",
       "      <td>0.004732</td>\n",
       "      <td>-0.005771</td>\n",
       "      <td>-0.098450</td>\n",
       "      <td>-0.298922</td>\n",
       "      <td>-0.113676</td>\n",
       "      <td>-0.020953</td>\n",
       "      <td>-0.021859</td>\n",
       "      <td>-0.011857</td>\n",
       "      <td>-0.018840</td>\n",
       "      <td>-0.037012</td>\n",
       "      <td>-0.010466</td>\n",
       "      <td>-0.007798</td>\n",
       "      <td>-0.044795</td>\n",
       "      <td>0.0</td>\n",
       "      <td>0.0</td>\n",
       "      <td>0.0</td>\n",
       "      <td>0.0</td>\n",
       "      <td>0.0</td>\n",
       "      <td>-0.003067</td>\n",
       "      <td>1.386903</td>\n",
       "    </tr>\n",
       "    <tr>\n",
       "      <th>30489</th>\n",
       "      <td>-0.137429</td>\n",
       "      <td>-0.000007</td>\n",
       "      <td>0.0</td>\n",
       "      <td>0.0</td>\n",
       "      <td>0.0</td>\n",
       "      <td>0.0</td>\n",
       "      <td>-0.007053</td>\n",
       "      <td>-0.043659</td>\n",
       "      <td>-0.054887</td>\n",
       "      <td>-0.089457</td>\n",
       "      <td>-0.165400</td>\n",
       "      <td>-0.098773</td>\n",
       "      <td>-0.021770</td>\n",
       "      <td>-0.021792</td>\n",
       "      <td>-0.012262</td>\n",
       "      <td>-0.010522</td>\n",
       "      <td>-0.031691</td>\n",
       "      <td>-0.009912</td>\n",
       "      <td>-0.007798</td>\n",
       "      <td>0.044522</td>\n",
       "      <td>0.0</td>\n",
       "      <td>0.0</td>\n",
       "      <td>0.0</td>\n",
       "      <td>0.0</td>\n",
       "      <td>0.0</td>\n",
       "      <td>-0.001863</td>\n",
       "      <td>1.386903</td>\n",
       "    </tr>\n",
       "  </tbody>\n",
       "</table>\n",
       "<p>30490 rows × 27 columns</p>\n"
      ],
      "text/plain": [
       "           la_1      la_2  la_3  la_4  la_5  la_6      la_7     la_14  \\\n",
       "0     -0.096252 -0.000018   0.0   0.0   0.0   0.0  0.002893  0.004732   \n",
       "1     -0.096243 -0.000007   0.0   0.0   0.0   0.0 -0.007053 -0.043878   \n",
       "2     -0.096243 -0.000018   0.0   0.0   0.0   0.0 -0.007053  0.011236   \n",
       "3     -0.164029 -0.000018   0.0   0.0   0.0   0.0  0.004983  0.022539   \n",
       "4     -0.022764 -0.000018   0.0   0.0   0.0   0.0  0.002893  0.024456   \n",
       "...         ...       ...   ...   ...   ...   ...       ...       ...   \n",
       "30485 -0.096243 -0.000007   0.0   0.0   0.0   0.0 -0.007053 -0.043878   \n",
       "30486 -0.096243 -0.000007   0.0   0.0   0.0   0.0 -0.007053 -0.043878   \n",
       "30487 -0.145952 -0.000018   0.0   0.0   0.0   0.0 -0.007053 -0.009387   \n",
       "30488 -0.031551 -0.000018   0.0   0.0   0.0   0.0  0.002893  0.004732   \n",
       "30489 -0.137429 -0.000007   0.0   0.0   0.0   0.0 -0.007053 -0.043659   \n",
       "\n",
       "          la_21     la_28     la_42     la_56       p_1       p_2       p_3  \\\n",
       "0      0.015847 -0.098856 -0.298922 -0.113676 -0.021341 -0.019988 -0.011857   \n",
       "1     -0.055069 -0.122065 -0.418101 -0.137268 -0.022044 -0.021792 -0.012613   \n",
       "2     -0.034825 -0.118481 -0.418101 -0.137268 -0.021947 -0.019660 -0.012613   \n",
       "3      0.031736 -0.023178  0.119708 -0.095475 -0.020722  0.007415 -0.003725   \n",
       "4      0.003448 -0.047541 -0.215728 -0.098155 -0.020919 -0.020979 -0.011857   \n",
       "...         ...       ...       ...       ...       ...       ...       ...   \n",
       "30485 -0.055069 -0.122065 -0.418101 -0.137268 -0.022044 -0.021792 -0.012613   \n",
       "30486 -0.055069 -0.122065 -0.418101 -0.137268 -0.022044 -0.021792 -0.012613   \n",
       "30487  0.006524 -0.107395 -0.352248 -0.115530 -0.021686  0.008284 -0.004053   \n",
       "30488 -0.005771 -0.098450 -0.298922 -0.113676 -0.020953 -0.021859 -0.011857   \n",
       "30489 -0.054887 -0.089457 -0.165400 -0.098773 -0.021770 -0.021792 -0.012262   \n",
       "\n",
       "            p_4       p_5       p_6       p_7       p_8  same_month_mean  \\\n",
       "0     -0.018427 -0.033439 -0.010466 -0.007798 -0.036077              0.0   \n",
       "1     -0.019326 -0.033994 -0.010522 -0.008871 -0.038772              0.0   \n",
       "2     -0.019326 -0.033994 -0.010522 -0.008871 -0.038772              0.0   \n",
       "3     -0.009705 -0.030853 -0.009752 -0.007798  0.040343              0.0   \n",
       "4     -0.018324 -0.036087 -0.010362 -0.007798 -0.006639              0.0   \n",
       "...         ...       ...       ...       ...       ...              ...   \n",
       "30485 -0.019326 -0.033994 -0.010522 -0.008871 -0.038772              0.0   \n",
       "30486 -0.019326 -0.033994 -0.010522 -0.008871 -0.038772              0.0   \n",
       "30487 -0.010221 -0.032319 -0.010466 -0.008421  0.037261              0.0   \n",
       "30488 -0.018840 -0.037012 -0.010466 -0.007798 -0.044795              0.0   \n",
       "30489 -0.010522 -0.031691 -0.009912 -0.007798  0.044522              0.0   \n",
       "\n",
       "       event_name_1_mean  event_name_2_mean  event_type_1_mean  \\\n",
       "0                    0.0                0.0                0.0   \n",
       "1                    0.0                0.0                0.0   \n",
       "2                    0.0                0.0                0.0   \n",
       "3                    0.0                0.0                0.0   \n",
       "4                    0.0                0.0                0.0   \n",
       "...                  ...                ...                ...   \n",
       "30485                0.0                0.0                0.0   \n",
       "30486                0.0                0.0                0.0   \n",
       "30487                0.0                0.0                0.0   \n",
       "30488                0.0                0.0                0.0   \n",
       "30489                0.0                0.0                0.0   \n",
       "\n",
       "       event_type_2_mean  snap_mean  expectation  \n",
       "0                    0.0  -0.002988     1.386903  \n",
       "1                    0.0  -0.002255     1.386903  \n",
       "2                    0.0  -0.002255     1.386903  \n",
       "3                    0.0   0.009147     1.386903  \n",
       "4                    0.0  -0.003067     1.386903  \n",
       "...                  ...        ...          ...  \n",
       "30485                0.0  -0.002255     1.386903  \n",
       "30486                0.0  -0.002255     1.386903  \n",
       "30487                0.0  -0.001863     1.386903  \n",
       "30488                0.0  -0.003067     1.386903  \n",
       "30489                0.0  -0.001863     1.386903  \n",
       "\n",
       "[30490 rows x 27 columns]"
      ]
     },
     "execution_count": 38,
     "metadata": {},
     "output_type": "execute_result"
    }
   ],
   "source": [
    "shap_values = model.predict(test_data, pred_contrib=True)\n",
    "shap = pd.DataFrame(data=shap_values, columns=list(test_data.columns.values) + [\"expectation\"])\n",
    "pd.set_option('display.max_columns', None)\n",
    "shap"
   ]
  },
  {
   "cell_type": "markdown",
   "metadata": {},
   "source": [
    "其中最后一列expectation是训练数据标签的均值。上表中每一行的数值之和等于模型对改行数据的预测值。可以发现la_28、la_42、la_56这几列SHAP值的绝对值比较大，这与特征重要性中的观察一致。\n",
    "SHAP值的具体定义比较复杂，这里进行介绍，有兴趣的读者可以参考推荐阅读材料中的决策树模型SHAP值的计算方法的相关论文。"
   ]
  },
  {
   "cell_type": "markdown",
   "metadata": {},
   "source": [
    "#### 模型可视化"
   ]
  },
  {
   "cell_type": "markdown",
   "metadata": {},
   "source": [
    "使用LightGBM的plot_tree函数可以方便地画出模型中指定决策树的完整结构，包括中间节点上的决策条件和叶子节点的预测值。例如，下面我们画出第一棵树的结构。"
   ]
  },
  {
   "cell_type": "code",
   "execution_count": null,
   "metadata": {
    "pycharm": {
     "is_executing": false
    }
   },
   "outputs": [
    {
     "data": {
      "text/plain": [
       "<AxesSubplot:>"
      ]
     },
     "execution_count": 39,
     "metadata": {},
     "output_type": "execute_result"
    },
    {
     "data": {
      "image/png": "[encoded data removed]",
      "image/svg+xml": [
       "<?xml version=\"1.0\" encoding=\"utf-8\" standalone=\"no\"?>\n",
       "<!DOCTYPE svg PUBLIC \"-//W3C//DTD SVG 1.1//EN\"\n",
       "  \"http://www.w3.org/Graphics/SVG/1.1/DTD/svg11.dtd\">\n",
       "<svg height=\"286.2pt\" version=\"1.1\" viewBox=\"0 0 495.7125 286.2\" width=\"495.7125pt\" xmlns=\"http://www.w3.org/2000/svg\" xmlns:xlink=\"http://www.w3.org/1999/xlink\">\n",
       " <metadata>\n",
       "  <rdf:RDF xmlns:cc=\"http://creativecommons.org/ns#\" xmlns:dc=\"http://purl.org/dc/elements/1.1/\" xmlns:rdf=\"http://www.w3.org/1999/02/22-rdf-syntax-ns#\">\n",
       "   <cc:Work>\n",
       "    <dc:type rdf:resource=\"http://purl.org/dc/dcmitype/StillImage\"/>\n",
       "    <dc:date>2021-06-02T06:32:24.420802</dc:date>\n",
       "    <dc:format>image/svg+xml</dc:format>\n",
       "    <dc:creator>\n",
       "     <cc:Agent>\n",
       "      <dc:title>Matplotlib v3.4.2, https://matplotlib.org/</dc:title>\n",
       "     </cc:Agent>\n",
       "    </dc:creator>\n",
       "   </cc:Work>\n",
       "  </rdf:RDF>\n",
       " </metadata>\n",
       " <defs>\n",
       "  <style type=\"text/css\">*{stroke-linecap:butt;stroke-linejoin:round;}</style>\n",
       " </defs>\n",
       " <g id=\"figure_1\">\n",
       "  <g id=\"patch_1\">\n",
       "   <path d=\"M 0 286.2 \n",
       "L 495.7125 286.2 \n",
       "L 495.7125 0 \n",
       "L 0 0 \n",
       "z\n",
       "\" style=\"fill:none;\"/>\n",
       "  </g>\n",
       "  <g id=\"axes_1\">\n",
       "   <g clip-path=\"url(#p44e5386996)\">\n",
       "    <image height=\"272\" id=\"image572834fd48\" transform=\"scale(1 -1)translate(0 -272)\" width=\"482\" x=\"7.2\" xlink:href=\"data:image/png;base64,\n",
       "iVBORw0KGgoAAAANSUhEUgAAAeIAAAEQCAYAAABss3exAADRiklEQVR4nOydd3RT9f//H0ma7qZpuvemAyilLS20rFaGTBmCiIIoCAoCoiJuFNwIon7ELSooKkMZAiJbZqGMMrtpaene6cj+/cEv90stIFNQ7uOcnKY3Nzfve3Nzn/f9mhKTyWRCRERERERE5JYgvdUDEBERERERuZOxuNUDEBERERG5M/k7g6zBYKCpqYmmpiZ0Oh1arRYAnU6HwWBAIpEgl8uRSqXIZDIsLS2xsrLC1tYWS0vLv/18iURyQ/bjehGFWERERETkpmM0GmloaECtVtPQ0EBDQwN1dXUUFRVRVlZGXV0ddXV11NfXo1araW5uRqvVIpFIBMH8619oKeYmk0l4SKVSrK2tsbW1xcHBAYVCgUKhwMnJCR8fH5ydnbG3t8fW1hZ7e3scHByQy+X/7EH5/0hEH7GIiIiIyI3ALIIGgwG9Xk9xcTGnT58mNzeX/Px8ioqKaG5uxsrKCisrK+zs7PDw8MDFxQVHR0cUCgUODg44ODhgbW2NjY0N1tbWWFlZIZfLBaG0sLBAJpMBoNVqW3ymVqulsbERjUZDc3OzIPj19fXU1tZSU1NDcXEx1dXVaDQaNBoNRqMRNzc3fH19CQoKIiQkhNDQUGxsbITZ9s2cPYtCLCIiIiJyzZhMJpqamigsLCQ7O5v09HRyc3OpqKhAJpPh4+NDUFAQAQEBhIaG4urqilwuF8TUwsICqVT6j5iJ/3qjoNfrMRgMqNVqcnNzhcfZs2epr69HoVDg5uZGu3btCAoKIjAwEDc3N+Em4EYhCrGIiIiIyBVjMpnQaDSo1WpOnDjBrl27OH78OEajES8vL6KioggKCsLDwwN3d3ccHR1vG1/slaLVaqmsrKSkpITCwkIOHTpEVlYWdXV1BAQE0KVLFxITE1GpVNjZ2SGVXl/csyjEIiIiIiJ/i8lkoqysjN27d7N161by8/Nxc3Ojc+fOJCYmEhQUhKWl5T82u/2nuHAWXVlZycGDB9m7dy85OTnI5XJiY2NJSkoiOjr6mn3MohCLiIiIiFwUk8lEfX09p0+f5pdffiEzM5OAgAB69epFeHg47u7u2NjY/KeE90owGAxUV1dTVFTE5s2b2bdvH/b29vTv35/ExEQ8PDyuynwtCrGIiIiISAtMJhPNzc388ccfrFy5Eo1GQ79+/UhOTsbX1xe4fVJ/biVm+WxsbGT//v2sW7eOnJwcunXrxqhRo/Dy8moR9X0pRCEWERERERFobm5mx44d/Pjjj1haWvLAAw8QHR2Nvb39dftC/8uYTCa0Wi3nzp3j559/JjU1leTkZIYOHYq3t/dl3ysKsYiIiIgIJpOJoqIiPvvsM3Jzcxk9ejTJycnY2tre6qH96zAYDGRmZvL999+Tk5PDpEmTSExMvGSREVGIRURERO5wjEYjBw4c4J133iExMZGJEyfi4OAgmp+vA3OA1+7du/nwww/p0aMHjzzyCPb29q3WFYVYRERE5A7GaDSybds2PvjgA6ZMmUJycvIVlYcUuTLMloY33ngDd3d3Zs6ciZ2dXYt1RIO/iIiIyB2KyWTiyJEjfPDBB7z00kv07t1bFOEbjEQiwdvbmzfeeIOysjK++eYbdDpdi3VEIRYRERG5Q2loaODDDz/k4YcfJi4uTgzGuklIJBJUKhUvvvgiW7du5eDBgy1qZItNH0RERETuUNLT0zEajdx1113XJcLNzc1s3LiR1atX89BDD9GmTRu+/fZb6urq6NevH126dCEjI4Pvv/+e3r17c/r0aWQyGaGhofz888/ExsYybNgwnJ2dAaitreWnn36ipKSE0NBQEhISCAgIQCKR8Mcff2A0GunTp0+LMRcVFfHFF19QV1dHeHg4ffr0wc/Pj9zcXJYtW8Z9992Hm5sba9as4c8//8RoNJKYmMiwYcNQKpVIJBKam5uZMWMGnp6evPTSS5hMJr7//nscHBwYMmTIdfvMPT09GTZsGCtXrqRz587CcvH2R0REROQOZffu3XTt2hUHB4fr2o6VlRVBQUGsXbsWFxcXXn/9dQ4dOkSXLl04deoU6enpLF++nKNHj2IwGJg7dy4uLi60a9eOLVu2oFKpcHJyEran1+txdHRk7NixpKSk8N5777Fz504hRcjcDvFCtm7dyoYNG4iJiaFr165MnDiRTZs2cfDgQRYuXMiePXtQKBTcc8897Ny5k5UrV9KvXz8UCgU6nQ6NRkNDQwM//PADa9euRafTIZVKkUqlLFmyBLVafV3HCEAqlZKUlEROTg4NDQ3CcnFGLCIiInKHUlVVRUhIyHXP9CQSCTY2NshkMurq6sjJyeHDDz8kLCwMnU5HTU0NAwYMoKamBnd3d2QyGb6+vqhUKiwsLITSmGacnZ257777gPN+7LCwMBYvXkzPnj0ZMGCA8JkXMnjwYLp27YqPjw8SiYTKykree+89Fi9ezKpVq2jfvj1SqRQ7Ozvs7e0pLy9HqVRSU1PDzJkzyc7OFlo1ZmRksHjxYiZNmkSvXr345JNPyMjIIDY29rqPlfmGo66uToigFoVYRERE5A7F2dmZkpISTCbTDUtVsra2xtHRkWXLlmFlZQWcF0l3d3cefPBBCgoK0Ov1V7Qtk8mETqfj7NmzFBcXt+o9fOGYzW0UTSYTO3fu5OzZs5w7dw47Ozu6d+9+yc+QSCRIpVJiY2ORyWQcOHAAe3t7/P39AYSZ+549e4iJibnu41RVVYVEIsHR0VFYJpqmRURERO5Qunbtyp49e6itrb1h21SpVAwfPpywsDA8PT1Zv349BoOBHTt2sGLFCjw8PPDz88PBwYGSkhK0Wi2lpaWUlZUJQmsymSgvLyc9PZ358+ezfPlyRowYgclk4uuvv+bzzz/nYpm3er2eb7/9lnHjxqFWqxk8eLBQC/tSAqpUKnnooYe49957mT17NtbW1vj6+tKnTx8kEgkymYyBAweyZcuWVtHOV4vRaOTPP/+kTZs2LQqliEIsIiIicocSFRWFpaUl69atw2g03pBtSqVShg8fTmhoKCqVig8++IDIyEiGDx/OgAEDqK+v53//+x/+/v6UlZUBUF5eTmVlZQshXrp0KWPHjmXPnj28+eabPPDAA0gkEuLj4+nSpUsrYTWZTEilUtq2bSsEeL388stYW1v/7XiTkpKorKwkNzdXWN7U1IRer0cikRAdHU1TUxNZWVnXfFzM+cSrVq1i6NChLV4TTdMiIiIidyg2NjY888wzvPzyy3h6etKzZ89rbnp/oZBbWFgQFxfX4nULC4tWJuIOHTrQoUMHwsLCUCqVlJaW4uHhgUQiISUlBZlMRteuXbG1tcVoNCKRSGjfvv1FP7+hoYHGxkbi4uK46667eO+990hLS8PHx6fFenq9nubm5hbLJBIJSUlJbNiwQZj1Hj9+nKysLNq2bYtEIsHV1ZX169cTGRl51RHmJpOJ0tJS5s6dy6BBg1r5mkUhFhEREblDkUgkhIeHM23aNObPn09TUxN9+vRBLpdflS+0sbGRXbt2YW9vf1Xvk0qlPPPMMxw5coSFCxfSt29fQYgjIiL4/vvveeaZZwAYO3Ys48aNu+S2jEYjq1atora2lmXLlgm+3wtpbm5m/fr1NDc3tyhcIpFIcHZ2plOnTkKDBl9fXyZOnEhdXR1SqZTa2lqqq6uZMGECKpXqivfRaDRy7tw5XnvtNfz8/Bg9ejQWFi2lVyxxKSIiInKHYzKZOHbsGG+88QaRkZFMmTIFFxeXq3p/TU0Nx48fJzY29qoaRZhMJoxGI0ajEZlMJvhzzbWazTPtxsZGlErlZbdTVVXFunXryMjIIDo6msGDB7cwTZs/68yZM2zevJlHHnkEuVwuvG4u93ns2DGmTp3K+++/T2FhoXBz4eTkxOOPP46rq+sV7Zter2fjxo18+eWXDBw4kAcffBArK6tWNyuiEIuIiIiICD7Mb775hpMnT3L//ffTrVs3HB0dxeYPV4E50jsrK4tvv/2W0tJSHn30URISElqI/oWIQiwiIiJyB1NSUkJeXh6Ojo6oVCoUCgV79uzh+++/R6PRcP/995OSkvK30cd3OuYZfFZWFt9//z3Hjx+nf//+jBgxQqjcdSlEIRYRERG5g9m9ezePPPIIlZWVyGQy5HI5jo6O2NnZodVqKSsrw83NjaFDhzJgwADat28v5AeLnDdnl5WVcfToUdauXUtxcTF33303AwYMEIqX/B1isJaIiIjIHUxwcDDW1tZUVlYKy4qKioDzQUyWlpb4+/ujVqt5/fXXcXd3p3fv3iQlJaFUKgWf550yUzabnhsbG8nKymL9+vUcP34cFxcXevfuTWJiIu7u7ld1PEQhFhEREblD0el01NXV4ebmJgRIXYizszOPPvoo06dPx9nZmaamJvbt28emTZv44YcfUCqVdOzYkejoaNq0aSNs579IY2Mj2dnZnDp1itTUVPLz84WqXQ8//DAeHh5XHW1uRjRNi4iIiNwBmEwmmpqaqK6uJi8vjz179nDs2DEaGxuRSqWsXLlSEGJLS0tiY2N59dVX6d69e6uiGHq9nrKyMs6cOUNqairp6elUV1fj7u5O+/btiYqKwtfXF3t7e+zt7S8aKXw7YjKZ0Ov1NDY2olarqaqq4uTJkxw5coScnBwAQkJC6Ny5MxEREXh5eWFra3v9tbpFIRYRERH5b3FhhSq1Ws2RI0c4cuSIIJj29vZ06tRJmM3m5OSQkJBAc3Mzjo6OPPHEEzzxxBN/a2K9UD7MJSnT09PJzMwUKmU5OTnh7++Pv78/AQEB+Pr64uHhIeTxXmz7N1q0/ypz5v+NRiM1NTWcPXuW/Px84XHu3Dn0ej3W1tYEBQXRtm1boqKiCAkJaZEDfKPGKQqxiIiIyH8EnU5HWVkZxcXFpKenc+jQIQoLC3F2diY6OprExES8vb1xcHBoMZMrLS1l2LBhyOVyXnzxRbp16/a3pSEvhclkEloKNjQ0UFRURFZWFgUFBeTn51NdXY1Op8Pe3h4nJydUKhVKpRJXV1dcXFxwcHDA2toauVze4iGVSgURNLcnNEcqw3lRNRgM6PV6dDqd8NBoNDQ2NlJVVUVFRQWVlZVUV1dTXV1NTU0NJpMJW1tbfHx88PPzIzg4mKCgICFgzcbGBqlUelNn9KIQi4iIiPwLMZtRtVot586dY8+ePRw4cICioiJUKhVhYWG0a9eOsLAw/P39W1VzuhCNRsPu3btp06ZNq5KQN3rMDQ0Nghia/9bU1FBZWUllZSUNDQ1otVr0er0gqgaDoUVxD7P4Ai1EUiaTYWFh0eIhl8uxtrZGpVIJD6VS2er/yx2fm40oxCIiIiL/EsxClpWVxalTpzh69ChFRUVotVrCw8NJSEggPj4eBwcHYRZ5JTO5C2XgVvhyL6yuZX5uMpku+rjwPReO1fzcHMFtLnFp/mt+fjtGeItCLCIiInKbYjAYUKvV1NbWcvr0afbs2cOJEyeQyWQEBwfTpUsXgoKC8PLyEitg/YsRhVhERAQ437D8p59+oqam5lYP5T+BXC5n6tSpV1z84sIAq+LiYg4dOsShQ4c4efIkWq2WwMBAOnbsSMeOHQkLC2tRl/nfwqXkxmAwUFtbS01NDbW1tdTW1tLU1ERTUxONjY00NTWh0+nQarUAgrnanOcskUgEM7SVlRW2trbY2Nhga2uLnZ0dSqUSpVKJo6MjNjY2Fx3DrTyOohCLiIgAkJWVxYQJE3jkkUdu9VD+9dTV1fHdd9+xefNmHB0dL7meOaWotLSUgoICUlNTycrKory8HB8fH2JiYkhISMDFxQUnJycsLCz+dcKr0Wioq6ujvr6e2tpaSkpKKCgooKysTAieamhoAM77eG1sbFAoFIKQWltbY2Njg1wuF0TX7As2mUwtxFmv1wvBWWYhV6vV1NfXo9frMZlMyOVywTfs6uqKt7c3vr6+ODk54eDggEKhwM7O7qYHaF2IWNBDREREQKlUMnbs2H/Vxf52pKysjE2bNrVYZvZxGgwGmpqahMIQaWlp1NTU4OLiQlxcHA899BBt27YVTM1GoxGdTif4TbVaLSaTCUtLS2F75pmxeZb8T3Phvmm1WgoLCzl+/DinT58mJyeHmpoa5HI5dnZ2uLi44O3tTWhoKJ07d8bFxQVHR0cUCgUKhUIQ2xuJ2cRfV1dHXV2dEBhWUVFBRkYG27ZtQ61W09TUhKWlJd7e3kRERBAREUFYWBgODg7IZLKbJs6iEIuIiIjcRAwGA+Xl5eTm5nL8+HEOHz5McXExLi4udOzYkenTpxMQEICNjc1FC19UVFTw8MMP4+LiwmuvvcacOXMoKChg0aJFbNq0ifr6etq0aUNFRQWDBg3C09PzHxNjvV7PuXPnyMnJ4eTJkxw/fpzS0lIsLS0JCAggPDycPn364O/vL6QkmaOZ/8kbBplMhqOjYyvrhDkwzDyb1mq1gjifOHGCPXv2UFlZiUKhEFwD5vSmG1HIw4woxCIiIiI3Ab1ezzfffENmZialpaW4uLgQHh7OiBEj8Pf3x9fXt0Vz+kvh5uaGi4sL7u7uBAQEEBAQQHV1NadOnWLZsmV8++23BAcH89lnn/Hhhx8yd+7cS7bbu15MJhONjY2Ul5ezd+9edu3axblz53B3dycyMpKRI0cKBTvs7Oxue8uK2YpwYWMGlUpFmzZtGDhwIHq9noqKCgoLC8nJyWHPnj0sW7YMmUxGXFwc3bp1IyQkRJgxX+v+ikIsIiIichMwz4T79+9PfHw8Tk5OLVJorgapVNriuUQiYf/+/bRp0wZfX18APDw8+Oabb9DpdDdciE0mE2fOnGHnzp1s376duro6wsPDGTRoEJ06dcLR0fGa9+12RSKRIJfL8fT0xNPTk7i4OEaMGIFOpyMjI4OdO3fy0Ucf0djYSHR0NCkpKcTGxl5TZypRiEVERERuAlZWVsycOfOywVpXgtl02tjYSENDAzU1NVhZWREREUFJSYlQUSotLY3Q0NArart3JZhzljMyMli7di3p6em0adOG8ePHExoaiouLyw37rH8DF86eO3ToQFRUFA0NDRQWFrJv3z4+++wzTCYT/fv3p0ePHri5uV3x8RGFWEREROQ2prq6GisrK5qbm/nmm2/YvXs3U6ZMYciQIVRUVLB27Vqam5uprq7mueeeuyJz9+UwB13t37+fxYsXo1ar6d27N4899hju7u7ArU31uV2QSCTY29sTFhZGWFgY999/P7t372bNmjX8/PPP3H333dx3330oFIq/PV5i+pKIiAhwPn3pmWee4ddffxUvtNdJWVkZ48ePZ+nSpdc9IzZH/JojqDUaDU5OTsjlcrRaLRqNBoPBIEQlX893ZzAYyMrK4pNPPqGiooLRo0eTlJSEQqFoYR4XuTjmqPbc3Fy+++47srOzeeCBB+jTpw+2traXfJ84IxYRERG5jTFH/F4MKyura/JJ/hVzs/uVK1fy008/MWjQIO655x6cnZ3Fm7KrQCKRCG6DOXPmkJqayueff86ff/7JM888g4eHx0WPpyjEIiIiInc4DQ0NLFiwgLy8PN58803Cw8PFGfB1IpfLSUxMpF27dixZsoQZM2bwwgsv0L59+1ZiLB5pERGRv8VkMrFkyRK6devGfffdR1pa2iXLFYr8u2hsbGTevHlUVVXxxhtvEBkZKYrwDUIikeDo6MikSZMYMmQIc+bMITc3t9VvR5wRi4iI/C0SiYTIyEjS09Nxdnamffv2wmsbN25kz549rdYfMWIE7dq1+6eHKvL/OXv2LDk5OcTExODg4AC0DrIyGAz88MMPlJSUMG/ePGE9kRuLhYUFI0eOxGg0MmfOHBYsWICzs/P/vX4LxyYiIvIvwtxODiAjI4Pm5mYiIiLo1KkTYWFhrdZ3dXVFo9Fw9OhRIiMjsbe3b7VOXV0dx44dE+oFm3FycqJDhw6X9E9mZmZSUlJCZGQk9fX1SCQSPDw8hGb2Op2O7OxsysvLcXBwwN/fHycnJ/R6PSdOnMDd3R1PT0+hHKNer0elUgk+0fr6eoqLi5FIJPj4+GBjY4PJZKKkpAS1Wi2UQbyVPWz/juzsbCZMmICVlRVDhw6lV69eREZG4urqKnyPZWVlrFu3jjfeeAMHB4dr9gfr9Xry8/MpKCggNDQUZ2dnTp8+TVNTE0FBQbi7u1NTU0NGRga+vr7U1tZiNBpxdHQkLy8PZ2dngoKCWjRkKC8vJycnBzs7O5ycnPDw8EAmk1FYWIjJZMLX17fFeBsbGzl48GCLXsWWlpZERERw5swZQkJC0Ol0pKentxi7g4MDXl5e5OXlIZfLCQgIwNXVFTgfsZ6Xl4eVlRVyuZzAwMBriko351cPGTKEtLQ01q9fz4MPPiiM//Y9i0RERG5LCgsL2bFjB4sXL6Z3797MnTu3xd39hdTU1DB9+nTeeOMNkpOTW13o6+rq2Lt3L3V1dUgkEiF1xtfXlw4dOrRY90Jz3ocffsi3337L8uXL8fT0JD09nVOnTjF69GgiIiI4duwYkyZNws7OjnHjxrF06VJGjx6No6Mj99xzD0OHDmXBggWsXLmSo0ePkpCQwNatW3n++eexs7Pj3XffJSQkhPr6epqampg2bRpnz55l/vz5DBgwgM2bNzN48GDuuuuu2zaYyWQyoVaryc3N5fTp03z00UfExMSQmJjI8OHDCQ8PZ8eOHYSHhxMWFnZd+2EymTh58iSjR4/mt99+Y/369Xz11VfExcXh4eHBuHHj+OWXX/j+++95/PHHWbBgAQ888AA9evRg9OjRPPPMM4wfP77FNo8cOUJqairx8fEcO3YMg8HAqFGj+OWXX9Dr9UyfPr1Fnq5Go2HhwoWsXbtWuNGwtbVl9uzZvPfee7z99tt07tyZF154gYMHDyKVSjGZTHh7e9OjRw82bNjA4MGD6du3L9HR0SgUCp588kk0Gg0PP/wwixcvpkePHkyaNOmaA+RsbGwYOnQon332GQ888IAoxCIiItdGQEAA48eP58yZMyxZsoQhQ4bQuXPni65rb29Pr1692LBhAz179mx1sff29mbGjBmCAGdmZrJ27VrKyspabSstLY2DBw8CcPz4cXQ6Hdu3b+f1118nIiKCVatWMWbMGObMmUOnTp2YMWMG3bt3x9PTkxkzZvD000/z8ccfc++999K9e3fKysp45ZVXmDJlCklJScydO5cvvviCiIgIIdK1pKSEIUOGEB8fz88//0x+fj5JSUn8+eefzJ49m7i4OJRK5UX3XafT8eOPP142beVmkpGRgU6nA84LZX19PTt27GDXrl189NFHREVFIZPJGDly5HX7hOVyOWFhYUK3pFWrVvHqq6+SkpJCfX09RUVFqFQqIiIi6NmzJy+99BI9evQgNjYWe3t7goODW5nFk5OTSU5ORiaTUVNTw4gRIwgODmbixIkArcasVCpZsGABrq6uREZG4uzsTGZmJjKZjOHDhxMVFUVwcDCffvopCxYsICkpCUtLSzIyMnBzc+PBBx8kKSkJrVbLRx99RGhoKOvWreOll17i7rvv5vvvv+ftt9+mT58+hIeHX9NxkkgkhIeHo1arqaysFGbeohCLiIhcFVKpFCsrK5ydnamtraWgoOCSQiyTyUhJSWHu3Lk0NDS0uthKJBK0Wi05OTmC0N11110kJye32taWLVtYuHAhVlZWVFVVodVqWbt2LS+//DKNjY3ExcWhUql47rnn+OOPPxg9ejQmk4m6ujrOnTvHoUOHqKysZN68eUgkEn755RfOnTuHh4cHKpUKCwsLtmzZwokTJ9BoNLi7uwtm6qVLl5KWlkZwcDBKpRI3NzeysrJIT0+ne/fuF913syn7WmdPJpOJ6upqTCaTUB7zaqiqqsJoNLZabjQakUgkQoWuG1UO03yTZTQacXBwwMfHh+LiYgCCg4OFVoO7du1Cp9P9bUlMc5tDs9nb3DbRfDz/+j6JREJAQABPPPEE33zzDYMHD+a+++6jtra2RXnRqKgoRo8ezZ49e3jyySextrZGo9Hg4OBAc3Mz+/btY+PGjcTHx+Ps7Ex9fT27d+/m8OHDNDc3o9frr+s4mb/HCy08ohCLiIhcMeZ2dzqdTrgoXq5ghUQiISYmBnt7e3bv3k3fvn1bXEBLSkqYP38+xcXFDBkyhGeeeeaSgUX33HMPISEhDBgwgKeffprvvvuOBQsWCLNTHx8ffHx82LVrF5s3b2bMmDHk5eXxySefsHHjRlQqFQ4ODsKFsKCgAJ1Oh4WFhdDirqCggOrqauC8EJj9gUePHqW0tJTQ0FCkUikWFhY0NjYKQnMxLC0tmT59+jUX9FCr1cyaNYvMzEw++uijq56Fbd26lZUrVwL/56MMDg7mrrvuonfv3qSkpPDrr7+Sn59/TeO7FM7OzgQHB/P5558jl8v5+eef+frrryktLUWtVjNs2DChv/CFmIXpwu+9traWFStW8MUXX9C+fXvi4+PZu3cvBoOBpKSki96cREZGEhYWxsyZM/nwww8v2o0qOTmZ7du38/LLL/PGG2+Qk5PDunXryMrK4vfffxdqR7///vt8/PHHfPnll1RUVDBx4kT8/Pyu+diYTCZycnKwtrZGpVIJy0UhFhER+VtMJhPnzp1Do9GQn5/PmjVr2Lt3L927d7/obNhsarawsEChUNC9e3c2b95MSkpKi2AXg8FAWVkZRqMRpVIpBNpcbJYUGhpKQUEBWVlZwgW4sbGRDz/8kJKSEr777jtyc3P5/vvvKSgoEMb8559/YmlpyZtvvknbtm2F7ZlbDl44MzE3oTfvg/k1e3v7VsIhk8n+drZ7PU0QbG1tefnll8nKymLnzp20adPmqmo7m4tLtGnThvj4eIYPH05MTAxubm5CUFtKSgrTpk0jOzub0NDQG+LvtrKy4umnn2bnzp1kZmYya9YsunTpQmlpKb/88gurV69mypQp+Pj4sGnTJurq6ti6dStKpZKkpKQWY7Czs6Nnz57k5OQwePBg3Nzc2LFjR4uArL8ik8kYMGAA8+bN47333uOtt95q8T1JJBIsLS0ZMWIEKSkptG3bFldXV7788kvkcjnx8fHMmTMHtVrN+vXr2bt3L1ZWVgwZMoTp06dfNOjwStFqtaxevZoePXq0+C5FIRYREbkibG1tmT9/Pr6+vtjZ2TF16lR69uyJQqG46Pq7d+8mOjoaW1tbevfuzfTp06msrMTT01NYx9vbm88++4y9e/eyevVqli5dypAhQ7jrrruwt7dvcVGWyWR0796d9evXU15eDpwX8srKSuzs7AgMDCQrKwuZTIarqysmk4mkpCRef/11xowZ02KGCxAWFoa1tTVNTU1oNBr0ej1t2rTBz8+PU6dO0dTURGNjIwDdunVDr9ej0+nQarU0NTWhUCgICAi4CUf6//bX09MTd3d3tmzZQl5eHiEhIZhMJo4ePcrq1atxcHDg3nvvxcfHh7feeovQ0FAaGhpISEggICCA+fPnEx0dTXBw8EVnj15eXiQnJ/PJJ5/w5ptvYm1tfc1ifOENjaurK8OHD2/xuoODAzNnzmyxrG/fvgQEBJCcnExiYqJw8yORSMjOzsbDw4PAwEBcXV1ZuHAhP/30E/fdd99FP1+n03HixAnatWsnNMr4448/mD17tiDEtbW1lJSUEBISgtFopLm5mY0bN7Jw4UIeffRRhgwZQkBAAHZ2dqxZs4affvoJHx8f3nnnHRYvXszzzz/PRx99hJeX11UfH6PRyJYtW8jMzGTKlCktXhOFWERE5G+RSCSkpKSQkpJyxe85efIkL730kpAmdOLECU6cONFCiOH8LLRnz5506dKFnJwcli1bxvHjx3nxxRdbbdPKyoouXbrw1VdfIZFIsLGxoWfPnmzZsoXm5mby8/Px9fUlKSmJdevW4e7uzv79+ykvL2f37t2MGjVK2Fbnzp2JjY2loKCAkpISLCwsGD16NAEBAfz++++cPXuWkpISwsPDGTduHAqFgk2bNlFRUUFRURG9evX6R/KkKysrSU1NxcfHh8DAQCoqKpg8eTKJiYlERUXx22+/MXToUKE5w5dffskzzzzD2rVrCQwMvKywymQyJkyYwGuvvcbrr7/OzJkzLxl8djnMfv6rRSKR8OCDD1JSUsKnn35KmzZt6NWrF3DeCmFu67hq1Sph+eW2dfjwYX755ReOHDlCUVER/fr1a5FiJpVKWbduHQ0NDWzatAmtVktoaCh+fn7U1tby7bffAud7QHfq1AlbW1vuvfde+vbtyw8//MD27dupqam5aiE2Go1s3LiRL7/8kldffbVVqUtRiEVERG4K4eHh5OXlkZ2dDZz3ue7evfuiF1SJRIK1tTVt27Zl9uzZVFZWXnSb5nzhF154genTp6NQKJg5cyYKhYJffvmF4uJi/ve//xEZGYmNjQ3ffPMN69ato1u3bjz44IMttmVjY8N7773H2rVr2bBhA+PHj2fw4MHIZDLefPNNtm3bhkQi4YMPPsDf35/x48djMplYs2YNPj4+3HfffTc9j9hoNLJ582ZUKhVWVlZUV1dz7NgxvLy8ePnll3F0dKSurg6DwcDYsWP54YcfWLp0Kf379xeCky6HRCLBzs6OZ555hnfeeYc5c+Ywffp0fH19ryo4TCKRoFQqefTRR68qSlwqlTJu3DgKCgqoqqoiODhYeM3d3Z1hw4aRkZFBXFxcq3S2vyKTyRg4cCALFy4kKyuLvn378uKLL7bITba3t2f48OHMnTuXyspKHnzwQR577DGkUinu7u68//77wPkZ/eDBg3nnnXc4cOAAX375JTqdjrlz516VFcTcSnLdunWsXLmSJ598knbt2rUONBO7L4mIiMCN7b5kNjH+NcLUHOh0vZi3LZPJhK5E5kuZeZnJZMJoNAqRwxYWFq32y7yOyWRqEcV74fv+uj2z6fRyQnejui+p1WpGjx7N1KlT0ev1eHh4YDAYeOWVV+jduzcSiQQHBweGDh3Ks88+y9GjR5k6dSoDBgxApVJd8fdoMpnQaDR8+umnbNu2jfHjx9OnTx/Bl3yl2zAajVd0A3CzuPA7N/cPvtR3fuE6gNDX2Yz5PDWfByaTSdjeleyf0WgkKyuL//3vf9TX1/Piiy8SEhIiNn0QERH5ZzBfrK63N+7ltn9h8NTFgpgubOR+ue1c7HWpVNpqRnipdW8WOp2O1atXo9VqiYqKQq/Xs3TpUiZOnEiPHj3w8fHh8OHD7Nq1i5EjR1JaWsqoUaNQKpXk5eW1iMr9O8yBXeac6o8//pj169czduxYoqKirihA6Z8+Ppcbw5V8539d51Lvu9q0Mb1ez9mzZ/n111/ZsWMHgwYNYvjw4Tg6Ol46VeuqPkFERERE5B9Bp9NhbW3NAw88gJWVFRYWFgQFBWE0GpkwYQJHjx4lKiqKSZMmYW9vz3vvvUdWVhZarRYXF5er/jzzzU1cXBwff/wxv//+OwsXLkSpVDJkyBCSk5OFSPPbtZrYrcI8y87KymLlypXs37+f+Ph4PvjgA/z8/P7eRSCapkVERODGmqbvdG6UafpWYjQaqa+vZ9++faxatYq6ujoSExPp2rUroaGh2NnZ3fHnicFgoKCggKNHj7J582bKysro1q0bQ4YMwcPD46LukIshzohFRERERFohlUpxdHSkb9++9OjRg/T0dPbs2cP8+fORSqXExMTQs2dPgoODsba2vmLR+bdinvVqNBrq6uo4ePAgO3bsICsrCx8fH/r27Ut8fDxubm5XfRxEIRYRERERuSzW1tZ06tSJuLg4NBoNx48fZ/v27bz77rvo9XoCAwOJiooiPDyckJCQf60V4GLodDry8/PJzMzk2LFjnD59mtraWoKDg0lMTGTWrFk4Ojpe142IKMQiIiIiIn+L2TdsY2MjiLK5jndOTg7p6els2LCBpqYmXFxcaNOmDe3atSMkJAQ7OztsbGywtbW9LWfORqORpqYmoYhLdXU1J0+e5PTp0+Tk5NDQ0ICnpyft2rVj0qRJ+Pn54ebmdsPS10QhFhER+VsuDCW53S6iIrcGiUSCo6MjCoWC8PBwBgwYgNFo5OzZs2RmZnL69GnWrVtHaWmpkB7m4eGBr68vnp6eeHh4CA9HR8cW0ck38hy78Nw1p2mVlpZSWlpKcXExJSUlFBYWUlhYSENDA1KpFBsbG0JCQmjbti1DhgyhTZs2LfKjb/RvQBRiERERjEYjWq2W+vp6oZDFX9HpdEgkkptexOK/QHV1tdA84r/OX8uQBgQEEBAQQO/evYVyoE1NTTQ0NJCXl8eZM2fIyclhz549VFZW0tzcDJyvK21vb4+9vT12dnZYW1tjbW2Ng4OD8L85Hc4cRW722ZpzgJubm2lqaqK+vp7Gxkbhf7VaLTy0Wi2WlpY4ODjg4eGBu7s7HTt2ZOTIkTg7Owv1xm1sbK67PeQVH0MxalpE5M7FZDKRlpbGokWLhAYJjY2NwgXIXMxAoVAwaNAgnJ2db+Vw/1VYWVnx2muvtajsJNISnU5HTU0N9fX11NXVCWLZ0NDQQkTNomrur2wWXzh/nM1532YRtbe3F3ojm/93cHAQ/iqVSmxtbW8b6454aysicodjb2/P/v37OXnypLDswj62/v7+zJ8/n/79+4uz4atEPF6XRy6X4+rqiqura6vXzHNEc5W2v5qYzVwopubn5hvJ20Vo/w7xLBERuYMx96hNTk7m9OnTrRrJh4aGMm/ePAYOHHjLqyaJ/Pcxpwjp9XrB3GwuR3lhGdMLz1NzEJn5IZVKhf7S5ue3Y4DYhYhCLCJyh2Ku17x3714qKyuRyWQtLnBt27bl008/JTEx8ba+iInc/vzVA2o0GqmqqqKsrIzS0lKqq6upqalp8TCboy+cEZvrfF/4F/5v5nvhjNjCwgJbW1vBFO3k5ISjoyNKpRI3NzdcXV1b9Ga+kH/6fBeFWETkDsNoNFJRUcH+/fv55ZdfaG5u5q677kKr1bJq1SoAkpKSWLBgAXFxcf9YwIrIfwdz1yGzwJaVlZGTk0NBQQGlpaVUVVVhNBqxtLTE2dkZJycnlEolSqWSgIAAXFxcBD+vuQb0hfW/L2wsYZ4pX9jMQa/Xo9VqUavV1NTUUFFRQU1NDdnZ2dTU1FBeXk5DQwNGoxF7e3tcXV2FNpP+/v44OjoKwv1PuBdEIRYRuQMwX6RKS0tZvXo1W7ZswcXFhXvvvZfu3btjZ2eHUqlky5YtREdH8/HHH9O2bdtbPWyRfwEmkwmDwYBOp6OwsJC0tDROnTpFTk4OTU1N2NraolKp8Pf3Jzo6Gg8PD1xdXXFxcUGpVN4Sl4fJZKKxsZGKigoqKyspKSmhqKiIQ4cOCf2KDQYD3t7ehIWFER0dTWRkJHZ2dlfVgelKEaOmRUT+4zQ1NXHkyBE2btzIsWPHiImJYfjw4QQGBgpF/AFqamr46KOPeOihh/D19RXN0SKXxGQy0dTURG5uLunp6aSmplJYWAic70MdGRlJVFQUXl5eWFlZIZfLBT/t7XpeXXhDodVqqa2t5dSpU5w8eZITJ05QW1uLk5OTIMzh4eF4enreEIuRKMQiIv9BjEYjdXV1HDhwgBUrVtDQ0EBKSgopKSn4+vpechai1WqRy+W37cVS5NZgNv02NDSQn5/Ppk2bSEtLQyKREBoaSlxcHH5+fvj6+l623d+/EXMsRVlZGWfOnOHYsWMcOHCAyspKgoOD6dOnDx07dkSpVF7zb0cUYhGR/xAmk4nCwkI2bNjApk2bcHZ2ZujQoXTv3l3IZ/0vXSRFbj5Go5H8/Hx+++039u7di16vJzExkeTkZMLCwrCwsGjhs/0vc6Evury8nL1797J582ZKSkpo06YN/fv3Jz4+/qIBYJdDFGIRkX85ZjNhdnY2v/32G2lpabRt25bhw4cTHBx8WxUuEPn3oNFoOHXqFCtWrODEiRPEx8fTp08fgoKCWpWkvFMxl8w8d+4cqampbNiwAalUyj333ENiYiKurq5X9NsThVhE5F+I+Wfb1NTE7t27Wb58OdXV1fTs2ZOBAwfi5+cHiLNfkavHaDSSkZHBt99+S1ZWFv369aNfv354eXmJ59NlMIvy/v37+emnnygrK+Ohhx6iV69eWFtbX/bYiUIsIvIvw2wq3LlzJxs3bsTOzo7hw4eTkJCAUqkUZyoi14TJZKKqqopVq1axYcMGevXqxciRI1GpVOI5dRWYTCaam5s5evQoX375JRKJhKlTp9K2bdtLxmaIQiwi8i/AZDKh1WrJz89n+fLlHDx4kPDwcAYOHEjHjh2xsbERZysi14zJZOLMmTO88cYb2Nvb88QTTxAcHCyeU9dJfX09v/zyCytXruShhx5i0KBBF63yJQqxiMhtjDlSde/evaxevZqioiJ69uzJ8OHD8fDwEHIaRUSuh0OHDjF37lyGDBnCqFGjsLS0FM+rG4A5uCszM5PXXnuNxMREHn/88VZFQkQhFhG5DdHr9ZSXl7Nr1y5Wr16NTCZjyJAhJCQk4OnpKV4kRW4IJpOJ7OxsXnnlFe69914GDx6MXC6/1cP6z2EymcjNzWXOnDkMGDCAYcOGtRBjUYhFRG4TzHfPubm5LF++nNTUVPz9/QX/r5jfK3KjaW5uZubMmbRr146JEyde8/l1YXck8zb++r952V9rRF/4/GKff2GN6b/y123/Vc4uHMtf1/3r+y9c78L3/bXT0/Uco4yMDGbOnMnbb79NZGTk/9XGvqYtioiI3FBqa2vZtWsXzzzzDLNmzcLa2pp58+bx9ttv07VrV9FUKHJTOH36NOXl5QwfPvy6tqPRaFi6dCkRERGsX7+e1NRURowYwQMPPMA333yDWq1m/fr1DBgwgGXLljFu3Dhee+011q9fT1xcHG+99RaVlZUX3XZlZSWJiYmcPn0ak8nE119/zRdffNFKdLVaLT/99BPJycmEhIQwe/Zs8vPz2bNnDwMGDGDHjh0UFRXx7LPP8vTTTzN//nzmzJlDSUkJAHv27GH48OE0NDQA54Xz8OHDzJ49myVLljB79mxycnJafe6VYi5+MmjQIH766acWr4m1pkVEbgHmogBqtZo//viDNWvWoNPpGDRoEM8884xofhb5R9i5cyddunTB2dn5us43a2tr4uPjqa6uxs/PjzfeeIPQ0FDGjBnDuXPnSE9P59ChQ9jb2xMREcFTTz3F0qVL6dy5Mw0NDbRv3x4XFxdhewaDgcbGRgDq6urIz8+npqYGvV5PfHw8RqOx1XitrKwYNWoUK1euZOfOnYwYMQJ/f3+OHz9OZmYmlZWVbN68mYULF7Jr1y58fX2Jioqirq6O9957D19fXyorKzl58qSwLzNmzCAmJoZ77rmH++67j+zsbD799FMcHR2v6TjJZDJ69OjBCy+8QHNzs1BkRxRiEZF/GL1eT05ODuvXr2fnzp34+voyYcIEOnXqJOQb1tTUsG3bNhwcHIiOjiY1NRW9Xk/37t1pbGwkOzsbOzs7VCoVAQEBomiLXBMlJSV06tTphpw/5sDBuro6GhoaeOqpp3BzcyMiIgKDwYC/vz/Lli2jtLQUqVSKQqHA2tr6olW5jh07xqxZs3Bzc6O5uZna2lreffddZsyYQbdu3YCL58hLJBKsrKwABF/33XffzYEDB1AoFGzZsgUApVJJQUEBzc3N/PnnnwB4e3vTuXNn1q1bR1xcHPv27SM9PZ1BgwZhZ2eHXC5n7969lJWVXbMQA3h4eGA0GqmpqRGFWETkn8Qc/ZyZmcny5cvJyMggISGBV199lfDwcOHiYcbCwoKPP/6YDh06EB8fz4oVK6iqqiIwMJBXXnmFcePG4e7uzrfffkufPn3o0qWLKMYiV42DgwPV1dWX9MFeCwqFAqVSyYwZM5DL5ZSVlfHcc89hZWVFx44dhdn35XKTg4ODGTt2LD179kSn07Fr1y6ee+45YmJiqK2txWQyoVQq/3bMEokECwsLVCoVAI899hgZGRn873//Y9euXWi1Wnr27Amcv5EYOHAgb7/9NuXl5VRWVqLRaNBoNJSXl1NdXS0I8vVQX18PgJ2dnbBMFGIRkZuE2ZdUX1/PH3/8wbp161Cr1fTr148ZM2bg4uJyyeAPe3t7oZm5QqHA1dUVg8HAL7/8glQqJTk5GQcHBwICAvj444+Jj4//R/qmivy3SEhIYNmyZYwaNQpbW9sbsk1HR0emTZvGuXPnKCkpYceOHQQEBHD06FE2btxI9+7diY2NRaVSceDAAdRqNYcOHcLPz4/27dsjlUqxt7end+/epKamEhUVhUQiwdraGplMxtdff41er+fpp5++6haKPj4+xMfH8+GHH6LT6Zg4cSIzZ84UXo+NjUWr1XL69Gnc3NywtrZmy5YtnDt3jurqaqZPn463t/c1HxuTycTBgwfx8vLCwcFBWC7+ckVEbgI6nY6CggK2bNnC5s2bcXV1ZezYsXTo0OGKq19dGBRiNBqB8/4yX19fbG1thZ6qpaWl1xxAInJnExsby1dffcX27dvp16/fDZsVx8bGEhAQQGNjI8OHD0elUuHl5UWnTp0wGo2kpKTg5OSEvb09Tk5OBAYG4u/vL3y+RCLB1dVV8PFeGOU8btw4gGuq9vXJJ5+wYMECAgMDGT58OAcPHiQ1NZXo6Gg8PT2xtrYmJSWFLVu2MGPGDNq3b09WVhZz5szh2WefxdPT87pmxOXl5fz88888+uijLZaLQiwicoMwmUzodDpOnz7Nzz//zNGjR4mNjeWZZ54hNjb2qu7em5ubUavV5OTkkJmZSW5uLoGBgQwYMIAlS5ZQV1eHRCJh69atDB48+JY0Vxf59/HXtB2FQsHkyZOZP38+gYGBhIeHX5MYmyu/mZFKpbi6urZYRyqV4uHh0WKZi4sLnTt3xtramjNnziCTyWjXrp1gKYqMjOTMmTM0NzcL4zabmS82Bo1GQ3V19SXHmZOTg8FgYP78+SQmJhIeHs4LL7zAoEGD8PPzQ6FQoFar2bFjB7NmzeKNN97gscceY8eOHTz11FPXLMLmm+aPP/6YsLAwOnfu3OI4i0IsInKdmEwmqqur2b17Nxs3bqSyspK7776badOm4eTkdE0/XrVazbBhw3BycmLnzp34+/vz+OOP4+/vj42NDdu2baO6upqxY8fSu3dv0T8sckWUlJRw8uRJVCoVHh4eODs706VLF8aMGcPzzz/Ps88+S+fOna96ttnU1ERaWhqRkZFX5SKRSCS88sor7Nu3j99//50+ffq0eF0mk5GSksLMmTP/NkDKaDSyf/9+YfZ9sd/Eo48+SmZmJqWlpWzevBlHR0ceeOABiouLmTZtGhKJBKPRiK2tLfv27SM5OZlVq1bxzTff8MUXX9CjRw/CwsKuus1hVVUV8+bNo6GhgTfffFMI0hKOg1jQQ8SMVqulurpaMIOK/D0ajYbNmzfz888/4+DgQL9+/ejSpYsgwCqV6rabrVZVVaHRaG71MO5orKyscHJy+sdvoHbv3s1DDz2EyWTCxcUFFxcX2rRpQ1hYmCBOEyZMYPDgwVfd6rC5uZnS0lI8PT2xtLS8iXtxeRobGzlx4gSRkZEtAqLgvFgXFRVRUlKCwWDA0tKSiIgIzp49S2ZmprCeVCqlXbt2QhczrVZLUVERzc3NBAUFtQquvBR6vZ6TJ0+ycOFCfHx8mD59OiqVSqw1LXJpUlNTmTJlitju7CowGo0YjUZMJhNSqVQQ3ebmZpqamlixYkUrE92tZtiwYdTU1KBQKG71UO5IampqcHV15YcffvjHy0kWFhaSnJxMdna2sEwikSCTyVqcw127duXFF1+ke/fuYuela6SiooIffviBzZs3M2bMGAYPHnzJwjyiaVpEwGQyERkZyXvvvSdG4F4hlyqVd+7cOWbPnn1bBlFZWVkxe/ZsoqKibvVQ7kjS0tL44Ycf/pHPMvtN1Wo1arWa0tLSi5Z11Ov1WFhYEBoayqOPPoqLiwuffvopmzZtYuTIkYSGhmJrayveoP8NBoOB0tJS/vjjD3777TfatWvH/PnzCQ4OvuwNjXi1FWmBXC5HqVSKhd+vk4aGhtvOJG1GKpXi4OCAk5PTrR7KHYmDg8MNnWWa6yGbq7VVV1eTk5NDdnY2OTk5FBUVUV9fj1wux9LSspWvVSKR4O7uzvjx43nooYcICQkBYMCAAaxatYrXX38dpVLJyJEjSUxMFARZFOX/uxHX6/Xk5uayatUqDh06RHBwMLNmzSImJuaKjpMoxCIiIiL/IoxGI3V1dVRWVlJWVkZxcTHZ2dmcPXuW8vJyGhsbUalU+Pv7ExQURN++fQkICMDa2horKys++OAD0tLSgPNVngYOHMgTTzxBeHh4i8YiTk5OPPzwwwwdOpQDBw6wfPlyvvjiC2JiYujWrRtt2rTBxcXljjRdm0wmmpqaOHPmDAcPHuTPP/+kurqanj178u677+Ll5XVV9eFFIRYRERG5jTDPbnU6HTqdDq1WS2lpKZmZmeTk5JCTk0N5eTkmkwmFQoGbmxuhoaFER0fj5uaGu7s7Li4uF21AbzKZaNu2LTY2NvTv35/HHnuMbt26XTK4SiqVolKp6NOnDz179iQrK4vdu3fz1VdfUVdXR0REBF27diU2NhZbW1usrKz+cz2yL/w+NBoNZ86cYefOnaSmptLU1ERkZCSjRo0iOjr6ooFYV4IoxCIiIiK3EPNFvry8nIKCAoqKisjPzycvL4/q6moaGhqwtbXFz8+PoKAghg0bJsxGZTJZiyDBKxGBTp068eOPP9KrVy+htvnfYa7h3LZtWyIjIxk3bhyVlZXs3LmT9evXs2jRImxtbWnTpg3R0dEEBQUREBCAo6Pjv1aUNRoNhYWF5Ofnk5GRwalTpygvL0cmk9G+fXumTJki3NRcrF721SAKsYiIiMg/TFNTE3/88Qd5eXmcOXOGs2fPotVqcXBwwMvLi4CAAEaMGIFKpUKpVKJUKrG3t79uUZNIJHh6ejJo0KBrfr9ZlL28vBg1ahTDhg2jvLyc0tJSTp48yb59+/j555/RarW4ubkRHBxMUFAQwcHBODk5YWNjI5jJb1V7T5PJhMFgQKPR0NzcLBTQKSwsJCsrS/hedDodbm5uhIWFMWzYMHx9fXF1dcXBweGGjlsUYhEREZF/mKqqKrZt24a/vz89evQQSjz+Ne9VIpFQWVnJ4sWLsbW1pV+/fmzcuJH6+npGjhwpFNJwdHTE1dWV6OjofzyQytLSEm9vb7y8vOjYsSMPPPAARqOR4uJisrKyyMrK4tChQ6xZs4ampiYhTUqlUuHu7i4UFnFychLqqzs6OmJnZ3ddQm1upVhfX09NTQ1VVVXC39LSUsrKyigrKxOqdllYWODq6kpAQACdO3dm7NixBAUFtSrecTOOrSjEIiIiIv8wXl5ezJ07Fysrq7+9sCsUCnbv3o2HhwdjxowhMzOT48ePk5KSwowZM3j++efp2LEjn332GdnZ2dx77723ZJZ54WfKZDJ8fHzw8fGhZ8+eGI1GYeap0WhobGykpKSEs2fPUlJSwrFjx6iqqqK2tpbm5mb0ej0Gg0GYfZt9z+ZsDgsLCyFITKfTCRHjer0erVaLRqNBr9cLZnu5XI6joyOOjo44OTnh5uZGVFQUvr6+ODo6YmVlhbW1NdbW1i0C1v4pRCEWERER+YcxF9G4kgu+XC4XAqGsrKxwcHDAysqK9evXo1Ao6NSpEwqFgoiICD7//HMGDx581SUYbybmfbWzs2sx4zenSV3IhXnPF5qNtVotOp0Og8Eg5D0bjUahzaHZRyuXy5HL5YLp29raGhsbG+zs7K7bj3szEYVY5Io5efIkaWlpWFlZERsbS2Bg4B2ZuiAicisxzxSNRiNubm6CuFVUVNDY2HhbFpG5UsztDm+nG4l/AlGIRa4YtVrN5MmTCQgIYPXq1cLdZW1t7UU7nqhUqhse1CByeRobG9Hr9djb29+UmySj0UhhYWGreuSWlpa4ubmJFdluAmY/Z319Pfv37+fo0aMEBQUxZMgQFixYQH5+PpaWlmzdupUHH3zwltZ5vlqMRiM6nQ69Xi/8NT/Mr9XX19PQ0CDMkOF8RPOFpmupVIqFhYUwA3ZwcBD6F8tkMiwsLJDL5VhYWAjPb6c0K/FXI3LFuLu7Y21tjVKpJDAwEDhvSkpPT+f3339vtf7AgQNJSEhocYd+sbzGy2Fe/0bc5Uskkiv6vIutc7Hlt8uP+ELWr1/PDz/8QFJSEn379iUsLEwQxysZ798dH71ez5IlS2hqamqx3MvLi9GjR1+0atOljueVfuaNOAcud95d6fYvdw7czHNDp9Px8MMPY2lpSUlJCUlJSdx33314e3vz3HPPkZ2dTV1dHZMnT6ZLly63jZXqr8fEYDBQUlIiNF0oKyujtLSUkpISampqBLOzuXY7nM9jNkdZmyuDAYKQmtsvms3Ver0ejUZDQ0MDOp1OCFyTSCSCadrGxgYPDw8h59rd3R1PT0+hz/eF/FO/cVGIRa6a6upq5s+fz549e3jggQcYOnQo3bp1a7XewYMHufvuu5FKpdxzzz0MGjSoVUOJwsJC5s2bx7lz51q8NyAggLfeeksIzjCZTKSlpbF48WK2b99OREQEjz/+OF26dOGbb77h6NGjtG3blvLycsaMGcOZM2d45513cHR0ZPjw4fTt2xeVSsXixYv5888/efXVV9mxYwdffvklAQEBjBo1iu7du+Pg4MC5c+dYsWIF9vb2mEwmRo4ciZ2dHampqRw4cAALCwtCQkJITk6+7UqBNjY2snHjRtatW8fChQtp06YNo0aNIjEx8aJRuX9l+fLlzJkzB29vb8aOHctXX31FeHg4KSkpfPHFF0JLur/OutRqNe+//z6//fYb8fHxjBgxgvj4eORyObt372bnzp14e3tTXl7OQw89hKurawuLyvz58zl16lSLbTo5OfH222/j7OwsLMvMzGTp0qWsWrUKLy8vHn30UYYPH05WVhbLly/Hz8+P/Px8Ro8eTUVFBRkZGTg5OREfH4+7u7sgpunp6cyZM4cvv/wSJycnDAYDc+bMobq6mhdffJHFixfz66+/Ehsby8iRI0lISMDKyoqTJ0/yxx9/YGtri1Kp5J577kEqlbJlyxZyc3PR6/UkJCQQFxd3w0qcOjo6MmDAgIu+FhISclFf663CZDJRX19PdXU1lZWV5ObmkpGRQVFREWVlZRgMBhwdHXF3d8fNzY2AgAC6du2Kq6urkM5k9vOaZ7LmWa3Z1wz/l0YFCNYZs4AbDIYWD3MAl7k4Sl1dHYWFhRQXF3P69Gl27NhBRUUFer0ehUKBt7c3/v7+tG3bFjc3NyGa+2b+1kUhFrlqLCwsGD58ONnZ2cyYMYO2bdsSHh7ear3S0lLkcjljx46lc+fO7N69m6SkpBZi7OHhwcsvv4xerwfO3zXn5+dz6NChFtuSSqXExcVx5swZvv76awYOHEhKSgqrV69m1qxZvP3224wfP56UlBTS0tK4++67UalUjB8/nrCwMH7//Xf69etHRkYGR44coaamhvz8fMLCwnjkkUdQqVT89ttv3Hvvvbz11ltoNBpeeeUVHn30UTQaDffccw+PP/44r7zyCn5+fjzyyCN88803dOzY8ZJ3zUajEY1G02r2eDPR6XTC38LCQgoLC9m6dSu+vr506dKFfv36UVVVJVQL+uvYo6OjKSoqwt3dnYKCAnbu3En//v3Zt28fW7duJTk5+aIC09TUxLlz5+jWrRtjxoxBq9Xyxx9/EBUVxYQJE3jiiScYPHgwSUlJVFVV8dprrwli7uDgwJNPPik0ljcajZSXl7Nt27YW45NIJLRp04Zhw4axcOFCgoKCGD58OGq1mqeffhovLy+mTJnCI488wrFjx/j888+JiIgQesm+9NJLxMfHI5FIcHNzo6KiguPHj9OtWzcMBgPp6elUVlZSV1dHUVERiYmJjB07FqPRKPTKffrpp0lOTmbw4MGMGjUKW1tbPDw8mDlzJt9++y25ublMnjyZdevW4enpebO+5tsC8+zVYDBQWVlJeno6+/fv59SpUzQ1NeHg4ICfnx/h4eF06dIFT09PvL29b7i7ynw+Xs2NT6dOnVr8r9VqKSkpobi4mKKiIgoKCvj555+prq6mqakJT09P2rZtS3x8PGFhYTe8gpgoxCJXjUKhICAggLi4OL799lv27NlzUSHu27cvPXv2xMbGBr1eT1paGs7Oznh5eQnryOVyXF1d0Wg0HD58mPXr15Ofn0///v1bmdjMUZHmO2WpVEp5eTk6nQ4XFxcqKyupr68nIyODzz77jEcffRQbGxvUajVbtmwhLi6O1157jVmzZuHk5ERERARwvhtRcXExq1atIiAggN9++02YtdnZ2fHjjz9SXV3NsWPHCAgIwMfHh7Nnz7JixQohb/Ni5OfnM378+H/UZ1ddXS3c1FzI2bNnKSwsZPPmzcjlcs6cOXPRm4gLo3lHjRrF3r17qa6uFiowOTk5XfSC5+LiwoIFC4RUkZMnT/Lzzz9TUFBAXl4eAQEBgoXh999/57nnnhOOi0wmw9nZGZ1OR0ZGBr/99hvHjh2jW7duF83hNPv5zDOlQ4cOceDAASZPnixEFO/du5fCwkLatWvHxIkTyc7O5vHHH+e7774TZjo9e/Zk9erVJCUlIZfL+fbbb9Hr9SiVSt59911hXzIzM/n555+xtrZm9+7djBs3Dg8PD5qbm1myZAnu7u4UFRXh6+uL0Wjk6NGj/P7774wbN+7GfbG3ESaTiZKSEjIyMti/fz8nTpxArVYTEBBAx44duffee/H09BRmuLeTL/ZSWFpa4ufnJ/QfNvuntVotarWao0ePkpaWxnvvvYdWq8Xf358uXboQGRlJcHDwFfcnvhSiEItcNebZVHNzs+CbuRS1tbUcPXqU3377jSVLlnD33Xe3eN0s0EuXLkWn09G7d2+mTp2Ki4vLFf14Bw8ezJYtW9i0aRPfffcd2dnZdO/eHRsbGyorK8nJyWH58uVs2LCB559/HltbW8EPpNFohAvKV199xfHjxykoKKCmpgYbGxshXaSgoIAdO3ZgMpmwt7cXzLvp6emX9Sv6+Pjw2muvtTCt/h1NTU18+umnmEwmHn30URwcHK74vYDQ/cU8MwawtbXF1dWVlJQUhg0bxqeffnpFEe8ymYyhQ4fi5ubGunXrLjqDNiORSIRZxeHDh1m0aBFKpZLi4mLBMnDu3Dmam5tbNQowGo1kZGSwZMkSzp07R0pKCvfffz++vr5XdA5UVlbS2NiITqcTTKJWVlbodDq+++47/vzzT+rr6zlx4gTLly8nMjISmUxGv379mD17NiUlJXh5ebXoz6zT6Th79ixHjx7lk08+wcLCgtOnT6PRaLC3t8fGxgaZTMaJEycoKChAIpFgZ2eHg4MDRqOR9PT0vx33vwmDwUB9fT2ZmZmsX7+e9PR0HBwc6Ny5M0888QSBgYE4OzvfNv7p60UqlbZIF/P09KRv3740NjYK1bcOHDjAihUrsLOzo3v37vTq1QsXF5drKkIiCrHIFWP2v9TW1pKVlcWRI0dQKpXEx8dfdP3CwkJ69epFfn4+APfffz/t27dvsU5RURGzZs0iNDSUV199tZUP+e9wdnbmrrvuYu7cuRQWFtK7d28WLFhAXl4eQ4cOpaysDAsLCx577DG8vb1bvHfNmjU89thjqNVq7O3tmT17NkCLIA+A5uZmKisrhfeZl6vV6ssKsVwuF3xhV0pTUxMxMTGkpqaSl5dH3759r+p4KBQKISglKCiIrl270qtXL/r06SNcKJctW3ZF2/r111954YUX+O233wgODsbGxgaVSnXJ9efPn8+7776LXq/H3d2dzz77jOLiYqRSKatWrWLDhg0oFAqefPLJFkExtbW1zJ49G41Gw9tvv01YWNhVXdCdnZ2xtbVl165dQn3gxx57jCNHjvD444/z3HPPMWHCBH7//Xd27dqF0WhEKpXSsWNHLCwsOHLkCJ6eni2O8//+9z/mzp0rWFsWLVpEZmZmi/7TEomEhoYGDAZDqzHV19df8fhvZ0wmE2fOnGH9+vVs27YNOzs7kpOTmTBhAh4eHsK5drvPeG8E5putsLAw2rRpQ79+/dBoNOzdu5dNmzaxatUqQkNDGTRoEF26dLkqS5goxCJXzO7duwkICCAoKIht27ZRXV3N+++/T7t27S66vkKhoFevXri7u9OhQwe6d++Os7Nzix+tl5cXixYtYsWKFTz33HP07NmT3r174+XldUWpMH/88QcvvvgiRqORJ554gpycHI4fP06nTp3o3bs3bdq0oWPHjkIf1QsJDw+nf//+xMbGEh8fT2xsLAcOHMDOzk6o7GM0GnF1daV9+/YcOXJEiMyE8wFlN/oCZGNjw/3338+gQYOYN28eXbt2FUy6tbW1FBcXI5fL8fX1RS6Xk5GRgYODA3q9HldXVxwdHRk0aBADBw6kc+fOeHl5YWNjc03jHDlyJGfPnmXz5s1UVFTw2muv0adPn0uuHx8fz/Dhw0lMTCQxMZF27dpRVFSEt7e34C546aWX8PHxaWHeVigUvPvuu/z666+8/vrrxMfHc/fddxMYGHhFF7OOHTsSFRXFiRMnePHFF5k4cSJ+fn48+eST6HQ6BgwYgJOTkyAYxcXFeHt7I5fL6d27N1u3bqVPnz4tzre4uDiGDh1KYmIiXbp0ISoqip9//hmZTNbi3PD19UWpVFJaWioEBgFCVsHtgEajoaKiQkgvu5JzQafTkZeXx48//sjRo0eJjo5m9uzZgovhThDey2F24dja2nLXXXfRvXt3SkpK2L17N19++SXfffcdo0aNonPnzld0vEQhFrliRo8ezejRo4X/J02aBFw6xN/R0ZEuXbrg5eWFg4MDeXl5WFlZtTgx5XI5ERERvPzyy+Tk5PDLL7/wwgsv0KVLFyZNmiRcHM3m8Nra2hZm15ycHOrq6nj++ed5+eWX6dWrF0899RSpqanExcURHR2NhYUFWVlZtG/fvoUvJzw8nOjoaJKSkgDIysqiXbt2+Pv7U1lZSW1tLWq1mri4OB588EGWL19OaWmpENnZp0+fm2aKs7S05MyZM+zatYu+ffvS1NTEjBkzyM3NpUOHDnTq1Ilhw4Yxc+ZMpk2bxtatW1EoFDz99NMMGjToumYp5lmfu7s777777hW/Lz4+nlOnThEbGyu0iwsKCuLNN9/klVdeITMzk5EjR7byMctkMvz9/Zk+fTolJSX8+uuvvPnmm4SEhPDkk08K5nnzuOrr64V8Ujh/ns2dO5fx48ezd+9eevTogaWlpXCjZG1tTW1tLXBetL/++mt8fHxwcnKisbGRHTt20NDQ0CL1Ki4ujiNHjhAXF4dOpyM3N5euXbvi5OREWVkZVVVVGAwGevXqhY+PD3v37qW8vJySkhLs7e256667LnusSktLeffdd3F2dsbZ2RkXFxdUKhWurq5ChO6F3+Ffn18NOTk5PProo6SkpPDQQw8JbomLbcdkMlFTU8Pnn3/Onj17SE5O5oMPPhCsSXe6AF8K883xfffdx5AhQ9i6dStLly7lxx9/5PHHHycmJuayv0lRiEWumKv9EcpkMlxdXXnkkUdQq9VIJBK+/PJLhg4detHthoSEMGPGDMrKyjh16lSrzyssLCQjI4OQkBBBoAcPHsxvv/2GyWRiz549NDY20q9fPxwdHbG1tWXo0KHo9XpkMhnr1q2jc+fOwvasrKyoqqqiX79+wHkT5/bt23n++efZsGEDBw8exNXVlRkzZhAcHMy0adNIT0+npKSE0aNH07dv36s+hleCyWRi165dFBUVUVpaikajITU1lYKCAj777DN8fHzIy8ujvLycp556CmdnZ44fP46Dg8N1d7MpKioSoryvdjt2dnbs3buXN998Ezgfmbp8+XLuvfde/Pz8+OGHHzCZTHTq1Ing4OAWgmz+LE9PTyZOnMjIkSM5cuRIqzFUVlayf/9+IiIihEAuiURCQkICq1atYvHixXz66af06tWLYcOGsW3bNo4dO4bJZKJ3795MmDCBpUuXMnXqVKRSKUajEZlMxu7du+nfv7/wOba2thw6dIi33noLgKioKFatWsVzzz3HmTNnSE1NpXPnzjz88MNYWVmRmprK/v37KS8v5+mnnyYqKuqyx8rcvaimpob09HQqKiqor69Hq9Wi1WoF36TZ72xvb4+bmxsuLi7Y2toKfmpzzIKtrS12dnYXDaQrLS0lPT2d1NRUvvrqK4YMGcLo0aOJiYlpYSUyGAxs376dL7/8krZt2/Lhhx/i7e0tFmm5Csw3fv369aNr165s27aNd999l86dOzNu3LhLunYkpn9zPTSRG8r+/fv54osv+OSTT25YzlxNTQ3bt28XUlPat29PeHj4NYuFXq8nJycHo9FIREQEJpOJsrIysrKykEgk6PV62rdvj5OTE6WlpYJPECAhIQF/f39hWyaTiezsbA4fPgycT8vq3r07jo6OZGRkoNFocHZ2xt/fH4lEglqt5vTp04L/1cnJ6ZLjLCws5Omnn+ajjz66Kh8xnPcTT58+ncTERCwsLEhOTubIkSP8/vvvvPLKKy1q9/7www98+OGHtGnThhdeeIF27dr97bF94IEHePrpp4mJiWn12okTJzhx4oQQVXw1GAwGDh8+TG5uLnDe5Gw2rcP5HOe8vDxMJhMRERHXnGdrNBo5e/YsFRUVxMbGtnhNq9VSUFBAQ0MDoaGh1NbWcu7cOYxGI35+fri5uQnxDWYkEgkdOnSgTZs2LT7j6NGjZGVlAWBvb0+3bt2Qy+WcOnUKo9GIt7e3kJtsDgy0tLQkNDT0svnal/qdGQwGmpqaqK+vp66uDrVaTWlpqSDQZWVllJeXU1dXR1NTE42NjULApLW1NQqFApVKJcyyzTPtw4cP88ILL9DQ0CDsr7u7Oz179mTs2LF069YNmUzGypUr+fXXXxk/fjy9evW67XLk/42YTCby8vJYtGgROp2OZ5999qJxMKIQiwjcDCG+U7keId6/fz+vvPIKX3/9NVVVVWRnZxMTE8OkSZMICQkhPz+furo6fvjhB/r27cvYsWPp27cvTk5OVxRpfDkhFrn5XOnvTK1W88ILL5CXl8f7779PUFCQULTiwgpUWq2W6upqysrKhL/l5eVUV1dTXl7O8ePH2bdvX6ugMvPszezPP3v2LPPmzSMwMFA0Qd9AzN/RokWLOHToEPPmzcPDw6PFOqLNQUTkNqK6upoff/wRd3d3LC0tsbOzY+fOnXTu3Jm5c+dy/PhxrKys6NmzJ+7u7kyePJna2lp++ukn7rvvPnx9fW/1LojcIKytrZk+fTqnTp1i586dBAYGXtRMbGNjg6OjIwEBAS2Wm7McXn75Zfbu3dvqfXZ2digUCo4ePUpjYyOffPKJKMI3AXM97Mcee4xFixYxf/58XnnllRaxMqIQ3yFcrt6zyO2DUqlkwYIFwv/mQhlwvgpZXFxci/Uff/zxFv+L3+1/BwsLC4KDgwkMDOS1116jsLAQf39/TCYTmZmZbNiwAVtbWwYPHoybmxsff/wx/v7+NDc3ExsbS1BQEDKZjLq6OuB8bqyTkxOdOnUiOjqaDh064Ofnx9tvv82LL774t37ty2GepUPr+tt/rSt+Yc3uvz6/WA3yi23HzF/Xv1wtcPP2LzbWC9e71H5cbP2rwcbGhkmTJjF16lS2bt3K4MGDhdf+G9nXIn/L6dOnWblyJVu3bmX37t2kpaVx8uRJcnNzKSoqorKykqampn91C7X/AhcWqb+Wh8h/j5qaGg4fPsyWLVswGo1UVlYyadIkTp8+jY2NDStXrqSqqorc3Fw6depEfn4+M2fOFGbEgYGBPPPMM6xevZq0tDSWLVvG3Llzue+++6ioqCAoKEioEHet55BGo2Hp0qVERESwfv16UlNTGTFiBA888ADffPMNarWa9evXM2DAAJYtW8a4ceN47bXXWL9+PXFxcbz11lstcvXhvADu27ePfv36MW3aNPLz8zGZTHz99dd88cUXra5VWq2Wn376ieTkZEJCQpg9ezb5+fns2bOHAQMGsGPHDjQaDcuXL2fevHl8/vnnfPDBB9TX1wvbamxsJDo6muHDh6PX69mwYQPDhg0jJCSEyZMnc/z48Wv7Ev8/dnZ23H///axdu7bF+MUZ8R1CXl4eI0eOBM6bvOzt7VEoFCgUCmxsbLC1tUWr1SKVStHr9aKPWETkNsBkMrF9+3YsLS2RSqVClLVSqeTNN99EpVIJZU0nTpzIli1bWLZsGV27dgXOZy489dRTlxTZ9PR0YmNjr7tEo7W1NfHx8VRXV+Pn58cbb7xBaGgoY8aM4dy5c6Snp3Po0CHs7e2JiIjgqaeeYunSpXTu3JmGhgbat2+Pi4tLi21KpVISEhKwtLTEx8eHgIAATCYT8fHxGI3GVvtjZWXFqFGjWLlyJTt37mTEiBH4+/tz/PhxMjMzqaysZN++fUydOpVly5bh6+tLfHw8tra2DBs2DL1eT0NDA2fOnEEmk9HQ0EC/fv3YvXs3a9eupVevXlcUDHk5JBIJUVFRLFq0iNraWiHgUxTiO4TIyEi8vb0pLCykqamJpqYmysvLhdddXFzo0aMH1tbWYrqCiMhtQmNjI99//z2PPPIIcD4I0OxbXLduHRKJBFtbW3r16sWnn37Kzp07mTBhAiNGjLgiS0ljY2OrQjfXirmmdF1dHQ0NDTz11FO4ubkRERGBwWDA39+fZcuWUVpailQqRaFQYG1tfcmcZqBV5S6JRCIUELqUqdp8U2GeTNx9990cOHBAyLOvqqrCz88POzs7YSb/zTffcPz4cUwmE2q1mvT0dBYsWMBrr72GlZWVUOf+RlidzHXbNRqNsEy84v6HMdeDrqurIy8vD5VKRWFhYYt15HI5MTExQvDAd999d4tGKyIiciEGg4FNmzbR0NBAbGwser2elStXMnbsWNq2bYtEIiE9PZ0TJ05w1113cfLkScaMGUNYWBhFRUW4urr+7Wf4+/sL6YA3qjiNQqFAqVQyY8YM5HI5ZWVlPPfcc1hZWdGxY0ehut61fJ65qI/JZEKpVP6tMJqbhJjzd8+dO4fJZKKpqYnS0lKMRiOenp60b9+ep556Cmtra+677z78/Px48MEHr2n//46zZ88il8tb5BSLQvwfwuxz0Gq1ZGRksHfvXtLS0igpKcHR0REvLy9OnDghpDHY29szfvx4Zs6ciZeXF6mpqa22JfLfRfyOb2+ampqoqalhwIAByOVypFIpdnZ26HQ6pk6dSmpqKqGhoUycOBFHR0fmz5/PiRMnKCoqapEvfzl69uzJrFmzKC0tvWFtGx0dHZk2bRrnzp2jpKSEHTt2EBAQwNGjR9m4cSPdu3cnNjYWlUrFgQMHUKvVHDp0CD8/P9q3b39ZgTb7iPV6PU8//fRV56L7+flhNBr57LPPOHPmDLGxscycORN7e3syMzPp1q0bFhYWKBQKgoODb3jchV6vZ+PGjXTq1KmF+08U4n85RqMRtVpNSUkJOTk5pKamcurUKWQyGe3atWP06NEEBQWhUqnYu3cvqamp1NTUEBsbywsvvECfPn0E05S1tTVnz55l+PDht3iv/v3o9XpsbGxuSzO/nZ0dzz33XKsWgyL/DM3NzQQFBf3tRd7e3p6HH364xbIJEyYIzwcNGtTitaioqKuOfA4MDCQ6Opovv/ySZ5999rp9xWZiY2MJCAigsbGR4cOHo1Kp8PLyolOnThiNRlJSUnBycsLe3h4nJycCAwOFwjmXQyKRCO0lr2VGPXToUL799tsWJUbN3cAqKys5fPhwqxvUG3XDajKZSEtLY+/eva1Kx95+VwmRS2IOrTcYDEKPzL179wq+DR8fH2JjYxkxYgQhISGtCubHxcXh7e3N8OHDef7551s1LQgLC+Ozzz67bFtDkSvHysqqRf3i24VXX32VxsbGWz2MOxpbW9trrix2I7G0tGTy5MnMnDmT7777jjFjxlzTDZq5aIUZqVTayjQulUpbFbJwcXGhc+fOWFtbC0FS5oAok8mERqNpUYhEIpFcskykef3q6upLjjMuLo6XXnqJzz//nOLiYqHTl0QioWPHjvzyyy8tatnrdDqqqqqE6nzXislk4vjx47z99ts88cQTrWbbohD/CzAajZSVlZGdnc3x48c5fPgwJSUluLm50blzZ2bPno2HhwfW1taXDShQKpX88MMPBAcHCwEDF2Jtbd2qKIDIfw8vL69bPQSR2whXV1fmzp3LK6+8Qnl5ORMnTmzVJe3vaGpqIi0tjcjIyKuyAkkkEl555RX27dvH77//3qq7V1lZGQMHDrwiU7vRaGT//v3C7Pti47e2tmby5MmEhYWxZs0a1Go17dq1IygoCFtbW+6++26SkpJQq9UAnDx5Er1eT0BAwDX70HU6Hbt27eLDDz9k7Nix9OzZ89IlLsvKyli6dGmLSC6Rm4PRaCQxMZHk5ORWr5lMJvR6PY2NjVRUVLB//372799PQUEBjo6OREZGEh8fj7+/Pz4+PmKakYiIyHVjrtm+YMECiouLeeqpp4iMjLyqSOHm5mbB13w1vXhvNI2NjZw4cYLIyMjL1vyur6/n7Nmz2NraCmZxk8lEbm4uJSUlJCYmIpFI0Gq1nD59Gg8Pj6sqV2s0GqmqqmLx4sXs27eP6dOnk5SUdFFLiCDEJ06cYMqUKYL9XeTmsX//fjw8PIRG9HA+QjIvL48jR46QlpZGdnY2BoOBiIgIOnXqREJCAi4uLkKKgFi8QURE5EZiNi9v2rSJr776iqioKMaOHUtQUNBNa/f5X8RkMlFfX8/69ev56aef6NChA48//jhubm5X1gbRxcVFFOJ/ACsrK9LT0ykoKKCgoIC9e/dy7NgxGhoaCAgIICEhgbFjx+Lq6oqTk9Nt4UsSERH5b2POwR0wYADR0dGsWbOGmTNnEhcXx6BBgwgJCblhOcf/RQwGA8XFxezZs4fVq1ejUql48cUXadeu3d/63UUf8S1i9erVnDp1CpVKRXx8PJMnT6Z9+/bCiX7hnZPRaMRgMAhBBebn5n6qZsx3reJsWURE5FqRSqX4+PgwefJkBg0axNq1a3nrrbdwdHQkJSWF3r17o1AoLluI407AHDyr1+s5deoU69atIzU1lcDAQCZPniykKF3JMRKF+BbRu3dvXnzxRaHB9+W+rPXr1zN16lQ++ugjXF1dGTt2LJMnT6Zfv34sXboUf39/LCwscHd3p0+fPnf0j0NEROT6MV9DfH19efzxx3nggQfYt28fGzdu5McffyQsLIykpCTCw8Px9fXF0tLyjrnuGI1GKioqyM7O5tChQ+zduxeJREK3bt344IMP8PDwEKpxXSmiEN8inJycrtjxHx4ejlqtpn379qhUKnQ6HYGBgcydOxd/f38eeughKioqeOKJJ/Dw8CA6OvrmDl5EROSOwByPolQqufvuu+nduzd5eXkcOnSILVu28PXXX6NSqYiLiyMuLo6QkBCsrKyE2tj/ZnE25w/rdDo0Gg2VlZWkpaVx8OBBMjIycHR0pEOHDkybNo3IyMgWbQ2vFlGI/wX8tdaqTCZDrVazb98+Jk2ahIWFBU5OTmg0Gvbt2ycKsYiIyE1BJpMREhJCcHAwQ4cOpbGxkfT0dPbu3cv//vc/6urqcHJyIjg4mDZt2hAQEIC/vz/Ozs7/ioAvk8lEY2MjRUVF5OXlkZubS0ZGBsXFxRgMBoKDg4mNjWXy5Mm4ubkJpufrveEQhfhfgMFgwGg0Ul9fj7W1NVqtFjs7O4KCgjAajZhMJgoLC6mtrcXHx+dWD1dEROQ/jrkJgqOjI926daNr1640NjZSXl5OSUkJmZmZHDp0iNWrV1NfX4+9vT1eXl74+/sTEBCAn58f9vb2WFlZCfUPLC0tsbCwuCkzabMvV6fTodVq0Wg0aDQampqaKCsrIy8vj/z8fAoLCykvL0cikeDl5UVQUBADBgzAx8cHNzc3nJycbsoNhSjE/wKKiopwdnbm4MGDHD16lNDQUKKiopg9ezb79u2jsbGR1NRU+vbtS+/evW/1cEVERO4wJBIJdnZ22NnZ4e/vT0JCAnBeAKuqqoQMkfz8fLZv305paSkajUYIeLKwsMDR0RGlUolSqcTR0RE7OzuhRauNjQ2WlpZCfrJcLkcmkwkpV+aKg2aRbWhooKmpiYaGBtRqNTU1NVRXV1NbWytUlTNbF52cnPD29iYwMJDu3bvj7++Pl5dXqxoNN9PMLgrxv4CEhAS2b9+OQqGgd+/eWFlZoVKpCAgIIDIyEoPBQExMDI6Ojrc0kV5ERETkQsGSSCS4uLjg4uJCTEyMMDPVarXCwzwzraiooKKiQhDMmpoaQUybm5vRarVC+UmtVovBYEAikbTwR1tZWWFlZYWtra3wMM/GXV1dcXZ2Fq6TlpaWgj/b3FTjViEK8b8A8wkFtKoUo1Qqb8GIRERERK4es0lbLpe3upaFhYXdolHdem5/77mIiIiIiMh/mBs2I66srGTWrFmtWka1a9eOiRMnXrbmp4iIiIjIf58LfbkXPpqbm6msrKS8vJyqqipqa2tpamqisbFR8Pfq9XqhF4JOp0Ov1wvmaLO/12xuvtC/7ODggJOTE87Ozri6uuLg4CCYo80m6ludB31FQmw0Gtm4cSNHjx4VKkHt3r2boKAggoOD2bp1Kx07duTTTz9ttTN6vZ4tW7Zw+vRpfHx86Nmzp9Aeq7S0lEOHDmFhYYGnpydt27YVQsGNRiO///47R44cabE9S0tLhgwZQnBwsLDMZDJRXV3NH3/8gVQqxcLCgsTERNzc3Kirq2P//v1IpVJsbGzo3LkzUqmU/Px8Tp48iUwmIygoiJCQEI4fP87p06fp27cvhYWFbN26FblcTpcuXYTWXHq9nrS0NOrr63F1dSUqKgqJREJtbS1paWkYDAbatWuHp6fnvzqHTkRERORauHAyZjKZqK2tJT8/n7Nnz1JQUMDZs2cpKSmhubkZo9GI0WhEJpOhUChaBGu5uLi08PWahVMikWBhYYFcLhdaH14YFd3c3CyId2NjIzU1NeTl5VFTU0NtbS3Nzc1IJBJBK1QqFd7e3vj7++Pr64u/vz8eHh6tukjd8mAtiUSCRqNhzpw5DB06lPT0dL744gueeeYZvv32W3799Vc++OADEhISWg02NzeXt956C4Bp06axe/duYmJikMlkPPzww4wYMYIOHTowduxY3nvvPVJSUoTP9PT0bNEb0mAwUFZW1qI/JUBVVRXTp0+nsLCQBQsWsGLFCj7++GMWLVrE22+/jUqlYvz48UyZMoVRo0YRHx/Pk08+yfTp07GysuLee+9l8eLFLF26lF9//RUvLy9WrFjBpk2bGDVqFCUlJdTU1JCUlMSPP/7I1q1bmTJlCm+99RYTJkygc+fOPPvss8TExBAYGMiTTz7Je++9h6+vryjGIiIi/3lMJpMQcFVaWkpWVhanTp2ioKCA2tpabG1t8fLyws/Pj8TERHx9fVEoFEL6knlWag6auhnpS+bUJbNYm4PESkpKyMvLIyMjgy1btlBZWYmFhQU+Pj4EBQXRtm1bvL29cXV1RalU3rr0JYlEgpOTE3K5HIVCQWxsLEuWLCElJUUwEYSEhFz04Pn5+bFgwQL8/Pxwc3MjLy+PpUuX4uTkxNatW3nzzTcJDg4mLy+Pb7/9lp49ewodhqKjo+nQoQMGg4HCwkJ++uknMjMz6dKlS4vPKC4uZvv27SQkJNC+fXu2b9/O3r17efPNN/nll1+YP38+wcHBqNVqvv76aw4dOkRaWhqxsbE0NTVx/PhxVqxYwdixY4mPj6dt27a4ubkxYcIEIiIiaG5u5tVXX8XPz4+PPvqIxMREQkND0ev1/O9//6OpqYklS5YwatQoQkND2bFjB6tXr2bKlCmiEIuIiPznMJuYm5qaOHbsGHv37uXEiRNUV1ejVCoJDAykXbt2DBw4kICAAKFz3K3CHF19saySiIgIoSWtyWRCrVZTWFhIXl4eOTk5rFq1irKyMgBCQkKIjY2lS5cuuLi4YGFhcesKegwaNAi5XM6ePXs4fvx4K7/whVhZWREXF0dTUxOnTp3igw8+QK/XC4UobGxsUKvVGI1GSktLW7xXo9Fw7Ngx1q5dS15eHikpKTzyyCOoVKoW63l4eJCSkkJxcTHr1q3j66+/RiqVcubMGZqbm7G2tqa5uRm9Xi+YquF8k2jzAS4tLaVDhw506NBBKOmm0+koLS1l7dq1rFu3joSEBPLz8+nfvz8ODg44ODiwa9cuvv/+ezQajRAebzKZ2LZtG4899ti/opqMiIiIyJVgMBg4c+YMhw8fZu/evZw5cwZHR0diY2OZNGkSoaGhWFtbY2Vl9a8scSmRSHBwcCAiIoLw8HBhJq3RaKioqODAgQPs37+f77//HicnJ6Kjo0lISBB6H/+jJS6/+uor1qxZw08//URpaamQXH0p3n77bbZs2UJhYSFlZWW89957HDx4EIAjR45QVlaGhYUFAwYMEHbEaDTy1VdfsXbtWu6//34ef/xx3N3dL7qjzs7OvPzyyzz//PNMnDiRuro6Ro8eTVhYGPv27ePUqVNYWFhQUVFB//79ycnJISMjg0OHDrFt2zYcHBzo169fi23v2LGD999/n3PnzpGVlUXPnj2FO0Bz5yOzbzg7OxuTySQsh/Oz9MvdoIiIiIjc7pgLbtTX15OamsqGDRs4c+YMoaGh9OjRg8ceewxfX9+rbnLwb8A80zXnJisUCoKCghgxYgTl5eVkZWWRlpbGwoULkclk9OjRg969e+Ph4XHVwV/XJMRhYWHU1tby22+/cfbsWe67777L5oA1NzdTWlpKaGgo06ZN44EHHkChUPD555/zxRdfkJKSwueff95KDCMjIzlw4AD79u3D1dWVnj17YmNj02r79fX1fPDBB6xZswaVSkWvXr2499578fDwYP78+axYsQK5XM5LL73E8OHDWbJkCdu3b2fRokXExcWxbNkywTdtRiKRUFBQgFKpZPz48TzxxBNkZmZiaWkpnJxwPq/Xw8MDiUTSQnhVKtV/7sQUERG5czCXzv3tt9/YsWMHDg4OpKSk8NJLL+Ho6PivnPHeCKRSKe7u7ri5uZGYmMhjjz3GqVOnWLt2LVOnTiU4OJiRI0cSGxt7xQWWrtk03bFjR3Q6HcnJybi5uV22sET//v0JCAigR48eKBQKDAYDKSkp3HvvveTm5jJmzBgCAwNbfKlSqZQePXoQExPD0aNH+fXXX1m5ciVDhw6lZ8+eLdKhCgsLWbNmDX5+fixatIgjR44wdepU3n//fR599FGWLFlCv379iI+PB2Do0KFs2LABnU7HxIkTLzrTbteuHaNGjWLIkCEoFApsbGwICQnB3d2d+vp6GhsbaWxsJCgoiHvuuYdNmzYJUXkmk4mEhATRLC0iIvKvw2Qyce7cOdasWcOmTZuIiYlh1qxZhIaGimmoF3DhjDk6Opr27dtz7tw5du3aJbSsfeihh2jbti1WVlaX3dYVKYXZMW+OVrawsCAgIIDQ0FDCwsJwcnK67J2Rp6cnq1evZvLkyYwZM4bPP/8cR0dHFixYQEJCAnPnziU7OxuDwdBiVimRSFAoFHTt2pV33nmHxx57jLS0NLKyslps39nZmfDwcNq0aUNcXBxGo5Ha2lqMRiPPPvssTzzxBG+//Ta7d+/GaDTi5+fH//73P1xcXHjnnXc4d+4cRqOxxTadnJyorKxk2rRpjBs3jkmTJuHs7Mzw4cMpLS2lrKyMhoYGHnroIYYNG0aXLl04c+aMYLYZPny4KMQiIiL/GsypQOvXr2fKlCkUFRXx7rvv8uKLL9KhQwdRhP8GmUyGr68vo0aN4tNPPyU+Pp45c+bwzjvvUFZWdllXpcT0/189ceIEs2fPZsWKFa1WMhqNfPnll6xevZp+/frxxBNPXNUA6+vrmTdvnuAX7tixI7NmzcLBwYHm5mays7M5fvw4Li4u9OrV65Kibnacm8ukXTi+goICVq1aha2tLbm5uXTs2JGhQ4cK3YoKCgo4evQoEomEfv36YW1tTWNjIydPniQjI4OgoCASExNbfN66detYtGgRADY2Nrzxxht4eHiwZs0ajEYjTk5O9O3bFysrK7Kzs9myZQuWlpZCtPel/ObLli0jIyODV1999aqOo4iIiMjNwGQyUVZWxsKFCyksLGTGjBm0a9dOaPMncvUYjUYqKir4+uuvOXjwIE8++SRdunS5qC5ckRCL3FhEIRYREbldMPuCX3nlFYKDg3nsscdwdnYWBfgGodVq+fPPP/nf//7HuHHjGDhwYCsxFps+iIiIiNzBlJaW8uKLL5KUlMTYsWMvGhArcu1YWlqSkpKCi4sLr7zyCgqFgp49e7aMibqF4xMRERERuYVotVo++eQTwsPDGTdunCjCNwmJREJUVBSzZs3io48+Ii8vr4XPWJwRi4iIiNyhnDlzhqNHj7Jo0aK/jey9HBqNhp07d7Jz504GDhxImzZt+OWXX6iuriYlJYWoqCjy8/NZu3YtnTt3pqCgQAic3bx5M+Hh4fTq1QsnJ6cW283Pzyc7O5vk5GSkUikmk4l9+/ZhNBrp0qVLi4BYrVbLli1bOHz4ME1NTQQFBdG3b19MJhMbNmygb9++yOVyli9fTnNzM1FRUaSkpAg1pU+cOEF+fr7Qk8BoNLJmzRry8vLw9fWle/fu+Pv7X7PJXiKREB8fT0JCAqtWreLpp58WXhNnxCIiIiJ3KNu3b6dLly54eHhc13bkcjlKpZKPP/4Ya2tr3n77bZYvX45SqWT79u2cPHmS77//nrVr11JaWsrTTz+NVqvFy8uLb775Bp1Oh729favtymQyfv75Z5qbm4Hz/uz8/HzOnDnTal0LCws6derEjh07eP311/H19UWlUrFr1y6ee+45Nm/ezKZNm/joo484e/Ys1tbWrF+/HrVaTWpqKs8//zweHh5s2LCBBQsWsHfvXt577z3UajWRkZE8//zzrF27tlWvg6tBJpPRr18/UlNTW/RREGfEt4jGxkbUajVWVlZCvVIRERGRf5L8/HxiYmKuO9VSKpWiVCqRy+U0NjZy+PBh5s2bR4cOHWhubqa8vJykpCQKCwsJDw/HaDQSFhaGt7c3lpaWODg4tMiEMePl5YW7uztHjx4VZsD33Xcf0LobklQqxcXFBRcXFwC8vb2xsrKiR48efPzxx3Tr1g0rKyvatWtHu3btkMlkfPrppxw5coTvvvuO8vJyQkJC8PT0ZOHChQwcOJCvvvqKsLAwbGxskEgkvP7668TExODj43NNx0kikeDn54dOp6Oqqkq4ARKF+BaxZs0acnNz8fPzo3PnzkRERBASEiL6aERERP4xrK2taWpquqHblMvlODk5sX//ftLT0wFISkoiPDycRx55hPT09BazwcshlUrp06cPW7ZsIT4+/qobR0gkEjw8PBg5cqTwv1KppKqqioMHD7Jo0SKee+45Dhw4gKOjIwqFAhcXF6qqqsjMzGTkyJGYTCahm1R2djZVVVXXLMSAMLu/0BUgCvEtYtCgQTz88MNkZ2ezf/9+Vq5ciVQqJTw8nKSkJCIiIlAoFNjZ2YmFQURERG4KUVFRbN++nREjRlyXj/hCVCoVKSkpmEwmGhoa+PTTT2nTpg0nT54kPz+f+++/H1dXV2xtbamrq8NgMFBfX099fT329vatZrrh4eGsWLGCqqoqnJ2d+fnnn9Hr9YwePfqKr43mbRYWFvLkk0+Sn59PQUEBvr6++Pr6UllZiVKpFPoU63Q6KioqMBgM7Nq1i5dffpmTJ0/SpUsXnJ2dr/nYmEwmjh07hrOzM46OjsLyFkJcVVXFqlWrrvlDRK6MAwcOoFAoiIyMJCIigoEDB6LT6cjMzBREubi4GDs7Ozp27EjHjh2JiYlpUUb0Sk3Z5sg80fQtIiLyV7p168bixYs5fPjwRfvJXwsWFhY8/PDD7N69m7y8PN5//31iYmIIDw8X/MULFiwgICCAQ4cOodVqOXnyJGFhYXTs2LFV3X5HR0ecnZ05c+YMLi4u+Pv7t6qEeKVIpVLq6uqws7Nj8ODBTJo0CU9PTxwcHIQeAiaTCQsLC0GYFQoFSqUSPz8/PvjgA7y8vK752DQ2NrJs2TIGDRrU4lgLQqxSqejatatQ/Urk5iGTyYS61xfWK23fvj3t2rXjwQcfpLq6mnPnzrFv3z5++OEHPvroI7y9venYsSNxcXF4eHgI/TAvR1VVFUajERcXF1GMRUREWqBUKpkwYQIffvgh77zzDj4+Ptd8nbhQPC0tLUlOThb6/MJ5Qb3nnntavCcpKYnIyEji4uIICgqitrYWpVJJXV0dJ06cICAgALlcTkhICLt376ZTp06t+tFfiNFoRKPRXPJ1Z2dnhg4dSqdOnXBzc8PW1hYLCwuio6PJy8ujoaGB6upqHB0diYyMpLa2lujoaMaOHcukSZNITU2lQ4cO13R8mpub+eKLL3BycuKuu+5q8ZpwFff09GTOnDnX9AEiNw6JRIK1tTWenp54enoSGxuLwWCgqKiIY8eOceTIEebNm0dDQwMhISEkJSWRkJAgNN6+sCOKyWTiu+++Y8uWLbz88svExcXdsR1TREREoKamhqqqKtzd3ZHL5UilUvr27Ut+fj7PPvssb7311jWl6DQ1NbF3796/nRj8FalUyrRp08jKyuKdd94hOTmZPn36YGdnx7Zt29i+fTuWlpY0NDRgY2PDpEmTLhlHYzAY2LNnD1lZWZf0JZvbGT7//PMYDAZkMhlvv/02DzzwAO+++y7nzp3j7Nmz3HvvvYSEhPDLL7+g1+tZs2YNarWaqqqqq9o/+L/SzJ9//jkHDhzgvffeQ6FQtFhHKHEpcvtjMpkwGo00NzdTXV3NoUOH2LdvH1lZWTg4ONCmTRtiYmIICQnB19dX8KOsWbMGd3d3nnrqKcaNGydEFRoMBsrLy684cELk+rC1tb2t2mMajUYqKyuF4BGRm4ulpSXu7u63dAzp6emMGjWK+vp6wsPDadu2LREREbi6urJr1y4yMjKYNm0aKSkpF41ivhRGo5GSkhIOHDhASkoKDg4OV/xeg8GARqNBp9NhY2Mj1Lc2d7gzI5PJhPaLF8PctKKgoICffvqJCRMm4Onp2Wq9rKwsXn/9dRoaGgB45JFH6NOnDzt27ODs2bPY2tpy1113oVKpqK6uZtWqVezZs4fAwEAef/xx4fp5JZhMJs6cOcMnn3xCU1MTzz777EWtDqIQ38bodDpqampwcHC4ZONto9FIdXU1eXl5HD16lLS0NIqLi3FxccHPz48lS5YI3aqsra3p27cvL7/8Mh06dKC+vp6pU6dSWVkpBoTdZLRaLXFxcbzxxhu3zbGuq6vjpZdeIisr67YZ038Vg8GAp6cnixcvvqXjqKiooGvXrmRkZLRYbmtri5ubG1VVVdjZ2TFw4ECefPJJwsLCrjpSWeS8AKvVanbs2MF3331HfHw8Dz/88CUDvcSo6duYU6dOMXbsWIYOHcrLL798USGWSqU4OzujUqmIjY3loYceorm5mWPHjrF48WJycnKEdZubm1mzZg1paWnMmjWLfv36odVqWbRoEd7e3v/krt1x7Ny587YLhNTr9eTn5/PFF1/g5uZ2q4fzn+b06dO3vMlLU1MTVVVVFzXtNjY2kp+fj0qlon///jg5OfH888/Tq1cvhg0bJl4froLm5ma2b9/Ojz/+iEQi4ZlnniEuLu6yljBRiG9jQkJCWLZsGbt37+bgwYN06tTpkl+mebmFhQX29vYkJCTw+++/t4ouNHdamTVrFmvWrEEikSCTybC0tLzp+3Mnc7sWbTG3FBW//5vL1Zh5rxWzaVatVlNfX091dTVZWVlkZ2eTn59PeXm5cA7+NTJZpVLRrVs3nn76aWJjY5HL5eTk5PDjjz8yffp0YmJiuOeee/D398fOzu62PJdvJTqdjrKyMvbs2cO6deuQyWTcf//9dOnSBQcHh789XqIQ38bY2toSERGBXC7np59+okOHDlhaWqLRaFi3bh3Hjx+nU6dO9O7dm1OnTrF582bCwsLQaDT07t2bbdu2CcETF6YxyeVyHBwcyMvLQ6/XU15ejp+f363cVRERkSvgwhQbo9FITU0NeXl55OTkkJ2dTUFBATU1NVhYWGBtbY2vry8BAQEkJCTg6+uLn58fX3/9NVOnTgXO3yAkJSXxxBNPMGDAgBYusLCwMGbPnk1ubi6//fab0DkoJSWFu+66Czc3N8FsfacJs/k70Gg07Nu3j02bNnHy5EmCg4MZN24cSUlJV9XLWRTifwFZWVmsXr2acePG4enpyY8//sinn37K+PHjKS4uZvPmzQAEBATQsWNHRo8ejVqtZvDgwQwfPhyVStXiYW9vj0wmo6amhueeew6VSnWL91BERORiGI1G6urqqKyspKKigpKSEnJycjh79izl5eXU19ejVCrx9fUlODiY5ORkgoKCsLa2xsrKCisrK2QyWYtMioiICCwsLIiJiWHixIkMHTr0okFQ5vcEBwczZcoUxowZQ0ZGBhs2bODXX39FqVSSkJBATEwMgYGBODk5/adjDUwmE01NTRQVFZGVlcWBAwc4deoUtra2dO/enSlTpuDq6oqlpeVV35iIQnyb09TUxI8//sg999zD0aNHcXFxYdeuXUyePJkxY8ZgMBgoKSnB2tqagoICZs+eTXV1NSEhITz00EOX3bZUKsXS0vKqUw5ERERuDOaZlU6nQ6fTodVqKSkpITMzk+zsbHJzcykvLwfAyckJV1dXQkJCaN++PW5ubri7uwupi1d68Q8LC2PBggUMHjwYX1/fK3qfTCbDycmJzp07Ex8fT0lJCadOnWL//v0sXLiQpqYmAgMDhToH7u7uWFpaYmlpeVVju10wGo3o9Xq0Wi0NDQ1CIOzx48dpbm4WShMPHz6c0NDQ665KJl6Bb2NMJhNbtmyhoaGBadOmsWTJEhobG3FxceHUqVN8/vnnALRr1w5bW1smTJhA+/btWbRokVAwRERE5PbBLLrl5eUUFhZSVFREfn4+eXl5VFRU0NDQgK2tLT4+PgQFBTFkyBAiIyNxdnYW6gRcjzlYIpHg5eXF5MmThWJCV4tUKsXLywtPT0969uyJXq+noqKC9PR09u3bx9q1a2lubsbBwYGAgAAiIiLw9vbGw8MDLy+vi5axvNVotVrKysooLi4WcomzsrKorKykqakJDw8P2rZty/Tp0wkPD8fGxuaGxn2IQnwbU11dzddff03v3r2xt7fHy8uLgwcP0qdPH9LT03FycuLLL7/EwsICf39/AJ5//nm2b99OXFzcPxIgIiIicmUUFRUxY8YMiouL0ev1ODs74+Xlhb+/PyNGjMDJyQmlUomjo2MLsdJqtRQVFSGTyXBzc+PcuXPo9Xq8vLwEP7E54E6hUPytOFyrAF9sOzKZDJlMhre3N97e3tx9993U1dVRVVVFRUUFOTk5nD59mp07d1JeXo7JZEKpVOLu7o67uzseHh74+vri7OyMlZUVcrlceJi3bb4BMT+AFiZwc0Cq2W9uNBoxGAzCQ6/XCxYHnU5HfX09hYWFFBcXU1JSQmlpKeXl5Wi1WhwcHPDy8sLPz4+hQ4fi7u4uuPRu5vVUFOLbmKqqKhISEoiMjMRkMuHq6oparSY5ORlnZ2dOnz7N1KlT6dWrFwBz587lzJkzKBQKUYRFRG4zbG1t6du3L0FBQfj6+rZKI7qUOKrVaiZOnIibmxvz5s3j5ZdfJicnh8WLF/PZZ5/h5eVFVFQUhw4d4v+1d97xTZbr/39nNF3pSPdICx20QIG20ILMskE2CFJQURG3KEPliAMVRUVRUFRQ1KOCchgHFBwHQYbILrNQKKN777RpmmY8vz/85flSGTIF9X6/Xn21TZ5x507yfJ7ruq8xbNgwYmNjb5jFqVAo8PLywsvLi+bNm5OUlCQ/Z7PZKCoqkkWwtLSU48ePs2XLFgwGA3a7XXbVO1CpVLi6uuLq6opGo5Gvaw6hliSJxsZGWYTNZjNms5n6+noaGxubjMsxJy4uLgQGBhIQEEB0dDRdunQhNDQUvV5/Tk/kP2sehRDfxERHRzNjxgz5/65du8p/x8fHn1PzdPDgwX/a2AQCweWh0+m49dZbL3s/Hx8fQkNDCQgIICQkhOjoaGpra9m+fTsHDhxg6tSphISEUFRUxJtvvsmHH354U6Sj/V7E1Gq13O3Igd1up7GxUbZarVar/GOz2WhsbKS2thaj0UhDQwMWi0WOVrbZbHKdfsc6tEO0PTw8ZPexSqVCrVbj5OSEWq1GrVbfdGvXQogFAoHgJudswXD8ferUKSIiIvD39wfA1dWV9PR0rFbrTSHEl4JSqcTFxeVGD+OGI4RYIPibYrVa5XU8wV8Xq9VKfX09ZWVllJaWUlBQgFarpUuXLvznP/+Ruw1t3ryZzp07/6WXpRzWrtFolN3MDQ0NsgXsqItvtVrltWFHvq5SqZSt3bPTt1xdXW/6vu5CiAVXxdtvv83Ro0ebPObi4sL06dOJjIy8QaMSAKSlpfHpp5/Sv39/uUPXhWqWXwmSJPHSSy+Rl5fX5HFvb2+mTZsmyiJeI6qrq4mMjEStVrNixQpycnKYOnUq3bt3x2g08u2332IwGNDr9UyYMOGmS0c8e/3WIaomk4ni4mLy8/MpLi6msrKSqqoqqqurqa+vl4VWkqQm+dCOSGVHEJcjCh1oEpjlEO6zxdnLywtvb290Op3s5tfr9Xh6euLs7CyL9+UU4rhW3FzvmOCm4vTp06xduxar1Ur37t3Jz8/HYDCQkpLCwYMHUSgU3HfffecEOMD/RTXa7XY+/PBD1Go148ePZ82aNRQUFMjbqdVqxowZI7deO3PmDGvWrGkSaAHQtm1bhgwZIv9vt9vZvXs3aWlp1NbWEhgYSM+ePQkLC2Pv3r2cOnUKrVZLs2bNaNeuHceOHWPr1q24ubnRrVs3YmNjAfjpp58ASElJYdeuXezfvx9/f3969uwpC0ldXR379u3DYrEQExMjR6jn5+eTkZGBWq0mKSnpkkrZ/ZlUV1ezatUqlixZQvPmzRkwYAC9e/emR48esjvzYqSnp/Pdd9+hUqno2bMnGRkZ2Gw2evTowc6dO/Hw8OCpp546r2vR8f6bzWYWLlyIn58fo0ePZunSpU1ayWk0Gu666y651vXRo0dZv359k9KsCoWCTp06NeltK0kSx48fZ/PmzQC0bt2aLl264OTkhM1mY/fu3dTX12O32+nSpQtarZbq6mr27NmDSqVCq9XSsWNHysrK+Omnn+jZsycuLi5888031NfX06pVK1JSUmRRO3nyJNnZ2bi6utKhQwdcXV1pbGwkLS0No9Eop7dcD6vL19eXV199Vf7/4Ycfls8zZsyYJsFN1yoi+ko4exySJFFcXMypU6c4ffo02dnZ5OXlYTQasdvtKBSKJtHTsbGx+Pj4oNPp5OhxNze3c24cL/baft+/yOFJcJT7dPxUVlZSWFjIwYMHKSsrw2w2o1QqcXJyIjAwkObNmxMREUGLFi1o3rz5OTnC12N+hRALLoifnx9LliyhsLCQd999l2eeeYZWrVrJ/yclJdG7d+9zehxLkoTNZpN/v/HGG7i4uJCamoqTkxPz58+XUxJMJpOcwgGg1Wpp1aoVVqtVPlZNTQ02m63J2BQKBdHR0Xz22WcsWbKE9957j4CAAFatWsX06dN5/fXXCQ4OZty4cUyfPp20tDR27tzJhAkTyM7Oprq6mrZt2/LSSy9ht9v55JNPeOuttygpKeGhhx5i//791NXVERERwYsvvkhAQACdO3dm+vTpvPbaa6jVap566ikeffRR0tPTWbNmDW+88QZubm4XnM/GxkYqKyv/tAtlXV2dbI2cOXOGDz/8kGXLlhEcHEy/fv3o3bs3RqPxnAuYAx8fHxYsWIBarcbb25sZM2bQo0cPjh8/zqJFixg0aNAfvv/19fW89NJLtGrVirFjx2K1Wpk3b54s3vX19cTHx9OnTx854taRJeA4VlVVlfx5cGCz2Zg3bx6HDh3ixRdf5NSpUyxbtozZs2ezdu1avvvuO2bPns3HH3/MqlWreOWVV5g6dSqRkZGMHz+eBx98kEmTJqHVapkyZQpz5szBw8ODOXPm0LNnT1q3bs0PP/xA7969OXXqFC+99BIzZszgm2++Ydu2bfzrX//i888/Jy0tjUmTJvHyyy8zefJkunfvfs3f3z8S1xt982exWCgvL6e0tJSMjAwOHTpETk4OJpMJPz8/IiMjad26NUOHDsXX11cOqHJ2dkaj0Vw3l7FKpcLZ2RmdTndOCV9JkrBarbKVbjKZqK2tJTc3l1OnTrFlyxa++OIL7HY7QUFBtGzZksTEREJDQ/H397/m9baFEAsuiLu7O1qtFqVSSbt27QgODiY6OpqUlBTefvttOb/u9zQ0NDB//nxOnjyJJElUVlaiUqlYvnw599xzDzU1NbJlXVpaisFgQJIkFAoFAQEBDBo0CLvdTl1dHRs3bmTz5s1NIsbht4uPv78/wcHBKJVKwsPD0Wq1fP/995SWltK1a1e0Wi0VFRV8+eWXfPTRR0yfPp2YmBjq6up46aWX6NChA8899xwAERERvPzyy/j5+aHX6ykvL+ftt9/m9ttv55NPPuHjjz+mVatWHDx4kGXLluHi4sKuXbt4//33MZlMzJw5kzvvvJNOnTpdcD7T09OZOHHin3bhNBgM8vrh2Y8ZDAZOnDjBkiVLcHZ25sCBAwwYMOCcC6Ij8lSSJNq3b4+Pjw9xcXEkJSWxcOFCgoKCzusNqamp4Z133iEvLw+LxUJDQwNZWVmsX7+ee+65h4aGBpydnUlOTqagoICamhp5X71ej16vl0s7rlu3ji1btpyTEaBSqZg2bRpOTk5ER0eTkZHBlClT0Ol0/Pzzz0RHRxMbG4u3tzeffvopQUFBrF27liVLlhAdHU11dbWc/vPWW2/Ru3dv3NzciIiIICEhAY1Gw2effUZaWhqrV68mNzeX2NhYQkNDee211+jZsycLFy5kyJAhxMTEYDQa+eCDD0hMTLysXrx/NRzpRVarlYqKCnbt2sUvv/zCmTNncHFxISoqivbt2zNmzBgiIiLw9va+4TcK58NRc9/JyanJZ7h169bA/61V5+XlkZ2dzfHjx1m+fDklJSW4urrStm1bevbsSVxcHM7OzufcjF4uQogFl0Tz5s15++232bp1K+vXr5fXZc6H3W4nIyODyspKnJ2dZVdUQ0MDGo2Ge++9l9dff50jR45w9913y8/Db1+A3NxcNm3axJYtW2jevDlPPfUUUVFR5z3X7z/8t956Kxs3bmTPnj38+uuv1NTU4OPjQ6tWrbBYLBQUFLBq1So2btzIrFmzGDhwoHychIQEzGYzp0+fZsmSJaSnp+Pn54fRaMTf3x8fHx9UKhWbNm2SA2J8fHwIDAzEZDKxdevWiwpxmzZtmDNnzp92YdqyZQuHDh1q0lwdfhtzfHw8SUlJbN++nbi4uD8cU8uWLVm4cCG7du3ip59+OsdDcTYWi0WO3nV0+XE0f3dzc+PBBx/kxRdfJDAwkFGjRjWxdh3W+4YNG9ixYwdxcXE8++yzssfEgUKhkC+aVquVbdu2UV9fz5o1a6itraVVq1Zyc3mTycT27duxWCy4uLjIa5BlZWX4+/vLpWAVCgU+Pj5UV1eza9cuFi5cyJQpU9ixYwdOTk54eXnh7+9PVVUVS5YsoaCgAB8fHzw8PHB3d+fgwYOUlJT8LYXYka976tQpdu7cyc6dO6muriY2NpY+ffowY8YM3N3dcXFxuanSgq4UhUKBi4sLLVq0IDo6mj59+mCxWDCZTGRlZbFt2zYWLFhAY2Mjbdq0oXv37iQkJFzxjYcQYsElcfDgQV588UUmTZqEXq9n0aJF5+1rCr+lUdx3331oNBqSk5PlIvSTJk1CoVCg0WgYPXo0DzzwAP7+/gwdOlT+8B49epQZM2bQrl07ZsyYQUxMzGVFgQ4fPpzS0lJeeOEFcnNziYmJYfr06fz444988MEHFBUVcfLkSYYPH46bm1uTL43DjVlUVEROTg4zZsygsrJSvlFwbFtUVNSkzKBSqUSSJIqKii46No1Gg6+v758WvelYs1YoFHh6eqLX6xk9ejQpKSm0a9cOgMzMzEsK4Nq+fTsvv/wyM2fOxGg08u9///uCaSc6nY5JkyYREhJCREQEYWFhtGjRgtTUVBQKBe7u7owcOZKnn34af39/evToIZ9/9+7dvPDCC6SkpPDCCy8QFRV10ahvg8HAu+++y4cffoiLiwtdunRh48aNFBcXs3v3bnbs2EGrVq1ITExk+/btHDt2jPr6egwGA2PHjm3yGSgpKeHJJ58kKyuLM2fO4OvrS1hYGOXl5bLnRalUYrVaycjIoKGhQX5MoVDIgUZ/J+x2OzU1Nezbt4/Vq1dTXl5OQkICd999N7Gxsfj7+9/U0cjXAsd3yBE0lpiYSEJCAvX19WRnZ7Nnzx6WLl3KBx98QO/evRk0aBDBwcGi+5Lg2hMQEICfn59spbZo0YJx48add1ulUkm3bt1Yt24dOTk55zyvUCiIiooiPDycl156ibZt28oR1n5+fiQkJHDmzBl++eUXvL29CQkJueQP9JYtW5g7dy5VVVUkJCQwYMAAWrVqxf79+8nNzcXf359HH32URx999JwLiM1mo6CggPDwcO666y4efvhhFi1adM65fXx8UCqVGI1G4P+CRK5lF6uKigq++eYbvL296dKlC5s3b8ZqtTJo0CBqa2s5duwYHh4eBAQEEBMTc9750Wg0tG/fXg5069ixoyw8CoWiSdDUH6HX63F3d2fjxo2o1WoSEhIYPnz4ebdVq9X07duXtWvXnlesFQoF8fHxuLi4MGvWLFasWEFgYCAAwcHBtGnThhMnTvDrr7/KjQ4uhFKpxMPDA0mSuP/++5kyZQp5eXns37+ftWvXMnLkSEaNGkV1dTWffPIJy5cvZ8yYMcyePZtRo0adE4hTUlKC3W6nd+/ePPTQQ0RHR8sWrsMtq1Kp0Ov1HD9+vEklKHd396su/n89sFgs2O32yx5bVVUVa9eu5fvvv8fDw4MxY8bQrVs3eX30r271Xg2OG8rWrVvTunVr7rzzTk6dOsWqVauYOnUqsbGxjBkzhsTExEuaJyHEgkuiefPmLF68mMrKSiRJ4p577iEkJOSC26tUKrp3786WLVtoaGiQL8ibNm2ibdu21NfXU1JSQn5+PqWlpbIQBwYGMmvWLHJycli/fj0zZsygY8eOjBgx4rwBF47ydg5WrVpFcXExzz77LOPGjWPAgAHk5eXx+uuvc+eddzJ8+HC8vLzOa8337t1bFjtHzd7k5GQ0Gg3V1dXU1tZit9vp1KkTzs7OfP3113JEpsP6v1a4ubnxn//8h8TERAYMGMDmzZuprKykTZs2PPPMM0yfPp1mzZrxySef0KNHD3r37n3OF75jx458+eWX+Pr6XnVuaWxsLF988YU8B1OnTiUoKOiC26vVarp06cK2bduaLGNs2LCB9u3bU15eTlVVFaWlpdTU1MhC3KxZM1577TVOnz7NunXrmDZtGt27d2fYsGFNzidJEkajEScnJx566CHWrFnDrl270Gq1PPHEEzz88MM0b96cxx57DJVKhdlsZuLEiaxdu5Zhw4aRkJBwznx5e3szatQoEhMT5eYESqWS+Ph4jh8/jtFopLq6Gq1Wy9ixYzl48CC1tbWy+zs2NhY/P78LzkleXh7/+te/5KjggIAAAgIC8PLykgOXHFaX4/9rkYp06tQpZs6cyejRo+ndu3eTPsLno66ujh9//JGVK1fSvHlznnnmGWJiYq55gNLfAcd8ODk50bJlS5555hmKi4vZsGEDc+bMIT4+nnHjxhEZGXlRz4EQYsEFOTtHD36zVi92ofk9vr6+xMXF4enpKT+m0+mYNm0ahYWFbN++nfbt2zcRdIfrukWLFkyZMoXCwkK+/fZbNmzYwKRJk5qMLT09nb179zY5Z3JyMitWrGDw4MG4u7vLbkh/f39ycnJ4/PHHAQgKCuLDDz9sIshBQUFs376d7777DoCkpCSeeuopevXqJadfBAYGctddd6FUKtm6dSu5ublkZWXRp0+fcwLKrgZHmT6tVou7uzs6nQ6z2cyaNWvw9PTklltuQavVEhUVxeLFi5uk2jhwd3fH3d39isfgaAXnWPMLCgq6qPiejUKhIDQ0lOjo6CaNCDQaDU888QTZ2dkcOXKEXr16odPpmuzn4uJCXFwcrVu3Jisri3Xr1rF161bGjh3b5BynT59m9+7dWCwWMjMzUalU2Gw2Bg8ezIIFC/j3v/+Nr68vo0aNwtXVleeffx4fHx9eeeUVnn76aZKSkpoE2TgibB2R9CqVihdffJHx48fz6quvUlRURG5uLsOHD2fEiBHs2bOHgoICSkpKsFgsTJw48aJeEU9PTzp37kxVVRU1NTUcPHiQqqoqamtr5e+a47ebmxve3t7yj5+fHzqdDj8/P3x8fAgICGgijGdbqL//XVxczKZNm1i/fj1JSUncdtttpKamyp6ms+MzTp48ybvvvovZbObRRx+la9euVx2I9E9BoVCgVqvR6/Xce++9DBo0iKVLlzJ16lTuuecehg4dekF3tRBiwQXJyMggNjaWmJiYK67OFBMTw9tvvy3no8bHx/PQQw/x5Zdf0qJFCx566CH0ev1593VczB988MFz8orht1rcixYtYsWKFbKY33333QQGBrJjxw5sNhtPPPEEEyZMQKFQ0L17d86cOQP8lt9aXFxMRESEfDxXV1c6duzIpk2bgN/ycBsbG3n//ff53//+x969e3nzzTflQvbvvfceu3fvxtnZmffff/+8EcRXw9mW/tkBb6Ghobi5ucmpXdXV1RdMQboajh49Svv27ZsI5eWSmJjIm2++yaFDh1AoFHTt2pXGxka+/vprkpKSePjhh/H19T3vvgqFgsjISB577LFzggMVCgVxcXE0NDSwdOlS+vTpw2233Yavry9qtZpRo0aRkpLCvn37+Oabb+jevTt6vZ4ZM2aQnZ3NoUOHKC4uZuDAgU1ctu3bt2fNmjVyJH9eXh5Dhw5FpVKxdetWYmNjeeyxx1Cr1TzzzDN8++23/PLLLzz22GP069fvooLl5eUlu/MdaWVn11V2/G2xWOTuRaWlpVRVVZGbm8uhQ4coKyuTq07Bb3EAjuh2Ly8vfH19CQ4ORqfTodVqcXNzIyMjQz6XI1f+/fff56677mLYsGG0a9cOpVLJzz//zIcffsiIESMYNWrUTdmu8K+C48Z1ypQp9OvXj3feeYcjR47w+OOPo9PpzplXhXQ9vsGCvwRlZWU89thjvPXWW00KsQuuPVu2bGHlypW89957lxTcYjKZGDFiBEFBQUyfPp3nn3+euLg4hgwZwqeffsorr7wCwKOPPsrAgQO57777LjtoprKykokTJ7J48WLZNSy4PmRkZPDss8/y3//+95L3aWho4Msvv8RoNHLvvffi6ekp52bX1tZSV1fX5HdtbS1lZWWUlZVhMBgwmUzU19eTn5/P9u3bz8nFVigUhIWFMWjQIGJiYti0aRPPPPMMnTt3/tsHYP3ZlJeXM3fuXBobG3nllVfOuWkXFrFAcBNiMpmYMGEC3t7eHDp0iPbt2zNx4kRCQkJwd3dnz549VFdX88gjj1yXIhKCmwN3d3eOHDnC1q1bGTp0KEqlEq1We86F/OwCKA5r2/H3iy++yLZt2845tiRJlJWVsWbNGoKCgliwYIEQ4euEr68vzz//PG+88QbvvPMOTz75ZJNlMSHEAsFNiI+PD3fcccd5nztfC0zB3w8XFxfGjx/PsGHDmDdvHj179pStYqPRSFlZGUqlkqCgIDQaDTk5Obi4uGC32/H29pYv9I5ev44KaV5eXsTGxtK3b19atmzJ/Pnzefzxx5ukkV0udrudiooKKisrCQgIQKvVUlxcjMViwdfXF09PT0wmEyUlJeh0OkwmE5Ik4erqSnl5Oe7u7vj7+8tBhTabjZKSEmpra+VzODs7ExYWJi8b/N7Fa7fbKS8vx2AwYLPZcHNzkyPuS0tL8ff3byJ+hYWFGI1G9Ho9JpOJysrKJnMkSRIlJSXU1dXh5uaGn58fGo3miuZIoVDg4eHB5MmTmTJlCnv27Gky3+LWRyAQCG5inJ2dKSkpYfPmzXIw13PPPccdd9zBa6+9xtdff01jYyOPPvooe/fuZfHixbz55pvAb6lLjpu6OXPmsGLFCnbv3s369euZMmUKLi4uhIWF0bNnz6vyqlgsFn7++Wfat28v5xyPGjWK5557jvfee4/S0lKWLl3K6NGjWbVqFcOHD2fx4sXs37+flJQUPv/8czkdEH4r0rJ27VomTJjAU089xVNPPcXTTz/NqVOn5LK2Z9cjd+xz8OBBRo8eTatWrVi2bBmVlZVs2LCBnj178u2338peAkmSmDZtGh07dmTHjh089NBDDBgwgC+//JL58+fz888/k52dzejRo+nevTsfffQRGzduPKdS3eUSEBDA7bffzsqVK5s8LixigUAguEmRJIm0tDROnDhBYmIiJpOJo0ePcuDAARYuXEhUVBQ5OTnk5+czefJkIiIi+Prrr6mpqUGSJJycnHjqqadQqVS4urqe43bevXs3nTt3vmiN9EvBUehCq9XKNcqnTp3K4MGDqaqqIi8vD0mSiIuLo1evXsyaNYv+/fuTlJSEp6cnbdq0wdvbu8nxJk6cSPPmzdHpdLRu3Zr6+noUCgUTJ05EkqRzXotGo6Ffv360bNmSQ4cOMXToUIKDgwkODiYpKYnw8HDS09PJzs4GoKCggMbGRtLT0+nZsyePPPIIXbp04euvv+axxx5j8eLFjB07lsTERBITE8nOzmblypXceeedV3zTolAoSEpKklMBHRklQogFAoHgJsVqtbJy5UqGDRuGl5cXJSUlGAwGWrVqRVRUFEqlksjISFxdXTl8+DATJkyQc/HPrqp2IWpqaoiNjb0mMQaOYzQ2NuLs7Ez37t1RKpX4+voSEhJCVFQUOp2O3bt3Y7PZcHJyumg5TBcXF3r27MnatWtxdXUlPj5eLpl69vl+PwZHhocj7So5OZmvvvpKrk/+0UcfoVQqaWhowGq18umnn7J//345/a26upqsrCzS0tKYMmWKXK9gx44dHD58mHHjxl1Vfrfj/TAajUKIBQKB4GYnMzOTw4cP88gjj2A2m9m/fz+dO3cmOzubp59+muLiYkpLS1m9ejWvv/46ffr0Ydy4cZecShcUFCRbq9cq4M/Hxwe9Xs9zzz2Hk5MTmzZtYvHixdTW1tLQ0ECfPn0uuViJm5sb/fv3Z+7cubi7uxMdHU16ejp2u5127dpdegnJ/3+uMWPGkJKSQkpKCpMmTWLTpk188MEHKJVKampq2LBhA/Pnz5c7gW3atIn09HR27drFxo0befLJJ684ldNBSUkJSqWyiQdACPE/HLvdjslkarI+I7j2NDQ0XJdc36vFkQ4j3v/riyM46XIwGAx8+eWXeHp64ubmhkajYcuWLdxyyy3Mnj1bbjl4++23ExgYyL333ktJSQmrVq1iwIABNG/e/A/P0aNHD+bOncv48ePx9fW9JmLs6urK9OnT2bVrF6dOnUKv15OUlERubi6rV6/GZDKRmppKUFAQP/30EwaDgc2bN+Pt7S0XELHb7dhsNtRqNT4+Pvj7+7N48WLmzp3L3r17sVqttG3b9rLH2759e9avX4/RaEStVqNQKOQArpKSEj799FOKioqYMGECw4cP58knn2TVqlW4ubnRp08f7r777quaI7vdztatW2ndunWT8q9CiP/hFBcXM2PGjKteIxKcH8fFt7S0lODgYPmxmyXdyGaz8eSTT16wgYPg2lBTU0NdXd1l7ePoj3z2euj8+fNRKpWEhITQoUMH7rjjDvm5Bx988KJu2/PRqlUr/Pz8WLFiBQ8//PBlje9ihIWFNSnUo1Ao0Ol0crMRx2P+/v7o9Xp69uxJ165d5XGbTCZ27txJ9+7dUalUGI1GDh48iEKh4J577rngazy79vf5cHZ2pn///vzvf/875/1o0aIFS5YsoWvXroSFhaHT6eRyqH379iUqKuqqaok7Kpd9++23vPbaa02eE0L8D0an0/H555/T0NBwo4fyt8VRt/fMmTNUV1ezcuVKOnTogF6vv6SuR9cTLy8vPvjgg8sWCMGVcaFuZRfifI0VznaLXmiN9HJwdnZm2rRpPPvsswQHBzNkyJArqktutVqbdB+7UFOI872eESNGUFFRwYoVKwgODqZHjx5yH+wFCxZQUlLCDz/8wOOPP37RZhOSJFFQUEBubu4Fx+lII2rbti0VFRXy2B0NZqqqquRmFzNnzqRVq1bs2LGDH3/8EYVCQYcOHa4ozUuSJLKzs3n99dcZP348LVu2bHIMIcT/YNRqtdxsQXD9SE5O5vHHH2fv3r1s2bKFVatW4efnR9++fenZsydeXl43pIerSqU6p5GG4J+FQqEgIiKC6dOnM3v2bOrq6hg7duxltfCD3zwr9fX1DB8+/LK8K0qlkscee4yMjIwmJWeVSiV9+vTBy8uLjIwMBg8eTJcuXS56LEfJ15EjR9LQ0HDBNWiFQkFMTAxTp05lxowZaDQawsLC+Oyzz1i1ahU+Pj5yWVxvb2/S0tLYuXMnACNHjqRDhw6XvAbvsNBPnTrFiy++SMeOHRkzZsw5YxMlLgWCPwlJkrBarRgMBg4ePMi6devIzc0lMjKS3r17k5iYSGBgoKhsJPjTsdvtZGdn8+qrr+Lt7c2jjz5KRETEZYmx3W6nsbERjUZzQz/DNpsNo9GIu7v7RQOrHN9FT09PuUOXyWQCQKvVolarkSSJ2tpauda5k5MTHh4el/z66urqWLt2LStXruSuu+5i+PDh8tr02QghFghuEBaLhby8PPbu3cvWrVspKioiMTGRgQMHEhsbK7fhu1nWkwV/byRJorKyklWrVrFhwwaGDBnCiBEj8PLyEjeHl4EkSZjNZo4dO8aSJUuwWCw8+uijtG3b9oI3BkKIBYIbiOPrZ7PZKCgo4H//+x/btm2jsbGR5ORkevXqRbt27dBoNDd4pIJ/Cna7nePHj/Pvf/+brKwsBg4cyK233kpwcLC4KfwDzGYz+/btY/ny5RQVFXHnnXfSv39/XF1dLzp3QogFgpsISZIwGAzk5uayfft2tm3bhlqtpnv37qSkpBAaGioatAv+FBoaGjh27BirVq0iIyODzp07069fPyIiIvD09BRWMv9n/RYVFbFv3z65l/mwYcPo1q0b/v7+l/RdFUIsENyEOL6WZrOZtLQ0Nm/eTFpaGjqdjpSUFAYMGIC/v79wXQuuK45go6ysLNavX8/u3buRJIkuXbrQs2dPYmJi5MCuf8rnUJIkbDYbFRUV7Ny5k40bN1JYWEhUVBSDBw/mlltuueyMCCHEAsFfAEdgSUZGBuvWrSMzMxO9Xk///v1p27YtYWFhwkIRXDccrRWNRiNZWVn89NNP7N+/H4VCQcuWLUlOTkav1xMWFoanp+ffSpQdQZZlZWXk5eVx5MgR9uzZQ2lpKREREfTv35/27duj0+kuO9rcgRBigeAmwtHiTqFQ4Obmdt4vtd1up6CggAMHDvDzzz+Tm5tLbGws/fr1IykpCTc3t/OmbtjtdvLz8wkKCrriC4ZAAP9Xke3kyZMcPnyYvXv3UlBQgEqlolWrVsTFxdGuXTuCgoJwdnZGrVbL0cI36+fOYelarVYsFot843v06FHS09OpqqrCx8eHFi1akJiYSMuWLQkODr7qkpcghFgguKkwGAxMnz6diooKFixYgF6vv2gBA6vVSkVFBT///DObNm2iqqqKhIQEevXqRfv27XF3d5e3r66uZuDAgQwaNIipU6fi4eHxZ70swd8Yx+fQYrGQm5tLWloax44dIysrC7PZjIeHB76+vjRv3hy9Xk9gYCD+/v74+vrKOfQ3Yswmk4mKigrKy8spLS2lsLCQnJwcCgoKqK2tpbGxkZCQEGJiYkhMTCQuLg6tVotKpbrmS0JCiAWCmwir1UpWVhZHjx6ltrb2slqu1dXVkZuby86dO9m6dSsWi4UuXbrQt29fQkND+eWXXxg7dix2u53U1FReeOEFmjVrdtNaKIK/LpIkUVdXR2VlJVVVVZSUlHD69Gny8vIoLS2lqqoKSZJwdnbG398fHx8fvL298fb2xsfHB19fXzw8PHB1dUWlUskFbxzLLw4hPLu/sMN97qhTbbFYqK2tpaamhvLycqqqqqipqaGqqoqysjJqa2ux2Wy4ubnh7+9PSEgIERERNGvWDJ1OJ4/pajotXSpCiAWCmxCbzcYLL7zAo48+SkhICJIkcfToUX766Sc8PDwYPnw4Op2OhQsXEh0djdFopHPnzoSFhcn7Hzp0iI0bN7Jr1y7c3d3Jycnh119/lQPBevTowbx582jfvr1YXxZcV34vMzabjcrKSoqLiykpKZFLS1ZXV1NdXU1NTQ319fWYzWZ537NrtP/+eA5RblI2Uq3Gzc0NrVaLTqfD29sbLy8vdDodAQEBBAQEEBgYeN7So3/2zakQYoHgJqS8vJw77riDe++9l9tvv53i4mJGjx5NUlISycnJGI1GRo0axeuvv85TTz3F4sWLOXXqFF9++WWTi4jNZqOmpobt27fz0EMPNakHrFQqadasGXPnzmXIkCGi8YPghuOwaq1WKzabTbZuHZauQ67sdru8z9nrzkqlEqVSKbuPHda0w6q9Wb0/ota0QHCTYbfb+fHHH/Hx8aGxsZG6ujr279+PXq9n9uzZeHp6UllZiSRJTJo0ie+//57Vq1czePDgc46lUqnQ6XQ0NjZSVlZ2znmysrJ46KGHeOKJJ5gyZYoQ42uMo1H9zSoANxuO+XKsG5/tdnb8f/Zvxz5n/322MP9V5l0IsUBwk2EwGFi+fDlPPvkkFRUVFBYW4uHhgc1m45tvvkGhUODp6UlKSgrvvPMOhw4d4vHHH2fUqFHnPZ4kSaxcuRKr1Xre5ysqKnjllVfYtm0brVu3Fm7qa0hkZCT33HOPCIy7AFarlZqaGgwGA3V1ddTW1lJXV4fRaJRrP9fV1VFfX09jY6PcKc5sNmOz2VAoFDg7O6NUKlGr1Tg7O+Pi4iKvL7u4uODq6opWq8XDwwOtVotWq8Xb2/sPq139mQghFghuIqxWK99//z0KhYK2bdtSW1vL+vXrGTt2LLGxsSiVSvbu3UteXh7du3cnIyOD++67j9DQUEpKSvDx8TnvcR9++GHuuOMO4DdL+PetL00mE0uWLKFly5bExMRc99f5T8BkMrFw4UJuv/32f6QQS5KExWLBZDLR0NAg5yBnZ2dTVFRESUkJ5eXlNDQ0YLfb5fVcrVaLu7s7zs7OsoiGhISg0Wjk9VyNRoOTk5P8WXacy2w209DQgMFgoKysrImYOwTearWi0Wjw9PQkKCiIoKAg9Ho90dHR+Pj4yALu4uLyp92UCiEWCG4i6uvrMRqNDBo0CJVKJV+MHO3i9u7dS1xcHFOnTkWn07FgwQJOnTpFcXExcXFx5z2mQqEgJSXlouc1GAxs2LCBvn370qJFi+vx0v5x1NXVsWjRohs9jOvO2W5iSZLIz8/n5MmTnDhxgpMnT1JUVCRbrwEBAYSFhREeHk7Hjh0JDg4mKCgIb2/v86YEXa3F+vuxwW83SI4gsaKiIoqLi9m9ezerV6+moaEBlUqFu7s7LVq0ICYmhhYtWhAdHd0kqOtaW9IiWEsgEGAwGHjwwQeZPXs20dHRN3o4fwvq6upITU3lk08+ITAw8EYP55rjaBFYVFTEmTNnOHToEOnp6dTX1+Pn50eLFi2Ii4sjOjoarVaLm5sbbm5uN2UxGZvNhslkkm+EKysrOX78OMePH+fMmTPU19cTEhJCQkICiYmJ6PV6/Pz8rllqk7CIBQKBQPCHOIKmGhsbOXbsGFu3biUtLQ2z2Ux4eDjt2rWjT58+tGjRAm9v7xs93MtCpVLJbnGAiIgIOnToAPzWrjQ7O5vjx49z+PBh3n33Xerq6mjRogVdu3ala9eucmGSK73BEEIsEAgEgotiNps5cuQIO3bsYM+ePQAkJCQwbdo0oqOjcXFxuSkt3WuBk5OT7J4eNGgQZrOZmpoa9u3bx9atW/n0008JCwtj4MCBJCcnX3LHpbMRQiwQCASCc3C4nvfs2cPq1auprKzklltuYerUqcTExKDVav+WwnshHKlVDhf70KFDGTRoEDk5ORw4cID169fzxRdf0KNHD4YPH05gYKBcX/uPEEIsEAgEgibU19ezYcMGvv76azw8PBgxYgS9e/fGxcXlpm7c8GejUqmIjIwkIiKC4cOHk5mZyerVq3nkkUe45ZZbuOuuuy5aL96BEGKBQCAQAL+thx45coSFCxeiVquZPHkyCQkJ8tqp4PwoFArUajWtW7cmJiaGnJwc1qxZw+OPP87w4cMZOXLkRdtDCiEWCASCfziSJGE2m/noo4/YuHEjEydOZODAgZfd4F7wW43ryMhIpk2bxpAhQ3jvvffYunUrzz77LFFRUeedT1FCRyAQCP7hlJeX8/zzz5OVlcW7777LsGHDZDe04PJxdIqKjY3ljTfeoF+/fsycObNJ05WzERaxQCAQ/A1xXPAvJqaOdoVvvPEGGo2GmTNnotPp/qwh/u1RKBRotVpSU1Px9PTk7bffxtvbm7i4uKadom7gGAUCwd+In376iTNnzjR5TK1Wc+uttxISEnKDRvXPJTc3l3379tGuXTuioqLOW67RZrPx8ccfA/D888+Lph/XCaVSyaBBgwB45ZVXmD9/PoGBgbIYCyEWCAR/SH19PYWFhdhsNnx9fWlsbMRsNuPn50dtbS12u53g4GDc3Nya7KdUKnF3dwd+s76ys7Ox2+2Eh4dTXFxMfX29vK1CoSAkJEQODDr7nGej1WoJDQ1t8pjNZqOiokI+jq+vL0qlErvdTl5eHn5+fvI4HJWTAgICsNlslJSUIEkS3t7e6HQ6ubdtTU0NjY2NqNVquQSj1WqlqqoKu90u10S+WcnNzWXatGm4urqSnJzMbbfdRlJSEn5+frLgFhUVsXXrVt58882rckXb7XYqKirkedVqtRQXF2OxWPD19cXT0xOTyURJSQk6nQ6TyYQkSbi6ulJeXo67uzv+/v44OTnJx5QkCZPJhMFgQKFQ4OXlhbOzM9XV1UiSJL9XZ4+hvLwcg8GAzWbDzc0Nf39/AEpLS/H390eSJEpKSrDb7fI5AaqqqlAqlXh6esrVsmw2G7m5uTQ2NsrnUCqVhIeH4+zsfNlzpFQq6devHzt27ODbb7/l/vvvl58TQiwQCP6Q0tJSBg0aRG5uLm+++Saff/45jY2NjB8/nq+++gofHx+WLl16jsvt923rBg8ejNFoZPfu3XzyySe8+uqrstCq1Wo+++wzxo8fj0KhID8/nw8//BCj0dhkLAkJCTzyyCNNzvHdd9+xdu1aBg8ezLp16xg7diwDBw7EYrHw4IMPcs899zB27FgkSWLZsmXMmzePDz74gOPHj/PSSy8RFxfH3XffTXJyMq1atSI3N5f58+fTsWNH9u7dy4QJE4iPj+f7779n9+7dxMbGkpmZybRp084RhN9zdhu/PxNHFazc3FwyMzP5+uuviYqKok+fPvTu3Zu+ffuyefNmEhISLhhEdKlYLBZ+/vlnJk6cyNq1a6moqGDevHm0aNGC1q1bc//99/PNN9+wePFiHn74YT766CNuvfVWevTowV133cXkyZN5+OGHm1TkslgsvP322wQGBuLk5ERtbS0PPvggn332GVarlenTp8vtEuG3hikHDx7k6aef5vDhw8yZM4cJEyawb98+pkyZwmuvvUZBQQFz585l2LBhcgWwkSNHkp6ezrFjx2hsbCQ1NZXAwEDMZjOzZ8/m3//+t3wOjUbD5s2bueWWW65ovjQaDSNGjOCdd95h4sSJsugLIRYIBH9Is2bNCA4OJj8/n1atWlFVVUWXLl3o3Lkzr7/+OqGhoQQFBZ2zn91uZ+/evZSVlckFIhoaGjh+/DhPPPEEBoMBi8VCVFQUeXl5VFZWYrPZUKvVREdH89prrwH/Z51s2rTpnM5ReXl5vPDCC/Tu3ZuBAwfy1Vdf8corr9C2bVtCQ0MZNGgQGzZsYOTIkWg0Gpo1a0aHDh3kC/ysWbMYOXIkWq2WL7/8Ei8vL9566y1yc3N59tln+eWXX5g1axbvvvsuM2bM4NFHH6Vv377MmzePwMBAHnnkkSaCcDb5+fl88MEHNyT9JysrS/Y4SJKEzWYjMzOTkydPsnTpUsLCwnB2duaBBx646qAsZ2dnEhMT0Wq1+Pj4sGDBAqZOncrgwYOpqqoiLy8PSZKIi4ujV69ezJo1i/79+5OUlISnpydt2rQ5pyzm5s2bOXToEEuWLAGQLfqJEyciSdI5rnaNRkO/fv1o2bIlhw4dYujQoQQHBxMcHExSUhLh4eF4e3vz6quvMnr0aIxGI506dcJut/PAAw+QmJjI4sWLGT9+PHPnzqVDhw68/PLLKJVK/Pz8CAwM5PTp0+Tm5nLLLbdc0TwpFAqio6NpaGiQvQcghFggEFwijot1XFwcc+bMYd26dWzduhVJklCpVOctgG+xWJg9ezZbt25FoVBQX1+PJEl89NFHLFu2jKeffpqFCxfSvXt34uPjKSwslC+wjkpGhYWFLF++nPT0dNq3b8/w4cObnCM9PZ2cnBx0Oh1OTk4olUrOnDlDeXk5oaGhpKSksHTpUqqrqwkMDKR///706dNHHm/37t2x2WwUFhayZs0amjVrxi+//ELbtm3R6XQEBASwfv16PvroI3JycggJCcHPzw+A77//nrvvvhtPT8/zzpmTkxN+fn54eXlds/fhUqmurj7vurDDZe/p6YlKpaKxsfGaWOyOz0djYyPOzs50794dpVKJr68vISEhREVFodPp2L17NzabDScnp4vWZ965cyc+Pj54eXlRX19PbW0t+fn5sgiebz/HZ8bxOhUKBcnJyXz11VdNziVJEsXFxVRXV/Of//yHSZMm4eTkxPjx41m+fDn/+te/WLt2LXq9nmeeeYYlS5YwZMgQIiIiKCwsvKp5Ol8QnRBigUBwWRQXF7Nv3z5SU1PlnrAX6tvq5OTE/fffz8yZM2nTpg0dO3akvr6et956C4DAwECGDh3K9OnTeeedd0hMTJT3LSsr44MPPiAzM5MBAwYwceJEfHx8zjmXyWTCarVSWVnJmTNnyM7ORq/X4+Pjg0KhIDIykhYtWrB582ZSU1Pl4gsAJSUlbNiwgczMTNavX09lZaW8jpiQkIBKpcLJyQmDwcCvv/6KxWKRe+EqlUqysrKarCH+nsDAQMaOHXtDui/98ssvfPbZZ8BvF31XV1cSExPp2rUrw4cPp127dqxbt47Dhw9fU9e5j48Per2e5557DicnJzZt2sTixYtlb0ifPn3QaDR/2LmourqaiooKysvL2bt3L2azmbCwMNLT07Hb7bRr1+6SLfmzz2W1WtmzZw+vvfYaRqMRLy8vNm3axJw5c2TLd8eOHWzfvp2BAwcSGRlJcnIyU6dO5f3336dZs2ZXNT/Hjx9Hq9Xi6+v7f+O7qiMKBIJ/HDU1NWzYsIGGhgaGDh2KRqOhY8eO591WpVLRq1cvvv/+e9q0aSNbJa6urvJFtHXr1gQGBvLcc8/x6aefyqJVU1PD9u3biY6OJikpCa1We96etc2aNcPb25sff/yRyspK/P39mTJlCsHBwUiShFarpU+fPmzcuJGRI0c2CbTJy8tj1qxZVFdX4+fnx8svv9wkmtXB2eL9+9d3vXNtLRYLpaWlqFQqdDodVVVV2Gw2/Pz8ZHe/SqVCo9Hg7u4uj0ehUODm5kZMTAwjRoygb9++tGnThsDAQPlmJiUlheXLl3PixAlat259TV6Lq6sr06dPZ9euXZw6dQq9Xk9SUhK5ubmsXr0ak8lEamoqQUFB/PTTTxgMBjZv3oy3tzddu3aVxxYdHc3GjRuZN28emZmZ3H///SQkJPDVV19htVpp27btFY3XYrGwdu1atm7dSnJyMg888ACzZ8+mrKyMDz/8kF27dvHzzz+TlZUlz2O3bt2YP38+s2fP5u23376gB+SPMJlMrFmzhr59+wqLWCAQXDlt2rTh008/Zf/+/WRnZ7No0SIGDx58we09PT3p3r07W7ZsaWI9njhxgujoaNRqNa6urmzatIljx47JQhwdHc3q1av54YcfeOONN/D19WXMmDEkJyc3ia5t164dAwcOZPXq1UyfPp24uDiUSiX79++nZcuWuLm5MXDgQJYuXUpWVhaxsbHyRTA8PJzx48fTt29fYmNjCQoKIicnh+DgYKxWKxaLBbPZjJeXF7169WLnzp00NDTQ2NiI3W4nOjoajUZznWb6N2pqarj77rsJCAhg7ty5zJw5kzNnzvDZZ5/x2WefodPpaNOmDUePHmXEiBFy4FXz5s356KOP6NChg1xe8ffCFRgYyPDhw3nnnXeYN2/eRcswXg5hYWHo9Xr5f4VCgU6no127dk0e8/f3R6/X07NnT7p27drk3EOGDOHTTz+lU6dOvPLKK7JA33PPPfL+v+ePAuMkScLFxYWXXnqJvLw8jEYjfn5+5OfnExoaSlRUFLt370atVuPl5cXx48eJjY3F2dkZtVrN//73P4qKii5biB3j+vbbbykpKeFf//pXk+eFEAsEgkvCbrcDv10AO3ToIPdr/SMcaUm/TwUpLi7m22+/xWKx8N1336HVavHw8Giyn5eXF2PHjqV///6kpaXxxRdfsG/fPh5//HF5O41GwwsvvEB9fT3z5s1j1qxZREREkJOTw6xZs4iMjMRut5OVlcX+/fuJjY2V9/Xz88PX15e9e/eSlpaGRqNh3Lhx9O3bl2PHjlFZWUlJSQndu3fn/vvvZ9WqVeTn58sW6qhRo657CpOfnx96vZ6AgAD0ej0tWrSgrq6OXbt2sXPnTr788ktCQ0MpLS3lzTff5L333kOj0aDX65uI4flQqVSMGzeO3NxcXn75ZZ566qnzBt39EVarlaKiIvn/CzWG+P1jKpWKESNGUFFRwYoVKwgODqZHjx4oFArCw8OZOXMmq1evJiYmhtjY2It6ICRJoqCggNzc3AuO8/Tp0+Tn5+Pn50d5eTm7d+9mypQptG/fnuLiYhobGyksLCQsLIyuXbuyf/9+fvzxR4qKikhLS6N58+ZXlGtttVpZu3YtK1as4PXXX8fX11dYxAKB4PI4deoU5eXlV5xrqlQq6dSpE/fffz/Lli0DoFOnTuzdu5d///vfuLu788QTT9CmTZtz9lUoFPj4+NCvXz969OjR5ILvICwsjA8++IAff/yRtWvXEhkZSWBgIFu3bmXTpk3ydhs2bGDs2LFNAnr0ej0TJ07EarWiVCpp3bo1TzzxBO+++y7r16/Hz8+Pu+++G39/f9566y02bdrE999/z/jx4xk1atQF18evJWfPuePvjIwMIiMj5chbrVbLwYMHsVqtl2WlO1zJ8+bNY+bMmTz99NPExMRc1uuy2WzU19czfPjwyxIqpVLJY489RkZGBsXFxURERDR5btSoUURGRrJz504qKipISkrC1dX1vMdy5H6PHDmShoaG8y4lhIaGkpaWxptvvkl6ejq33XYbbdq04YUXXmDRokWyxfrGG28QHh6Ol5cXb775Jl9//TWhoaHMmDHjsorTOJYOli1bxubNm3n++eeJjo4+d+lDuhEJbgKB4KbCYDDw4IMPMnv2bKKjo8953mKxUFtbKxdSuBLxceS11tfX4+XlhUKhwGq1YjQa5bXcs13OV4LdbsdsNmO329FoNBgMhiauSicnp3Pcr42NjfJrA/Dw8ECj0dDQ0IDNZkOlUsk3IHa7XS5GodFoLip4dXV1pKam8sknn1xVsJbVauXOO+9Eq9Xy+uuvM2vWLAwGA2PGjGH16tUsXLgQFxcXnnzySex2O2+//fZlz6PjvVm1ahUrVqxg5MiRDB06VA54uxTsdjuNjY1oNJprenMiSRIWi0V+T//o2DabDaPRiLu7+3nTyhyfOZvNhqurq3zj4HhfJUnCzc0NpVIpn9toNKJUKtFqtRdMVfs9FouFffv28fHHH+Pl5cWTTz5JSEjIeedTWMQCgeAPcXJywsfH56qOoVAocHZ2bhIs5eTkdE7+6NWgVCqbWExnR6ZeCI1Gc97tzmd5nV0p7M+iuroavV6PWq3m66+/JjMzk6lTp9KrVy8MBgPffvsttbW1+Pj4cO+99/5hNPL5cLw3qampJCYm8uGHH7Jx40buvPNOOnfujIeHxx8KoFKpvC4lMhUKxWVZ+CqV6qJruI7139/z+6pwZ5/7Us/vuKHJyspi6dKlZGRkMH78eAYOHHjRz42wiAUCwR9axILL51pZxJIkyevzDovNsVbq+F+SJLnjz9UGW0mShNVqZdeuXXz22Wc0NDTQv39/br311huShvVXobGxkZ07d/LNN9+QnZ1N//79SU1Nlb0/F0NYxAKBQHATc3aRivM9dz3O5+TkRLdu3UhISOD48eOsX7+eRx55hNjYWIYMGUJ0dDS+vr6X7Kb9OyJJEkajkcLCQnbt2sWmTZuw2+3ceuutPPnkkwQGBl7y/AghFggEgutESUkJ27dvp1evXnh6esoW61+hz69CocDDw4OkpCSSkpI4c+YM27ZtY/HixdTV1dGqVSt69OhBcnJyk/Sov8JruxIcngmr1UpmZibbtm1j79691NbW0q5dO+6//36SkpJwdna+7DkQrmmBQCBc09eBuro6unbtSnx8PPX19fj7+9OqVSvatWtHeHg4er3+uucgX2skSaK+vp7S0lK5+lRxcTHBwcHExcXRtm1b9Ho9gYGBuLm5/aVF2VGfu6Kigvz8fM6cOcP+/fvlQh8dOnSgR48etGjRQi4XeqWvV1jEAoFAcJ0ICwvj9ddfR6lUcvr0aY4cOcLy5cspLi7Gz8+PDh060LlzZzk/9UqsqT8ThUKBu7s7ERERREREMHbsWAoKCjh58iTHjh1j2bJllJWV4ezsTGRkJK1atSIuLk5uMKFWq+Wfm+F1nm3lWiwWrFYrFRUVnDhxgqNHj5KZmSm3aWzevDlJSUmkpqYSFRXVpIrZ1SKEWCAQCK4jKpWKwMBAAgMD6dy5M1arFZPJxOHDh0lLS+Odd97BYDDg7+9PcnIycXFxtG7d+pKCfG40arWaZs2aER4eTu/evbFarXLrxSNHjnD8+HG5jKWzszNarVaupuXv74+vry++vr54eXnh6emJh4cHTk5O1/x12+12jEYjtbW11NTUUFlZKdexLioqoqCggNraWurr61Gr1YSEhNCyZUsmTJhAy5YtZYv3epU0Fa5pgUCAwWDgjjvuoGfPniIy9hrR0NDAypUr+eKLLy44p5IkYTKZKC4uJjs7m927d3PixAlqa2tp1qwZCQkJdOrUSRarm8WSvFQkSaKhoYGamhoMBgM1NTUUFRWRm5tLWVkZFRUVVFRUUF9fj1KpRKVS4ebmhpeXF66urri6uuLm5oaLiwtOTk6yK99hVTvShRxu5MbGRjlX3WQyUV9fj9FolNtt2u12uWa3j48P/v7+hISEEB4ejk6nw9PTEy8vrwvWNb9eCCEWCASYzWaWLVt21S3eBE0JCwvjtttuu6R+xI5Lsd1ul0sqpqWlkZGRgdVqJTo6mg4dOhAfHy/X6IbrEzl9vbiQ3FgsFmpqaqiurqa6uhqDwdBETE0mE42NjVgsFnl7m80m5/k6Urcceepubm6yiGu1Wry8vNDpdHh5eV0wn/dGzqMQYoFAILhJsVqt1NXVUVNTQ0ZGBjt37uTYsWOo1Wqio6Pp3LkzERERhISEXLOGDYI/HyHEAoFA8BfBkbuamZlJRkYGhw4doqCgAKvVSqtWrejUqRPJyclyudBLda+eLQM3QswdRUnsdjt2u71JoZLf/1yIs9s//v5HqVTKPzfjzYoQYoFAIPgL4qiAZTabKSgoYMeOHezbt4/CwkJ8fX3liOWYmBjCw8MvWvqyoaGB7du3ExcXR3Bw8HUds9FopKqqisrKSqqqqqiqqqKmpkYOnqqrq8NsNmO1WptEM9vtdmw2G4D8G2iSm+0IqHJyckKtVuPk5ISTkxOurq74+Pjg6+uLTqfD29tbXid2/H8ji5MIIRYIBIKbEJPJxKJFizAYDEyePBmdTveH1pzFYqGkpITCwkIOHz7MgQMHyM/Px9/fn/j4eLp160ZISAgeHh64urrKxysqKmLo0KF4e3szc+ZMunbt2qQm+OVwdnMPo9FIUVERmZmZ5OTkkJOTQ0VFBRaLBXd3d1kQvb298fPzw8/PDy8vLzk46+yfs6OWHdYt/Oa+h9/E2ZGK5FhPdvSTrq+vp7y8nPLyciorK+W16OrqauC3zlV6vZ5mzZoRFRVFREQEXl5ecqDY9bakhRALBALBTYjZbObHH39k165dJCcnM3LkyEsWA8dl3dGGb//+/aSlpXHs2DFqamrw9PQkOTmZxMRE2rVrR0ZGBl26dMFisaDT6Zg8eTKPPPIIAQEBFz3n2fJRXl5Oeno6R44c4cSJE5SVlWG32/H09JRTnCIiIggPDycoKKhJzvQ5bQGvseidPc6z58Zut1NVVUVeXh7Z2dlkZ2eTk5NDcXGx3IUpMjJSLlYSFRXVxHK+VuMUQiwQCAQ3MSaTiTfeeIMnnngCnU4n993Nzs5GrVYTGRmJq6srR44cQavVYrPZCAgIOCd4y1EVq6qqijNnzrBjxw7S09MxmUyYTCZ+/PFHWaQ0Gg0dO3bkxRdfpFu3budYx1arlfLycnJycti7dy8HDx6koqICPz8/2rRpI1cP8/DwwMPD44r7WP/ZONz9jpzj8vJyjh07xqFDh8jKykKlUtGiRQs6d+5MbGwsQUFB16SCmBBigUAguIkxm8089thjDBw4kFGjRmE2m5k8eTKZmZm0b9+e1q1bc9ddd5GamsrkyZP59ddfqa+vZ86cOX/YutBisXD69Gnuu+8+duzYcc7z/v7+PPTQQ0yePBkfHx8aGhrYvXs3GzZsIDMzE09PT+Lj40lMTJSF6a8guFeC0Wjk5MmTHD16lL1795KXl4enpycpKSn07duXwMDAK87zFpW1BAKB4CZFkiT27NlDdnY2VVVVGI1Gjhw5wunTp1m8eDHNmjUjLy+PoqIipk2bhqenJ2lpaX8owA6cnJxwd3enpqbmvM+Xl5czd+5cNm/eTLdu3Thx4gR+fn707dtXXrd2WLt/VwF24O7uTkJCAvHx8YwZMwaj0ciJEyf44YcfmDp1KgEBAfTv359bbrnlD136v0cIsUAgENykWCwW/vOf/3Dbbbfh5eVFSUkJZrOZqKgoPD09qa6ulgOefvnlFxYsWEDLli2ZMWPGJQvBqVOnMJlM+Pj4oFKp0Gg0eHt74+Hhgdlspri4mJqaGlxdXZk5cyZt2rTBxcXlOr/ymxdHERGNRsMtt9xCx44dKS0t5cCBA6xbt44vv/ySW2+9lUGDBhEYGHhJN0XCNS0QCAQ3KQcOHGDGjBl8/PHHmM1m9u/fT69evXjggQeIiIggPz+f7Oxs1q1bx7Bhwxg2bBgjR47ExcWFqKioSxLjoqIisrOz0el0+Pr64u7uzq5du1i6dCkmk4nU1FR69+4tNzn4u1u+V4pjffnkyZMsXbqUjIwMhgwZwqhRo9DpdBfdVwixQCAQ3IQYDAbmzp1LTk4Oc+fOxWq1Mn/+fKZNm0ZFRQUHDhzg2LFjdO3alcGDB7N8+XKys7Ox2WwMGDCAjh07XpZoSpJEYWEhX3zxBYcOHSI1NZWePXv+JZpP3ExIkoTFYuHEiRN8/vnnlJeX88ADD5CcnIyTk9N59xFCLBAIBDcpl3p5VigU52x7uSKcnp7Oq6++SmxsLI899hh+fn5CgK8CRyOK77//nk8++YThw4dzxx13yLWxz0YIsUAgEPyDkSSJ7du389Zbb3HfffcxYMCA84qF4Mqw2+0UFBTw0ksvERERwbRp03B1dW2yzaWF1gkEAoHgb4fDEp4/fz6PP/44gwcPblJoQ3D1KJVK9Ho9s2fP5syZMyxfvlyuBiZvc4PGJhAIBIIbTENDAwsWLGD06NH06tXrhtZb/jujUCgICgpi1qxZfPPNNxw4cKDJUoJIXxIIBIJ/KIcPH8ZsNnPrrbdecu7x+TCZTKxZs4ZFixYxc+ZMmjVrxrvvvovFYmHw4MEMHDiQffv2sXjxYkaPHs2OHTvw8fEhPj6eBQsW0LdvX+6++278/f3lYxoMBr799lsUCgVGo5GBAwei1+tZuXIlNpuN1NTUJmM2m83897//ZcWKFZSWljJgwAAmTJhAdXU17777Lo888gh1dXUsXLgQnU5HfHw8/fr1IyoqioaGBlatWoXNZsNgMNC5c2c6deqE3W5n4cKFODs78+CDD16Vp0ChUKDX6xkxYgT//e9/SUpKkp8TFrFAIBD8Q9m+fTtdunTBy8vrqo7j4uJC+/btycjIICwsjDlz5mC325k0aRJWq5UDBw7w008/YTQaCQwM5PPPPyc+Pp4uXbqQlZVFTEwMfn5+8vFsNhuffvop5eXlpKamEhQUxGuvvUZjYyN6vZ6wsLBzxqDRaBg7diwKhYIdO3YwbNgwmjVrxunTp/nuu+84ceIEO3fuxGq1MnnyZLp06cK4ceP49ddfWbRoEe+//z59+/ZFkiTuvvtusrOzUSqVhIWF8d1338kNIq4GhUJBjx49OH78OCaTSX5cWMQCgUDwD6W8vPyy05zOh6MFoVKppLq6moqKCubMmUNYWBjJyck0NDTg5+fHsmXLsFqtqNVqOWf57DaGDkpKSli/fj1vvfUWKpWKjh078vbbb3P48GG6dOkin/P3Y1AoFHIglKM+9qBBg9i5cyfBwcFyK0UPDw9KSkrIzs7m5Zdfpra2Fo1GQ2BgIF5eXuTl5fHLL78QERFBr169eOeddzh69Chdu3a9aqvY19cXgOrqatzc3AAhxAKBQPCPxcfHh/LyciRJumYBWu7u7nh5eTF79mycnJwwmUw8+OCDuLu7079/fyRJ+sPzVVdXk5+fT0BAAAA6nY6Ghgays7OJj48HuKTIbocwR0ZGyo85eiJ/9dVXGAwGTp06hd1uJywsDKvVSlFRkdxqEZA7VTm8B1c7Tw7L2tPTU35MuKYFAoHgH0qXLl3Yvn07dXV11+yYOp2O+++/n8GDB9OxY0cqKirw9fUlIyOD//znP9TV1dG6dWu8vb3JyMjAZDJx4sQJTp06JQcwWa1WzGazfEyHcCuVShYvXsz777+P3W6/ovGZTCaee+45XnjhBfz8/HjooYfw9fWlsLCQJUuWsGbNGvr27cvAgQOB36KeBw0axObNm5uM6Uqw2+3s2LGDyMhI3N3d5ceFRSwQCAT/UOLj41EoFGzYsIGRI0deVcCWA4VCQUpKCrm5uVRVVZGSkkJ4eDhhYWG0a9cOm83G4sWLCQsLo6CgAFdXV9zd3WU3LYC3tzehoaEUFxcTEhJCZWUlzs7ONGvWjE6dOiFJ0hWNVZIknJ2dmTBhAmlpaURFRTFx4kQqKyv56KOPMJlMvPfee0RFRaFWqzGZTLi6utK2bVucnJw4fPgwnTp1uuK5KS4uZvXq1UydOrXJ48IiFggEgn8o7u7uTJ8+nc8//5x9+/ZdciWv3+OoIuVApVIRERFB+/btad68OUqlEmdnZ2JjY2ndujVRUVFoNBrCw8Pp0KEDAQEB1NfXc/r0aSRJIiQkhMGDB7N582asViu7d++mXbt2JCQkEBYWRnh4+DkuYket59ra2guOs6SkhLKyMtq2bUuzZs1Yt24dhYWFPPHEE3Tq1Ildu3YRFxdHQEAAmZmZLFy4kP/9738cPnwYNzc3fvjhhyuyxCVJoqqqijlz5pCSkkJycnKT54UQCwQCwT8UhUJBXFwckydPZvbs2WzatAmLxXLZxzGZTPz666/o9frLykVWKpU8++yz1NXV8cUXX1BWVgaAWq3m4YcfxtfXl+XLl1NTU8PTTz99wVrN8Jvbd9u2bVgsFnQ63XnXclUqFcuXL2fy5Mls3LiR8PBwtFotoaGhfPzxx7Rv35633nqLI0eOEBAQwOeff864ceNITU3lu+++Y8uWLZSXl1/W3EiSRFFREc8//zw6nY577733nPVtUeJSIBAI/uHY7XZ2797N3Llz6dGjB5MmTUKr1V5WYJLRaCQ7O5vo6Gg5YvlGYDAY+PXXX+ncuTPe3t7nPF9RUcG2bduoqakhISGBtm3byjcPdrud7OxsCgsLiYyM5Ndff5VvDgC0Wi3Dhg0773F/jyRJ2O12du7cyfz58+natSv3338/Wq32nG2FEAsEAoEASZLIz89n0aJF5Obmcscdd9CjR48ma7eCS8Nut3Py5Em++uorTpw4wQMPPEC3bt3QaDTn3V4IsUAgEAhkGhoa+Pnnn1mxYgUuLi7ceeedxMfHX7aF/E9DkiQaGxspLi5m5cqV7Nixg5SUFG677Tb0ev1F9xVCLBAIBIImSJKEyWRiw4YN/Pe//8VqtTJo0CBSUlLQ6/VCkH9HfX09e/bsYf369Zw8eZKuXbsybtw4QkNDzylWcj6EEAsEAoHgvEiShMFgICMjgzVr1nDq1CmioqLo27cvsbGx+Pv74+rq+o8TZpvNRnV1NQUFBWzatIldu3bh4uLCrbfeSrdu3QgODr6soDUhxAKBQCC4KA6ZKC0tZfv27fz888/k5eURGBhI586d6dKlC82bN8fJyUkuWfl3wVEJzG63U1lZSVpaGjt37iQzMxO1Wk379u3p1q0biYmJqNW/lea43NcvhFggEAgEl4wkSZjNZmpra0lPT+eXX37h2LFjKBQKQkNDadu2LREREQQFBREQEICXl9dfTpgtFgvl5eWUlJRQUFDAgQMHyMzMpKqqimbNmsk3H4562VfbPlIIsUAgEAiuGEmSqK+vJz8/n5MnT3Lo0CGysrIoLy/HycmJ8PBwoqKiaN68OS1atMDPzw+1Wo1KpZJ//1lWtMO6tdls2Gw2rFYrNpsNo9FIVlYWZ86c4cyZM+Tm5lJdXY1WqyUwMJC4uDiio6Np3rw5QUFB17xvsxBigUAgEFwTHC5cm82GxWKhsLCQjIwMzpw5Q05ODsXFxZjNZlxcXHBxcUGr1RIcHIyfnx9eXl54eHjg4eGBVqvF1dUVZ2dneVu1Wi0X9FCr1XKJS4vFIp/XYrHQ2NiIyWTCbDZjMpkwmUwYDAZqa2upra2lqqqKwsJCqqqqMJlMNDQ0YLfb8fX1Ra/XExkZSXR0NLGxsbi5uaFSqVCpVNf1RkEIsUAgEAiuO3a7nbq6Ompra6mrq6O+vl7uslReXk5NTY0slkajkYaGBqxWqxx1fHb08dmi6JCws3/b7XYUCgUuLi64urrKAu/h4YFOp0Ov1+Pn54dWq8Xd3V1+7kJ5vtcbIcQCgUAguCH8kfxYrVbq6+tpaGjAbDZjtVoBaGxslGs+azQa2bXt7OyMs7Mzbm5uODs7X1KbxJsBIcQCgUAgENxARNMHgUAgEAhuIP8Psud4IjT7G28AAAAASUVORK5CYII=\" y=\"-7\"/>\n",
       "   </g>\n",
       "  </g>\n",
       " </g>\n",
       " <defs>\n",
       "  <clipPath id=\"p44e5386996\">\n",
       "   <rect height=\"271.8\" width=\"481.3125\" x=\"7.2\" y=\"7.2\"/>\n",
       "  </clipPath>\n",
       " </defs>\n",
       "</svg>\n"
      ],
      "text/plain": [
       "<Figure size 1440x360 with 1 Axes>"
      ]
     },
     "metadata": {
      "needs_background": "light"
     },
     "output_type": "display_data"
    }
   ],
   "source": [
    "lgb.plot_tree(model, tree_index=0)"
   ]
  },
  {
   "cell_type": "markdown",
   "metadata": {},
   "source": [
    "可以清晰地看到决策树的决策过程。在上图中，从中间节点的判断条件可知，下方的叶子节点包含的商品历史销量更大；而上方的叶子节点中的商品历史销量更小。可以看到，对于历史销量大的商品，决策树倾向于给出更大的销量预测值（如最下方的叶子的3.907）。"
   ]
  },
  {
   "cell_type": "markdown",
   "metadata": {},
   "source": [
    "### LightGBM的特性使用"
   ]
  },
  {
   "cell_type": "markdown",
   "metadata": {},
   "source": [
    "以上是LightGBM使用的基本流程。上述过程默认使用了LightGBM的一些特性，包括按叶子分割的决策树训练和直方图加速优化。这一小节将回过头来考察这些特性对模型的训练究竟造成了什么样的影响。"
   ]
  },
  {
   "cell_type": "markdown",
   "metadata": {},
   "source": [
    "#### 决策树的生长方式"
   ]
  },
  {
   "cell_type": "markdown",
   "metadata": {},
   "source": [
    "首先是按叶子分割的决策树训练。回顾在超参调优的过程中，在决策树的规模限制上，只用到了叶子的数量$num\\_leaves$。这是因为LightGBM默认决策树都是按叶子分割进行训练的。当然，LightGBM也提供了对决策树最大深度的限制，由超参数$max\\_depth$控制。如果设置$num\\_leaves$的值为$2^{max\\_depth}$，则决策树等价于按层分割的训练，得到的是一个深度为$max\\_depth$的完全二叉树。在本案例中，训练样本量较多，因此使用较为灵活的按叶子分割应该得到更好的结果。我们对这一猜测进行验证。\n",
    "\n",
    "选取使用nni自动搜参得到的最优超参数，在这组超参数中，$num\\_leaves$取值为8，因此加上$max\\_depth=3$，就可以让决策树都变成深度为3的完全二叉树。"
   ]
  },
  {
   "cell_type": "code",
   "execution_count": null,
   "metadata": {
    "pycharm": {
     "is_executing": false
    }
   },
   "outputs": [],
   "source": [
    "params_with_max_depth = {\n",
    "    \"num_leaves\":8,\n",
    "    \"learning_rate\":0.044462958967770576,\n",
    "    \"min_data_in_leaf\":16,\n",
    "    \"lambda_l2\":0.06611960419049324,\n",
    "    \"feature_fraction\":0.6830879424448291,\n",
    "    \"bagging_fraction\":0.7527564678754335,\n",
    "    \"objective\": \"regression\",\n",
    "    \"bagging_freq\": 1,\n",
    "    \"max_depth\": 3\n",
    "}"
   ]
  },
  {
   "cell_type": "markdown",
   "metadata": {},
   "source": [
    "使用相同的迭代轮数重新训练，并观察结果"
   ]
  },
  {
   "cell_type": "code",
   "execution_count": null,
   "metadata": {
    "pycharm": {
     "is_executing": false
    }
   },
   "outputs": [
    {
     "name": "stderr",
     "output_type": "stream",
     "text": [
      "/anaconda/envs/lgbm/lib/python3.9/site-packages/lightgbm/engine.py:151: UserWarning: Found `num_trees` in params. Will use it instead of argument\n",
      "  warnings.warn(\"Found `{}` in params. Will use it instead of argument\".format(alias))\n",
      "[LightGBM] [Warning] Auto-choosing row-wise multi-threading, the overhead of testing was 0.038411 seconds.\n",
      "You can set `force_row_wise=true` to remove the overhead.\n",
      "And if memory is not enough, you can set `force_col_wise=true`.\n",
      "[LightGBM] [Info] Total Bins 5362\n",
      "[LightGBM] [Info] Number of data points in the train set: 1524500, number of used features: 26\n",
      "[LightGBM] [Info] Start training from score 1.386903\n"
     ]
    },
    {
     "data": {
      "text/plain": [
       "4.143701924725372"
      ]
     },
     "execution_count": 41,
     "metadata": {},
     "output_type": "execute_result"
    }
   ],
   "source": [
    "params_with_max_depth.update({\"num_trees\": 53})\n",
    "model = lgb.train(params=params_with_max_depth,\n",
    "                  train_set=train_set)\n",
    "score = model.predict(test_data)\n",
    "l2_loss = np.mean((score - test_label) ** 2)\n",
    "l2_loss"
   ]
  },
  {
   "cell_type": "markdown",
   "metadata": {},
   "source": [
    "得到验证集上的结果为4.196662，比使用按叶子分割的4.186709差了一些。这说明按叶子分割的训练方式确实学习到了比按层分割更加灵活的决策树结构。当然，由于更换了决策树的生长方式，其他超参数可能也需要进行调整才能得到按层生长的最优结果。不过鉴于本案例中的训练数据充足，一般来说按叶子分割是更好的选择。"
   ]
  },
  {
   "cell_type": "markdown",
   "metadata": {},
   "source": [
    "#### 直方图带来的加速效果"
   ]
  },
  {
   "cell_type": "markdown",
   "metadata": {},
   "source": [
    "LightGBM使用直方图优化进行训练，超参数$max\\_bin$指定了直方图的区间数量。前面的流程中始终将这个超参数保留为默认值$max\\_bin=255$。这里我们调整$max\\_bin$，依次尝试$[16, 64, 256, 512, 1024, 2048, 4096, 9192, 18384, 36768, 75536, 151072]$并观察$max\\_bin$对训练速度和准确率会造成什么样的影响。"
   ]
  },
  {
   "cell_type": "code",
   "execution_count": null,
   "metadata": {
    "pycharm": {
     "is_executing": false
    }
   },
   "outputs": [],
   "source": [
    "params_with_max_bin = {\n",
    "    \"num_leaves\":8,\n",
    "    \"learning_rate\":0.044462958967770576,\n",
    "    \"min_data_in_leaf\":16,\n",
    "    \"lambda_l2\":0.06611960419049324,\n",
    "    \"feature_fraction\":0.6830879424448291,\n",
    "    \"bagging_fraction\":0.7527564678754335,\n",
    "    \"objective\": \"regression\",\n",
    "    \"bagging_freq\": 1\n",
    "}\n",
    "params_with_max_bin.update({\"num_trees\": 53})\n",
    "params_with_max_bin.update({\"verbose\": -1})"
   ]
  },
  {
   "cell_type": "code",
   "execution_count": null,
   "metadata": {
    "pycharm": {
     "is_executing": false
    }
   },
   "outputs": [
    {
     "name": "stdout",
     "output_type": "stream",
     "text": [
      "with max_bin 16, training time 2.506295680999756 seconds, l2_loss 5.045216\n",
      "with max_bin 64, training time 2.38858699798584 seconds, l2_loss 4.126299\n",
      "with max_bin 256, training time 2.5584359169006348 seconds, l2_loss 4.183943\n",
      "with max_bin 512, training time 2.5151989459991455 seconds, l2_loss 4.171627\n",
      "with max_bin 1024, training time 2.5459041595458984 seconds, l2_loss 4.176913\n",
      "with max_bin 2048, training time 2.560281753540039 seconds, l2_loss 4.173533\n",
      "with max_bin 4096, training time 2.718515396118164 seconds, l2_loss 4.169061\n",
      "with max_bin 9192, training time 2.605896472930908 seconds, l2_loss 4.172087\n",
      "with max_bin 18384, training time 2.6336991786956787 seconds, l2_loss 4.165019\n",
      "with max_bin 36768, training time 2.8722853660583496 seconds, l2_loss 4.164789\n",
      "with max_bin 75536, training time 3.097911834716797 seconds, l2_loss 4.163614\n",
      "with max_bin 151072, training time 2.7406954765319824 seconds, l2_loss 4.163613\n"
     ]
    }
   ],
   "source": [
    "import time\n",
    "\n",
    "for max_bin in [16, 64, 256, 512, 1024, 2048, 4096, 9192, 18384, 36768, 75536, 151072]:\n",
    "    params_with_max_bin.update({\"max_bin\": max_bin})\n",
    "\n",
    "    #注意，更换不同的max_bin需要重新构造LightGBM的训练数据才能生效\n",
    "    train_set = lgb.Dataset(train_data, label=train_label)\n",
    "    test_set = lgb.Dataset(test_data, label=test_label, reference=train_set)\n",
    "\n",
    "    time_start = time.time()\n",
    "    model = lgb.train(params=params_with_max_bin,\n",
    "                  train_set=train_set)\n",
    "    time_end = time.time()\n",
    "    score = model.predict(test_data)\n",
    "    l2_loss = np.mean((score - test_label) ** 2)\n",
    "    print(\"with max_bin %d, training time %s seconds, l2_loss %f\" % (max_bin, (time_end - time_start), l2_loss))"
   ]
  },
  {
   "cell_type": "markdown",
   "metadata": {},
   "source": [
    "可以看到$max\\_bin$增大到一定值以后，训练时间明显变慢，并且也未必能带来准确率上的优势。在以上结果中，测试集上损失函数最低的是使用$max\\_bin=64$。除了$max\\_bin=16$以外，其他结果的损失函数值没有太大差别，说明准确率对$max\\_bin$并不是很敏感。"
   ]
  },
  {
   "cell_type": "markdown",
   "metadata": {},
   "source": [
    "#### 梯度单边采样(GOSS)"
   ]
  },
  {
   "cell_type": "markdown",
   "metadata": {},
   "source": [
    "以上过程使用的采样策略为默认的随机等概率采样，即每个决策树随机等概率采样$bagging\\_fraction$指定的样本比例。在背景介绍中，我们提到了LightGBM实现了一种更高效的采样方法GOSS，它基于梯度对样本进行采样，从而减少采样带来的准确率损失。GOSS的采样率由两个超参数决定，其中$top\\_rate$指定了梯度最大的被保留的样本比例（对应背景介绍部分的$a$），$other\\_rate$指定了剩余样本中随机等概率采样的比例（对应背景介绍部分的$b$）。为了比较GOSS和随机等概率采样的效果，将自动搜参得到的最优参数中的$bagging\\_fraction$替换为两个$top\\_rate$和$other\\_rate$的值，并使得$top\\_rate+other\\_rate=bagging\\_fraction$，并设置$boosting\\_type$为$goss$（默认的$boosting\\_type$为$gbdt$）。"
   ]
  },
  {
   "cell_type": "code",
   "execution_count": null,
   "metadata": {
    "pycharm": {
     "is_executing": false
    }
   },
   "outputs": [],
   "source": [
    "bagging_fraction = 0.7527564678754335\n",
    "params_with_goss = {\n",
    "    \"top_rate\": 0.3,\n",
    "    \"other_rate\": bagging_fraction - 0.3,\n",
    "    \"boosting_type\": \"goss\",\n",
    "    \"num_leaves\":8,\n",
    "    \"learning_rate\":0.044462958967770576,\n",
    "    \"min_data_in_leaf\":16,\n",
    "    \"lambda_l2\":0.06611960419049324,\n",
    "    \"feature_fraction\":0.6830879424448291,\n",
    "    \"objective\": \"regression\"\n",
    "}\n",
    "params_with_goss.update({\"num_trees\": 53})"
   ]
  },
  {
   "cell_type": "code",
   "execution_count": null,
   "metadata": {
    "pycharm": {
     "is_executing": false
    }
   },
   "outputs": [
    {
     "name": "stdout",
     "output_type": "stream",
     "text": [
      "[LightGBM] [Warning] Auto-choosing col-wise multi-threading, the overhead of testing was 0.080294 seconds.\n",
      "You can set `force_col_wise=true` to remove the overhead.\n",
      "[LightGBM] [Info] Total Bins 5358\n",
      "[LightGBM] [Info] Number of data points in the train set: 1524500, number of used features: 24\n",
      "[LightGBM] [Info] Using GOSS\n",
      "[LightGBM] [Info] Start training from score 1.386903\n"
     ]
    },
    {
     "data": {
      "text/plain": [
       "4.1686802849049185"
      ]
     },
     "execution_count": 45,
     "metadata": {},
     "output_type": "execute_result"
    }
   ],
   "source": [
    "train_set = lgb.Dataset(train_data, label=train_label)\n",
    "test_set = lgb.Dataset(test_data, label=test_label, reference=train_set)\n",
    "model = lgb.train(params=params_with_goss,\n",
    "                  train_set=train_set)\n",
    "score = model.predict(test_data)\n",
    "l2_loss = np.mean((score - test_label) ** 2)\n",
    "l2_loss"
   ]
  },
  {
   "cell_type": "markdown",
   "metadata": {},
   "source": [
    "上面我们随机选取了top_rate=0.3，使用GOSS的结果略好于同采样比例的等概率随机采样(4.186709)。尝试不同的top_rate，可发现GOSS一致地好于普通的等概率随机采样。"
   ]
  },
  {
   "cell_type": "code",
   "execution_count": null,
   "metadata": {
    "pycharm": {
     "is_executing": false
    }
   },
   "outputs": [
    {
     "name": "stdout",
     "output_type": "stream",
     "text": [
      "l2_loss with top rate 0.100000 = 4.162216\n",
      "l2_loss with top rate 0.200000 = 4.145472\n",
      "l2_loss with top rate 0.300000 = 4.168680\n",
      "l2_loss with top rate 0.400000 = 4.174883\n",
      "l2_loss with top rate 0.500000 = 4.197601\n",
      "l2_loss with top rate 0.600000 = 4.183351\n"
     ]
    }
   ],
   "source": [
    "for top_rate in [0.1, 0.2, 0.3, 0.4, 0.5, 0.6]:\n",
    "    bagging_fraction = 0.7527564678754335\n",
    "    params_with_goss = {\n",
    "        \"top_rate\": top_rate,\n",
    "        \"other_rate\": bagging_fraction - top_rate,\n",
    "        \"boosting_type\": \"goss\",\n",
    "        \"num_leaves\":8,\n",
    "        \"learning_rate\":0.044462958967770576,\n",
    "        \"min_data_in_leaf\":16,\n",
    "        \"lambda_l2\":0.06611960419049324,\n",
    "        \"feature_fraction\":0.6830879424448291,\n",
    "        \"objective\": \"regression\"\n",
    "    }\n",
    "    params_with_goss.update({\"num_trees\": 53, \"verbose\":-1})\n",
    "    train_set = lgb.Dataset(train_data, label=train_label)\n",
    "    test_set = lgb.Dataset(test_data, label=test_label, reference=train_set)\n",
    "    model = lgb.train(params=params_with_goss,\n",
    "                      train_set=train_set)\n",
    "    score = model.predict(test_data)\n",
    "    l2_loss = np.mean((score - test_label) ** 2)\n",
    "    print(\"l2_loss with top rate %f = %f\" % (top_rate, l2_loss))"
   ]
  }
 ],
 "metadata": {
  "kernelspec": {
   "display_name": "ml",
   "language": "python",
   "name": "python3"
  },
  "language_info": {
   "codemirror_mode": {
    "name": "ipython",
    "version": 3
   },
   "file_extension": ".py",
   "mimetype": "text/x-python",
   "name": "python",
   "nbconvert_exporter": "python",
   "pygments_lexer": "ipython3",
   "version": "3.7.6"
  }
 },
 "nbformat": 4,
 "nbformat_minor": 4
}
